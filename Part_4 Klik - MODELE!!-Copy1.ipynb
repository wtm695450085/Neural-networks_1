{
 "cells": [
  {
   "cell_type": "markdown",
   "metadata": {},
   "source": [
    "# Part_4 Klik - PyTorch clasyfikacja przez sieć neuronową!!\n",
    "07:05\n",
    "\n",
    "https://www.researchgate.net/post/What_methods_are_suitable_for_feature_selection_to_improve_classification_accuracy\n",
    "\n",
    "https://www.researchgate.net/post/What_methods_are_suitable_for_feature_selection_to_improve_classification_accuracy\n"
   ]
  },
  {
   "cell_type": "code",
   "execution_count": 1,
   "metadata": {},
   "outputs": [
    {
     "name": "stdout",
     "output_type": "stream",
     "text": [
      "Sun Mar 15 07:05:37 2020\n"
     ]
    }
   ],
   "source": [
    "import time\n",
    "start_time = time.time() ## pomiar czasu: start pomiaru czasu\n",
    "print(time.ctime())"
   ]
  },
  {
   "cell_type": "markdown",
   "metadata": {},
   "source": [
    "# <div class=\"alert-danger\">Przegub</div>"
   ]
  },
  {
   "cell_type": "code",
   "execution_count": 2,
   "metadata": {},
   "outputs": [
    {
     "name": "stdout",
     "output_type": "stream",
     "text": [
      "Index(['klik', 'CYF_kat4', 'CYF_kat5', 'CYF_kat6', 'CYF_kat7', 'CYF_kat8',\n",
      "       'CYF_kat9'],\n",
      "      dtype='object')\n",
      "(1000, 7)\n"
     ]
    }
   ],
   "source": [
    "import pandas as pd\n",
    "import numpy as np\n",
    "import matplotlib.pyplot as plt\n",
    "\n",
    "df3 = pd.read_csv('/home/wojciech/Pulpit/4/kliki_uczenie2.csv', \n",
    "                  usecols = ('klik','CYF_kat4', 'CYF_kat5', 'CYF_kat6', 'CYF_kat7', 'CYF_kat8', 'CYF_kat9'),nrows=1000\n",
    "                  )\n",
    "print(df3.columns)\n",
    "print(df3.shape)\n"
   ]
  },
  {
   "cell_type": "markdown",
   "metadata": {},
   "source": [
    "### <span style=\"color:pink\">Dołączam do zbioru"
   ]
  },
  {
   "cell_type": "markdown",
   "metadata": {},
   "source": [
    "### <span style=\"color:blue\">Wybór zmiennych do analizy</span>"
   ]
  },
  {
   "cell_type": "raw",
   "metadata": {},
   "source": [
    "df3 = df[['klik', 'CYF_kat4','CYF_aplikacja_id','CYF_kat3','CYF_urz_polaczenie',\n",
    "          'CYF_KL_strona_id','CYF_KL_aplikacja_id',\n",
    "          'CYF_KL_aplikacja_domena','CYF_KL4_aplikacja_kategoria','CYF_KL0_aplikacja_kategoria',\n",
    "          'CYF_KL_kat3', 'CYF_KL_kat4', 'CYF_KL1_kat6','CYF_KL2_kat6',\n",
    "          'CYF_KL1_kat9','CYF_KL2_kat9', 'CYF_KL3_kat9','CYF_KL1_kat7',\n",
    "          'NZS1','NZS2','NZS3','NZS4','NZS5','NZS6','NZS7','NZS8']]\n"
   ]
  },
  {
   "cell_type": "raw",
   "metadata": {},
   "source": [
    "df3 = df[['klik', 'CYF_baner_pozycja', 'CYF_strona_id', 'CYF_strona_domena',\n",
    "       'CYF_strona_kategoria', 'CYF_aplikacja_id', 'CYF_aplikacja_domena',\n",
    "       'CYF_aplikacja_kategoria', 'CYF_urz_id', 'CYF_urz_ip', 'CYF_urz_model',\n",
    "       'CYF_urz_typ', 'CYF_urz_polaczenie', 'CYF_kat1', 'CYF_kat2', 'CYF_kat3',\n",
    "       'CYF_kat4', 'CYF_kat5', 'CYF_kat6', 'CYF_kat7', 'CYF_kat8', 'CYF_kat9',\n",
    "       'CYF_data_godzina', 'CYF_KL_strona_id', 'CYF_KL_aplikacja_id',\n",
    "       'CYF_KL_aplikacja_domena', 'CYF_KL4_aplikacja_kategoria',\n",
    "       'CYF_KL0_aplikacja_kategoria', 'CYF_KL_kat3', 'CYF_KL_kat4',\n",
    "       'CYF_KL1_kat6', 'CYF_KL2_kat6', 'CYF_KL1_kat9', 'CYF_KL2_kat9',\n",
    "       'CYF_KL3_kat9', 'CYF_KL1_kat7','NZS1','NZS2','NZS3','NZS4','NZS5','NZS6','NZS7','NZS8'\n",
    "          ]]\n"
   ]
  },
  {
   "cell_type": "raw",
   "metadata": {},
   "source": [
    "df3 = df[['klik', 'CYF_baner_pozycja', 'CYF_strona_id', 'CYF_strona_domena',\n",
    "       'CYF_strona_kategoria', 'CYF_aplikacja_id', 'CYF_aplikacja_domena',\n",
    "       'CYF_aplikacja_kategoria', 'CYF_urz_id', 'CYF_urz_ip', 'CYF_urz_model',\n",
    "       'CYF_urz_typ', 'CYF_urz_polaczenie', 'CYF_kat1', 'CYF_kat2', 'CYF_kat3',\n",
    "       'CYF_kat4', 'CYF_kat5', 'CYF_kat6', 'CYF_kat7', 'CYF_kat8', 'CYF_kat9',\n",
    "       'CYF_data_godzina', 'CYF_KL_strona_id', 'CYF_KL_aplikacja_id',\n",
    "       'CYF_KL_aplikacja_domena', 'CYF_KL4_aplikacja_kategoria',\n",
    "       'CYF_KL0_aplikacja_kategoria', 'CYF_KL_kat3', 'CYF_KL_kat4',\n",
    "       'CYF_KL1_kat6', 'CYF_KL2_kat6', 'CYF_KL1_kat9', 'CYF_KL2_kat9',\n",
    "       'CYF_KL3_kat9', 'CYF_KL1_kat7','NZS2','NZS7','NZS1','NZS3'\n",
    "          ]]\n"
   ]
  },
  {
   "cell_type": "raw",
   "metadata": {},
   "source": [
    "df3 = df[['klik','NZS1','NZS2','NZS3','NZS4','NZS5','NZS6','NZS7','NZS8']]\n",
    "# NZS4, 'NZS5',,'NZS6', 'NZS8,'NZS9'"
   ]
  },
  {
   "cell_type": "markdown",
   "metadata": {},
   "source": [
    "### Usuwanie wartości NaN"
   ]
  },
  {
   "cell_type": "code",
   "execution_count": 3,
   "metadata": {},
   "outputs": [
    {
     "name": "stdout",
     "output_type": "stream",
     "text": [
      "1:  (1000, 7)\n",
      "klik        0\n",
      "CYF_kat4    0\n",
      "CYF_kat5    0\n",
      "CYF_kat6    0\n",
      "CYF_kat7    0\n",
      "CYF_kat8    0\n",
      "CYF_kat9    0\n",
      "dtype: int64\n",
      "2:  (1000, 7)\n"
     ]
    }
   ],
   "source": [
    "print(\"1: \",df3.shape)\n",
    "df3 = df3.dropna(how='any')\n",
    "print(df3.isnull().sum())\n",
    "print(\"2: \",df3.shape)"
   ]
  },
  {
   "cell_type": "raw",
   "metadata": {},
   "source": [
    "#df3['NZS1'] = np.round(df3['NZS1'], decimals=2)\n",
    "#df3['NZS1'] = df3['NZS1'].astype(float)\n",
    "\n",
    "df3['NZS2'] = np.round(df3['NZS2'], decimals=2)\n",
    "df3['NZS2'] = df3['NZS2'].astype(float)\n",
    "\n",
    "df3['NZS3'] = np.round(df3['NZS3'], decimals=2)\n",
    "df3['NZS3'] = df3['NZS3'].astype(float)\n",
    "\n",
    "#df3['NZS4'] = np.round(df3['NZS4'], decimals=2)\n",
    "#df3['NZS4'] = df3['NZS4'].astype(float)\n",
    "\n",
    "#df3['NZS5'] = np.round(df3['NZS5'], decimals=2)\n",
    "#df3['NZS5'] = df3['NZS5'].astype(float)\n",
    "\n",
    "#df3['NZS6'] = np.round(df3['NZS6'], decimals=2)\n",
    "#df3['NZS6'] = df3['NZS6'].astype(float)\n",
    "\n",
    "#df3['NZS7'] = np.round(df3['NZS7'], decimals=2)\n",
    "#df3['NZS7'] = df3['NZS7'].astype(float)\n",
    "\n",
    "#df3['NZS8'] = np.round(df3['NZS8'], decimals=2)\n",
    "#df3['NZS8'] = df3['NZS8'].astype(float)"
   ]
  },
  {
   "cell_type": "code",
   "execution_count": 4,
   "metadata": {},
   "outputs": [
    {
     "data": {
      "text/plain": [
       "klik        int64\n",
       "CYF_kat4    int64\n",
       "CYF_kat5    int64\n",
       "CYF_kat6    int64\n",
       "CYF_kat7    int64\n",
       "CYF_kat8    int64\n",
       "CYF_kat9    int64\n",
       "dtype: object"
      ]
     },
     "execution_count": 4,
     "metadata": {},
     "output_type": "execute_result"
    }
   ],
   "source": [
    "df3.dtypes"
   ]
  },
  {
   "cell_type": "markdown",
   "metadata": {},
   "source": [
    "# <span style=\"color:green\"> Filtrowanie"
   ]
  },
  {
   "cell_type": "raw",
   "metadata": {},
   "source": [
    "df['CYF_urz_typ'].value_counts()"
   ]
  },
  {
   "cell_type": "raw",
   "metadata": {},
   "source": [
    "print('Przed: ',df3.shape)\n",
    "df3 = df3[df3['CYF_urz_typ']==1]\n",
    "print('Po: ',df3.shape)\n",
    "df3.head()"
   ]
  },
  {
   "cell_type": "markdown",
   "metadata": {},
   "source": [
    "### <span style=\"color:blue\">Podział na zbiór testowy i wynikowy</span>"
   ]
  },
  {
   "cell_type": "code",
   "execution_count": 5,
   "metadata": {},
   "outputs": [],
   "source": [
    "y = df3['klik']\n",
    "X = df3.drop('klik', axis=1)"
   ]
  },
  {
   "cell_type": "code",
   "execution_count": 6,
   "metadata": {},
   "outputs": [
    {
     "name": "stdout",
     "output_type": "stream",
     "text": [
      "Zbiór X treningowy:  (670, 6)\n",
      "Zbiór X testowy:     (330, 6)\n",
      "Zbiór y treningowy:  (670,)\n",
      "Zbiór y testowy:     (330,)\n"
     ]
    }
   ],
   "source": [
    "from sklearn.model_selection import train_test_split \n",
    "Xtrain, Xtest, ytrain, ytest = train_test_split(X,y, test_size=0.33, stratify = y, random_state = 148)\n",
    "\n",
    "print ('Zbiór X treningowy: ',Xtrain.shape)\n",
    "print ('Zbiór X testowy:    ', Xtest.shape)\n",
    "print ('Zbiór y treningowy: ', ytrain.shape)\n",
    "print ('Zbiór y testowy:    ', ytest.shape)"
   ]
  },
  {
   "cell_type": "markdown",
   "metadata": {},
   "source": [
    "### <span style=\"color:blue\">OVERSAMPLING</span>"
   ]
  },
  {
   "cell_type": "code",
   "execution_count": 7,
   "metadata": {},
   "outputs": [
    {
     "name": "stdout",
     "output_type": "stream",
     "text": [
      "ytrain = 0:  547\n",
      "ytrain = 1:  123\n"
     ]
    }
   ],
   "source": [
    "print(\"ytrain = 0: \", sum(ytrain == 0))\n",
    "print(\"ytrain = 1: \", sum(ytrain == 1))"
   ]
  },
  {
   "cell_type": "code",
   "execution_count": 8,
   "metadata": {},
   "outputs": [
    {
     "name": "stdout",
     "output_type": "stream",
     "text": [
      "Ilość -0 klik na -1 klik:  4\n"
     ]
    }
   ],
   "source": [
    "Proporcja = sum(ytrain == 0) / sum(ytrain == 1) \n",
    "Proporcja = np.round(Proporcja, decimals=0)\n",
    "Proporcja = Proporcja.astype(int)\n",
    "print('Ilość -0 klik na -1 klik: ', Proporcja)"
   ]
  },
  {
   "cell_type": "code",
   "execution_count": 9,
   "metadata": {},
   "outputs": [
    {
     "data": {
      "text/plain": [
       "492"
      ]
     },
     "execution_count": 9,
     "metadata": {},
     "output_type": "execute_result"
    }
   ],
   "source": [
    "ytrain_OV = pd.concat([ytrain[ytrain==1]] * Proporcja, axis = 0) \n",
    "ytrain_OV.count()"
   ]
  },
  {
   "cell_type": "markdown",
   "metadata": {},
   "source": [
    "Powiękrzyliśmy ilość zmiennych wynikowych 1. Teraz mamy tę samą liczbę wierszy zmiennych wynikowych i zmiennych niezależnych. Teraz wprowadzamy nowe, dodatkowe zmienne 1 do zbioru treningowego."
   ]
  },
  {
   "cell_type": "code",
   "execution_count": 10,
   "metadata": {},
   "outputs": [
    {
     "data": {
      "text/plain": [
       "492"
      ]
     },
     "execution_count": 10,
     "metadata": {},
     "output_type": "execute_result"
    }
   ],
   "source": [
    "Xtrain_OV = pd.concat([Xtrain.loc[ytrain==1, :]] * Proporcja, axis = 0)\n",
    "ytrain_OV.count()"
   ]
  },
  {
   "cell_type": "code",
   "execution_count": 11,
   "metadata": {},
   "outputs": [
    {
     "name": "stdout",
     "output_type": "stream",
     "text": [
      "ilość elementów w zbiorze Xtrain:      670\n",
      "ilość elementów w zbiorze Xtrain_OV:   1162\n",
      "ilość elementów w zbiorze ytrain:      670\n",
      "ilość elementów w zbiorze ytrain_OV:   1162\n"
     ]
    }
   ],
   "source": [
    "ytrain_OV = pd.concat([ytrain, ytrain_OV], axis = 0).reset_index(drop = True)\n",
    "Xtrain_OV = pd.concat([Xtrain, Xtrain_OV], axis = 0).reset_index(drop = True)\n",
    "\n",
    "print(\"ilość elementów w zbiorze Xtrain:     \", Xtrain.CYF_kat6.count())\n",
    "print(\"ilość elementów w zbiorze Xtrain_OV:  \", Xtrain_OV.CYF_kat6.count())\n",
    "print(\"ilość elementów w zbiorze ytrain:     \", ytrain.count())\n",
    "print(\"ilość elementów w zbiorze ytrain_OV:  \", ytrain_OV.count())"
   ]
  },
  {
   "cell_type": "markdown",
   "metadata": {},
   "source": [
    "Poziom zbilansowania zbioru wynikowego:"
   ]
  },
  {
   "cell_type": "code",
   "execution_count": 12,
   "metadata": {},
   "outputs": [
    {
     "data": {
      "text/plain": [
       "<matplotlib.axes._subplots.AxesSubplot at 0x7f5cd4ed6f50>"
      ]
     },
     "execution_count": 12,
     "metadata": {},
     "output_type": "execute_result"
    },
    {
     "data": {
      "image/png": "[encoded data removed]",
      "text/plain": [
       "<Figure size 432x288 with 1 Axes>"
      ]
     },
     "metadata": {},
     "output_type": "display_data"
    }
   ],
   "source": [
    "ytrain_OV.value_counts(dropna = False, normalize=True).plot(kind='pie')"
   ]
  },
  {
   "cell_type": "code",
   "execution_count": 13,
   "metadata": {},
   "outputs": [
    {
     "data": {
      "text/plain": [
       "CYF_kat4    0\n",
       "CYF_kat5    0\n",
       "CYF_kat6    0\n",
       "CYF_kat7    0\n",
       "CYF_kat8    0\n",
       "CYF_kat9    0\n",
       "dtype: int64"
      ]
     },
     "execution_count": 13,
     "metadata": {},
     "output_type": "execute_result"
    }
   ],
   "source": [
    "Xtest.isnull().sum()"
   ]
  },
  {
   "cell_type": "markdown",
   "metadata": {},
   "source": [
    "## Współczynnik korelacji"
   ]
  },
  {
   "cell_type": "code",
   "execution_count": 14,
   "metadata": {},
   "outputs": [
    {
     "data": {
      "text/plain": [
       "CYF_kat9   -0.123466\n",
       "CYF_kat5   -0.083469\n",
       "CYF_kat8    0.003921\n",
       "CYF_kat7    0.034243\n",
       "CYF_kat6    0.047601\n",
       "CYF_kat4    0.107290\n",
       "klik        1.000000\n",
       "Name: klik, dtype: float64"
      ]
     },
     "execution_count": 14,
     "metadata": {},
     "output_type": "execute_result"
    }
   ],
   "source": [
    "CORREL = df3.corr().sort_values('klik')\n",
    "CORREL['klik']"
   ]
  },
  {
   "cell_type": "raw",
   "metadata": {},
   "source": [
    "plt.figure(figsize=(10,6))\n",
    "CORREL =df3.corr()\n",
    "sns.heatmap(CORREL, annot=True, cbar=False, cmap=\"coolwarm\")\n",
    "plt.title('Macierz korelacji ze zmienną wynikową: Stroke', fontsize=20)"
   ]
  },
  {
   "cell_type": "code",
   "execution_count": 15,
   "metadata": {},
   "outputs": [
    {
     "data": {
      "text/plain": [
       "Text(0, 0.5, 'Zmienne nezależne ciągłe')"
      ]
     },
     "execution_count": 15,
     "metadata": {},
     "output_type": "execute_result"
    },
    {
     "data": {
      "image/png": "[encoded data removed]",
      "text/plain": [
       "<Figure size 720x432 with 1 Axes>"
      ]
     },
     "metadata": {
      "needs_background": "light"
     },
     "output_type": "display_data"
    }
   ],
   "source": [
    "CORREL = df3.corr().sort_values('klik')\n",
    "\n",
    "plt.figure(figsize=(10,6))\n",
    "CORREL['klik'].plot(kind='barh', color='red')\n",
    "plt.title('Korelacja ze zmienną wynikową', fontsize=20)\n",
    "plt.xlabel('Poziom korelacji')\n",
    "plt.ylabel('Zmienne nezależne ciągłe')"
   ]
  },
  {
   "cell_type": "markdown",
   "metadata": {},
   "source": [
    "## Standaryzacja"
   ]
  },
  {
   "cell_type": "raw",
   "metadata": {},
   "source": [
    "from sklearn.preprocessing import MinMaxScaler\n",
    "\n",
    "scaler = MinMaxScaler(feature_range = (0,1))\n",
    "\n",
    "scaler.fit(Xtrain_OV)\n",
    "Xtrain_OV = scaler.transform(Xtrain_OV)\n",
    "Xtest = scaler.transform(Xtest)"
   ]
  },
  {
   "cell_type": "markdown",
   "metadata": {},
   "source": [
    "# # <span style=\"color:blue\"> Model regresji logistycznej ze słabą siatką GRID</span>"
   ]
  },
  {
   "cell_type": "code",
   "execution_count": null,
   "metadata": {},
   "outputs": [],
   "source": []
  },
  {
   "cell_type": "code",
   "execution_count": null,
   "metadata": {},
   "outputs": [],
   "source": []
  },
  {
   "cell_type": "code",
   "execution_count": null,
   "metadata": {},
   "outputs": [],
   "source": []
  },
  {
   "cell_type": "code",
   "execution_count": null,
   "metadata": {},
   "outputs": [],
   "source": [
    "print('Pomiar czasu wykonania tego zadania')\n",
    "print('Minut: ',(time.time() - start_time)/60) ## koniec pomiaru czasu"
   ]
  }
 ],
 "metadata": {
  "kernelspec": {
   "display_name": "Python 3",
   "language": "python",
   "name": "python3"
  },
  "language_info": {
   "codemirror_mode": {
    "name": "ipython",
    "version": 3
   },
   "file_extension": ".py",
   "mimetype": "text/x-python",
   "name": "python",
   "nbconvert_exporter": "python",
   "pygments_lexer": "ipython3",
   "version": "3.7.4"
  }
 },
 "nbformat": 4,
 "nbformat_minor": 2
}
