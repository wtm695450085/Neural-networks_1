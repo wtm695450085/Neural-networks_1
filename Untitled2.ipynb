{
 "cells": [
  {
   "cell_type": "markdown",
   "metadata": {},
   "source": [
    "# Klik 5: WIZUALIZACJE DANYCH\n",
    "\n",
    "11:05 - 12:10\n",
    "\n",
    "Jest ogromna ilość danych których nie mogę zrozumieć bo te dane bez podzielenia nie dają się modelować, modele wychodzą bardzo słabe. Zacznę od zbadania danych pod kontem ich właściwości w grupach wewnątrz zmiennych."
   ]
  },
  {
   "cell_type": "code",
   "execution_count": 8,
   "metadata": {},
   "outputs": [
    {
     "data": {
      "text/plain": [
       "Index(['Unnamed: 0', 'klik', 'CYF_baner_pozycja', 'CYF_strona_id',\n",
       "       'CYF_strona_domena', 'CYF_strona_kategoria', 'CYF_aplikacja_id',\n",
       "       'CYF_aplikacja_domena', 'CYF_aplikacja_kategoria', 'CYF_urz_id',\n",
       "       'CYF_urz_ip', 'CYF_urz_model', 'CYF_urz_typ', 'CYF_urz_polaczenie',\n",
       "       'CYF_kat1', 'CYF_kat2', 'CYF_kat3', 'CYF_kat4', 'CYF_kat5', 'CYF_kat6',\n",
       "       'CYF_kat7', 'CYF_kat8', 'CYF_kat9', 'CYF_data_godzina',\n",
       "       'CYF_KL_strona_id', 'CYF_KL_aplikacja_id', 'CYF_KL_aplikacja_domena',\n",
       "       'CYF_KL4_aplikacja_kategoria', 'CYF_KL0_aplikacja_kategoria',\n",
       "       'CYF_KL_kat3', 'CYF_KL_kat4', 'CYF_KL1_kat6', 'CYF_KL2_kat6',\n",
       "       'CYF_KL1_kat9', 'CYF_KL2_kat9', 'CYF_KL3_kat9', 'CYF_KL1_kat7', 'NZS1',\n",
       "       'NZS2', 'NZS3', 'NZS4', 'NZS5', 'NZS6', 'NZS7', 'NZS8', 'NZS9'],\n",
       "      dtype='object')"
      ]
     },
     "execution_count": 8,
     "metadata": {},
     "output_type": "execute_result"
    }
   ],
   "source": [
    "import pandas as pd\n",
    "\n",
    "df = pd.read_csv('/home/wojciech/Pulpit/4/kliki_uczenie2.csv')\n",
    "df.columns"
   ]
  },
  {
   "cell_type": "code",
   "execution_count": 9,
   "metadata": {},
   "outputs": [
    {
     "data": {
      "text/html": [
       "<div>\n",
       "<style scoped>\n",
       "    .dataframe tbody tr th:only-of-type {\n",
       "        vertical-align: middle;\n",
       "    }\n",
       "\n",
       "    .dataframe tbody tr th {\n",
       "        vertical-align: top;\n",
       "    }\n",
       "\n",
       "    .dataframe thead th {\n",
       "        text-align: right;\n",
       "    }\n",
       "</style>\n",
       "<table border=\"1\" class=\"dataframe\">\n",
       "  <thead>\n",
       "    <tr style=\"text-align: right;\">\n",
       "      <th></th>\n",
       "      <th>Unnamed: 0</th>\n",
       "      <th>klik</th>\n",
       "      <th>CYF_baner_pozycja</th>\n",
       "      <th>CYF_strona_id</th>\n",
       "      <th>CYF_strona_domena</th>\n",
       "      <th>CYF_strona_kategoria</th>\n",
       "      <th>CYF_aplikacja_id</th>\n",
       "      <th>CYF_aplikacja_domena</th>\n",
       "      <th>CYF_aplikacja_kategoria</th>\n",
       "      <th>CYF_urz_id</th>\n",
       "      <th>...</th>\n",
       "      <th>CYF_KL1_kat7</th>\n",
       "      <th>NZS1</th>\n",
       "      <th>NZS2</th>\n",
       "      <th>NZS3</th>\n",
       "      <th>NZS4</th>\n",
       "      <th>NZS5</th>\n",
       "      <th>NZS6</th>\n",
       "      <th>NZS7</th>\n",
       "      <th>NZS8</th>\n",
       "      <th>NZS9</th>\n",
       "    </tr>\n",
       "  </thead>\n",
       "  <tbody>\n",
       "    <tr>\n",
       "      <td>0</td>\n",
       "      <td>0</td>\n",
       "      <td>0</td>\n",
       "      <td>0</td>\n",
       "      <td>1773</td>\n",
       "      <td>3205</td>\n",
       "      <td>6</td>\n",
       "      <td>4718</td>\n",
       "      <td>134</td>\n",
       "      <td>4</td>\n",
       "      <td>307295</td>\n",
       "      <td>...</td>\n",
       "      <td>0</td>\n",
       "      <td>7</td>\n",
       "      <td>2</td>\n",
       "      <td>0</td>\n",
       "      <td>2</td>\n",
       "      <td>2</td>\n",
       "      <td>-1</td>\n",
       "      <td>4</td>\n",
       "      <td>17</td>\n",
       "      <td>inf</td>\n",
       "    </tr>\n",
       "    <tr>\n",
       "      <td>1</td>\n",
       "      <td>1</td>\n",
       "      <td>0</td>\n",
       "      <td>0</td>\n",
       "      <td>406</td>\n",
       "      <td>3944</td>\n",
       "      <td>2</td>\n",
       "      <td>4353</td>\n",
       "      <td>123</td>\n",
       "      <td>0</td>\n",
       "      <td>307295</td>\n",
       "      <td>...</td>\n",
       "      <td>0</td>\n",
       "      <td>7</td>\n",
       "      <td>9</td>\n",
       "      <td>0</td>\n",
       "      <td>2</td>\n",
       "      <td>2</td>\n",
       "      <td>1</td>\n",
       "      <td>3</td>\n",
       "      <td>12</td>\n",
       "      <td>1.0</td>\n",
       "    </tr>\n",
       "  </tbody>\n",
       "</table>\n",
       "<p>2 rows × 46 columns</p>\n",
       "</div>"
      ],
      "text/plain": [
       "   Unnamed: 0  klik  CYF_baner_pozycja  CYF_strona_id  CYF_strona_domena  \\\n",
       "0           0     0                  0           1773               3205   \n",
       "1           1     0                  0            406               3944   \n",
       "\n",
       "   CYF_strona_kategoria  CYF_aplikacja_id  CYF_aplikacja_domena  \\\n",
       "0                     6              4718                   134   \n",
       "1                     2              4353                   123   \n",
       "\n",
       "   CYF_aplikacja_kategoria  CYF_urz_id  ...  CYF_KL1_kat7  NZS1  NZS2  NZS3  \\\n",
       "0                        4      307295  ...             0     7     2     0   \n",
       "1                        0      307295  ...             0     7     9     0   \n",
       "\n",
       "   NZS4  NZS5  NZS6  NZS7  NZS8  NZS9  \n",
       "0     2     2    -1     4    17   inf  \n",
       "1     2     2     1     3    12   1.0  \n",
       "\n",
       "[2 rows x 46 columns]"
      ]
     },
     "execution_count": 9,
     "metadata": {},
     "output_type": "execute_result"
    }
   ],
   "source": [
    "df.head(2)"
   ]
  },
  {
   "cell_type": "code",
   "execution_count": null,
   "metadata": {},
   "outputs": [],
   "source": []
  }
 ],
 "metadata": {
  "kernelspec": {
   "display_name": "Python 3",
   "language": "python",
   "name": "python3"
  },
  "language_info": {
   "codemirror_mode": {
    "name": "ipython",
    "version": 3
   },
   "file_extension": ".py",
   "mimetype": "text/x-python",
   "name": "python",
   "nbconvert_exporter": "python",
   "pygments_lexer": "ipython3",
   "version": "3.7.4"
  }
 },
 "nbformat": 4,
 "nbformat_minor": 2
}
