{
 "cells": [
  {
   "cell_type": "markdown",
   "metadata": {},
   "source": [
    "# (Stroke_Prediction) RANDOM FOREST DIAGNOSTIC\n",
    "https://jakevdp.github.io/PythonDataScienceHandbook/05.08-random-forests.html\n",
    "W tej części przeprowadzę klasyfikację za pomocą modeli\n",
    "1. Model regresji logistycznej\n",
    "2. Random Forest Classifier\n",
    "3. Naive Bayes Classifier\n",
    "4. Support Vector Machine Classifier\n",
    "\n",
    "Z powodu zastosowania systemów optymalizacji sklearn.pipeline i GridSearchCV niektóre modele bardzo długo się liczą. \n",
    "Dlatego zostały one zablokowane."
   ]
  },
  {
   "cell_type": "code",
   "execution_count": 1,
   "metadata": {},
   "outputs": [
    {
     "name": "stdout",
     "output_type": "stream",
     "text": [
      "Fri Mar 20 11:12:33 2020\n",
      "Pomiar czasu wykonania tego zadania\n"
     ]
    }
   ],
   "source": [
    "import time\n",
    "start_time = time.time() ## pomiar czasu: start pomiaru czasu\n",
    "print(time.ctime())\n",
    "print('Pomiar czasu wykonania tego zadania')"
   ]
  },
  {
   "cell_type": "code",
   "execution_count": 2,
   "metadata": {},
   "outputs": [
    {
     "name": "stdout",
     "output_type": "stream",
     "text": [
      "(29000, 20)\n"
     ]
    },
    {
     "data": {
      "text/html": [
       "<div>\n",
       "<style scoped>\n",
       "    .dataframe tbody tr th:only-of-type {\n",
       "        vertical-align: middle;\n",
       "    }\n",
       "\n",
       "    .dataframe tbody tr th {\n",
       "        vertical-align: top;\n",
       "    }\n",
       "\n",
       "    .dataframe thead th {\n",
       "        text-align: right;\n",
       "    }\n",
       "</style>\n",
       "<table border=\"1\" class=\"dataframe\">\n",
       "  <thead>\n",
       "    <tr style=\"text-align: right;\">\n",
       "      <th></th>\n",
       "      <th>Unnamed: 0</th>\n",
       "      <th>ID</th>\n",
       "      <th>Gender</th>\n",
       "      <th>Hypertension</th>\n",
       "      <th>Heart_Disease</th>\n",
       "      <th>Ever_Married</th>\n",
       "      <th>Type_Of_Work</th>\n",
       "      <th>Residence</th>\n",
       "      <th>Avg_Glucose</th>\n",
       "      <th>BMI</th>\n",
       "      <th>Smoking_Status</th>\n",
       "      <th>Stroke</th>\n",
       "      <th>Age_years</th>\n",
       "      <th>Age_years_10</th>\n",
       "      <th>Gender_C</th>\n",
       "      <th>Ever_Married_C</th>\n",
       "      <th>Type_Of_Work_C</th>\n",
       "      <th>Residence_C</th>\n",
       "      <th>Smoking_Status_C</th>\n",
       "      <th>Age_years_10_C</th>\n",
       "    </tr>\n",
       "  </thead>\n",
       "  <tbody>\n",
       "    <tr>\n",
       "      <td>0</td>\n",
       "      <td>0</td>\n",
       "      <td>30650</td>\n",
       "      <td>Male</td>\n",
       "      <td>1</td>\n",
       "      <td>0</td>\n",
       "      <td>Yes</td>\n",
       "      <td>Private</td>\n",
       "      <td>Urban</td>\n",
       "      <td>87.96</td>\n",
       "      <td>39.2</td>\n",
       "      <td>never smoked</td>\n",
       "      <td>0</td>\n",
       "      <td>58.093151</td>\n",
       "      <td>(53.126, 59.076]</td>\n",
       "      <td>1</td>\n",
       "      <td>1</td>\n",
       "      <td>2</td>\n",
       "      <td>1</td>\n",
       "      <td>1</td>\n",
       "      <td>5</td>\n",
       "    </tr>\n",
       "    <tr>\n",
       "      <td>1</td>\n",
       "      <td>1</td>\n",
       "      <td>57008</td>\n",
       "      <td>Female</td>\n",
       "      <td>0</td>\n",
       "      <td>0</td>\n",
       "      <td>Yes</td>\n",
       "      <td>Private</td>\n",
       "      <td>Rural</td>\n",
       "      <td>69.04</td>\n",
       "      <td>35.9</td>\n",
       "      <td>formerly smoked</td>\n",
       "      <td>0</td>\n",
       "      <td>70.076712</td>\n",
       "      <td>(65.121, 74.11]</td>\n",
       "      <td>0</td>\n",
       "      <td>1</td>\n",
       "      <td>2</td>\n",
       "      <td>0</td>\n",
       "      <td>0</td>\n",
       "      <td>7</td>\n",
       "    </tr>\n",
       "    <tr>\n",
       "      <td>2</td>\n",
       "      <td>2</td>\n",
       "      <td>53725</td>\n",
       "      <td>Female</td>\n",
       "      <td>0</td>\n",
       "      <td>0</td>\n",
       "      <td>Yes</td>\n",
       "      <td>Private</td>\n",
       "      <td>Urban</td>\n",
       "      <td>77.59</td>\n",
       "      <td>17.7</td>\n",
       "      <td>formerly smoked</td>\n",
       "      <td>0</td>\n",
       "      <td>52.041096</td>\n",
       "      <td>(48.082, 53.126]</td>\n",
       "      <td>0</td>\n",
       "      <td>1</td>\n",
       "      <td>2</td>\n",
       "      <td>1</td>\n",
       "      <td>0</td>\n",
       "      <td>4</td>\n",
       "    </tr>\n",
       "    <tr>\n",
       "      <td>3</td>\n",
       "      <td>3</td>\n",
       "      <td>41553</td>\n",
       "      <td>Female</td>\n",
       "      <td>0</td>\n",
       "      <td>1</td>\n",
       "      <td>Yes</td>\n",
       "      <td>Self-employed</td>\n",
       "      <td>Rural</td>\n",
       "      <td>243.53</td>\n",
       "      <td>27.0</td>\n",
       "      <td>never smoked</td>\n",
       "      <td>0</td>\n",
       "      <td>75.104110</td>\n",
       "      <td>(74.11, 82.137]</td>\n",
       "      <td>0</td>\n",
       "      <td>1</td>\n",
       "      <td>3</td>\n",
       "      <td>0</td>\n",
       "      <td>1</td>\n",
       "      <td>8</td>\n",
       "    </tr>\n",
       "    <tr>\n",
       "      <td>4</td>\n",
       "      <td>4</td>\n",
       "      <td>16167</td>\n",
       "      <td>Female</td>\n",
       "      <td>0</td>\n",
       "      <td>0</td>\n",
       "      <td>Yes</td>\n",
       "      <td>Private</td>\n",
       "      <td>Rural</td>\n",
       "      <td>77.67</td>\n",
       "      <td>32.3</td>\n",
       "      <td>smokes</td>\n",
       "      <td>0</td>\n",
       "      <td>32.024658</td>\n",
       "      <td>(29.055, 36.058]</td>\n",
       "      <td>0</td>\n",
       "      <td>1</td>\n",
       "      <td>2</td>\n",
       "      <td>0</td>\n",
       "      <td>2</td>\n",
       "      <td>1</td>\n",
       "    </tr>\n",
       "  </tbody>\n",
       "</table>\n",
       "</div>"
      ],
      "text/plain": [
       "   Unnamed: 0     ID  Gender  Hypertension  Heart_Disease Ever_Married  \\\n",
       "0           0  30650    Male             1              0          Yes   \n",
       "1           1  57008  Female             0              0          Yes   \n",
       "2           2  53725  Female             0              0          Yes   \n",
       "3           3  41553  Female             0              1          Yes   \n",
       "4           4  16167  Female             0              0          Yes   \n",
       "\n",
       "    Type_Of_Work Residence  Avg_Glucose   BMI   Smoking_Status  Stroke  \\\n",
       "0        Private     Urban        87.96  39.2     never smoked       0   \n",
       "1        Private     Rural        69.04  35.9  formerly smoked       0   \n",
       "2        Private     Urban        77.59  17.7  formerly smoked       0   \n",
       "3  Self-employed     Rural       243.53  27.0     never smoked       0   \n",
       "4        Private     Rural        77.67  32.3           smokes       0   \n",
       "\n",
       "   Age_years      Age_years_10  Gender_C  Ever_Married_C  Type_Of_Work_C  \\\n",
       "0  58.093151  (53.126, 59.076]         1               1               2   \n",
       "1  70.076712   (65.121, 74.11]         0               1               2   \n",
       "2  52.041096  (48.082, 53.126]         0               1               2   \n",
       "3  75.104110   (74.11, 82.137]         0               1               3   \n",
       "4  32.024658  (29.055, 36.058]         0               1               2   \n",
       "\n",
       "   Residence_C  Smoking_Status_C  Age_years_10_C  \n",
       "0            1                 1               5  \n",
       "1            0                 0               7  \n",
       "2            1                 0               4  \n",
       "3            0                 1               8  \n",
       "4            0                 2               1  "
      ]
     },
     "execution_count": 2,
     "metadata": {},
     "output_type": "execute_result"
    }
   ],
   "source": [
    "import pandas as pd\n",
    "import numpy as np\n",
    "import seaborn as sns\n",
    "import matplotlib.pyplot as plt\n",
    "%matplotlib inline\n",
    "\n",
    "df= pd.read_csv('/home/wojciech/Pulpit/1/Stroke_Prediction_NUM.csv' , nrows = 29000)\n",
    "# , nrows = 290\n",
    "headers = ['ID', 'Gender', 'Hypertension', 'Heart_Disease', 'Ever_Married',\n",
    "       'Type_Of_Work', 'Residence', 'Avg_Glucose', 'BMI', 'Smoking_Status',\n",
    "       'Stroke', 'Age_years', 'Age_years_10', 'Gender_C', 'Ever_Married_C',\n",
    "       'Type_Of_Work_C', 'Residence_C', 'Smoking_Status_C', 'Age_years_10_C']\n",
    "#grupa_testowa= pd.read_csv('c:/1/Stroke_Prediction_NUM.csv', skiprows = 29000, header=None, names=headers)\n",
    "# , nrows = 1000\n",
    "print(df.shape)\n",
    "#print(grupa_testowa.shape)\n",
    "df.head(5)"
   ]
  },
  {
   "cell_type": "markdown",
   "metadata": {},
   "source": [
    "### <span style=\"color:blue\">Wprowadzam zmienną syntetyczną</span>\n",
    "\n",
    "Wprowadzanie zmiennych syntetycznych może poprawić zdolności klasyfikacyjne modelu.\n",
    "Tę zmienną zrobiłem, aby pokazać, że stosuję tę technikę."
   ]
  },
  {
   "cell_type": "code",
   "execution_count": 3,
   "metadata": {},
   "outputs": [
    {
     "data": {
      "text/plain": [
       "<matplotlib.axes._subplots.AxesSubplot at 0x7f440e03fed0>"
      ]
     },
     "execution_count": 3,
     "metadata": {},
     "output_type": "execute_result"
    },
    {
     "data": {
      "image/png": "[encoded data removed]",
      "text/plain": [
       "<Figure size 432x288 with 1 Axes>"
      ]
     },
     "metadata": {
      "needs_background": "light"
     },
     "output_type": "display_data"
    }
   ],
   "source": [
    "df['C_Factor'] = (df['BMI']+(5*(df['Age_years_10_C']*df['Smoking_Status_C'])))\n",
    "fig, ax = plt.subplots()\n",
    "df['C_Factor'].plot.kde(ax=ax, legend=False, title='C_Factor')"
   ]
  },
  {
   "cell_type": "markdown",
   "metadata": {},
   "source": [
    "### <span style=\"color:blue\">Analiza poziomu zbilansowania zmiennej wynikowej</span>"
   ]
  },
  {
   "cell_type": "code",
   "execution_count": 4,
   "metadata": {},
   "outputs": [
    {
     "data": {
      "text/plain": [
       "0    0.981172\n",
       "1    0.018828\n",
       "Name: Stroke, dtype: float64"
      ]
     },
     "execution_count": 4,
     "metadata": {},
     "output_type": "execute_result"
    }
   ],
   "source": [
    "del df['Unnamed: 0']\n",
    "df.Stroke.value_counts(dropna = False, normalize=True)"
   ]
  },
  {
   "cell_type": "markdown",
   "metadata": {},
   "source": [
    "Zbiór zmiennych wynikowych wymaga zbilansowania. Do bilansowania zmiennych wynikowych stosuję trzy metody:\n",
    "- class_weight (http://sigmaquality.pl/models/classification/logistic-regression/model-regresji-logistyczne-czesc-4-zastosowanie-class_weight/)\n",
    "-  oversampling (http://sigmaquality.pl/models/classification/logistic-regression/model-regresji-logistycznej-czesc-2-oversampling/)\n",
    "- zmiana progu (http://sigmaquality.pl/models/classification/logistic-regression/model-regresji-logistycznej-czesc-3-zmiana-progu-w-modelu-regresji-logistycznej/)\n",
    "\n",
    "Wszystkie trzy metody powinny dać podobne efekty przy klasyfikacji. Dzisiaj do zbilansowania zbioru zastosuję metodę oversampling. Oversampling odbywa się na zbiorze treningowym, więc najpierw trzeba podzielić zbiór na treningowy i testowy."
   ]
  },
  {
   "cell_type": "markdown",
   "metadata": {},
   "source": [
    "### <span style=\"color:blue\">2. Podział na zbiór testowy i wynikowy</span>"
   ]
  },
  {
   "cell_type": "code",
   "execution_count": 5,
   "metadata": {},
   "outputs": [],
   "source": [
    "df2 = df[['C_Factor','Hypertension','Heart_Disease','Avg_Glucose','BMI','Stroke','Age_years','Gender_C','Ever_Married_C','Type_Of_Work_C','Residence_C','Smoking_Status_C','Age_years_10_C']]"
   ]
  },
  {
   "cell_type": "code",
   "execution_count": 6,
   "metadata": {},
   "outputs": [],
   "source": [
    "y = df2['Stroke']\n",
    "X = df2.drop('Stroke', axis=1)"
   ]
  },
  {
   "cell_type": "code",
   "execution_count": 7,
   "metadata": {},
   "outputs": [
    {
     "name": "stdout",
     "output_type": "stream",
     "text": [
      "Zbiór X treningowy:  (19430, 12)\n",
      "Zbiór X testowy:     (9570, 12)\n",
      "Zbiór y treningowy:  (19430,)\n",
      "Zbiór y testowy:     (9570,)\n"
     ]
    }
   ],
   "source": [
    "from sklearn.model_selection import train_test_split \n",
    "Xtrain, Xtest, ytrain, ytest = train_test_split(X,y, test_size=0.33, stratify = y, random_state = 148)\n",
    "\n",
    "print ('Zbiór X treningowy: ',Xtrain.shape)\n",
    "print ('Zbiór X testowy:    ', Xtest.shape)\n",
    "print ('Zbiór y treningowy: ', ytrain.shape)\n",
    "print ('Zbiór y testowy:    ', ytest.shape)"
   ]
  },
  {
   "cell_type": "code",
   "execution_count": 8,
   "metadata": {},
   "outputs": [
    {
     "name": "stdout",
     "output_type": "stream",
     "text": [
      "ytrain = 0:  19064\n",
      "ytrain = 1:  366\n"
     ]
    }
   ],
   "source": [
    "print(\"ytrain = 0: \", sum(ytrain == 0))\n",
    "print(\"ytrain = 1: \", sum(ytrain == 1))"
   ]
  },
  {
   "cell_type": "code",
   "execution_count": 9,
   "metadata": {},
   "outputs": [
    {
     "name": "stdout",
     "output_type": "stream",
     "text": [
      "Ilość 0 Stroke na 1 Stroke:  52\n"
     ]
    }
   ],
   "source": [
    "Proporcja = sum(ytrain == 0) / sum(ytrain == 1) \n",
    "Proporcja = np.round(Proporcja, decimals=0)\n",
    "Proporcja = Proporcja.astype(int)\n",
    "print('Ilość 0 Stroke na 1 Stroke: ', Proporcja)"
   ]
  },
  {
   "cell_type": "code",
   "execution_count": 10,
   "metadata": {},
   "outputs": [
    {
     "data": {
      "text/plain": [
       "19032"
      ]
     },
     "execution_count": 10,
     "metadata": {},
     "output_type": "execute_result"
    }
   ],
   "source": [
    "ytrain_OVSA = pd.concat([ytrain[ytrain==1]] * Proporcja, axis = 0) \n",
    "ytrain_OVSA.count()"
   ]
  },
  {
   "cell_type": "markdown",
   "metadata": {},
   "source": [
    "Powiękrzyliśmy ilość zmiennych wynikowych 1. Teraz mamy tę samą liczbę wierszy zmiennych wynikowych i zmiennych niezależnych. Teraz wprowadzamy nowe, dodatkowe zmienne 1 do zbioru treningowego."
   ]
  },
  {
   "cell_type": "code",
   "execution_count": 11,
   "metadata": {},
   "outputs": [
    {
     "data": {
      "text/plain": [
       "19032"
      ]
     },
     "execution_count": 11,
     "metadata": {},
     "output_type": "execute_result"
    }
   ],
   "source": [
    "Xtrain_OVSA = pd.concat([Xtrain.loc[ytrain==1, :]] * Proporcja, axis = 0)\n",
    "ytrain_OVSA.count()"
   ]
  },
  {
   "cell_type": "code",
   "execution_count": 12,
   "metadata": {},
   "outputs": [
    {
     "name": "stdout",
     "output_type": "stream",
     "text": [
      "ilość elementów w zbiorze Xtrain:      19430\n",
      "ilość elementów w zbiorze Xtrain_OVSA:  38462\n",
      "ilość elementów w zbiorze ytrain:      19430\n",
      "ilość elementów w zbiorze ytrain_OVSA:  38462\n"
     ]
    }
   ],
   "source": [
    "ytrain_OVSA = pd.concat([ytrain, ytrain_OVSA], axis = 0).reset_index(drop = True)\n",
    "Xtrain_OVSA = pd.concat([Xtrain, Xtrain_OVSA], axis = 0).reset_index(drop = True)\n",
    "\n",
    "print(\"ilość elementów w zbiorze Xtrain:     \", Xtrain.BMI.count())\n",
    "print(\"ilość elementów w zbiorze Xtrain_OVSA: \", Xtrain_OVSA.BMI.count())\n",
    "print(\"ilość elementów w zbiorze ytrain:     \", ytrain.count())\n",
    "print(\"ilość elementów w zbiorze ytrain_OVSA: \", ytrain_OVSA.count())"
   ]
  },
  {
   "cell_type": "markdown",
   "metadata": {},
   "source": [
    "Poziom zbilansowania zbioru wynikowego:"
   ]
  },
  {
   "cell_type": "code",
   "execution_count": 13,
   "metadata": {},
   "outputs": [
    {
     "data": {
      "text/plain": [
       "<matplotlib.axes._subplots.AxesSubplot at 0x7f4408d81190>"
      ]
     },
     "execution_count": 13,
     "metadata": {},
     "output_type": "execute_result"
    },
    {
     "data": {
      "image/png": "[encoded data removed]",
      "text/plain": [
       "<Figure size 432x288 with 1 Axes>"
      ]
     },
     "metadata": {},
     "output_type": "display_data"
    }
   ],
   "source": [
    "ytrain_OVSA.value_counts(dropna = False, normalize=True).plot(kind='pie')"
   ]
  },
  {
   "cell_type": "markdown",
   "metadata": {},
   "source": [
    "### <span style=\"color:blue\">Model regresji logistycznej</span>"
   ]
  },
  {
   "cell_type": "raw",
   "metadata": {},
   "source": [
    "from sklearn import model_selection\n",
    "from sklearn.pipeline import make_pipeline\n",
    "from sklearn.linear_model import LogisticRegression\n",
    "from sklearn.model_selection import GridSearchCV\n",
    "\n",
    "Parameteres = {'C': np.power(10.0, np.arange(-3, 3))}\n",
    "LR = LogisticRegression(warm_start = True)\n",
    "LR_Grid = GridSearchCV(LR, param_grid = Parameteres, scoring = 'roc_auc', n_jobs = -1, cv=2)\n",
    "\n",
    "LR_Grid.fit(Xtrain_OVSA, ytrain_OVSA) \n",
    "y_pred_LRC = LR_Grid.predict(Xtest)"
   ]
  },
  {
   "cell_type": "markdown",
   "metadata": {},
   "source": [
    "Ocena modelu:"
   ]
  },
  {
   "cell_type": "raw",
   "metadata": {},
   "source": [
    "from sklearn import metrics\n",
    "from sklearn.metrics import classification_report, confusion_matrix\n",
    "from sklearn.metrics import confusion_matrix, log_loss, auc, roc_curve, roc_auc_score, recall_score, precision_recall_curve\n",
    "from sklearn.metrics import make_scorer, precision_score, fbeta_score, f1_score, classification_report\n",
    "\n",
    "print(\"Recall Training data:     \", np.round(recall_score(ytrain_OVSA, LR_Grid.predict(Xtrain_OVSA)), decimals=4))\n",
    "print(\"Precision Training data:  \", np.round(precision_score(ytrain_OVSA, LR_Grid.predict(Xtrain_OVSA)), decimals=4))\n",
    "print(\"----------------------------------------------------------------------\")\n",
    "print(\"Recall Test data:         \", np.round(recall_score(ytest, LR_Grid.predict(Xtest)), decimals=4)) \n",
    "print(\"Precision Test data:      \", np.round(precision_score(ytest, LR_Grid.predict(Xtest)), decimals=4))\n",
    "print(\"----------------------------------------------------------------------\")\n",
    "print(\"Confusion Matrix Test data\")\n",
    "print(confusion_matrix(ytest, LR_Grid.predict(Xtest)))\n",
    "print(\"----------------------------------------------------------------------\")\n",
    "print(classification_report(ytest, LR_Grid.predict(Xtest)))\n",
    "y_pred_proba = LR_Grid.predict_proba(Xtest)[::,1]\n",
    "fpr, tpr, _ = metrics.roc_curve(ytest,  y_pred_LRC)\n",
    "auc = metrics.roc_auc_score(ytest, y_pred_LRC)\n",
    "plt.plot(fpr, tpr, label='Logistic Regression (auc = %0.2f)' % auc)\n",
    "plt.xlabel('False Positive Rate',color='grey', fontsize = 13)\n",
    "plt.ylabel('True Positive Rate',color='grey', fontsize = 13)\n",
    "plt.title('Receiver operating characteristic')\n",
    "plt.legend(loc=\"lower right\")\n",
    "plt.legend(loc=4)\n",
    "plt.plot([0, 1], [0, 1],'r--')\n",
    "plt.show()"
   ]
  },
  {
   "cell_type": "markdown",
   "metadata": {},
   "source": [
    "### <span style=\"color:blue\">4. Random Forest Classifier - with pipeline GridSearchCV</span>\n",
    "\n",
    "Hiperparametry:\n",
    "„n_estimators” - liczba drzew. Większa liczba drzew zwiększa wydajność i sprawia, że prognozy są bardziej stabilne, ale także spowalnia obliczenia.\n",
    "\n",
    "„N_jobs” - ile procesorów jest dozwolone do użycia. Jeśli ma wartość 1, może używać tylko jednego procesora. Wartość „-1” oznacza, że nie ma limitu.\n",
    "\n",
    "„Random_state” umożliwia replikację danych wyjściowych modelu. Model zawsze będzie dawał takie same wyniki, gdy ma określoną wartość random_state i jeśli otrzymał te same hiperparametry i te same dane treningowe.\n",
    "\n",
    "„min_sample_leaf” minimalną liczbę listków wymaganych do podziału wewnętrznego węzła."
   ]
  },
  {
   "cell_type": "markdown",
   "metadata": {},
   "source": [
    "## <div class=\"alert-danger\"> Uwaga! Czas obliczeń poniższego modelu trwa 25 minut dla próbki 29 tys.\n",
    "Model został zamrożony dla zaoszczędzenia czasu.</div>   "
   ]
  },
  {
   "cell_type": "raw",
   "metadata": {},
   "source": [
    "from sklearn.pipeline import make_pipeline\n",
    "from sklearn import preprocessing\n",
    "from sklearn.ensemble import RandomForestClassifier\n",
    "from sklearn.model_selection import GridSearchCV\n",
    "from sklearn.datasets import make_classification\n",
    "\n",
    "import time\n",
    "start_time = time.time() ## pomiar czasu: start pomiaru czasu\n",
    "print(time.ctime())\n",
    "print('Pomiar czasu wykonania tego zadania')\n",
    "\n",
    "rfc=RandomForestClassifier(random_state=42)\n",
    "param_grid = { \n",
    "    'n_estimators': [200, 500],\n",
    "    'max_features': ['auto', 'sqrt', 'log2'],\n",
    "    'max_depth' : [4,5,6,7,8],\n",
    "    'criterion' :['gini', 'entropy']\n",
    "}\n",
    "CV_rfc = GridSearchCV(estimator=rfc, param_grid=param_grid, cv= 5)\n",
    "CV_rfc.fit(Xtrain_OVSA, ytrain_OVSA)\n",
    "\n",
    "y_pred_RFC = CV_rfc.predict(Xtest)\n",
    "\n",
    "\n",
    "\n",
    "print(time.time() - start_time) ## koniec pomiaru czasu"
   ]
  },
  {
   "cell_type": "raw",
   "metadata": {},
   "source": [
    "import pprint\n",
    "pparam=pprint.PrettyPrinter(indent=2)\n",
    "print(CV_rfc.best_params_)"
   ]
  },
  {
   "cell_type": "raw",
   "metadata": {},
   "source": [
    "print(\"Recall Training data:     \", np.round(recall_score(ytrain_OVSA, CV_rfc.predict(Xtrain_OVSA)), decimals=4))\n",
    "print(\"Precision Training data:  \", np.round(precision_score(ytrain_OVSA, CV_rfc.predict(Xtrain_OVSA)), decimals=4))\n",
    "print(\"----------------------------------------------------------------------\")\n",
    "print(\"Recall Test data:         \", np.round(recall_score(ytest, CV_rfc.predict(Xtest)), decimals=4)) \n",
    "print(\"Precision Test data:      \", np.round(precision_score(ytest, CV_rfc.predict(Xtest)), decimals=4))\n",
    "print(\"----------------------------------------------------------------------\")\n",
    "print(\"Confusion Matrix Test data\")\n",
    "print(confusion_matrix(ytest, CV_rfc.predict(Xtest)))\n",
    "print(\"----------------------------------------------------------------------\")\n",
    "print(classification_report(ytest, CV_rfc.predict(Xtest)))\n",
    "y_pred_proba = CV_rfc.predict_proba(Xtest)[::,1]\n",
    "fpr, tpr, _ = metrics.roc_curve(ytest,  y_pred_RFC)\n",
    "auc = metrics.roc_auc_score(ytest, y_pred_RFC)\n",
    "plt.plot(fpr, tpr, label='Random Forest (auc = %0.2f)' % auc)\n",
    "plt.xlabel('False Positive Rate',color='grey', fontsize = 13)\n",
    "plt.ylabel('True Positive Rate',color='grey', fontsize = 13)\n",
    "plt.title('Receiver operating characteristic')\n",
    "plt.legend(loc=\"lower right\")\n",
    "plt.legend(loc=4)\n",
    "plt.plot([0, 1], [0, 1],'r--')\n",
    "plt.show()"
   ]
  },
  {
   "cell_type": "markdown",
   "metadata": {},
   "source": [
    "### <span style=\"color:blue\">Random Forest Classifier - simple version</span>\n",
    "Hiperparametry dobrane ręcznie\n",
    "\n",
    "## https://jakevdp.github.io/PythonDataScienceHandbook/05.08-random-forests.html"
   ]
  },
  {
   "cell_type": "code",
   "execution_count": 14,
   "metadata": {},
   "outputs": [],
   "source": [
    "from sklearn.ensemble import RandomForestClassifier\n",
    "\n",
    "forestVC = RandomForestClassifier (random_state = 1, \n",
    "                                  n_estimators = 350, \n",
    "                                  max_depth = 2, \n",
    "                                  min_samples_split = 2, min_samples_leaf = 3) \n",
    "RFC_S = forestVC.fit(Xtrain_OVSA, ytrain_OVSA)\n",
    "y_pred_RFC = RFC_S.predict(Xtest)"
   ]
  },
  {
   "cell_type": "markdown",
   "metadata": {},
   "source": [
    "Ocena modelu:"
   ]
  },
  {
   "cell_type": "code",
   "execution_count": 16,
   "metadata": {},
   "outputs": [
    {
     "name": "stdout",
     "output_type": "stream",
     "text": [
      "Recall Training data:      0.8579\n",
      "Precision Training data:   0.718\n",
      "----------------------------------------------------------------------\n",
      "Recall Test data:          0.8389\n",
      "Precision Test data:       0.0434\n",
      "----------------------------------------------------------------------\n",
      "Confusion Matrix Test data\n",
      "[[6061 3329]\n",
      " [  29  151]]\n",
      "----------------------------------------------------------------------\n",
      "              precision    recall  f1-score   support\n",
      "\n",
      "           0       1.00      0.65      0.78      9390\n",
      "           1       0.04      0.84      0.08       180\n",
      "\n",
      "    accuracy                           0.65      9570\n",
      "   macro avg       0.52      0.74      0.43      9570\n",
      "weighted avg       0.98      0.65      0.77      9570\n",
      "\n"
     ]
    },
    {
     "data": {
      "image/png": "[encoded data removed]",
      "text/plain": [
       "<Figure size 432x288 with 1 Axes>"
      ]
     },
     "metadata": {
      "needs_background": "light"
     },
     "output_type": "display_data"
    }
   ],
   "source": [
    "from sklearn import metrics\n",
    "from sklearn.metrics import classification_report, confusion_matrix\n",
    "from sklearn.metrics import confusion_matrix, log_loss, auc, roc_curve, roc_auc_score, recall_score, precision_recall_curve\n",
    "from sklearn.metrics import make_scorer, precision_score, fbeta_score, f1_score, classification_report\n",
    "\n",
    "\n",
    "print(\"Recall Training data:     \", np.round(recall_score(ytrain_OVSA, RFC_S.predict(Xtrain_OVSA)), decimals=4))\n",
    "print(\"Precision Training data:  \", np.round(precision_score(ytrain_OVSA, RFC_S.predict(Xtrain_OVSA)), decimals=4))\n",
    "print(\"----------------------------------------------------------------------\")\n",
    "print(\"Recall Test data:         \", np.round(recall_score(ytest, RFC_S.predict(Xtest)), decimals=4)) \n",
    "print(\"Precision Test data:      \", np.round(precision_score(ytest, RFC_S.predict(Xtest)), decimals=4))\n",
    "print(\"----------------------------------------------------------------------\")\n",
    "print(\"Confusion Matrix Test data\")\n",
    "print(confusion_matrix(ytest, RFC_S.predict(Xtest)))\n",
    "print(\"----------------------------------------------------------------------\")\n",
    "print(classification_report(ytest, RFC_S.predict(Xtest)))\n",
    "y_pred_proba = RFC_S.predict_proba(Xtest)[::,1]\n",
    "fpr, tpr, _ = metrics.roc_curve(ytest,  y_pred_RFC)\n",
    "auc = metrics.roc_auc_score(ytest, y_pred_RFC)\n",
    "plt.plot(fpr, tpr, label='Random Forest (auc = %0.2f)' % auc)\n",
    "plt.xlabel('False Positive Rate',color='grey', fontsize = 13)\n",
    "plt.ylabel('True Positive Rate',color='grey', fontsize = 13)\n",
    "plt.title('Receiver operating characteristic')\n",
    "plt.legend(loc=\"lower right\")\n",
    "plt.legend(loc=4)\n",
    "plt.plot([0, 1], [0, 1],'r--')\n",
    "plt.show()"
   ]
  },
  {
   "cell_type": "code",
   "execution_count": 30,
   "metadata": {},
   "outputs": [
    {
     "data": {
      "image/png": "[encoded data removed]",
      "text/plain": [
       "<Figure size 1224x360 with 1 Axes>"
      ]
     },
     "metadata": {
      "needs_background": "light"
     },
     "output_type": "display_data"
    }
   ],
   "source": [
    "import matplotlib.pyplot as plt\n",
    "import numpy as np\n",
    "from sklearn.datasets import load_digits\n",
    "from sklearn.ensemble import RandomForestClassifier\n",
    "from sklearn.model_selection import validation_curve\n",
    "\n",
    "## źródło: https://www.dezyre.com/recipes/plot-validation-curve-in-python\n",
    "\n",
    "## Przerabiam data frame na macierz\n",
    "\n",
    "import numpy as np\n",
    "X = np.asarray(Xtrain_OVSA)\n",
    "Y = np.asarray(ytrain_OVSA)\n",
    "\n",
    "digits = load_digits()\n",
    "# Create feature matrix and target vector\n",
    "X, y = digits.data, digits.target\n",
    "# Plot Validation Curve\n",
    "    \n",
    "# Create range of values for parameter\n",
    "param_range = np.arange(1, 275, 2)\n",
    "\n",
    "# Calculate accuracy on training and test set using range of parameter values\n",
    "train_scores, test_scores = validation_curve(RandomForestClassifier(),\n",
    "                               X, y, param_name=\"n_estimators\", param_range=param_range,\n",
    "                               cv=4, scoring=\"accuracy\", n_jobs=-1)\n",
    "\n",
    "  # Calculate mean and standard deviation for training set scores\n",
    "train_mean = np.mean(train_scores, axis=1)\n",
    "train_std = np.std(train_scores, axis=1)\n",
    "\n",
    "    # Calculate mean and standard deviation for test set scores\n",
    "test_mean = np.mean(test_scores, axis=1)\n",
    "test_std = np.std(test_scores, axis=1)\n",
    "\n",
    "    # Plot mean accuracy scores for training and test sets\n",
    "plt.subplots(1, figsize=(17,5))\n",
    "plt.plot(param_range, train_mean, label=\"Training score\", color=\"black\")\n",
    "plt.plot(param_range, test_mean, label=\"Cross-validation score\", color=\"dimgrey\")\n",
    "\n",
    "    # Plot accurancy bands for training and test sets\n",
    "plt.fill_between(param_range, train_mean - train_std, train_mean + train_std, color=\"gray\")\n",
    "plt.fill_between(param_range, test_mean - test_std, test_mean + test_std, color=\"gainsboro\")\n",
    "\n",
    "    # Create plot    \n",
    "plt.title(\"Validation Curve With Random Forest\")\n",
    "plt.xlabel(\"Number Of Trees\")\n",
    "plt.ylabel(\"Accuracy Score\")\n",
    "plt.tight_layout()\n",
    "plt.legend(loc=\"best\")\n",
    "plt.show()\n",
    "\n",
    "\n"
   ]
  },
  {
   "cell_type": "markdown",
   "metadata": {},
   "source": [
    "### <span style=\"color:blue\">Naive Bayes Classifier</span>"
   ]
  },
  {
   "cell_type": "raw",
   "metadata": {},
   "source": [
    "from sklearn.naive_bayes import GaussianNB\n",
    "NBC = GaussianNB()\n",
    "NBC.fit(Xtrain_OVSA, ytrain_OVSA)\n",
    "\n",
    "GaussianNB(priors=None, var_smoothing=1e-09)\n",
    "\n",
    "y_pred_NBC = NBC.predict(Xtest)"
   ]
  },
  {
   "cell_type": "markdown",
   "metadata": {},
   "source": [
    "Ocena modelu:"
   ]
  },
  {
   "cell_type": "raw",
   "metadata": {},
   "source": [
    "Ocena modelu:\n",
    "print(\"Recall Training data:     \", np.round(recall_score(ytrain_OVSA, NBC.predict(Xtrain_OVSA)), decimals=4))\n",
    "print(\"Precision Training data:  \", np.round(precision_score(ytrain_OVSA, NBC.predict(Xtrain_OVSA)), decimals=4))\n",
    "print(\"----------------------------------------------------------------------\")\n",
    "print(\"Recall Test data:         \", np.round(recall_score(ytest, NBC.predict(Xtest)), decimals=4)) \n",
    "print(\"Precision Test data:      \", np.round(precision_score(ytest, NBC.predict(Xtest)), decimals=4))\n",
    "print(\"----------------------------------------------------------------------\")\n",
    "print(\"Confusion Matrix Test data\")\n",
    "print(confusion_matrix(ytest, NBC.predict(Xtest)))\n",
    "print(\"----------------------------------------------------------------------\")\n",
    "print(classification_report(ytest, NBC.predict(Xtest)))\n",
    "y_pred_proba = NBC.predict_proba(Xtest)[::,1]\n",
    "fpr, tpr, _ = metrics.roc_curve(ytest,  y_pred_NBC)\n",
    "auc = metrics.roc_auc_score(ytest, y_pred_NBC)\n",
    "plt.plot(fpr, tpr, label='Naive Bayes Classifier (auc = %0.2f)' % auc)\n",
    "plt.xlabel('False Positive Rate',color='grey', fontsize = 13)\n",
    "plt.ylabel('True Positive Rate',color='grey', fontsize = 13)\n",
    "plt.title('Receiver operating characteristic')\n",
    "plt.legend(loc=\"lower right\")\n",
    "plt.legend(loc=4)\n",
    "plt.plot([0, 1], [0, 1],'r--')\n",
    "plt.show()"
   ]
  },
  {
   "cell_type": "markdown",
   "metadata": {},
   "source": [
    "### <span style=\"color:blue\">Support Vector Machine Classifier</span>\n",
    "\n",
    "## <div class=\"alert-danger\"> Uwaga! Czas obliczeń poniższego modelu trwa ponad 35 minut dla próbki 29 tys. \n",
    "Model został zamrożony dla zaoszczędzenia czasu.\n",
    "</div>   "
   ]
  },
  {
   "cell_type": "raw",
   "metadata": {},
   "source": [
    "from sklearn.pipeline import Pipeline\n",
    "from sklearn.pipeline import make_pipeline\n",
    "from sklearn.preprocessing import StandardScaler\n",
    "from sklearn.svm import SVC\n",
    "from sklearn.model_selection import train_test_split\n",
    "from sklearn import preprocessing\n",
    "from sklearn.model_selection import GridSearchCV\n",
    "from sklearn.metrics import mean_squared_error, r2_score\n",
    "from sklearn.externals import joblib"
   ]
  },
  {
   "cell_type": "raw",
   "metadata": {},
   "source": [
    "\n",
    "start_time = time.time() ## pomiar czasu: start pomiaru czasu\n",
    "print(time.ctime())\n",
    "print('Pomiar czasu wykonania tego zadania')\n",
    "\n",
    "ew = [('scaler', StandardScaler()), ('SVM', SVC())]\n",
    "pipeline = Pipeline(ew)"
   ]
  },
  {
   "cell_type": "raw",
   "metadata": {},
   "source": [
    "parameteres = {'SVM__C':[0.001,0.1,10,100,10e5], 'SVM__gamma':[0.1,0.01]}\n",
    "SVM_12 = GridSearchCV(pipeline, param_grid=parameteres, cv=5)\n",
    "SVM_12.fit(Xtrain_OVSA, ytrain_OVSA)\n",
    "y_pred_SVM12 = SVM_12.predict(Xtest)\n",
    "\n",
    "print(time.time() - start_time) ## koniec pomiaru czasu"
   ]
  },
  {
   "cell_type": "raw",
   "metadata": {},
   "source": [
    "import pprint\n",
    "pparam=pprint.PrettyPrinter(indent=2)\n",
    "print(SVM_12.best_params_)"
   ]
  },
  {
   "cell_type": "raw",
   "metadata": {},
   "source": [
    "print(\"Recall Training data:     \", np.round(recall_score(ytrain_OVSA, SVM_12.predict(Xtrain_OVSA)), decimals=4))\n",
    "print(\"Precision Training data:  \", np.round(precision_score(ytrain_OVSA, SVM_12.predict(Xtrain_OVSA)), decimals=4))\n",
    "print(\"----------------------------------------------------------------------\")\n",
    "print(\"Recall Test data:         \", np.round(recall_score(ytest, SVM_12.predict(Xtest)), decimals=4)) \n",
    "print(\"Precision Test data:      \", np.round(precision_score(ytest, SVM_12.predict(Xtest)), decimals=4))\n",
    "print(\"----------------------------------------------------------------------\")\n",
    "print(\"Confusion Matrix Test data\")\n",
    "print(confusion_matrix(ytest, SVM_12.predict(Xtest)))\n",
    "print(\"----------------------------------------------------------------------\")\n",
    "print(classification_report(ytest, SVM_12.predict(Xtest)))\n"
   ]
  },
  {
   "cell_type": "markdown",
   "metadata": {},
   "source": [
    "### <span style=\"color:blue\">Support Vector Machine Classifier - simple version</span>"
   ]
  },
  {
   "cell_type": "raw",
   "metadata": {},
   "source": [
    "import time\n",
    "start_time = time.time() ## pomiar czasu: start pomiaru czasu\n",
    "print(time.ctime())\n",
    "print('Pomiar czasu wykonania tego zadania')"
   ]
  },
  {
   "cell_type": "raw",
   "metadata": {},
   "source": [
    "from sklearn import svm\n",
    "\n",
    "SVM_S = svm.SVC(kernel='linear')\n",
    "SVM_S.fit(Xtrain_OVSA, ytrain_OVSA)\n",
    "y_pred_SVM = SVM_S.predict(Xtest)\n",
    "\n",
    "print(time.time() - start_time) ## koniec pomiaru czasu"
   ]
  },
  {
   "cell_type": "raw",
   "metadata": {},
   "source": [
    "print(\"Recall Training data:     \", np.round(recall_score(ytrain_OVSA, SVM_S.predict(Xtrain_OVSA)), decimals=4))\n",
    "print(\"Precision Training data:  \", np.round(precision_score(ytrain_OVSA, SVM_S.predict(Xtrain_OVSA)), decimals=4))\n",
    "print(\"----------------------------------------------------------------------\")\n",
    "print(\"Recall Test data:         \", np.round(recall_score(ytest, SVM_S.predict(Xtest)), decimals=4)) \n",
    "print(\"Precision Test data:      \", np.round(precision_score(ytest, SVM_S.predict(Xtest)), decimals=4))\n",
    "print(\"----------------------------------------------------------------------\")\n",
    "print(\"Confusion Matrix Test data\")\n",
    "print(confusion_matrix(ytest, SVM_S.predict(Xtest)))\n",
    "print(\"----------------------------------------------------------------------\")\n",
    "print(classification_report(ytest, SVM_S.predict(Xtest)))\n"
   ]
  },
  {
   "cell_type": "markdown",
   "metadata": {},
   "source": [
    "### Podsumowanie modeli klasyfikacji\n",
    "- Modele osiagnęły wynik ROC od 73 do 89.\n",
    "- Modele nie są przeuczone, ponieważ wartość Recall dla zbiorów testowych i treningowych miały podobne wartości.\n",
    "- Istnieje bardzo duża różnica w mierniku 'precision' pomiedzy zmiennymi testowymi i treningowymi.\n",
    "W modelach w zestawach testowych istnieje bardzo niski poziom 'precision'. Wynika to z ogromnego niezbilansowania zbiorów wynikowych. Tylko jeden pacjent na 52 doznaje udaru.\n",
    "'Recall' jest miarą kompletności wyników.\n",
    "'Precision' jest miarą 'zaśmiecenia wyników'.\n",
    "\n",
    "<div class=\"alert-info\">\n",
    "<span style=\"color:darkblue\">RECALL </span>definiuje się jako liczbę zjawisk: 'stroke' pobranych przez wyszukiwanie podzieloną przez całkowitą liczbę istniejących zjawisk: 'stroke'.\n",
    "\n",
    "<span style=\"color:darkblue\">PRECISION </span>definiuje się jako liczbę zjawisk: 'stroke' pobranych przez wyszukiwanie podzieloną przez całkowitą liczbę pacjentów pobranych przez to wyszukiwanie.\n",
    "</div>\n",
    "\n",
    "Aby udowodnić to, że powodem niskiego poziomu 'precision' jest niezbilansowanie testowego zbioru wynikowego przeprowadziłem krótkie doświadczenie. Wykonałem oversampling w zbiorze testowym, a następnie wstawiłem zbilansowany zbiór testowy do najprostszego z modeli: Naive Bayes Classifier\n"
   ]
  },
  {
   "cell_type": "markdown",
   "metadata": {},
   "source": [
    "### Oversampling dla zbioru testowego"
   ]
  },
  {
   "cell_type": "code",
   "execution_count": null,
   "metadata": {},
   "outputs": [],
   "source": [
    "print(\"ytest = 0: \", sum(ytest == 0))\n",
    "print(\"ytest = 1: \", sum(ytest == 1))"
   ]
  },
  {
   "cell_type": "code",
   "execution_count": null,
   "metadata": {},
   "outputs": [],
   "source": [
    "ProporcjaT = sum(ytrain == 0) / sum(ytrain == 1) \n",
    "ProporcjaT = np.round(ProporcjaT, decimals=0)\n",
    "ProporcjaT = Proporcja.astype(int)\n",
    "print('Ilość 0 Stroke na 1 Stroke: ', ProporcjaT)"
   ]
  },
  {
   "cell_type": "code",
   "execution_count": null,
   "metadata": {},
   "outputs": [],
   "source": [
    "ytest_OVSA = pd.concat([ytest[ytest==1]] * ProporcjaT, axis = 0) \n",
    "ytest_OVSA.count()"
   ]
  },
  {
   "cell_type": "code",
   "execution_count": null,
   "metadata": {},
   "outputs": [],
   "source": [
    "Xtest_OVSA = pd.concat([Xtest.loc[ytest==1, :]] * ProporcjaT, axis = 0)\n",
    "ytest_OVSA.count()"
   ]
  },
  {
   "cell_type": "code",
   "execution_count": null,
   "metadata": {},
   "outputs": [],
   "source": [
    "ytest_OVSA = pd.concat([ytest, ytest_OVSA], axis = 0).reset_index(drop = True)\n",
    "Xtest_OVSA = pd.concat([Xtest, Xtest_OVSA], axis = 0).reset_index(drop = True)\n",
    "\n",
    "print(\"ilość elementów w zbiorze Xtrain:     \", Xtest.BMI.count())\n",
    "print(\"ilość elementów w zbiorze Xtrain_OVSA: \", Xtest_OVSA.BMI.count())\n",
    "print(\"ilość elementów w zbiorze ytrain:     \", ytest.count())\n",
    "print(\"ilość elementów w zbiorze ytrain_OVSA: \", ytest_OVSA.count())"
   ]
  },
  {
   "cell_type": "markdown",
   "metadata": {},
   "source": [
    "### Podstawienie Xtrain_OVSA do modelu Naive Bayes Classifier"
   ]
  },
  {
   "cell_type": "code",
   "execution_count": null,
   "metadata": {},
   "outputs": [],
   "source": [
    "from sklearn.naive_bayes import GaussianNB\n",
    "gnb = GaussianNB()\n",
    "gnb.fit(Xtrain_OVSA, ytrain_OVSA)\n",
    "\n",
    "GaussianNB(priors=None, var_smoothing=1e-09)\n",
    "\n",
    "y_pred = gnb.predict(Xtest_OVSA)"
   ]
  },
  {
   "cell_type": "code",
   "execution_count": null,
   "metadata": {},
   "outputs": [],
   "source": [
    "print(\"Recall Training data:     \", np.round(recall_score(ytrain_OVSA, gnb.predict(Xtrain_OVSA)), decimals=4))\n",
    "print(\"Precision Training data:  \", np.round(precision_score(ytrain_OVSA, gnb.predict(Xtrain_OVSA)), decimals=4))\n",
    "print(\"----------------------------------------------------------------------\")\n",
    "print(\"Recall Test data:         \", np.round(recall_score(ytest_OVSA, gnb.predict(Xtest_OVSA)), decimals=4)) \n",
    "print(\"Precision Test data:      \", np.round(precision_score(ytest_OVSA, gnb.predict(Xtest_OVSA)), decimals=4))\n",
    "print(\"----------------------------------------------------------------------\")\n"
   ]
  },
  {
   "cell_type": "code",
   "execution_count": null,
   "metadata": {},
   "outputs": [],
   "source": [
    "print(time.time() - start_time) ## koniec pomiaru czasu"
   ]
  },
  {
   "cell_type": "markdown",
   "metadata": {},
   "source": [
    "Jak widać, model posiada podobne właściwości dla danych testowych i treningowych.\n",
    "Eksperyment potwiedził, że powodem niskiego stanu 'precision' było wysokie niezbilansowanie zbioru testowego."
   ]
  },
  {
   "cell_type": "markdown",
   "metadata": {},
   "source": [
    "# <span style=\"color:darkblue\">Wykorzystanie modeli w praktyce</span>\n",
    "\n",
    "<div class=\"alert-warning\">Przyjmijmy założenie, że do lekarza zgłasza się 62 pacjentów. Są to te osoby (rekordy), które nie brały udziału w ćwiczeniach i były od początku odseparowane. Osoby te chcą dowiedzieć się, czy są zagrożone udarem.</div>"
   ]
  },
  {
   "cell_type": "code",
   "execution_count": null,
   "metadata": {},
   "outputs": [],
   "source": [
    "grupa_testowa.head(3)"
   ]
  },
  {
   "cell_type": "markdown",
   "metadata": {},
   "source": [
    "Wprowadzam zmienną syntetyczną."
   ]
  },
  {
   "cell_type": "code",
   "execution_count": null,
   "metadata": {},
   "outputs": [],
   "source": [
    "grupa_testowa['C_Factor'] = (grupa_testowa['BMI']+(5*(grupa_testowa['Age_years_10_C']*grupa_testowa['Smoking_Status_C'])))"
   ]
  },
  {
   "cell_type": "code",
   "execution_count": null,
   "metadata": {},
   "outputs": [],
   "source": [
    "grupa_testowa.head(3)"
   ]
  },
  {
   "cell_type": "code",
   "execution_count": null,
   "metadata": {},
   "outputs": [],
   "source": [
    "grupa_testowa.reset_index()\n",
    "grupa_testowa.index = np.arange(1, 64)\n",
    "grupa_testowa.index"
   ]
  },
  {
   "cell_type": "markdown",
   "metadata": {},
   "source": [
    "#### Podział na zbiór zmiennych wynikowych i zmiennych niezależnych"
   ]
  },
  {
   "cell_type": "code",
   "execution_count": null,
   "metadata": {},
   "outputs": [],
   "source": [
    "grupa_testowa.describe(include=[np.number]).columns"
   ]
  },
  {
   "cell_type": "code",
   "execution_count": null,
   "metadata": {},
   "outputs": [],
   "source": [
    "grupa_testowa.head(3)"
   ]
  },
  {
   "cell_type": "code",
   "execution_count": null,
   "metadata": {},
   "outputs": [],
   "source": [
    "grupa_testowa2 = grupa_testowa[['C_Factor','Hypertension','Heart_Disease','Avg_Glucose','BMI','Stroke','Age_years','Gender_C','Ever_Married_C','Type_Of_Work_C','Residence_C','Smoking_Status_C','Age_years_10_C']]\n",
    "y_gt = grupa_testowa2['Stroke']\n",
    "X_gt = grupa_testowa2.drop('Stroke', axis=1) "
   ]
  },
  {
   "cell_type": "code",
   "execution_count": null,
   "metadata": {},
   "outputs": [],
   "source": [
    "grupa_testowa2.head(3)"
   ]
  },
  {
   "cell_type": "code",
   "execution_count": null,
   "metadata": {},
   "outputs": [],
   "source": [
    "df2.head(3)"
   ]
  },
  {
   "cell_type": "code",
   "execution_count": null,
   "metadata": {},
   "outputs": [],
   "source": [
    "X_gt.head(3)"
   ]
  },
  {
   "cell_type": "markdown",
   "metadata": {},
   "source": [
    "### RFC_S"
   ]
  },
  {
   "cell_type": "code",
   "execution_count": null,
   "metadata": {},
   "outputs": [],
   "source": [
    "y_pred_RFC_S = RFC_S.predict(X_gt)\n",
    "y_pred_RFC_S"
   ]
  },
  {
   "cell_type": "code",
   "execution_count": null,
   "metadata": {},
   "outputs": [],
   "source": [
    "RFC_S_model=pd.Series(y_pred_RFC_S).reset_index()\n",
    "RFC_S_model.columns =['index','RFC_S_model']\n",
    "RFC_S_model.index = np.arange(1, 64)\n",
    "#grupa_testowa.index"
   ]
  },
  {
   "cell_type": "markdown",
   "metadata": {},
   "source": [
    "### LR_Grid"
   ]
  },
  {
   "cell_type": "code",
   "execution_count": null,
   "metadata": {},
   "outputs": [],
   "source": [
    "y_pred_LR_Grid = LR_Grid.predict(X_gt)\n",
    "y_pred_LR_Grid"
   ]
  },
  {
   "cell_type": "code",
   "execution_count": null,
   "metadata": {},
   "outputs": [],
   "source": [
    "LR_Grid_model=pd.Series(y_pred_LR_Grid).reset_index()\n",
    "LR_Grid_model.columns =['index','LR_Grid_model']\n",
    "LR_Grid_model.index = np.arange(1, 64)\n",
    "#grupa_testowa.index"
   ]
  },
  {
   "cell_type": "markdown",
   "metadata": {},
   "source": [
    "### Naive Bayes Classifier "
   ]
  },
  {
   "cell_type": "code",
   "execution_count": null,
   "metadata": {},
   "outputs": [],
   "source": [
    "y_pred_NBC = NBC.predict(X_gt)\n",
    "y_pred_NBC"
   ]
  },
  {
   "cell_type": "code",
   "execution_count": null,
   "metadata": {},
   "outputs": [],
   "source": [
    "NBC_model=pd.Series(y_pred_NBC).reset_index()\n",
    "NBC_model.columns =['index','NBC_model']\n",
    "NBC_model.index = np.arange(1, 64)\n",
    "#grupa_testowa.index"
   ]
  },
  {
   "cell_type": "markdown",
   "metadata": {},
   "source": [
    "### Support Vector Machine Classifier - simple version"
   ]
  },
  {
   "cell_type": "code",
   "execution_count": null,
   "metadata": {},
   "outputs": [],
   "source": [
    "y_pred_SVM = SVM_S.predict(X_gt)\n",
    "y_pred_SVM"
   ]
  },
  {
   "cell_type": "code",
   "execution_count": null,
   "metadata": {},
   "outputs": [],
   "source": [
    "SVM_model=pd.Series(y_pred_SVM).reset_index()\n",
    "SVM_model.columns =['index','SVM_model']\n",
    "SVM_model.index = np.arange(1, 64)\n",
    "#grupa_testowa.index"
   ]
  },
  {
   "cell_type": "markdown",
   "metadata": {},
   "source": [
    "### <span style=\"color:darkblue\">Komitet modeli</span>\n",
    "<div class=\"alert-warning\">Teraz lekarz na podstawie numeru indexu pacjenta może sprawdzić, czy pacjent jest zagrożony udarem czy ewentualnie miał udar.\n",
    "Lekarz ma do wyboru cztery modele machine learning.</div>"
   ]
  },
  {
   "cell_type": "code",
   "execution_count": null,
   "metadata": {},
   "outputs": [],
   "source": [
    "grupa_testow = pd.concat([grupa_testowa,LR_Grid_model,RFC_S_model,NBC_model,SVM_model],axis=1, sort=False)\n",
    "grupa_testow[['Stroke','LR_Grid_model','RFC_S_model','NBC_model','SVM_model']].head(6)"
   ]
  },
  {
   "cell_type": "markdown",
   "metadata": {},
   "source": [
    "### Ocena końcowa modeli na podstawie grupy 62 nowych pacjentów"
   ]
  },
  {
   "cell_type": "code",
   "execution_count": null,
   "metadata": {},
   "outputs": [],
   "source": [
    "print(\"----------------------------------------------------------------------\")\n",
    "print(\"Recall LR_Grid_model:         \", np.round(recall_score(y_gt, LR_Grid.predict(X_gt)), decimals=4)) \n",
    "print(\"Precision LR_Grid_model:      \", np.round(precision_score(y_gt, LR_Grid.predict(X_gt)), decimals=4))\n",
    "print(\"----------------------------------------------------------------------\")\n",
    "print(\"Recall RFC_S_model:         \", np.round(recall_score(y_gt, RFC_S.predict(X_gt)), decimals=4)) \n",
    "print(\"Precision RFC_S_model:      \", np.round(precision_score(y_gt, RFC_S.predict(X_gt)), decimals=4))\n",
    "print(\"----------------------------------------------------------------------\")\n",
    "print(\"Recall NBC_model:         \", np.round(recall_score(y_gt, NBC.predict(X_gt)), decimals=4)) \n",
    "print(\"Precision NBC_model:      \", np.round(precision_score(y_gt, NBC.predict(X_gt)), decimals=4))\n",
    "print(\"----------------------------------------------------------------------\")\n",
    "print(\"Recall SVM_model:         \", np.round(recall_score(y_gt, SVM_S.predict(X_gt)), decimals=4)) \n",
    "print(\"Precision SVM_model:      \", np.round(precision_score(y_gt, SVM_S.predict(X_gt)), decimals=4))\n",
    "print(\"----------------------------------------------------------------------\")\n",
    "\n",
    "\n",
    "\n",
    "\n",
    "\n",
    "#print(classification_report(y_gt, LR_Grid.predict(X_gt)))\n",
    "#print(classification_report(y_gt, LR_Grid.predict(X_gt)))\n",
    "\n",
    "# LR_Grid\n",
    "y_pred_proba = LR_Grid.predict_proba(X_gt)[::,1]\n",
    "fpr, tpr, _ = metrics.roc_curve(y_gt,  y_pred_LR_Grid)\n",
    "auc = metrics.roc_auc_score(y_gt, y_pred_LR_Grid)\n",
    "plt.plot(fpr, tpr, color='orange',label='Logistic Regression (auc = %0.2f)' % auc)\n",
    "plt.xlabel('False Positive Rate',color='grey', fontsize = 13)\n",
    "plt.ylabel('True Positive Rate',color='grey', fontsize = 13)\n",
    "plt.title('Receiver operating characteristic')\n",
    "plt.legend(loc=\"lower right\")\n",
    "plt.legend(loc=4)\n",
    "plt.plot([0, 1], [0, 1],'r--')\n",
    "plt.show()\n",
    "\n",
    "#RFC_S\n",
    "y_pred_proba = RFC_S.predict_proba(X_gt)[::,1]\n",
    "fpr, tpr, _ = metrics.roc_curve(y_gt,  y_pred_RFC_S)\n",
    "auc = metrics.roc_auc_score(y_gt, y_pred_RFC_S)\n",
    "plt.plot(fpr, tpr, color='red',label='RFC_S (auc = %0.2f)' % auc)\n",
    "plt.xlabel('False Positive Rate',color='grey', fontsize = 13)\n",
    "plt.ylabel('True Positive Rate',color='grey', fontsize = 13)\n",
    "plt.title('Receiver operating characteristic')\n",
    "plt.legend(loc=\"lower right\")\n",
    "plt.legend(loc=4)\n",
    "plt.plot([0, 1], [0, 1],'r--')\n",
    "plt.show()\n",
    "\n",
    "#NBC\n",
    "y_pred_proba = NBC.predict_proba(X_gt)[::,1]\n",
    "fpr, tpr, _ = metrics.roc_curve(y_gt,  y_pred_NBC)\n",
    "auc = metrics.roc_auc_score(y_gt, y_pred_NBC)\n",
    "plt.plot(fpr, tpr, color='green',label='NBC_S (auc = %0.2f)' % auc)\n",
    "plt.xlabel('False Positive Rate',color='grey', fontsize = 13)\n",
    "plt.ylabel('True Positive Rate',color='grey', fontsize = 13)\n",
    "plt.title('Receiver operating characteristic')\n",
    "plt.legend(loc=\"lower right\")\n",
    "plt.legend(loc=4)\n",
    "plt.plot([0, 1], [0, 1],'r--')\n",
    "plt.show()\n",
    "\n",
    "\n",
    "#SVM\n",
    "#y_pred_proba = SVM_S.predict_proba(X_gt)[::,1]\n",
    "#fpr, tpr, _ = metrics.roc_curve(y_gt,  y_pred_SVM)\n",
    "#auc = metrics.roc_auc_score(y_gt, y_pred_SVM)\n",
    "#plt.plot(fpr, tpr, color='green',label='SVM (auc = %0.2f)' % auc)\n",
    "#plt.xlabel('False Positive Rate',color='grey', fontsize = 13)\n",
    "#plt.ylabel('True Positive Rate',color='grey', fontsize = 13)\n",
    "#plt.title('Receiver operating characteristic')\n",
    "#plt.legend(loc=\"lower right\")\n",
    "#plt.legend(loc=4)\n",
    "#plt.plot([0, 1], [0, 1],'r--')\n",
    "#plt.show()\n"
   ]
  }
 ],
 "metadata": {
  "kernelspec": {
   "display_name": "Python 3",
   "language": "python",
   "name": "python3"
  },
  "language_info": {
   "codemirror_mode": {
    "name": "ipython",
    "version": 3
   },
   "file_extension": ".py",
   "mimetype": "text/x-python",
   "name": "python",
   "nbconvert_exporter": "python",
   "pygments_lexer": "ipython3",
   "version": "3.7.4"
  }
 },
 "nbformat": 4,
 "nbformat_minor": 2
}
