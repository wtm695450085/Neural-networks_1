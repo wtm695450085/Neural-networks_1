{
 "cells": [
  {
   "cell_type": "markdown",
   "metadata": {},
   "source": [
    "# Part_1: Klik - CYFRYZACJA\n",
    "06:50 - 8:30\n",
    "09:00 - 11:00\n",
    "50 minut"
   ]
  },
  {
   "cell_type": "code",
   "execution_count": 1,
   "metadata": {},
   "outputs": [
    {
     "name": "stdout",
     "output_type": "stream",
     "text": [
      "Thu Mar 12 12:04:19 2020\n"
     ]
    }
   ],
   "source": [
    "import time\n",
    "start_time = time.time() ## pomiar czasu: start pomiaru czasu\n",
    "print(time.ctime())"
   ]
  },
  {
   "cell_type": "code",
   "execution_count": 2,
   "metadata": {},
   "outputs": [
    {
     "name": "stdout",
     "output_type": "stream",
     "text": [
      "(1000, 24)\n",
      "\n",
      "Index(['id', 'klik', 'data_godzina', 'baner_pozycja', 'strona_id',\n",
      "       'strona_domena', 'strona_kategoria', 'aplikacja_id', 'aplikacja_domena',\n",
      "       'aplikacja_kategoria', 'urz_id', 'urz_ip', 'urz_model', 'urz_typ',\n",
      "       'urz_polaczenie', 'kat1', 'kat2', 'kat3', 'kat4', 'kat5', 'kat6',\n",
      "       'kat7', 'kat8', 'kat9'],\n",
      "      dtype='object')\n"
     ]
    },
    {
     "data": {
      "text/html": [
       "<div>\n",
       "<style scoped>\n",
       "    .dataframe tbody tr th:only-of-type {\n",
       "        vertical-align: middle;\n",
       "    }\n",
       "\n",
       "    .dataframe tbody tr th {\n",
       "        vertical-align: top;\n",
       "    }\n",
       "\n",
       "    .dataframe thead th {\n",
       "        text-align: right;\n",
       "    }\n",
       "</style>\n",
       "<table border=\"1\" class=\"dataframe\">\n",
       "  <thead>\n",
       "    <tr style=\"text-align: right;\">\n",
       "      <th></th>\n",
       "      <th>id</th>\n",
       "      <th>klik</th>\n",
       "      <th>data_godzina</th>\n",
       "      <th>baner_pozycja</th>\n",
       "      <th>strona_id</th>\n",
       "      <th>strona_domena</th>\n",
       "      <th>strona_kategoria</th>\n",
       "      <th>aplikacja_id</th>\n",
       "      <th>aplikacja_domena</th>\n",
       "      <th>aplikacja_kategoria</th>\n",
       "      <th>...</th>\n",
       "      <th>urz_polaczenie</th>\n",
       "      <th>kat1</th>\n",
       "      <th>kat2</th>\n",
       "      <th>kat3</th>\n",
       "      <th>kat4</th>\n",
       "      <th>kat5</th>\n",
       "      <th>kat6</th>\n",
       "      <th>kat7</th>\n",
       "      <th>kat8</th>\n",
       "      <th>kat9</th>\n",
       "    </tr>\n",
       "  </thead>\n",
       "  <tbody>\n",
       "    <tr>\n",
       "      <td>0</td>\n",
       "      <td>93718246913880603</td>\n",
       "      <td>0</td>\n",
       "      <td>17030100</td>\n",
       "      <td>0</td>\n",
       "      <td>85f751fd</td>\n",
       "      <td>c4e18dd6</td>\n",
       "      <td>50e219e0</td>\n",
       "      <td>febd1138</td>\n",
       "      <td>82e27996</td>\n",
       "      <td>0f2161f8</td>\n",
       "      <td>...</td>\n",
       "      <td>0</td>\n",
       "      <td>105</td>\n",
       "      <td>119743</td>\n",
       "      <td>10320</td>\n",
       "      <td>10050</td>\n",
       "      <td>12264</td>\n",
       "      <td>13</td>\n",
       "      <td>10427</td>\n",
       "      <td>100000</td>\n",
       "      <td>61</td>\n",
       "    </tr>\n",
       "    <tr>\n",
       "      <td>1</td>\n",
       "      <td>93718246913880604</td>\n",
       "      <td>0</td>\n",
       "      <td>17030100</td>\n",
       "      <td>0</td>\n",
       "      <td>1fbe01fe</td>\n",
       "      <td>f3845767</td>\n",
       "      <td>28905ebd</td>\n",
       "      <td>ecad2386</td>\n",
       "      <td>7801e8d9</td>\n",
       "      <td>07d7df22</td>\n",
       "      <td>...</td>\n",
       "      <td>0</td>\n",
       "      <td>105</td>\n",
       "      <td>115706</td>\n",
       "      <td>10320</td>\n",
       "      <td>10050</td>\n",
       "      <td>11722</td>\n",
       "      <td>10</td>\n",
       "      <td>10035</td>\n",
       "      <td>-1</td>\n",
       "      <td>79</td>\n",
       "    </tr>\n",
       "    <tr>\n",
       "      <td>2</td>\n",
       "      <td>93718246913880605</td>\n",
       "      <td>0</td>\n",
       "      <td>17030100</td>\n",
       "      <td>0</td>\n",
       "      <td>543a539e</td>\n",
       "      <td>c7ca3108</td>\n",
       "      <td>3e814130</td>\n",
       "      <td>ecad2386</td>\n",
       "      <td>7801e8d9</td>\n",
       "      <td>07d7df22</td>\n",
       "      <td>...</td>\n",
       "      <td>0</td>\n",
       "      <td>105</td>\n",
       "      <td>120352</td>\n",
       "      <td>10320</td>\n",
       "      <td>10050</td>\n",
       "      <td>12333</td>\n",
       "      <td>10</td>\n",
       "      <td>10039</td>\n",
       "      <td>-1</td>\n",
       "      <td>157</td>\n",
       "    </tr>\n",
       "    <tr>\n",
       "      <td>3</td>\n",
       "      <td>93718246913880606</td>\n",
       "      <td>0</td>\n",
       "      <td>17030100</td>\n",
       "      <td>1</td>\n",
       "      <td>e151e245</td>\n",
       "      <td>7e091613</td>\n",
       "      <td>f028772b</td>\n",
       "      <td>ecad2386</td>\n",
       "      <td>7801e8d9</td>\n",
       "      <td>07d7df22</td>\n",
       "      <td>...</td>\n",
       "      <td>0</td>\n",
       "      <td>105</td>\n",
       "      <td>117037</td>\n",
       "      <td>10320</td>\n",
       "      <td>10050</td>\n",
       "      <td>11934</td>\n",
       "      <td>12</td>\n",
       "      <td>10039</td>\n",
       "      <td>-1</td>\n",
       "      <td>16</td>\n",
       "    </tr>\n",
       "    <tr>\n",
       "      <td>4</td>\n",
       "      <td>93718246913880607</td>\n",
       "      <td>0</td>\n",
       "      <td>17030100</td>\n",
       "      <td>0</td>\n",
       "      <td>85f751fd</td>\n",
       "      <td>c4e18dd6</td>\n",
       "      <td>50e219e0</td>\n",
       "      <td>39947756</td>\n",
       "      <td>2347f47a</td>\n",
       "      <td>cef3e649</td>\n",
       "      <td>...</td>\n",
       "      <td>2</td>\n",
       "      <td>105</td>\n",
       "      <td>118993</td>\n",
       "      <td>10320</td>\n",
       "      <td>10050</td>\n",
       "      <td>12161</td>\n",
       "      <td>10</td>\n",
       "      <td>10035</td>\n",
       "      <td>100148</td>\n",
       "      <td>157</td>\n",
       "    </tr>\n",
       "  </tbody>\n",
       "</table>\n",
       "<p>5 rows × 24 columns</p>\n",
       "</div>"
      ],
      "text/plain": [
       "                  id  klik  data_godzina  baner_pozycja strona_id  \\\n",
       "0  93718246913880603     0      17030100              0  85f751fd   \n",
       "1  93718246913880604     0      17030100              0  1fbe01fe   \n",
       "2  93718246913880605     0      17030100              0  543a539e   \n",
       "3  93718246913880606     0      17030100              1  e151e245   \n",
       "4  93718246913880607     0      17030100              0  85f751fd   \n",
       "\n",
       "  strona_domena strona_kategoria aplikacja_id aplikacja_domena  \\\n",
       "0      c4e18dd6         50e219e0     febd1138         82e27996   \n",
       "1      f3845767         28905ebd     ecad2386         7801e8d9   \n",
       "2      c7ca3108         3e814130     ecad2386         7801e8d9   \n",
       "3      7e091613         f028772b     ecad2386         7801e8d9   \n",
       "4      c4e18dd6         50e219e0     39947756         2347f47a   \n",
       "\n",
       "  aplikacja_kategoria  ... urz_polaczenie kat1    kat2   kat3   kat4   kat5  \\\n",
       "0            0f2161f8  ...              0  105  119743  10320  10050  12264   \n",
       "1            07d7df22  ...              0  105  115706  10320  10050  11722   \n",
       "2            07d7df22  ...              0  105  120352  10320  10050  12333   \n",
       "3            07d7df22  ...              0  105  117037  10320  10050  11934   \n",
       "4            cef3e649  ...              2  105  118993  10320  10050  12161   \n",
       "\n",
       "   kat6   kat7    kat8  kat9  \n",
       "0    13  10427  100000    61  \n",
       "1    10  10035      -1    79  \n",
       "2    10  10039      -1   157  \n",
       "3    12  10039      -1    16  \n",
       "4    10  10035  100148   157  \n",
       "\n",
       "[5 rows x 24 columns]"
      ]
     },
     "execution_count": 2,
     "metadata": {},
     "output_type": "execute_result"
    }
   ],
   "source": [
    "import pandas as pd\n",
    "import numpy as np\n",
    "import seaborn as sns\n",
    "import matplotlib.pyplot as plt\n",
    "%matplotlib inline\n",
    "\n",
    "df= pd.read_csv('/home/wojciech/Pulpit/4/kliki_uczenie.csv', sep=';', nrows=1000)\n",
    "print(df.shape)\n",
    "print()\n",
    "print(df.columns)\n",
    "df.head(5)"
   ]
  },
  {
   "cell_type": "markdown",
   "metadata": {},
   "source": [
    "### Sprawdzam kompletność danych\n",
    "dane są kompletne"
   ]
  },
  {
   "cell_type": "code",
   "execution_count": 3,
   "metadata": {},
   "outputs": [
    {
     "data": {
      "text/plain": [
       "id                     0\n",
       "klik                   0\n",
       "data_godzina           0\n",
       "baner_pozycja          0\n",
       "strona_id              0\n",
       "strona_domena          0\n",
       "strona_kategoria       0\n",
       "aplikacja_id           0\n",
       "aplikacja_domena       0\n",
       "aplikacja_kategoria    0\n",
       "urz_id                 0\n",
       "urz_ip                 0\n",
       "urz_model              0\n",
       "urz_typ                0\n",
       "urz_polaczenie         0\n",
       "kat1                   0\n",
       "kat2                   0\n",
       "kat3                   0\n",
       "kat4                   0\n",
       "kat5                   0\n",
       "kat6                   0\n",
       "kat7                   0\n",
       "kat8                   0\n",
       "kat9                   0\n",
       "dtype: int64"
      ]
     },
     "execution_count": 3,
     "metadata": {},
     "output_type": "execute_result"
    }
   ],
   "source": [
    "df.isnull().sum()"
   ]
  },
  {
   "cell_type": "markdown",
   "metadata": {},
   "source": [
    "### Sprawdzam format danych"
   ]
  },
  {
   "cell_type": "code",
   "execution_count": 4,
   "metadata": {},
   "outputs": [
    {
     "data": {
      "text/plain": [
       "id                      int64\n",
       "klik                    int64\n",
       "data_godzina            int64\n",
       "baner_pozycja           int64\n",
       "strona_id              object\n",
       "strona_domena          object\n",
       "strona_kategoria       object\n",
       "aplikacja_id           object\n",
       "aplikacja_domena       object\n",
       "aplikacja_kategoria    object\n",
       "urz_id                 object\n",
       "urz_ip                 object\n",
       "urz_model              object\n",
       "urz_typ                 int64\n",
       "urz_polaczenie          int64\n",
       "kat1                    int64\n",
       "kat2                    int64\n",
       "kat3                    int64\n",
       "kat4                    int64\n",
       "kat5                    int64\n",
       "kat6                    int64\n",
       "kat7                    int64\n",
       "kat8                    int64\n",
       "kat9                    int64\n",
       "dtype: object"
      ]
     },
     "execution_count": 4,
     "metadata": {},
     "output_type": "execute_result"
    }
   ],
   "source": [
    "df.dtypes"
   ]
  },
  {
   "cell_type": "markdown",
   "metadata": {},
   "source": [
    "### Sprawdzam zbilansowanie zbioru wynikowego\n",
    "<span style=\"color:blue\">ZBIÓR JEST NIEZBILANSOWANY. Trzeba będzie zastosować oversampling</span>"
   ]
  },
  {
   "cell_type": "code",
   "execution_count": 5,
   "metadata": {},
   "outputs": [
    {
     "data": {
      "text/plain": [
       "<matplotlib.axes._subplots.AxesSubplot at 0x7fbd60cf3390>"
      ]
     },
     "execution_count": 5,
     "metadata": {},
     "output_type": "execute_result"
    },
    {
     "data": {
      "image/png": "[encoded data removed]",
      "text/plain": [
       "<Figure size 432x288 with 1 Axes>"
      ]
     },
     "metadata": {},
     "output_type": "display_data"
    }
   ],
   "source": [
    "df.klik.value_counts(dropna = False, normalize=True).plot(kind='pie')"
   ]
  },
  {
   "cell_type": "markdown",
   "metadata": {},
   "source": [
    "### Cyfryzuje słownikowo: 'date i godzinę'"
   ]
  },
  {
   "cell_type": "code",
   "execution_count": 6,
   "metadata": {},
   "outputs": [
    {
     "data": {
      "text/plain": [
       "(1,)"
      ]
     },
     "execution_count": 6,
     "metadata": {},
     "output_type": "execute_result"
    }
   ],
   "source": [
    "df['data_godzina'].value_counts().shape"
   ]
  },
  {
   "cell_type": "code",
   "execution_count": 7,
   "metadata": {},
   "outputs": [
    {
     "data": {
      "text/plain": [
       "17030100    1000\n",
       "Name: data_godzina, dtype: int64"
      ]
     },
     "execution_count": 7,
     "metadata": {},
     "output_type": "execute_result"
    }
   ],
   "source": [
    "df['data_godzina'].value_counts()"
   ]
  },
  {
   "cell_type": "markdown",
   "metadata": {},
   "source": [
    "<span style=\"color:blue\">df['data_godzina'] będzie traktowana jak zmienna dyskretna. To nie jest żadna data i godzina, z której można wyciągnąć dzień tygodnia</span>"
   ]
  },
  {
   "cell_type": "markdown",
   "metadata": {},
   "source": [
    "Cyfryzuje przez mapowanie słownikowe"
   ]
  },
  {
   "cell_type": "code",
   "execution_count": 8,
   "metadata": {},
   "outputs": [
    {
     "data": {
      "text/html": [
       "<div>\n",
       "<style scoped>\n",
       "    .dataframe tbody tr th:only-of-type {\n",
       "        vertical-align: middle;\n",
       "    }\n",
       "\n",
       "    .dataframe tbody tr th {\n",
       "        vertical-align: top;\n",
       "    }\n",
       "\n",
       "    .dataframe thead th {\n",
       "        text-align: right;\n",
       "    }\n",
       "</style>\n",
       "<table border=\"1\" class=\"dataframe\">\n",
       "  <thead>\n",
       "    <tr style=\"text-align: right;\">\n",
       "      <th></th>\n",
       "      <th>data_godzina</th>\n",
       "      <th>C_data_godzina</th>\n",
       "    </tr>\n",
       "  </thead>\n",
       "  <tbody>\n",
       "    <tr>\n",
       "      <td>7</td>\n",
       "      <td>17030100</td>\n",
       "      <td>0</td>\n",
       "    </tr>\n",
       "    <tr>\n",
       "      <td>231</td>\n",
       "      <td>17030100</td>\n",
       "      <td>0</td>\n",
       "    </tr>\n",
       "  </tbody>\n",
       "</table>\n",
       "</div>"
      ],
      "text/plain": [
       "     data_godzina  C_data_godzina\n",
       "7        17030100               0\n",
       "231      17030100               0"
      ]
     },
     "execution_count": 8,
     "metadata": {},
     "output_type": "execute_result"
    }
   ],
   "source": [
    "df['C_data_godzina'] = pd.Categorical(df['data_godzina']).codes\n",
    "df[['data_godzina','C_data_godzina']].sample(2)"
   ]
  },
  {
   "cell_type": "code",
   "execution_count": 9,
   "metadata": {},
   "outputs": [
    {
     "name": "stdout",
     "output_type": "stream",
     "text": [
      "{17030100: 0}\n"
     ]
    },
    {
     "data": {
      "text/html": [
       "<div>\n",
       "<style scoped>\n",
       "    .dataframe tbody tr th:only-of-type {\n",
       "        vertical-align: middle;\n",
       "    }\n",
       "\n",
       "    .dataframe tbody tr th {\n",
       "        vertical-align: top;\n",
       "    }\n",
       "\n",
       "    .dataframe thead th {\n",
       "        text-align: right;\n",
       "    }\n",
       "</style>\n",
       "<table border=\"1\" class=\"dataframe\">\n",
       "  <thead>\n",
       "    <tr style=\"text-align: right;\">\n",
       "      <th></th>\n",
       "      <th>CYF_data_godzina</th>\n",
       "      <th>data_godzina</th>\n",
       "    </tr>\n",
       "  </thead>\n",
       "  <tbody>\n",
       "    <tr>\n",
       "      <td>358</td>\n",
       "      <td>0</td>\n",
       "      <td>17030100</td>\n",
       "    </tr>\n",
       "    <tr>\n",
       "      <td>542</td>\n",
       "      <td>0</td>\n",
       "      <td>17030100</td>\n",
       "    </tr>\n",
       "    <tr>\n",
       "      <td>58</td>\n",
       "      <td>0</td>\n",
       "      <td>17030100</td>\n",
       "    </tr>\n",
       "    <tr>\n",
       "      <td>280</td>\n",
       "      <td>0</td>\n",
       "      <td>17030100</td>\n",
       "    </tr>\n",
       "  </tbody>\n",
       "</table>\n",
       "</div>"
      ],
      "text/plain": [
       "     CYF_data_godzina  data_godzina\n",
       "358                 0      17030100\n",
       "542                 0      17030100\n",
       "58                  0      17030100\n",
       "280                 0      17030100"
      ]
     },
     "execution_count": 9,
     "metadata": {},
     "output_type": "execute_result"
    }
   ],
   "source": [
    "SL_data_godzina = df.set_index('data_godzina')['C_data_godzina'].to_dict()\n",
    "print(SL_data_godzina)\n",
    "df['CYF_data_godzina'] = df['data_godzina'].map(SL_data_godzina)\n",
    "del df['C_data_godzina']\n",
    "df[['CYF_data_godzina','data_godzina']].sample(4)"
   ]
  },
  {
   "cell_type": "code",
   "execution_count": 10,
   "metadata": {},
   "outputs": [
    {
     "name": "stdout",
     "output_type": "stream",
     "text": [
      "(1,)\n",
      "(1,)\n",
      "{17030100: 0}\n"
     ]
    }
   ],
   "source": [
    "## Sprawdzenie:\n",
    "print(df['data_godzina'].value_counts().shape)\n",
    "print(df['CYF_data_godzina'].value_counts().shape)\n",
    "print(SL_data_godzina)"
   ]
  },
  {
   "cell_type": "markdown",
   "metadata": {},
   "source": [
    "### Cyfryzuje słownikowo: 'baner_pozycja'\n",
    "NIE TRZEBA CYFRYZOWAĆ"
   ]
  },
  {
   "cell_type": "code",
   "execution_count": 11,
   "metadata": {},
   "outputs": [
    {
     "name": "stdout",
     "output_type": "stream",
     "text": [
      "(2,)\n"
     ]
    }
   ],
   "source": [
    "print(df['baner_pozycja'].value_counts().shape)\n",
    "df['baner_pozycja'].value_counts()\n",
    "df['CYF_baner_pozycja']=df['baner_pozycja']"
   ]
  },
  {
   "cell_type": "code",
   "execution_count": 12,
   "metadata": {},
   "outputs": [
    {
     "data": {
      "text/plain": [
       "id                      int64\n",
       "klik                    int64\n",
       "data_godzina            int64\n",
       "baner_pozycja           int64\n",
       "strona_id              object\n",
       "strona_domena          object\n",
       "strona_kategoria       object\n",
       "aplikacja_id           object\n",
       "aplikacja_domena       object\n",
       "aplikacja_kategoria    object\n",
       "urz_id                 object\n",
       "urz_ip                 object\n",
       "urz_model              object\n",
       "urz_typ                 int64\n",
       "urz_polaczenie          int64\n",
       "kat1                    int64\n",
       "kat2                    int64\n",
       "kat3                    int64\n",
       "kat4                    int64\n",
       "kat5                    int64\n",
       "kat6                    int64\n",
       "kat7                    int64\n",
       "kat8                    int64\n",
       "kat9                    int64\n",
       "CYF_data_godzina        int64\n",
       "CYF_baner_pozycja       int64\n",
       "dtype: object"
      ]
     },
     "execution_count": 12,
     "metadata": {},
     "output_type": "execute_result"
    }
   ],
   "source": [
    "df.dtypes"
   ]
  },
  {
   "cell_type": "markdown",
   "metadata": {},
   "source": [
    "### Cyfryzuje słownikowo:  'strona_id'"
   ]
  },
  {
   "cell_type": "code",
   "execution_count": 13,
   "metadata": {},
   "outputs": [
    {
     "name": "stdout",
     "output_type": "stream",
     "text": [
      "(118,)\n"
     ]
    },
    {
     "data": {
      "text/plain": [
       "1fbe01fe    349\n",
       "85f751fd    220\n",
       "543a539e     68\n",
       "d9750ee7     30\n",
       "e151e245     28\n",
       "           ... \n",
       "29fac11c      1\n",
       "52c67a67      1\n",
       "7443a906      1\n",
       "c1fcc9a1      1\n",
       "ee8b8550      1\n",
       "Name: strona_id, Length: 118, dtype: int64"
      ]
     },
     "execution_count": 13,
     "metadata": {},
     "output_type": "execute_result"
    }
   ],
   "source": [
    "print(df['strona_id'].value_counts().shape)\n",
    "df['strona_id'].value_counts()"
   ]
  },
  {
   "cell_type": "code",
   "execution_count": 14,
   "metadata": {},
   "outputs": [
    {
     "data": {
      "text/html": [
       "<div>\n",
       "<style scoped>\n",
       "    .dataframe tbody tr th:only-of-type {\n",
       "        vertical-align: middle;\n",
       "    }\n",
       "\n",
       "    .dataframe tbody tr th {\n",
       "        vertical-align: top;\n",
       "    }\n",
       "\n",
       "    .dataframe thead th {\n",
       "        text-align: right;\n",
       "    }\n",
       "</style>\n",
       "<table border=\"1\" class=\"dataframe\">\n",
       "  <thead>\n",
       "    <tr style=\"text-align: right;\">\n",
       "      <th></th>\n",
       "      <th>strona_id</th>\n",
       "      <th>C_strona_id</th>\n",
       "    </tr>\n",
       "  </thead>\n",
       "  <tbody>\n",
       "    <tr>\n",
       "      <td>34</td>\n",
       "      <td>e023ba3e</td>\n",
       "      <td>101</td>\n",
       "    </tr>\n",
       "    <tr>\n",
       "      <td>972</td>\n",
       "      <td>cf3a1767</td>\n",
       "      <td>90</td>\n",
       "    </tr>\n",
       "  </tbody>\n",
       "</table>\n",
       "</div>"
      ],
      "text/plain": [
       "    strona_id  C_strona_id\n",
       "34   e023ba3e          101\n",
       "972  cf3a1767           90"
      ]
     },
     "execution_count": 14,
     "metadata": {},
     "output_type": "execute_result"
    }
   ],
   "source": [
    "## Cyfryzuje przez mapowanie słownikowe:\n",
    "df['C_strona_id'] = pd.Categorical(df['strona_id']).codes\n",
    "df[['strona_id','C_strona_id']].sample(2)"
   ]
  },
  {
   "cell_type": "code",
   "execution_count": 15,
   "metadata": {},
   "outputs": [
    {
     "data": {
      "text/html": [
       "<div>\n",
       "<style scoped>\n",
       "    .dataframe tbody tr th:only-of-type {\n",
       "        vertical-align: middle;\n",
       "    }\n",
       "\n",
       "    .dataframe tbody tr th {\n",
       "        vertical-align: top;\n",
       "    }\n",
       "\n",
       "    .dataframe thead th {\n",
       "        text-align: right;\n",
       "    }\n",
       "</style>\n",
       "<table border=\"1\" class=\"dataframe\">\n",
       "  <thead>\n",
       "    <tr style=\"text-align: right;\">\n",
       "      <th></th>\n",
       "      <th>CYF_strona_id</th>\n",
       "      <th>strona_id</th>\n",
       "    </tr>\n",
       "  </thead>\n",
       "  <tbody>\n",
       "    <tr>\n",
       "      <td>901</td>\n",
       "      <td>43</td>\n",
       "      <td>5ee41ff2</td>\n",
       "    </tr>\n",
       "    <tr>\n",
       "      <td>84</td>\n",
       "      <td>30</td>\n",
       "      <td>4bf5bbe2</td>\n",
       "    </tr>\n",
       "    <tr>\n",
       "      <td>587</td>\n",
       "      <td>17</td>\n",
       "      <td>1fbe01fe</td>\n",
       "    </tr>\n",
       "    <tr>\n",
       "      <td>665</td>\n",
       "      <td>17</td>\n",
       "      <td>1fbe01fe</td>\n",
       "    </tr>\n",
       "  </tbody>\n",
       "</table>\n",
       "</div>"
      ],
      "text/plain": [
       "     CYF_strona_id strona_id\n",
       "901             43  5ee41ff2\n",
       "84              30  4bf5bbe2\n",
       "587             17  1fbe01fe\n",
       "665             17  1fbe01fe"
      ]
     },
     "execution_count": 15,
     "metadata": {},
     "output_type": "execute_result"
    }
   ],
   "source": [
    "SL_strona_id = df.set_index('strona_id')['C_strona_id'].to_dict()\n",
    "#print(SL_strona_id)\n",
    "df['CYF_strona_id'] = df['strona_id'].map(SL_strona_id)\n",
    "del df['C_strona_id']\n",
    "df[['CYF_strona_id','strona_id']].sample(4)"
   ]
  },
  {
   "cell_type": "code",
   "execution_count": 16,
   "metadata": {},
   "outputs": [
    {
     "name": "stdout",
     "output_type": "stream",
     "text": [
      "(118,)\n",
      "(118,)\n"
     ]
    }
   ],
   "source": [
    "## Sprawdzenie:\n",
    "print(df['strona_id'].value_counts().shape)\n",
    "print(df['CYF_strona_id'].value_counts().shape)\n",
    "#print(SL_strona_id)"
   ]
  },
  {
   "cell_type": "markdown",
   "metadata": {},
   "source": [
    "### <span style=\"color:blue\">Cyfryzuje słownikowo: 'strona_domena'</span>"
   ]
  },
  {
   "cell_type": "code",
   "execution_count": 17,
   "metadata": {},
   "outputs": [
    {
     "name": "stdout",
     "output_type": "stream",
     "text": [
      "(107,)\n"
     ]
    },
    {
     "data": {
      "text/plain": [
       "f3845767    349\n",
       "c4e18dd6    235\n",
       "c7ca3108     68\n",
       "98572c79     30\n",
       "7e091613     28\n",
       "           ... \n",
       "88f7ef6e      1\n",
       "82a51fc9      1\n",
       "98e6755b      1\n",
       "47bed8fe      1\n",
       "5cc8de2a      1\n",
       "Name: strona_domena, Length: 107, dtype: int64"
      ]
     },
     "execution_count": 17,
     "metadata": {},
     "output_type": "execute_result"
    }
   ],
   "source": [
    "print(df['strona_domena'].value_counts().shape)\n",
    "df['strona_domena'].value_counts()"
   ]
  },
  {
   "cell_type": "code",
   "execution_count": 18,
   "metadata": {},
   "outputs": [
    {
     "data": {
      "text/html": [
       "<div>\n",
       "<style scoped>\n",
       "    .dataframe tbody tr th:only-of-type {\n",
       "        vertical-align: middle;\n",
       "    }\n",
       "\n",
       "    .dataframe tbody tr th {\n",
       "        vertical-align: top;\n",
       "    }\n",
       "\n",
       "    .dataframe thead th {\n",
       "        text-align: right;\n",
       "    }\n",
       "</style>\n",
       "<table border=\"1\" class=\"dataframe\">\n",
       "  <thead>\n",
       "    <tr style=\"text-align: right;\">\n",
       "      <th></th>\n",
       "      <th>strona_domena</th>\n",
       "      <th>C_strona_domena</th>\n",
       "    </tr>\n",
       "  </thead>\n",
       "  <tbody>\n",
       "    <tr>\n",
       "      <td>862</td>\n",
       "      <td>c4e18dd6</td>\n",
       "      <td>84</td>\n",
       "    </tr>\n",
       "    <tr>\n",
       "      <td>747</td>\n",
       "      <td>98572c79</td>\n",
       "      <td>67</td>\n",
       "    </tr>\n",
       "  </tbody>\n",
       "</table>\n",
       "</div>"
      ],
      "text/plain": [
       "    strona_domena  C_strona_domena\n",
       "862      c4e18dd6               84\n",
       "747      98572c79               67"
      ]
     },
     "execution_count": 18,
     "metadata": {},
     "output_type": "execute_result"
    }
   ],
   "source": [
    "## Cyfryzuje przez mapowanie słownikowe:\n",
    "df['C_strona_domena'] = pd.Categorical(df['strona_domena']).codes\n",
    "df[['strona_domena','C_strona_domena']].sample(2)"
   ]
  },
  {
   "cell_type": "code",
   "execution_count": 19,
   "metadata": {},
   "outputs": [
    {
     "data": {
      "text/html": [
       "<div>\n",
       "<style scoped>\n",
       "    .dataframe tbody tr th:only-of-type {\n",
       "        vertical-align: middle;\n",
       "    }\n",
       "\n",
       "    .dataframe tbody tr th {\n",
       "        vertical-align: top;\n",
       "    }\n",
       "\n",
       "    .dataframe thead th {\n",
       "        text-align: right;\n",
       "    }\n",
       "</style>\n",
       "<table border=\"1\" class=\"dataframe\">\n",
       "  <thead>\n",
       "    <tr style=\"text-align: right;\">\n",
       "      <th></th>\n",
       "      <th>CYF_strona_domena</th>\n",
       "      <th>strona_domena</th>\n",
       "    </tr>\n",
       "  </thead>\n",
       "  <tbody>\n",
       "    <tr>\n",
       "      <td>32</td>\n",
       "      <td>84</td>\n",
       "      <td>c4e18dd6</td>\n",
       "    </tr>\n",
       "    <tr>\n",
       "      <td>713</td>\n",
       "      <td>84</td>\n",
       "      <td>c4e18dd6</td>\n",
       "    </tr>\n",
       "    <tr>\n",
       "      <td>414</td>\n",
       "      <td>13</td>\n",
       "      <td>27e3c518</td>\n",
       "    </tr>\n",
       "    <tr>\n",
       "      <td>997</td>\n",
       "      <td>35</td>\n",
       "      <td>61eb5bc4</td>\n",
       "    </tr>\n",
       "  </tbody>\n",
       "</table>\n",
       "</div>"
      ],
      "text/plain": [
       "     CYF_strona_domena strona_domena\n",
       "32                  84      c4e18dd6\n",
       "713                 84      c4e18dd6\n",
       "414                 13      27e3c518\n",
       "997                 35      61eb5bc4"
      ]
     },
     "execution_count": 19,
     "metadata": {},
     "output_type": "execute_result"
    }
   ],
   "source": [
    "SL_strona_domena = df.set_index('strona_domena')['C_strona_domena'].to_dict()\n",
    "#print(SL_strona_domena)\n",
    "df['CYF_strona_domena'] = df['strona_domena'].map(SL_strona_domena)\n",
    "del df['C_strona_domena']\n",
    "df[['CYF_strona_domena','strona_domena']].sample(4)"
   ]
  },
  {
   "cell_type": "code",
   "execution_count": 20,
   "metadata": {},
   "outputs": [
    {
     "name": "stdout",
     "output_type": "stream",
     "text": [
      "(107,)\n",
      "(107,)\n"
     ]
    }
   ],
   "source": [
    "## Sprawdzenie:\n",
    "print(df['strona_domena'].value_counts().shape)\n",
    "print(df['CYF_strona_domena'].value_counts().shape)\n",
    "#print(SL_strona_domena)"
   ]
  },
  {
   "cell_type": "markdown",
   "metadata": {},
   "source": [
    "### <span style=\"color:blue\">Cyfryzuje słownikowo: 'strona_kategoria'</span>"
   ]
  },
  {
   "cell_type": "code",
   "execution_count": 21,
   "metadata": {},
   "outputs": [
    {
     "name": "stdout",
     "output_type": "stream",
     "text": [
      "(10,)\n"
     ]
    },
    {
     "data": {
      "text/plain": [
       "28905ebd    386\n",
       "50e219e0    259\n",
       "f028772b    195\n",
       "3e814130    110\n",
       "335d28a8     23\n",
       "76b2941d     17\n",
       "0569f928      3\n",
       "f66779e6      3\n",
       "72722551      3\n",
       "75fa27f6      1\n",
       "Name: strona_kategoria, dtype: int64"
      ]
     },
     "execution_count": 21,
     "metadata": {},
     "output_type": "execute_result"
    }
   ],
   "source": [
    "print(df['strona_kategoria'].value_counts().shape)\n",
    "df['strona_kategoria'].value_counts()"
   ]
  },
  {
   "cell_type": "code",
   "execution_count": 22,
   "metadata": {},
   "outputs": [
    {
     "data": {
      "text/html": [
       "<div>\n",
       "<style scoped>\n",
       "    .dataframe tbody tr th:only-of-type {\n",
       "        vertical-align: middle;\n",
       "    }\n",
       "\n",
       "    .dataframe tbody tr th {\n",
       "        vertical-align: top;\n",
       "    }\n",
       "\n",
       "    .dataframe thead th {\n",
       "        text-align: right;\n",
       "    }\n",
       "</style>\n",
       "<table border=\"1\" class=\"dataframe\">\n",
       "  <thead>\n",
       "    <tr style=\"text-align: right;\">\n",
       "      <th></th>\n",
       "      <th>strona_kategoria</th>\n",
       "      <th>C_strona_kategoria</th>\n",
       "    </tr>\n",
       "  </thead>\n",
       "  <tbody>\n",
       "    <tr>\n",
       "      <td>992</td>\n",
       "      <td>f028772b</td>\n",
       "      <td>8</td>\n",
       "    </tr>\n",
       "    <tr>\n",
       "      <td>349</td>\n",
       "      <td>28905ebd</td>\n",
       "      <td>1</td>\n",
       "    </tr>\n",
       "  </tbody>\n",
       "</table>\n",
       "</div>"
      ],
      "text/plain": [
       "    strona_kategoria  C_strona_kategoria\n",
       "992         f028772b                   8\n",
       "349         28905ebd                   1"
      ]
     },
     "execution_count": 22,
     "metadata": {},
     "output_type": "execute_result"
    }
   ],
   "source": [
    "## Cyfryzuje przez mapowanie słownikowe:\n",
    "df['C_strona_kategoria'] = pd.Categorical(df['strona_kategoria']).codes\n",
    "df[['strona_kategoria','C_strona_kategoria']].sample(2)"
   ]
  },
  {
   "cell_type": "code",
   "execution_count": 23,
   "metadata": {},
   "outputs": [
    {
     "name": "stdout",
     "output_type": "stream",
     "text": [
      "{'50e219e0': 4, '28905ebd': 1, '3e814130': 3, 'f028772b': 8, '72722551': 5, '76b2941d': 7, 'f66779e6': 9, '335d28a8': 2, '0569f928': 0, '75fa27f6': 6}\n"
     ]
    },
    {
     "data": {
      "text/html": [
       "<div>\n",
       "<style scoped>\n",
       "    .dataframe tbody tr th:only-of-type {\n",
       "        vertical-align: middle;\n",
       "    }\n",
       "\n",
       "    .dataframe tbody tr th {\n",
       "        vertical-align: top;\n",
       "    }\n",
       "\n",
       "    .dataframe thead th {\n",
       "        text-align: right;\n",
       "    }\n",
       "</style>\n",
       "<table border=\"1\" class=\"dataframe\">\n",
       "  <thead>\n",
       "    <tr style=\"text-align: right;\">\n",
       "      <th></th>\n",
       "      <th>CYF_strona_kategoria</th>\n",
       "      <th>strona_kategoria</th>\n",
       "    </tr>\n",
       "  </thead>\n",
       "  <tbody>\n",
       "    <tr>\n",
       "      <td>498</td>\n",
       "      <td>1</td>\n",
       "      <td>28905ebd</td>\n",
       "    </tr>\n",
       "    <tr>\n",
       "      <td>300</td>\n",
       "      <td>4</td>\n",
       "      <td>50e219e0</td>\n",
       "    </tr>\n",
       "    <tr>\n",
       "      <td>26</td>\n",
       "      <td>4</td>\n",
       "      <td>50e219e0</td>\n",
       "    </tr>\n",
       "    <tr>\n",
       "      <td>173</td>\n",
       "      <td>1</td>\n",
       "      <td>28905ebd</td>\n",
       "    </tr>\n",
       "  </tbody>\n",
       "</table>\n",
       "</div>"
      ],
      "text/plain": [
       "     CYF_strona_kategoria strona_kategoria\n",
       "498                     1         28905ebd\n",
       "300                     4         50e219e0\n",
       "26                      4         50e219e0\n",
       "173                     1         28905ebd"
      ]
     },
     "execution_count": 23,
     "metadata": {},
     "output_type": "execute_result"
    }
   ],
   "source": [
    "SL_strona_kategoria = df.set_index('strona_kategoria')['C_strona_kategoria'].to_dict()\n",
    "print(SL_strona_kategoria)\n",
    "df['CYF_strona_kategoria'] = df['strona_kategoria'].map(SL_strona_kategoria)\n",
    "del df['C_strona_kategoria']\n",
    "df[['CYF_strona_kategoria','strona_kategoria']].sample(4)"
   ]
  },
  {
   "cell_type": "code",
   "execution_count": 24,
   "metadata": {},
   "outputs": [
    {
     "name": "stdout",
     "output_type": "stream",
     "text": [
      "(10,)\n",
      "(10,)\n",
      "{'50e219e0': 4, '28905ebd': 1, '3e814130': 3, 'f028772b': 8, '72722551': 5, '76b2941d': 7, 'f66779e6': 9, '335d28a8': 2, '0569f928': 0, '75fa27f6': 6}\n"
     ]
    }
   ],
   "source": [
    "## Sprawdzenie:\n",
    "print(df['strona_kategoria'].value_counts().shape)\n",
    "print(df['CYF_strona_kategoria'].value_counts().shape)\n",
    "print(SL_strona_kategoria)"
   ]
  },
  {
   "cell_type": "markdown",
   "metadata": {},
   "source": [
    "### <span style=\"color:blue\">Cyfryzuje słownikowo: 'aplikacja_id'</span>"
   ]
  },
  {
   "cell_type": "code",
   "execution_count": 25,
   "metadata": {},
   "outputs": [
    {
     "name": "stdout",
     "output_type": "stream",
     "text": [
      "(82,)\n"
     ]
    },
    {
     "data": {
      "text/plain": [
       "ecad2386    780\n",
       "febd1138     20\n",
       "e2fcccd2     17\n",
       "0acbeaa3     13\n",
       "54c5d545      9\n",
       "           ... \n",
       "54964296      1\n",
       "2bc6bb64      1\n",
       "9f41cdad      1\n",
       "d7a5d468      1\n",
       "be7bbf93      1\n",
       "Name: aplikacja_id, Length: 82, dtype: int64"
      ]
     },
     "execution_count": 25,
     "metadata": {},
     "output_type": "execute_result"
    }
   ],
   "source": [
    "print(df[ 'aplikacja_id'].value_counts().shape)\n",
    "df[ 'aplikacja_id'].value_counts()"
   ]
  },
  {
   "cell_type": "code",
   "execution_count": 26,
   "metadata": {},
   "outputs": [
    {
     "data": {
      "text/html": [
       "<div>\n",
       "<style scoped>\n",
       "    .dataframe tbody tr th:only-of-type {\n",
       "        vertical-align: middle;\n",
       "    }\n",
       "\n",
       "    .dataframe tbody tr th {\n",
       "        vertical-align: top;\n",
       "    }\n",
       "\n",
       "    .dataframe thead th {\n",
       "        text-align: right;\n",
       "    }\n",
       "</style>\n",
       "<table border=\"1\" class=\"dataframe\">\n",
       "  <thead>\n",
       "    <tr style=\"text-align: right;\">\n",
       "      <th></th>\n",
       "      <th>aplikacja_id</th>\n",
       "      <th>C_aplikacja_id</th>\n",
       "    </tr>\n",
       "  </thead>\n",
       "  <tbody>\n",
       "    <tr>\n",
       "      <td>628</td>\n",
       "      <td>ecad2386</td>\n",
       "      <td>76</td>\n",
       "    </tr>\n",
       "    <tr>\n",
       "      <td>500</td>\n",
       "      <td>febd1138</td>\n",
       "      <td>80</td>\n",
       "    </tr>\n",
       "  </tbody>\n",
       "</table>\n",
       "</div>"
      ],
      "text/plain": [
       "    aplikacja_id  C_aplikacja_id\n",
       "628     ecad2386              76\n",
       "500     febd1138              80"
      ]
     },
     "execution_count": 26,
     "metadata": {},
     "output_type": "execute_result"
    }
   ],
   "source": [
    "## Cyfryzuje przez mapowanie słownikowe:\n",
    "df['C_aplikacja_id'] = pd.Categorical(df['aplikacja_id']).codes\n",
    "df[['aplikacja_id','C_aplikacja_id']].sample(2)"
   ]
  },
  {
   "cell_type": "code",
   "execution_count": 27,
   "metadata": {},
   "outputs": [
    {
     "data": {
      "text/html": [
       "<div>\n",
       "<style scoped>\n",
       "    .dataframe tbody tr th:only-of-type {\n",
       "        vertical-align: middle;\n",
       "    }\n",
       "\n",
       "    .dataframe tbody tr th {\n",
       "        vertical-align: top;\n",
       "    }\n",
       "\n",
       "    .dataframe thead th {\n",
       "        text-align: right;\n",
       "    }\n",
       "</style>\n",
       "<table border=\"1\" class=\"dataframe\">\n",
       "  <thead>\n",
       "    <tr style=\"text-align: right;\">\n",
       "      <th></th>\n",
       "      <th>CYF_aplikacja_id</th>\n",
       "      <th>aplikacja_id</th>\n",
       "    </tr>\n",
       "  </thead>\n",
       "  <tbody>\n",
       "    <tr>\n",
       "      <td>934</td>\n",
       "      <td>8</td>\n",
       "      <td>0acbeaa3</td>\n",
       "    </tr>\n",
       "    <tr>\n",
       "      <td>521</td>\n",
       "      <td>51</td>\n",
       "      <td>a607e6a7</td>\n",
       "    </tr>\n",
       "    <tr>\n",
       "      <td>872</td>\n",
       "      <td>76</td>\n",
       "      <td>ecad2386</td>\n",
       "    </tr>\n",
       "    <tr>\n",
       "      <td>333</td>\n",
       "      <td>8</td>\n",
       "      <td>0acbeaa3</td>\n",
       "    </tr>\n",
       "  </tbody>\n",
       "</table>\n",
       "</div>"
      ],
      "text/plain": [
       "     CYF_aplikacja_id aplikacja_id\n",
       "934                 8     0acbeaa3\n",
       "521                51     a607e6a7\n",
       "872                76     ecad2386\n",
       "333                 8     0acbeaa3"
      ]
     },
     "execution_count": 27,
     "metadata": {},
     "output_type": "execute_result"
    }
   ],
   "source": [
    "SL_aplikacja_id = df.set_index('aplikacja_id')['C_aplikacja_id'].to_dict()\n",
    "#print(SL_aplikacja_id)\n",
    "df['CYF_aplikacja_id'] = df['aplikacja_id'].map(SL_aplikacja_id)\n",
    "del df['C_aplikacja_id']\n",
    "df[['CYF_aplikacja_id','aplikacja_id']].sample(4)"
   ]
  },
  {
   "cell_type": "code",
   "execution_count": 28,
   "metadata": {},
   "outputs": [
    {
     "name": "stdout",
     "output_type": "stream",
     "text": [
      "(82,)\n",
      "(82,)\n"
     ]
    }
   ],
   "source": [
    "## Sprawdzenie:\n",
    "print(df['aplikacja_id'].value_counts().shape)\n",
    "print(df['CYF_aplikacja_id'].value_counts().shape)\n",
    "#print(SL_aplikacja_id)"
   ]
  },
  {
   "cell_type": "markdown",
   "metadata": {},
   "source": [
    "### <span style=\"color:blue\"> Cyfryzuje słownikowo: 'aplikacja_domena'</span>"
   ]
  },
  {
   "cell_type": "code",
   "execution_count": 29,
   "metadata": {},
   "outputs": [
    {
     "name": "stdout",
     "output_type": "stream",
     "text": [
      "(18,)\n"
     ]
    },
    {
     "data": {
      "text/plain": [
       "7801e8d9    822\n",
       "2347f47a     84\n",
       "82e27996     20\n",
       "5c5a694b     17\n",
       "d9b5648e     15\n",
       "45a51db4     13\n",
       "aefc06bd      6\n",
       "0654b444      4\n",
       "ae637522      4\n",
       "33da2e74      3\n",
       "885c7f3f      3\n",
       "b8d325c3      2\n",
       "5b9c592b      2\n",
       "df32afa9      1\n",
       "828da833      1\n",
       "c6824def      1\n",
       "813f3323      1\n",
       "f2f777fb      1\n",
       "Name: aplikacja_domena, dtype: int64"
      ]
     },
     "execution_count": 29,
     "metadata": {},
     "output_type": "execute_result"
    }
   ],
   "source": [
    "print(df['aplikacja_domena'].value_counts().shape)\n",
    "df['aplikacja_domena'].value_counts()"
   ]
  },
  {
   "cell_type": "code",
   "execution_count": 30,
   "metadata": {},
   "outputs": [
    {
     "data": {
      "text/html": [
       "<div>\n",
       "<style scoped>\n",
       "    .dataframe tbody tr th:only-of-type {\n",
       "        vertical-align: middle;\n",
       "    }\n",
       "\n",
       "    .dataframe tbody tr th {\n",
       "        vertical-align: top;\n",
       "    }\n",
       "\n",
       "    .dataframe thead th {\n",
       "        text-align: right;\n",
       "    }\n",
       "</style>\n",
       "<table border=\"1\" class=\"dataframe\">\n",
       "  <thead>\n",
       "    <tr style=\"text-align: right;\">\n",
       "      <th></th>\n",
       "      <th>aplikacja_domena</th>\n",
       "      <th>C_aplikacja_domena</th>\n",
       "    </tr>\n",
       "  </thead>\n",
       "  <tbody>\n",
       "    <tr>\n",
       "      <td>931</td>\n",
       "      <td>7801e8d9</td>\n",
       "      <td>6</td>\n",
       "    </tr>\n",
       "    <tr>\n",
       "      <td>119</td>\n",
       "      <td>7801e8d9</td>\n",
       "      <td>6</td>\n",
       "    </tr>\n",
       "  </tbody>\n",
       "</table>\n",
       "</div>"
      ],
      "text/plain": [
       "    aplikacja_domena  C_aplikacja_domena\n",
       "931         7801e8d9                   6\n",
       "119         7801e8d9                   6"
      ]
     },
     "execution_count": 30,
     "metadata": {},
     "output_type": "execute_result"
    }
   ],
   "source": [
    "## Cyfryzuje przez mapowanie słownikowe:\n",
    "df['C_aplikacja_domena'] = pd.Categorical(df['aplikacja_domena']).codes\n",
    "df[['aplikacja_domena','C_aplikacja_domena']].sample(2)"
   ]
  },
  {
   "cell_type": "code",
   "execution_count": 31,
   "metadata": {},
   "outputs": [
    {
     "name": "stdout",
     "output_type": "stream",
     "text": [
      "{'82e27996': 9, '7801e8d9': 6, '2347f47a': 1, '828da833': 8, '45a51db4': 3, '33da2e74': 2, 'd9b5648e': 15, 'df32afa9': 16, 'aefc06bd': 12, '813f3323': 7, '885c7f3f': 10, '5c5a694b': 5, 'ae637522': 11, '0654b444': 0, '5b9c592b': 4, 'b8d325c3': 13, 'f2f777fb': 17, 'c6824def': 14}\n"
     ]
    },
    {
     "data": {
      "text/html": [
       "<div>\n",
       "<style scoped>\n",
       "    .dataframe tbody tr th:only-of-type {\n",
       "        vertical-align: middle;\n",
       "    }\n",
       "\n",
       "    .dataframe tbody tr th {\n",
       "        vertical-align: top;\n",
       "    }\n",
       "\n",
       "    .dataframe thead th {\n",
       "        text-align: right;\n",
       "    }\n",
       "</style>\n",
       "<table border=\"1\" class=\"dataframe\">\n",
       "  <thead>\n",
       "    <tr style=\"text-align: right;\">\n",
       "      <th></th>\n",
       "      <th>CYF_aplikacja_domena</th>\n",
       "      <th>aplikacja_domena</th>\n",
       "    </tr>\n",
       "  </thead>\n",
       "  <tbody>\n",
       "    <tr>\n",
       "      <td>942</td>\n",
       "      <td>6</td>\n",
       "      <td>7801e8d9</td>\n",
       "    </tr>\n",
       "    <tr>\n",
       "      <td>680</td>\n",
       "      <td>12</td>\n",
       "      <td>aefc06bd</td>\n",
       "    </tr>\n",
       "    <tr>\n",
       "      <td>357</td>\n",
       "      <td>6</td>\n",
       "      <td>7801e8d9</td>\n",
       "    </tr>\n",
       "    <tr>\n",
       "      <td>999</td>\n",
       "      <td>6</td>\n",
       "      <td>7801e8d9</td>\n",
       "    </tr>\n",
       "  </tbody>\n",
       "</table>\n",
       "</div>"
      ],
      "text/plain": [
       "     CYF_aplikacja_domena aplikacja_domena\n",
       "942                     6         7801e8d9\n",
       "680                    12         aefc06bd\n",
       "357                     6         7801e8d9\n",
       "999                     6         7801e8d9"
      ]
     },
     "execution_count": 31,
     "metadata": {},
     "output_type": "execute_result"
    }
   ],
   "source": [
    "SL_aplikacja_domena = df.set_index('aplikacja_domena')['C_aplikacja_domena'].to_dict()\n",
    "print(SL_aplikacja_domena)\n",
    "df['CYF_aplikacja_domena'] = df['aplikacja_domena'].map(SL_aplikacja_domena)\n",
    "del df['C_aplikacja_domena']\n",
    "df[['CYF_aplikacja_domena','aplikacja_domena']].sample(4)"
   ]
  },
  {
   "cell_type": "code",
   "execution_count": 32,
   "metadata": {},
   "outputs": [
    {
     "name": "stdout",
     "output_type": "stream",
     "text": [
      "(18,)\n",
      "(18,)\n",
      "{'82e27996': 9, '7801e8d9': 6, '2347f47a': 1, '828da833': 8, '45a51db4': 3, '33da2e74': 2, 'd9b5648e': 15, 'df32afa9': 16, 'aefc06bd': 12, '813f3323': 7, '885c7f3f': 10, '5c5a694b': 5, 'ae637522': 11, '0654b444': 0, '5b9c592b': 4, 'b8d325c3': 13, 'f2f777fb': 17, 'c6824def': 14}\n"
     ]
    }
   ],
   "source": [
    "## Sprawdzenie:\n",
    "print(df['aplikacja_domena'].value_counts().shape)\n",
    "print(df['CYF_aplikacja_domena'].value_counts().shape)\n",
    "print(SL_aplikacja_domena)"
   ]
  },
  {
   "cell_type": "markdown",
   "metadata": {},
   "source": [
    "### <span style=\"color:blue\"> Cyfryzuje słownikowo:  'aplikacja_kategoria'</span>"
   ]
  },
  {
   "cell_type": "code",
   "execution_count": 33,
   "metadata": {},
   "outputs": [
    {
     "name": "stdout",
     "output_type": "stream",
     "text": [
      "(8,)\n"
     ]
    },
    {
     "data": {
      "text/plain": [
       "07d7df22    785\n",
       "0f2161f8    147\n",
       "f95efa07     32\n",
       "cef3e649     16\n",
       "8ded1f7a     13\n",
       "75d80bbe      3\n",
       "d1327cf5      3\n",
       "4ce2e9fc      1\n",
       "Name: aplikacja_kategoria, dtype: int64"
      ]
     },
     "execution_count": 33,
     "metadata": {},
     "output_type": "execute_result"
    }
   ],
   "source": [
    "print(df['aplikacja_kategoria'].value_counts().shape)\n",
    "df['aplikacja_kategoria'].value_counts()"
   ]
  },
  {
   "cell_type": "code",
   "execution_count": 34,
   "metadata": {},
   "outputs": [
    {
     "data": {
      "text/html": [
       "<div>\n",
       "<style scoped>\n",
       "    .dataframe tbody tr th:only-of-type {\n",
       "        vertical-align: middle;\n",
       "    }\n",
       "\n",
       "    .dataframe tbody tr th {\n",
       "        vertical-align: top;\n",
       "    }\n",
       "\n",
       "    .dataframe thead th {\n",
       "        text-align: right;\n",
       "    }\n",
       "</style>\n",
       "<table border=\"1\" class=\"dataframe\">\n",
       "  <thead>\n",
       "    <tr style=\"text-align: right;\">\n",
       "      <th></th>\n",
       "      <th>aplikacja_kategoria</th>\n",
       "      <th>C_aplikacja_kategoria</th>\n",
       "    </tr>\n",
       "  </thead>\n",
       "  <tbody>\n",
       "    <tr>\n",
       "      <td>313</td>\n",
       "      <td>0f2161f8</td>\n",
       "      <td>1</td>\n",
       "    </tr>\n",
       "    <tr>\n",
       "      <td>91</td>\n",
       "      <td>07d7df22</td>\n",
       "      <td>0</td>\n",
       "    </tr>\n",
       "  </tbody>\n",
       "</table>\n",
       "</div>"
      ],
      "text/plain": [
       "    aplikacja_kategoria  C_aplikacja_kategoria\n",
       "313            0f2161f8                      1\n",
       "91             07d7df22                      0"
      ]
     },
     "execution_count": 34,
     "metadata": {},
     "output_type": "execute_result"
    }
   ],
   "source": [
    "## Cyfryzuje przez mapowanie słownikowe:\n",
    "df['C_aplikacja_kategoria'] = pd.Categorical(df['aplikacja_kategoria']).codes\n",
    "df[['aplikacja_kategoria','C_aplikacja_kategoria']].sample(2)"
   ]
  },
  {
   "cell_type": "code",
   "execution_count": 35,
   "metadata": {},
   "outputs": [
    {
     "name": "stdout",
     "output_type": "stream",
     "text": [
      "{'0f2161f8': 1, '07d7df22': 0, 'cef3e649': 5, 'f95efa07': 7, 'd1327cf5': 6, '8ded1f7a': 4, '4ce2e9fc': 2, '75d80bbe': 3}\n"
     ]
    },
    {
     "data": {
      "text/html": [
       "<div>\n",
       "<style scoped>\n",
       "    .dataframe tbody tr th:only-of-type {\n",
       "        vertical-align: middle;\n",
       "    }\n",
       "\n",
       "    .dataframe tbody tr th {\n",
       "        vertical-align: top;\n",
       "    }\n",
       "\n",
       "    .dataframe thead th {\n",
       "        text-align: right;\n",
       "    }\n",
       "</style>\n",
       "<table border=\"1\" class=\"dataframe\">\n",
       "  <thead>\n",
       "    <tr style=\"text-align: right;\">\n",
       "      <th></th>\n",
       "      <th>CYF_aplikacja_kategoria</th>\n",
       "      <th>aplikacja_kategoria</th>\n",
       "    </tr>\n",
       "  </thead>\n",
       "  <tbody>\n",
       "    <tr>\n",
       "      <td>216</td>\n",
       "      <td>0</td>\n",
       "      <td>07d7df22</td>\n",
       "    </tr>\n",
       "    <tr>\n",
       "      <td>871</td>\n",
       "      <td>0</td>\n",
       "      <td>07d7df22</td>\n",
       "    </tr>\n",
       "    <tr>\n",
       "      <td>696</td>\n",
       "      <td>5</td>\n",
       "      <td>cef3e649</td>\n",
       "    </tr>\n",
       "    <tr>\n",
       "      <td>806</td>\n",
       "      <td>0</td>\n",
       "      <td>07d7df22</td>\n",
       "    </tr>\n",
       "  </tbody>\n",
       "</table>\n",
       "</div>"
      ],
      "text/plain": [
       "     CYF_aplikacja_kategoria aplikacja_kategoria\n",
       "216                        0            07d7df22\n",
       "871                        0            07d7df22\n",
       "696                        5            cef3e649\n",
       "806                        0            07d7df22"
      ]
     },
     "execution_count": 35,
     "metadata": {},
     "output_type": "execute_result"
    }
   ],
   "source": [
    "SL_aplikacja_kategoria = df.set_index('aplikacja_kategoria')['C_aplikacja_kategoria'].to_dict()\n",
    "print(SL_aplikacja_kategoria)\n",
    "df['CYF_aplikacja_kategoria'] = df['aplikacja_kategoria'].map(SL_aplikacja_kategoria)\n",
    "del df['C_aplikacja_kategoria']\n",
    "df[['CYF_aplikacja_kategoria','aplikacja_kategoria']].sample(4)"
   ]
  },
  {
   "cell_type": "code",
   "execution_count": 36,
   "metadata": {},
   "outputs": [
    {
     "name": "stdout",
     "output_type": "stream",
     "text": [
      "(8,)\n",
      "(8,)\n",
      "{'0f2161f8': 1, '07d7df22': 0, 'cef3e649': 5, 'f95efa07': 7, 'd1327cf5': 6, '8ded1f7a': 4, '4ce2e9fc': 2, '75d80bbe': 3}\n"
     ]
    }
   ],
   "source": [
    "## Sprawdzenie:\n",
    "print(df['aplikacja_kategoria'].value_counts().shape)\n",
    "print(df['CYF_aplikacja_kategoria'].value_counts().shape)\n",
    "print(SL_aplikacja_kategoria)"
   ]
  },
  {
   "cell_type": "markdown",
   "metadata": {},
   "source": [
    "### <span style=\"color:blue\"> 'urz_id'</span>"
   ]
  },
  {
   "cell_type": "code",
   "execution_count": 37,
   "metadata": {},
   "outputs": [
    {
     "name": "stdout",
     "output_type": "stream",
     "text": [
      "(118,)\n"
     ]
    },
    {
     "data": {
      "text/plain": [
       "a99f214a    882\n",
       "24c3c3fe      2\n",
       "4066729b      1\n",
       "3dec06f9      1\n",
       "bd3afd93      1\n",
       "           ... \n",
       "56407ee1      1\n",
       "1aad211c      1\n",
       "32b85b67      1\n",
       "1cf8b8ca      1\n",
       "a598b0d0      1\n",
       "Name: urz_id, Length: 118, dtype: int64"
      ]
     },
     "execution_count": 37,
     "metadata": {},
     "output_type": "execute_result"
    }
   ],
   "source": [
    "print(df['urz_id'].value_counts().shape)\n",
    "df['urz_id'].value_counts()"
   ]
  },
  {
   "cell_type": "code",
   "execution_count": 38,
   "metadata": {},
   "outputs": [
    {
     "data": {
      "text/html": [
       "<div>\n",
       "<style scoped>\n",
       "    .dataframe tbody tr th:only-of-type {\n",
       "        vertical-align: middle;\n",
       "    }\n",
       "\n",
       "    .dataframe tbody tr th {\n",
       "        vertical-align: top;\n",
       "    }\n",
       "\n",
       "    .dataframe thead th {\n",
       "        text-align: right;\n",
       "    }\n",
       "</style>\n",
       "<table border=\"1\" class=\"dataframe\">\n",
       "  <thead>\n",
       "    <tr style=\"text-align: right;\">\n",
       "      <th></th>\n",
       "      <th>urz_id</th>\n",
       "      <th>C_urz_id</th>\n",
       "    </tr>\n",
       "  </thead>\n",
       "  <tbody>\n",
       "    <tr>\n",
       "      <td>336</td>\n",
       "      <td>a99f214a</td>\n",
       "      <td>83</td>\n",
       "    </tr>\n",
       "    <tr>\n",
       "      <td>929</td>\n",
       "      <td>0c3bbac0</td>\n",
       "      <td>5</td>\n",
       "    </tr>\n",
       "  </tbody>\n",
       "</table>\n",
       "</div>"
      ],
      "text/plain": [
       "       urz_id  C_urz_id\n",
       "336  a99f214a        83\n",
       "929  0c3bbac0         5"
      ]
     },
     "execution_count": 38,
     "metadata": {},
     "output_type": "execute_result"
    }
   ],
   "source": [
    "## Cyfryzuje przez mapowanie słownikowe:\n",
    "df['C_urz_id'] = pd.Categorical(df['urz_id']).codes\n",
    "df[['urz_id','C_urz_id']].sample(2)"
   ]
  },
  {
   "cell_type": "code",
   "execution_count": 39,
   "metadata": {},
   "outputs": [
    {
     "data": {
      "text/html": [
       "<div>\n",
       "<style scoped>\n",
       "    .dataframe tbody tr th:only-of-type {\n",
       "        vertical-align: middle;\n",
       "    }\n",
       "\n",
       "    .dataframe tbody tr th {\n",
       "        vertical-align: top;\n",
       "    }\n",
       "\n",
       "    .dataframe thead th {\n",
       "        text-align: right;\n",
       "    }\n",
       "</style>\n",
       "<table border=\"1\" class=\"dataframe\">\n",
       "  <thead>\n",
       "    <tr style=\"text-align: right;\">\n",
       "      <th></th>\n",
       "      <th>CYF_urz_id</th>\n",
       "      <th>urz_id</th>\n",
       "    </tr>\n",
       "  </thead>\n",
       "  <tbody>\n",
       "    <tr>\n",
       "      <td>424</td>\n",
       "      <td>62</td>\n",
       "      <td>79a261b0</td>\n",
       "    </tr>\n",
       "    <tr>\n",
       "      <td>49</td>\n",
       "      <td>17</td>\n",
       "      <td>21a692c3</td>\n",
       "    </tr>\n",
       "    <tr>\n",
       "      <td>146</td>\n",
       "      <td>83</td>\n",
       "      <td>a99f214a</td>\n",
       "    </tr>\n",
       "    <tr>\n",
       "      <td>166</td>\n",
       "      <td>83</td>\n",
       "      <td>a99f214a</td>\n",
       "    </tr>\n",
       "  </tbody>\n",
       "</table>\n",
       "</div>"
      ],
      "text/plain": [
       "     CYF_urz_id    urz_id\n",
       "424          62  79a261b0\n",
       "49           17  21a692c3\n",
       "146          83  a99f214a\n",
       "166          83  a99f214a"
      ]
     },
     "execution_count": 39,
     "metadata": {},
     "output_type": "execute_result"
    }
   ],
   "source": [
    "SL_urz_id = df.set_index('urz_id')['C_urz_id'].to_dict()\n",
    "#print(SL_urz_id)\n",
    "df['CYF_urz_id'] = df['urz_id'].map(SL_urz_id)\n",
    "del df['C_urz_id']\n",
    "df[['CYF_urz_id','urz_id']].sample(4)"
   ]
  },
  {
   "cell_type": "code",
   "execution_count": 40,
   "metadata": {},
   "outputs": [
    {
     "name": "stdout",
     "output_type": "stream",
     "text": [
      "(118,)\n",
      "(118,)\n"
     ]
    }
   ],
   "source": [
    "## Sprawdzenie:\n",
    "print(df['urz_id'].value_counts().shape)\n",
    "print(df['CYF_urz_id'].value_counts().shape)\n",
    "#print(SL_urz_id)"
   ]
  },
  {
   "cell_type": "markdown",
   "metadata": {},
   "source": [
    "### <span style=\"color:blue\"> Cyfryzuje słownikowo: Cyfryzuje słownikowo: 'urz_ip'</span>"
   ]
  },
  {
   "cell_type": "code",
   "execution_count": 41,
   "metadata": {},
   "outputs": [
    {
     "name": "stdout",
     "output_type": "stream",
     "text": [
      "(906,)\n"
     ]
    },
    {
     "data": {
      "text/plain": [
       "6b9769f2    14\n",
       "75bb1b58     6\n",
       "ac77b71a     5\n",
       "0489ce3f     5\n",
       "9b1fe278     4\n",
       "            ..\n",
       "05f8a378     1\n",
       "3f688c66     1\n",
       "71373a55     1\n",
       "9a912aaa     1\n",
       "c3b91cd0     1\n",
       "Name: urz_ip, Length: 906, dtype: int64"
      ]
     },
     "execution_count": 41,
     "metadata": {},
     "output_type": "execute_result"
    }
   ],
   "source": [
    "print(df['urz_ip'].value_counts().shape)\n",
    "df['urz_ip'].value_counts()"
   ]
  },
  {
   "cell_type": "code",
   "execution_count": 42,
   "metadata": {},
   "outputs": [
    {
     "data": {
      "text/html": [
       "<div>\n",
       "<style scoped>\n",
       "    .dataframe tbody tr th:only-of-type {\n",
       "        vertical-align: middle;\n",
       "    }\n",
       "\n",
       "    .dataframe tbody tr th {\n",
       "        vertical-align: top;\n",
       "    }\n",
       "\n",
       "    .dataframe thead th {\n",
       "        text-align: right;\n",
       "    }\n",
       "</style>\n",
       "<table border=\"1\" class=\"dataframe\">\n",
       "  <thead>\n",
       "    <tr style=\"text-align: right;\">\n",
       "      <th></th>\n",
       "      <th>urz_ip</th>\n",
       "      <th>C_urz_ip</th>\n",
       "    </tr>\n",
       "  </thead>\n",
       "  <tbody>\n",
       "    <tr>\n",
       "      <td>709</td>\n",
       "      <td>22310279</td>\n",
       "      <td>98</td>\n",
       "    </tr>\n",
       "    <tr>\n",
       "      <td>819</td>\n",
       "      <td>7736d588</td>\n",
       "      <td>422</td>\n",
       "    </tr>\n",
       "  </tbody>\n",
       "</table>\n",
       "</div>"
      ],
      "text/plain": [
       "       urz_ip  C_urz_ip\n",
       "709  22310279        98\n",
       "819  7736d588       422"
      ]
     },
     "execution_count": 42,
     "metadata": {},
     "output_type": "execute_result"
    }
   ],
   "source": [
    "## Cyfryzuje przez mapowanie słownikowe:\n",
    "df['C_urz_ip'] = pd.Categorical(df['urz_ip']).codes\n",
    "df[['urz_ip','C_urz_ip']].sample(2)"
   ]
  },
  {
   "cell_type": "code",
   "execution_count": 43,
   "metadata": {},
   "outputs": [
    {
     "data": {
      "text/html": [
       "<div>\n",
       "<style scoped>\n",
       "    .dataframe tbody tr th:only-of-type {\n",
       "        vertical-align: middle;\n",
       "    }\n",
       "\n",
       "    .dataframe tbody tr th {\n",
       "        vertical-align: top;\n",
       "    }\n",
       "\n",
       "    .dataframe thead th {\n",
       "        text-align: right;\n",
       "    }\n",
       "</style>\n",
       "<table border=\"1\" class=\"dataframe\">\n",
       "  <thead>\n",
       "    <tr style=\"text-align: right;\">\n",
       "      <th></th>\n",
       "      <th>CYF_urz_ip</th>\n",
       "      <th>urz_ip</th>\n",
       "    </tr>\n",
       "  </thead>\n",
       "  <tbody>\n",
       "    <tr>\n",
       "      <td>828</td>\n",
       "      <td>521</td>\n",
       "      <td>9635c120</td>\n",
       "    </tr>\n",
       "    <tr>\n",
       "      <td>242</td>\n",
       "      <td>554</td>\n",
       "      <td>9bec6c28</td>\n",
       "    </tr>\n",
       "    <tr>\n",
       "      <td>135</td>\n",
       "      <td>748</td>\n",
       "      <td>d53a0976</td>\n",
       "    </tr>\n",
       "    <tr>\n",
       "      <td>821</td>\n",
       "      <td>358</td>\n",
       "      <td>6a4f081f</td>\n",
       "    </tr>\n",
       "  </tbody>\n",
       "</table>\n",
       "</div>"
      ],
      "text/plain": [
       "     CYF_urz_ip    urz_ip\n",
       "828         521  9635c120\n",
       "242         554  9bec6c28\n",
       "135         748  d53a0976\n",
       "821         358  6a4f081f"
      ]
     },
     "execution_count": 43,
     "metadata": {},
     "output_type": "execute_result"
    }
   ],
   "source": [
    "SL_urz_ip = df.set_index('urz_ip')['C_urz_ip'].to_dict()\n",
    "#print(SL_urz_ip)\n",
    "df['CYF_urz_ip'] = df['urz_ip'].map(SL_urz_ip)\n",
    "del df['C_urz_ip']\n",
    "df[['CYF_urz_ip','urz_ip']].sample(4)"
   ]
  },
  {
   "cell_type": "code",
   "execution_count": 44,
   "metadata": {},
   "outputs": [
    {
     "name": "stdout",
     "output_type": "stream",
     "text": [
      "(906,)\n",
      "(906,)\n"
     ]
    }
   ],
   "source": [
    "## Sprawdzenie:\n",
    "print(df['urz_ip'].value_counts().shape)\n",
    "print(df['CYF_urz_ip'].value_counts().shape)\n",
    "#print(SL_urz_ip)"
   ]
  },
  {
   "cell_type": "markdown",
   "metadata": {},
   "source": [
    "### <span style=\"color:blue\">'urz_model'</span>"
   ]
  },
  {
   "cell_type": "code",
   "execution_count": 45,
   "metadata": {},
   "outputs": [
    {
     "name": "stdout",
     "output_type": "stream",
     "text": [
      "(365,)\n"
     ]
    },
    {
     "data": {
      "text/plain": [
       "8a4875bd    69\n",
       "d787e91b    55\n",
       "1f0bc64f    31\n",
       "84ebbcd4    23\n",
       "3bd9e8e7    20\n",
       "            ..\n",
       "8d5a361f     1\n",
       "7fe9fa2c     1\n",
       "987b276c     1\n",
       "96a7c171     1\n",
       "44956a24     1\n",
       "Name: urz_model, Length: 365, dtype: int64"
      ]
     },
     "execution_count": 45,
     "metadata": {},
     "output_type": "execute_result"
    }
   ],
   "source": [
    "print(df['urz_model'].value_counts().shape)\n",
    "df['urz_model'].value_counts()"
   ]
  },
  {
   "cell_type": "code",
   "execution_count": 46,
   "metadata": {},
   "outputs": [
    {
     "data": {
      "text/html": [
       "<div>\n",
       "<style scoped>\n",
       "    .dataframe tbody tr th:only-of-type {\n",
       "        vertical-align: middle;\n",
       "    }\n",
       "\n",
       "    .dataframe tbody tr th {\n",
       "        vertical-align: top;\n",
       "    }\n",
       "\n",
       "    .dataframe thead th {\n",
       "        text-align: right;\n",
       "    }\n",
       "</style>\n",
       "<table border=\"1\" class=\"dataframe\">\n",
       "  <thead>\n",
       "    <tr style=\"text-align: right;\">\n",
       "      <th></th>\n",
       "      <th>urz_model</th>\n",
       "      <th>C_urz_model</th>\n",
       "    </tr>\n",
       "  </thead>\n",
       "  <tbody>\n",
       "    <tr>\n",
       "      <td>869</td>\n",
       "      <td>97108bdd</td>\n",
       "      <td>211</td>\n",
       "    </tr>\n",
       "    <tr>\n",
       "      <td>199</td>\n",
       "      <td>b4ffa83a</td>\n",
       "      <td>259</td>\n",
       "    </tr>\n",
       "  </tbody>\n",
       "</table>\n",
       "</div>"
      ],
      "text/plain": [
       "    urz_model  C_urz_model\n",
       "869  97108bdd          211\n",
       "199  b4ffa83a          259"
      ]
     },
     "execution_count": 46,
     "metadata": {},
     "output_type": "execute_result"
    }
   ],
   "source": [
    "## Cyfryzuje przez mapowanie słownikowe:\n",
    "df['C_urz_model'] = pd.Categorical(df['urz_model']).codes\n",
    "df[['urz_model','C_urz_model']].sample(2)"
   ]
  },
  {
   "cell_type": "code",
   "execution_count": 47,
   "metadata": {},
   "outputs": [
    {
     "data": {
      "text/html": [
       "<div>\n",
       "<style scoped>\n",
       "    .dataframe tbody tr th:only-of-type {\n",
       "        vertical-align: middle;\n",
       "    }\n",
       "\n",
       "    .dataframe tbody tr th {\n",
       "        vertical-align: top;\n",
       "    }\n",
       "\n",
       "    .dataframe thead th {\n",
       "        text-align: right;\n",
       "    }\n",
       "</style>\n",
       "<table border=\"1\" class=\"dataframe\">\n",
       "  <thead>\n",
       "    <tr style=\"text-align: right;\">\n",
       "      <th></th>\n",
       "      <th>CYF_urz_model</th>\n",
       "      <th>urz_model</th>\n",
       "    </tr>\n",
       "  </thead>\n",
       "  <tbody>\n",
       "    <tr>\n",
       "      <td>249</td>\n",
       "      <td>308</td>\n",
       "      <td>d400d41b</td>\n",
       "    </tr>\n",
       "    <tr>\n",
       "      <td>473</td>\n",
       "      <td>92</td>\n",
       "      <td>3bd9e8e7</td>\n",
       "    </tr>\n",
       "    <tr>\n",
       "      <td>318</td>\n",
       "      <td>38</td>\n",
       "      <td>16954458</td>\n",
       "    </tr>\n",
       "    <tr>\n",
       "      <td>554</td>\n",
       "      <td>42</td>\n",
       "      <td>1aa0e912</td>\n",
       "    </tr>\n",
       "  </tbody>\n",
       "</table>\n",
       "</div>"
      ],
      "text/plain": [
       "     CYF_urz_model urz_model\n",
       "249            308  d400d41b\n",
       "473             92  3bd9e8e7\n",
       "318             38  16954458\n",
       "554             42  1aa0e912"
      ]
     },
     "execution_count": 47,
     "metadata": {},
     "output_type": "execute_result"
    }
   ],
   "source": [
    "SL_urz_model = df.set_index('urz_model')['C_urz_model'].to_dict()\n",
    "#print(SL_urz_model)\n",
    "df['CYF_urz_model'] = df['urz_model'].map(SL_urz_model)\n",
    "del df['C_urz_model']\n",
    "df[['CYF_urz_model','urz_model']].sample(4)"
   ]
  },
  {
   "cell_type": "code",
   "execution_count": 48,
   "metadata": {},
   "outputs": [
    {
     "name": "stdout",
     "output_type": "stream",
     "text": [
      "(365,)\n",
      "(365,)\n"
     ]
    }
   ],
   "source": [
    "## Sprawdzenie:\n",
    "print(df['urz_model'].value_counts().shape)\n",
    "print(df['CYF_urz_model'].value_counts().shape)\n",
    "#print(SL_urz_model)"
   ]
  },
  {
   "cell_type": "code",
   "execution_count": 49,
   "metadata": {},
   "outputs": [
    {
     "data": {
      "text/plain": [
       "Index(['id', 'klik', 'data_godzina', 'baner_pozycja', 'strona_id',\n",
       "       'strona_domena', 'strona_kategoria', 'aplikacja_id', 'aplikacja_domena',\n",
       "       'aplikacja_kategoria', 'urz_id', 'urz_ip', 'urz_model', 'urz_typ',\n",
       "       'urz_polaczenie', 'kat1', 'kat2', 'kat3', 'kat4', 'kat5', 'kat6',\n",
       "       'kat7', 'kat8', 'kat9', 'CYF_data_godzina', 'CYF_baner_pozycja',\n",
       "       'CYF_strona_id', 'CYF_strona_domena', 'CYF_strona_kategoria',\n",
       "       'CYF_aplikacja_id', 'CYF_aplikacja_domena', 'CYF_aplikacja_kategoria',\n",
       "       'CYF_urz_id', 'CYF_urz_ip', 'CYF_urz_model'],\n",
       "      dtype='object')"
      ]
     },
     "execution_count": 49,
     "metadata": {},
     "output_type": "execute_result"
    }
   ],
   "source": [
    "df.columns"
   ]
  },
  {
   "cell_type": "markdown",
   "metadata": {},
   "source": [
    "### <span style=\"color:blue\"> Cyfryzuje słownikowo: 'urz_typ'</span>\n",
    "NIE TRZEBA CYFRYZOWAĆ"
   ]
  },
  {
   "cell_type": "code",
   "execution_count": 50,
   "metadata": {},
   "outputs": [
    {
     "name": "stdout",
     "output_type": "stream",
     "text": [
      "(4,)\n"
     ]
    },
    {
     "data": {
      "text/plain": [
       "1    927\n",
       "0     44\n",
       "4     25\n",
       "5      4\n",
       "Name: urz_typ, dtype: int64"
      ]
     },
     "execution_count": 50,
     "metadata": {},
     "output_type": "execute_result"
    }
   ],
   "source": [
    "print(df['urz_typ'].value_counts().shape)\n",
    "df['urz_typ'].value_counts()"
   ]
  },
  {
   "cell_type": "code",
   "execution_count": 51,
   "metadata": {},
   "outputs": [],
   "source": [
    "df['CYF_urz_typ']=df['urz_typ']"
   ]
  },
  {
   "cell_type": "markdown",
   "metadata": {},
   "source": [
    "### <span style=\"color:blue\"> Cyfryzuje słownikowo: 'urz_polaczenie'</span>\n",
    "NIE TRZEBA CYFRYZOWAĆ"
   ]
  },
  {
   "cell_type": "code",
   "execution_count": 52,
   "metadata": {},
   "outputs": [
    {
     "name": "stdout",
     "output_type": "stream",
     "text": [
      "(3,)\n"
     ]
    },
    {
     "data": {
      "text/plain": [
       "0    906\n",
       "2     84\n",
       "3     10\n",
       "Name: urz_polaczenie, dtype: int64"
      ]
     },
     "execution_count": 52,
     "metadata": {},
     "output_type": "execute_result"
    }
   ],
   "source": [
    "print(df['urz_polaczenie'].value_counts().shape)\n",
    "df['urz_polaczenie'].value_counts()"
   ]
  },
  {
   "cell_type": "code",
   "execution_count": 53,
   "metadata": {},
   "outputs": [],
   "source": [
    "df['CYF_urz_polaczenie']=df['urz_polaczenie']"
   ]
  },
  {
   "cell_type": "markdown",
   "metadata": {},
   "source": [
    "### <span style=\"color:blue\"> Cyfryzuje słownikowo: kat1</span>"
   ]
  },
  {
   "cell_type": "code",
   "execution_count": 54,
   "metadata": {},
   "outputs": [
    {
     "name": "stdout",
     "output_type": "stream",
     "text": [
      "(3,)\n"
     ]
    },
    {
     "data": {
      "text/plain": [
       "105    927\n",
       "102     44\n",
       "110     29\n",
       "Name: kat1, dtype: int64"
      ]
     },
     "execution_count": 54,
     "metadata": {},
     "output_type": "execute_result"
    }
   ],
   "source": [
    "print(df['kat1'].value_counts().shape)\n",
    "df['kat1'].value_counts()"
   ]
  },
  {
   "cell_type": "code",
   "execution_count": 55,
   "metadata": {},
   "outputs": [
    {
     "data": {
      "text/html": [
       "<div>\n",
       "<style scoped>\n",
       "    .dataframe tbody tr th:only-of-type {\n",
       "        vertical-align: middle;\n",
       "    }\n",
       "\n",
       "    .dataframe tbody tr th {\n",
       "        vertical-align: top;\n",
       "    }\n",
       "\n",
       "    .dataframe thead th {\n",
       "        text-align: right;\n",
       "    }\n",
       "</style>\n",
       "<table border=\"1\" class=\"dataframe\">\n",
       "  <thead>\n",
       "    <tr style=\"text-align: right;\">\n",
       "      <th></th>\n",
       "      <th>kat1</th>\n",
       "      <th>C_kat1</th>\n",
       "    </tr>\n",
       "  </thead>\n",
       "  <tbody>\n",
       "    <tr>\n",
       "      <td>757</td>\n",
       "      <td>105</td>\n",
       "      <td>1</td>\n",
       "    </tr>\n",
       "    <tr>\n",
       "      <td>589</td>\n",
       "      <td>105</td>\n",
       "      <td>1</td>\n",
       "    </tr>\n",
       "  </tbody>\n",
       "</table>\n",
       "</div>"
      ],
      "text/plain": [
       "     kat1  C_kat1\n",
       "757   105       1\n",
       "589   105       1"
      ]
     },
     "execution_count": 55,
     "metadata": {},
     "output_type": "execute_result"
    }
   ],
   "source": [
    "## Cyfryzuje przez mapowanie słownikowe:\n",
    "df['C_kat1'] = pd.Categorical(df['kat1']).codes\n",
    "df[['kat1','C_kat1']].sample(2)"
   ]
  },
  {
   "cell_type": "code",
   "execution_count": 56,
   "metadata": {},
   "outputs": [
    {
     "data": {
      "text/html": [
       "<div>\n",
       "<style scoped>\n",
       "    .dataframe tbody tr th:only-of-type {\n",
       "        vertical-align: middle;\n",
       "    }\n",
       "\n",
       "    .dataframe tbody tr th {\n",
       "        vertical-align: top;\n",
       "    }\n",
       "\n",
       "    .dataframe thead th {\n",
       "        text-align: right;\n",
       "    }\n",
       "</style>\n",
       "<table border=\"1\" class=\"dataframe\">\n",
       "  <thead>\n",
       "    <tr style=\"text-align: right;\">\n",
       "      <th></th>\n",
       "      <th>CYF_kat1</th>\n",
       "      <th>kat1</th>\n",
       "    </tr>\n",
       "  </thead>\n",
       "  <tbody>\n",
       "    <tr>\n",
       "      <td>701</td>\n",
       "      <td>1</td>\n",
       "      <td>105</td>\n",
       "    </tr>\n",
       "    <tr>\n",
       "      <td>865</td>\n",
       "      <td>1</td>\n",
       "      <td>105</td>\n",
       "    </tr>\n",
       "    <tr>\n",
       "      <td>88</td>\n",
       "      <td>1</td>\n",
       "      <td>105</td>\n",
       "    </tr>\n",
       "    <tr>\n",
       "      <td>508</td>\n",
       "      <td>1</td>\n",
       "      <td>105</td>\n",
       "    </tr>\n",
       "  </tbody>\n",
       "</table>\n",
       "</div>"
      ],
      "text/plain": [
       "     CYF_kat1  kat1\n",
       "701         1   105\n",
       "865         1   105\n",
       "88          1   105\n",
       "508         1   105"
      ]
     },
     "execution_count": 56,
     "metadata": {},
     "output_type": "execute_result"
    }
   ],
   "source": [
    "SL_kat1 = df.set_index('kat1')['C_kat1'].to_dict()\n",
    "#print(SL_kat1)\n",
    "df['CYF_kat1'] = df['kat1'].map(SL_kat1)\n",
    "del df['C_kat1']\n",
    "df[['CYF_kat1','kat1']].sample(4)"
   ]
  },
  {
   "cell_type": "code",
   "execution_count": 57,
   "metadata": {},
   "outputs": [
    {
     "name": "stdout",
     "output_type": "stream",
     "text": [
      "(3,)\n",
      "(3,)\n"
     ]
    }
   ],
   "source": [
    "## Sprawdzenie:\n",
    "print(df['kat1'].value_counts().shape)\n",
    "print(df['CYF_kat1'].value_counts().shape)\n",
    "#print(SL_kat1)"
   ]
  },
  {
   "cell_type": "markdown",
   "metadata": {},
   "source": [
    "### <span style=\"color:blue\"> Cyfryzuje słownikowo: kat2</span>"
   ]
  },
  {
   "cell_type": "code",
   "execution_count": 58,
   "metadata": {},
   "outputs": [
    {
     "name": "stdout",
     "output_type": "stream",
     "text": [
      "(130,)\n"
     ]
    },
    {
     "data": {
      "text/plain": [
       "120596    77\n",
       "118993    58\n",
       "115701    57\n",
       "115704    45\n",
       "115708    44\n",
       "          ..\n",
       "121684     1\n",
       "112471     1\n",
       "119016     1\n",
       "101270     1\n",
       "106361     1\n",
       "Name: kat2, Length: 130, dtype: int64"
      ]
     },
     "execution_count": 58,
     "metadata": {},
     "output_type": "execute_result"
    }
   ],
   "source": [
    "print(df['kat2'].value_counts().shape)\n",
    "df['kat2'].value_counts()"
   ]
  },
  {
   "cell_type": "code",
   "execution_count": 59,
   "metadata": {},
   "outputs": [
    {
     "data": {
      "text/html": [
       "<div>\n",
       "<style scoped>\n",
       "    .dataframe tbody tr th:only-of-type {\n",
       "        vertical-align: middle;\n",
       "    }\n",
       "\n",
       "    .dataframe tbody tr th {\n",
       "        vertical-align: top;\n",
       "    }\n",
       "\n",
       "    .dataframe thead th {\n",
       "        text-align: right;\n",
       "    }\n",
       "</style>\n",
       "<table border=\"1\" class=\"dataframe\">\n",
       "  <thead>\n",
       "    <tr style=\"text-align: right;\">\n",
       "      <th></th>\n",
       "      <th>kat2</th>\n",
       "      <th>C_kat2</th>\n",
       "    </tr>\n",
       "  </thead>\n",
       "  <tbody>\n",
       "    <tr>\n",
       "      <td>625</td>\n",
       "      <td>115701</td>\n",
       "      <td>30</td>\n",
       "    </tr>\n",
       "    <tr>\n",
       "      <td>656</td>\n",
       "      <td>119950</td>\n",
       "      <td>76</td>\n",
       "    </tr>\n",
       "  </tbody>\n",
       "</table>\n",
       "</div>"
      ],
      "text/plain": [
       "       kat2  C_kat2\n",
       "625  115701      30\n",
       "656  119950      76"
      ]
     },
     "execution_count": 59,
     "metadata": {},
     "output_type": "execute_result"
    }
   ],
   "source": [
    "## Cyfryzuje przez mapowanie słownikowe:\n",
    "df['C_kat2'] = pd.Categorical(df['kat2']).codes\n",
    "df[['kat2','C_kat2']].sample(2)"
   ]
  },
  {
   "cell_type": "code",
   "execution_count": 60,
   "metadata": {},
   "outputs": [
    {
     "data": {
      "text/html": [
       "<div>\n",
       "<style scoped>\n",
       "    .dataframe tbody tr th:only-of-type {\n",
       "        vertical-align: middle;\n",
       "    }\n",
       "\n",
       "    .dataframe tbody tr th {\n",
       "        vertical-align: top;\n",
       "    }\n",
       "\n",
       "    .dataframe thead th {\n",
       "        text-align: right;\n",
       "    }\n",
       "</style>\n",
       "<table border=\"1\" class=\"dataframe\">\n",
       "  <thead>\n",
       "    <tr style=\"text-align: right;\">\n",
       "      <th></th>\n",
       "      <th>CYF_kat2</th>\n",
       "      <th>kat2</th>\n",
       "    </tr>\n",
       "  </thead>\n",
       "  <tbody>\n",
       "    <tr>\n",
       "      <td>174</td>\n",
       "      <td>122</td>\n",
       "      <td>121665</td>\n",
       "    </tr>\n",
       "    <tr>\n",
       "      <td>188</td>\n",
       "      <td>34</td>\n",
       "      <td>115705</td>\n",
       "    </tr>\n",
       "    <tr>\n",
       "      <td>956</td>\n",
       "      <td>98</td>\n",
       "      <td>120366</td>\n",
       "    </tr>\n",
       "    <tr>\n",
       "      <td>638</td>\n",
       "      <td>115</td>\n",
       "      <td>121311</td>\n",
       "    </tr>\n",
       "  </tbody>\n",
       "</table>\n",
       "</div>"
      ],
      "text/plain": [
       "     CYF_kat2    kat2\n",
       "174       122  121665\n",
       "188        34  115705\n",
       "956        98  120366\n",
       "638       115  121311"
      ]
     },
     "execution_count": 60,
     "metadata": {},
     "output_type": "execute_result"
    }
   ],
   "source": [
    "SL_kat2 = df.set_index('kat2')['C_kat2'].to_dict()\n",
    "#print(SL_kat2)\n",
    "df['CYF_kat2'] = df['kat2'].map(SL_kat2)\n",
    "del df['C_kat2']\n",
    "df[['CYF_kat2','kat2']].sample(4)"
   ]
  },
  {
   "cell_type": "code",
   "execution_count": 61,
   "metadata": {},
   "outputs": [
    {
     "name": "stdout",
     "output_type": "stream",
     "text": [
      "(130,)\n",
      "(130,)\n"
     ]
    }
   ],
   "source": [
    "## Sprawdzenie:\n",
    "print(df['kat2'].value_counts().shape)\n",
    "print(df['CYF_kat2'].value_counts().shape)\n",
    "#print(SL_kat2)"
   ]
  },
  {
   "cell_type": "markdown",
   "metadata": {},
   "source": [
    "### <span style=\"color:blue\"> Cyfryzuje słownikowo: kat3</span>"
   ]
  },
  {
   "cell_type": "code",
   "execution_count": 62,
   "metadata": {},
   "outputs": [
    {
     "name": "stdout",
     "output_type": "stream",
     "text": [
      "(3,)\n"
     ]
    },
    {
     "data": {
      "text/plain": [
       "10320    949\n",
       "10300     38\n",
       "10216     13\n",
       "Name: kat3, dtype: int64"
      ]
     },
     "execution_count": 62,
     "metadata": {},
     "output_type": "execute_result"
    }
   ],
   "source": [
    "print(df['kat3'].value_counts().shape)\n",
    "df['kat3'].value_counts()"
   ]
  },
  {
   "cell_type": "code",
   "execution_count": 63,
   "metadata": {},
   "outputs": [
    {
     "data": {
      "text/html": [
       "<div>\n",
       "<style scoped>\n",
       "    .dataframe tbody tr th:only-of-type {\n",
       "        vertical-align: middle;\n",
       "    }\n",
       "\n",
       "    .dataframe tbody tr th {\n",
       "        vertical-align: top;\n",
       "    }\n",
       "\n",
       "    .dataframe thead th {\n",
       "        text-align: right;\n",
       "    }\n",
       "</style>\n",
       "<table border=\"1\" class=\"dataframe\">\n",
       "  <thead>\n",
       "    <tr style=\"text-align: right;\">\n",
       "      <th></th>\n",
       "      <th>kat3</th>\n",
       "      <th>C_kat3</th>\n",
       "    </tr>\n",
       "  </thead>\n",
       "  <tbody>\n",
       "    <tr>\n",
       "      <td>746</td>\n",
       "      <td>10320</td>\n",
       "      <td>2</td>\n",
       "    </tr>\n",
       "    <tr>\n",
       "      <td>567</td>\n",
       "      <td>10320</td>\n",
       "      <td>2</td>\n",
       "    </tr>\n",
       "  </tbody>\n",
       "</table>\n",
       "</div>"
      ],
      "text/plain": [
       "      kat3  C_kat3\n",
       "746  10320       2\n",
       "567  10320       2"
      ]
     },
     "execution_count": 63,
     "metadata": {},
     "output_type": "execute_result"
    }
   ],
   "source": [
    "## Cyfryzuje przez mapowanie słownikowe:\n",
    "df['C_kat3'] = pd.Categorical(df['kat3']).codes\n",
    "df[['kat3','C_kat3']].sample(2)"
   ]
  },
  {
   "cell_type": "code",
   "execution_count": 64,
   "metadata": {},
   "outputs": [
    {
     "data": {
      "text/html": [
       "<div>\n",
       "<style scoped>\n",
       "    .dataframe tbody tr th:only-of-type {\n",
       "        vertical-align: middle;\n",
       "    }\n",
       "\n",
       "    .dataframe tbody tr th {\n",
       "        vertical-align: top;\n",
       "    }\n",
       "\n",
       "    .dataframe thead th {\n",
       "        text-align: right;\n",
       "    }\n",
       "</style>\n",
       "<table border=\"1\" class=\"dataframe\">\n",
       "  <thead>\n",
       "    <tr style=\"text-align: right;\">\n",
       "      <th></th>\n",
       "      <th>CYF_kat3</th>\n",
       "      <th>kat3</th>\n",
       "    </tr>\n",
       "  </thead>\n",
       "  <tbody>\n",
       "    <tr>\n",
       "      <td>130</td>\n",
       "      <td>2</td>\n",
       "      <td>10320</td>\n",
       "    </tr>\n",
       "    <tr>\n",
       "      <td>238</td>\n",
       "      <td>2</td>\n",
       "      <td>10320</td>\n",
       "    </tr>\n",
       "    <tr>\n",
       "      <td>864</td>\n",
       "      <td>2</td>\n",
       "      <td>10320</td>\n",
       "    </tr>\n",
       "    <tr>\n",
       "      <td>252</td>\n",
       "      <td>2</td>\n",
       "      <td>10320</td>\n",
       "    </tr>\n",
       "  </tbody>\n",
       "</table>\n",
       "</div>"
      ],
      "text/plain": [
       "     CYF_kat3   kat3\n",
       "130         2  10320\n",
       "238         2  10320\n",
       "864         2  10320\n",
       "252         2  10320"
      ]
     },
     "execution_count": 64,
     "metadata": {},
     "output_type": "execute_result"
    }
   ],
   "source": [
    "SL_kat3 = df.set_index('kat3')['C_kat3'].to_dict()\n",
    "#print(SL_kat1)\n",
    "df['CYF_kat3'] = df['kat3'].map(SL_kat3)\n",
    "del df['C_kat3']\n",
    "df[['CYF_kat3','kat3']].sample(4)"
   ]
  },
  {
   "cell_type": "code",
   "execution_count": 65,
   "metadata": {},
   "outputs": [
    {
     "name": "stdout",
     "output_type": "stream",
     "text": [
      "(3,)\n",
      "(3,)\n"
     ]
    }
   ],
   "source": [
    "## Sprawdzenie:\n",
    "print(df['kat3'].value_counts().shape)\n",
    "print(df['CYF_kat3'].value_counts().shape)\n",
    "#print(SL_kat3)"
   ]
  },
  {
   "cell_type": "markdown",
   "metadata": {},
   "source": [
    "### <span style=\"color:blue\"> Cyfryzuje słownikowo: kat4</span>"
   ]
  },
  {
   "cell_type": "code",
   "execution_count": 66,
   "metadata": {},
   "outputs": [
    {
     "name": "stdout",
     "output_type": "stream",
     "text": [
      "(4,)\n"
     ]
    },
    {
     "data": {
      "text/plain": [
       "10050    953\n",
       "10250     33\n",
       "10036     13\n",
       "10480      1\n",
       "Name: kat4, dtype: int64"
      ]
     },
     "execution_count": 66,
     "metadata": {},
     "output_type": "execute_result"
    }
   ],
   "source": [
    "print(df['kat4'].value_counts().shape)\n",
    "df['kat4'].value_counts()"
   ]
  },
  {
   "cell_type": "code",
   "execution_count": 67,
   "metadata": {},
   "outputs": [
    {
     "data": {
      "text/html": [
       "<div>\n",
       "<style scoped>\n",
       "    .dataframe tbody tr th:only-of-type {\n",
       "        vertical-align: middle;\n",
       "    }\n",
       "\n",
       "    .dataframe tbody tr th {\n",
       "        vertical-align: top;\n",
       "    }\n",
       "\n",
       "    .dataframe thead th {\n",
       "        text-align: right;\n",
       "    }\n",
       "</style>\n",
       "<table border=\"1\" class=\"dataframe\">\n",
       "  <thead>\n",
       "    <tr style=\"text-align: right;\">\n",
       "      <th></th>\n",
       "      <th>kat4</th>\n",
       "      <th>C_kat4</th>\n",
       "    </tr>\n",
       "  </thead>\n",
       "  <tbody>\n",
       "    <tr>\n",
       "      <td>129</td>\n",
       "      <td>10050</td>\n",
       "      <td>1</td>\n",
       "    </tr>\n",
       "    <tr>\n",
       "      <td>832</td>\n",
       "      <td>10050</td>\n",
       "      <td>1</td>\n",
       "    </tr>\n",
       "  </tbody>\n",
       "</table>\n",
       "</div>"
      ],
      "text/plain": [
       "      kat4  C_kat4\n",
       "129  10050       1\n",
       "832  10050       1"
      ]
     },
     "execution_count": 67,
     "metadata": {},
     "output_type": "execute_result"
    }
   ],
   "source": [
    "## Cyfryzuje przez mapowanie słownikowe:\n",
    "df['C_kat4'] = pd.Categorical(df['kat4']).codes\n",
    "df[['kat4','C_kat4']].sample(2)"
   ]
  },
  {
   "cell_type": "code",
   "execution_count": 68,
   "metadata": {},
   "outputs": [
    {
     "data": {
      "text/html": [
       "<div>\n",
       "<style scoped>\n",
       "    .dataframe tbody tr th:only-of-type {\n",
       "        vertical-align: middle;\n",
       "    }\n",
       "\n",
       "    .dataframe tbody tr th {\n",
       "        vertical-align: top;\n",
       "    }\n",
       "\n",
       "    .dataframe thead th {\n",
       "        text-align: right;\n",
       "    }\n",
       "</style>\n",
       "<table border=\"1\" class=\"dataframe\">\n",
       "  <thead>\n",
       "    <tr style=\"text-align: right;\">\n",
       "      <th></th>\n",
       "      <th>CYF_kat4</th>\n",
       "      <th>kat4</th>\n",
       "    </tr>\n",
       "  </thead>\n",
       "  <tbody>\n",
       "    <tr>\n",
       "      <td>312</td>\n",
       "      <td>1</td>\n",
       "      <td>10050</td>\n",
       "    </tr>\n",
       "    <tr>\n",
       "      <td>918</td>\n",
       "      <td>1</td>\n",
       "      <td>10050</td>\n",
       "    </tr>\n",
       "    <tr>\n",
       "      <td>32</td>\n",
       "      <td>1</td>\n",
       "      <td>10050</td>\n",
       "    </tr>\n",
       "    <tr>\n",
       "      <td>546</td>\n",
       "      <td>1</td>\n",
       "      <td>10050</td>\n",
       "    </tr>\n",
       "  </tbody>\n",
       "</table>\n",
       "</div>"
      ],
      "text/plain": [
       "     CYF_kat4   kat4\n",
       "312         1  10050\n",
       "918         1  10050\n",
       "32          1  10050\n",
       "546         1  10050"
      ]
     },
     "execution_count": 68,
     "metadata": {},
     "output_type": "execute_result"
    }
   ],
   "source": [
    "SL_kat4 = df.set_index('kat4')['C_kat4'].to_dict()\n",
    "#print(SL_kat4)\n",
    "df['CYF_kat4'] = df['kat4'].map(SL_kat4)\n",
    "del df['C_kat4']\n",
    "df[['CYF_kat4','kat4']].sample(4)"
   ]
  },
  {
   "cell_type": "code",
   "execution_count": 69,
   "metadata": {},
   "outputs": [
    {
     "name": "stdout",
     "output_type": "stream",
     "text": [
      "(4,)\n",
      "(4,)\n"
     ]
    }
   ],
   "source": [
    "## Sprawdzenie:\n",
    "print(df['kat4'].value_counts().shape)\n",
    "print(df['CYF_kat4'].value_counts().shape)\n",
    "#print(SL_kat4)"
   ]
  },
  {
   "cell_type": "markdown",
   "metadata": {},
   "source": [
    "### <span style=\"color:blue\"> Cyfryzuje słownikowo: kat5</span>"
   ]
  },
  {
   "cell_type": "code",
   "execution_count": 70,
   "metadata": {},
   "outputs": [
    {
     "name": "stdout",
     "output_type": "stream",
     "text": [
      "(76,)\n"
     ]
    },
    {
     "data": {
      "text/plain": [
       "11722    391\n",
       "12161    135\n",
       "12333    100\n",
       "12480     37\n",
       "12493     25\n",
       "        ... \n",
       "10572      1\n",
       "12083      1\n",
       "11991      1\n",
       "12485      1\n",
       "11769      1\n",
       "Name: kat5, Length: 76, dtype: int64"
      ]
     },
     "execution_count": 70,
     "metadata": {},
     "output_type": "execute_result"
    }
   ],
   "source": [
    "print(df['kat5'].value_counts().shape)\n",
    "df['kat5'].value_counts()"
   ]
  },
  {
   "cell_type": "code",
   "execution_count": 71,
   "metadata": {},
   "outputs": [
    {
     "data": {
      "text/html": [
       "<div>\n",
       "<style scoped>\n",
       "    .dataframe tbody tr th:only-of-type {\n",
       "        vertical-align: middle;\n",
       "    }\n",
       "\n",
       "    .dataframe tbody tr th {\n",
       "        vertical-align: top;\n",
       "    }\n",
       "\n",
       "    .dataframe thead th {\n",
       "        text-align: right;\n",
       "    }\n",
       "</style>\n",
       "<table border=\"1\" class=\"dataframe\">\n",
       "  <thead>\n",
       "    <tr style=\"text-align: right;\">\n",
       "      <th></th>\n",
       "      <th>kat5</th>\n",
       "      <th>C_kat5</th>\n",
       "    </tr>\n",
       "  </thead>\n",
       "  <tbody>\n",
       "    <tr>\n",
       "      <td>522</td>\n",
       "      <td>11722</td>\n",
       "      <td>17</td>\n",
       "    </tr>\n",
       "    <tr>\n",
       "      <td>80</td>\n",
       "      <td>11722</td>\n",
       "      <td>17</td>\n",
       "    </tr>\n",
       "  </tbody>\n",
       "</table>\n",
       "</div>"
      ],
      "text/plain": [
       "      kat5  C_kat5\n",
       "522  11722      17\n",
       "80   11722      17"
      ]
     },
     "execution_count": 71,
     "metadata": {},
     "output_type": "execute_result"
    }
   ],
   "source": [
    "## Cyfryzuje przez mapowanie słownikowe:\n",
    "df['C_kat5'] = pd.Categorical(df['kat5']).codes\n",
    "df[['kat5','C_kat5']].sample(2)"
   ]
  },
  {
   "cell_type": "code",
   "execution_count": 72,
   "metadata": {},
   "outputs": [
    {
     "data": {
      "text/html": [
       "<div>\n",
       "<style scoped>\n",
       "    .dataframe tbody tr th:only-of-type {\n",
       "        vertical-align: middle;\n",
       "    }\n",
       "\n",
       "    .dataframe tbody tr th {\n",
       "        vertical-align: top;\n",
       "    }\n",
       "\n",
       "    .dataframe thead th {\n",
       "        text-align: right;\n",
       "    }\n",
       "</style>\n",
       "<table border=\"1\" class=\"dataframe\">\n",
       "  <thead>\n",
       "    <tr style=\"text-align: right;\">\n",
       "      <th></th>\n",
       "      <th>CYF_kat5</th>\n",
       "      <th>kat5</th>\n",
       "    </tr>\n",
       "  </thead>\n",
       "  <tbody>\n",
       "    <tr>\n",
       "      <td>678</td>\n",
       "      <td>17</td>\n",
       "      <td>11722</td>\n",
       "    </tr>\n",
       "    <tr>\n",
       "      <td>633</td>\n",
       "      <td>10</td>\n",
       "      <td>10898</td>\n",
       "    </tr>\n",
       "    <tr>\n",
       "      <td>613</td>\n",
       "      <td>72</td>\n",
       "      <td>12493</td>\n",
       "    </tr>\n",
       "    <tr>\n",
       "      <td>246</td>\n",
       "      <td>17</td>\n",
       "      <td>11722</td>\n",
       "    </tr>\n",
       "  </tbody>\n",
       "</table>\n",
       "</div>"
      ],
      "text/plain": [
       "     CYF_kat5   kat5\n",
       "678        17  11722\n",
       "633        10  10898\n",
       "613        72  12493\n",
       "246        17  11722"
      ]
     },
     "execution_count": 72,
     "metadata": {},
     "output_type": "execute_result"
    }
   ],
   "source": [
    "SL_kat5 = df.set_index('kat5')['C_kat5'].to_dict()\n",
    "#print(SL_kat5)\n",
    "df['CYF_kat5'] = df['kat5'].map(SL_kat5)\n",
    "del df['C_kat5']\n",
    "df[['CYF_kat5','kat5']].sample(4)"
   ]
  },
  {
   "cell_type": "code",
   "execution_count": 73,
   "metadata": {},
   "outputs": [
    {
     "name": "stdout",
     "output_type": "stream",
     "text": [
      "(76,)\n",
      "(76,)\n"
     ]
    }
   ],
   "source": [
    "## Sprawdzenie:\n",
    "print(df['kat5'].value_counts().shape)\n",
    "print(df['CYF_kat5'].value_counts().shape)\n",
    "#print(SL_kat5)"
   ]
  },
  {
   "cell_type": "markdown",
   "metadata": {},
   "source": [
    "### <span style=\"color:blue\"> Cyfryzuje słownikowo: kat6</span>"
   ]
  },
  {
   "cell_type": "code",
   "execution_count": 74,
   "metadata": {},
   "outputs": [
    {
     "name": "stdout",
     "output_type": "stream",
     "text": [
      "(4,)\n"
     ]
    },
    {
     "data": {
      "text/plain": [
       "10    694\n",
       "13    190\n",
       "12    114\n",
       "11      2\n",
       "Name: kat6, dtype: int64"
      ]
     },
     "execution_count": 74,
     "metadata": {},
     "output_type": "execute_result"
    }
   ],
   "source": [
    "print(df['kat6'].value_counts().shape)\n",
    "df['kat6'].value_counts()"
   ]
  },
  {
   "cell_type": "code",
   "execution_count": 75,
   "metadata": {},
   "outputs": [
    {
     "data": {
      "text/html": [
       "<div>\n",
       "<style scoped>\n",
       "    .dataframe tbody tr th:only-of-type {\n",
       "        vertical-align: middle;\n",
       "    }\n",
       "\n",
       "    .dataframe tbody tr th {\n",
       "        vertical-align: top;\n",
       "    }\n",
       "\n",
       "    .dataframe thead th {\n",
       "        text-align: right;\n",
       "    }\n",
       "</style>\n",
       "<table border=\"1\" class=\"dataframe\">\n",
       "  <thead>\n",
       "    <tr style=\"text-align: right;\">\n",
       "      <th></th>\n",
       "      <th>kat6</th>\n",
       "      <th>C_kat6</th>\n",
       "    </tr>\n",
       "  </thead>\n",
       "  <tbody>\n",
       "    <tr>\n",
       "      <td>535</td>\n",
       "      <td>10</td>\n",
       "      <td>0</td>\n",
       "    </tr>\n",
       "    <tr>\n",
       "      <td>35</td>\n",
       "      <td>10</td>\n",
       "      <td>0</td>\n",
       "    </tr>\n",
       "  </tbody>\n",
       "</table>\n",
       "</div>"
      ],
      "text/plain": [
       "     kat6  C_kat6\n",
       "535    10       0\n",
       "35     10       0"
      ]
     },
     "execution_count": 75,
     "metadata": {},
     "output_type": "execute_result"
    }
   ],
   "source": [
    "## Cyfryzuje przez mapowanie słownikowe:\n",
    "df['C_kat6'] = pd.Categorical(df['kat6']).codes\n",
    "df[['kat6','C_kat6']].sample(2)"
   ]
  },
  {
   "cell_type": "code",
   "execution_count": 76,
   "metadata": {},
   "outputs": [
    {
     "name": "stdout",
     "output_type": "stream",
     "text": [
      "{13: 3, 10: 0, 12: 2, 11: 1}\n"
     ]
    },
    {
     "data": {
      "text/html": [
       "<div>\n",
       "<style scoped>\n",
       "    .dataframe tbody tr th:only-of-type {\n",
       "        vertical-align: middle;\n",
       "    }\n",
       "\n",
       "    .dataframe tbody tr th {\n",
       "        vertical-align: top;\n",
       "    }\n",
       "\n",
       "    .dataframe thead th {\n",
       "        text-align: right;\n",
       "    }\n",
       "</style>\n",
       "<table border=\"1\" class=\"dataframe\">\n",
       "  <thead>\n",
       "    <tr style=\"text-align: right;\">\n",
       "      <th></th>\n",
       "      <th>CYF_kat6</th>\n",
       "      <th>kat6</th>\n",
       "    </tr>\n",
       "  </thead>\n",
       "  <tbody>\n",
       "    <tr>\n",
       "      <td>414</td>\n",
       "      <td>0</td>\n",
       "      <td>10</td>\n",
       "    </tr>\n",
       "    <tr>\n",
       "      <td>569</td>\n",
       "      <td>3</td>\n",
       "      <td>13</td>\n",
       "    </tr>\n",
       "    <tr>\n",
       "      <td>264</td>\n",
       "      <td>3</td>\n",
       "      <td>13</td>\n",
       "    </tr>\n",
       "    <tr>\n",
       "      <td>103</td>\n",
       "      <td>3</td>\n",
       "      <td>13</td>\n",
       "    </tr>\n",
       "  </tbody>\n",
       "</table>\n",
       "</div>"
      ],
      "text/plain": [
       "     CYF_kat6  kat6\n",
       "414         0    10\n",
       "569         3    13\n",
       "264         3    13\n",
       "103         3    13"
      ]
     },
     "execution_count": 76,
     "metadata": {},
     "output_type": "execute_result"
    }
   ],
   "source": [
    "SL_kat6 = df.set_index('kat6')['C_kat6'].to_dict()\n",
    "print(SL_kat6)\n",
    "df['CYF_kat6'] = df['kat6'].map(SL_kat6)\n",
    "del df['C_kat6']\n",
    "df[['CYF_kat6','kat6']].sample(4)"
   ]
  },
  {
   "cell_type": "code",
   "execution_count": 77,
   "metadata": {},
   "outputs": [
    {
     "name": "stdout",
     "output_type": "stream",
     "text": [
      "(4,)\n",
      "(4,)\n",
      "{13: 3, 10: 0, 12: 2, 11: 1}\n"
     ]
    }
   ],
   "source": [
    "## Sprawdzenie:\n",
    "print(df['kat6'].value_counts().shape)\n",
    "print(df['CYF_kat6'].value_counts().shape)\n",
    "print(SL_kat6)"
   ]
  },
  {
   "cell_type": "markdown",
   "metadata": {},
   "source": [
    "### <span style=\"color:blue\"> Cyfryzuje słownikowo: kat7</span>"
   ]
  },
  {
   "cell_type": "code",
   "execution_count": 78,
   "metadata": {},
   "outputs": [
    {
     "name": "stdout",
     "output_type": "stream",
     "text": [
      "(29,)\n"
     ]
    },
    {
     "data": {
      "text/plain": [
       "10035    560\n",
       "10039    208\n",
       "10297     43\n",
       "10687     28\n",
       "10167     24\n",
       "10303     22\n",
       "11063     20\n",
       "10163     19\n",
       "10427     11\n",
       "10431     10\n",
       "10171      8\n",
       "10047      7\n",
       "11711      6\n",
       "10813      5\n",
       "11319      5\n",
       "10551      4\n",
       "10681      4\n",
       "11835      3\n",
       "11315      2\n",
       "10291      2\n",
       "10175      1\n",
       "10673      1\n",
       "10683      1\n",
       "10801      1\n",
       "10041      1\n",
       "10043      1\n",
       "10161      1\n",
       "10169      1\n",
       "11451      1\n",
       "Name: kat7, dtype: int64"
      ]
     },
     "execution_count": 78,
     "metadata": {},
     "output_type": "execute_result"
    }
   ],
   "source": [
    "print(df['kat7'].value_counts().shape)\n",
    "df['kat7'].value_counts()"
   ]
  },
  {
   "cell_type": "code",
   "execution_count": 79,
   "metadata": {},
   "outputs": [
    {
     "data": {
      "text/html": [
       "<div>\n",
       "<style scoped>\n",
       "    .dataframe tbody tr th:only-of-type {\n",
       "        vertical-align: middle;\n",
       "    }\n",
       "\n",
       "    .dataframe tbody tr th {\n",
       "        vertical-align: top;\n",
       "    }\n",
       "\n",
       "    .dataframe thead th {\n",
       "        text-align: right;\n",
       "    }\n",
       "</style>\n",
       "<table border=\"1\" class=\"dataframe\">\n",
       "  <thead>\n",
       "    <tr style=\"text-align: right;\">\n",
       "      <th></th>\n",
       "      <th>kat7</th>\n",
       "      <th>C_kat7</th>\n",
       "    </tr>\n",
       "  </thead>\n",
       "  <tbody>\n",
       "    <tr>\n",
       "      <td>246</td>\n",
       "      <td>10035</td>\n",
       "      <td>0</td>\n",
       "    </tr>\n",
       "    <tr>\n",
       "      <td>237</td>\n",
       "      <td>11451</td>\n",
       "      <td>26</td>\n",
       "    </tr>\n",
       "  </tbody>\n",
       "</table>\n",
       "</div>"
      ],
      "text/plain": [
       "      kat7  C_kat7\n",
       "246  10035       0\n",
       "237  11451      26"
      ]
     },
     "execution_count": 79,
     "metadata": {},
     "output_type": "execute_result"
    }
   ],
   "source": [
    "## Cyfryzuje przez mapowanie słownikowe:\n",
    "df['C_kat7'] = pd.Categorical(df['kat7']).codes\n",
    "df[['kat7','C_kat7']].sample(2)"
   ]
  },
  {
   "cell_type": "code",
   "execution_count": 80,
   "metadata": {},
   "outputs": [
    {
     "name": "stdout",
     "output_type": "stream",
     "text": [
      "{10427: 14, 10035: 0, 10039: 1, 10687: 20, 10551: 16, 11711: 27, 11835: 28, 10303: 13, 10163: 6, 10297: 12, 10047: 4, 10167: 7, 10801: 21, 10171: 9, 11063: 23, 10175: 10, 10813: 22, 10431: 15, 10041: 2, 11451: 26, 10043: 3, 10291: 11, 11319: 25, 10673: 17, 10681: 18, 11315: 24, 10161: 5, 10683: 19, 10169: 8}\n"
     ]
    },
    {
     "data": {
      "text/html": [
       "<div>\n",
       "<style scoped>\n",
       "    .dataframe tbody tr th:only-of-type {\n",
       "        vertical-align: middle;\n",
       "    }\n",
       "\n",
       "    .dataframe tbody tr th {\n",
       "        vertical-align: top;\n",
       "    }\n",
       "\n",
       "    .dataframe thead th {\n",
       "        text-align: right;\n",
       "    }\n",
       "</style>\n",
       "<table border=\"1\" class=\"dataframe\">\n",
       "  <thead>\n",
       "    <tr style=\"text-align: right;\">\n",
       "      <th></th>\n",
       "      <th>CYF_kat7</th>\n",
       "      <th>kat7</th>\n",
       "    </tr>\n",
       "  </thead>\n",
       "  <tbody>\n",
       "    <tr>\n",
       "      <td>379</td>\n",
       "      <td>1</td>\n",
       "      <td>10039</td>\n",
       "    </tr>\n",
       "    <tr>\n",
       "      <td>193</td>\n",
       "      <td>0</td>\n",
       "      <td>10035</td>\n",
       "    </tr>\n",
       "    <tr>\n",
       "      <td>317</td>\n",
       "      <td>0</td>\n",
       "      <td>10035</td>\n",
       "    </tr>\n",
       "    <tr>\n",
       "      <td>881</td>\n",
       "      <td>0</td>\n",
       "      <td>10035</td>\n",
       "    </tr>\n",
       "  </tbody>\n",
       "</table>\n",
       "</div>"
      ],
      "text/plain": [
       "     CYF_kat7   kat7\n",
       "379         1  10039\n",
       "193         0  10035\n",
       "317         0  10035\n",
       "881         0  10035"
      ]
     },
     "execution_count": 80,
     "metadata": {},
     "output_type": "execute_result"
    }
   ],
   "source": [
    "SL_kat7 = df.set_index('kat7')['C_kat7'].to_dict()\n",
    "print(SL_kat7)\n",
    "df['CYF_kat7'] = df['kat7'].map(SL_kat7)\n",
    "del df['C_kat7']\n",
    "df[['CYF_kat7','kat7']].sample(4)"
   ]
  },
  {
   "cell_type": "code",
   "execution_count": 81,
   "metadata": {},
   "outputs": [
    {
     "name": "stdout",
     "output_type": "stream",
     "text": [
      "(29,)\n",
      "(29,)\n"
     ]
    }
   ],
   "source": [
    "## Sprawdzenie:\n",
    "print(df['kat7'].value_counts().shape)\n",
    "print(df['CYF_kat7'].value_counts().shape)\n",
    "#print(SL_kat7)"
   ]
  },
  {
   "cell_type": "markdown",
   "metadata": {},
   "source": [
    "### <span style=\"color:blue\"> Cyfryzuje słownikowo: kat8</span>"
   ]
  },
  {
   "cell_type": "code",
   "execution_count": 82,
   "metadata": {},
   "outputs": [
    {
     "name": "stdout",
     "output_type": "stream",
     "text": [
      "(58,)\n"
     ]
    },
    {
     "data": {
      "text/plain": [
       "-1         621\n",
       " 100084    115\n",
       " 100111     44\n",
       " 100083     37\n",
       " 100077     22\n",
       " 100075     17\n",
       " 100081     14\n",
       " 100148     13\n",
       " 100228      8\n",
       " 100000      8\n",
       " 100034      6\n",
       " 100130      6\n",
       " 100156      6\n",
       " 100119      5\n",
       " 100210      5\n",
       " 100074      4\n",
       " 100028      4\n",
       " 100105      3\n",
       " 100128      3\n",
       " 100131      3\n",
       " 100233      3\n",
       " 100062      3\n",
       " 100161      3\n",
       " 100193      3\n",
       " 100191      2\n",
       " 100217      2\n",
       " 100202      2\n",
       " 100076      2\n",
       " 100200      2\n",
       " 100079      2\n",
       " 100065      2\n",
       " 100088      2\n",
       " 100241      2\n",
       " 100188      2\n",
       " 100050      1\n",
       " 100057      1\n",
       " 100005      1\n",
       " 100003      1\n",
       " 100049      1\n",
       " 100010      1\n",
       " 100020      1\n",
       " 100021      1\n",
       " 100048      1\n",
       " 100106      1\n",
       " 100072      1\n",
       " 100087      1\n",
       " 100221      1\n",
       " 100126      1\n",
       " 100133      1\n",
       " 100149      1\n",
       " 100160      1\n",
       " 100165      1\n",
       " 100173      1\n",
       " 100176      1\n",
       " 100192      1\n",
       " 100194      1\n",
       " 100199      1\n",
       " 100248      1\n",
       "Name: kat8, dtype: int64"
      ]
     },
     "execution_count": 82,
     "metadata": {},
     "output_type": "execute_result"
    }
   ],
   "source": [
    "print(df['kat8'].value_counts().shape)\n",
    "df['kat8'].value_counts()"
   ]
  },
  {
   "cell_type": "code",
   "execution_count": 83,
   "metadata": {},
   "outputs": [
    {
     "data": {
      "text/html": [
       "<div>\n",
       "<style scoped>\n",
       "    .dataframe tbody tr th:only-of-type {\n",
       "        vertical-align: middle;\n",
       "    }\n",
       "\n",
       "    .dataframe tbody tr th {\n",
       "        vertical-align: top;\n",
       "    }\n",
       "\n",
       "    .dataframe thead th {\n",
       "        text-align: right;\n",
       "    }\n",
       "</style>\n",
       "<table border=\"1\" class=\"dataframe\">\n",
       "  <thead>\n",
       "    <tr style=\"text-align: right;\">\n",
       "      <th></th>\n",
       "      <th>kat8</th>\n",
       "      <th>C_kat8</th>\n",
       "    </tr>\n",
       "  </thead>\n",
       "  <tbody>\n",
       "    <tr>\n",
       "      <td>235</td>\n",
       "      <td>-1</td>\n",
       "      <td>0</td>\n",
       "    </tr>\n",
       "    <tr>\n",
       "      <td>569</td>\n",
       "      <td>-1</td>\n",
       "      <td>0</td>\n",
       "    </tr>\n",
       "  </tbody>\n",
       "</table>\n",
       "</div>"
      ],
      "text/plain": [
       "     kat8  C_kat8\n",
       "235    -1       0\n",
       "569    -1       0"
      ]
     },
     "execution_count": 83,
     "metadata": {},
     "output_type": "execute_result"
    }
   ],
   "source": [
    "## Cyfryzuje przez mapowanie słownikowe:\n",
    "df['C_kat8'] = pd.Categorical(df['kat8']).codes\n",
    "df[['kat8','C_kat8']].sample(2)"
   ]
  },
  {
   "cell_type": "code",
   "execution_count": 84,
   "metadata": {},
   "outputs": [
    {
     "data": {
      "text/html": [
       "<div>\n",
       "<style scoped>\n",
       "    .dataframe tbody tr th:only-of-type {\n",
       "        vertical-align: middle;\n",
       "    }\n",
       "\n",
       "    .dataframe tbody tr th {\n",
       "        vertical-align: top;\n",
       "    }\n",
       "\n",
       "    .dataframe thead th {\n",
       "        text-align: right;\n",
       "    }\n",
       "</style>\n",
       "<table border=\"1\" class=\"dataframe\">\n",
       "  <thead>\n",
       "    <tr style=\"text-align: right;\">\n",
       "      <th></th>\n",
       "      <th>CYF_kat8</th>\n",
       "      <th>kat8</th>\n",
       "    </tr>\n",
       "  </thead>\n",
       "  <tbody>\n",
       "    <tr>\n",
       "      <td>480</td>\n",
       "      <td>0</td>\n",
       "      <td>-1</td>\n",
       "    </tr>\n",
       "    <tr>\n",
       "      <td>208</td>\n",
       "      <td>0</td>\n",
       "      <td>-1</td>\n",
       "    </tr>\n",
       "    <tr>\n",
       "      <td>263</td>\n",
       "      <td>0</td>\n",
       "      <td>-1</td>\n",
       "    </tr>\n",
       "    <tr>\n",
       "      <td>717</td>\n",
       "      <td>23</td>\n",
       "      <td>100084</td>\n",
       "    </tr>\n",
       "  </tbody>\n",
       "</table>\n",
       "</div>"
      ],
      "text/plain": [
       "     CYF_kat8    kat8\n",
       "480         0      -1\n",
       "208         0      -1\n",
       "263         0      -1\n",
       "717        23  100084"
      ]
     },
     "execution_count": 84,
     "metadata": {},
     "output_type": "execute_result"
    }
   ],
   "source": [
    "SL_kat8 = df.set_index('kat8')['C_kat8'].to_dict()\n",
    "#print(SL_kat8)\n",
    "df['CYF_kat8'] = df['kat8'].map(SL_kat8)\n",
    "del df['C_kat8']\n",
    "df[['CYF_kat8','kat8']].sample(4)"
   ]
  },
  {
   "cell_type": "code",
   "execution_count": 85,
   "metadata": {},
   "outputs": [
    {
     "name": "stdout",
     "output_type": "stream",
     "text": [
      "(58,)\n",
      "(58,)\n"
     ]
    }
   ],
   "source": [
    "## Sprawdzenie:\n",
    "print(df['kat8'].value_counts().shape)\n",
    "print(df['CYF_kat8'].value_counts().shape)\n",
    "#print(SL_kat8)"
   ]
  },
  {
   "cell_type": "markdown",
   "metadata": {},
   "source": [
    "### <span style=\"color:blue\"> Cyfryzuje słownikowo: kat9</span>"
   ]
  },
  {
   "cell_type": "code",
   "execution_count": 86,
   "metadata": {},
   "outputs": [
    {
     "name": "stdout",
     "output_type": "stream",
     "text": [
      "(22,)\n"
     ]
    },
    {
     "data": {
      "text/plain": [
       "79     391\n",
       "157    235\n",
       "23      76\n",
       "61      72\n",
       "33      47\n",
       "48      35\n",
       "117     34\n",
       "32      27\n",
       "52      15\n",
       "15      12\n",
       "156     10\n",
       "46       9\n",
       "16       9\n",
       "13       6\n",
       "101      5\n",
       "91       5\n",
       "71       4\n",
       "95       3\n",
       "42       2\n",
       "116      1\n",
       "93       1\n",
       "111      1\n",
       "Name: kat9, dtype: int64"
      ]
     },
     "execution_count": 86,
     "metadata": {},
     "output_type": "execute_result"
    }
   ],
   "source": [
    "print(df['kat9'].value_counts().shape)\n",
    "df['kat9'].value_counts()"
   ]
  },
  {
   "cell_type": "code",
   "execution_count": 87,
   "metadata": {},
   "outputs": [
    {
     "data": {
      "text/html": [
       "<div>\n",
       "<style scoped>\n",
       "    .dataframe tbody tr th:only-of-type {\n",
       "        vertical-align: middle;\n",
       "    }\n",
       "\n",
       "    .dataframe tbody tr th {\n",
       "        vertical-align: top;\n",
       "    }\n",
       "\n",
       "    .dataframe thead th {\n",
       "        text-align: right;\n",
       "    }\n",
       "</style>\n",
       "<table border=\"1\" class=\"dataframe\">\n",
       "  <thead>\n",
       "    <tr style=\"text-align: right;\">\n",
       "      <th></th>\n",
       "      <th>kat9</th>\n",
       "      <th>C_kat9</th>\n",
       "    </tr>\n",
       "  </thead>\n",
       "  <tbody>\n",
       "    <tr>\n",
       "      <td>613</td>\n",
       "      <td>117</td>\n",
       "      <td>19</td>\n",
       "    </tr>\n",
       "    <tr>\n",
       "      <td>400</td>\n",
       "      <td>157</td>\n",
       "      <td>21</td>\n",
       "    </tr>\n",
       "  </tbody>\n",
       "</table>\n",
       "</div>"
      ],
      "text/plain": [
       "     kat9  C_kat9\n",
       "613   117      19\n",
       "400   157      21"
      ]
     },
     "execution_count": 87,
     "metadata": {},
     "output_type": "execute_result"
    }
   ],
   "source": [
    "## Cyfryzuje przez mapowanie słownikowe:\n",
    "df['C_kat9'] = pd.Categorical(df['kat9']).codes\n",
    "df[['kat9','C_kat9']].sample(2)"
   ]
  },
  {
   "cell_type": "code",
   "execution_count": 88,
   "metadata": {},
   "outputs": [
    {
     "data": {
      "text/html": [
       "<div>\n",
       "<style scoped>\n",
       "    .dataframe tbody tr th:only-of-type {\n",
       "        vertical-align: middle;\n",
       "    }\n",
       "\n",
       "    .dataframe tbody tr th {\n",
       "        vertical-align: top;\n",
       "    }\n",
       "\n",
       "    .dataframe thead th {\n",
       "        text-align: right;\n",
       "    }\n",
       "</style>\n",
       "<table border=\"1\" class=\"dataframe\">\n",
       "  <thead>\n",
       "    <tr style=\"text-align: right;\">\n",
       "      <th></th>\n",
       "      <th>CYF_kat9</th>\n",
       "      <th>kat9</th>\n",
       "    </tr>\n",
       "  </thead>\n",
       "  <tbody>\n",
       "    <tr>\n",
       "      <td>186</td>\n",
       "      <td>5</td>\n",
       "      <td>33</td>\n",
       "    </tr>\n",
       "    <tr>\n",
       "      <td>592</td>\n",
       "      <td>3</td>\n",
       "      <td>23</td>\n",
       "    </tr>\n",
       "    <tr>\n",
       "      <td>169</td>\n",
       "      <td>8</td>\n",
       "      <td>48</td>\n",
       "    </tr>\n",
       "    <tr>\n",
       "      <td>760</td>\n",
       "      <td>5</td>\n",
       "      <td>33</td>\n",
       "    </tr>\n",
       "  </tbody>\n",
       "</table>\n",
       "</div>"
      ],
      "text/plain": [
       "     CYF_kat9  kat9\n",
       "186         5    33\n",
       "592         3    23\n",
       "169         8    48\n",
       "760         5    33"
      ]
     },
     "execution_count": 88,
     "metadata": {},
     "output_type": "execute_result"
    }
   ],
   "source": [
    "SL_kat9 = df.set_index('kat9')['C_kat9'].to_dict()\n",
    "#print(SL_kat9)\n",
    "df['CYF_kat9'] = df['kat9'].map(SL_kat9)\n",
    "del df['C_kat9']\n",
    "df[['CYF_kat9','kat9']].sample(4)"
   ]
  },
  {
   "cell_type": "code",
   "execution_count": 89,
   "metadata": {},
   "outputs": [
    {
     "name": "stdout",
     "output_type": "stream",
     "text": [
      "(22,)\n",
      "(22,)\n"
     ]
    }
   ],
   "source": [
    "## Sprawdzenie:\n",
    "print(df['kat9'].value_counts().shape)\n",
    "print(df['CYF_kat9'].value_counts().shape)\n",
    "#print(SL_kat9)"
   ]
  },
  {
   "cell_type": "markdown",
   "metadata": {},
   "source": [
    "<span style=\"color:blue\">Wszystkie piowyższe zmienne dyskretne trzeba bðzie przerobić na cyfry. Problem polega na tym, że trzeba to zrobić przez słownik, ponieważ te przyporządkowanie musi pasowac do innego zbioru \"Do zgłoszenia\".\n",
    "Ciekawe co zrobić, jak zmienne dyskretne nie będą te same w zbiorze uczącym i co zmienne  w zbiorze \"do zgłoszenia\"\n",
    "</span>"
   ]
  },
  {
   "cell_type": "code",
   "execution_count": 90,
   "metadata": {},
   "outputs": [
    {
     "data": {
      "text/plain": [
       "id                          int64\n",
       "klik                        int64\n",
       "data_godzina                int64\n",
       "baner_pozycja               int64\n",
       "strona_id                  object\n",
       "strona_domena              object\n",
       "strona_kategoria           object\n",
       "aplikacja_id               object\n",
       "aplikacja_domena           object\n",
       "aplikacja_kategoria        object\n",
       "urz_id                     object\n",
       "urz_ip                     object\n",
       "urz_model                  object\n",
       "urz_typ                     int64\n",
       "urz_polaczenie              int64\n",
       "kat1                        int64\n",
       "kat2                        int64\n",
       "kat3                        int64\n",
       "kat4                        int64\n",
       "kat5                        int64\n",
       "kat6                        int64\n",
       "kat7                        int64\n",
       "kat8                        int64\n",
       "kat9                        int64\n",
       "CYF_data_godzina            int64\n",
       "CYF_baner_pozycja           int64\n",
       "CYF_strona_id               int64\n",
       "CYF_strona_domena           int64\n",
       "CYF_strona_kategoria        int64\n",
       "CYF_aplikacja_id            int64\n",
       "CYF_aplikacja_domena        int64\n",
       "CYF_aplikacja_kategoria     int64\n",
       "CYF_urz_id                  int64\n",
       "CYF_urz_ip                  int64\n",
       "CYF_urz_model               int64\n",
       "CYF_urz_typ                 int64\n",
       "CYF_urz_polaczenie          int64\n",
       "CYF_kat1                    int64\n",
       "CYF_kat2                    int64\n",
       "CYF_kat3                    int64\n",
       "CYF_kat4                    int64\n",
       "CYF_kat5                    int64\n",
       "CYF_kat6                    int64\n",
       "CYF_kat7                    int64\n",
       "CYF_kat8                    int64\n",
       "CYF_kat9                    int64\n",
       "dtype: object"
      ]
     },
     "execution_count": 90,
     "metadata": {},
     "output_type": "execute_result"
    }
   ],
   "source": [
    "df['klik'] = df.klik.astype('int64')\n",
    "df.dtypes"
   ]
  },
  {
   "cell_type": "markdown",
   "metadata": {},
   "source": [
    "### <span style=\"color:blue\">Wybór zmiennych do analizy</span>"
   ]
  },
  {
   "cell_type": "code",
   "execution_count": 91,
   "metadata": {},
   "outputs": [],
   "source": [
    "df2 = df[['klik','CYF_data_godzina', 'CYF_baner_pozycja',\n",
    "       'CYF_strona_id', 'CYF_strona_domena', 'CYF_strona_kategoria',\n",
    "       'CYF_aplikacja_id', 'CYF_aplikacja_domena', 'CYF_aplikacja_kategoria',\n",
    "       'CYF_urz_id', 'CYF_urz_ip', 'CYF_urz_model', 'CYF_urz_typ',\n",
    "       'CYF_urz_polaczenie', 'CYF_kat1', 'CYF_kat2', 'CYF_kat3', 'CYF_kat4',\n",
    "       'CYF_kat5', 'CYF_kat6', 'CYF_kat7', 'CYF_kat8', 'CYF_kat9']]"
   ]
  },
  {
   "cell_type": "code",
   "execution_count": 92,
   "metadata": {},
   "outputs": [
    {
     "data": {
      "text/plain": [
       "id                          int64\n",
       "klik                        int64\n",
       "data_godzina                int64\n",
       "baner_pozycja               int64\n",
       "strona_id                  object\n",
       "strona_domena              object\n",
       "strona_kategoria           object\n",
       "aplikacja_id               object\n",
       "aplikacja_domena           object\n",
       "aplikacja_kategoria        object\n",
       "urz_id                     object\n",
       "urz_ip                     object\n",
       "urz_model                  object\n",
       "urz_typ                     int64\n",
       "urz_polaczenie              int64\n",
       "kat1                        int64\n",
       "kat2                        int64\n",
       "kat3                        int64\n",
       "kat4                        int64\n",
       "kat5                        int64\n",
       "kat6                        int64\n",
       "kat7                        int64\n",
       "kat8                        int64\n",
       "kat9                        int64\n",
       "CYF_data_godzina            int64\n",
       "CYF_baner_pozycja           int64\n",
       "CYF_strona_id               int64\n",
       "CYF_strona_domena           int64\n",
       "CYF_strona_kategoria        int64\n",
       "CYF_aplikacja_id            int64\n",
       "CYF_aplikacja_domena        int64\n",
       "CYF_aplikacja_kategoria     int64\n",
       "CYF_urz_id                  int64\n",
       "CYF_urz_ip                  int64\n",
       "CYF_urz_model               int64\n",
       "CYF_urz_typ                 int64\n",
       "CYF_urz_polaczenie          int64\n",
       "CYF_kat1                    int64\n",
       "CYF_kat2                    int64\n",
       "CYF_kat3                    int64\n",
       "CYF_kat4                    int64\n",
       "CYF_kat5                    int64\n",
       "CYF_kat6                    int64\n",
       "CYF_kat7                    int64\n",
       "CYF_kat8                    int64\n",
       "CYF_kat9                    int64\n",
       "dtype: object"
      ]
     },
     "execution_count": 92,
     "metadata": {},
     "output_type": "execute_result"
    }
   ],
   "source": [
    "df.dtypes"
   ]
  },
  {
   "cell_type": "markdown",
   "metadata": {},
   "source": [
    "### <span style=\"color:blue\">Podział na zbiór testowy i wynikowy</span>"
   ]
  },
  {
   "cell_type": "code",
   "execution_count": 93,
   "metadata": {},
   "outputs": [],
   "source": [
    "y = df2['klik']\n",
    "X = df2.drop('klik', axis=1)"
   ]
  },
  {
   "cell_type": "code",
   "execution_count": 94,
   "metadata": {},
   "outputs": [
    {
     "name": "stdout",
     "output_type": "stream",
     "text": [
      "Zbiór X treningowy:  (670, 22)\n",
      "Zbiór X testowy:     (330, 22)\n",
      "Zbiór y treningowy:  (670,)\n",
      "Zbiór y testowy:     (330,)\n"
     ]
    }
   ],
   "source": [
    "from sklearn.model_selection import train_test_split \n",
    "Xtrain, Xtest, ytrain, ytest = train_test_split(X,y, test_size=0.33, stratify = y, random_state = 148)\n",
    "\n",
    "print ('Zbiór X treningowy: ',Xtrain.shape)\n",
    "print ('Zbiór X testowy:    ', Xtest.shape)\n",
    "print ('Zbiór y treningowy: ', ytrain.shape)\n",
    "print ('Zbiór y testowy:    ', ytest.shape)"
   ]
  },
  {
   "cell_type": "markdown",
   "metadata": {},
   "source": [
    "### <span style=\"color:blue\">OVERSAMPLING</span>"
   ]
  },
  {
   "cell_type": "code",
   "execution_count": 95,
   "metadata": {},
   "outputs": [
    {
     "name": "stdout",
     "output_type": "stream",
     "text": [
      "ytrain = 0:  547\n",
      "ytrain = 1:  123\n"
     ]
    }
   ],
   "source": [
    "print(\"ytrain = 0: \", sum(ytrain == 0))\n",
    "print(\"ytrain = 1: \", sum(ytrain == 1))"
   ]
  },
  {
   "cell_type": "code",
   "execution_count": 96,
   "metadata": {},
   "outputs": [
    {
     "name": "stdout",
     "output_type": "stream",
     "text": [
      "Ilość -0 klik na -1 klik:  4\n"
     ]
    }
   ],
   "source": [
    "Proporcja = sum(ytrain == 0) / sum(ytrain == 1) \n",
    "Proporcja = np.round(Proporcja, decimals=0)\n",
    "Proporcja = Proporcja.astype(int)\n",
    "print('Ilość -0 klik na -1 klik: ', Proporcja)"
   ]
  },
  {
   "cell_type": "code",
   "execution_count": 97,
   "metadata": {},
   "outputs": [
    {
     "data": {
      "text/plain": [
       "492"
      ]
     },
     "execution_count": 97,
     "metadata": {},
     "output_type": "execute_result"
    }
   ],
   "source": [
    "ytrain_OV = pd.concat([ytrain[ytrain==1]] * Proporcja, axis = 0) \n",
    "ytrain_OV.count()"
   ]
  },
  {
   "cell_type": "markdown",
   "metadata": {},
   "source": [
    "Powiękrzyliśmy ilość zmiennych wynikowych 1. Teraz mamy tę samą liczbę wierszy zmiennych wynikowych i zmiennych niezależnych. Teraz wprowadzamy nowe, dodatkowe zmienne 1 do zbioru treningowego."
   ]
  },
  {
   "cell_type": "code",
   "execution_count": 98,
   "metadata": {},
   "outputs": [
    {
     "data": {
      "text/plain": [
       "492"
      ]
     },
     "execution_count": 98,
     "metadata": {},
     "output_type": "execute_result"
    }
   ],
   "source": [
    "Xtrain_OV = pd.concat([Xtrain.loc[ytrain==1, :]] * Proporcja, axis = 0)\n",
    "ytrain_OV.count()"
   ]
  },
  {
   "cell_type": "code",
   "execution_count": 99,
   "metadata": {},
   "outputs": [
    {
     "name": "stdout",
     "output_type": "stream",
     "text": [
      "ilość elementów w zbiorze Xtrain:      670\n",
      "ilość elementów w zbiorze Xtrain_OV:   1162\n",
      "ilość elementów w zbiorze ytrain:      670\n",
      "ilość elementów w zbiorze ytrain_OV:   1162\n"
     ]
    }
   ],
   "source": [
    "ytrain_OV = pd.concat([ytrain, ytrain_OV], axis = 0).reset_index(drop = True)\n",
    "Xtrain_OV = pd.concat([Xtrain, Xtrain_OV], axis = 0).reset_index(drop = True)\n",
    "\n",
    "print(\"ilość elementów w zbiorze Xtrain:     \", Xtrain.CYF_kat5.count())\n",
    "print(\"ilość elementów w zbiorze Xtrain_OV:  \", Xtrain_OV.CYF_kat5.count())\n",
    "print(\"ilość elementów w zbiorze ytrain:     \", ytrain.count())\n",
    "print(\"ilość elementów w zbiorze ytrain_OV:  \", ytrain_OV.count())"
   ]
  },
  {
   "cell_type": "markdown",
   "metadata": {},
   "source": [
    "Poziom zbilansowania zbioru wynikowego:"
   ]
  },
  {
   "cell_type": "code",
   "execution_count": 100,
   "metadata": {},
   "outputs": [
    {
     "data": {
      "text/plain": [
       "<matplotlib.axes._subplots.AxesSubplot at 0x7fbd5d49b510>"
      ]
     },
     "execution_count": 100,
     "metadata": {},
     "output_type": "execute_result"
    },
    {
     "data": {
      "image/png": "[encoded data removed]",
      "text/plain": [
       "<Figure size 432x288 with 1 Axes>"
      ]
     },
     "metadata": {},
     "output_type": "display_data"
    }
   ],
   "source": [
    "ytrain_OV.value_counts(dropna = False, normalize=True).plot(kind='pie')"
   ]
  },
  {
   "cell_type": "markdown",
   "metadata": {},
   "source": [
    "# <span style=\"color:blue\"> Model regresji logistycznej ze słabą siatką GRID</span>"
   ]
  },
  {
   "cell_type": "code",
   "execution_count": 101,
   "metadata": {},
   "outputs": [
    {
     "name": "stderr",
     "output_type": "stream",
     "text": [
      "/home/wojciech/anaconda3/lib/python3.7/site-packages/sklearn/linear_model/logistic.py:432: FutureWarning: Default solver will be changed to 'lbfgs' in 0.22. Specify a solver to silence this warning.\n",
      "  FutureWarning)\n"
     ]
    }
   ],
   "source": [
    "from sklearn import model_selection\n",
    "from sklearn.pipeline import make_pipeline\n",
    "from sklearn.linear_model import LogisticRegression\n",
    "from sklearn.model_selection import GridSearchCV\n",
    "\n",
    "Parameteres = {'C': np.power(10.0, np.arange(-3, 3))}\n",
    "LR = LogisticRegression(warm_start = True)\n",
    "LR_Grid = GridSearchCV(LR, param_grid = Parameteres, scoring = 'roc_auc', n_jobs = -1, cv=2)\n",
    "\n",
    "LR_Grid.fit(Xtrain_OV, ytrain_OV) \n",
    "y_pred_LRC = LR_Grid.predict(Xtest)"
   ]
  },
  {
   "cell_type": "code",
   "execution_count": null,
   "metadata": {},
   "outputs": [],
   "source": [
    "# ocena modelu\n",
    "from sklearn import metrics\n",
    "from sklearn.metrics import classification_report, confusion_matrix\n",
    "from sklearn.metrics import confusion_matrix, log_loss, auc, roc_curve, roc_auc_score, recall_score, precision_recall_curve\n",
    "from sklearn.metrics import make_scorer, precision_score, fbeta_score, f1_score, classification_report\n",
    "\n",
    "print(\"Recall Training data:     \", np.round(recall_score(ytrain_OV, LR_Grid.predict(Xtrain_OV)), decimals=4))\n",
    "print(\"Precision Training data:  \", np.round(precision_score(ytrain_OV, LR_Grid.predict(Xtrain_OV)), decimals=4))\n",
    "print(\"----------------------------------------------------------------------\")\n",
    "print(\"Recall Test data:         \", np.round(recall_score(ytest, LR_Grid.predict(Xtest)), decimals=4)) \n",
    "print(\"Precision Test data:      \", np.round(precision_score(ytest, LR_Grid.predict(Xtest)), decimals=4))\n",
    "print(\"----------------------------------------------------------------------\")\n",
    "print(\"Confusion Matrix Test data\")\n",
    "print(confusion_matrix(ytest, LR_Grid.predict(Xtest)))\n",
    "print(\"----------------------------------------------------------------------\")\n",
    "print(classification_report(ytest, LR_Grid.predict(Xtest)))\n",
    "y_pred_proba = LR_Grid.predict_proba(Xtest)[::,1]\n",
    "fpr, tpr, _ = metrics.roc_curve(ytest,  y_pred_LRC)\n",
    "auc = metrics.roc_auc_score(ytest, y_pred_LRC)\n",
    "plt.plot(fpr, tpr, label='Logistic Regression (auc = %0.2f)' % auc)\n",
    "plt.xlabel('False Positive Rate',color='grey', fontsize = 13)\n",
    "plt.ylabel('True Positive Rate',color='grey', fontsize = 13)\n",
    "plt.title('Receiver operating characteristic')\n",
    "plt.legend(loc=\"lower right\")\n",
    "plt.legend(loc=4)\n",
    "plt.plot([0, 1], [0, 1],'r--')\n",
    "plt.show()"
   ]
  },
  {
   "cell_type": "raw",
   "metadata": {},
   "source": [
    "import numpy as np\n",
    "from sklearn import linear_model, decomposition, datasets\n",
    "from sklearn.pipeline import Pipeline\n",
    "from sklearn.model_selection import GridSearchCV, cross_val_score\n",
    "from sklearn.preprocessing import StandardScaler\n",
    "\n",
    "\n",
    "\n",
    "# Create an scaler object\n",
    "sc = StandardScaler()\n",
    "\n",
    "# Create a pca object\n",
    "pca = decomposition.PCA()\n",
    "\n",
    "    # Create a logistic regression object with an L2 penalty\n",
    "logistic = linear_model.LogisticRegression()\n",
    "\n",
    "    # Create a pipeline of three steps. First, standardize the data.\n",
    "    # Second, tranform the data with PCA.\n",
    "    # Third, train a logistic regression on the data.\n",
    "pipe = Pipeline(steps=[('sc', sc),\n",
    "                       ('pca', pca),\n",
    "                       ('logistic', logistic)])\n",
    "\n",
    "    # Create Parameter Space\n",
    "    # Create a list of a sequence of integers from 1 to 30 (the number of features in X + 1)\n",
    "n_components = list(range(1,Xtrain_OV.shape[1]+1,1))\n",
    "    # Create a list of values of the regularization parameter\n",
    "C = np.logspace(-4, 4, 50)\n",
    "    # Create a list of options for the regularization penalty\n",
    "penalty = ['l1', 'l2']\n",
    "    # Create a dictionary of all the parameter options \n",
    "    # Note has you can access the parameters of steps of a pipeline by using '__’\n",
    "parameters = dict(pca__n_components=n_components,\n",
    "                 logistic__C=C,\n",
    "                 logistic__penalty=penalty)\n",
    "\n",
    "    # Conduct Parameter Optmization With Pipeline\n",
    "    # Create a grid search object\n",
    "clf2 = GridSearchCV(pipe, parameters)\n",
    "\n",
    "    # Fit the grid search\n",
    "clf2.fit(Xtrain_OV, ytrain_OV)\n",
    "    # View The Best Parameters\n",
    "print('Best Penalty:', clf2.best_estimator_.get_params()['logistic__penalty'])\n",
    "print('Best C:', clf2.best_estimator_.get_params()['logistic__C'])\n",
    "print('Best Number Of Components:', clf2.best_estimator_.get_params()['pca__n_components'])\n",
    "print(); print(clf2.best_estimator_.get_params()['logistic'])\n",
    "\n",
    "    # Use Cross Validation To Evaluate Model\n",
    "CV_Result = cross_val_score(clf2, Xtrain_OV, ytrain_OV, cv=4, n_jobs=-1)\n",
    "print(); print(CV_Result)\n",
    "print(); print(CV_Result.mean())\n",
    "print(); print(CV_Result.std())\n",
    "y_pred_clf2 = clf2.predict(Xtest)"
   ]
  },
  {
   "cell_type": "raw",
   "metadata": {},
   "source": [
    "# ocena modelu\n",
    "from sklearn import metrics\n",
    "from sklearn.metrics import classification_report, confusion_matrix\n",
    "from sklearn.metrics import confusion_matrix, log_loss, auc, roc_curve, roc_auc_score, recall_score, precision_recall_curve\n",
    "from sklearn.metrics import make_scorer, precision_score, fbeta_score, f1_score, classification_report\n",
    "\n",
    "print(\"Recall Training data:     \", np.round(recall_score(ytrain_OV, clf2.predict(Xtrain_OV)), decimals=4))\n",
    "print(\"Precision Training data:  \", np.round(precision_score(ytrain_OV, clf2.predict(Xtrain_OV)), decimals=4))\n",
    "print(\"----------------------------------------------------------------------\")\n",
    "print(\"Recall Test data:         \", np.round(recall_score(ytest, clf2.predict(Xtest)), decimals=4)) \n",
    "print(\"Precision Test data:      \", np.round(precision_score(ytest, clf2.predict(Xtest)), decimals=4))\n",
    "print(\"----------------------------------------------------------------------\")\n",
    "print(\"Confusion Matrix Test data\")\n",
    "print(confusion_matrix(ytest, clf2.predict(Xtest)))\n",
    "print(\"----------------------------------------------------------------------\")\n",
    "print(classification_report(ytest, clf2.predict(Xtest)))\n",
    "y_pred_proba = clf2.predict_proba(Xtest)[::,1]\n",
    "fpr, tpr, _ = metrics.roc_curve(ytest,  y_pred_clf2)\n",
    "auc = metrics.roc_auc_score(ytest, y_pred_clf2)\n",
    "plt.plot(fpr, tpr, label='Logistic Regression (auc = %0.2f)' % auc)\n",
    "plt.xlabel('False Positive Rate',color='grey', fontsize = 13)\n",
    "plt.ylabel('True Positive Rate',color='grey', fontsize = 13)\n",
    "plt.title('Receiver operating characteristic')\n",
    "plt.legend(loc=\"lower right\")\n",
    "plt.legend(loc=4)\n",
    "plt.plot([0, 1], [0, 1],'r--')\n",
    "plt.show()"
   ]
  },
  {
   "cell_type": "markdown",
   "metadata": {},
   "source": [
    "# <span style=\"color:blue\"> Model regresji logistycznej z mocną siatką GRID</span>"
   ]
  },
  {
   "cell_type": "code",
   "execution_count": 111,
   "metadata": {},
   "outputs": [
    {
     "name": "stdout",
     "output_type": "stream",
     "text": [
      "Fitting 5 folds for each of 50 candidates, totalling 250 fits\n"
     ]
    },
    {
     "name": "stderr",
     "output_type": "stream",
     "text": [
      "[Parallel(n_jobs=-1)]: Using backend LokyBackend with 6 concurrent workers.\n",
      "[Parallel(n_jobs=-1)]: Done  41 tasks      | elapsed:    2.1s\n",
      "[Parallel(n_jobs=-1)]: Done 250 out of 250 | elapsed:    5.7s finished\n"
     ]
    }
   ],
   "source": [
    "from sklearn.pipeline import Pipeline\n",
    "from sklearn.ensemble import RandomForestClassifier\n",
    "\n",
    "# Create first pipeline for base without reducing features.\n",
    "\n",
    "pipe = Pipeline([('classifier' , RandomForestClassifier())])\n",
    "# pipe = Pipeline([('classifier', RandomForestClassifier())])\n",
    "\n",
    "# Create param grid.\n",
    "\n",
    "param_grid = [\n",
    "    {'classifier' : [LogisticRegression()],\n",
    "     'classifier__penalty' : ['l1', 'l2'],\n",
    "    'classifier__C' : np.logspace(-4, 4, 20),\n",
    "    'classifier__solver' : ['liblinear']},\n",
    "    {'classifier' : [RandomForestClassifier()],\n",
    "    'classifier__n_estimators' : list(range(10,101,10)),}\n",
    "]\n",
    "# 'classifier__max_features' : list(range(6,32,5))\n",
    "# Create grid search object\n",
    "\n",
    "CLF_1 = GridSearchCV(pipe, param_grid = param_grid, cv = 5, verbose=True, n_jobs=-1)\n",
    "\n",
    "# Fit on data\n",
    "\n",
    "CLF_1.fit(Xtrain_OV, ytrain_OV)\n",
    "\n",
    "y_pred_CLF_1 = CLF_1.predict(Xtest)"
   ]
  },
  {
   "cell_type": "code",
   "execution_count": null,
   "metadata": {},
   "outputs": [],
   "source": [
    "# ocena modelu\n",
    "from sklearn import metrics\n",
    "from sklearn.metrics import classification_report, confusion_matrix\n",
    "from sklearn.metrics import confusion_matrix, log_loss, auc, roc_curve, roc_auc_score, recall_score, precision_recall_curve\n",
    "from sklearn.metrics import make_scorer, precision_score, fbeta_score, f1_score, classification_report\n",
    "\n",
    "print(\"Recall Training data:     \", np.round(recall_score(ytrain_OV, CLF_1.predict(Xtrain_OV)), decimals=4))\n",
    "print(\"Precision Training data:  \", np.round(precision_score(ytrain_OV, CLF_1.predict(Xtrain_OV)), decimals=4))\n",
    "print(\"----------------------------------------------------------------------\")\n",
    "print(\"Recall Test data:         \", np.round(recall_score(ytest, CLF_1.predict(Xtest)), decimals=4)) \n",
    "print(\"Precision Test data:      \", np.round(precision_score(ytest, CLF_1.predict(Xtest)), decimals=4))\n",
    "print(\"----------------------------------------------------------------------\")\n",
    "print(\"Confusion Matrix Test data\")\n",
    "print(confusion_matrix(ytest, CLF_1.predict(Xtest)))\n",
    "print(\"----------------------------------------------------------------------\")\n",
    "print(classification_report(ytest, CLF_1.predict(Xtest)))\n",
    "y_pred_proba = CLF_1.predict_proba(Xtest)[::,1]\n",
    "fpr, tpr, _ = metrics.roc_curve(ytest,  y_pred_CLF_1)\n",
    "auc = metrics.roc_auc_score(ytest, y_pred_CLF_1)\n",
    "plt.plot(fpr, tpr, label='Logistic Regression (auc = %0.2f)' % auc)\n",
    "plt.xlabel('False Positive Rate',color='grey', fontsize = 13)\n",
    "plt.ylabel('True Positive Rate',color='grey', fontsize = 13)\n",
    "plt.title('Receiver operating characteristic')\n",
    "plt.legend(loc=\"lower right\")\n",
    "plt.legend(loc=4)\n",
    "plt.plot([0, 1], [0, 1],'r--')\n",
    "plt.show()"
   ]
  },
  {
   "cell_type": "code",
   "execution_count": null,
   "metadata": {},
   "outputs": [],
   "source": []
  },
  {
   "cell_type": "code",
   "execution_count": null,
   "metadata": {},
   "outputs": [],
   "source": []
  },
  {
   "cell_type": "code",
   "execution_count": null,
   "metadata": {},
   "outputs": [],
   "source": []
  },
  {
   "cell_type": "code",
   "execution_count": null,
   "metadata": {},
   "outputs": [],
   "source": []
  },
  {
   "cell_type": "code",
   "execution_count": null,
   "metadata": {},
   "outputs": [],
   "source": [
    "print('Pomiar czasu wykonania tego zadania')\n",
    "print('Minut: ',(time.time() - start_time)/60) ## koniec pomiaru czasu"
   ]
  }
 ],
 "metadata": {
  "kernelspec": {
   "display_name": "Python 3",
   "language": "python",
   "name": "python3"
  },
  "language_info": {
   "codemirror_mode": {
    "name": "ipython",
    "version": 3
   },
   "file_extension": ".py",
   "mimetype": "text/x-python",
   "name": "python",
   "nbconvert_exporter": "python",
   "pygments_lexer": "ipython3",
   "version": "3.7.4"
  }
 },
 "nbformat": 4,
 "nbformat_minor": 2
}
