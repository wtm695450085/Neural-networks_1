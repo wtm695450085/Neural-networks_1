{
 "cells": [
  {
   "cell_type": "markdown",
   "metadata": {},
   "source": [
    "# 5 klik: Feature Engineering Random Forest Classifier"
   ]
  },
  {
   "cell_type": "code",
   "execution_count": 1,
   "metadata": {},
   "outputs": [
    {
     "name": "stdout",
     "output_type": "stream",
     "text": [
      "(1000000, 46)\n",
      "\n",
      "Index(['Unnamed: 0', 'klik', 'CYF_baner_pozycja', 'CYF_strona_id',\n",
      "       'CYF_strona_domena', 'CYF_strona_kategoria', 'CYF_aplikacja_id',\n",
      "       'CYF_aplikacja_domena', 'CYF_aplikacja_kategoria', 'CYF_urz_id',\n",
      "       'CYF_urz_ip', 'CYF_urz_model', 'CYF_urz_typ', 'CYF_urz_polaczenie',\n",
      "       'CYF_kat1', 'CYF_kat2', 'CYF_kat3', 'CYF_kat4', 'CYF_kat5', 'CYF_kat6',\n",
      "       'CYF_kat7', 'CYF_kat8', 'CYF_kat9', 'CYF_data_godzina',\n",
      "       'CYF_KL_strona_id', 'CYF_KL_aplikacja_id', 'CYF_KL_aplikacja_domena',\n",
      "       'CYF_KL4_aplikacja_kategoria', 'CYF_KL0_aplikacja_kategoria',\n",
      "       'CYF_KL_kat3', 'CYF_KL_kat4', 'CYF_KL1_kat6', 'CYF_KL2_kat6',\n",
      "       'CYF_KL1_kat9', 'CYF_KL2_kat9', 'CYF_KL3_kat9', 'CYF_KL1_kat7', 'NZS1',\n",
      "       'NZS2', 'NZS3', 'NZS4', 'NZS5', 'NZS6', 'NZS7', 'NZS8', 'NZS9'],\n",
      "      dtype='object')\n"
     ]
    },
    {
     "data": {
      "text/html": [
       "<div>\n",
       "<style scoped>\n",
       "    .dataframe tbody tr th:only-of-type {\n",
       "        vertical-align: middle;\n",
       "    }\n",
       "\n",
       "    .dataframe tbody tr th {\n",
       "        vertical-align: top;\n",
       "    }\n",
       "\n",
       "    .dataframe thead th {\n",
       "        text-align: right;\n",
       "    }\n",
       "</style>\n",
       "<table border=\"1\" class=\"dataframe\">\n",
       "  <thead>\n",
       "    <tr style=\"text-align: right;\">\n",
       "      <th></th>\n",
       "      <th>Unnamed: 0</th>\n",
       "      <th>klik</th>\n",
       "      <th>CYF_baner_pozycja</th>\n",
       "      <th>CYF_strona_id</th>\n",
       "      <th>CYF_strona_domena</th>\n",
       "      <th>CYF_strona_kategoria</th>\n",
       "      <th>CYF_aplikacja_id</th>\n",
       "      <th>CYF_aplikacja_domena</th>\n",
       "      <th>CYF_aplikacja_kategoria</th>\n",
       "      <th>CYF_urz_id</th>\n",
       "      <th>...</th>\n",
       "      <th>CYF_KL1_kat7</th>\n",
       "      <th>NZS1</th>\n",
       "      <th>NZS2</th>\n",
       "      <th>NZS3</th>\n",
       "      <th>NZS4</th>\n",
       "      <th>NZS5</th>\n",
       "      <th>NZS6</th>\n",
       "      <th>NZS7</th>\n",
       "      <th>NZS8</th>\n",
       "      <th>NZS9</th>\n",
       "    </tr>\n",
       "  </thead>\n",
       "  <tbody>\n",
       "    <tr>\n",
       "      <td>0</td>\n",
       "      <td>0</td>\n",
       "      <td>0</td>\n",
       "      <td>0</td>\n",
       "      <td>1773</td>\n",
       "      <td>3205</td>\n",
       "      <td>6</td>\n",
       "      <td>4718</td>\n",
       "      <td>134</td>\n",
       "      <td>4</td>\n",
       "      <td>307295</td>\n",
       "      <td>...</td>\n",
       "      <td>0</td>\n",
       "      <td>7</td>\n",
       "      <td>2</td>\n",
       "      <td>0</td>\n",
       "      <td>2</td>\n",
       "      <td>2</td>\n",
       "      <td>-1</td>\n",
       "      <td>4</td>\n",
       "      <td>17</td>\n",
       "      <td>inf</td>\n",
       "    </tr>\n",
       "    <tr>\n",
       "      <td>1</td>\n",
       "      <td>1</td>\n",
       "      <td>0</td>\n",
       "      <td>0</td>\n",
       "      <td>406</td>\n",
       "      <td>3944</td>\n",
       "      <td>2</td>\n",
       "      <td>4353</td>\n",
       "      <td>123</td>\n",
       "      <td>0</td>\n",
       "      <td>307295</td>\n",
       "      <td>...</td>\n",
       "      <td>0</td>\n",
       "      <td>7</td>\n",
       "      <td>9</td>\n",
       "      <td>0</td>\n",
       "      <td>2</td>\n",
       "      <td>2</td>\n",
       "      <td>1</td>\n",
       "      <td>3</td>\n",
       "      <td>12</td>\n",
       "      <td>1.0</td>\n",
       "    </tr>\n",
       "    <tr>\n",
       "      <td>2</td>\n",
       "      <td>2</td>\n",
       "      <td>0</td>\n",
       "      <td>0</td>\n",
       "      <td>1156</td>\n",
       "      <td>3252</td>\n",
       "      <td>4</td>\n",
       "      <td>4353</td>\n",
       "      <td>123</td>\n",
       "      <td>0</td>\n",
       "      <td>307295</td>\n",
       "      <td>...</td>\n",
       "      <td>0</td>\n",
       "      <td>7</td>\n",
       "      <td>9</td>\n",
       "      <td>0</td>\n",
       "      <td>2</td>\n",
       "      <td>2</td>\n",
       "      <td>1</td>\n",
       "      <td>3</td>\n",
       "      <td>12</td>\n",
       "      <td>1.0</td>\n",
       "    </tr>\n",
       "    <tr>\n",
       "      <td>3</td>\n",
       "      <td>3</td>\n",
       "      <td>0</td>\n",
       "      <td>1</td>\n",
       "      <td>2948</td>\n",
       "      <td>2050</td>\n",
       "      <td>22</td>\n",
       "      <td>4353</td>\n",
       "      <td>123</td>\n",
       "      <td>0</td>\n",
       "      <td>307295</td>\n",
       "      <td>...</td>\n",
       "      <td>0</td>\n",
       "      <td>1</td>\n",
       "      <td>-1</td>\n",
       "      <td>1</td>\n",
       "      <td>1</td>\n",
       "      <td>2</td>\n",
       "      <td>2</td>\n",
       "      <td>2</td>\n",
       "      <td>7</td>\n",
       "      <td>2.0</td>\n",
       "    </tr>\n",
       "    <tr>\n",
       "      <td>4</td>\n",
       "      <td>4</td>\n",
       "      <td>0</td>\n",
       "      <td>0</td>\n",
       "      <td>1773</td>\n",
       "      <td>3205</td>\n",
       "      <td>6</td>\n",
       "      <td>1066</td>\n",
       "      <td>36</td>\n",
       "      <td>24</td>\n",
       "      <td>117056</td>\n",
       "      <td>...</td>\n",
       "      <td>0</td>\n",
       "      <td>7</td>\n",
       "      <td>2</td>\n",
       "      <td>0</td>\n",
       "      <td>2</td>\n",
       "      <td>2</td>\n",
       "      <td>0</td>\n",
       "      <td>4</td>\n",
       "      <td>17</td>\n",
       "      <td>inf</td>\n",
       "    </tr>\n",
       "  </tbody>\n",
       "</table>\n",
       "<p>5 rows × 46 columns</p>\n",
       "</div>"
      ],
      "text/plain": [
       "   Unnamed: 0  klik  CYF_baner_pozycja  CYF_strona_id  CYF_strona_domena  \\\n",
       "0           0     0                  0           1773               3205   \n",
       "1           1     0                  0            406               3944   \n",
       "2           2     0                  0           1156               3252   \n",
       "3           3     0                  1           2948               2050   \n",
       "4           4     0                  0           1773               3205   \n",
       "\n",
       "   CYF_strona_kategoria  CYF_aplikacja_id  CYF_aplikacja_domena  \\\n",
       "0                     6              4718                   134   \n",
       "1                     2              4353                   123   \n",
       "2                     4              4353                   123   \n",
       "3                    22              4353                   123   \n",
       "4                     6              1066                    36   \n",
       "\n",
       "   CYF_aplikacja_kategoria  CYF_urz_id  ...  CYF_KL1_kat7  NZS1  NZS2  NZS3  \\\n",
       "0                        4      307295  ...             0     7     2     0   \n",
       "1                        0      307295  ...             0     7     9     0   \n",
       "2                        0      307295  ...             0     7     9     0   \n",
       "3                        0      307295  ...             0     1    -1     1   \n",
       "4                       24      117056  ...             0     7     2     0   \n",
       "\n",
       "   NZS4  NZS5  NZS6  NZS7  NZS8  NZS9  \n",
       "0     2     2    -1     4    17   inf  \n",
       "1     2     2     1     3    12   1.0  \n",
       "2     2     2     1     3    12   1.0  \n",
       "3     1     2     2     2     7   2.0  \n",
       "4     2     2     0     4    17   inf  \n",
       "\n",
       "[5 rows x 46 columns]"
      ]
     },
     "execution_count": 1,
     "metadata": {},
     "output_type": "execute_result"
    }
   ],
   "source": [
    "import pandas as pd\n",
    "import numpy as np\n",
    "import seaborn as sns\n",
    "import matplotlib.pyplot as plt\n",
    "%matplotlib inline\n",
    "\n",
    "df= pd.read_csv('/home/wojciech/Pulpit/4/kliki_uczenie2.csv',nrows=1000000)\n",
    "print(df.shape)\n",
    "print()\n",
    "print(df.columns)\n",
    "df.head(5)"
   ]
  },
  {
   "cell_type": "code",
   "execution_count": 2,
   "metadata": {},
   "outputs": [
    {
     "data": {
      "text/plain": [
       "Unnamed: 0                       int64\n",
       "klik                             int64\n",
       "CYF_baner_pozycja                int64\n",
       "CYF_strona_id                    int64\n",
       "CYF_strona_domena                int64\n",
       "CYF_strona_kategoria             int64\n",
       "CYF_aplikacja_id                 int64\n",
       "CYF_aplikacja_domena             int64\n",
       "CYF_aplikacja_kategoria          int64\n",
       "CYF_urz_id                       int64\n",
       "CYF_urz_ip                       int64\n",
       "CYF_urz_model                    int64\n",
       "CYF_urz_typ                      int64\n",
       "CYF_urz_polaczenie               int64\n",
       "CYF_kat1                         int64\n",
       "CYF_kat2                         int64\n",
       "CYF_kat3                         int64\n",
       "CYF_kat4                         int64\n",
       "CYF_kat5                         int64\n",
       "CYF_kat6                         int64\n",
       "CYF_kat7                         int64\n",
       "CYF_kat8                         int64\n",
       "CYF_kat9                         int64\n",
       "CYF_data_godzina                 int64\n",
       "CYF_KL_strona_id                 int64\n",
       "CYF_KL_aplikacja_id              int64\n",
       "CYF_KL_aplikacja_domena          int64\n",
       "CYF_KL4_aplikacja_kategoria      int64\n",
       "CYF_KL0_aplikacja_kategoria      int64\n",
       "CYF_KL_kat3                      int64\n",
       "CYF_KL_kat4                      int64\n",
       "CYF_KL1_kat6                     int64\n",
       "CYF_KL2_kat6                     int64\n",
       "CYF_KL1_kat9                     int64\n",
       "CYF_KL2_kat9                     int64\n",
       "CYF_KL3_kat9                     int64\n",
       "CYF_KL1_kat7                     int64\n",
       "NZS1                             int64\n",
       "NZS2                             int64\n",
       "NZS3                             int64\n",
       "NZS4                             int64\n",
       "NZS5                             int64\n",
       "NZS6                             int64\n",
       "NZS7                             int64\n",
       "NZS8                             int64\n",
       "NZS9                           float64\n",
       "dtype: object"
      ]
     },
     "execution_count": 2,
     "metadata": {},
     "output_type": "execute_result"
    }
   ],
   "source": [
    "df.dtypes"
   ]
  },
  {
   "cell_type": "code",
   "execution_count": 3,
   "metadata": {},
   "outputs": [
    {
     "name": "stderr",
     "output_type": "stream",
     "text": [
      "/home/wojciech/anaconda3/lib/python3.7/site-packages/sklearn/ensemble/forest.py:245: FutureWarning: The default value of n_estimators will change from 10 in version 0.20 to 100 in 0.22.\n",
      "  \"10 in version 0.20 to 100 in 0.22.\", FutureWarning)\n"
     ]
    },
    {
     "name": "stdout",
     "output_type": "stream",
     "text": [
      "Features sorted by their score:\n",
      "[(0.3441, 'CYF_aplikacja_kategoria'), (0.1949, 'CYF_urz_id'), (0.1638, 'CYF_kat8'), (0.0566, 'CYF_urz_polaczenie'), (0.0444, 'CYF_aplikacja_domena'), (0.0328, 'CYF_kat6'), (0.0232, 'klik'), (0.0231, 'CYF_baner_pozycja'), (0.0156, 'CYF_strona_domena'), (0.01, 'CYF_kat3'), (0.009, 'CYF_kat7'), (0.0067, 'CYF_strona_id'), (0.0066, 'CYF_kat5'), (0.0062, 'CYF_KL3_kat9'), (0.006, 'CYF_KL_kat4'), (0.0057, 'NZS6'), (0.0057, 'CYF_urz_model'), (0.0056, 'CYF_strona_kategoria'), (0.0042, 'CYF_KL1_kat7'), (0.0036, 'Unnamed: 0'), (0.0032, 'CYF_aplikacja_id'), (0.003, 'NZS5'), (0.0029, 'CYF_KL1_kat6'), (0.0025, 'NZS1'), (0.0021, 'CYF_KL2_kat9'), (0.0018, 'NZS2'), (0.0017, 'NZS4'), (0.0016, 'NZS3'), (0.0016, 'CYF_kat4'), (0.0015, 'CYF_kat1'), (0.0014, 'CYF_urz_ip'), (0.0013, 'CYF_urz_typ'), (0.0013, 'CYF_KL_aplikacja_domena'), (0.0013, 'CYF_KL0_aplikacja_kategoria'), (0.0009, 'CYF_kat2'), (0.0009, 'CYF_KL_aplikacja_id'), (0.0008, 'CYF_kat9'), (0.0007, 'CYF_KL_strona_id'), (0.0007, 'CYF_KL2_kat6'), (0.0007, 'CYF_KL1_kat9'), (0.0003, 'CYF_data_godzina'), (0.0002, 'CYF_KL4_aplikacja_kategoria'), (0.0001, 'CYF_KL_kat3')]\n"
     ]
    }
   ],
   "source": [
    "# Import `RandomForestClassifier`\n",
    "from sklearn.ensemble import RandomForestClassifier\n",
    "\n",
    "# Isolate Data, class labels and column values\n",
    "X = df[['CYF_baner_pozycja', 'CYF_strona_id',\n",
    "       'CYF_strona_domena', 'CYF_strona_kategoria', 'CYF_aplikacja_id',\n",
    "       'CYF_aplikacja_domena', 'CYF_aplikacja_kategoria', 'CYF_urz_id',\n",
    "       'CYF_urz_ip', 'CYF_urz_model', 'CYF_urz_typ', 'CYF_urz_polaczenie',\n",
    "       'CYF_kat1', 'CYF_kat2', 'CYF_kat3', 'CYF_kat4', 'CYF_kat5', 'CYF_kat6',\n",
    "       'CYF_kat7', 'CYF_kat8', 'CYF_kat9', 'CYF_data_godzina',\n",
    "       'CYF_KL_strona_id', 'CYF_KL_aplikacja_id', 'CYF_KL_aplikacja_domena',\n",
    "       'CYF_KL4_aplikacja_kategoria', 'CYF_KL0_aplikacja_kategoria',\n",
    "       'CYF_KL_kat3', 'CYF_KL_kat4', 'CYF_KL1_kat6', 'CYF_KL2_kat6',\n",
    "       'CYF_KL1_kat9', 'CYF_KL2_kat9', 'CYF_KL3_kat9', 'CYF_KL1_kat7', 'NZS1',\n",
    "       'NZS2', 'NZS3', 'NZS4', 'NZS5', 'NZS6', 'NZS7', 'NZS8']]\n",
    "Y = df['klik']\n",
    "names = df.columns.values\n",
    "\n",
    "# Build the model\n",
    "rfc = RandomForestClassifier()\n",
    "\n",
    "# Fit the model\n",
    "rfc.fit(X, Y)\n",
    "\n",
    "# Print the results\n",
    "print(\"Features sorted by their score:\")\n",
    "print(sorted(zip(map(lambda x: round(x, 4), rfc.feature_importances_), names), reverse=True))"
   ]
  },
  {
   "cell_type": "code",
   "execution_count": 4,
   "metadata": {},
   "outputs": [],
   "source": [
    "import matplotlib.pyplot as plt\n",
    "import numpy as np\n",
    "\n",
    "\n",
    "importance = rfc.feature_importances_"
   ]
  },
  {
   "cell_type": "code",
   "execution_count": 5,
   "metadata": {},
   "outputs": [
    {
     "data": {
      "text/plain": [
       "array([0.004, 0.023, 0.023, 0.007, 0.016, 0.006, 0.003, 0.044, 0.344,\n",
       "       0.195, 0.001, 0.006, 0.001, 0.057, 0.002, 0.001, 0.01 , 0.002,\n",
       "       0.007, 0.033, 0.009, 0.164, 0.001, 0.   , 0.001, 0.001, 0.001,\n",
       "       0.   , 0.001, 0.   , 0.006, 0.003, 0.001, 0.001, 0.002, 0.006,\n",
       "       0.004, 0.002, 0.002, 0.002, 0.002, 0.003, 0.006])"
      ]
     },
     "execution_count": 5,
     "metadata": {},
     "output_type": "execute_result"
    }
   ],
   "source": [
    "importance=np.round(importance, decimals=3)\n",
    "importance"
   ]
  },
  {
   "cell_type": "code",
   "execution_count": 6,
   "metadata": {},
   "outputs": [
    {
     "name": "stdout",
     "output_type": "stream",
     "text": [
      "CYF_urz_ip 0.344\n",
      "CYF_urz_model 0.195\n",
      "CYF_data_godzina 0.164\n",
      "CYF_kat2 0.057\n",
      "CYF_urz_id 0.044\n",
      "CYF_kat8 0.033\n",
      "CYF_strona_id 0.023\n",
      "CYF_strona_domena 0.023\n",
      "CYF_aplikacja_id 0.016\n",
      "CYF_kat5 0.01\n",
      "CYF_kat9 0.009\n",
      "CYF_strona_kategoria 0.007\n",
      "CYF_kat7 0.007\n",
      "CYF_aplikacja_domena 0.006\n",
      "CYF_urz_polaczenie 0.006\n",
      "CYF_KL2_kat6 0.006\n",
      "NZS1 0.006\n",
      "NZS8 0.006\n",
      "CYF_baner_pozycja 0.004\n",
      "NZS2 0.004\n",
      "CYF_aplikacja_kategoria 0.003\n",
      "CYF_KL1_kat9 0.003\n",
      "NZS7 0.003\n",
      "CYF_kat3 0.002\n",
      "CYF_kat6 0.002\n",
      "CYF_KL1_kat7 0.002\n",
      "NZS3 0.002\n",
      "NZS4 0.002\n",
      "NZS5 0.002\n",
      "NZS6 0.002\n",
      "CYF_urz_typ 0.001\n",
      "CYF_kat1 0.001\n",
      "CYF_kat4 0.001\n",
      "CYF_KL_strona_id 0.001\n",
      "CYF_KL_aplikacja_domena 0.001\n",
      "CYF_KL4_aplikacja_kategoria 0.001\n",
      "CYF_KL0_aplikacja_kategoria 0.001\n",
      "CYF_KL_kat4 0.001\n",
      "CYF_KL2_kat9 0.001\n",
      "CYF_KL3_kat9 0.001\n",
      "CYF_KL_aplikacja_id 0.0\n",
      "CYF_KL_kat3 0.0\n",
      "CYF_KL1_kat6 0.0\n"
     ]
    }
   ],
   "source": [
    "AKF = dict(zip(X, importance))\n",
    "\n",
    "AKF_sorted_keys = sorted(AKF, key=AKF.get, reverse=True)\n",
    "\n",
    "for r in AKF_sorted_keys:\n",
    "    print (r, AKF[r])\n",
    "\n",
    "    AKF"
   ]
  },
  {
   "cell_type": "code",
   "execution_count": 7,
   "metadata": {},
   "outputs": [
    {
     "name": "stdout",
     "output_type": "stream",
     "text": [
      "Index(['klik', 'CYF_urz_ip', 'CYF_urz_model', 'CYF_kat2', 'CYF_kat8',\n",
      "       'CYF_data_godzina'],\n",
      "      dtype='object')\n",
      "(3619621, 6)\n"
     ]
    }
   ],
   "source": [
    "import pandas as pd\n",
    "import numpy as np\n",
    "import matplotlib.pyplot as plt\n",
    "\n",
    "df3 = pd.read_csv('/home/wojciech/Pulpit/4/kliki_uczenie2.csv', usecols = ['klik','CYF_urz_ip','CYF_urz_model','CYF_data_godzina','CYF_kat2','CYF_kat8' ])\n",
    "print(df3.columns)\n",
    "print(df3.shape)"
   ]
  },
  {
   "cell_type": "markdown",
   "metadata": {},
   "source": [
    "### <span style=\"color:blue\">Podział na zbiór testowy i wynikowy</span>"
   ]
  },
  {
   "cell_type": "code",
   "execution_count": 8,
   "metadata": {},
   "outputs": [],
   "source": [
    "y = df3['klik']\n",
    "X = df3.drop('klik', axis=1)"
   ]
  },
  {
   "cell_type": "code",
   "execution_count": 9,
   "metadata": {},
   "outputs": [
    {
     "name": "stdout",
     "output_type": "stream",
     "text": [
      "Zbiór X treningowy:  (2425146, 5)\n",
      "Zbiór X testowy:     (1194475, 5)\n",
      "Zbiór y treningowy:  (2425146,)\n",
      "Zbiór y testowy:     (1194475,)\n"
     ]
    }
   ],
   "source": [
    "from sklearn.model_selection import train_test_split \n",
    "Xtrain, Xtest, ytrain, ytest = train_test_split(X,y, test_size=0.33, stratify = y, random_state = 148)\n",
    "\n",
    "print ('Zbiór X treningowy: ',Xtrain.shape)\n",
    "print ('Zbiór X testowy:    ', Xtest.shape)\n",
    "print ('Zbiór y treningowy: ', ytrain.shape)\n",
    "print ('Zbiór y testowy:    ', ytest.shape)"
   ]
  },
  {
   "cell_type": "markdown",
   "metadata": {},
   "source": [
    "### <span style=\"color:blue\">OVERSAMPLING</span>"
   ]
  },
  {
   "cell_type": "code",
   "execution_count": 10,
   "metadata": {},
   "outputs": [
    {
     "name": "stdout",
     "output_type": "stream",
     "text": [
      "ytrain = 0:  2013743\n",
      "ytrain = 1:  411403\n"
     ]
    }
   ],
   "source": [
    "print(\"ytrain = 0: \", sum(ytrain == 0))\n",
    "print(\"ytrain = 1: \", sum(ytrain == 1))"
   ]
  },
  {
   "cell_type": "code",
   "execution_count": 11,
   "metadata": {},
   "outputs": [
    {
     "name": "stdout",
     "output_type": "stream",
     "text": [
      "Ilość -0 klik na -1 klik:  5\n"
     ]
    }
   ],
   "source": [
    "Proporcja = sum(ytrain == 0) / sum(ytrain == 1) \n",
    "Proporcja = np.round(Proporcja, decimals=0)\n",
    "Proporcja = Proporcja.astype(int)\n",
    "print('Ilość -0 klik na -1 klik: ', Proporcja)"
   ]
  },
  {
   "cell_type": "code",
   "execution_count": 12,
   "metadata": {},
   "outputs": [
    {
     "data": {
      "text/plain": [
       "2057015"
      ]
     },
     "execution_count": 12,
     "metadata": {},
     "output_type": "execute_result"
    }
   ],
   "source": [
    "ytrain_OV = pd.concat([ytrain[ytrain==1]] * Proporcja, axis = 0) \n",
    "ytrain_OV.count()"
   ]
  },
  {
   "cell_type": "markdown",
   "metadata": {},
   "source": [
    "Powiękrzyliśmy ilość zmiennych wynikowych 1. Teraz mamy tę samą liczbę wierszy zmiennych wynikowych i zmiennych niezależnych. Teraz wprowadzamy nowe, dodatkowe zmienne 1 do zbioru treningowego."
   ]
  },
  {
   "cell_type": "code",
   "execution_count": 13,
   "metadata": {},
   "outputs": [
    {
     "data": {
      "text/plain": [
       "2057015"
      ]
     },
     "execution_count": 13,
     "metadata": {},
     "output_type": "execute_result"
    }
   ],
   "source": [
    "Xtrain_OV = pd.concat([Xtrain.loc[ytrain==1, :]] * Proporcja, axis = 0)\n",
    "ytrain_OV.count()"
   ]
  },
  {
   "cell_type": "code",
   "execution_count": 14,
   "metadata": {},
   "outputs": [
    {
     "name": "stdout",
     "output_type": "stream",
     "text": [
      "ilość elementów w zbiorze ytrain:      2425146\n",
      "ilość elementów w zbiorze ytrain_OV:   4482161\n"
     ]
    }
   ],
   "source": [
    "ytrain_OV = pd.concat([ytrain, ytrain_OV], axis = 0).reset_index(drop = True)\n",
    "Xtrain_OV = pd.concat([Xtrain, Xtrain_OV], axis = 0).reset_index(drop = True)\n",
    "\n",
    "#print(\"ilość elementów w zbiorze Xtrain:     \", Xtrain.CYF_data_godzina.count())\n",
    "#print(\"ilość elementów w zbiorze Xtrain_OV:  \", Xtrain_OV.CYF_data_godzina.count())\n",
    "print(\"ilość elementów w zbiorze ytrain:     \", ytrain.count())\n",
    "print(\"ilość elementów w zbiorze ytrain_OV:  \", ytrain_OV.count())"
   ]
  },
  {
   "cell_type": "markdown",
   "metadata": {},
   "source": [
    "Poziom zbilansowania zbioru wynikowego:"
   ]
  },
  {
   "cell_type": "code",
   "execution_count": 15,
   "metadata": {},
   "outputs": [
    {
     "data": {
      "text/plain": [
       "<matplotlib.axes._subplots.AxesSubplot at 0x7f03192bd490>"
      ]
     },
     "execution_count": 15,
     "metadata": {},
     "output_type": "execute_result"
    },
    {
     "data": {
      "image/png": "[encoded data removed]",
      "text/plain": [
       "<Figure size 432x288 with 1 Axes>"
      ]
     },
     "metadata": {},
     "output_type": "display_data"
    }
   ],
   "source": [
    "ytrain_OV.value_counts(dropna = False, normalize=True).plot(kind='pie')"
   ]
  },
  {
   "cell_type": "code",
   "execution_count": 16,
   "metadata": {},
   "outputs": [
    {
     "data": {
      "text/plain": [
       "CYF_urz_ip          0\n",
       "CYF_urz_model       0\n",
       "CYF_kat2            0\n",
       "CYF_kat8            0\n",
       "CYF_data_godzina    0\n",
       "dtype: int64"
      ]
     },
     "execution_count": 16,
     "metadata": {},
     "output_type": "execute_result"
    }
   ],
   "source": [
    "Xtest.isnull().sum()"
   ]
  },
  {
   "cell_type": "markdown",
   "metadata": {},
   "source": [
    "# <span style=\"color:blue\"> Model regresji RandomForest</span>"
   ]
  },
  {
   "cell_type": "code",
   "execution_count": 17,
   "metadata": {},
   "outputs": [],
   "source": [
    "from sklearn.ensemble import RandomForestClassifier\n",
    "\n",
    "forestVC = RandomForestClassifier (random_state = 1, \n",
    "                                  n_estimators = 750, \n",
    "                                  max_depth = 2, \n",
    "                                  min_samples_split = 2, min_samples_leaf = 3) \n",
    "RFC_S = forestVC.fit(Xtrain_OV, ytrain_OV)\n",
    "y_pred_RFC = RFC_S.predict(Xtest)"
   ]
  },
  {
   "cell_type": "code",
   "execution_count": 18,
   "metadata": {},
   "outputs": [
    {
     "name": "stdout",
     "output_type": "stream",
     "text": [
      "Recall Training data:      0.9457\n",
      "Precision Training data:   0.571\n",
      "----------------------------------------------------------------------\n",
      "Recall Test data:          0.9472\n",
      "Precision Test data:       0.1818\n",
      "----------------------------------------------------------------------\n",
      "Confusion Matrix Test data\n",
      "[[127822 864022]\n",
      " [ 10701 191930]]\n",
      "----------------------------------------------------------------------\n",
      "              precision    recall  f1-score   support\n",
      "\n",
      "           0       0.92      0.13      0.23    991844\n",
      "           1       0.18      0.95      0.30    202631\n",
      "\n",
      "    accuracy                           0.27   1194475\n",
      "   macro avg       0.55      0.54      0.27   1194475\n",
      "weighted avg       0.80      0.27      0.24   1194475\n",
      "\n"
     ]
    },
    {
     "data": {
      "image/png": "[encoded data removed]",
      "text/plain": [
       "<Figure size 432x288 with 1 Axes>"
      ]
     },
     "metadata": {
      "needs_background": "light"
     },
     "output_type": "display_data"
    }
   ],
   "source": [
    "# ocena modelu\n",
    "from sklearn import metrics\n",
    "from sklearn.metrics import classification_report, confusion_matrix\n",
    "from sklearn.metrics import confusion_matrix, log_loss, auc, roc_curve, roc_auc_score, recall_score, precision_recall_curve\n",
    "from sklearn.metrics import make_scorer, precision_score, fbeta_score, f1_score, classification_report\n",
    "\n",
    "print(\"Recall Training data:     \", np.round(recall_score(ytrain_OV, RFC_S.predict(Xtrain_OV)), decimals=4))\n",
    "print(\"Precision Training data:  \", np.round(precision_score(ytrain_OV, RFC_S.predict(Xtrain_OV)), decimals=4))\n",
    "print(\"----------------------------------------------------------------------\")\n",
    "print(\"Recall Test data:         \", np.round(recall_score(ytest, RFC_S.predict(Xtest)), decimals=4)) \n",
    "print(\"Precision Test data:      \", np.round(precision_score(ytest, RFC_S.predict(Xtest)), decimals=4))\n",
    "print(\"----------------------------------------------------------------------\")\n",
    "print(\"Confusion Matrix Test data\")\n",
    "print(confusion_matrix(ytest, RFC_S.predict(Xtest)))\n",
    "print(\"----------------------------------------------------------------------\")\n",
    "print(classification_report(ytest, RFC_S.predict(Xtest)))\n",
    "y_pred_proba = RFC_S.predict_proba(Xtest)[::,1]\n",
    "fpr, tpr, _ = metrics.roc_curve(ytest,  y_pred_RFC)\n",
    "auc = metrics.roc_auc_score(ytest, y_pred_RFC)\n",
    "plt.plot(fpr, tpr, label='Random Forest (auc = %0.2f)' % auc)\n",
    "plt.xlabel('False Positive Rate',color='grey', fontsize = 13)\n",
    "plt.ylabel('True Positive Rate',color='grey', fontsize = 13)\n",
    "plt.title('Receiver operating characteristic')\n",
    "plt.legend(loc=\"lower right\")\n",
    "plt.legend(loc=4)\n",
    "plt.plot([0, 1], [0, 1],'r--')\n",
    "plt.show()"
   ]
  },
  {
   "cell_type": "markdown",
   "metadata": {},
   "source": []
  },
  {
   "cell_type": "code",
   "execution_count": null,
   "metadata": {},
   "outputs": [],
   "source": []
  },
  {
   "cell_type": "code",
   "execution_count": null,
   "metadata": {},
   "outputs": [],
   "source": []
  },
  {
   "cell_type": "code",
   "execution_count": null,
   "metadata": {},
   "outputs": [],
   "source": []
  },
  {
   "cell_type": "code",
   "execution_count": null,
   "metadata": {},
   "outputs": [],
   "source": []
  },
  {
   "cell_type": "code",
   "execution_count": null,
   "metadata": {},
   "outputs": [],
   "source": []
  },
  {
   "cell_type": "code",
   "execution_count": null,
   "metadata": {},
   "outputs": [],
   "source": []
  },
  {
   "cell_type": "code",
   "execution_count": null,
   "metadata": {},
   "outputs": [],
   "source": []
  },
  {
   "cell_type": "code",
   "execution_count": null,
   "metadata": {},
   "outputs": [],
   "source": []
  },
  {
   "cell_type": "code",
   "execution_count": null,
   "metadata": {},
   "outputs": [],
   "source": []
  },
  {
   "cell_type": "code",
   "execution_count": null,
   "metadata": {},
   "outputs": [],
   "source": []
  },
  {
   "cell_type": "code",
   "execution_count": null,
   "metadata": {},
   "outputs": [],
   "source": []
  },
  {
   "cell_type": "code",
   "execution_count": null,
   "metadata": {},
   "outputs": [],
   "source": []
  },
  {
   "cell_type": "code",
   "execution_count": null,
   "metadata": {},
   "outputs": [],
   "source": []
  },
  {
   "cell_type": "code",
   "execution_count": null,
   "metadata": {},
   "outputs": [],
   "source": []
  },
  {
   "cell_type": "code",
   "execution_count": null,
   "metadata": {},
   "outputs": [],
   "source": []
  },
  {
   "cell_type": "code",
   "execution_count": null,
   "metadata": {},
   "outputs": [],
   "source": []
  },
  {
   "cell_type": "code",
   "execution_count": null,
   "metadata": {},
   "outputs": [],
   "source": []
  },
  {
   "cell_type": "code",
   "execution_count": null,
   "metadata": {},
   "outputs": [],
   "source": []
  },
  {
   "cell_type": "code",
   "execution_count": null,
   "metadata": {},
   "outputs": [],
   "source": []
  },
  {
   "cell_type": "code",
   "execution_count": null,
   "metadata": {},
   "outputs": [],
   "source": []
  },
  {
   "cell_type": "code",
   "execution_count": null,
   "metadata": {},
   "outputs": [],
   "source": []
  },
  {
   "cell_type": "code",
   "execution_count": null,
   "metadata": {},
   "outputs": [],
   "source": []
  },
  {
   "cell_type": "code",
   "execution_count": null,
   "metadata": {},
   "outputs": [],
   "source": []
  },
  {
   "cell_type": "code",
   "execution_count": null,
   "metadata": {},
   "outputs": [],
   "source": []
  },
  {
   "cell_type": "code",
   "execution_count": null,
   "metadata": {},
   "outputs": [],
   "source": []
  },
  {
   "cell_type": "code",
   "execution_count": null,
   "metadata": {},
   "outputs": [],
   "source": []
  },
  {
   "cell_type": "code",
   "execution_count": null,
   "metadata": {},
   "outputs": [],
   "source": []
  },
  {
   "cell_type": "code",
   "execution_count": null,
   "metadata": {},
   "outputs": [],
   "source": []
  },
  {
   "cell_type": "code",
   "execution_count": null,
   "metadata": {},
   "outputs": [],
   "source": []
  },
  {
   "cell_type": "code",
   "execution_count": null,
   "metadata": {},
   "outputs": [],
   "source": []
  },
  {
   "cell_type": "code",
   "execution_count": null,
   "metadata": {},
   "outputs": [],
   "source": []
  },
  {
   "cell_type": "code",
   "execution_count": null,
   "metadata": {},
   "outputs": [],
   "source": []
  },
  {
   "cell_type": "code",
   "execution_count": null,
   "metadata": {},
   "outputs": [],
   "source": []
  },
  {
   "cell_type": "code",
   "execution_count": null,
   "metadata": {},
   "outputs": [],
   "source": []
  },
  {
   "cell_type": "code",
   "execution_count": null,
   "metadata": {},
   "outputs": [],
   "source": []
  },
  {
   "cell_type": "code",
   "execution_count": null,
   "metadata": {},
   "outputs": [],
   "source": []
  },
  {
   "cell_type": "code",
   "execution_count": null,
   "metadata": {},
   "outputs": [],
   "source": []
  },
  {
   "cell_type": "code",
   "execution_count": null,
   "metadata": {},
   "outputs": [],
   "source": []
  }
 ],
 "metadata": {
  "kernelspec": {
   "display_name": "Python 3",
   "language": "python",
   "name": "python3"
  },
  "language_info": {
   "codemirror_mode": {
    "name": "ipython",
    "version": 3
   },
   "file_extension": ".py",
   "mimetype": "text/x-python",
   "name": "python",
   "nbconvert_exporter": "python",
   "pygments_lexer": "ipython3",
   "version": "3.7.4"
  }
 },
 "nbformat": 4,
 "nbformat_minor": 2
}
