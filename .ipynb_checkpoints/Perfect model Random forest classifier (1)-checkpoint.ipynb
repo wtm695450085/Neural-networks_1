{
 "cells": [
  {
   "cell_type": "markdown",
   "metadata": {},
   "source": [
    "# Perfect models: Random Forest Classifier part 1\n",
    "## Określenie głębokości drzewa przez wizualizację"
   ]
  },
  {
   "cell_type": "code",
   "execution_count": 1,
   "metadata": {},
   "outputs": [],
   "source": [
    "%matplotlib inline\n",
    "import numpy as np\n",
    "import matplotlib.pyplot as plt\n",
    "import seaborn as sns; sns.set()"
   ]
  },
  {
   "cell_type": "code",
   "execution_count": 2,
   "metadata": {},
   "outputs": [
    {
     "name": "stdout",
     "output_type": "stream",
     "text": [
      "Index(['Unnamed: 0', 'PassengerId', 'Survived', 'Pclass', 'Name', 'Sex', 'Age',\n",
      "       'SibSp', 'Parch', 'Ticket', 'Fare', 'Cabin', 'Embarked'],\n",
      "      dtype='object')\n",
      "(183, 13)\n"
     ]
    },
    {
     "data": {
      "text/plain": [
       "Unnamed: 0       int64\n",
       "PassengerId      int64\n",
       "Survived         int64\n",
       "Pclass           int64\n",
       "Name            object\n",
       "Sex             object\n",
       "Age            float64\n",
       "SibSp            int64\n",
       "Parch            int64\n",
       "Ticket          object\n",
       "Fare           float64\n",
       "Cabin           object\n",
       "Embarked        object\n",
       "dtype: object"
      ]
     },
     "execution_count": 2,
     "metadata": {},
     "output_type": "execute_result"
    }
   ],
   "source": [
    "import pandas as pd\n",
    "\n",
    "df = pd.read_csv('/home/wojciech/Pulpit/1/kaggletrain.csv')\n",
    "df = df.dropna(how='any')\n",
    "print(df.columns)\n",
    "print(df.shape)\n",
    "df.dtypes\n"
   ]
  },
  {
   "cell_type": "code",
   "execution_count": 3,
   "metadata": {},
   "outputs": [
    {
     "data": {
      "text/plain": [
       "Index(['PassengerId', 'Survived', 'Pclass', 'Name', 'Sex', 'Age', 'SibSp',\n",
       "       'Parch', 'Ticket', 'Fare', 'Cabin', 'Embarked'],\n",
       "      dtype='object')"
      ]
     },
     "execution_count": 3,
     "metadata": {},
     "output_type": "execute_result"
    }
   ],
   "source": [
    "del df['Unnamed: 0']\n",
    "df.columns"
   ]
  },
  {
   "cell_type": "code",
   "execution_count": 4,
   "metadata": {},
   "outputs": [
    {
     "data": {
      "text/html": [
       "<div>\n",
       "<style scoped>\n",
       "    .dataframe tbody tr th:only-of-type {\n",
       "        vertical-align: middle;\n",
       "    }\n",
       "\n",
       "    .dataframe tbody tr th {\n",
       "        vertical-align: top;\n",
       "    }\n",
       "\n",
       "    .dataframe thead th {\n",
       "        text-align: right;\n",
       "    }\n",
       "</style>\n",
       "<table border=\"1\" class=\"dataframe\">\n",
       "  <thead>\n",
       "    <tr style=\"text-align: right;\">\n",
       "      <th></th>\n",
       "      <th>PassengerId</th>\n",
       "      <th>Survived</th>\n",
       "      <th>Pclass</th>\n",
       "      <th>Name</th>\n",
       "      <th>Sex</th>\n",
       "      <th>Age</th>\n",
       "      <th>SibSp</th>\n",
       "      <th>Parch</th>\n",
       "      <th>Ticket</th>\n",
       "      <th>Fare</th>\n",
       "      <th>Cabin</th>\n",
       "      <th>Embarked</th>\n",
       "    </tr>\n",
       "  </thead>\n",
       "  <tbody>\n",
       "    <tr>\n",
       "      <td>1</td>\n",
       "      <td>2</td>\n",
       "      <td>1</td>\n",
       "      <td>1</td>\n",
       "      <td>Cumings, Mrs. John Bradley (Florence Briggs Th...</td>\n",
       "      <td>female</td>\n",
       "      <td>38.0</td>\n",
       "      <td>1</td>\n",
       "      <td>0</td>\n",
       "      <td>PC 17599</td>\n",
       "      <td>71.2833</td>\n",
       "      <td>C85</td>\n",
       "      <td>C</td>\n",
       "    </tr>\n",
       "    <tr>\n",
       "      <td>3</td>\n",
       "      <td>4</td>\n",
       "      <td>1</td>\n",
       "      <td>1</td>\n",
       "      <td>Futrelle, Mrs. Jacques Heath (Lily May Peel)</td>\n",
       "      <td>female</td>\n",
       "      <td>35.0</td>\n",
       "      <td>1</td>\n",
       "      <td>0</td>\n",
       "      <td>113803</td>\n",
       "      <td>53.1000</td>\n",
       "      <td>C123</td>\n",
       "      <td>S</td>\n",
       "    </tr>\n",
       "    <tr>\n",
       "      <td>6</td>\n",
       "      <td>7</td>\n",
       "      <td>0</td>\n",
       "      <td>1</td>\n",
       "      <td>McCarthy, Mr. Timothy J</td>\n",
       "      <td>male</td>\n",
       "      <td>54.0</td>\n",
       "      <td>0</td>\n",
       "      <td>0</td>\n",
       "      <td>17463</td>\n",
       "      <td>51.8625</td>\n",
       "      <td>E46</td>\n",
       "      <td>S</td>\n",
       "    </tr>\n",
       "  </tbody>\n",
       "</table>\n",
       "</div>"
      ],
      "text/plain": [
       "   PassengerId  Survived  Pclass  \\\n",
       "1            2         1       1   \n",
       "3            4         1       1   \n",
       "6            7         0       1   \n",
       "\n",
       "                                                Name     Sex   Age  SibSp  \\\n",
       "1  Cumings, Mrs. John Bradley (Florence Briggs Th...  female  38.0      1   \n",
       "3       Futrelle, Mrs. Jacques Heath (Lily May Peel)  female  35.0      1   \n",
       "6                            McCarthy, Mr. Timothy J    male  54.0      0   \n",
       "\n",
       "   Parch    Ticket     Fare Cabin Embarked  \n",
       "1      0  PC 17599  71.2833   C85        C  \n",
       "3      0    113803  53.1000  C123        S  \n",
       "6      0     17463  51.8625   E46        S  "
      ]
     },
     "execution_count": 4,
     "metadata": {},
     "output_type": "execute_result"
    }
   ],
   "source": [
    "df.head(3)"
   ]
  },
  {
   "cell_type": "markdown",
   "metadata": {},
   "source": [
    "### Digitizing data in page format"
   ]
  },
  {
   "cell_type": "code",
   "execution_count": 5,
   "metadata": {},
   "outputs": [
    {
     "data": {
      "text/plain": [
       "PassengerId      int64\n",
       "Survived         int64\n",
       "Pclass           int64\n",
       "Name            object\n",
       "Sex               int8\n",
       "Age            float64\n",
       "SibSp            int64\n",
       "Parch            int64\n",
       "Ticket           int16\n",
       "Fare           float64\n",
       "Cabin            int16\n",
       "Embarked          int8\n",
       "dtype: object"
      ]
     },
     "execution_count": 5,
     "metadata": {},
     "output_type": "execute_result"
    }
   ],
   "source": [
    "df['Sex'] = pd.Categorical(df.Sex).codes\n",
    "df['Ticket'] = pd.Categorical(df.Ticket).codes\n",
    "df['Cabin'] = pd.Categorical(df.Ticket).codes\n",
    "df['Embarked'] = pd.Categorical(df.Embarked).codes\n",
    "\n",
    "df.dtypes"
   ]
  },
  {
   "cell_type": "code",
   "execution_count": 6,
   "metadata": {},
   "outputs": [],
   "source": [
    "df['Sex']=df['Sex'].astype('int64')"
   ]
  },
  {
   "cell_type": "markdown",
   "metadata": {},
   "source": [
    "### Selection of variables divided into test and training set"
   ]
  },
  {
   "cell_type": "code",
   "execution_count": 7,
   "metadata": {},
   "outputs": [
    {
     "name": "stdout",
     "output_type": "stream",
     "text": [
      "X : (183, 2)\n",
      "y : (183,)\n"
     ]
    }
   ],
   "source": [
    "import numpy as np\n",
    "from sklearn.model_selection import train_test_split  \n",
    "\n",
    "df2 = df[['Sex','Age','Pclass','Survived']]\n",
    "X = df2[['Sex','Age']]\n",
    "y = df2['Survived']\n",
    "\n",
    "print('X :',X.shape)\n",
    "print('y :',y.shape)\n",
    "#Xtrain, Xtest, ytrain, ytest = train_test_split(X,y,test_size = 0.3, random_state = 0)"
   ]
  },
  {
   "cell_type": "code",
   "execution_count": 8,
   "metadata": {},
   "outputs": [],
   "source": [
    "import numpy as np\n",
    "\n",
    "y = np.asarray(y)\n",
    "X = np.asarray(X)"
   ]
  },
  {
   "cell_type": "code",
   "execution_count": 9,
   "metadata": {},
   "outputs": [
    {
     "data": {
      "text/plain": [
       "array([[ 0.  , 38.  ],\n",
       "       [ 0.  , 35.  ],\n",
       "       [ 1.  , 54.  ],\n",
       "       [ 0.  ,  4.  ],\n",
       "       [ 0.  , 58.  ],\n",
       "       [ 1.  , 34.  ],\n",
       "       [ 1.  , 28.  ],\n",
       "       [ 1.  , 19.  ],\n",
       "       [ 0.  , 49.  ],\n",
       "       [ 1.  , 65.  ],\n",
       "       [ 1.  , 45.  ],\n",
       "       [ 0.  , 29.  ],\n",
       "       [ 1.  , 25.  ],\n",
       "       [ 0.  , 23.  ],\n",
       "       [ 1.  , 46.  ],\n",
       "       [ 1.  , 71.  ],\n",
       "       [ 1.  , 23.  ],\n",
       "       [ 1.  , 21.  ],\n",
       "       [ 1.  , 47.  ],\n",
       "       [ 1.  , 24.  ],\n",
       "       [ 0.  , 32.5 ],\n",
       "       [ 1.  , 54.  ],\n",
       "       [ 0.  , 19.  ],\n",
       "       [ 1.  , 37.  ],\n",
       "       [ 1.  , 24.  ],\n",
       "       [ 1.  , 36.5 ],\n",
       "       [ 0.  , 22.  ],\n",
       "       [ 1.  , 61.  ],\n",
       "       [ 1.  , 56.  ],\n",
       "       [ 0.  , 50.  ],\n",
       "       [ 1.  ,  1.  ],\n",
       "       [ 1.  ,  3.  ],\n",
       "       [ 0.  , 44.  ],\n",
       "       [ 0.  , 58.  ],\n",
       "       [ 0.  ,  2.  ],\n",
       "       [ 1.  , 40.  ],\n",
       "       [ 0.  , 31.  ],\n",
       "       [ 0.  , 32.  ],\n",
       "       [ 1.  , 38.  ],\n",
       "       [ 0.  , 35.  ],\n",
       "       [ 1.  , 44.  ],\n",
       "       [ 1.  , 37.  ],\n",
       "       [ 0.  , 29.  ],\n",
       "       [ 1.  , 62.  ],\n",
       "       [ 0.  , 30.  ],\n",
       "       [ 1.  , 52.  ],\n",
       "       [ 1.  , 40.  ],\n",
       "       [ 0.  , 58.  ],\n",
       "       [ 0.  , 35.  ],\n",
       "       [ 1.  , 37.  ],\n",
       "       [ 0.  , 63.  ],\n",
       "       [ 0.  , 19.  ],\n",
       "       [ 1.  , 36.  ],\n",
       "       [ 0.  ,  2.  ],\n",
       "       [ 0.  , 50.  ],\n",
       "       [ 1.  ,  0.92],\n",
       "       [ 0.  , 17.  ],\n",
       "       [ 0.  , 30.  ],\n",
       "       [ 0.  , 24.  ],\n",
       "       [ 0.  , 18.  ],\n",
       "       [ 0.  , 31.  ],\n",
       "       [ 0.  , 40.  ],\n",
       "       [ 0.  , 36.  ],\n",
       "       [ 0.  , 36.  ],\n",
       "       [ 0.  , 16.  ],\n",
       "       [ 1.  , 45.5 ],\n",
       "       [ 1.  , 38.  ],\n",
       "       [ 1.  , 29.  ],\n",
       "       [ 0.  , 41.  ],\n",
       "       [ 1.  , 45.  ],\n",
       "       [ 1.  ,  2.  ],\n",
       "       [ 0.  , 24.  ],\n",
       "       [ 0.  , 24.  ],\n",
       "       [ 0.  , 22.  ],\n",
       "       [ 0.  , 60.  ],\n",
       "       [ 0.  , 24.  ],\n",
       "       [ 1.  , 25.  ],\n",
       "       [ 1.  , 27.  ],\n",
       "       [ 1.  , 36.  ],\n",
       "       [ 0.  , 23.  ],\n",
       "       [ 0.  , 24.  ],\n",
       "       [ 0.  , 33.  ],\n",
       "       [ 1.  , 32.  ],\n",
       "       [ 1.  , 28.  ],\n",
       "       [ 1.  , 50.  ],\n",
       "       [ 0.  , 14.  ],\n",
       "       [ 1.  , 64.  ],\n",
       "       [ 1.  ,  4.  ],\n",
       "       [ 1.  , 52.  ],\n",
       "       [ 1.  , 30.  ],\n",
       "       [ 1.  , 49.  ],\n",
       "       [ 1.  , 65.  ],\n",
       "       [ 1.  , 48.  ],\n",
       "       [ 1.  , 47.  ],\n",
       "       [ 0.  , 23.  ],\n",
       "       [ 1.  , 25.  ],\n",
       "       [ 0.  , 35.  ],\n",
       "       [ 1.  , 58.  ],\n",
       "       [ 1.  , 55.  ],\n",
       "       [ 0.  , 54.  ],\n",
       "       [ 0.  , 25.  ],\n",
       "       [ 0.  , 16.  ],\n",
       "       [ 1.  , 18.  ],\n",
       "       [ 1.  , 36.  ],\n",
       "       [ 1.  , 47.  ],\n",
       "       [ 0.  , 34.  ],\n",
       "       [ 0.  , 30.  ],\n",
       "       [ 0.  , 44.  ],\n",
       "       [ 1.  , 45.  ],\n",
       "       [ 0.  , 22.  ],\n",
       "       [ 0.  , 36.  ],\n",
       "       [ 1.  , 50.  ],\n",
       "       [ 1.  , 17.  ],\n",
       "       [ 0.  , 48.  ],\n",
       "       [ 0.  , 39.  ],\n",
       "       [ 0.  , 53.  ],\n",
       "       [ 1.  , 36.  ],\n",
       "       [ 0.  , 39.  ],\n",
       "       [ 0.  , 39.  ],\n",
       "       [ 1.  , 36.  ],\n",
       "       [ 0.  , 18.  ],\n",
       "       [ 1.  , 60.  ],\n",
       "       [ 0.  , 52.  ],\n",
       "       [ 1.  , 49.  ],\n",
       "       [ 0.  , 40.  ],\n",
       "       [ 0.  ,  4.  ],\n",
       "       [ 1.  , 42.  ],\n",
       "       [ 1.  , 61.  ],\n",
       "       [ 0.  , 21.  ],\n",
       "       [ 1.  , 80.  ],\n",
       "       [ 1.  , 32.  ],\n",
       "       [ 0.  , 24.  ],\n",
       "       [ 1.  , 48.  ],\n",
       "       [ 1.  , 56.  ],\n",
       "       [ 1.  , 58.  ],\n",
       "       [ 1.  , 47.  ],\n",
       "       [ 1.  , 31.  ],\n",
       "       [ 1.  , 36.  ],\n",
       "       [ 1.  , 27.  ],\n",
       "       [ 0.  , 15.  ],\n",
       "       [ 1.  , 31.  ],\n",
       "       [ 1.  , 49.  ],\n",
       "       [ 1.  , 42.  ],\n",
       "       [ 0.  , 18.  ],\n",
       "       [ 1.  , 35.  ],\n",
       "       [ 1.  , 42.  ],\n",
       "       [ 0.  , 24.  ],\n",
       "       [ 1.  , 48.  ],\n",
       "       [ 1.  , 19.  ],\n",
       "       [ 0.  , 38.  ],\n",
       "       [ 0.  , 27.  ],\n",
       "       [ 1.  , 27.  ],\n",
       "       [ 0.  , 29.  ],\n",
       "       [ 1.  , 35.  ],\n",
       "       [ 1.  , 36.  ],\n",
       "       [ 0.  , 21.  ],\n",
       "       [ 1.  , 70.  ],\n",
       "       [ 1.  , 19.  ],\n",
       "       [ 1.  ,  6.  ],\n",
       "       [ 0.  , 33.  ],\n",
       "       [ 0.  , 36.  ],\n",
       "       [ 0.  , 51.  ],\n",
       "       [ 0.  , 57.  ],\n",
       "       [ 0.  , 43.  ],\n",
       "       [ 0.  , 17.  ],\n",
       "       [ 1.  , 29.  ],\n",
       "       [ 1.  , 46.  ],\n",
       "       [ 0.  , 49.  ],\n",
       "       [ 1.  , 11.  ],\n",
       "       [ 1.  , 39.  ],\n",
       "       [ 0.  , 33.  ],\n",
       "       [ 0.  , 52.  ],\n",
       "       [ 0.  , 27.  ],\n",
       "       [ 0.  , 39.  ],\n",
       "       [ 0.  , 16.  ],\n",
       "       [ 1.  , 51.  ],\n",
       "       [ 0.  , 48.  ],\n",
       "       [ 1.  , 31.  ],\n",
       "       [ 0.  , 47.  ],\n",
       "       [ 1.  , 33.  ],\n",
       "       [ 0.  , 56.  ],\n",
       "       [ 0.  , 19.  ],\n",
       "       [ 1.  , 26.  ]])"
      ]
     },
     "execution_count": 9,
     "metadata": {},
     "output_type": "execute_result"
    }
   ],
   "source": [
    "X"
   ]
  },
  {
   "cell_type": "code",
   "execution_count": 10,
   "metadata": {},
   "outputs": [
    {
     "data": {
      "text/plain": [
       "(183, 2)"
      ]
     },
     "execution_count": 10,
     "metadata": {},
     "output_type": "execute_result"
    }
   ],
   "source": [
    "X.shape"
   ]
  },
  {
   "cell_type": "code",
   "execution_count": 11,
   "metadata": {},
   "outputs": [
    {
     "data": {
      "text/plain": [
       "array([38.  , 35.  , 54.  ,  4.  , 58.  , 34.  , 28.  , 19.  , 49.  ,\n",
       "       65.  , 45.  , 29.  , 25.  , 23.  , 46.  , 71.  , 23.  , 21.  ,\n",
       "       47.  , 24.  , 32.5 , 54.  , 19.  , 37.  , 24.  , 36.5 , 22.  ,\n",
       "       61.  , 56.  , 50.  ,  1.  ,  3.  , 44.  , 58.  ,  2.  , 40.  ,\n",
       "       31.  , 32.  , 38.  , 35.  , 44.  , 37.  , 29.  , 62.  , 30.  ,\n",
       "       52.  , 40.  , 58.  , 35.  , 37.  , 63.  , 19.  , 36.  ,  2.  ,\n",
       "       50.  ,  0.92, 17.  , 30.  , 24.  , 18.  , 31.  , 40.  , 36.  ,\n",
       "       36.  , 16.  , 45.5 , 38.  , 29.  , 41.  , 45.  ,  2.  , 24.  ,\n",
       "       24.  , 22.  , 60.  , 24.  , 25.  , 27.  , 36.  , 23.  , 24.  ,\n",
       "       33.  , 32.  , 28.  , 50.  , 14.  , 64.  ,  4.  , 52.  , 30.  ,\n",
       "       49.  , 65.  , 48.  , 47.  , 23.  , 25.  , 35.  , 58.  , 55.  ,\n",
       "       54.  , 25.  , 16.  , 18.  , 36.  , 47.  , 34.  , 30.  , 44.  ,\n",
       "       45.  , 22.  , 36.  , 50.  , 17.  , 48.  , 39.  , 53.  , 36.  ,\n",
       "       39.  , 39.  , 36.  , 18.  , 60.  , 52.  , 49.  , 40.  ,  4.  ,\n",
       "       42.  , 61.  , 21.  , 80.  , 32.  , 24.  , 48.  , 56.  , 58.  ,\n",
       "       47.  , 31.  , 36.  , 27.  , 15.  , 31.  , 49.  , 42.  , 18.  ,\n",
       "       35.  , 42.  , 24.  , 48.  , 19.  , 38.  , 27.  , 27.  , 29.  ,\n",
       "       35.  , 36.  , 21.  , 70.  , 19.  ,  6.  , 33.  , 36.  , 51.  ,\n",
       "       57.  , 43.  , 17.  , 29.  , 46.  , 49.  , 11.  , 39.  , 33.  ,\n",
       "       52.  , 27.  , 39.  , 16.  , 51.  , 48.  , 31.  , 47.  , 33.  ,\n",
       "       56.  , 19.  , 26.  ])"
      ]
     },
     "execution_count": 11,
     "metadata": {},
     "output_type": "execute_result"
    }
   ],
   "source": [
    "X[:,1]"
   ]
  },
  {
   "cell_type": "code",
   "execution_count": 12,
   "metadata": {},
   "outputs": [],
   "source": [
    "from helpers_05_08 import visualize_tree\n",
    "from sklearn.tree import DecisionTreeClassifier\n",
    "from sklearn.datasets import make_blobs\n"
   ]
  },
  {
   "cell_type": "code",
   "execution_count": null,
   "metadata": {},
   "outputs": [],
   "source": []
  },
  {
   "cell_type": "code",
   "execution_count": 13,
   "metadata": {},
   "outputs": [
    {
     "data": {
      "text/plain": [
       "(183,)"
      ]
     },
     "execution_count": 13,
     "metadata": {},
     "output_type": "execute_result"
    }
   ],
   "source": [
    "y.shape"
   ]
  },
  {
   "cell_type": "markdown",
   "metadata": {},
   "source": [
    "### Data normalization (standardization)\n",
    "\n",
    "PCA works best with a standardized feature set. We will perform standard scalar normalization to normalize our feature set."
   ]
  },
  {
   "cell_type": "raw",
   "metadata": {},
   "source": [
    "from sklearn.preprocessing import StandardScaler\n",
    "\n",
    "sc = StandardScaler()\n",
    "Xtrain = sc.fit_transform(Xtrain)\n",
    "Xtest = sc.transform(Xtest)"
   ]
  },
  {
   "cell_type": "raw",
   "metadata": {},
   "source": [
    "import numpy as np\n",
    "\n",
    "y = np.asarray(df)\n",
    "X = np.asarray(df)"
   ]
  },
  {
   "cell_type": "raw",
   "metadata": {},
   "source": [
    "print('X :',X.shape)\n",
    "print('y :',y.shape)"
   ]
  },
  {
   "cell_type": "markdown",
   "metadata": {},
   "source": [
    "### Abaliza jak Random Forest klasyfikuje w zależności od głębokości podziału"
   ]
  },
  {
   "cell_type": "code",
   "execution_count": 14,
   "metadata": {},
   "outputs": [
    {
     "name": "stderr",
     "output_type": "stream",
     "text": [
      "/home/wojciech/ATOS/helpers_05_08.py:34: UserWarning: The following kwargs were not used by contour: 'clim'\n",
      "  zorder=1)\n",
      "/home/wojciech/ATOS/helpers_05_08.py:34: UserWarning: The following kwargs were not used by contour: 'clim'\n",
      "  zorder=1)\n",
      "/home/wojciech/ATOS/helpers_05_08.py:34: UserWarning: The following kwargs were not used by contour: 'clim'\n",
      "  zorder=1)\n",
      "/home/wojciech/ATOS/helpers_05_08.py:34: UserWarning: The following kwargs were not used by contour: 'clim'\n",
      "  zorder=1)\n"
     ]
    },
    {
     "data": {
      "image/png": "[encoded data removed]",
      "text/plain": [
       "<Figure size 1152x216 with 4 Axes>"
      ]
     },
     "metadata": {
      "needs_background": "light"
     },
     "output_type": "display_data"
    }
   ],
   "source": [
    "from helpers_05_08 import visualize_tree\n",
    "from sklearn.tree import DecisionTreeClassifier\n",
    "from sklearn.datasets import make_blobs\n",
    "\n",
    "        \n",
    "fig, ax = plt.subplots(1, 4, figsize=(16, 3))\n",
    "fig.subplots_adjust(left=0.02, right=0.98, wspace=0.1)\n",
    "\n",
    "#X, y = make_blobs(n_samples=300, centers=4,\n",
    "#                  random_state=0, cluster_std=1.0)\n",
    "\n",
    "for axi, depth in zip(ax, range(1,5)):\n",
    "    model = DecisionTreeClassifier(max_depth=depth)\n",
    "    visualize_tree(model, X, y, ax=axi)\n",
    "    axi.set_title('depth = {0}'.format(depth))\n",
    "\n"
   ]
  },
  {
   "cell_type": "code",
   "execution_count": 15,
   "metadata": {},
   "outputs": [
    {
     "name": "stderr",
     "output_type": "stream",
     "text": [
      "'c' argument looks like a single numeric RGB or RGBA sequence, which should be avoided as value-mapping will have precedence in case its length matches with 'x' & 'y'.  Please use a 2-D array with a single row if you really want to specify the same RGB or RGBA value for all points.\n",
      "'c' argument looks like a single numeric RGB or RGBA sequence, which should be avoided as value-mapping will have precedence in case its length matches with 'x' & 'y'.  Please use a 2-D array with a single row if you really want to specify the same RGB or RGBA value for all points.\n"
     ]
    },
    {
     "data": {
      "image/png": "[encoded data removed]",
      "text/plain": [
       "<Figure size 432x288 with 1 Axes>"
      ]
     },
     "metadata": {
      "needs_background": "light"
     },
     "output_type": "display_data"
    }
   ],
   "source": [
    "# Predicting the training set \n",
    "# result through scatter plot  \n",
    "from matplotlib.colors import ListedColormap \n",
    "  \n",
    "X_set, y_set = X, y \n",
    "X1, X2 = np.meshgrid(np.arange(start = X_set[:, 0].min() - 1, \n",
    "                     stop = X_set[:, 0].max() + 1, step = 0.01), \n",
    "                     np.arange(start = X_set[:, 1].min() - 1, \n",
    "                     stop = X_set[:, 1].max() + 1, step = 0.01)) \n",
    "  \n",
    "plt.contourf(X1, X2, model.predict(np.array([X1.ravel(), \n",
    "             X2.ravel()]).T).reshape(X1.shape), alpha = 0.75, \n",
    "             cmap = ListedColormap(('pink', 'white', 'grey'))) \n",
    "  \n",
    "plt.xlim(X1.min(), X1.max()) \n",
    "plt.ylim(X2.min(), X2.max()) \n",
    "  \n",
    "for i, j in enumerate(np.unique(y_set)): \n",
    "    plt.scatter(X_set[y_set == j, 0], X_set[y_set == j, 1], \n",
    "                c = ListedColormap(('red', 'green', 'blue'))(i), label = j) \n",
    "  \n",
    "plt.title('Logistic Regression (Training set)') \n",
    "plt.xlabel('PC1') # for Xlabel \n",
    "plt.ylabel('PC2') # for Ylabel \n",
    "plt.legend() # to show legend \n",
    "  \n",
    "# show scatter plot \n",
    "plt.show()"
   ]
  },
  {
   "cell_type": "code",
   "execution_count": 25,
   "metadata": {},
   "outputs": [
    {
     "name": "stderr",
     "output_type": "stream",
     "text": [
      "/home/wojciech/anaconda3/lib/python3.7/site-packages/sklearn/ensemble/forest.py:245: FutureWarning: The default value of n_estimators will change from 10 in version 0.20 to 100 in 0.22.\n",
      "  \"10 in version 0.20 to 100 in 0.22.\", FutureWarning)\n",
      "/home/wojciech/anaconda3/lib/python3.7/site-packages/ipykernel_launcher.py:23: UserWarning: The following kwargs were not used by contour: 'clim'\n"
     ]
    },
    {
     "data": {
      "image/png": "[encoded data removed]",
      "text/plain": [
       "<Figure size 432x288 with 1 Axes>"
      ]
     },
     "metadata": {
      "needs_background": "light"
     },
     "output_type": "display_data"
    }
   ],
   "source": [
    "def visualize_classifier(model, X, y, ax=None, cmap='rainbow'):\n",
    "    ax = ax or plt.gca()\n",
    "    \n",
    "    # Plot the training points\n",
    "    ax.scatter(X[:, 0], X[:, 1], c=y, s=30, cmap=cmap,\n",
    "               clim=(y.min(), y.max()), zorder=3)\n",
    "    ax.axis('tight')\n",
    "    ax.axis('off')\n",
    "    xlim = ax.get_xlim()\n",
    "    ylim = ax.get_ylim()\n",
    "    \n",
    "    # fit the estimator\n",
    "    model.fit(X, y)\n",
    "    xx, yy = np.meshgrid(np.linspace(*xlim, num=200),\n",
    "                         np.linspace(*ylim, num=200))\n",
    "    Z = model.predict(np.c_[xx.ravel(), yy.ravel()]).reshape(xx.shape)\n",
    "\n",
    "    # Create a color plot with the results\n",
    "    n_classes = len(np.unique(y))\n",
    "    contours = ax.contourf(xx, yy, Z, alpha=0.3,\n",
    "                           levels=np.arange(n_classes + 1) - 0.5,\n",
    "                           cmap=cmap, clim=(y.min(), y.max()),\n",
    "                           zorder=1)\n",
    "\n",
    "    ax.set(xlim=xlim, ylim=ylim)\n",
    "\n",
    "## MODEL    \n",
    "from sklearn.ensemble import RandomForestClassifier\n",
    "\n",
    "RF2 = RandomForestClassifier(max_depth=6, random_state=0)\n",
    "RF2.fit(X, y)\n",
    "\n",
    "# Predicting the Test set results\n",
    "y_pred2 = RF2.predict(X)    \n",
    "    \n",
    "    \n",
    "visualize_classifier(RF2, X, y)"
   ]
  },
  {
   "cell_type": "code",
   "execution_count": 17,
   "metadata": {},
   "outputs": [
    {
     "name": "stderr",
     "output_type": "stream",
     "text": [
      "/home/wojciech/anaconda3/lib/python3.7/site-packages/ipykernel_launcher.py:23: UserWarning: The following kwargs were not used by contour: 'clim'\n"
     ]
    },
    {
     "data": {
      "image/png": "[encoded data removed]",
      "text/plain": [
       "<Figure size 432x288 with 1 Axes>"
      ]
     },
     "metadata": {
      "needs_background": "light"
     },
     "output_type": "display_data"
    }
   ],
   "source": [
    "visualize_classifier(DecisionTreeClassifier(), X, y)"
   ]
  },
  {
   "cell_type": "code",
   "execution_count": 18,
   "metadata": {},
   "outputs": [
    {
     "data": {
      "application/vnd.jupyter.widget-view+json": {
       "model_id": "ef8c7358414d48d9a770a7a84cbd6990",
       "version_major": 2,
       "version_minor": 0
      },
      "text/plain": [
       "interactive(children=(Dropdown(description='depth', index=1, options=(1, 5), value=5), Output()), _dom_classes…"
      ]
     },
     "metadata": {},
     "output_type": "display_data"
    },
    {
     "data": {
      "text/plain": [
       "<function helpers_05_08.plot_tree_interactive.<locals>.interactive_tree(depth=5)>"
      ]
     },
     "execution_count": 18,
     "metadata": {},
     "output_type": "execute_result"
    }
   ],
   "source": [
    "import helpers_05_08\n",
    "helpers_05_08.plot_tree_interactive(X, y)"
   ]
  },
  {
   "cell_type": "code",
   "execution_count": 27,
   "metadata": {},
   "outputs": [
    {
     "name": "stderr",
     "output_type": "stream",
     "text": [
      "/home/wojciech/anaconda3/lib/python3.7/site-packages/ipykernel_launcher.py:23: UserWarning: The following kwargs were not used by contour: 'clim'\n"
     ]
    },
    {
     "data": {
      "image/png": "[encoded data removed]",
      "text/plain": [
       "<Figure size 432x288 with 1 Axes>"
      ]
     },
     "metadata": {
      "needs_background": "light"
     },
     "output_type": "display_data"
    }
   ],
   "source": [
    "from sklearn.tree import DecisionTreeClassifier\n",
    "from sklearn.ensemble import BaggingClassifier\n",
    "\n",
    "tree = DecisionTreeClassifier()\n",
    "bag = BaggingClassifier(tree, n_estimators=100, max_samples=0.8,\n",
    "                        random_state=1)\n",
    "\n",
    "bag.fit(X, y)\n",
    "visualize_classifier(bag, X, y)"
   ]
  },
  {
   "cell_type": "markdown",
   "metadata": {},
   "source": [
    "Uruchamiamy las 240 drzew"
   ]
  },
  {
   "cell_type": "code",
   "execution_count": 20,
   "metadata": {},
   "outputs": [
    {
     "name": "stderr",
     "output_type": "stream",
     "text": [
      "/home/wojciech/anaconda3/lib/python3.7/site-packages/ipykernel_launcher.py:23: UserWarning: The following kwargs were not used by contour: 'clim'\n"
     ]
    },
    {
     "data": {
      "image/png": "[encoded data removed]",
      "text/plain": [
       "<Figure size 432x288 with 1 Axes>"
      ]
     },
     "metadata": {
      "needs_background": "light"
     },
     "output_type": "display_data"
    }
   ],
   "source": [
    "from sklearn.ensemble import RandomForestClassifier\n",
    "\n",
    "model = RandomForestClassifier(n_estimators=240, random_state=0)\n",
    "visualize_classifier(model, X, y);"
   ]
  },
  {
   "cell_type": "code",
   "execution_count": null,
   "metadata": {},
   "outputs": [],
   "source": []
  },
  {
   "cell_type": "code",
   "execution_count": null,
   "metadata": {},
   "outputs": [],
   "source": []
  },
  {
   "cell_type": "code",
   "execution_count": null,
   "metadata": {},
   "outputs": [],
   "source": []
  },
  {
   "cell_type": "code",
   "execution_count": null,
   "metadata": {},
   "outputs": [],
   "source": []
  },
  {
   "cell_type": "code",
   "execution_count": null,
   "metadata": {},
   "outputs": [],
   "source": []
  },
  {
   "cell_type": "code",
   "execution_count": null,
   "metadata": {},
   "outputs": [],
   "source": []
  },
  {
   "cell_type": "code",
   "execution_count": null,
   "metadata": {},
   "outputs": [],
   "source": []
  }
 ],
 "metadata": {
  "kernelspec": {
   "display_name": "Python 3",
   "language": "python",
   "name": "python3"
  },
  "language_info": {
   "codemirror_mode": {
    "name": "ipython",
    "version": 3
   },
   "file_extension": ".py",
   "mimetype": "text/x-python",
   "name": "python",
   "nbconvert_exporter": "python",
   "pygments_lexer": "ipython3",
   "version": "3.7.4"
  }
 },
 "nbformat": 4,
 "nbformat_minor": 2
}
