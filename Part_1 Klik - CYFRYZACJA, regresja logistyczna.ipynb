{
 "cells": [
  {
   "cell_type": "markdown",
   "metadata": {},
   "source": [
    "# Part_1: Klik - CYFRYZACJA, regresja logistyczna\n",
    "06:50 - 8:30,\n",
    "09:00 - 11:00,\n",
    "50 minut +20 minut,\n",
    "14:00 - 15:00\n",
    "15:20"
   ]
  },
  {
   "cell_type": "code",
   "execution_count": 1,
   "metadata": {},
   "outputs": [
    {
     "name": "stdout",
     "output_type": "stream",
     "text": [
      "Fri Mar 13 13:27:39 2020\n"
     ]
    }
   ],
   "source": [
    "import time\n",
    "start_time = time.time() ## pomiar czasu: start pomiaru czasu\n",
    "print(time.ctime())"
   ]
  },
  {
   "cell_type": "code",
   "execution_count": 2,
   "metadata": {},
   "outputs": [
    {
     "name": "stdout",
     "output_type": "stream",
     "text": [
      "(1500000, 24)\n",
      "\n",
      "Index(['id', 'klik', 'data_godzina', 'baner_pozycja', 'strona_id',\n",
      "       'strona_domena', 'strona_kategoria', 'aplikacja_id', 'aplikacja_domena',\n",
      "       'aplikacja_kategoria', 'urz_id', 'urz_ip', 'urz_model', 'urz_typ',\n",
      "       'urz_polaczenie', 'kat1', 'kat2', 'kat3', 'kat4', 'kat5', 'kat6',\n",
      "       'kat7', 'kat8', 'kat9'],\n",
      "      dtype='object')\n"
     ]
    },
    {
     "data": {
      "text/html": [
       "<div>\n",
       "<style scoped>\n",
       "    .dataframe tbody tr th:only-of-type {\n",
       "        vertical-align: middle;\n",
       "    }\n",
       "\n",
       "    .dataframe tbody tr th {\n",
       "        vertical-align: top;\n",
       "    }\n",
       "\n",
       "    .dataframe thead th {\n",
       "        text-align: right;\n",
       "    }\n",
       "</style>\n",
       "<table border=\"1\" class=\"dataframe\">\n",
       "  <thead>\n",
       "    <tr style=\"text-align: right;\">\n",
       "      <th></th>\n",
       "      <th>id</th>\n",
       "      <th>klik</th>\n",
       "      <th>data_godzina</th>\n",
       "      <th>baner_pozycja</th>\n",
       "      <th>strona_id</th>\n",
       "      <th>strona_domena</th>\n",
       "      <th>strona_kategoria</th>\n",
       "      <th>aplikacja_id</th>\n",
       "      <th>aplikacja_domena</th>\n",
       "      <th>aplikacja_kategoria</th>\n",
       "      <th>...</th>\n",
       "      <th>urz_polaczenie</th>\n",
       "      <th>kat1</th>\n",
       "      <th>kat2</th>\n",
       "      <th>kat3</th>\n",
       "      <th>kat4</th>\n",
       "      <th>kat5</th>\n",
       "      <th>kat6</th>\n",
       "      <th>kat7</th>\n",
       "      <th>kat8</th>\n",
       "      <th>kat9</th>\n",
       "    </tr>\n",
       "  </thead>\n",
       "  <tbody>\n",
       "    <tr>\n",
       "      <td>0</td>\n",
       "      <td>93718246913880603</td>\n",
       "      <td>0</td>\n",
       "      <td>17030100</td>\n",
       "      <td>0</td>\n",
       "      <td>85f751fd</td>\n",
       "      <td>c4e18dd6</td>\n",
       "      <td>50e219e0</td>\n",
       "      <td>febd1138</td>\n",
       "      <td>82e27996</td>\n",
       "      <td>0f2161f8</td>\n",
       "      <td>...</td>\n",
       "      <td>0</td>\n",
       "      <td>105</td>\n",
       "      <td>119743</td>\n",
       "      <td>10320</td>\n",
       "      <td>10050</td>\n",
       "      <td>12264</td>\n",
       "      <td>13</td>\n",
       "      <td>10427</td>\n",
       "      <td>100000</td>\n",
       "      <td>61</td>\n",
       "    </tr>\n",
       "    <tr>\n",
       "      <td>1</td>\n",
       "      <td>93718246913880604</td>\n",
       "      <td>0</td>\n",
       "      <td>17030100</td>\n",
       "      <td>0</td>\n",
       "      <td>1fbe01fe</td>\n",
       "      <td>f3845767</td>\n",
       "      <td>28905ebd</td>\n",
       "      <td>ecad2386</td>\n",
       "      <td>7801e8d9</td>\n",
       "      <td>07d7df22</td>\n",
       "      <td>...</td>\n",
       "      <td>0</td>\n",
       "      <td>105</td>\n",
       "      <td>115706</td>\n",
       "      <td>10320</td>\n",
       "      <td>10050</td>\n",
       "      <td>11722</td>\n",
       "      <td>10</td>\n",
       "      <td>10035</td>\n",
       "      <td>-1</td>\n",
       "      <td>79</td>\n",
       "    </tr>\n",
       "    <tr>\n",
       "      <td>2</td>\n",
       "      <td>93718246913880605</td>\n",
       "      <td>0</td>\n",
       "      <td>17030100</td>\n",
       "      <td>0</td>\n",
       "      <td>543a539e</td>\n",
       "      <td>c7ca3108</td>\n",
       "      <td>3e814130</td>\n",
       "      <td>ecad2386</td>\n",
       "      <td>7801e8d9</td>\n",
       "      <td>07d7df22</td>\n",
       "      <td>...</td>\n",
       "      <td>0</td>\n",
       "      <td>105</td>\n",
       "      <td>120352</td>\n",
       "      <td>10320</td>\n",
       "      <td>10050</td>\n",
       "      <td>12333</td>\n",
       "      <td>10</td>\n",
       "      <td>10039</td>\n",
       "      <td>-1</td>\n",
       "      <td>157</td>\n",
       "    </tr>\n",
       "    <tr>\n",
       "      <td>3</td>\n",
       "      <td>93718246913880606</td>\n",
       "      <td>0</td>\n",
       "      <td>17030100</td>\n",
       "      <td>1</td>\n",
       "      <td>e151e245</td>\n",
       "      <td>7e091613</td>\n",
       "      <td>f028772b</td>\n",
       "      <td>ecad2386</td>\n",
       "      <td>7801e8d9</td>\n",
       "      <td>07d7df22</td>\n",
       "      <td>...</td>\n",
       "      <td>0</td>\n",
       "      <td>105</td>\n",
       "      <td>117037</td>\n",
       "      <td>10320</td>\n",
       "      <td>10050</td>\n",
       "      <td>11934</td>\n",
       "      <td>12</td>\n",
       "      <td>10039</td>\n",
       "      <td>-1</td>\n",
       "      <td>16</td>\n",
       "    </tr>\n",
       "    <tr>\n",
       "      <td>4</td>\n",
       "      <td>93718246913880607</td>\n",
       "      <td>0</td>\n",
       "      <td>17030100</td>\n",
       "      <td>0</td>\n",
       "      <td>85f751fd</td>\n",
       "      <td>c4e18dd6</td>\n",
       "      <td>50e219e0</td>\n",
       "      <td>39947756</td>\n",
       "      <td>2347f47a</td>\n",
       "      <td>cef3e649</td>\n",
       "      <td>...</td>\n",
       "      <td>2</td>\n",
       "      <td>105</td>\n",
       "      <td>118993</td>\n",
       "      <td>10320</td>\n",
       "      <td>10050</td>\n",
       "      <td>12161</td>\n",
       "      <td>10</td>\n",
       "      <td>10035</td>\n",
       "      <td>100148</td>\n",
       "      <td>157</td>\n",
       "    </tr>\n",
       "  </tbody>\n",
       "</table>\n",
       "<p>5 rows × 24 columns</p>\n",
       "</div>"
      ],
      "text/plain": [
       "                  id  klik  data_godzina  baner_pozycja strona_id  \\\n",
       "0  93718246913880603     0      17030100              0  85f751fd   \n",
       "1  93718246913880604     0      17030100              0  1fbe01fe   \n",
       "2  93718246913880605     0      17030100              0  543a539e   \n",
       "3  93718246913880606     0      17030100              1  e151e245   \n",
       "4  93718246913880607     0      17030100              0  85f751fd   \n",
       "\n",
       "  strona_domena strona_kategoria aplikacja_id aplikacja_domena  \\\n",
       "0      c4e18dd6         50e219e0     febd1138         82e27996   \n",
       "1      f3845767         28905ebd     ecad2386         7801e8d9   \n",
       "2      c7ca3108         3e814130     ecad2386         7801e8d9   \n",
       "3      7e091613         f028772b     ecad2386         7801e8d9   \n",
       "4      c4e18dd6         50e219e0     39947756         2347f47a   \n",
       "\n",
       "  aplikacja_kategoria  ... urz_polaczenie kat1    kat2   kat3   kat4   kat5  \\\n",
       "0            0f2161f8  ...              0  105  119743  10320  10050  12264   \n",
       "1            07d7df22  ...              0  105  115706  10320  10050  11722   \n",
       "2            07d7df22  ...              0  105  120352  10320  10050  12333   \n",
       "3            07d7df22  ...              0  105  117037  10320  10050  11934   \n",
       "4            cef3e649  ...              2  105  118993  10320  10050  12161   \n",
       "\n",
       "   kat6   kat7    kat8  kat9  \n",
       "0    13  10427  100000    61  \n",
       "1    10  10035      -1    79  \n",
       "2    10  10039      -1   157  \n",
       "3    12  10039      -1    16  \n",
       "4    10  10035  100148   157  \n",
       "\n",
       "[5 rows x 24 columns]"
      ]
     },
     "execution_count": 2,
     "metadata": {},
     "output_type": "execute_result"
    }
   ],
   "source": [
    "import pandas as pd\n",
    "import numpy as np\n",
    "import seaborn as sns\n",
    "import matplotlib.pyplot as plt\n",
    "%matplotlib inline\n",
    "\n",
    "df= pd.read_csv('/home/wojciech/Pulpit/4/kliki_uczenie.csv', sep=';',nrows=1500000)\n",
    "print(df.shape)\n",
    "print()\n",
    "print(df.columns)\n",
    "df.head(5)"
   ]
  },
  {
   "cell_type": "code",
   "execution_count": null,
   "metadata": {},
   "outputs": [],
   "source": [
    "Ściągnąłem ogromną bazę "
   ]
  },
  {
   "cell_type": "markdown",
   "metadata": {},
   "source": [
    "### Sprawdzam kompletność danych\n",
    "dane są kompletne"
   ]
  },
  {
   "cell_type": "code",
   "execution_count": 3,
   "metadata": {},
   "outputs": [
    {
     "data": {
      "text/plain": [
       "id                     0\n",
       "klik                   0\n",
       "data_godzina           0\n",
       "baner_pozycja          0\n",
       "strona_id              0\n",
       "strona_domena          0\n",
       "strona_kategoria       0\n",
       "aplikacja_id           0\n",
       "aplikacja_domena       0\n",
       "aplikacja_kategoria    0\n",
       "urz_id                 0\n",
       "urz_ip                 0\n",
       "urz_model              0\n",
       "urz_typ                0\n",
       "urz_polaczenie         0\n",
       "kat1                   0\n",
       "kat2                   0\n",
       "kat3                   0\n",
       "kat4                   0\n",
       "kat5                   0\n",
       "kat6                   0\n",
       "kat7                   0\n",
       "kat8                   0\n",
       "kat9                   0\n",
       "dtype: int64"
      ]
     },
     "execution_count": 3,
     "metadata": {},
     "output_type": "execute_result"
    }
   ],
   "source": [
    "df.isnull().sum()"
   ]
  },
  {
   "cell_type": "markdown",
   "metadata": {},
   "source": [
    "### Sprawdzam format danych"
   ]
  },
  {
   "cell_type": "code",
   "execution_count": 4,
   "metadata": {},
   "outputs": [
    {
     "data": {
      "text/plain": [
       "id                      int64\n",
       "klik                    int64\n",
       "data_godzina            int64\n",
       "baner_pozycja           int64\n",
       "strona_id              object\n",
       "strona_domena          object\n",
       "strona_kategoria       object\n",
       "aplikacja_id           object\n",
       "aplikacja_domena       object\n",
       "aplikacja_kategoria    object\n",
       "urz_id                 object\n",
       "urz_ip                 object\n",
       "urz_model              object\n",
       "urz_typ                 int64\n",
       "urz_polaczenie          int64\n",
       "kat1                    int64\n",
       "kat2                    int64\n",
       "kat3                    int64\n",
       "kat4                    int64\n",
       "kat5                    int64\n",
       "kat6                    int64\n",
       "kat7                    int64\n",
       "kat8                    int64\n",
       "kat9                    int64\n",
       "dtype: object"
      ]
     },
     "execution_count": 4,
     "metadata": {},
     "output_type": "execute_result"
    }
   ],
   "source": [
    "df.dtypes"
   ]
  },
  {
   "cell_type": "markdown",
   "metadata": {},
   "source": [
    "### Sprawdzam zbilansowanie zbioru wynikowego\n",
    "<span style=\"color:blue\">ZBIÓR JEST NIEZBILANSOWANY. Trzeba będzie zastosować oversampling</span>"
   ]
  },
  {
   "cell_type": "code",
   "execution_count": 5,
   "metadata": {},
   "outputs": [
    {
     "data": {
      "text/plain": [
       "<matplotlib.axes._subplots.AxesSubplot at 0x7fa72aa20210>"
      ]
     },
     "execution_count": 5,
     "metadata": {},
     "output_type": "execute_result"
    },
    {
     "data": {
      "image/png": "[encoded data removed]",
      "text/plain": [
       "<Figure size 432x288 with 1 Axes>"
      ]
     },
     "metadata": {},
     "output_type": "display_data"
    }
   ],
   "source": [
    "df.klik.value_counts(dropna = False, normalize=True).plot(kind='pie')"
   ]
  },
  {
   "cell_type": "markdown",
   "metadata": {},
   "source": [
    "### Cyfryzuje słownikowo: 'date i godzinę'"
   ]
  },
  {
   "cell_type": "code",
   "execution_count": 6,
   "metadata": {},
   "outputs": [
    {
     "data": {
      "text/plain": [
       "(84,)"
      ]
     },
     "execution_count": 6,
     "metadata": {},
     "output_type": "execute_result"
    }
   ],
   "source": [
    "df['data_godzina'].value_counts().shape"
   ]
  },
  {
   "cell_type": "code",
   "execution_count": 7,
   "metadata": {},
   "outputs": [
    {
     "data": {
      "text/plain": [
       "17030209    44832\n",
       "17030210    43726\n",
       "17030212    40676\n",
       "17030211    38932\n",
       "17030213    32517\n",
       "            ...  \n",
       "17030122     8854\n",
       "17030400     8083\n",
       "17030411     8064\n",
       "17030200     7755\n",
       "17030123     7398\n",
       "Name: data_godzina, Length: 84, dtype: int64"
      ]
     },
     "execution_count": 7,
     "metadata": {},
     "output_type": "execute_result"
    }
   ],
   "source": [
    "df['data_godzina'].value_counts()"
   ]
  },
  {
   "cell_type": "markdown",
   "metadata": {},
   "source": [
    "<span style=\"color:blue\">df['data_godzina'] będzie traktowana jak zmienna dyskretna. To nie jest żadna data i godzina, z której można wyciągnąć dzień tygodnia</span>"
   ]
  },
  {
   "cell_type": "markdown",
   "metadata": {},
   "source": [
    "Cyfryzuje przez mapowanie słownikowe"
   ]
  },
  {
   "cell_type": "code",
   "execution_count": 8,
   "metadata": {},
   "outputs": [
    {
     "data": {
      "text/html": [
       "<div>\n",
       "<style scoped>\n",
       "    .dataframe tbody tr th:only-of-type {\n",
       "        vertical-align: middle;\n",
       "    }\n",
       "\n",
       "    .dataframe tbody tr th {\n",
       "        vertical-align: top;\n",
       "    }\n",
       "\n",
       "    .dataframe thead th {\n",
       "        text-align: right;\n",
       "    }\n",
       "</style>\n",
       "<table border=\"1\" class=\"dataframe\">\n",
       "  <thead>\n",
       "    <tr style=\"text-align: right;\">\n",
       "      <th></th>\n",
       "      <th>data_godzina</th>\n",
       "      <th>C_data_godzina</th>\n",
       "    </tr>\n",
       "  </thead>\n",
       "  <tbody>\n",
       "    <tr>\n",
       "      <td>1461764</td>\n",
       "      <td>17030409</td>\n",
       "      <td>81</td>\n",
       "    </tr>\n",
       "    <tr>\n",
       "      <td>558540</td>\n",
       "      <td>17030208</td>\n",
       "      <td>32</td>\n",
       "    </tr>\n",
       "  </tbody>\n",
       "</table>\n",
       "</div>"
      ],
      "text/plain": [
       "         data_godzina  C_data_godzina\n",
       "1461764      17030409              81\n",
       "558540       17030208              32"
      ]
     },
     "execution_count": 8,
     "metadata": {},
     "output_type": "execute_result"
    }
   ],
   "source": [
    "df['C_data_godzina'] = pd.Categorical(df['data_godzina']).codes\n",
    "df[['data_godzina','C_data_godzina']].sample(2)"
   ]
  },
  {
   "cell_type": "code",
   "execution_count": 9,
   "metadata": {},
   "outputs": [
    {
     "name": "stdout",
     "output_type": "stream",
     "text": [
      "{17030100: 0, 17030101: 1, 17030102: 2, 17030103: 3, 17030104: 4, 17030105: 5, 17030106: 6, 17030107: 7, 17030108: 8, 17030109: 9, 17030110: 10, 17030111: 11, 17030112: 12, 17030113: 13, 17030114: 14, 17030115: 15, 17030116: 16, 17030117: 17, 17030118: 18, 17030119: 19, 17030120: 20, 17030121: 21, 17030122: 22, 17030123: 23, 17030200: 24, 17030201: 25, 17030202: 26, 17030203: 27, 17030204: 28, 17030205: 29, 17030206: 30, 17030207: 31, 17030208: 32, 17030209: 33, 17030210: 34, 17030211: 35, 17030212: 36, 17030213: 37, 17030214: 38, 17030215: 39, 17030216: 40, 17030217: 41, 17030218: 42, 17030219: 43, 17030220: 44, 17030221: 45, 17030222: 46, 17030223: 47, 17030300: 48, 17030301: 49, 17030302: 50, 17030303: 51, 17030304: 52, 17030305: 53, 17030306: 54, 17030307: 55, 17030308: 56, 17030309: 57, 17030310: 58, 17030311: 59, 17030312: 60, 17030313: 61, 17030314: 62, 17030315: 63, 17030316: 64, 17030317: 65, 17030318: 66, 17030319: 67, 17030320: 68, 17030321: 69, 17030322: 70, 17030323: 71, 17030400: 72, 17030401: 73, 17030402: 74, 17030403: 75, 17030404: 76, 17030405: 77, 17030406: 78, 17030407: 79, 17030408: 80, 17030409: 81, 17030410: 82, 17030411: 83}\n"
     ]
    },
    {
     "data": {
      "text/html": [
       "<div>\n",
       "<style scoped>\n",
       "    .dataframe tbody tr th:only-of-type {\n",
       "        vertical-align: middle;\n",
       "    }\n",
       "\n",
       "    .dataframe tbody tr th {\n",
       "        vertical-align: top;\n",
       "    }\n",
       "\n",
       "    .dataframe thead th {\n",
       "        text-align: right;\n",
       "    }\n",
       "</style>\n",
       "<table border=\"1\" class=\"dataframe\">\n",
       "  <thead>\n",
       "    <tr style=\"text-align: right;\">\n",
       "      <th></th>\n",
       "      <th>CYF_data_godzina</th>\n",
       "      <th>data_godzina</th>\n",
       "    </tr>\n",
       "  </thead>\n",
       "  <tbody>\n",
       "    <tr>\n",
       "      <td>958224</td>\n",
       "      <td>49</td>\n",
       "      <td>17030301</td>\n",
       "    </tr>\n",
       "    <tr>\n",
       "      <td>87711</td>\n",
       "      <td>4</td>\n",
       "      <td>17030104</td>\n",
       "    </tr>\n",
       "    <tr>\n",
       "      <td>530908</td>\n",
       "      <td>30</td>\n",
       "      <td>17030206</td>\n",
       "    </tr>\n",
       "    <tr>\n",
       "      <td>839638</td>\n",
       "      <td>40</td>\n",
       "      <td>17030216</td>\n",
       "    </tr>\n",
       "  </tbody>\n",
       "</table>\n",
       "</div>"
      ],
      "text/plain": [
       "        CYF_data_godzina  data_godzina\n",
       "958224                49      17030301\n",
       "87711                  4      17030104\n",
       "530908                30      17030206\n",
       "839638                40      17030216"
      ]
     },
     "execution_count": 9,
     "metadata": {},
     "output_type": "execute_result"
    }
   ],
   "source": [
    "SL_data_godzina = df.set_index('data_godzina')['C_data_godzina'].to_dict()\n",
    "print(SL_data_godzina)\n",
    "df['CYF_data_godzina'] = df['data_godzina'].map(SL_data_godzina)\n",
    "del df['C_data_godzina']\n",
    "df[['CYF_data_godzina','data_godzina']].sample(4)"
   ]
  },
  {
   "cell_type": "code",
   "execution_count": 10,
   "metadata": {},
   "outputs": [
    {
     "name": "stdout",
     "output_type": "stream",
     "text": [
      "(84,)\n",
      "(84,)\n",
      "{17030100: 0, 17030101: 1, 17030102: 2, 17030103: 3, 17030104: 4, 17030105: 5, 17030106: 6, 17030107: 7, 17030108: 8, 17030109: 9, 17030110: 10, 17030111: 11, 17030112: 12, 17030113: 13, 17030114: 14, 17030115: 15, 17030116: 16, 17030117: 17, 17030118: 18, 17030119: 19, 17030120: 20, 17030121: 21, 17030122: 22, 17030123: 23, 17030200: 24, 17030201: 25, 17030202: 26, 17030203: 27, 17030204: 28, 17030205: 29, 17030206: 30, 17030207: 31, 17030208: 32, 17030209: 33, 17030210: 34, 17030211: 35, 17030212: 36, 17030213: 37, 17030214: 38, 17030215: 39, 17030216: 40, 17030217: 41, 17030218: 42, 17030219: 43, 17030220: 44, 17030221: 45, 17030222: 46, 17030223: 47, 17030300: 48, 17030301: 49, 17030302: 50, 17030303: 51, 17030304: 52, 17030305: 53, 17030306: 54, 17030307: 55, 17030308: 56, 17030309: 57, 17030310: 58, 17030311: 59, 17030312: 60, 17030313: 61, 17030314: 62, 17030315: 63, 17030316: 64, 17030317: 65, 17030318: 66, 17030319: 67, 17030320: 68, 17030321: 69, 17030322: 70, 17030323: 71, 17030400: 72, 17030401: 73, 17030402: 74, 17030403: 75, 17030404: 76, 17030405: 77, 17030406: 78, 17030407: 79, 17030408: 80, 17030409: 81, 17030410: 82, 17030411: 83}\n"
     ]
    }
   ],
   "source": [
    "## Sprawdzenie:\n",
    "print(df['data_godzina'].value_counts().shape)\n",
    "print(df['CYF_data_godzina'].value_counts().shape)\n",
    "print(SL_data_godzina)"
   ]
  },
  {
   "cell_type": "markdown",
   "metadata": {},
   "source": [
    "### Cyfryzuje słownikowo: 'baner_pozycja'\n",
    "NIE TRZEBA CYFRYZOWAĆ"
   ]
  },
  {
   "cell_type": "code",
   "execution_count": 11,
   "metadata": {},
   "outputs": [
    {
     "name": "stdout",
     "output_type": "stream",
     "text": [
      "(7,)\n"
     ]
    }
   ],
   "source": [
    "print(df['baner_pozycja'].value_counts().shape)\n",
    "df['baner_pozycja'].value_counts()\n",
    "df['CYF_baner_pozycja']=df['baner_pozycja']"
   ]
  },
  {
   "cell_type": "code",
   "execution_count": 12,
   "metadata": {},
   "outputs": [
    {
     "data": {
      "text/plain": [
       "id                      int64\n",
       "klik                    int64\n",
       "data_godzina            int64\n",
       "baner_pozycja           int64\n",
       "strona_id              object\n",
       "strona_domena          object\n",
       "strona_kategoria       object\n",
       "aplikacja_id           object\n",
       "aplikacja_domena       object\n",
       "aplikacja_kategoria    object\n",
       "urz_id                 object\n",
       "urz_ip                 object\n",
       "urz_model              object\n",
       "urz_typ                 int64\n",
       "urz_polaczenie          int64\n",
       "kat1                    int64\n",
       "kat2                    int64\n",
       "kat3                    int64\n",
       "kat4                    int64\n",
       "kat5                    int64\n",
       "kat6                    int64\n",
       "kat7                    int64\n",
       "kat8                    int64\n",
       "kat9                    int64\n",
       "CYF_data_godzina        int64\n",
       "CYF_baner_pozycja       int64\n",
       "dtype: object"
      ]
     },
     "execution_count": 12,
     "metadata": {},
     "output_type": "execute_result"
    }
   ],
   "source": [
    "df.dtypes"
   ]
  },
  {
   "cell_type": "markdown",
   "metadata": {},
   "source": [
    "### Cyfryzuje słownikowo:  'strona_id'"
   ]
  },
  {
   "cell_type": "code",
   "execution_count": 13,
   "metadata": {},
   "outputs": [
    {
     "name": "stdout",
     "output_type": "stream",
     "text": [
      "(2674,)\n"
     ]
    },
    {
     "data": {
      "text/plain": [
       "85f751fd    541171\n",
       "1fbe01fe    250953\n",
       "e151e245     83318\n",
       "d9750ee7     41939\n",
       "5b08c53b     29705\n",
       "             ...  \n",
       "8deec63e         1\n",
       "d00d4bf2         1\n",
       "fe1a01f6         1\n",
       "2e582cf9         1\n",
       "c2fcc3d0         1\n",
       "Name: strona_id, Length: 2674, dtype: int64"
      ]
     },
     "execution_count": 13,
     "metadata": {},
     "output_type": "execute_result"
    }
   ],
   "source": [
    "print(df['strona_id'].value_counts().shape)\n",
    "df['strona_id'].value_counts()"
   ]
  },
  {
   "cell_type": "code",
   "execution_count": 14,
   "metadata": {},
   "outputs": [
    {
     "data": {
      "text/html": [
       "<div>\n",
       "<style scoped>\n",
       "    .dataframe tbody tr th:only-of-type {\n",
       "        vertical-align: middle;\n",
       "    }\n",
       "\n",
       "    .dataframe tbody tr th {\n",
       "        vertical-align: top;\n",
       "    }\n",
       "\n",
       "    .dataframe thead th {\n",
       "        text-align: right;\n",
       "    }\n",
       "</style>\n",
       "<table border=\"1\" class=\"dataframe\">\n",
       "  <thead>\n",
       "    <tr style=\"text-align: right;\">\n",
       "      <th></th>\n",
       "      <th>strona_id</th>\n",
       "      <th>C_strona_id</th>\n",
       "    </tr>\n",
       "  </thead>\n",
       "  <tbody>\n",
       "    <tr>\n",
       "      <td>923015</td>\n",
       "      <td>85f751fd</td>\n",
       "      <td>1413</td>\n",
       "    </tr>\n",
       "    <tr>\n",
       "      <td>186440</td>\n",
       "      <td>75f43c5a</td>\n",
       "      <td>1250</td>\n",
       "    </tr>\n",
       "  </tbody>\n",
       "</table>\n",
       "</div>"
      ],
      "text/plain": [
       "       strona_id  C_strona_id\n",
       "923015  85f751fd         1413\n",
       "186440  75f43c5a         1250"
      ]
     },
     "execution_count": 14,
     "metadata": {},
     "output_type": "execute_result"
    }
   ],
   "source": [
    "## Cyfryzuje przez mapowanie słownikowe:\n",
    "df['C_strona_id'] = pd.Categorical(df['strona_id']).codes\n",
    "df[['strona_id','C_strona_id']].sample(2)"
   ]
  },
  {
   "cell_type": "code",
   "execution_count": 15,
   "metadata": {},
   "outputs": [
    {
     "data": {
      "text/html": [
       "<div>\n",
       "<style scoped>\n",
       "    .dataframe tbody tr th:only-of-type {\n",
       "        vertical-align: middle;\n",
       "    }\n",
       "\n",
       "    .dataframe tbody tr th {\n",
       "        vertical-align: top;\n",
       "    }\n",
       "\n",
       "    .dataframe thead th {\n",
       "        text-align: right;\n",
       "    }\n",
       "</style>\n",
       "<table border=\"1\" class=\"dataframe\">\n",
       "  <thead>\n",
       "    <tr style=\"text-align: right;\">\n",
       "      <th></th>\n",
       "      <th>CYF_strona_id</th>\n",
       "      <th>strona_id</th>\n",
       "    </tr>\n",
       "  </thead>\n",
       "  <tbody>\n",
       "    <tr>\n",
       "      <td>1235194</td>\n",
       "      <td>1619</td>\n",
       "      <td>9a28a858</td>\n",
       "    </tr>\n",
       "    <tr>\n",
       "      <td>1218014</td>\n",
       "      <td>1413</td>\n",
       "      <td>85f751fd</td>\n",
       "    </tr>\n",
       "    <tr>\n",
       "      <td>1154639</td>\n",
       "      <td>835</td>\n",
       "      <td>4bf5bbe2</td>\n",
       "    </tr>\n",
       "    <tr>\n",
       "      <td>1172070</td>\n",
       "      <td>1413</td>\n",
       "      <td>85f751fd</td>\n",
       "    </tr>\n",
       "  </tbody>\n",
       "</table>\n",
       "</div>"
      ],
      "text/plain": [
       "         CYF_strona_id strona_id\n",
       "1235194           1619  9a28a858\n",
       "1218014           1413  85f751fd\n",
       "1154639            835  4bf5bbe2\n",
       "1172070           1413  85f751fd"
      ]
     },
     "execution_count": 15,
     "metadata": {},
     "output_type": "execute_result"
    }
   ],
   "source": [
    "SL_strona_id = df.set_index('strona_id')['C_strona_id'].to_dict()\n",
    "#print(SL_strona_id)\n",
    "df['CYF_strona_id'] = df['strona_id'].map(SL_strona_id)\n",
    "del df['C_strona_id']\n",
    "df[['CYF_strona_id','strona_id']].sample(4)"
   ]
  },
  {
   "cell_type": "code",
   "execution_count": 16,
   "metadata": {},
   "outputs": [
    {
     "name": "stdout",
     "output_type": "stream",
     "text": [
      "(2674,)\n",
      "(2674,)\n"
     ]
    }
   ],
   "source": [
    "## Sprawdzenie:\n",
    "print(df['strona_id'].value_counts().shape)\n",
    "print(df['CYF_strona_id'].value_counts().shape)\n",
    "#print(SL_strona_id)"
   ]
  },
  {
   "cell_type": "markdown",
   "metadata": {},
   "source": [
    "### <span style=\"color:blue\">Cyfryzuje słownikowo: 'strona_domena'</span>"
   ]
  },
  {
   "cell_type": "code",
   "execution_count": 17,
   "metadata": {},
   "outputs": [
    {
     "name": "stdout",
     "output_type": "stream",
     "text": [
      "(2934,)\n"
     ]
    },
    {
     "data": {
      "text/plain": [
       "c4e18dd6    559885\n",
       "f3845767    250953\n",
       "7e091613    102009\n",
       "98572c79     44416\n",
       "7687a86e     40878\n",
       "             ...  \n",
       "bb4240fb         1\n",
       "a0763488         1\n",
       "fc122c20         1\n",
       "89c66e5b         1\n",
       "1ad7cc7b         1\n",
       "Name: strona_domena, Length: 2934, dtype: int64"
      ]
     },
     "execution_count": 17,
     "metadata": {},
     "output_type": "execute_result"
    }
   ],
   "source": [
    "print(df['strona_domena'].value_counts().shape)\n",
    "df['strona_domena'].value_counts()"
   ]
  },
  {
   "cell_type": "code",
   "execution_count": 18,
   "metadata": {},
   "outputs": [
    {
     "data": {
      "text/html": [
       "<div>\n",
       "<style scoped>\n",
       "    .dataframe tbody tr th:only-of-type {\n",
       "        vertical-align: middle;\n",
       "    }\n",
       "\n",
       "    .dataframe tbody tr th {\n",
       "        vertical-align: top;\n",
       "    }\n",
       "\n",
       "    .dataframe thead th {\n",
       "        text-align: right;\n",
       "    }\n",
       "</style>\n",
       "<table border=\"1\" class=\"dataframe\">\n",
       "  <thead>\n",
       "    <tr style=\"text-align: right;\">\n",
       "      <th></th>\n",
       "      <th>strona_domena</th>\n",
       "      <th>C_strona_domena</th>\n",
       "    </tr>\n",
       "  </thead>\n",
       "  <tbody>\n",
       "    <tr>\n",
       "      <td>1433679</td>\n",
       "      <td>98e6755b</td>\n",
       "      <td>1757</td>\n",
       "    </tr>\n",
       "    <tr>\n",
       "      <td>1426140</td>\n",
       "      <td>968765cd</td>\n",
       "      <td>1724</td>\n",
       "    </tr>\n",
       "  </tbody>\n",
       "</table>\n",
       "</div>"
      ],
      "text/plain": [
       "        strona_domena  C_strona_domena\n",
       "1433679      98e6755b             1757\n",
       "1426140      968765cd             1724"
      ]
     },
     "execution_count": 18,
     "metadata": {},
     "output_type": "execute_result"
    }
   ],
   "source": [
    "## Cyfryzuje przez mapowanie słownikowe:\n",
    "df['C_strona_domena'] = pd.Categorical(df['strona_domena']).codes\n",
    "df[['strona_domena','C_strona_domena']].sample(2)"
   ]
  },
  {
   "cell_type": "code",
   "execution_count": 19,
   "metadata": {},
   "outputs": [
    {
     "data": {
      "text/html": [
       "<div>\n",
       "<style scoped>\n",
       "    .dataframe tbody tr th:only-of-type {\n",
       "        vertical-align: middle;\n",
       "    }\n",
       "\n",
       "    .dataframe tbody tr th {\n",
       "        vertical-align: top;\n",
       "    }\n",
       "\n",
       "    .dataframe thead th {\n",
       "        text-align: right;\n",
       "    }\n",
       "</style>\n",
       "<table border=\"1\" class=\"dataframe\">\n",
       "  <thead>\n",
       "    <tr style=\"text-align: right;\">\n",
       "      <th></th>\n",
       "      <th>CYF_strona_domena</th>\n",
       "      <th>strona_domena</th>\n",
       "    </tr>\n",
       "  </thead>\n",
       "  <tbody>\n",
       "    <tr>\n",
       "      <td>1487214</td>\n",
       "      <td>777</td>\n",
       "      <td>449497bc</td>\n",
       "    </tr>\n",
       "    <tr>\n",
       "      <td>306377</td>\n",
       "      <td>2255</td>\n",
       "      <td>c4e18dd6</td>\n",
       "    </tr>\n",
       "    <tr>\n",
       "      <td>559440</td>\n",
       "      <td>2255</td>\n",
       "      <td>c4e18dd6</td>\n",
       "    </tr>\n",
       "    <tr>\n",
       "      <td>209787</td>\n",
       "      <td>151</td>\n",
       "      <td>0dde25ec</td>\n",
       "    </tr>\n",
       "  </tbody>\n",
       "</table>\n",
       "</div>"
      ],
      "text/plain": [
       "         CYF_strona_domena strona_domena\n",
       "1487214                777      449497bc\n",
       "306377                2255      c4e18dd6\n",
       "559440                2255      c4e18dd6\n",
       "209787                 151      0dde25ec"
      ]
     },
     "execution_count": 19,
     "metadata": {},
     "output_type": "execute_result"
    }
   ],
   "source": [
    "SL_strona_domena = df.set_index('strona_domena')['C_strona_domena'].to_dict()\n",
    "#print(SL_strona_domena)\n",
    "df['CYF_strona_domena'] = df['strona_domena'].map(SL_strona_domena)\n",
    "del df['C_strona_domena']\n",
    "df[['CYF_strona_domena','strona_domena']].sample(4)"
   ]
  },
  {
   "cell_type": "code",
   "execution_count": 20,
   "metadata": {},
   "outputs": [
    {
     "name": "stdout",
     "output_type": "stream",
     "text": [
      "(2934,)\n",
      "(2934,)\n"
     ]
    }
   ],
   "source": [
    "## Sprawdzenie:\n",
    "print(df['strona_domena'].value_counts().shape)\n",
    "print(df['CYF_strona_domena'].value_counts().shape)\n",
    "#print(SL_strona_domena)"
   ]
  },
  {
   "cell_type": "markdown",
   "metadata": {},
   "source": [
    "### <span style=\"color:blue\">Cyfryzuje słownikowo: 'strona_kategoria'</span>"
   ]
  },
  {
   "cell_type": "code",
   "execution_count": 21,
   "metadata": {},
   "outputs": [
    {
     "name": "stdout",
     "output_type": "stream",
     "text": [
      "(21,)\n"
     ]
    },
    {
     "data": {
      "text/plain": [
       "50e219e0    600000\n",
       "f028772b    458162\n",
       "28905ebd    293606\n",
       "3e814130    113611\n",
       "f66779e6     13701\n",
       "335d28a8      5816\n",
       "76b2941d      4928\n",
       "75fa27f6      4614\n",
       "72722551      1569\n",
       "c0dd3be3      1066\n",
       "0569f928      1020\n",
       "70fb0e29       926\n",
       "dedf689d       582\n",
       "a818d37a       180\n",
       "42a36e14        70\n",
       "e787de0e        65\n",
       "bcf865d9        47\n",
       "5378d028        17\n",
       "8fd0aea4        13\n",
       "74073276         4\n",
       "9ccfa2ea         3\n",
       "Name: strona_kategoria, dtype: int64"
      ]
     },
     "execution_count": 21,
     "metadata": {},
     "output_type": "execute_result"
    }
   ],
   "source": [
    "print(df['strona_kategoria'].value_counts().shape)\n",
    "df['strona_kategoria'].value_counts()"
   ]
  },
  {
   "cell_type": "code",
   "execution_count": 22,
   "metadata": {},
   "outputs": [
    {
     "data": {
      "text/html": [
       "<div>\n",
       "<style scoped>\n",
       "    .dataframe tbody tr th:only-of-type {\n",
       "        vertical-align: middle;\n",
       "    }\n",
       "\n",
       "    .dataframe tbody tr th {\n",
       "        vertical-align: top;\n",
       "    }\n",
       "\n",
       "    .dataframe thead th {\n",
       "        text-align: right;\n",
       "    }\n",
       "</style>\n",
       "<table border=\"1\" class=\"dataframe\">\n",
       "  <thead>\n",
       "    <tr style=\"text-align: right;\">\n",
       "      <th></th>\n",
       "      <th>strona_kategoria</th>\n",
       "      <th>C_strona_kategoria</th>\n",
       "    </tr>\n",
       "  </thead>\n",
       "  <tbody>\n",
       "    <tr>\n",
       "      <td>748030</td>\n",
       "      <td>f028772b</td>\n",
       "      <td>19</td>\n",
       "    </tr>\n",
       "    <tr>\n",
       "      <td>573203</td>\n",
       "      <td>50e219e0</td>\n",
       "      <td>5</td>\n",
       "    </tr>\n",
       "  </tbody>\n",
       "</table>\n",
       "</div>"
      ],
      "text/plain": [
       "       strona_kategoria  C_strona_kategoria\n",
       "748030         f028772b                  19\n",
       "573203         50e219e0                   5"
      ]
     },
     "execution_count": 22,
     "metadata": {},
     "output_type": "execute_result"
    }
   ],
   "source": [
    "## Cyfryzuje przez mapowanie słownikowe:\n",
    "df['C_strona_kategoria'] = pd.Categorical(df['strona_kategoria']).codes\n",
    "df[['strona_kategoria','C_strona_kategoria']].sample(2)"
   ]
  },
  {
   "cell_type": "code",
   "execution_count": 23,
   "metadata": {},
   "outputs": [
    {
     "name": "stdout",
     "output_type": "stream",
     "text": [
      "{'50e219e0': 5, '28905ebd': 1, '3e814130': 3, 'f028772b': 19, '72722551': 8, '76b2941d': 11, 'f66779e6': 20, '335d28a8': 2, '0569f928': 0, '75fa27f6': 10, 'c0dd3be3': 16, 'a818d37a': 14, '42a36e14': 4, '70fb0e29': 7, 'bcf865d9': 15, '8fd0aea4': 12, '5378d028': 6, 'e787de0e': 18, 'dedf689d': 17, '74073276': 9, '9ccfa2ea': 13}\n"
     ]
    },
    {
     "data": {
      "text/html": [
       "<div>\n",
       "<style scoped>\n",
       "    .dataframe tbody tr th:only-of-type {\n",
       "        vertical-align: middle;\n",
       "    }\n",
       "\n",
       "    .dataframe tbody tr th {\n",
       "        vertical-align: top;\n",
       "    }\n",
       "\n",
       "    .dataframe thead th {\n",
       "        text-align: right;\n",
       "    }\n",
       "</style>\n",
       "<table border=\"1\" class=\"dataframe\">\n",
       "  <thead>\n",
       "    <tr style=\"text-align: right;\">\n",
       "      <th></th>\n",
       "      <th>CYF_strona_kategoria</th>\n",
       "      <th>strona_kategoria</th>\n",
       "    </tr>\n",
       "  </thead>\n",
       "  <tbody>\n",
       "    <tr>\n",
       "      <td>1486955</td>\n",
       "      <td>1</td>\n",
       "      <td>28905ebd</td>\n",
       "    </tr>\n",
       "    <tr>\n",
       "      <td>436076</td>\n",
       "      <td>5</td>\n",
       "      <td>50e219e0</td>\n",
       "    </tr>\n",
       "    <tr>\n",
       "      <td>122595</td>\n",
       "      <td>3</td>\n",
       "      <td>3e814130</td>\n",
       "    </tr>\n",
       "    <tr>\n",
       "      <td>1116133</td>\n",
       "      <td>5</td>\n",
       "      <td>50e219e0</td>\n",
       "    </tr>\n",
       "  </tbody>\n",
       "</table>\n",
       "</div>"
      ],
      "text/plain": [
       "         CYF_strona_kategoria strona_kategoria\n",
       "1486955                     1         28905ebd\n",
       "436076                      5         50e219e0\n",
       "122595                      3         3e814130\n",
       "1116133                     5         50e219e0"
      ]
     },
     "execution_count": 23,
     "metadata": {},
     "output_type": "execute_result"
    }
   ],
   "source": [
    "SL_strona_kategoria = df.set_index('strona_kategoria')['C_strona_kategoria'].to_dict()\n",
    "print(SL_strona_kategoria)\n",
    "df['CYF_strona_kategoria'] = df['strona_kategoria'].map(SL_strona_kategoria)\n",
    "del df['C_strona_kategoria']\n",
    "df[['CYF_strona_kategoria','strona_kategoria']].sample(4)"
   ]
  },
  {
   "cell_type": "code",
   "execution_count": 24,
   "metadata": {},
   "outputs": [
    {
     "name": "stdout",
     "output_type": "stream",
     "text": [
      "(21,)\n",
      "(21,)\n",
      "{'50e219e0': 5, '28905ebd': 1, '3e814130': 3, 'f028772b': 19, '72722551': 8, '76b2941d': 11, 'f66779e6': 20, '335d28a8': 2, '0569f928': 0, '75fa27f6': 10, 'c0dd3be3': 16, 'a818d37a': 14, '42a36e14': 4, '70fb0e29': 7, 'bcf865d9': 15, '8fd0aea4': 12, '5378d028': 6, 'e787de0e': 18, 'dedf689d': 17, '74073276': 9, '9ccfa2ea': 13}\n"
     ]
    }
   ],
   "source": [
    "## Sprawdzenie:\n",
    "print(df['strona_kategoria'].value_counts().shape)\n",
    "print(df['CYF_strona_kategoria'].value_counts().shape)\n",
    "print(SL_strona_kategoria)"
   ]
  },
  {
   "cell_type": "markdown",
   "metadata": {},
   "source": [
    "### <span style=\"color:blue\">Cyfryzuje słownikowo: 'aplikacja_id'</span>"
   ]
  },
  {
   "cell_type": "code",
   "execution_count": 25,
   "metadata": {},
   "outputs": [
    {
     "name": "stdout",
     "output_type": "stream",
     "text": [
      "(3443,)\n"
     ]
    },
    {
     "data": {
      "text/plain": [
       "ecad2386    958829\n",
       "7358e05e     42375\n",
       "e2fcccd2     39904\n",
       "febd1138     28105\n",
       "a5184c22     22450\n",
       "             ...  \n",
       "40613f53         1\n",
       "070354c0         1\n",
       "705e3df1         1\n",
       "99a81969         1\n",
       "707bc298         1\n",
       "Name: aplikacja_id, Length: 3443, dtype: int64"
      ]
     },
     "execution_count": 25,
     "metadata": {},
     "output_type": "execute_result"
    }
   ],
   "source": [
    "print(df[ 'aplikacja_id'].value_counts().shape)\n",
    "df[ 'aplikacja_id'].value_counts()"
   ]
  },
  {
   "cell_type": "code",
   "execution_count": 26,
   "metadata": {},
   "outputs": [
    {
     "data": {
      "text/html": [
       "<div>\n",
       "<style scoped>\n",
       "    .dataframe tbody tr th:only-of-type {\n",
       "        vertical-align: middle;\n",
       "    }\n",
       "\n",
       "    .dataframe tbody tr th {\n",
       "        vertical-align: top;\n",
       "    }\n",
       "\n",
       "    .dataframe thead th {\n",
       "        text-align: right;\n",
       "    }\n",
       "</style>\n",
       "<table border=\"1\" class=\"dataframe\">\n",
       "  <thead>\n",
       "    <tr style=\"text-align: right;\">\n",
       "      <th></th>\n",
       "      <th>aplikacja_id</th>\n",
       "      <th>C_aplikacja_id</th>\n",
       "    </tr>\n",
       "  </thead>\n",
       "  <tbody>\n",
       "    <tr>\n",
       "      <td>507921</td>\n",
       "      <td>ecad2386</td>\n",
       "      <td>3165</td>\n",
       "    </tr>\n",
       "    <tr>\n",
       "      <td>866276</td>\n",
       "      <td>ecad2386</td>\n",
       "      <td>3165</td>\n",
       "    </tr>\n",
       "  </tbody>\n",
       "</table>\n",
       "</div>"
      ],
      "text/plain": [
       "       aplikacja_id  C_aplikacja_id\n",
       "507921     ecad2386            3165\n",
       "866276     ecad2386            3165"
      ]
     },
     "execution_count": 26,
     "metadata": {},
     "output_type": "execute_result"
    }
   ],
   "source": [
    "## Cyfryzuje przez mapowanie słownikowe:\n",
    "df['C_aplikacja_id'] = pd.Categorical(df['aplikacja_id']).codes\n",
    "df[['aplikacja_id','C_aplikacja_id']].sample(2)"
   ]
  },
  {
   "cell_type": "code",
   "execution_count": 27,
   "metadata": {},
   "outputs": [
    {
     "data": {
      "text/html": [
       "<div>\n",
       "<style scoped>\n",
       "    .dataframe tbody tr th:only-of-type {\n",
       "        vertical-align: middle;\n",
       "    }\n",
       "\n",
       "    .dataframe tbody tr th {\n",
       "        vertical-align: top;\n",
       "    }\n",
       "\n",
       "    .dataframe thead th {\n",
       "        text-align: right;\n",
       "    }\n",
       "</style>\n",
       "<table border=\"1\" class=\"dataframe\">\n",
       "  <thead>\n",
       "    <tr style=\"text-align: right;\">\n",
       "      <th></th>\n",
       "      <th>CYF_aplikacja_id</th>\n",
       "      <th>aplikacja_id</th>\n",
       "    </tr>\n",
       "  </thead>\n",
       "  <tbody>\n",
       "    <tr>\n",
       "      <td>189206</td>\n",
       "      <td>2081</td>\n",
       "      <td>9c13b419</td>\n",
       "    </tr>\n",
       "    <tr>\n",
       "      <td>1096465</td>\n",
       "      <td>3165</td>\n",
       "      <td>ecad2386</td>\n",
       "    </tr>\n",
       "    <tr>\n",
       "      <td>798283</td>\n",
       "      <td>3165</td>\n",
       "      <td>ecad2386</td>\n",
       "    </tr>\n",
       "    <tr>\n",
       "      <td>1459443</td>\n",
       "      <td>3165</td>\n",
       "      <td>ecad2386</td>\n",
       "    </tr>\n",
       "  </tbody>\n",
       "</table>\n",
       "</div>"
      ],
      "text/plain": [
       "         CYF_aplikacja_id aplikacja_id\n",
       "189206               2081     9c13b419\n",
       "1096465              3165     ecad2386\n",
       "798283               3165     ecad2386\n",
       "1459443              3165     ecad2386"
      ]
     },
     "execution_count": 27,
     "metadata": {},
     "output_type": "execute_result"
    }
   ],
   "source": [
    "SL_aplikacja_id = df.set_index('aplikacja_id')['C_aplikacja_id'].to_dict()\n",
    "#print(SL_aplikacja_id)\n",
    "df['CYF_aplikacja_id'] = df['aplikacja_id'].map(SL_aplikacja_id)\n",
    "del df['C_aplikacja_id']\n",
    "df[['CYF_aplikacja_id','aplikacja_id']].sample(4)"
   ]
  },
  {
   "cell_type": "code",
   "execution_count": 28,
   "metadata": {},
   "outputs": [
    {
     "name": "stdout",
     "output_type": "stream",
     "text": [
      "(3443,)\n",
      "(3443,)\n"
     ]
    }
   ],
   "source": [
    "## Sprawdzenie:\n",
    "print(df['aplikacja_id'].value_counts().shape)\n",
    "print(df['CYF_aplikacja_id'].value_counts().shape)\n",
    "#print(SL_aplikacja_id)"
   ]
  },
  {
   "cell_type": "markdown",
   "metadata": {},
   "source": [
    "### <span style=\"color:blue\"> Cyfryzuje słownikowo: 'aplikacja_domena'</span>"
   ]
  },
  {
   "cell_type": "code",
   "execution_count": 29,
   "metadata": {},
   "outputs": [
    {
     "name": "stdout",
     "output_type": "stream",
     "text": [
      "(215,)\n"
     ]
    },
    {
     "data": {
      "text/plain": [
       "7801e8d9    1009180\n",
       "2347f47a     191727\n",
       "b9528b13      43281\n",
       "5c5a694b      39909\n",
       "d9b5648e      31102\n",
       "             ...   \n",
       "aee494fb          1\n",
       "0eb1a401          1\n",
       "547624e0          1\n",
       "e9d5949e          1\n",
       "aa396318          1\n",
       "Name: aplikacja_domena, Length: 215, dtype: int64"
      ]
     },
     "execution_count": 29,
     "metadata": {},
     "output_type": "execute_result"
    }
   ],
   "source": [
    "print(df['aplikacja_domena'].value_counts().shape)\n",
    "df['aplikacja_domena'].value_counts()"
   ]
  },
  {
   "cell_type": "code",
   "execution_count": 30,
   "metadata": {},
   "outputs": [
    {
     "data": {
      "text/html": [
       "<div>\n",
       "<style scoped>\n",
       "    .dataframe tbody tr th:only-of-type {\n",
       "        vertical-align: middle;\n",
       "    }\n",
       "\n",
       "    .dataframe tbody tr th {\n",
       "        vertical-align: top;\n",
       "    }\n",
       "\n",
       "    .dataframe thead th {\n",
       "        text-align: right;\n",
       "    }\n",
       "</style>\n",
       "<table border=\"1\" class=\"dataframe\">\n",
       "  <thead>\n",
       "    <tr style=\"text-align: right;\">\n",
       "      <th></th>\n",
       "      <th>aplikacja_domena</th>\n",
       "      <th>C_aplikacja_domena</th>\n",
       "    </tr>\n",
       "  </thead>\n",
       "  <tbody>\n",
       "    <tr>\n",
       "      <td>1224253</td>\n",
       "      <td>b9528b13</td>\n",
       "      <td>156</td>\n",
       "    </tr>\n",
       "    <tr>\n",
       "      <td>1429722</td>\n",
       "      <td>aefc06bd</td>\n",
       "      <td>139</td>\n",
       "    </tr>\n",
       "  </tbody>\n",
       "</table>\n",
       "</div>"
      ],
      "text/plain": [
       "        aplikacja_domena  C_aplikacja_domena\n",
       "1224253         b9528b13                 156\n",
       "1429722         aefc06bd                 139"
      ]
     },
     "execution_count": 30,
     "metadata": {},
     "output_type": "execute_result"
    }
   ],
   "source": [
    "## Cyfryzuje przez mapowanie słownikowe:\n",
    "df['C_aplikacja_domena'] = pd.Categorical(df['aplikacja_domena']).codes\n",
    "df[['aplikacja_domena','C_aplikacja_domena']].sample(2)"
   ]
  },
  {
   "cell_type": "code",
   "execution_count": 31,
   "metadata": {},
   "outputs": [
    {
     "name": "stdout",
     "output_type": "stream",
     "text": [
      "{'82e27996': 101, '7801e8d9': 92, '2347f47a': 31, '828da833': 100, '45a51db4': 54, '33da2e74': 42, 'd9b5648e': 181, 'df32afa9': 188, 'aefc06bd': 139, '813f3323': 99, '885c7f3f': 105, '5c5a694b': 72, 'ae637522': 137, '0654b444': 2, '5b9c592b': 70, 'b8d325c3': 153, 'f2f777fb': 203, 'c6824def': 169, '5c620f04': 73, '3feeed1e': 48, '56eabb45': 64, 'ad63ec9b': 134, 'b9528b13': 156, 'b5f3b24a': 149, 'b2816726': 143, '6f7ca2ba': 85, 'e787a6bc': 194, '15ec7f39': 13, 'f3ad7798': 204, '5ac0b939': 67, '43cf4f06': 50, '2b627705': 39, 'e5d5313f': 193, 'a271c340': 128, '18eb4e75': 16, '15c23f8e': 12, '47464e95': 55, '8d87821d': 109, 'db829551': 185, '9ecca2dd': 126, '700adbf0': 86, '0e8616ad': 8, '9acfe436': 120, 'fd68cbd8': 214, '88293ffa': 104, 'b408d42a': 146, '999f1fac': 118, '7bbb38df': 96, '1ed56ded': 26, 'b6c7e8e1': 150, '0eb1a401': 9, '0d79ee56': 7, 'fd5f0ee2': 213, 'd6feb1a4': 179, 'b51aefa8': 148, '27ee373d': 36, 'cb36afb8': 173, '9ec164d3': 125, 'b12ff13e': 142, 'ef1fc174': 201, '2619a4f7': 34, '3ca588d4': 45, '756ffb85': 90, '2c1c31c6': 40, '298309ba': 37, '64ae80a5': 77, '4fafd4c4': 58, 'd18c63a1': 177, '48aec236': 57, 'afdf1f54': 140, 'e25eea83': 191, 'da1be86e': 183, 'b7af3e0a': 151, 'd9e67b62': 182, 'fceed35e': 211, 'c72257c6': 170, '713c0c91': 87, '99b4c806': 119, '1cb641ec': 21, '63f57be0': 75, 'b88e8096': 152, '6bfb9168': 83, '97efe5c6': 116, '5211766b': 62, '063914ab': 1, 'fc41b20c': 210, 'b50610ee': 147, '7a94af76': 94, '90322ef6': 110, '519a450d': 61, '7a9371fa': 93, 'b299335a': 144, 'b9215c20': 155, '17578ec3': 14, '57cf0548': 65, 'bcef5708': 161, '2022d54e': 28, 'f7f22564': 208, '29cd071c': 38, 'bf2623ab': 165, '6aafed40': 81, 'cda96d46': 175, '1d5e09f4': 23, '86aa8fec': 103, 'dec87c2e': 187, '65b2af4c': 78, 'a5204413': 129, 'fd0f197b': 212, '1c666936': 18, '47db8711': 56, '7d58e760': 97, 'b0920d40': 141, 'bd8c1fdc': 162, 'edc7d7a7': 199, '5b3f66ff': 69, 'c36365e3': 167, '201ad671': 27, 'a5f9dc5b': 130, '448ca2e3': 52, 'ed7f6170': 198, '6b062297': 82, '90706f5d': 111, '438468ad': 49, 'ce2ca36f': 176, '7b833eb9': 95, '734d52b9': 88, 'e9d5949e': 195, 'e24414c4': 189, '51174fb1': 60, '9d65dcb9': 122, 'b97def0d': 157, 'f5a7c834': 206, '73fc6786': 89, '90d75517': 112, '6a0a3a9d': 79, '3df323d8': 46, 'cb96370c': 174, 'f09de4dc': 202, '26378630': 35, 'd3c75c8f': 178, '9e96e8cf': 124, '214e1541': 30, '1c895c8c': 20, '5daf29b2': 74, 'c0940197': 166, 'bb6bcbae': 160, '9830a8fb': 117, '772df91c': 91, '1ea19ec4': 25, 'e5d008b4': 192, '64845f22': 76, '256a5990': 33, 'ca7441a4': 172, '1cbecd39': 22, '1b74784d': 17, '3c992420': 44, 'a09b1cc0': 127, 'aa396318': 133, 'ba275770': 158, '1ddc989f': 24, '5bcedd7d': 71, 'c87b28e6': 171, '9cc1123d': 121, '916026d9': 113, 'a981375c': 132, '084f6382': 4, 'ae36b8ab': 136, 'c5c485e8': 168, '002e4064': 0, 'adacd5cc': 135, '800100e0': 98, 'be452468': 164, '06a7ad59': 3, '95f77e10': 115, '9e4f24c2': 123, 'ead20d3d': 197, 'dcdba109': 186, '23e2c80e': 32, '179fcd69': 15, 'aee494fb': 138, '8bb7dba9': 108, 'bb2a164d': 159, '44324ff4': 51, '5ad474ea': 68, '863f4950': 102, 'f84a2400': 209, 'b398ab59': 145, '449e219f': 53, 'da45f10e': 184, 'b8f3e522': 154, '6a90b0cb': 80, '09abdb18': 5, '6f406d5b': 84, 'a8b0bf20': 131, '1c73b8ac': 19, '547624e0': 63, '36fb59d6': 43, 'ee7d2e2b': 200, 'f435cae0': 205, '3fa331b0': 47, '89896125': 106, '20ab8b07': 29, 'eaaf6d12': 196, 'bdde4c9b': 163, '323f3fe5': 41, '1438d51f': 11, '12aaf71f': 10, '92895b94': 114, '5048f612': 59, '8ab0d4f4': 107, 'd98095bb': 180, 'e25ea824': 190, '59e465f4': 66, 'f75ccedd': 207, '0b7d3d7d': 6}\n"
     ]
    },
    {
     "data": {
      "text/html": [
       "<div>\n",
       "<style scoped>\n",
       "    .dataframe tbody tr th:only-of-type {\n",
       "        vertical-align: middle;\n",
       "    }\n",
       "\n",
       "    .dataframe tbody tr th {\n",
       "        vertical-align: top;\n",
       "    }\n",
       "\n",
       "    .dataframe thead th {\n",
       "        text-align: right;\n",
       "    }\n",
       "</style>\n",
       "<table border=\"1\" class=\"dataframe\">\n",
       "  <thead>\n",
       "    <tr style=\"text-align: right;\">\n",
       "      <th></th>\n",
       "      <th>CYF_aplikacja_domena</th>\n",
       "      <th>aplikacja_domena</th>\n",
       "    </tr>\n",
       "  </thead>\n",
       "  <tbody>\n",
       "    <tr>\n",
       "      <td>1289205</td>\n",
       "      <td>188</td>\n",
       "      <td>df32afa9</td>\n",
       "    </tr>\n",
       "    <tr>\n",
       "      <td>823409</td>\n",
       "      <td>101</td>\n",
       "      <td>82e27996</td>\n",
       "    </tr>\n",
       "    <tr>\n",
       "      <td>1217125</td>\n",
       "      <td>8</td>\n",
       "      <td>0e8616ad</td>\n",
       "    </tr>\n",
       "    <tr>\n",
       "      <td>1333654</td>\n",
       "      <td>92</td>\n",
       "      <td>7801e8d9</td>\n",
       "    </tr>\n",
       "  </tbody>\n",
       "</table>\n",
       "</div>"
      ],
      "text/plain": [
       "         CYF_aplikacja_domena aplikacja_domena\n",
       "1289205                   188         df32afa9\n",
       "823409                    101         82e27996\n",
       "1217125                     8         0e8616ad\n",
       "1333654                    92         7801e8d9"
      ]
     },
     "execution_count": 31,
     "metadata": {},
     "output_type": "execute_result"
    }
   ],
   "source": [
    "SL_aplikacja_domena = df.set_index('aplikacja_domena')['C_aplikacja_domena'].to_dict()\n",
    "print(SL_aplikacja_domena)\n",
    "df['CYF_aplikacja_domena'] = df['aplikacja_domena'].map(SL_aplikacja_domena)\n",
    "del df['C_aplikacja_domena']\n",
    "df[['CYF_aplikacja_domena','aplikacja_domena']].sample(4)"
   ]
  },
  {
   "cell_type": "code",
   "execution_count": 32,
   "metadata": {},
   "outputs": [
    {
     "name": "stdout",
     "output_type": "stream",
     "text": [
      "(215,)\n",
      "(215,)\n",
      "{'82e27996': 101, '7801e8d9': 92, '2347f47a': 31, '828da833': 100, '45a51db4': 54, '33da2e74': 42, 'd9b5648e': 181, 'df32afa9': 188, 'aefc06bd': 139, '813f3323': 99, '885c7f3f': 105, '5c5a694b': 72, 'ae637522': 137, '0654b444': 2, '5b9c592b': 70, 'b8d325c3': 153, 'f2f777fb': 203, 'c6824def': 169, '5c620f04': 73, '3feeed1e': 48, '56eabb45': 64, 'ad63ec9b': 134, 'b9528b13': 156, 'b5f3b24a': 149, 'b2816726': 143, '6f7ca2ba': 85, 'e787a6bc': 194, '15ec7f39': 13, 'f3ad7798': 204, '5ac0b939': 67, '43cf4f06': 50, '2b627705': 39, 'e5d5313f': 193, 'a271c340': 128, '18eb4e75': 16, '15c23f8e': 12, '47464e95': 55, '8d87821d': 109, 'db829551': 185, '9ecca2dd': 126, '700adbf0': 86, '0e8616ad': 8, '9acfe436': 120, 'fd68cbd8': 214, '88293ffa': 104, 'b408d42a': 146, '999f1fac': 118, '7bbb38df': 96, '1ed56ded': 26, 'b6c7e8e1': 150, '0eb1a401': 9, '0d79ee56': 7, 'fd5f0ee2': 213, 'd6feb1a4': 179, 'b51aefa8': 148, '27ee373d': 36, 'cb36afb8': 173, '9ec164d3': 125, 'b12ff13e': 142, 'ef1fc174': 201, '2619a4f7': 34, '3ca588d4': 45, '756ffb85': 90, '2c1c31c6': 40, '298309ba': 37, '64ae80a5': 77, '4fafd4c4': 58, 'd18c63a1': 177, '48aec236': 57, 'afdf1f54': 140, 'e25eea83': 191, 'da1be86e': 183, 'b7af3e0a': 151, 'd9e67b62': 182, 'fceed35e': 211, 'c72257c6': 170, '713c0c91': 87, '99b4c806': 119, '1cb641ec': 21, '63f57be0': 75, 'b88e8096': 152, '6bfb9168': 83, '97efe5c6': 116, '5211766b': 62, '063914ab': 1, 'fc41b20c': 210, 'b50610ee': 147, '7a94af76': 94, '90322ef6': 110, '519a450d': 61, '7a9371fa': 93, 'b299335a': 144, 'b9215c20': 155, '17578ec3': 14, '57cf0548': 65, 'bcef5708': 161, '2022d54e': 28, 'f7f22564': 208, '29cd071c': 38, 'bf2623ab': 165, '6aafed40': 81, 'cda96d46': 175, '1d5e09f4': 23, '86aa8fec': 103, 'dec87c2e': 187, '65b2af4c': 78, 'a5204413': 129, 'fd0f197b': 212, '1c666936': 18, '47db8711': 56, '7d58e760': 97, 'b0920d40': 141, 'bd8c1fdc': 162, 'edc7d7a7': 199, '5b3f66ff': 69, 'c36365e3': 167, '201ad671': 27, 'a5f9dc5b': 130, '448ca2e3': 52, 'ed7f6170': 198, '6b062297': 82, '90706f5d': 111, '438468ad': 49, 'ce2ca36f': 176, '7b833eb9': 95, '734d52b9': 88, 'e9d5949e': 195, 'e24414c4': 189, '51174fb1': 60, '9d65dcb9': 122, 'b97def0d': 157, 'f5a7c834': 206, '73fc6786': 89, '90d75517': 112, '6a0a3a9d': 79, '3df323d8': 46, 'cb96370c': 174, 'f09de4dc': 202, '26378630': 35, 'd3c75c8f': 178, '9e96e8cf': 124, '214e1541': 30, '1c895c8c': 20, '5daf29b2': 74, 'c0940197': 166, 'bb6bcbae': 160, '9830a8fb': 117, '772df91c': 91, '1ea19ec4': 25, 'e5d008b4': 192, '64845f22': 76, '256a5990': 33, 'ca7441a4': 172, '1cbecd39': 22, '1b74784d': 17, '3c992420': 44, 'a09b1cc0': 127, 'aa396318': 133, 'ba275770': 158, '1ddc989f': 24, '5bcedd7d': 71, 'c87b28e6': 171, '9cc1123d': 121, '916026d9': 113, 'a981375c': 132, '084f6382': 4, 'ae36b8ab': 136, 'c5c485e8': 168, '002e4064': 0, 'adacd5cc': 135, '800100e0': 98, 'be452468': 164, '06a7ad59': 3, '95f77e10': 115, '9e4f24c2': 123, 'ead20d3d': 197, 'dcdba109': 186, '23e2c80e': 32, '179fcd69': 15, 'aee494fb': 138, '8bb7dba9': 108, 'bb2a164d': 159, '44324ff4': 51, '5ad474ea': 68, '863f4950': 102, 'f84a2400': 209, 'b398ab59': 145, '449e219f': 53, 'da45f10e': 184, 'b8f3e522': 154, '6a90b0cb': 80, '09abdb18': 5, '6f406d5b': 84, 'a8b0bf20': 131, '1c73b8ac': 19, '547624e0': 63, '36fb59d6': 43, 'ee7d2e2b': 200, 'f435cae0': 205, '3fa331b0': 47, '89896125': 106, '20ab8b07': 29, 'eaaf6d12': 196, 'bdde4c9b': 163, '323f3fe5': 41, '1438d51f': 11, '12aaf71f': 10, '92895b94': 114, '5048f612': 59, '8ab0d4f4': 107, 'd98095bb': 180, 'e25ea824': 190, '59e465f4': 66, 'f75ccedd': 207, '0b7d3d7d': 6}\n"
     ]
    }
   ],
   "source": [
    "## Sprawdzenie:\n",
    "print(df['aplikacja_domena'].value_counts().shape)\n",
    "print(df['CYF_aplikacja_domena'].value_counts().shape)\n",
    "print(SL_aplikacja_domena)"
   ]
  },
  {
   "cell_type": "markdown",
   "metadata": {},
   "source": [
    "### <span style=\"color:blue\"> Cyfryzuje słownikowo:  'aplikacja_kategoria'</span>"
   ]
  },
  {
   "cell_type": "code",
   "execution_count": 33,
   "metadata": {},
   "outputs": [
    {
     "name": "stdout",
     "output_type": "stream",
     "text": [
      "(26,)\n"
     ]
    },
    {
     "data": {
      "text/plain": [
       "07d7df22    971720\n",
       "0f2161f8    347532\n",
       "cef3e649     91017\n",
       "f95efa07     36557\n",
       "8ded1f7a     34818\n",
       "d1327cf5      5900\n",
       "09481d60      4858\n",
       "dc97ec06      1883\n",
       "75d80bbe      1815\n",
       "4ce2e9fc       929\n",
       "879c24eb       865\n",
       "fc6fa53d       819\n",
       "a3c42688       398\n",
       "4681bb9d       280\n",
       "0f9a328c       258\n",
       "a86a3e89       106\n",
       "2281a340        80\n",
       "8df2e842        62\n",
       "0bfbc358        36\n",
       "79f0b860        23\n",
       "a7fd01ec        20\n",
       "7113d72a         9\n",
       "18b1e0be         8\n",
       "5326cf99         3\n",
       "2fc4f2aa         3\n",
       "71af18ce         1\n",
       "Name: aplikacja_kategoria, dtype: int64"
      ]
     },
     "execution_count": 33,
     "metadata": {},
     "output_type": "execute_result"
    }
   ],
   "source": [
    "print(df['aplikacja_kategoria'].value_counts().shape)\n",
    "df['aplikacja_kategoria'].value_counts()"
   ]
  },
  {
   "cell_type": "code",
   "execution_count": 34,
   "metadata": {},
   "outputs": [
    {
     "data": {
      "text/html": [
       "<div>\n",
       "<style scoped>\n",
       "    .dataframe tbody tr th:only-of-type {\n",
       "        vertical-align: middle;\n",
       "    }\n",
       "\n",
       "    .dataframe tbody tr th {\n",
       "        vertical-align: top;\n",
       "    }\n",
       "\n",
       "    .dataframe thead th {\n",
       "        text-align: right;\n",
       "    }\n",
       "</style>\n",
       "<table border=\"1\" class=\"dataframe\">\n",
       "  <thead>\n",
       "    <tr style=\"text-align: right;\">\n",
       "      <th></th>\n",
       "      <th>aplikacja_kategoria</th>\n",
       "      <th>C_aplikacja_kategoria</th>\n",
       "    </tr>\n",
       "  </thead>\n",
       "  <tbody>\n",
       "    <tr>\n",
       "      <td>1322455</td>\n",
       "      <td>0f2161f8</td>\n",
       "      <td>3</td>\n",
       "    </tr>\n",
       "    <tr>\n",
       "      <td>301216</td>\n",
       "      <td>0f2161f8</td>\n",
       "      <td>3</td>\n",
       "    </tr>\n",
       "  </tbody>\n",
       "</table>\n",
       "</div>"
      ],
      "text/plain": [
       "        aplikacja_kategoria  C_aplikacja_kategoria\n",
       "1322455            0f2161f8                      3\n",
       "301216             0f2161f8                      3"
      ]
     },
     "execution_count": 34,
     "metadata": {},
     "output_type": "execute_result"
    }
   ],
   "source": [
    "## Cyfryzuje przez mapowanie słownikowe:\n",
    "df['C_aplikacja_kategoria'] = pd.Categorical(df['aplikacja_kategoria']).codes\n",
    "df[['aplikacja_kategoria','C_aplikacja_kategoria']].sample(2)"
   ]
  },
  {
   "cell_type": "code",
   "execution_count": 35,
   "metadata": {},
   "outputs": [
    {
     "name": "stdout",
     "output_type": "stream",
     "text": [
      "{'0f2161f8': 3, '07d7df22': 0, 'cef3e649': 21, 'f95efa07': 24, 'd1327cf5': 22, '8ded1f7a': 16, '4ce2e9fc': 9, '75d80bbe': 13, 'a3c42688': 18, '09481d60': 1, 'dc97ec06': 23, '0f9a328c': 4, '879c24eb': 15, 'fc6fa53d': 25, 'a7fd01ec': 19, 'a86a3e89': 20, '7113d72a': 11, '4681bb9d': 8, '0bfbc358': 2, '2281a340': 6, '79f0b860': 14, '8df2e842': 17, '18b1e0be': 5, '2fc4f2aa': 7, '5326cf99': 10, '71af18ce': 12}\n"
     ]
    },
    {
     "data": {
      "text/html": [
       "<div>\n",
       "<style scoped>\n",
       "    .dataframe tbody tr th:only-of-type {\n",
       "        vertical-align: middle;\n",
       "    }\n",
       "\n",
       "    .dataframe tbody tr th {\n",
       "        vertical-align: top;\n",
       "    }\n",
       "\n",
       "    .dataframe thead th {\n",
       "        text-align: right;\n",
       "    }\n",
       "</style>\n",
       "<table border=\"1\" class=\"dataframe\">\n",
       "  <thead>\n",
       "    <tr style=\"text-align: right;\">\n",
       "      <th></th>\n",
       "      <th>CYF_aplikacja_kategoria</th>\n",
       "      <th>aplikacja_kategoria</th>\n",
       "    </tr>\n",
       "  </thead>\n",
       "  <tbody>\n",
       "    <tr>\n",
       "      <td>736897</td>\n",
       "      <td>0</td>\n",
       "      <td>07d7df22</td>\n",
       "    </tr>\n",
       "    <tr>\n",
       "      <td>1142867</td>\n",
       "      <td>0</td>\n",
       "      <td>07d7df22</td>\n",
       "    </tr>\n",
       "    <tr>\n",
       "      <td>169471</td>\n",
       "      <td>0</td>\n",
       "      <td>07d7df22</td>\n",
       "    </tr>\n",
       "    <tr>\n",
       "      <td>1232549</td>\n",
       "      <td>0</td>\n",
       "      <td>07d7df22</td>\n",
       "    </tr>\n",
       "  </tbody>\n",
       "</table>\n",
       "</div>"
      ],
      "text/plain": [
       "         CYF_aplikacja_kategoria aplikacja_kategoria\n",
       "736897                         0            07d7df22\n",
       "1142867                        0            07d7df22\n",
       "169471                         0            07d7df22\n",
       "1232549                        0            07d7df22"
      ]
     },
     "execution_count": 35,
     "metadata": {},
     "output_type": "execute_result"
    }
   ],
   "source": [
    "SL_aplikacja_kategoria = df.set_index('aplikacja_kategoria')['C_aplikacja_kategoria'].to_dict()\n",
    "print(SL_aplikacja_kategoria)\n",
    "df['CYF_aplikacja_kategoria'] = df['aplikacja_kategoria'].map(SL_aplikacja_kategoria)\n",
    "del df['C_aplikacja_kategoria']\n",
    "df[['CYF_aplikacja_kategoria','aplikacja_kategoria']].sample(4)"
   ]
  },
  {
   "cell_type": "code",
   "execution_count": 36,
   "metadata": {},
   "outputs": [
    {
     "name": "stdout",
     "output_type": "stream",
     "text": [
      "(26,)\n",
      "(26,)\n",
      "{'0f2161f8': 3, '07d7df22': 0, 'cef3e649': 21, 'f95efa07': 24, 'd1327cf5': 22, '8ded1f7a': 16, '4ce2e9fc': 9, '75d80bbe': 13, 'a3c42688': 18, '09481d60': 1, 'dc97ec06': 23, '0f9a328c': 4, '879c24eb': 15, 'fc6fa53d': 25, 'a7fd01ec': 19, 'a86a3e89': 20, '7113d72a': 11, '4681bb9d': 8, '0bfbc358': 2, '2281a340': 6, '79f0b860': 14, '8df2e842': 17, '18b1e0be': 5, '2fc4f2aa': 7, '5326cf99': 10, '71af18ce': 12}\n"
     ]
    }
   ],
   "source": [
    "## Sprawdzenie:\n",
    "print(df['aplikacja_kategoria'].value_counts().shape)\n",
    "print(df['CYF_aplikacja_kategoria'].value_counts().shape)\n",
    "print(SL_aplikacja_kategoria)"
   ]
  },
  {
   "cell_type": "markdown",
   "metadata": {},
   "source": [
    "### <span style=\"color:blue\"> 'urz_id'</span>"
   ]
  },
  {
   "cell_type": "code",
   "execution_count": 37,
   "metadata": {},
   "outputs": [
    {
     "name": "stdout",
     "output_type": "stream",
     "text": [
      "(199796,)\n"
     ]
    },
    {
     "data": {
      "text/plain": [
       "a99f214a    1234185\n",
       "c357dbff       1856\n",
       "936e92fb        699\n",
       "cef4c8cc        192\n",
       "afeffc18        191\n",
       "             ...   \n",
       "9d0d3a1c          1\n",
       "d46eb77c          1\n",
       "80c8251f          1\n",
       "17ae2659          1\n",
       "e504b37c          1\n",
       "Name: urz_id, Length: 199796, dtype: int64"
      ]
     },
     "execution_count": 37,
     "metadata": {},
     "output_type": "execute_result"
    }
   ],
   "source": [
    "print(df['urz_id'].value_counts().shape)\n",
    "df['urz_id'].value_counts()"
   ]
  },
  {
   "cell_type": "code",
   "execution_count": 38,
   "metadata": {},
   "outputs": [
    {
     "data": {
      "text/html": [
       "<div>\n",
       "<style scoped>\n",
       "    .dataframe tbody tr th:only-of-type {\n",
       "        vertical-align: middle;\n",
       "    }\n",
       "\n",
       "    .dataframe tbody tr th {\n",
       "        vertical-align: top;\n",
       "    }\n",
       "\n",
       "    .dataframe thead th {\n",
       "        text-align: right;\n",
       "    }\n",
       "</style>\n",
       "<table border=\"1\" class=\"dataframe\">\n",
       "  <thead>\n",
       "    <tr style=\"text-align: right;\">\n",
       "      <th></th>\n",
       "      <th>urz_id</th>\n",
       "      <th>C_urz_id</th>\n",
       "    </tr>\n",
       "  </thead>\n",
       "  <tbody>\n",
       "    <tr>\n",
       "      <td>68243</td>\n",
       "      <td>a99f214a</td>\n",
       "      <td>132302</td>\n",
       "    </tr>\n",
       "    <tr>\n",
       "      <td>190667</td>\n",
       "      <td>a99f214a</td>\n",
       "      <td>132302</td>\n",
       "    </tr>\n",
       "  </tbody>\n",
       "</table>\n",
       "</div>"
      ],
      "text/plain": [
       "          urz_id  C_urz_id\n",
       "68243   a99f214a    132302\n",
       "190667  a99f214a    132302"
      ]
     },
     "execution_count": 38,
     "metadata": {},
     "output_type": "execute_result"
    }
   ],
   "source": [
    "## Cyfryzuje przez mapowanie słownikowe:\n",
    "df['C_urz_id'] = pd.Categorical(df['urz_id']).codes\n",
    "df[['urz_id','C_urz_id']].sample(2)"
   ]
  },
  {
   "cell_type": "code",
   "execution_count": 39,
   "metadata": {},
   "outputs": [
    {
     "data": {
      "text/html": [
       "<div>\n",
       "<style scoped>\n",
       "    .dataframe tbody tr th:only-of-type {\n",
       "        vertical-align: middle;\n",
       "    }\n",
       "\n",
       "    .dataframe tbody tr th {\n",
       "        vertical-align: top;\n",
       "    }\n",
       "\n",
       "    .dataframe thead th {\n",
       "        text-align: right;\n",
       "    }\n",
       "</style>\n",
       "<table border=\"1\" class=\"dataframe\">\n",
       "  <thead>\n",
       "    <tr style=\"text-align: right;\">\n",
       "      <th></th>\n",
       "      <th>CYF_urz_id</th>\n",
       "      <th>urz_id</th>\n",
       "    </tr>\n",
       "  </thead>\n",
       "  <tbody>\n",
       "    <tr>\n",
       "      <td>1244896</td>\n",
       "      <td>132302</td>\n",
       "      <td>a99f214a</td>\n",
       "    </tr>\n",
       "    <tr>\n",
       "      <td>1442937</td>\n",
       "      <td>132302</td>\n",
       "      <td>a99f214a</td>\n",
       "    </tr>\n",
       "    <tr>\n",
       "      <td>1080371</td>\n",
       "      <td>132302</td>\n",
       "      <td>a99f214a</td>\n",
       "    </tr>\n",
       "    <tr>\n",
       "      <td>699856</td>\n",
       "      <td>132302</td>\n",
       "      <td>a99f214a</td>\n",
       "    </tr>\n",
       "  </tbody>\n",
       "</table>\n",
       "</div>"
      ],
      "text/plain": [
       "         CYF_urz_id    urz_id\n",
       "1244896      132302  a99f214a\n",
       "1442937      132302  a99f214a\n",
       "1080371      132302  a99f214a\n",
       "699856       132302  a99f214a"
      ]
     },
     "execution_count": 39,
     "metadata": {},
     "output_type": "execute_result"
    }
   ],
   "source": [
    "SL_urz_id = df.set_index('urz_id')['C_urz_id'].to_dict()\n",
    "#print(SL_urz_id)\n",
    "df['CYF_urz_id'] = df['urz_id'].map(SL_urz_id)\n",
    "del df['C_urz_id']\n",
    "df[['CYF_urz_id','urz_id']].sample(4)"
   ]
  },
  {
   "cell_type": "code",
   "execution_count": 40,
   "metadata": {},
   "outputs": [
    {
     "name": "stdout",
     "output_type": "stream",
     "text": [
      "(199796,)\n",
      "(199796,)\n"
     ]
    }
   ],
   "source": [
    "## Sprawdzenie:\n",
    "print(df['urz_id'].value_counts().shape)\n",
    "print(df['CYF_urz_id'].value_counts().shape)\n",
    "#print(SL_urz_id)"
   ]
  },
  {
   "cell_type": "markdown",
   "metadata": {},
   "source": [
    "### <span style=\"color:blue\"> Cyfryzuje słownikowo: Cyfryzuje słownikowo: 'urz_ip'</span>"
   ]
  },
  {
   "cell_type": "code",
   "execution_count": 41,
   "metadata": {},
   "outputs": [
    {
     "name": "stdout",
     "output_type": "stream",
     "text": [
      "(679058,)\n"
     ]
    },
    {
     "data": {
      "text/plain": [
       "6b9769f2    7610\n",
       "431b3174    5054\n",
       "ddd2926e    2722\n",
       "1cf29716    2706\n",
       "c6563308    2700\n",
       "            ... \n",
       "91e86411       1\n",
       "1d6dd568       1\n",
       "ce774e70       1\n",
       "6de8f7f1       1\n",
       "dfeac53a       1\n",
       "Name: urz_ip, Length: 679058, dtype: int64"
      ]
     },
     "execution_count": 41,
     "metadata": {},
     "output_type": "execute_result"
    }
   ],
   "source": [
    "print(df['urz_ip'].value_counts().shape)\n",
    "df['urz_ip'].value_counts()"
   ]
  },
  {
   "cell_type": "code",
   "execution_count": 42,
   "metadata": {},
   "outputs": [
    {
     "data": {
      "text/html": [
       "<div>\n",
       "<style scoped>\n",
       "    .dataframe tbody tr th:only-of-type {\n",
       "        vertical-align: middle;\n",
       "    }\n",
       "\n",
       "    .dataframe tbody tr th {\n",
       "        vertical-align: top;\n",
       "    }\n",
       "\n",
       "    .dataframe thead th {\n",
       "        text-align: right;\n",
       "    }\n",
       "</style>\n",
       "<table border=\"1\" class=\"dataframe\">\n",
       "  <thead>\n",
       "    <tr style=\"text-align: right;\">\n",
       "      <th></th>\n",
       "      <th>urz_ip</th>\n",
       "      <th>C_urz_ip</th>\n",
       "    </tr>\n",
       "  </thead>\n",
       "  <tbody>\n",
       "    <tr>\n",
       "      <td>1437913</td>\n",
       "      <td>c4c1e86f</td>\n",
       "      <td>522333</td>\n",
       "    </tr>\n",
       "    <tr>\n",
       "      <td>793140</td>\n",
       "      <td>8ea23647</td>\n",
       "      <td>378585</td>\n",
       "    </tr>\n",
       "  </tbody>\n",
       "</table>\n",
       "</div>"
      ],
      "text/plain": [
       "           urz_ip  C_urz_ip\n",
       "1437913  c4c1e86f    522333\n",
       "793140   8ea23647    378585"
      ]
     },
     "execution_count": 42,
     "metadata": {},
     "output_type": "execute_result"
    }
   ],
   "source": [
    "## Cyfryzuje przez mapowanie słownikowe:\n",
    "df['C_urz_ip'] = pd.Categorical(df['urz_ip']).codes\n",
    "df[['urz_ip','C_urz_ip']].sample(2)"
   ]
  },
  {
   "cell_type": "code",
   "execution_count": 43,
   "metadata": {},
   "outputs": [
    {
     "data": {
      "text/html": [
       "<div>\n",
       "<style scoped>\n",
       "    .dataframe tbody tr th:only-of-type {\n",
       "        vertical-align: middle;\n",
       "    }\n",
       "\n",
       "    .dataframe tbody tr th {\n",
       "        vertical-align: top;\n",
       "    }\n",
       "\n",
       "    .dataframe thead th {\n",
       "        text-align: right;\n",
       "    }\n",
       "</style>\n",
       "<table border=\"1\" class=\"dataframe\">\n",
       "  <thead>\n",
       "    <tr style=\"text-align: right;\">\n",
       "      <th></th>\n",
       "      <th>CYF_urz_ip</th>\n",
       "      <th>urz_ip</th>\n",
       "    </tr>\n",
       "  </thead>\n",
       "  <tbody>\n",
       "    <tr>\n",
       "      <td>1014296</td>\n",
       "      <td>204373</td>\n",
       "      <td>4d04c6ad</td>\n",
       "    </tr>\n",
       "    <tr>\n",
       "      <td>850732</td>\n",
       "      <td>264328</td>\n",
       "      <td>63a93790</td>\n",
       "    </tr>\n",
       "    <tr>\n",
       "      <td>215413</td>\n",
       "      <td>526596</td>\n",
       "      <td>c6563308</td>\n",
       "    </tr>\n",
       "    <tr>\n",
       "      <td>556582</td>\n",
       "      <td>525095</td>\n",
       "      <td>c5c82c86</td>\n",
       "    </tr>\n",
       "  </tbody>\n",
       "</table>\n",
       "</div>"
      ],
      "text/plain": [
       "         CYF_urz_ip    urz_ip\n",
       "1014296      204373  4d04c6ad\n",
       "850732       264328  63a93790\n",
       "215413       526596  c6563308\n",
       "556582       525095  c5c82c86"
      ]
     },
     "execution_count": 43,
     "metadata": {},
     "output_type": "execute_result"
    }
   ],
   "source": [
    "SL_urz_ip = df.set_index('urz_ip')['C_urz_ip'].to_dict()\n",
    "#print(SL_urz_ip)\n",
    "df['CYF_urz_ip'] = df['urz_ip'].map(SL_urz_ip)\n",
    "del df['C_urz_ip']\n",
    "df[['CYF_urz_ip','urz_ip']].sample(4)"
   ]
  },
  {
   "cell_type": "code",
   "execution_count": 44,
   "metadata": {},
   "outputs": [
    {
     "name": "stdout",
     "output_type": "stream",
     "text": [
      "(679058,)\n",
      "(679058,)\n"
     ]
    }
   ],
   "source": [
    "## Sprawdzenie:\n",
    "print(df['urz_ip'].value_counts().shape)\n",
    "print(df['CYF_urz_ip'].value_counts().shape)\n",
    "#print(SL_urz_ip)"
   ]
  },
  {
   "cell_type": "markdown",
   "metadata": {},
   "source": [
    "### <span style=\"color:blue\">'urz_model'</span>"
   ]
  },
  {
   "cell_type": "code",
   "execution_count": 45,
   "metadata": {},
   "outputs": [
    {
     "name": "stdout",
     "output_type": "stream",
     "text": [
      "(5435,)\n"
     ]
    },
    {
     "data": {
      "text/plain": [
       "8a4875bd    95638\n",
       "1f0bc64f    55339\n",
       "d787e91b    50570\n",
       "76dc4769    27301\n",
       "4ea23a13    26297\n",
       "            ...  \n",
       "808ebf3d        1\n",
       "142d83b1        1\n",
       "667dfbf8        1\n",
       "8bfb7dbf        1\n",
       "9e52bf79        1\n",
       "Name: urz_model, Length: 5435, dtype: int64"
      ]
     },
     "execution_count": 45,
     "metadata": {},
     "output_type": "execute_result"
    }
   ],
   "source": [
    "print(df['urz_model'].value_counts().shape)\n",
    "df['urz_model'].value_counts()"
   ]
  },
  {
   "cell_type": "code",
   "execution_count": 46,
   "metadata": {},
   "outputs": [
    {
     "data": {
      "text/html": [
       "<div>\n",
       "<style scoped>\n",
       "    .dataframe tbody tr th:only-of-type {\n",
       "        vertical-align: middle;\n",
       "    }\n",
       "\n",
       "    .dataframe tbody tr th {\n",
       "        vertical-align: top;\n",
       "    }\n",
       "\n",
       "    .dataframe thead th {\n",
       "        text-align: right;\n",
       "    }\n",
       "</style>\n",
       "<table border=\"1\" class=\"dataframe\">\n",
       "  <thead>\n",
       "    <tr style=\"text-align: right;\">\n",
       "      <th></th>\n",
       "      <th>urz_model</th>\n",
       "      <th>C_urz_model</th>\n",
       "    </tr>\n",
       "  </thead>\n",
       "  <tbody>\n",
       "    <tr>\n",
       "      <td>1410392</td>\n",
       "      <td>1f0bc64f</td>\n",
       "      <td>636</td>\n",
       "    </tr>\n",
       "    <tr>\n",
       "      <td>73639</td>\n",
       "      <td>d787e91b</td>\n",
       "      <td>4576</td>\n",
       "    </tr>\n",
       "  </tbody>\n",
       "</table>\n",
       "</div>"
      ],
      "text/plain": [
       "        urz_model  C_urz_model\n",
       "1410392  1f0bc64f          636\n",
       "73639    d787e91b         4576"
      ]
     },
     "execution_count": 46,
     "metadata": {},
     "output_type": "execute_result"
    }
   ],
   "source": [
    "## Cyfryzuje przez mapowanie słownikowe:\n",
    "df['C_urz_model'] = pd.Categorical(df['urz_model']).codes\n",
    "df[['urz_model','C_urz_model']].sample(2)"
   ]
  },
  {
   "cell_type": "code",
   "execution_count": 47,
   "metadata": {},
   "outputs": [
    {
     "data": {
      "text/html": [
       "<div>\n",
       "<style scoped>\n",
       "    .dataframe tbody tr th:only-of-type {\n",
       "        vertical-align: middle;\n",
       "    }\n",
       "\n",
       "    .dataframe tbody tr th {\n",
       "        vertical-align: top;\n",
       "    }\n",
       "\n",
       "    .dataframe thead th {\n",
       "        text-align: right;\n",
       "    }\n",
       "</style>\n",
       "<table border=\"1\" class=\"dataframe\">\n",
       "  <thead>\n",
       "    <tr style=\"text-align: right;\">\n",
       "      <th></th>\n",
       "      <th>CYF_urz_model</th>\n",
       "      <th>urz_model</th>\n",
       "    </tr>\n",
       "  </thead>\n",
       "  <tbody>\n",
       "    <tr>\n",
       "      <td>1462670</td>\n",
       "      <td>2574</td>\n",
       "      <td>78d9bd10</td>\n",
       "    </tr>\n",
       "    <tr>\n",
       "      <td>1143552</td>\n",
       "      <td>3596</td>\n",
       "      <td>a9b05547</td>\n",
       "    </tr>\n",
       "    <tr>\n",
       "      <td>1438844</td>\n",
       "      <td>318</td>\n",
       "      <td>0eb711ec</td>\n",
       "    </tr>\n",
       "    <tr>\n",
       "      <td>1499973</td>\n",
       "      <td>3044</td>\n",
       "      <td>8f5c9827</td>\n",
       "    </tr>\n",
       "  </tbody>\n",
       "</table>\n",
       "</div>"
      ],
      "text/plain": [
       "         CYF_urz_model urz_model\n",
       "1462670           2574  78d9bd10\n",
       "1143552           3596  a9b05547\n",
       "1438844            318  0eb711ec\n",
       "1499973           3044  8f5c9827"
      ]
     },
     "execution_count": 47,
     "metadata": {},
     "output_type": "execute_result"
    }
   ],
   "source": [
    "SL_urz_model = df.set_index('urz_model')['C_urz_model'].to_dict()\n",
    "#print(SL_urz_model)\n",
    "df['CYF_urz_model'] = df['urz_model'].map(SL_urz_model)\n",
    "del df['C_urz_model']\n",
    "df[['CYF_urz_model','urz_model']].sample(4)"
   ]
  },
  {
   "cell_type": "code",
   "execution_count": 48,
   "metadata": {},
   "outputs": [
    {
     "name": "stdout",
     "output_type": "stream",
     "text": [
      "(5435,)\n",
      "(5435,)\n"
     ]
    }
   ],
   "source": [
    "## Sprawdzenie:\n",
    "print(df['urz_model'].value_counts().shape)\n",
    "print(df['CYF_urz_model'].value_counts().shape)\n",
    "#print(SL_urz_model)"
   ]
  },
  {
   "cell_type": "code",
   "execution_count": 49,
   "metadata": {},
   "outputs": [
    {
     "data": {
      "text/plain": [
       "Index(['id', 'klik', 'data_godzina', 'baner_pozycja', 'strona_id',\n",
       "       'strona_domena', 'strona_kategoria', 'aplikacja_id', 'aplikacja_domena',\n",
       "       'aplikacja_kategoria', 'urz_id', 'urz_ip', 'urz_model', 'urz_typ',\n",
       "       'urz_polaczenie', 'kat1', 'kat2', 'kat3', 'kat4', 'kat5', 'kat6',\n",
       "       'kat7', 'kat8', 'kat9', 'CYF_data_godzina', 'CYF_baner_pozycja',\n",
       "       'CYF_strona_id', 'CYF_strona_domena', 'CYF_strona_kategoria',\n",
       "       'CYF_aplikacja_id', 'CYF_aplikacja_domena', 'CYF_aplikacja_kategoria',\n",
       "       'CYF_urz_id', 'CYF_urz_ip', 'CYF_urz_model'],\n",
       "      dtype='object')"
      ]
     },
     "execution_count": 49,
     "metadata": {},
     "output_type": "execute_result"
    }
   ],
   "source": [
    "df.columns"
   ]
  },
  {
   "cell_type": "markdown",
   "metadata": {},
   "source": [
    "### <span style=\"color:blue\"> Cyfryzuje słownikowo: 'urz_typ'</span>\n",
    "NIE TRZEBA CYFRYZOWAĆ"
   ]
  },
  {
   "cell_type": "code",
   "execution_count": 50,
   "metadata": {},
   "outputs": [
    {
     "name": "stdout",
     "output_type": "stream",
     "text": [
      "(4,)\n"
     ]
    },
    {
     "data": {
      "text/plain": [
       "1    1400544\n",
       "0      70104\n",
       "4      25556\n",
       "5       3796\n",
       "Name: urz_typ, dtype: int64"
      ]
     },
     "execution_count": 50,
     "metadata": {},
     "output_type": "execute_result"
    }
   ],
   "source": [
    "print(df['urz_typ'].value_counts().shape)\n",
    "df['urz_typ'].value_counts()"
   ]
  },
  {
   "cell_type": "code",
   "execution_count": 51,
   "metadata": {},
   "outputs": [],
   "source": [
    "df['CYF_urz_typ']=df['urz_typ']"
   ]
  },
  {
   "cell_type": "markdown",
   "metadata": {},
   "source": [
    "### <span style=\"color:blue\"> Cyfryzuje słownikowo: 'urz_polaczenie'</span>\n",
    "NIE TRZEBA CYFRYZOWAĆ"
   ]
  },
  {
   "cell_type": "code",
   "execution_count": 52,
   "metadata": {},
   "outputs": [
    {
     "name": "stdout",
     "output_type": "stream",
     "text": [
      "(4,)\n"
     ]
    },
    {
     "data": {
      "text/plain": [
       "0    1329798\n",
       "2     128312\n",
       "3      40118\n",
       "5       1772\n",
       "Name: urz_polaczenie, dtype: int64"
      ]
     },
     "execution_count": 52,
     "metadata": {},
     "output_type": "execute_result"
    }
   ],
   "source": [
    "print(df['urz_polaczenie'].value_counts().shape)\n",
    "df['urz_polaczenie'].value_counts()"
   ]
  },
  {
   "cell_type": "code",
   "execution_count": 53,
   "metadata": {},
   "outputs": [],
   "source": [
    "df['CYF_urz_polaczenie']=df['urz_polaczenie']"
   ]
  },
  {
   "cell_type": "markdown",
   "metadata": {},
   "source": [
    "### <span style=\"color:blue\"> Cyfryzuje słownikowo: kat1</span>"
   ]
  },
  {
   "cell_type": "code",
   "execution_count": 54,
   "metadata": {},
   "outputs": [
    {
     "name": "stdout",
     "output_type": "stream",
     "text": [
      "(7,)\n"
     ]
    },
    {
     "data": {
      "text/plain": [
       "105    1395813\n",
       "102      70104\n",
       "110      29352\n",
       "112       2219\n",
       "107       1638\n",
       "108        475\n",
       "101        399\n",
       "Name: kat1, dtype: int64"
      ]
     },
     "execution_count": 54,
     "metadata": {},
     "output_type": "execute_result"
    }
   ],
   "source": [
    "print(df['kat1'].value_counts().shape)\n",
    "df['kat1'].value_counts()"
   ]
  },
  {
   "cell_type": "code",
   "execution_count": 55,
   "metadata": {},
   "outputs": [
    {
     "data": {
      "text/html": [
       "<div>\n",
       "<style scoped>\n",
       "    .dataframe tbody tr th:only-of-type {\n",
       "        vertical-align: middle;\n",
       "    }\n",
       "\n",
       "    .dataframe tbody tr th {\n",
       "        vertical-align: top;\n",
       "    }\n",
       "\n",
       "    .dataframe thead th {\n",
       "        text-align: right;\n",
       "    }\n",
       "</style>\n",
       "<table border=\"1\" class=\"dataframe\">\n",
       "  <thead>\n",
       "    <tr style=\"text-align: right;\">\n",
       "      <th></th>\n",
       "      <th>kat1</th>\n",
       "      <th>C_kat1</th>\n",
       "    </tr>\n",
       "  </thead>\n",
       "  <tbody>\n",
       "    <tr>\n",
       "      <td>1379328</td>\n",
       "      <td>102</td>\n",
       "      <td>1</td>\n",
       "    </tr>\n",
       "    <tr>\n",
       "      <td>902491</td>\n",
       "      <td>102</td>\n",
       "      <td>1</td>\n",
       "    </tr>\n",
       "  </tbody>\n",
       "</table>\n",
       "</div>"
      ],
      "text/plain": [
       "         kat1  C_kat1\n",
       "1379328   102       1\n",
       "902491    102       1"
      ]
     },
     "execution_count": 55,
     "metadata": {},
     "output_type": "execute_result"
    }
   ],
   "source": [
    "## Cyfryzuje przez mapowanie słownikowe:\n",
    "df['C_kat1'] = pd.Categorical(df['kat1']).codes\n",
    "df[['kat1','C_kat1']].sample(2)"
   ]
  },
  {
   "cell_type": "code",
   "execution_count": 56,
   "metadata": {},
   "outputs": [
    {
     "data": {
      "text/html": [
       "<div>\n",
       "<style scoped>\n",
       "    .dataframe tbody tr th:only-of-type {\n",
       "        vertical-align: middle;\n",
       "    }\n",
       "\n",
       "    .dataframe tbody tr th {\n",
       "        vertical-align: top;\n",
       "    }\n",
       "\n",
       "    .dataframe thead th {\n",
       "        text-align: right;\n",
       "    }\n",
       "</style>\n",
       "<table border=\"1\" class=\"dataframe\">\n",
       "  <thead>\n",
       "    <tr style=\"text-align: right;\">\n",
       "      <th></th>\n",
       "      <th>CYF_kat1</th>\n",
       "      <th>kat1</th>\n",
       "    </tr>\n",
       "  </thead>\n",
       "  <tbody>\n",
       "    <tr>\n",
       "      <td>295571</td>\n",
       "      <td>2</td>\n",
       "      <td>105</td>\n",
       "    </tr>\n",
       "    <tr>\n",
       "      <td>350545</td>\n",
       "      <td>2</td>\n",
       "      <td>105</td>\n",
       "    </tr>\n",
       "    <tr>\n",
       "      <td>630929</td>\n",
       "      <td>2</td>\n",
       "      <td>105</td>\n",
       "    </tr>\n",
       "    <tr>\n",
       "      <td>65756</td>\n",
       "      <td>2</td>\n",
       "      <td>105</td>\n",
       "    </tr>\n",
       "  </tbody>\n",
       "</table>\n",
       "</div>"
      ],
      "text/plain": [
       "        CYF_kat1  kat1\n",
       "295571         2   105\n",
       "350545         2   105\n",
       "630929         2   105\n",
       "65756          2   105"
      ]
     },
     "execution_count": 56,
     "metadata": {},
     "output_type": "execute_result"
    }
   ],
   "source": [
    "SL_kat1 = df.set_index('kat1')['C_kat1'].to_dict()\n",
    "#print(SL_kat1)\n",
    "df['CYF_kat1'] = df['kat1'].map(SL_kat1)\n",
    "del df['C_kat1']\n",
    "df[['CYF_kat1','kat1']].sample(4)"
   ]
  },
  {
   "cell_type": "code",
   "execution_count": 57,
   "metadata": {},
   "outputs": [
    {
     "name": "stdout",
     "output_type": "stream",
     "text": [
      "(7,)\n",
      "(7,)\n"
     ]
    }
   ],
   "source": [
    "## Sprawdzenie:\n",
    "print(df['kat1'].value_counts().shape)\n",
    "print(df['CYF_kat1'].value_counts().shape)\n",
    "#print(SL_kat1)"
   ]
  },
  {
   "cell_type": "markdown",
   "metadata": {},
   "source": [
    "### <span style=\"color:blue\"> Cyfryzuje słownikowo: kat2</span>"
   ]
  },
  {
   "cell_type": "code",
   "execution_count": 58,
   "metadata": {},
   "outputs": [
    {
     "name": "stdout",
     "output_type": "stream",
     "text": [
      "(1154,)\n"
     ]
    },
    {
     "data": {
      "text/plain": [
       "121767    37576\n",
       "121768    37497\n",
       "121611    37065\n",
       "119251    34228\n",
       "104687    30844\n",
       "          ...  \n",
       "112229        1\n",
       "121188        1\n",
       "122201        1\n",
       "122077        1\n",
       "112203        1\n",
       "Name: kat2, Length: 1154, dtype: int64"
      ]
     },
     "execution_count": 58,
     "metadata": {},
     "output_type": "execute_result"
    }
   ],
   "source": [
    "print(df['kat2'].value_counts().shape)\n",
    "df['kat2'].value_counts()"
   ]
  },
  {
   "cell_type": "code",
   "execution_count": 59,
   "metadata": {},
   "outputs": [
    {
     "data": {
      "text/html": [
       "<div>\n",
       "<style scoped>\n",
       "    .dataframe tbody tr th:only-of-type {\n",
       "        vertical-align: middle;\n",
       "    }\n",
       "\n",
       "    .dataframe tbody tr th {\n",
       "        vertical-align: top;\n",
       "    }\n",
       "\n",
       "    .dataframe thead th {\n",
       "        text-align: right;\n",
       "    }\n",
       "</style>\n",
       "<table border=\"1\" class=\"dataframe\">\n",
       "  <thead>\n",
       "    <tr style=\"text-align: right;\">\n",
       "      <th></th>\n",
       "      <th>kat2</th>\n",
       "      <th>C_kat2</th>\n",
       "    </tr>\n",
       "  </thead>\n",
       "  <tbody>\n",
       "    <tr>\n",
       "      <td>85100</td>\n",
       "      <td>119733</td>\n",
       "      <td>407</td>\n",
       "    </tr>\n",
       "    <tr>\n",
       "      <td>1404828</td>\n",
       "      <td>121789</td>\n",
       "      <td>835</td>\n",
       "    </tr>\n",
       "  </tbody>\n",
       "</table>\n",
       "</div>"
      ],
      "text/plain": [
       "           kat2  C_kat2\n",
       "85100    119733     407\n",
       "1404828  121789     835"
      ]
     },
     "execution_count": 59,
     "metadata": {},
     "output_type": "execute_result"
    }
   ],
   "source": [
    "## Cyfryzuje przez mapowanie słownikowe:\n",
    "df['C_kat2'] = pd.Categorical(df['kat2']).codes\n",
    "df[['kat2','C_kat2']].sample(2)"
   ]
  },
  {
   "cell_type": "code",
   "execution_count": 60,
   "metadata": {},
   "outputs": [
    {
     "data": {
      "text/html": [
       "<div>\n",
       "<style scoped>\n",
       "    .dataframe tbody tr th:only-of-type {\n",
       "        vertical-align: middle;\n",
       "    }\n",
       "\n",
       "    .dataframe tbody tr th {\n",
       "        vertical-align: top;\n",
       "    }\n",
       "\n",
       "    .dataframe thead th {\n",
       "        text-align: right;\n",
       "    }\n",
       "</style>\n",
       "<table border=\"1\" class=\"dataframe\">\n",
       "  <thead>\n",
       "    <tr style=\"text-align: right;\">\n",
       "      <th></th>\n",
       "      <th>CYF_kat2</th>\n",
       "      <th>kat2</th>\n",
       "    </tr>\n",
       "  </thead>\n",
       "  <tbody>\n",
       "    <tr>\n",
       "      <td>1278255</td>\n",
       "      <td>87</td>\n",
       "      <td>109436</td>\n",
       "    </tr>\n",
       "    <tr>\n",
       "      <td>810165</td>\n",
       "      <td>881</td>\n",
       "      <td>121853</td>\n",
       "    </tr>\n",
       "    <tr>\n",
       "      <td>282829</td>\n",
       "      <td>809</td>\n",
       "      <td>121760</td>\n",
       "    </tr>\n",
       "    <tr>\n",
       "      <td>948082</td>\n",
       "      <td>892</td>\n",
       "      <td>121882</td>\n",
       "    </tr>\n",
       "  </tbody>\n",
       "</table>\n",
       "</div>"
      ],
      "text/plain": [
       "         CYF_kat2    kat2\n",
       "1278255        87  109436\n",
       "810165        881  121853\n",
       "282829        809  121760\n",
       "948082        892  121882"
      ]
     },
     "execution_count": 60,
     "metadata": {},
     "output_type": "execute_result"
    }
   ],
   "source": [
    "SL_kat2 = df.set_index('kat2')['C_kat2'].to_dict()\n",
    "#print(SL_kat2)\n",
    "df['CYF_kat2'] = df['kat2'].map(SL_kat2)\n",
    "del df['C_kat2']\n",
    "df[['CYF_kat2','kat2']].sample(4)"
   ]
  },
  {
   "cell_type": "code",
   "execution_count": 61,
   "metadata": {},
   "outputs": [
    {
     "name": "stdout",
     "output_type": "stream",
     "text": [
      "(1154,)\n",
      "(1154,)\n"
     ]
    }
   ],
   "source": [
    "## Sprawdzenie:\n",
    "print(df['kat2'].value_counts().shape)\n",
    "print(df['CYF_kat2'].value_counts().shape)\n",
    "#print(SL_kat2)"
   ]
  },
  {
   "cell_type": "markdown",
   "metadata": {},
   "source": [
    "### <span style=\"color:blue\"> Cyfryzuje słownikowo: kat3</span>"
   ]
  },
  {
   "cell_type": "code",
   "execution_count": 62,
   "metadata": {},
   "outputs": [
    {
     "name": "stdout",
     "output_type": "stream",
     "text": [
      "(8,)\n"
     ]
    },
    {
     "data": {
      "text/plain": [
       "10320    1399940\n",
       "10300      72116\n",
       "10216      25027\n",
       "10728       2719\n",
       "10480        119\n",
       "10768         31\n",
       "11024         28\n",
       "10120         20\n",
       "Name: kat3, dtype: int64"
      ]
     },
     "execution_count": 62,
     "metadata": {},
     "output_type": "execute_result"
    }
   ],
   "source": [
    "print(df['kat3'].value_counts().shape)\n",
    "df['kat3'].value_counts()"
   ]
  },
  {
   "cell_type": "code",
   "execution_count": 63,
   "metadata": {},
   "outputs": [
    {
     "data": {
      "text/html": [
       "<div>\n",
       "<style scoped>\n",
       "    .dataframe tbody tr th:only-of-type {\n",
       "        vertical-align: middle;\n",
       "    }\n",
       "\n",
       "    .dataframe tbody tr th {\n",
       "        vertical-align: top;\n",
       "    }\n",
       "\n",
       "    .dataframe thead th {\n",
       "        text-align: right;\n",
       "    }\n",
       "</style>\n",
       "<table border=\"1\" class=\"dataframe\">\n",
       "  <thead>\n",
       "    <tr style=\"text-align: right;\">\n",
       "      <th></th>\n",
       "      <th>kat3</th>\n",
       "      <th>C_kat3</th>\n",
       "    </tr>\n",
       "  </thead>\n",
       "  <tbody>\n",
       "    <tr>\n",
       "      <td>332941</td>\n",
       "      <td>10320</td>\n",
       "      <td>3</td>\n",
       "    </tr>\n",
       "    <tr>\n",
       "      <td>1002453</td>\n",
       "      <td>10320</td>\n",
       "      <td>3</td>\n",
       "    </tr>\n",
       "  </tbody>\n",
       "</table>\n",
       "</div>"
      ],
      "text/plain": [
       "          kat3  C_kat3\n",
       "332941   10320       3\n",
       "1002453  10320       3"
      ]
     },
     "execution_count": 63,
     "metadata": {},
     "output_type": "execute_result"
    }
   ],
   "source": [
    "## Cyfryzuje przez mapowanie słownikowe:\n",
    "df['C_kat3'] = pd.Categorical(df['kat3']).codes\n",
    "df[['kat3','C_kat3']].sample(2)"
   ]
  },
  {
   "cell_type": "code",
   "execution_count": 64,
   "metadata": {},
   "outputs": [
    {
     "data": {
      "text/html": [
       "<div>\n",
       "<style scoped>\n",
       "    .dataframe tbody tr th:only-of-type {\n",
       "        vertical-align: middle;\n",
       "    }\n",
       "\n",
       "    .dataframe tbody tr th {\n",
       "        vertical-align: top;\n",
       "    }\n",
       "\n",
       "    .dataframe thead th {\n",
       "        text-align: right;\n",
       "    }\n",
       "</style>\n",
       "<table border=\"1\" class=\"dataframe\">\n",
       "  <thead>\n",
       "    <tr style=\"text-align: right;\">\n",
       "      <th></th>\n",
       "      <th>CYF_kat3</th>\n",
       "      <th>kat3</th>\n",
       "    </tr>\n",
       "  </thead>\n",
       "  <tbody>\n",
       "    <tr>\n",
       "      <td>501386</td>\n",
       "      <td>3</td>\n",
       "      <td>10320</td>\n",
       "    </tr>\n",
       "    <tr>\n",
       "      <td>237635</td>\n",
       "      <td>3</td>\n",
       "      <td>10320</td>\n",
       "    </tr>\n",
       "    <tr>\n",
       "      <td>1063786</td>\n",
       "      <td>3</td>\n",
       "      <td>10320</td>\n",
       "    </tr>\n",
       "    <tr>\n",
       "      <td>227750</td>\n",
       "      <td>3</td>\n",
       "      <td>10320</td>\n",
       "    </tr>\n",
       "  </tbody>\n",
       "</table>\n",
       "</div>"
      ],
      "text/plain": [
       "         CYF_kat3   kat3\n",
       "501386          3  10320\n",
       "237635          3  10320\n",
       "1063786         3  10320\n",
       "227750          3  10320"
      ]
     },
     "execution_count": 64,
     "metadata": {},
     "output_type": "execute_result"
    }
   ],
   "source": [
    "SL_kat3 = df.set_index('kat3')['C_kat3'].to_dict()\n",
    "#print(SL_kat1)\n",
    "df['CYF_kat3'] = df['kat3'].map(SL_kat3)\n",
    "del df['C_kat3']\n",
    "df[['CYF_kat3','kat3']].sample(4)"
   ]
  },
  {
   "cell_type": "code",
   "execution_count": 65,
   "metadata": {},
   "outputs": [
    {
     "name": "stdout",
     "output_type": "stream",
     "text": [
      "(8,)\n",
      "(8,)\n"
     ]
    }
   ],
   "source": [
    "## Sprawdzenie:\n",
    "print(df['kat3'].value_counts().shape)\n",
    "print(df['CYF_kat3'].value_counts().shape)\n",
    "#print(SL_kat3)"
   ]
  },
  {
   "cell_type": "markdown",
   "metadata": {},
   "source": [
    "### <span style=\"color:blue\"> Cyfryzuje słownikowo: kat4</span>"
   ]
  },
  {
   "cell_type": "code",
   "execution_count": 66,
   "metadata": {},
   "outputs": [
    {
     "name": "stdout",
     "output_type": "stream",
     "text": [
      "(9,)\n"
     ]
    },
    {
     "data": {
      "text/plain": [
       "10050    1407620\n",
       "10250      60036\n",
       "10036      25027\n",
       "10480       4400\n",
       "10090       2719\n",
       "10320        119\n",
       "11024         31\n",
       "10768         28\n",
       "10020         20\n",
       "Name: kat4, dtype: int64"
      ]
     },
     "execution_count": 66,
     "metadata": {},
     "output_type": "execute_result"
    }
   ],
   "source": [
    "print(df['kat4'].value_counts().shape)\n",
    "df['kat4'].value_counts()"
   ]
  },
  {
   "cell_type": "code",
   "execution_count": 67,
   "metadata": {},
   "outputs": [
    {
     "data": {
      "text/html": [
       "<div>\n",
       "<style scoped>\n",
       "    .dataframe tbody tr th:only-of-type {\n",
       "        vertical-align: middle;\n",
       "    }\n",
       "\n",
       "    .dataframe tbody tr th {\n",
       "        vertical-align: top;\n",
       "    }\n",
       "\n",
       "    .dataframe thead th {\n",
       "        text-align: right;\n",
       "    }\n",
       "</style>\n",
       "<table border=\"1\" class=\"dataframe\">\n",
       "  <thead>\n",
       "    <tr style=\"text-align: right;\">\n",
       "      <th></th>\n",
       "      <th>kat4</th>\n",
       "      <th>C_kat4</th>\n",
       "    </tr>\n",
       "  </thead>\n",
       "  <tbody>\n",
       "    <tr>\n",
       "      <td>1120569</td>\n",
       "      <td>10050</td>\n",
       "      <td>2</td>\n",
       "    </tr>\n",
       "    <tr>\n",
       "      <td>117718</td>\n",
       "      <td>10050</td>\n",
       "      <td>2</td>\n",
       "    </tr>\n",
       "  </tbody>\n",
       "</table>\n",
       "</div>"
      ],
      "text/plain": [
       "          kat4  C_kat4\n",
       "1120569  10050       2\n",
       "117718   10050       2"
      ]
     },
     "execution_count": 67,
     "metadata": {},
     "output_type": "execute_result"
    }
   ],
   "source": [
    "## Cyfryzuje przez mapowanie słownikowe:\n",
    "df['C_kat4'] = pd.Categorical(df['kat4']).codes\n",
    "df[['kat4','C_kat4']].sample(2)"
   ]
  },
  {
   "cell_type": "code",
   "execution_count": 68,
   "metadata": {},
   "outputs": [
    {
     "data": {
      "text/html": [
       "<div>\n",
       "<style scoped>\n",
       "    .dataframe tbody tr th:only-of-type {\n",
       "        vertical-align: middle;\n",
       "    }\n",
       "\n",
       "    .dataframe tbody tr th {\n",
       "        vertical-align: top;\n",
       "    }\n",
       "\n",
       "    .dataframe thead th {\n",
       "        text-align: right;\n",
       "    }\n",
       "</style>\n",
       "<table border=\"1\" class=\"dataframe\">\n",
       "  <thead>\n",
       "    <tr style=\"text-align: right;\">\n",
       "      <th></th>\n",
       "      <th>CYF_kat4</th>\n",
       "      <th>kat4</th>\n",
       "    </tr>\n",
       "  </thead>\n",
       "  <tbody>\n",
       "    <tr>\n",
       "      <td>1236327</td>\n",
       "      <td>2</td>\n",
       "      <td>10050</td>\n",
       "    </tr>\n",
       "    <tr>\n",
       "      <td>150540</td>\n",
       "      <td>2</td>\n",
       "      <td>10050</td>\n",
       "    </tr>\n",
       "    <tr>\n",
       "      <td>511945</td>\n",
       "      <td>2</td>\n",
       "      <td>10050</td>\n",
       "    </tr>\n",
       "    <tr>\n",
       "      <td>741155</td>\n",
       "      <td>2</td>\n",
       "      <td>10050</td>\n",
       "    </tr>\n",
       "  </tbody>\n",
       "</table>\n",
       "</div>"
      ],
      "text/plain": [
       "         CYF_kat4   kat4\n",
       "1236327         2  10050\n",
       "150540          2  10050\n",
       "511945          2  10050\n",
       "741155          2  10050"
      ]
     },
     "execution_count": 68,
     "metadata": {},
     "output_type": "execute_result"
    }
   ],
   "source": [
    "SL_kat4 = df.set_index('kat4')['C_kat4'].to_dict()\n",
    "#print(SL_kat4)\n",
    "df['CYF_kat4'] = df['kat4'].map(SL_kat4)\n",
    "del df['C_kat4']\n",
    "df[['CYF_kat4','kat4']].sample(4)"
   ]
  },
  {
   "cell_type": "code",
   "execution_count": 69,
   "metadata": {},
   "outputs": [
    {
     "name": "stdout",
     "output_type": "stream",
     "text": [
      "(9,)\n",
      "(9,)\n"
     ]
    }
   ],
   "source": [
    "## Sprawdzenie:\n",
    "print(df['kat4'].value_counts().shape)\n",
    "print(df['CYF_kat4'].value_counts().shape)\n",
    "#print(SL_kat4)"
   ]
  },
  {
   "cell_type": "markdown",
   "metadata": {},
   "source": [
    "### <span style=\"color:blue\"> Cyfryzuje słownikowo: kat5</span>"
   ]
  },
  {
   "cell_type": "code",
   "execution_count": 70,
   "metadata": {},
   "outputs": [
    {
     "name": "stdout",
     "output_type": "stream",
     "text": [
      "(255,)\n"
     ]
    },
    {
     "data": {
      "text/plain": [
       "11722    185074\n",
       "12502     85824\n",
       "12506     80412\n",
       "12333     51355\n",
       "12507     44929\n",
       "          ...  \n",
       "12346         3\n",
       "12375         3\n",
       "12573         2\n",
       "12541         1\n",
       "11042         1\n",
       "Name: kat5, Length: 255, dtype: int64"
      ]
     },
     "execution_count": 70,
     "metadata": {},
     "output_type": "execute_result"
    }
   ],
   "source": [
    "print(df['kat5'].value_counts().shape)\n",
    "df['kat5'].value_counts()"
   ]
  },
  {
   "cell_type": "code",
   "execution_count": 71,
   "metadata": {},
   "outputs": [
    {
     "data": {
      "text/html": [
       "<div>\n",
       "<style scoped>\n",
       "    .dataframe tbody tr th:only-of-type {\n",
       "        vertical-align: middle;\n",
       "    }\n",
       "\n",
       "    .dataframe tbody tr th {\n",
       "        vertical-align: top;\n",
       "    }\n",
       "\n",
       "    .dataframe thead th {\n",
       "        text-align: right;\n",
       "    }\n",
       "</style>\n",
       "<table border=\"1\" class=\"dataframe\">\n",
       "  <thead>\n",
       "    <tr style=\"text-align: right;\">\n",
       "      <th></th>\n",
       "      <th>kat5</th>\n",
       "      <th>C_kat5</th>\n",
       "    </tr>\n",
       "  </thead>\n",
       "  <tbody>\n",
       "    <tr>\n",
       "      <td>527332</td>\n",
       "      <td>12502</td>\n",
       "      <td>193</td>\n",
       "    </tr>\n",
       "    <tr>\n",
       "      <td>1020618</td>\n",
       "      <td>12547</td>\n",
       "      <td>232</td>\n",
       "    </tr>\n",
       "  </tbody>\n",
       "</table>\n",
       "</div>"
      ],
      "text/plain": [
       "          kat5  C_kat5\n",
       "527332   12502     193\n",
       "1020618  12547     232"
      ]
     },
     "execution_count": 71,
     "metadata": {},
     "output_type": "execute_result"
    }
   ],
   "source": [
    "## Cyfryzuje przez mapowanie słownikowe:\n",
    "df['C_kat5'] = pd.Categorical(df['kat5']).codes\n",
    "df[['kat5','C_kat5']].sample(2)"
   ]
  },
  {
   "cell_type": "code",
   "execution_count": 72,
   "metadata": {},
   "outputs": [
    {
     "data": {
      "text/html": [
       "<div>\n",
       "<style scoped>\n",
       "    .dataframe tbody tr th:only-of-type {\n",
       "        vertical-align: middle;\n",
       "    }\n",
       "\n",
       "    .dataframe tbody tr th {\n",
       "        vertical-align: top;\n",
       "    }\n",
       "\n",
       "    .dataframe thead th {\n",
       "        text-align: right;\n",
       "    }\n",
       "</style>\n",
       "<table border=\"1\" class=\"dataframe\">\n",
       "  <thead>\n",
       "    <tr style=\"text-align: right;\">\n",
       "      <th></th>\n",
       "      <th>CYF_kat5</th>\n",
       "      <th>kat5</th>\n",
       "    </tr>\n",
       "  </thead>\n",
       "  <tbody>\n",
       "    <tr>\n",
       "      <td>1207421</td>\n",
       "      <td>48</td>\n",
       "      <td>11722</td>\n",
       "    </tr>\n",
       "    <tr>\n",
       "      <td>399045</td>\n",
       "      <td>58</td>\n",
       "      <td>11863</td>\n",
       "    </tr>\n",
       "    <tr>\n",
       "      <td>2026</td>\n",
       "      <td>185</td>\n",
       "      <td>12493</td>\n",
       "    </tr>\n",
       "    <tr>\n",
       "      <td>1120616</td>\n",
       "      <td>1</td>\n",
       "      <td>10122</td>\n",
       "    </tr>\n",
       "  </tbody>\n",
       "</table>\n",
       "</div>"
      ],
      "text/plain": [
       "         CYF_kat5   kat5\n",
       "1207421        48  11722\n",
       "399045         58  11863\n",
       "2026          185  12493\n",
       "1120616         1  10122"
      ]
     },
     "execution_count": 72,
     "metadata": {},
     "output_type": "execute_result"
    }
   ],
   "source": [
    "SL_kat5 = df.set_index('kat5')['C_kat5'].to_dict()\n",
    "#print(SL_kat5)\n",
    "df['CYF_kat5'] = df['kat5'].map(SL_kat5)\n",
    "del df['C_kat5']\n",
    "df[['CYF_kat5','kat5']].sample(4)"
   ]
  },
  {
   "cell_type": "code",
   "execution_count": 73,
   "metadata": {},
   "outputs": [
    {
     "name": "stdout",
     "output_type": "stream",
     "text": [
      "(255,)\n",
      "(255,)\n"
     ]
    }
   ],
   "source": [
    "## Sprawdzenie:\n",
    "print(df['kat5'].value_counts().shape)\n",
    "print(df['CYF_kat5'].value_counts().shape)\n",
    "#print(SL_kat5)"
   ]
  },
  {
   "cell_type": "markdown",
   "metadata": {},
   "source": [
    "### <span style=\"color:blue\"> Cyfryzuje słownikowo: kat6</span>"
   ]
  },
  {
   "cell_type": "code",
   "execution_count": 74,
   "metadata": {},
   "outputs": [
    {
     "name": "stdout",
     "output_type": "stream",
     "text": [
      "(4,)\n"
     ]
    },
    {
     "data": {
      "text/plain": [
       "10    719535\n",
       "13    500697\n",
       "12    233205\n",
       "11     46563\n",
       "Name: kat6, dtype: int64"
      ]
     },
     "execution_count": 74,
     "metadata": {},
     "output_type": "execute_result"
    }
   ],
   "source": [
    "print(df['kat6'].value_counts().shape)\n",
    "df['kat6'].value_counts()"
   ]
  },
  {
   "cell_type": "code",
   "execution_count": 75,
   "metadata": {},
   "outputs": [
    {
     "data": {
      "text/html": [
       "<div>\n",
       "<style scoped>\n",
       "    .dataframe tbody tr th:only-of-type {\n",
       "        vertical-align: middle;\n",
       "    }\n",
       "\n",
       "    .dataframe tbody tr th {\n",
       "        vertical-align: top;\n",
       "    }\n",
       "\n",
       "    .dataframe thead th {\n",
       "        text-align: right;\n",
       "    }\n",
       "</style>\n",
       "<table border=\"1\" class=\"dataframe\">\n",
       "  <thead>\n",
       "    <tr style=\"text-align: right;\">\n",
       "      <th></th>\n",
       "      <th>kat6</th>\n",
       "      <th>C_kat6</th>\n",
       "    </tr>\n",
       "  </thead>\n",
       "  <tbody>\n",
       "    <tr>\n",
       "      <td>1257385</td>\n",
       "      <td>13</td>\n",
       "      <td>3</td>\n",
       "    </tr>\n",
       "    <tr>\n",
       "      <td>881258</td>\n",
       "      <td>10</td>\n",
       "      <td>0</td>\n",
       "    </tr>\n",
       "  </tbody>\n",
       "</table>\n",
       "</div>"
      ],
      "text/plain": [
       "         kat6  C_kat6\n",
       "1257385    13       3\n",
       "881258     10       0"
      ]
     },
     "execution_count": 75,
     "metadata": {},
     "output_type": "execute_result"
    }
   ],
   "source": [
    "## Cyfryzuje przez mapowanie słownikowe:\n",
    "df['C_kat6'] = pd.Categorical(df['kat6']).codes\n",
    "df[['kat6','C_kat6']].sample(2)"
   ]
  },
  {
   "cell_type": "code",
   "execution_count": 76,
   "metadata": {},
   "outputs": [
    {
     "name": "stdout",
     "output_type": "stream",
     "text": [
      "{13: 3, 10: 0, 12: 2, 11: 1}\n"
     ]
    },
    {
     "data": {
      "text/html": [
       "<div>\n",
       "<style scoped>\n",
       "    .dataframe tbody tr th:only-of-type {\n",
       "        vertical-align: middle;\n",
       "    }\n",
       "\n",
       "    .dataframe tbody tr th {\n",
       "        vertical-align: top;\n",
       "    }\n",
       "\n",
       "    .dataframe thead th {\n",
       "        text-align: right;\n",
       "    }\n",
       "</style>\n",
       "<table border=\"1\" class=\"dataframe\">\n",
       "  <thead>\n",
       "    <tr style=\"text-align: right;\">\n",
       "      <th></th>\n",
       "      <th>CYF_kat6</th>\n",
       "      <th>kat6</th>\n",
       "    </tr>\n",
       "  </thead>\n",
       "  <tbody>\n",
       "    <tr>\n",
       "      <td>738563</td>\n",
       "      <td>0</td>\n",
       "      <td>10</td>\n",
       "    </tr>\n",
       "    <tr>\n",
       "      <td>481990</td>\n",
       "      <td>0</td>\n",
       "      <td>10</td>\n",
       "    </tr>\n",
       "    <tr>\n",
       "      <td>936720</td>\n",
       "      <td>0</td>\n",
       "      <td>10</td>\n",
       "    </tr>\n",
       "    <tr>\n",
       "      <td>715266</td>\n",
       "      <td>0</td>\n",
       "      <td>10</td>\n",
       "    </tr>\n",
       "  </tbody>\n",
       "</table>\n",
       "</div>"
      ],
      "text/plain": [
       "        CYF_kat6  kat6\n",
       "738563         0    10\n",
       "481990         0    10\n",
       "936720         0    10\n",
       "715266         0    10"
      ]
     },
     "execution_count": 76,
     "metadata": {},
     "output_type": "execute_result"
    }
   ],
   "source": [
    "SL_kat6 = df.set_index('kat6')['C_kat6'].to_dict()\n",
    "print(SL_kat6)\n",
    "df['CYF_kat6'] = df['kat6'].map(SL_kat6)\n",
    "del df['C_kat6']\n",
    "df[['CYF_kat6','kat6']].sample(4)"
   ]
  },
  {
   "cell_type": "code",
   "execution_count": 77,
   "metadata": {},
   "outputs": [
    {
     "name": "stdout",
     "output_type": "stream",
     "text": [
      "(4,)\n",
      "(4,)\n",
      "{13: 3, 10: 0, 12: 2, 11: 1}\n"
     ]
    }
   ],
   "source": [
    "## Sprawdzenie:\n",
    "print(df['kat6'].value_counts().shape)\n",
    "print(df['CYF_kat6'].value_counts().shape)\n",
    "print(SL_kat6)"
   ]
  },
  {
   "cell_type": "markdown",
   "metadata": {},
   "source": [
    "### <span style=\"color:blue\"> Cyfryzuje słownikowo: kat7</span>"
   ]
  },
  {
   "cell_type": "code",
   "execution_count": 78,
   "metadata": {},
   "outputs": [
    {
     "name": "stdout",
     "output_type": "stream",
     "text": [
      "(53,)\n"
     ]
    },
    {
     "data": {
      "text/plain": [
       "10035    614228\n",
       "10039    313082\n",
       "10167     86839\n",
       "11327     43893\n",
       "10047     35977\n",
       "10297     34234\n",
       "10679     34150\n",
       "10687     28886\n",
       "10547     24325\n",
       "10169     23889\n",
       "10161     23404\n",
       "10431     22473\n",
       "11063     21152\n",
       "11319     20073\n",
       "10163     18192\n",
       "10303     16791\n",
       "10171     15352\n",
       "10041     14383\n",
       "11451     12520\n",
       "10175     12143\n",
       "10809      9905\n",
       "10034      8508\n",
       "10427      7670\n",
       "10675      7461\n",
       "10043      6834\n",
       "10299      6796\n",
       "10811      5435\n",
       "11059      5213\n",
       "11711      4351\n",
       "10291      3653\n",
       "10551      2851\n",
       "10813      2484\n",
       "10423      2074\n",
       "11835      1844\n",
       "10681      1370\n",
       "10033      1065\n",
       "11315       955\n",
       "10801       777\n",
       "10937       773\n",
       "10553       760\n",
       "10417       678\n",
       "10943       650\n",
       "10673       621\n",
       "10425       569\n",
       "10559       218\n",
       "10045       188\n",
       "11071       112\n",
       "10555        82\n",
       "10683        66\n",
       "10295        18\n",
       "10545        16\n",
       "11447        15\n",
       "10419         2\n",
       "Name: kat7, dtype: int64"
      ]
     },
     "execution_count": 78,
     "metadata": {},
     "output_type": "execute_result"
    }
   ],
   "source": [
    "print(df['kat7'].value_counts().shape)\n",
    "df['kat7'].value_counts()"
   ]
  },
  {
   "cell_type": "code",
   "execution_count": 79,
   "metadata": {},
   "outputs": [
    {
     "data": {
      "text/html": [
       "<div>\n",
       "<style scoped>\n",
       "    .dataframe tbody tr th:only-of-type {\n",
       "        vertical-align: middle;\n",
       "    }\n",
       "\n",
       "    .dataframe tbody tr th {\n",
       "        vertical-align: top;\n",
       "    }\n",
       "\n",
       "    .dataframe thead th {\n",
       "        text-align: right;\n",
       "    }\n",
       "</style>\n",
       "<table border=\"1\" class=\"dataframe\">\n",
       "  <thead>\n",
       "    <tr style=\"text-align: right;\">\n",
       "      <th></th>\n",
       "      <th>kat7</th>\n",
       "      <th>C_kat7</th>\n",
       "    </tr>\n",
       "  </thead>\n",
       "  <tbody>\n",
       "    <tr>\n",
       "      <td>102449</td>\n",
       "      <td>10167</td>\n",
       "      <td>10</td>\n",
       "    </tr>\n",
       "    <tr>\n",
       "      <td>112695</td>\n",
       "      <td>10167</td>\n",
       "      <td>10</td>\n",
       "    </tr>\n",
       "  </tbody>\n",
       "</table>\n",
       "</div>"
      ],
      "text/plain": [
       "         kat7  C_kat7\n",
       "102449  10167      10\n",
       "112695  10167      10"
      ]
     },
     "execution_count": 79,
     "metadata": {},
     "output_type": "execute_result"
    }
   ],
   "source": [
    "## Cyfryzuje przez mapowanie słownikowe:\n",
    "df['C_kat7'] = pd.Categorical(df['kat7']).codes\n",
    "df[['kat7','C_kat7']].sample(2)"
   ]
  },
  {
   "cell_type": "code",
   "execution_count": 80,
   "metadata": {},
   "outputs": [
    {
     "name": "stdout",
     "output_type": "stream",
     "text": [
      "{10427: 23, 10035: 2, 10039: 3, 10687: 36, 10551: 27, 11711: 51, 11835: 52, 10303: 18, 10163: 9, 10297: 16, 10047: 7, 10167: 10, 10801: 37, 10171: 12, 11063: 44, 10175: 13, 10813: 40, 10431: 24, 10041: 4, 11451: 50, 10043: 5, 10291: 14, 11319: 47, 10673: 31, 10681: 34, 11315: 46, 10161: 8, 10683: 35, 10169: 11, 10679: 33, 10943: 42, 11071: 45, 10559: 30, 11327: 48, 10547: 26, 10423: 21, 10425: 22, 10299: 17, 10033: 0, 10034: 1, 10295: 15, 10553: 28, 11447: 49, 10811: 39, 10555: 29, 10675: 32, 11059: 43, 10809: 38, 10937: 41, 10045: 6, 10417: 19, 10545: 25, 10419: 20}\n"
     ]
    },
    {
     "data": {
      "text/html": [
       "<div>\n",
       "<style scoped>\n",
       "    .dataframe tbody tr th:only-of-type {\n",
       "        vertical-align: middle;\n",
       "    }\n",
       "\n",
       "    .dataframe tbody tr th {\n",
       "        vertical-align: top;\n",
       "    }\n",
       "\n",
       "    .dataframe thead th {\n",
       "        text-align: right;\n",
       "    }\n",
       "</style>\n",
       "<table border=\"1\" class=\"dataframe\">\n",
       "  <thead>\n",
       "    <tr style=\"text-align: right;\">\n",
       "      <th></th>\n",
       "      <th>CYF_kat7</th>\n",
       "      <th>kat7</th>\n",
       "    </tr>\n",
       "  </thead>\n",
       "  <tbody>\n",
       "    <tr>\n",
       "      <td>208416</td>\n",
       "      <td>2</td>\n",
       "      <td>10035</td>\n",
       "    </tr>\n",
       "    <tr>\n",
       "      <td>1455339</td>\n",
       "      <td>4</td>\n",
       "      <td>10041</td>\n",
       "    </tr>\n",
       "    <tr>\n",
       "      <td>970333</td>\n",
       "      <td>11</td>\n",
       "      <td>10169</td>\n",
       "    </tr>\n",
       "    <tr>\n",
       "      <td>535410</td>\n",
       "      <td>7</td>\n",
       "      <td>10047</td>\n",
       "    </tr>\n",
       "  </tbody>\n",
       "</table>\n",
       "</div>"
      ],
      "text/plain": [
       "         CYF_kat7   kat7\n",
       "208416          2  10035\n",
       "1455339         4  10041\n",
       "970333         11  10169\n",
       "535410          7  10047"
      ]
     },
     "execution_count": 80,
     "metadata": {},
     "output_type": "execute_result"
    }
   ],
   "source": [
    "SL_kat7 = df.set_index('kat7')['C_kat7'].to_dict()\n",
    "print(SL_kat7)\n",
    "df['CYF_kat7'] = df['kat7'].map(SL_kat7)\n",
    "del df['C_kat7']\n",
    "df[['CYF_kat7','kat7']].sample(4)"
   ]
  },
  {
   "cell_type": "code",
   "execution_count": 81,
   "metadata": {},
   "outputs": [
    {
     "name": "stdout",
     "output_type": "stream",
     "text": [
      "(53,)\n",
      "(53,)\n"
     ]
    }
   ],
   "source": [
    "## Sprawdzenie:\n",
    "print(df['kat7'].value_counts().shape)\n",
    "print(df['CYF_kat7'].value_counts().shape)\n",
    "#print(SL_kat7)"
   ]
  },
  {
   "cell_type": "markdown",
   "metadata": {},
   "source": [
    "### <span style=\"color:blue\"> Cyfryzuje słownikowo: kat8</span>"
   ]
  },
  {
   "cell_type": "code",
   "execution_count": 82,
   "metadata": {},
   "outputs": [
    {
     "name": "stdout",
     "output_type": "stream",
     "text": [
      "(165,)\n"
     ]
    },
    {
     "data": {
      "text/plain": [
       "-1         751710\n",
       " 100084     91087\n",
       " 100111     69056\n",
       " 100148     60905\n",
       " 100077     54414\n",
       "            ...  \n",
       " 100100         1\n",
       " 100157         1\n",
       " 100246         1\n",
       " 100186         1\n",
       " 100209         1\n",
       "Name: kat8, Length: 165, dtype: int64"
      ]
     },
     "execution_count": 82,
     "metadata": {},
     "output_type": "execute_result"
    }
   ],
   "source": [
    "print(df['kat8'].value_counts().shape)\n",
    "df['kat8'].value_counts()"
   ]
  },
  {
   "cell_type": "code",
   "execution_count": 83,
   "metadata": {},
   "outputs": [
    {
     "data": {
      "text/html": [
       "<div>\n",
       "<style scoped>\n",
       "    .dataframe tbody tr th:only-of-type {\n",
       "        vertical-align: middle;\n",
       "    }\n",
       "\n",
       "    .dataframe tbody tr th {\n",
       "        vertical-align: top;\n",
       "    }\n",
       "\n",
       "    .dataframe thead th {\n",
       "        text-align: right;\n",
       "    }\n",
       "</style>\n",
       "<table border=\"1\" class=\"dataframe\">\n",
       "  <thead>\n",
       "    <tr style=\"text-align: right;\">\n",
       "      <th></th>\n",
       "      <th>kat8</th>\n",
       "      <th>C_kat8</th>\n",
       "    </tr>\n",
       "  </thead>\n",
       "  <tbody>\n",
       "    <tr>\n",
       "      <td>58737</td>\n",
       "      <td>100111</td>\n",
       "      <td>83</td>\n",
       "    </tr>\n",
       "    <tr>\n",
       "      <td>343443</td>\n",
       "      <td>-1</td>\n",
       "      <td>0</td>\n",
       "    </tr>\n",
       "  </tbody>\n",
       "</table>\n",
       "</div>"
      ],
      "text/plain": [
       "          kat8  C_kat8\n",
       "58737   100111      83\n",
       "343443      -1       0"
      ]
     },
     "execution_count": 83,
     "metadata": {},
     "output_type": "execute_result"
    }
   ],
   "source": [
    "## Cyfryzuje przez mapowanie słownikowe:\n",
    "df['C_kat8'] = pd.Categorical(df['kat8']).codes\n",
    "df[['kat8','C_kat8']].sample(2)"
   ]
  },
  {
   "cell_type": "code",
   "execution_count": 84,
   "metadata": {},
   "outputs": [
    {
     "data": {
      "text/html": [
       "<div>\n",
       "<style scoped>\n",
       "    .dataframe tbody tr th:only-of-type {\n",
       "        vertical-align: middle;\n",
       "    }\n",
       "\n",
       "    .dataframe tbody tr th {\n",
       "        vertical-align: top;\n",
       "    }\n",
       "\n",
       "    .dataframe thead th {\n",
       "        text-align: right;\n",
       "    }\n",
       "</style>\n",
       "<table border=\"1\" class=\"dataframe\">\n",
       "  <thead>\n",
       "    <tr style=\"text-align: right;\">\n",
       "      <th></th>\n",
       "      <th>CYF_kat8</th>\n",
       "      <th>kat8</th>\n",
       "    </tr>\n",
       "  </thead>\n",
       "  <tbody>\n",
       "    <tr>\n",
       "      <td>1226777</td>\n",
       "      <td>0</td>\n",
       "      <td>-1</td>\n",
       "    </tr>\n",
       "    <tr>\n",
       "      <td>744888</td>\n",
       "      <td>0</td>\n",
       "      <td>-1</td>\n",
       "    </tr>\n",
       "    <tr>\n",
       "      <td>1053285</td>\n",
       "      <td>62</td>\n",
       "      <td>100084</td>\n",
       "    </tr>\n",
       "    <tr>\n",
       "      <td>1138895</td>\n",
       "      <td>55</td>\n",
       "      <td>100075</td>\n",
       "    </tr>\n",
       "  </tbody>\n",
       "</table>\n",
       "</div>"
      ],
      "text/plain": [
       "         CYF_kat8    kat8\n",
       "1226777         0      -1\n",
       "744888          0      -1\n",
       "1053285        62  100084\n",
       "1138895        55  100075"
      ]
     },
     "execution_count": 84,
     "metadata": {},
     "output_type": "execute_result"
    }
   ],
   "source": [
    "SL_kat8 = df.set_index('kat8')['C_kat8'].to_dict()\n",
    "#print(SL_kat8)\n",
    "df['CYF_kat8'] = df['kat8'].map(SL_kat8)\n",
    "del df['C_kat8']\n",
    "df[['CYF_kat8','kat8']].sample(4)"
   ]
  },
  {
   "cell_type": "code",
   "execution_count": 85,
   "metadata": {},
   "outputs": [
    {
     "name": "stdout",
     "output_type": "stream",
     "text": [
      "(165,)\n",
      "(165,)\n"
     ]
    }
   ],
   "source": [
    "## Sprawdzenie:\n",
    "print(df['kat8'].value_counts().shape)\n",
    "print(df['CYF_kat8'].value_counts().shape)\n",
    "#print(SL_kat8)"
   ]
  },
  {
   "cell_type": "markdown",
   "metadata": {},
   "source": [
    "### <span style=\"color:blue\"> Cyfryzuje słownikowo: kat9</span>"
   ]
  },
  {
   "cell_type": "code",
   "execution_count": 86,
   "metadata": {},
   "outputs": [
    {
     "name": "stdout",
     "output_type": "stream",
     "text": [
      "(45,)\n"
     ]
    },
    {
     "data": {
      "text/plain": [
       "23     228233\n",
       "79     191767\n",
       "221    184996\n",
       "157    183166\n",
       "61      83266\n",
       "48      74914\n",
       "32      74062\n",
       "15      60896\n",
       "33      44226\n",
       "43      42879\n",
       "117     37377\n",
       "71      34348\n",
       "68      30171\n",
       "52      24476\n",
       "51      24325\n",
       "42      22842\n",
       "13      21540\n",
       "156     18613\n",
       "46      15240\n",
       "111     13981\n",
       "91      12648\n",
       "69      10548\n",
       "90       9631\n",
       "16       9195\n",
       "17       8382\n",
       "110      6838\n",
       "112      6164\n",
       "95       5272\n",
       "35       4667\n",
       "100      3102\n",
       "101      2767\n",
       "82       2197\n",
       "194      1411\n",
       "116      1222\n",
       "20       1107\n",
       "159      1026\n",
       "163       678\n",
       "93        643\n",
       "94        434\n",
       "195       360\n",
       "70        218\n",
       "102        82\n",
       "85         59\n",
       "219        29\n",
       "178         2\n",
       "Name: kat9, dtype: int64"
      ]
     },
     "execution_count": 86,
     "metadata": {},
     "output_type": "execute_result"
    }
   ],
   "source": [
    "print(df['kat9'].value_counts().shape)\n",
    "df['kat9'].value_counts()"
   ]
  },
  {
   "cell_type": "code",
   "execution_count": 87,
   "metadata": {},
   "outputs": [
    {
     "data": {
      "text/html": [
       "<div>\n",
       "<style scoped>\n",
       "    .dataframe tbody tr th:only-of-type {\n",
       "        vertical-align: middle;\n",
       "    }\n",
       "\n",
       "    .dataframe tbody tr th {\n",
       "        vertical-align: top;\n",
       "    }\n",
       "\n",
       "    .dataframe thead th {\n",
       "        text-align: right;\n",
       "    }\n",
       "</style>\n",
       "<table border=\"1\" class=\"dataframe\">\n",
       "  <thead>\n",
       "    <tr style=\"text-align: right;\">\n",
       "      <th></th>\n",
       "      <th>kat9</th>\n",
       "      <th>C_kat9</th>\n",
       "    </tr>\n",
       "  </thead>\n",
       "  <tbody>\n",
       "    <tr>\n",
       "      <td>201997</td>\n",
       "      <td>221</td>\n",
       "      <td>44</td>\n",
       "    </tr>\n",
       "    <tr>\n",
       "      <td>203754</td>\n",
       "      <td>32</td>\n",
       "      <td>6</td>\n",
       "    </tr>\n",
       "  </tbody>\n",
       "</table>\n",
       "</div>"
      ],
      "text/plain": [
       "        kat9  C_kat9\n",
       "201997   221      44\n",
       "203754    32       6"
      ]
     },
     "execution_count": 87,
     "metadata": {},
     "output_type": "execute_result"
    }
   ],
   "source": [
    "## Cyfryzuje przez mapowanie słownikowe:\n",
    "df['C_kat9'] = pd.Categorical(df['kat9']).codes\n",
    "df[['kat9','C_kat9']].sample(2)"
   ]
  },
  {
   "cell_type": "code",
   "execution_count": 88,
   "metadata": {},
   "outputs": [
    {
     "data": {
      "text/html": [
       "<div>\n",
       "<style scoped>\n",
       "    .dataframe tbody tr th:only-of-type {\n",
       "        vertical-align: middle;\n",
       "    }\n",
       "\n",
       "    .dataframe tbody tr th {\n",
       "        vertical-align: top;\n",
       "    }\n",
       "\n",
       "    .dataframe thead th {\n",
       "        text-align: right;\n",
       "    }\n",
       "</style>\n",
       "<table border=\"1\" class=\"dataframe\">\n",
       "  <thead>\n",
       "    <tr style=\"text-align: right;\">\n",
       "      <th></th>\n",
       "      <th>CYF_kat9</th>\n",
       "      <th>kat9</th>\n",
       "    </tr>\n",
       "  </thead>\n",
       "  <tbody>\n",
       "    <tr>\n",
       "      <td>1294303</td>\n",
       "      <td>15</td>\n",
       "      <td>61</td>\n",
       "    </tr>\n",
       "    <tr>\n",
       "      <td>812824</td>\n",
       "      <td>20</td>\n",
       "      <td>79</td>\n",
       "    </tr>\n",
       "    <tr>\n",
       "      <td>1152570</td>\n",
       "      <td>6</td>\n",
       "      <td>32</td>\n",
       "    </tr>\n",
       "    <tr>\n",
       "      <td>1258183</td>\n",
       "      <td>20</td>\n",
       "      <td>79</td>\n",
       "    </tr>\n",
       "  </tbody>\n",
       "</table>\n",
       "</div>"
      ],
      "text/plain": [
       "         CYF_kat9  kat9\n",
       "1294303        15    61\n",
       "812824         20    79\n",
       "1152570         6    32\n",
       "1258183        20    79"
      ]
     },
     "execution_count": 88,
     "metadata": {},
     "output_type": "execute_result"
    }
   ],
   "source": [
    "SL_kat9 = df.set_index('kat9')['C_kat9'].to_dict()\n",
    "#print(SL_kat9)\n",
    "df['CYF_kat9'] = df['kat9'].map(SL_kat9)\n",
    "del df['C_kat9']\n",
    "df[['CYF_kat9','kat9']].sample(4)"
   ]
  },
  {
   "cell_type": "code",
   "execution_count": 89,
   "metadata": {},
   "outputs": [
    {
     "name": "stdout",
     "output_type": "stream",
     "text": [
      "(45,)\n",
      "(45,)\n"
     ]
    }
   ],
   "source": [
    "## Sprawdzenie:\n",
    "print(df['kat9'].value_counts().shape)\n",
    "print(df['CYF_kat9'].value_counts().shape)\n",
    "#print(SL_kat9)"
   ]
  },
  {
   "cell_type": "markdown",
   "metadata": {},
   "source": [
    "<span style=\"color:blue\">Wszystkie piowyższe zmienne dyskretne trzeba bðzie przerobić na cyfry. Problem polega na tym, że trzeba to zrobić przez słownik, ponieważ te przyporządkowanie musi pasowac do innego zbioru \"Do zgłoszenia\".\n",
    "Ciekawe co zrobić, jak zmienne dyskretne nie będą te same w zbiorze uczącym i co zmienne  w zbiorze \"do zgłoszenia\"\n",
    "</span>"
   ]
  },
  {
   "cell_type": "code",
   "execution_count": 90,
   "metadata": {},
   "outputs": [
    {
     "data": {
      "text/plain": [
       "id                          int64\n",
       "klik                        int64\n",
       "data_godzina                int64\n",
       "baner_pozycja               int64\n",
       "strona_id                  object\n",
       "strona_domena              object\n",
       "strona_kategoria           object\n",
       "aplikacja_id               object\n",
       "aplikacja_domena           object\n",
       "aplikacja_kategoria        object\n",
       "urz_id                     object\n",
       "urz_ip                     object\n",
       "urz_model                  object\n",
       "urz_typ                     int64\n",
       "urz_polaczenie              int64\n",
       "kat1                        int64\n",
       "kat2                        int64\n",
       "kat3                        int64\n",
       "kat4                        int64\n",
       "kat5                        int64\n",
       "kat6                        int64\n",
       "kat7                        int64\n",
       "kat8                        int64\n",
       "kat9                        int64\n",
       "CYF_data_godzina            int64\n",
       "CYF_baner_pozycja           int64\n",
       "CYF_strona_id               int64\n",
       "CYF_strona_domena           int64\n",
       "CYF_strona_kategoria        int64\n",
       "CYF_aplikacja_id            int64\n",
       "CYF_aplikacja_domena        int64\n",
       "CYF_aplikacja_kategoria     int64\n",
       "CYF_urz_id                  int64\n",
       "CYF_urz_ip                  int64\n",
       "CYF_urz_model               int64\n",
       "CYF_urz_typ                 int64\n",
       "CYF_urz_polaczenie          int64\n",
       "CYF_kat1                    int64\n",
       "CYF_kat2                    int64\n",
       "CYF_kat3                    int64\n",
       "CYF_kat4                    int64\n",
       "CYF_kat5                    int64\n",
       "CYF_kat6                    int64\n",
       "CYF_kat7                    int64\n",
       "CYF_kat8                    int64\n",
       "CYF_kat9                    int64\n",
       "dtype: object"
      ]
     },
     "execution_count": 90,
     "metadata": {},
     "output_type": "execute_result"
    }
   ],
   "source": [
    "df['klik'] = df.klik.astype('int64')\n",
    "df.dtypes"
   ]
  },
  {
   "cell_type": "markdown",
   "metadata": {},
   "source": [
    "### <span style=\"color:blue\">Wybór zmiennych do analizy</span>"
   ]
  },
  {
   "cell_type": "code",
   "execution_count": 91,
   "metadata": {},
   "outputs": [],
   "source": [
    "df2 = df[['klik','CYF_data_godzina', 'CYF_baner_pozycja',\n",
    "       'CYF_strona_id', 'CYF_strona_domena', 'CYF_strona_kategoria',\n",
    "       'CYF_aplikacja_id', 'CYF_aplikacja_domena', 'CYF_aplikacja_kategoria',\n",
    "       'CYF_urz_id', 'CYF_urz_ip', 'CYF_urz_model', 'CYF_urz_typ',\n",
    "       'CYF_urz_polaczenie', 'CYF_kat1', 'CYF_kat2', 'CYF_kat3', 'CYF_kat4',\n",
    "       'CYF_kat5', 'CYF_kat6', 'CYF_kat7', 'CYF_kat8', 'CYF_kat9']]"
   ]
  },
  {
   "cell_type": "raw",
   "metadata": {},
   "source": [
    "df2 = df[['klik','CYF_kat4','CYF_aplikacja_id','CYF_aplikacja_kategoria','CYF_kat2','CYF_kat5','CYF_kat3']]"
   ]
  },
  {
   "cell_type": "code",
   "execution_count": 92,
   "metadata": {},
   "outputs": [
    {
     "data": {
      "text/plain": [
       "klik                       int64\n",
       "CYF_data_godzina           int64\n",
       "CYF_baner_pozycja          int64\n",
       "CYF_strona_id              int64\n",
       "CYF_strona_domena          int64\n",
       "CYF_strona_kategoria       int64\n",
       "CYF_aplikacja_id           int64\n",
       "CYF_aplikacja_domena       int64\n",
       "CYF_aplikacja_kategoria    int64\n",
       "CYF_urz_id                 int64\n",
       "CYF_urz_ip                 int64\n",
       "CYF_urz_model              int64\n",
       "CYF_urz_typ                int64\n",
       "CYF_urz_polaczenie         int64\n",
       "CYF_kat1                   int64\n",
       "CYF_kat2                   int64\n",
       "CYF_kat3                   int64\n",
       "CYF_kat4                   int64\n",
       "CYF_kat5                   int64\n",
       "CYF_kat6                   int64\n",
       "CYF_kat7                   int64\n",
       "CYF_kat8                   int64\n",
       "CYF_kat9                   int64\n",
       "dtype: object"
      ]
     },
     "execution_count": 92,
     "metadata": {},
     "output_type": "execute_result"
    }
   ],
   "source": [
    "df2.dtypes"
   ]
  },
  {
   "cell_type": "markdown",
   "metadata": {},
   "source": [
    "### <span style=\"color:blue\">Podział na zbiór testowy i wynikowy</span>"
   ]
  },
  {
   "cell_type": "code",
   "execution_count": 93,
   "metadata": {},
   "outputs": [],
   "source": [
    "y = df2['klik']\n",
    "X = df2.drop('klik', axis=1)"
   ]
  },
  {
   "cell_type": "code",
   "execution_count": 94,
   "metadata": {},
   "outputs": [
    {
     "name": "stdout",
     "output_type": "stream",
     "text": [
      "Zbiór X treningowy:  (1005000, 22)\n",
      "Zbiór X testowy:     (495000, 22)\n",
      "Zbiór y treningowy:  (1005000,)\n",
      "Zbiór y testowy:     (495000,)\n"
     ]
    }
   ],
   "source": [
    "from sklearn.model_selection import train_test_split \n",
    "Xtrain, Xtest, ytrain, ytest = train_test_split(X,y, test_size=0.33, stratify = y, random_state = 148)\n",
    "\n",
    "print ('Zbiór X treningowy: ',Xtrain.shape)\n",
    "print ('Zbiór X testowy:    ', Xtest.shape)\n",
    "print ('Zbiór y treningowy: ', ytrain.shape)\n",
    "print ('Zbiór y testowy:    ', ytest.shape)"
   ]
  },
  {
   "cell_type": "markdown",
   "metadata": {},
   "source": [
    "### <span style=\"color:blue\">OVERSAMPLING</span>"
   ]
  },
  {
   "cell_type": "code",
   "execution_count": 95,
   "metadata": {},
   "outputs": [
    {
     "name": "stdout",
     "output_type": "stream",
     "text": [
      "ytrain = 0:  834052\n",
      "ytrain = 1:  170948\n"
     ]
    }
   ],
   "source": [
    "print(\"ytrain = 0: \", sum(ytrain == 0))\n",
    "print(\"ytrain = 1: \", sum(ytrain == 1))"
   ]
  },
  {
   "cell_type": "code",
   "execution_count": 96,
   "metadata": {},
   "outputs": [
    {
     "name": "stdout",
     "output_type": "stream",
     "text": [
      "Ilość -0 klik na -1 klik:  5\n"
     ]
    }
   ],
   "source": [
    "Proporcja = sum(ytrain == 0) / sum(ytrain == 1) \n",
    "Proporcja = np.round(Proporcja, decimals=0)\n",
    "Proporcja = Proporcja.astype(int)\n",
    "print('Ilość -0 klik na -1 klik: ', Proporcja)"
   ]
  },
  {
   "cell_type": "code",
   "execution_count": 97,
   "metadata": {},
   "outputs": [
    {
     "data": {
      "text/plain": [
       "854740"
      ]
     },
     "execution_count": 97,
     "metadata": {},
     "output_type": "execute_result"
    }
   ],
   "source": [
    "ytrain_OV = pd.concat([ytrain[ytrain==1]] * Proporcja, axis = 0) \n",
    "ytrain_OV.count()"
   ]
  },
  {
   "cell_type": "markdown",
   "metadata": {},
   "source": [
    "Powiękrzyliśmy ilość zmiennych wynikowych 1. Teraz mamy tę samą liczbę wierszy zmiennych wynikowych i zmiennych niezależnych. Teraz wprowadzamy nowe, dodatkowe zmienne 1 do zbioru treningowego."
   ]
  },
  {
   "cell_type": "code",
   "execution_count": 98,
   "metadata": {},
   "outputs": [
    {
     "data": {
      "text/plain": [
       "854740"
      ]
     },
     "execution_count": 98,
     "metadata": {},
     "output_type": "execute_result"
    }
   ],
   "source": [
    "Xtrain_OV = pd.concat([Xtrain.loc[ytrain==1, :]] * Proporcja, axis = 0)\n",
    "ytrain_OV.count()"
   ]
  },
  {
   "cell_type": "code",
   "execution_count": 99,
   "metadata": {},
   "outputs": [
    {
     "name": "stdout",
     "output_type": "stream",
     "text": [
      "ilość elementów w zbiorze Xtrain:      1005000\n",
      "ilość elementów w zbiorze Xtrain_OV:   1859740\n",
      "ilość elementów w zbiorze ytrain:      1005000\n",
      "ilość elementów w zbiorze ytrain_OV:   1859740\n"
     ]
    }
   ],
   "source": [
    "ytrain_OV = pd.concat([ytrain, ytrain_OV], axis = 0).reset_index(drop = True)\n",
    "Xtrain_OV = pd.concat([Xtrain, Xtrain_OV], axis = 0).reset_index(drop = True)\n",
    "\n",
    "print(\"ilość elementów w zbiorze Xtrain:     \", Xtrain.CYF_kat5.count())\n",
    "print(\"ilość elementów w zbiorze Xtrain_OV:  \", Xtrain_OV.CYF_kat5.count())\n",
    "print(\"ilość elementów w zbiorze ytrain:     \", ytrain.count())\n",
    "print(\"ilość elementów w zbiorze ytrain_OV:  \", ytrain_OV.count())"
   ]
  },
  {
   "cell_type": "markdown",
   "metadata": {},
   "source": [
    "Poziom zbilansowania zbioru wynikowego:"
   ]
  },
  {
   "cell_type": "code",
   "execution_count": 100,
   "metadata": {},
   "outputs": [
    {
     "data": {
      "text/plain": [
       "<matplotlib.axes._subplots.AxesSubplot at 0x7fa7543a8150>"
      ]
     },
     "execution_count": 100,
     "metadata": {},
     "output_type": "execute_result"
    },
    {
     "data": {
      "image/png": "[encoded data removed]",
      "text/plain": [
       "<Figure size 432x288 with 1 Axes>"
      ]
     },
     "metadata": {},
     "output_type": "display_data"
    }
   ],
   "source": [
    "ytrain_OV.value_counts(dropna = False, normalize=True).plot(kind='pie')"
   ]
  },
  {
   "cell_type": "markdown",
   "metadata": {},
   "source": [
    "## Współczynnik korelacji"
   ]
  },
  {
   "cell_type": "code",
   "execution_count": 101,
   "metadata": {},
   "outputs": [
    {
     "data": {
      "text/plain": [
       "CYF_kat2                  -0.065143\n",
       "CYF_kat3                  -0.064370\n",
       "CYF_kat5                  -0.062086\n",
       "CYF_kat9                  -0.060450\n",
       "CYF_urz_polaczenie        -0.052071\n",
       "CYF_kat8                  -0.050539\n",
       "CYF_aplikacja_kategoria   -0.041156\n",
       "CYF_kat1                  -0.037144\n",
       "CYF_urz_typ               -0.035159\n",
       "CYF_strona_domena         -0.030489\n",
       "CYF_strona_kategoria      -0.010141\n",
       "CYF_urz_model             -0.003748\n",
       "CYF_strona_id             -0.001066\n",
       "CYF_urz_ip                -0.000367\n",
       "CYF_kat7                   0.004644\n",
       "CYF_urz_id                 0.009258\n",
       "CYF_aplikacja_domena       0.009302\n",
       "CYF_data_godzina           0.010490\n",
       "CYF_kat6                   0.015816\n",
       "CYF_baner_pozycja          0.023417\n",
       "CYF_aplikacja_id           0.041000\n",
       "CYF_kat4                   0.112520\n",
       "klik                       1.000000\n",
       "Name: klik, dtype: float64"
      ]
     },
     "execution_count": 101,
     "metadata": {},
     "output_type": "execute_result"
    }
   ],
   "source": [
    "CORREL = df2.corr().sort_values('klik')\n",
    "CORREL['klik']"
   ]
  },
  {
   "cell_type": "code",
   "execution_count": 102,
   "metadata": {},
   "outputs": [
    {
     "data": {
      "text/plain": [
       "Text(0.5, 1, 'Macierz korelacji ze zmienną wynikową: Stroke')"
      ]
     },
     "execution_count": 102,
     "metadata": {},
     "output_type": "execute_result"
    },
    {
     "data": {
      "image/png": "[encoded data removed]",
      "text/plain": [
       "<Figure size 720x432 with 1 Axes>"
      ]
     },
     "metadata": {
      "needs_background": "light"
     },
     "output_type": "display_data"
    }
   ],
   "source": [
    "plt.figure(figsize=(10,6))\n",
    "CORREL =df2.corr()\n",
    "sns.heatmap(CORREL, annot=True, cbar=False, cmap=\"coolwarm\")\n",
    "plt.title('Macierz korelacji ze zmienną wynikową: Stroke', fontsize=20)"
   ]
  },
  {
   "cell_type": "code",
   "execution_count": null,
   "metadata": {},
   "outputs": [],
   "source": []
  },
  {
   "cell_type": "markdown",
   "metadata": {},
   "source": [
    "## Standaryzacja"
   ]
  },
  {
   "cell_type": "raw",
   "metadata": {},
   "source": [
    "from sklearn.preprocessing import MinMaxScaler\n",
    "\n",
    "scaler = MinMaxScaler(feature_range = (0,1))\n",
    "\n",
    "scaler.fit(Xtrain_OV)\n",
    "Xtrain_OV = scaler.transform(Xtrain_OV)\n",
    "Xtest = scaler.transform(Xtest)"
   ]
  },
  {
   "cell_type": "markdown",
   "metadata": {},
   "source": [
    "# <span style=\"color:blue\"> Model regresji logistycznej ze słabą siatką GRID</span>"
   ]
  },
  {
   "cell_type": "code",
   "execution_count": 103,
   "metadata": {},
   "outputs": [
    {
     "name": "stderr",
     "output_type": "stream",
     "text": [
      "/home/wojciech/anaconda3/lib/python3.7/site-packages/sklearn/linear_model/logistic.py:432: FutureWarning: Default solver will be changed to 'lbfgs' in 0.22. Specify a solver to silence this warning.\n",
      "  FutureWarning)\n"
     ]
    }
   ],
   "source": [
    "from sklearn import model_selection\n",
    "from sklearn.pipeline import make_pipeline\n",
    "from sklearn.linear_model import LogisticRegression\n",
    "from sklearn.model_selection import GridSearchCV\n",
    "\n",
    "Parameteres = {'C': np.power(10.0, np.arange(-3, 3))}\n",
    "LR = LogisticRegression(warm_start = True)\n",
    "LR_Grid = GridSearchCV(LR, param_grid = Parameteres, scoring = 'roc_auc', n_jobs = -1, cv=2)\n",
    "\n",
    "LR_Grid.fit(Xtrain_OV, ytrain_OV) \n",
    "y_pred_LRC = LR_Grid.predict(Xtest)"
   ]
  },
  {
   "cell_type": "code",
   "execution_count": 104,
   "metadata": {},
   "outputs": [
    {
     "name": "stdout",
     "output_type": "stream",
     "text": [
      "Recall Training data:      0.8167\n",
      "Precision Training data:   0.5764\n",
      "----------------------------------------------------------------------\n",
      "Recall Test data:          0.8161\n",
      "Precision Test data:       0.1849\n",
      "----------------------------------------------------------------------\n",
      "Confusion Matrix Test data\n",
      "[[107792 303010]\n",
      " [ 15485  68713]]\n",
      "----------------------------------------------------------------------\n",
      "              precision    recall  f1-score   support\n",
      "\n",
      "           0       0.87      0.26      0.40    410802\n",
      "           1       0.18      0.82      0.30     84198\n",
      "\n",
      "    accuracy                           0.36    495000\n",
      "   macro avg       0.53      0.54      0.35    495000\n",
      "weighted avg       0.76      0.36      0.39    495000\n",
      "\n"
     ]
    },
    {
     "data": {
      "image/png": "[encoded data removed]",
      "text/plain": [
       "<Figure size 432x288 with 1 Axes>"
      ]
     },
     "metadata": {
      "needs_background": "light"
     },
     "output_type": "display_data"
    }
   ],
   "source": [
    "# ocena modelu\n",
    "from sklearn import metrics\n",
    "from sklearn.metrics import classification_report, confusion_matrix\n",
    "from sklearn.metrics import confusion_matrix, log_loss, auc, roc_curve, roc_auc_score, recall_score, precision_recall_curve\n",
    "from sklearn.metrics import make_scorer, precision_score, fbeta_score, f1_score, classification_report\n",
    "\n",
    "print(\"Recall Training data:     \", np.round(recall_score(ytrain_OV, LR_Grid.predict(Xtrain_OV)), decimals=4))\n",
    "print(\"Precision Training data:  \", np.round(precision_score(ytrain_OV, LR_Grid.predict(Xtrain_OV)), decimals=4))\n",
    "print(\"----------------------------------------------------------------------\")\n",
    "print(\"Recall Test data:         \", np.round(recall_score(ytest, LR_Grid.predict(Xtest)), decimals=4)) \n",
    "print(\"Precision Test data:      \", np.round(precision_score(ytest, LR_Grid.predict(Xtest)), decimals=4))\n",
    "print(\"----------------------------------------------------------------------\")\n",
    "print(\"Confusion Matrix Test data\")\n",
    "print(confusion_matrix(ytest, LR_Grid.predict(Xtest)))\n",
    "print(\"----------------------------------------------------------------------\")\n",
    "print(classification_report(ytest, LR_Grid.predict(Xtest)))\n",
    "y_pred_proba = LR_Grid.predict_proba(Xtest)[::,1]\n",
    "fpr, tpr, _ = metrics.roc_curve(ytest,  y_pred_LRC)\n",
    "auc = metrics.roc_auc_score(ytest, y_pred_LRC)\n",
    "plt.plot(fpr, tpr, label='Logistic Regression (auc = %0.2f)' % auc)\n",
    "plt.xlabel('False Positive Rate',color='grey', fontsize = 13)\n",
    "plt.ylabel('True Positive Rate',color='grey', fontsize = 13)\n",
    "plt.title('Receiver operating characteristic')\n",
    "plt.legend(loc=\"lower right\")\n",
    "plt.legend(loc=4)\n",
    "plt.plot([0, 1], [0, 1],'r--')\n",
    "plt.show()"
   ]
  },
  {
   "cell_type": "markdown",
   "metadata": {},
   "source": [
    "0.91   0.50\n",
    "0.21   0.73\n",
    "\n",
    "AUC = 0.61"
   ]
  },
  {
   "cell_type": "raw",
   "metadata": {},
   "source": [
    "import numpy as np\n",
    "from sklearn import linear_model, decomposition, datasets\n",
    "from sklearn.pipeline import Pipeline\n",
    "from sklearn.model_selection import GridSearchCV, cross_val_score\n",
    "from sklearn.preprocessing import StandardScaler\n",
    "\n",
    "\n",
    "\n",
    "# Create an scaler object\n",
    "sc = StandardScaler()\n",
    "\n",
    "# Create a pca object\n",
    "pca = decomposition.PCA()\n",
    "\n",
    "    # Create a logistic regression object with an L2 penalty\n",
    "logistic = linear_model.LogisticRegression()\n",
    "\n",
    "    # Create a pipeline of three steps. First, standardize the data.\n",
    "    # Second, tranform the data with PCA.\n",
    "    # Third, train a logistic regression on the data.\n",
    "pipe = Pipeline(steps=[('sc', sc),\n",
    "                       ('pca', pca),\n",
    "                       ('logistic', logistic)])\n",
    "\n",
    "    # Create Parameter Space\n",
    "    # Create a list of a sequence of integers from 1 to 30 (the number of features in X + 1)\n",
    "n_components = list(range(1,Xtrain_OV.shape[1]+1,1))\n",
    "    # Create a list of values of the regularization parameter\n",
    "C = np.logspace(-4, 4, 50)\n",
    "    # Create a list of options for the regularization penalty\n",
    "penalty = ['l1', 'l2']\n",
    "    # Create a dictionary of all the parameter options \n",
    "    # Note has you can access the parameters of steps of a pipeline by using '__’\n",
    "parameters = dict(pca__n_components=n_components,\n",
    "                 logistic__C=C,\n",
    "                 logistic__penalty=penalty)\n",
    "\n",
    "    # Conduct Parameter Optmization With Pipeline\n",
    "    # Create a grid search object\n",
    "clf2 = GridSearchCV(pipe, parameters)\n",
    "\n",
    "    # Fit the grid search\n",
    "clf2.fit(Xtrain_OV, ytrain_OV)\n",
    "    # View The Best Parameters\n",
    "print('Best Penalty:', clf2.best_estimator_.get_params()['logistic__penalty'])\n",
    "print('Best C:', clf2.best_estimator_.get_params()['logistic__C'])\n",
    "print('Best Number Of Components:', clf2.best_estimator_.get_params()['pca__n_components'])\n",
    "print(); print(clf2.best_estimator_.get_params()['logistic'])\n",
    "\n",
    "    # Use Cross Validation To Evaluate Model\n",
    "CV_Result = cross_val_score(clf2, Xtrain_OV, ytrain_OV, cv=4, n_jobs=-1)\n",
    "print(); print(CV_Result)\n",
    "print(); print(CV_Result.mean())\n",
    "print(); print(CV_Result.std())\n",
    "y_pred_clf2 = clf2.predict(Xtest)"
   ]
  },
  {
   "cell_type": "raw",
   "metadata": {},
   "source": [
    "# ocena modelu\n",
    "from sklearn import metrics\n",
    "from sklearn.metrics import classification_report, confusion_matrix\n",
    "from sklearn.metrics import confusion_matrix, log_loss, auc, roc_curve, roc_auc_score, recall_score, precision_recall_curve\n",
    "from sklearn.metrics import make_scorer, precision_score, fbeta_score, f1_score, classification_report\n",
    "\n",
    "print(\"Recall Training data:     \", np.round(recall_score(ytrain_OV, clf2.predict(Xtrain_OV)), decimals=4))\n",
    "print(\"Precision Training data:  \", np.round(precision_score(ytrain_OV, clf2.predict(Xtrain_OV)), decimals=4))\n",
    "print(\"----------------------------------------------------------------------\")\n",
    "print(\"Recall Test data:         \", np.round(recall_score(ytest, clf2.predict(Xtest)), decimals=4)) \n",
    "print(\"Precision Test data:      \", np.round(precision_score(ytest, clf2.predict(Xtest)), decimals=4))\n",
    "print(\"----------------------------------------------------------------------\")\n",
    "print(\"Confusion Matrix Test data\")\n",
    "print(confusion_matrix(ytest, clf2.predict(Xtest)))\n",
    "print(\"----------------------------------------------------------------------\")\n",
    "print(classification_report(ytest, clf2.predict(Xtest)))\n",
    "y_pred_proba = clf2.predict_proba(Xtest)[::,1]\n",
    "fpr, tpr, _ = metrics.roc_curve(ytest,  y_pred_clf2)\n",
    "auc = metrics.roc_auc_score(ytest, y_pred_clf2)\n",
    "plt.plot(fpr, tpr, label='Logistic Regression (auc = %0.2f)' % auc)\n",
    "plt.xlabel('False Positive Rate',color='grey', fontsize = 13)\n",
    "plt.ylabel('True Positive Rate',color='grey', fontsize = 13)\n",
    "plt.title('Receiver operating characteristic')\n",
    "plt.legend(loc=\"lower right\")\n",
    "plt.legend(loc=4)\n",
    "plt.plot([0, 1], [0, 1],'r--')\n",
    "plt.show()"
   ]
  },
  {
   "cell_type": "markdown",
   "metadata": {},
   "source": [
    "# <span style=\"color:blue\"> Model regresji logistycznej z mocną siatką GRID</span>"
   ]
  },
  {
   "cell_type": "raw",
   "metadata": {},
   "source": [
    "from sklearn.pipeline import Pipeline\n",
    "from sklearn.ensemble import RandomForestClassifier\n",
    "\n",
    "# Create first pipeline for base without reducing features.\n",
    "\n",
    "pipe = Pipeline([('classifier' , RandomForestClassifier())])\n",
    "# pipe = Pipeline([('classifier', RandomForestClassifier())])\n",
    "\n",
    "# Create param grid.\n",
    "\n",
    "param_grid = [\n",
    "    {'classifier' : [LogisticRegression()],\n",
    "     'classifier__penalty' : ['l1', 'l2'],\n",
    "    'classifier__C' : np.logspace(-4, 4, 20),\n",
    "    'classifier__solver' : ['liblinear']},\n",
    "    {'classifier' : [RandomForestClassifier()],\n",
    "    'classifier__n_estimators' : list(range(10,101,10)),}\n",
    "]\n",
    "# 'classifier__max_features' : list(range(6,32,5))\n",
    "# Create grid search object\n",
    "\n",
    "CLF_1 = GridSearchCV(pipe, param_grid = param_grid, cv = 5, verbose=True, n_jobs=-1)\n",
    "\n",
    "# Fit on data\n",
    "\n",
    "CLF_1.fit(Xtrain_OV, ytrain_OV)\n",
    "\n",
    "y_pred_CLF_1 = CLF_1.predict(Xtest)"
   ]
  },
  {
   "cell_type": "raw",
   "metadata": {},
   "source": [
    "# ocena modelu\n",
    "from sklearn import metrics\n",
    "from sklearn.metrics import classification_report, confusion_matrix\n",
    "from sklearn.metrics import confusion_matrix, log_loss, auc, roc_curve, roc_auc_score, recall_score, precision_recall_curve\n",
    "from sklearn.metrics import make_scorer, precision_score, fbeta_score, f1_score, classification_report\n",
    "\n",
    "print(\"Recall Training data:     \", np.round(recall_score(ytrain_OV, CLF_1.predict(Xtrain_OV)), decimals=4))\n",
    "print(\"Precision Training data:  \", np.round(precision_score(ytrain_OV, CLF_1.predict(Xtrain_OV)), decimals=4))\n",
    "print(\"----------------------------------------------------------------------\")\n",
    "print(\"Recall Test data:         \", np.round(recall_score(ytest, CLF_1.predict(Xtest)), decimals=4)) \n",
    "print(\"Precision Test data:      \", np.round(precision_score(ytest, CLF_1.predict(Xtest)), decimals=4))\n",
    "print(\"----------------------------------------------------------------------\")\n",
    "print(\"Confusion Matrix Test data\")\n",
    "print(confusion_matrix(ytest, CLF_1.predict(Xtest)))\n",
    "print(\"----------------------------------------------------------------------\")\n",
    "print(classification_report(ytest, CLF_1.predict(Xtest)))\n",
    "y_pred_proba = CLF_1.predict_proba(Xtest)[::,1]\n",
    "fpr, tpr, _ = metrics.roc_curve(ytest,  y_pred_CLF_1)\n",
    "auc = metrics.roc_auc_score(ytest, y_pred_CLF_1)\n",
    "plt.plot(fpr, tpr, label='Logistic Regression (auc = %0.2f)' % auc)\n",
    "plt.xlabel('False Positive Rate',color='grey', fontsize = 13)\n",
    "plt.ylabel('True Positive Rate',color='grey', fontsize = 13)\n",
    "plt.title('Receiver operating characteristic')\n",
    "plt.legend(loc=\"lower right\")\n",
    "plt.legend(loc=4)\n",
    "plt.plot([0, 1], [0, 1],'r--')\n",
    "plt.show()"
   ]
  },
  {
   "cell_type": "code",
   "execution_count": null,
   "metadata": {},
   "outputs": [],
   "source": []
  },
  {
   "cell_type": "code",
   "execution_count": null,
   "metadata": {},
   "outputs": [],
   "source": []
  },
  {
   "cell_type": "code",
   "execution_count": null,
   "metadata": {},
   "outputs": [],
   "source": []
  },
  {
   "cell_type": "markdown",
   "metadata": {},
   "source": [
    "https://stackoverflow.com/questions/39163354/evaluating-logistic-regression-with-cross-validation"
   ]
  },
  {
   "cell_type": "code",
   "execution_count": 105,
   "metadata": {},
   "outputs": [
    {
     "name": "stdout",
     "output_type": "stream",
     "text": [
      "Pomiar czasu wykonania tego zadania\n",
      "Minut:  5.441286178429921\n"
     ]
    }
   ],
   "source": [
    "print('Pomiar czasu wykonania tego zadania')\n",
    "print('Minut: ',(time.time() - start_time)/60) ## koniec pomiaru czasu"
   ]
  }
 ],
 "metadata": {
  "kernelspec": {
   "display_name": "Python 3",
   "language": "python",
   "name": "python3"
  },
  "language_info": {
   "codemirror_mode": {
    "name": "ipython",
    "version": 3
   },
   "file_extension": ".py",
   "mimetype": "text/x-python",
   "name": "python",
   "nbconvert_exporter": "python",
   "pygments_lexer": "ipython3",
   "version": "3.7.4"
  }
 },
 "nbformat": 4,
 "nbformat_minor": 2
}
