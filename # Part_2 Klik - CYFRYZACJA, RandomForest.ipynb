{
 "cells": [
  {
   "cell_type": "markdown",
   "metadata": {},
   "source": [
    "# Part_2: Klik - CYFRYZACJA, RandomForest\n",
    "06:50 - 8:30,\n",
    "09:00 - 11:00,\n",
    "50 minut +20 minut,\n",
    "14:00"
   ]
  },
  {
   "cell_type": "code",
   "execution_count": 1,
   "metadata": {},
   "outputs": [
    {
     "name": "stdout",
     "output_type": "stream",
     "text": [
      "Fri Mar 13 13:27:32 2020\n"
     ]
    }
   ],
   "source": [
    "import time\n",
    "start_time = time.time() ## pomiar czasu: start pomiaru czasu\n",
    "print(time.ctime())"
   ]
  },
  {
   "cell_type": "code",
   "execution_count": 2,
   "metadata": {},
   "outputs": [
    {
     "name": "stdout",
     "output_type": "stream",
     "text": [
      "(1500000, 24)\n",
      "\n",
      "Index(['id', 'klik', 'data_godzina', 'baner_pozycja', 'strona_id',\n",
      "       'strona_domena', 'strona_kategoria', 'aplikacja_id', 'aplikacja_domena',\n",
      "       'aplikacja_kategoria', 'urz_id', 'urz_ip', 'urz_model', 'urz_typ',\n",
      "       'urz_polaczenie', 'kat1', 'kat2', 'kat3', 'kat4', 'kat5', 'kat6',\n",
      "       'kat7', 'kat8', 'kat9'],\n",
      "      dtype='object')\n"
     ]
    },
    {
     "data": {
      "text/html": [
       "<div>\n",
       "<style scoped>\n",
       "    .dataframe tbody tr th:only-of-type {\n",
       "        vertical-align: middle;\n",
       "    }\n",
       "\n",
       "    .dataframe tbody tr th {\n",
       "        vertical-align: top;\n",
       "    }\n",
       "\n",
       "    .dataframe thead th {\n",
       "        text-align: right;\n",
       "    }\n",
       "</style>\n",
       "<table border=\"1\" class=\"dataframe\">\n",
       "  <thead>\n",
       "    <tr style=\"text-align: right;\">\n",
       "      <th></th>\n",
       "      <th>id</th>\n",
       "      <th>klik</th>\n",
       "      <th>data_godzina</th>\n",
       "      <th>baner_pozycja</th>\n",
       "      <th>strona_id</th>\n",
       "      <th>strona_domena</th>\n",
       "      <th>strona_kategoria</th>\n",
       "      <th>aplikacja_id</th>\n",
       "      <th>aplikacja_domena</th>\n",
       "      <th>aplikacja_kategoria</th>\n",
       "      <th>...</th>\n",
       "      <th>urz_polaczenie</th>\n",
       "      <th>kat1</th>\n",
       "      <th>kat2</th>\n",
       "      <th>kat3</th>\n",
       "      <th>kat4</th>\n",
       "      <th>kat5</th>\n",
       "      <th>kat6</th>\n",
       "      <th>kat7</th>\n",
       "      <th>kat8</th>\n",
       "      <th>kat9</th>\n",
       "    </tr>\n",
       "  </thead>\n",
       "  <tbody>\n",
       "    <tr>\n",
       "      <td>0</td>\n",
       "      <td>93718246913880603</td>\n",
       "      <td>0</td>\n",
       "      <td>17030100</td>\n",
       "      <td>0</td>\n",
       "      <td>85f751fd</td>\n",
       "      <td>c4e18dd6</td>\n",
       "      <td>50e219e0</td>\n",
       "      <td>febd1138</td>\n",
       "      <td>82e27996</td>\n",
       "      <td>0f2161f8</td>\n",
       "      <td>...</td>\n",
       "      <td>0</td>\n",
       "      <td>105</td>\n",
       "      <td>119743</td>\n",
       "      <td>10320</td>\n",
       "      <td>10050</td>\n",
       "      <td>12264</td>\n",
       "      <td>13</td>\n",
       "      <td>10427</td>\n",
       "      <td>100000</td>\n",
       "      <td>61</td>\n",
       "    </tr>\n",
       "    <tr>\n",
       "      <td>1</td>\n",
       "      <td>93718246913880604</td>\n",
       "      <td>0</td>\n",
       "      <td>17030100</td>\n",
       "      <td>0</td>\n",
       "      <td>1fbe01fe</td>\n",
       "      <td>f3845767</td>\n",
       "      <td>28905ebd</td>\n",
       "      <td>ecad2386</td>\n",
       "      <td>7801e8d9</td>\n",
       "      <td>07d7df22</td>\n",
       "      <td>...</td>\n",
       "      <td>0</td>\n",
       "      <td>105</td>\n",
       "      <td>115706</td>\n",
       "      <td>10320</td>\n",
       "      <td>10050</td>\n",
       "      <td>11722</td>\n",
       "      <td>10</td>\n",
       "      <td>10035</td>\n",
       "      <td>-1</td>\n",
       "      <td>79</td>\n",
       "    </tr>\n",
       "    <tr>\n",
       "      <td>2</td>\n",
       "      <td>93718246913880605</td>\n",
       "      <td>0</td>\n",
       "      <td>17030100</td>\n",
       "      <td>0</td>\n",
       "      <td>543a539e</td>\n",
       "      <td>c7ca3108</td>\n",
       "      <td>3e814130</td>\n",
       "      <td>ecad2386</td>\n",
       "      <td>7801e8d9</td>\n",
       "      <td>07d7df22</td>\n",
       "      <td>...</td>\n",
       "      <td>0</td>\n",
       "      <td>105</td>\n",
       "      <td>120352</td>\n",
       "      <td>10320</td>\n",
       "      <td>10050</td>\n",
       "      <td>12333</td>\n",
       "      <td>10</td>\n",
       "      <td>10039</td>\n",
       "      <td>-1</td>\n",
       "      <td>157</td>\n",
       "    </tr>\n",
       "    <tr>\n",
       "      <td>3</td>\n",
       "      <td>93718246913880606</td>\n",
       "      <td>0</td>\n",
       "      <td>17030100</td>\n",
       "      <td>1</td>\n",
       "      <td>e151e245</td>\n",
       "      <td>7e091613</td>\n",
       "      <td>f028772b</td>\n",
       "      <td>ecad2386</td>\n",
       "      <td>7801e8d9</td>\n",
       "      <td>07d7df22</td>\n",
       "      <td>...</td>\n",
       "      <td>0</td>\n",
       "      <td>105</td>\n",
       "      <td>117037</td>\n",
       "      <td>10320</td>\n",
       "      <td>10050</td>\n",
       "      <td>11934</td>\n",
       "      <td>12</td>\n",
       "      <td>10039</td>\n",
       "      <td>-1</td>\n",
       "      <td>16</td>\n",
       "    </tr>\n",
       "    <tr>\n",
       "      <td>4</td>\n",
       "      <td>93718246913880607</td>\n",
       "      <td>0</td>\n",
       "      <td>17030100</td>\n",
       "      <td>0</td>\n",
       "      <td>85f751fd</td>\n",
       "      <td>c4e18dd6</td>\n",
       "      <td>50e219e0</td>\n",
       "      <td>39947756</td>\n",
       "      <td>2347f47a</td>\n",
       "      <td>cef3e649</td>\n",
       "      <td>...</td>\n",
       "      <td>2</td>\n",
       "      <td>105</td>\n",
       "      <td>118993</td>\n",
       "      <td>10320</td>\n",
       "      <td>10050</td>\n",
       "      <td>12161</td>\n",
       "      <td>10</td>\n",
       "      <td>10035</td>\n",
       "      <td>100148</td>\n",
       "      <td>157</td>\n",
       "    </tr>\n",
       "  </tbody>\n",
       "</table>\n",
       "<p>5 rows × 24 columns</p>\n",
       "</div>"
      ],
      "text/plain": [
       "                  id  klik  data_godzina  baner_pozycja strona_id  \\\n",
       "0  93718246913880603     0      17030100              0  85f751fd   \n",
       "1  93718246913880604     0      17030100              0  1fbe01fe   \n",
       "2  93718246913880605     0      17030100              0  543a539e   \n",
       "3  93718246913880606     0      17030100              1  e151e245   \n",
       "4  93718246913880607     0      17030100              0  85f751fd   \n",
       "\n",
       "  strona_domena strona_kategoria aplikacja_id aplikacja_domena  \\\n",
       "0      c4e18dd6         50e219e0     febd1138         82e27996   \n",
       "1      f3845767         28905ebd     ecad2386         7801e8d9   \n",
       "2      c7ca3108         3e814130     ecad2386         7801e8d9   \n",
       "3      7e091613         f028772b     ecad2386         7801e8d9   \n",
       "4      c4e18dd6         50e219e0     39947756         2347f47a   \n",
       "\n",
       "  aplikacja_kategoria  ... urz_polaczenie kat1    kat2   kat3   kat4   kat5  \\\n",
       "0            0f2161f8  ...              0  105  119743  10320  10050  12264   \n",
       "1            07d7df22  ...              0  105  115706  10320  10050  11722   \n",
       "2            07d7df22  ...              0  105  120352  10320  10050  12333   \n",
       "3            07d7df22  ...              0  105  117037  10320  10050  11934   \n",
       "4            cef3e649  ...              2  105  118993  10320  10050  12161   \n",
       "\n",
       "   kat6   kat7    kat8  kat9  \n",
       "0    13  10427  100000    61  \n",
       "1    10  10035      -1    79  \n",
       "2    10  10039      -1   157  \n",
       "3    12  10039      -1    16  \n",
       "4    10  10035  100148   157  \n",
       "\n",
       "[5 rows x 24 columns]"
      ]
     },
     "execution_count": 2,
     "metadata": {},
     "output_type": "execute_result"
    }
   ],
   "source": [
    "import pandas as pd\n",
    "import numpy as np\n",
    "import seaborn as sns\n",
    "import matplotlib.pyplot as plt\n",
    "%matplotlib inline\n",
    "\n",
    "df= pd.read_csv('/home/wojciech/Pulpit/4/kliki_uczenie.csv', sep=';',nrows=1500000)\n",
    "print(df.shape)\n",
    "print()\n",
    "print(df.columns)\n",
    "df.head(5)"
   ]
  },
  {
   "cell_type": "markdown",
   "metadata": {},
   "source": [
    "### Sprawdzam kompletność danych\n",
    "dane są kompletne"
   ]
  },
  {
   "cell_type": "code",
   "execution_count": 3,
   "metadata": {},
   "outputs": [
    {
     "data": {
      "text/plain": [
       "id                     0\n",
       "klik                   0\n",
       "data_godzina           0\n",
       "baner_pozycja          0\n",
       "strona_id              0\n",
       "strona_domena          0\n",
       "strona_kategoria       0\n",
       "aplikacja_id           0\n",
       "aplikacja_domena       0\n",
       "aplikacja_kategoria    0\n",
       "urz_id                 0\n",
       "urz_ip                 0\n",
       "urz_model              0\n",
       "urz_typ                0\n",
       "urz_polaczenie         0\n",
       "kat1                   0\n",
       "kat2                   0\n",
       "kat3                   0\n",
       "kat4                   0\n",
       "kat5                   0\n",
       "kat6                   0\n",
       "kat7                   0\n",
       "kat8                   0\n",
       "kat9                   0\n",
       "dtype: int64"
      ]
     },
     "execution_count": 3,
     "metadata": {},
     "output_type": "execute_result"
    }
   ],
   "source": [
    "df.isnull().sum()"
   ]
  },
  {
   "cell_type": "markdown",
   "metadata": {},
   "source": [
    "### Sprawdzam format danych"
   ]
  },
  {
   "cell_type": "code",
   "execution_count": 4,
   "metadata": {},
   "outputs": [
    {
     "data": {
      "text/plain": [
       "id                      int64\n",
       "klik                    int64\n",
       "data_godzina            int64\n",
       "baner_pozycja           int64\n",
       "strona_id              object\n",
       "strona_domena          object\n",
       "strona_kategoria       object\n",
       "aplikacja_id           object\n",
       "aplikacja_domena       object\n",
       "aplikacja_kategoria    object\n",
       "urz_id                 object\n",
       "urz_ip                 object\n",
       "urz_model              object\n",
       "urz_typ                 int64\n",
       "urz_polaczenie          int64\n",
       "kat1                    int64\n",
       "kat2                    int64\n",
       "kat3                    int64\n",
       "kat4                    int64\n",
       "kat5                    int64\n",
       "kat6                    int64\n",
       "kat7                    int64\n",
       "kat8                    int64\n",
       "kat9                    int64\n",
       "dtype: object"
      ]
     },
     "execution_count": 4,
     "metadata": {},
     "output_type": "execute_result"
    }
   ],
   "source": [
    "df.dtypes"
   ]
  },
  {
   "cell_type": "markdown",
   "metadata": {},
   "source": [
    "### Sprawdzam zbilansowanie zbioru wynikowego\n",
    "<span style=\"color:blue\">ZBIÓR JEST NIEZBILANSOWANY. Trzeba będzie zastosować oversampling</span>"
   ]
  },
  {
   "cell_type": "code",
   "execution_count": 5,
   "metadata": {},
   "outputs": [
    {
     "data": {
      "text/plain": [
       "<matplotlib.axes._subplots.AxesSubplot at 0x7fdabe8fc410>"
      ]
     },
     "execution_count": 5,
     "metadata": {},
     "output_type": "execute_result"
    },
    {
     "data": {
      "image/png": "[encoded data removed]",
      "text/plain": [
       "<Figure size 432x288 with 1 Axes>"
      ]
     },
     "metadata": {},
     "output_type": "display_data"
    }
   ],
   "source": [
    "df.klik.value_counts(dropna = False, normalize=True).plot(kind='pie')"
   ]
  },
  {
   "cell_type": "markdown",
   "metadata": {},
   "source": [
    "### Cyfryzuje słownikowo: 'date i godzinę'"
   ]
  },
  {
   "cell_type": "code",
   "execution_count": 6,
   "metadata": {},
   "outputs": [
    {
     "data": {
      "text/plain": [
       "(84,)"
      ]
     },
     "execution_count": 6,
     "metadata": {},
     "output_type": "execute_result"
    }
   ],
   "source": [
    "df['data_godzina'].value_counts().shape"
   ]
  },
  {
   "cell_type": "code",
   "execution_count": 7,
   "metadata": {},
   "outputs": [
    {
     "data": {
      "text/plain": [
       "17030209    44832\n",
       "17030210    43726\n",
       "17030212    40676\n",
       "17030211    38932\n",
       "17030213    32517\n",
       "            ...  \n",
       "17030122     8854\n",
       "17030400     8083\n",
       "17030411     8064\n",
       "17030200     7755\n",
       "17030123     7398\n",
       "Name: data_godzina, Length: 84, dtype: int64"
      ]
     },
     "execution_count": 7,
     "metadata": {},
     "output_type": "execute_result"
    }
   ],
   "source": [
    "df['data_godzina'].value_counts()"
   ]
  },
  {
   "cell_type": "markdown",
   "metadata": {},
   "source": [
    "<span style=\"color:blue\">df['data_godzina'] będzie traktowana jak zmienna dyskretna. To nie jest żadna data i godzina, z której można wyciągnąć dzień tygodnia</span>"
   ]
  },
  {
   "cell_type": "markdown",
   "metadata": {},
   "source": [
    "Cyfryzuje przez mapowanie słownikowe"
   ]
  },
  {
   "cell_type": "code",
   "execution_count": 8,
   "metadata": {},
   "outputs": [
    {
     "data": {
      "text/html": [
       "<div>\n",
       "<style scoped>\n",
       "    .dataframe tbody tr th:only-of-type {\n",
       "        vertical-align: middle;\n",
       "    }\n",
       "\n",
       "    .dataframe tbody tr th {\n",
       "        vertical-align: top;\n",
       "    }\n",
       "\n",
       "    .dataframe thead th {\n",
       "        text-align: right;\n",
       "    }\n",
       "</style>\n",
       "<table border=\"1\" class=\"dataframe\">\n",
       "  <thead>\n",
       "    <tr style=\"text-align: right;\">\n",
       "      <th></th>\n",
       "      <th>data_godzina</th>\n",
       "      <th>C_data_godzina</th>\n",
       "    </tr>\n",
       "  </thead>\n",
       "  <tbody>\n",
       "    <tr>\n",
       "      <td>1161773</td>\n",
       "      <td>17030312</td>\n",
       "      <td>60</td>\n",
       "    </tr>\n",
       "    <tr>\n",
       "      <td>61974</td>\n",
       "      <td>17030103</td>\n",
       "      <td>3</td>\n",
       "    </tr>\n",
       "  </tbody>\n",
       "</table>\n",
       "</div>"
      ],
      "text/plain": [
       "         data_godzina  C_data_godzina\n",
       "1161773      17030312              60\n",
       "61974        17030103               3"
      ]
     },
     "execution_count": 8,
     "metadata": {},
     "output_type": "execute_result"
    }
   ],
   "source": [
    "df['C_data_godzina'] = pd.Categorical(df['data_godzina']).codes\n",
    "df[['data_godzina','C_data_godzina']].sample(2)"
   ]
  },
  {
   "cell_type": "code",
   "execution_count": 9,
   "metadata": {},
   "outputs": [
    {
     "name": "stdout",
     "output_type": "stream",
     "text": [
      "{17030100: 0, 17030101: 1, 17030102: 2, 17030103: 3, 17030104: 4, 17030105: 5, 17030106: 6, 17030107: 7, 17030108: 8, 17030109: 9, 17030110: 10, 17030111: 11, 17030112: 12, 17030113: 13, 17030114: 14, 17030115: 15, 17030116: 16, 17030117: 17, 17030118: 18, 17030119: 19, 17030120: 20, 17030121: 21, 17030122: 22, 17030123: 23, 17030200: 24, 17030201: 25, 17030202: 26, 17030203: 27, 17030204: 28, 17030205: 29, 17030206: 30, 17030207: 31, 17030208: 32, 17030209: 33, 17030210: 34, 17030211: 35, 17030212: 36, 17030213: 37, 17030214: 38, 17030215: 39, 17030216: 40, 17030217: 41, 17030218: 42, 17030219: 43, 17030220: 44, 17030221: 45, 17030222: 46, 17030223: 47, 17030300: 48, 17030301: 49, 17030302: 50, 17030303: 51, 17030304: 52, 17030305: 53, 17030306: 54, 17030307: 55, 17030308: 56, 17030309: 57, 17030310: 58, 17030311: 59, 17030312: 60, 17030313: 61, 17030314: 62, 17030315: 63, 17030316: 64, 17030317: 65, 17030318: 66, 17030319: 67, 17030320: 68, 17030321: 69, 17030322: 70, 17030323: 71, 17030400: 72, 17030401: 73, 17030402: 74, 17030403: 75, 17030404: 76, 17030405: 77, 17030406: 78, 17030407: 79, 17030408: 80, 17030409: 81, 17030410: 82, 17030411: 83}\n"
     ]
    },
    {
     "data": {
      "text/html": [
       "<div>\n",
       "<style scoped>\n",
       "    .dataframe tbody tr th:only-of-type {\n",
       "        vertical-align: middle;\n",
       "    }\n",
       "\n",
       "    .dataframe tbody tr th {\n",
       "        vertical-align: top;\n",
       "    }\n",
       "\n",
       "    .dataframe thead th {\n",
       "        text-align: right;\n",
       "    }\n",
       "</style>\n",
       "<table border=\"1\" class=\"dataframe\">\n",
       "  <thead>\n",
       "    <tr style=\"text-align: right;\">\n",
       "      <th></th>\n",
       "      <th>CYF_data_godzina</th>\n",
       "      <th>data_godzina</th>\n",
       "    </tr>\n",
       "  </thead>\n",
       "  <tbody>\n",
       "    <tr>\n",
       "      <td>1278935</td>\n",
       "      <td>67</td>\n",
       "      <td>17030319</td>\n",
       "    </tr>\n",
       "    <tr>\n",
       "      <td>945722</td>\n",
       "      <td>47</td>\n",
       "      <td>17030223</td>\n",
       "    </tr>\n",
       "    <tr>\n",
       "      <td>323972</td>\n",
       "      <td>16</td>\n",
       "      <td>17030116</td>\n",
       "    </tr>\n",
       "    <tr>\n",
       "      <td>131010</td>\n",
       "      <td>6</td>\n",
       "      <td>17030106</td>\n",
       "    </tr>\n",
       "  </tbody>\n",
       "</table>\n",
       "</div>"
      ],
      "text/plain": [
       "         CYF_data_godzina  data_godzina\n",
       "1278935                67      17030319\n",
       "945722                 47      17030223\n",
       "323972                 16      17030116\n",
       "131010                  6      17030106"
      ]
     },
     "execution_count": 9,
     "metadata": {},
     "output_type": "execute_result"
    }
   ],
   "source": [
    "SL_data_godzina = df.set_index('data_godzina')['C_data_godzina'].to_dict()\n",
    "print(SL_data_godzina)\n",
    "df['CYF_data_godzina'] = df['data_godzina'].map(SL_data_godzina)\n",
    "del df['C_data_godzina']\n",
    "df[['CYF_data_godzina','data_godzina']].sample(4)"
   ]
  },
  {
   "cell_type": "code",
   "execution_count": 10,
   "metadata": {},
   "outputs": [
    {
     "name": "stdout",
     "output_type": "stream",
     "text": [
      "(84,)\n",
      "(84,)\n",
      "{17030100: 0, 17030101: 1, 17030102: 2, 17030103: 3, 17030104: 4, 17030105: 5, 17030106: 6, 17030107: 7, 17030108: 8, 17030109: 9, 17030110: 10, 17030111: 11, 17030112: 12, 17030113: 13, 17030114: 14, 17030115: 15, 17030116: 16, 17030117: 17, 17030118: 18, 17030119: 19, 17030120: 20, 17030121: 21, 17030122: 22, 17030123: 23, 17030200: 24, 17030201: 25, 17030202: 26, 17030203: 27, 17030204: 28, 17030205: 29, 17030206: 30, 17030207: 31, 17030208: 32, 17030209: 33, 17030210: 34, 17030211: 35, 17030212: 36, 17030213: 37, 17030214: 38, 17030215: 39, 17030216: 40, 17030217: 41, 17030218: 42, 17030219: 43, 17030220: 44, 17030221: 45, 17030222: 46, 17030223: 47, 17030300: 48, 17030301: 49, 17030302: 50, 17030303: 51, 17030304: 52, 17030305: 53, 17030306: 54, 17030307: 55, 17030308: 56, 17030309: 57, 17030310: 58, 17030311: 59, 17030312: 60, 17030313: 61, 17030314: 62, 17030315: 63, 17030316: 64, 17030317: 65, 17030318: 66, 17030319: 67, 17030320: 68, 17030321: 69, 17030322: 70, 17030323: 71, 17030400: 72, 17030401: 73, 17030402: 74, 17030403: 75, 17030404: 76, 17030405: 77, 17030406: 78, 17030407: 79, 17030408: 80, 17030409: 81, 17030410: 82, 17030411: 83}\n"
     ]
    }
   ],
   "source": [
    "## Sprawdzenie:\n",
    "print(df['data_godzina'].value_counts().shape)\n",
    "print(df['CYF_data_godzina'].value_counts().shape)\n",
    "print(SL_data_godzina)"
   ]
  },
  {
   "cell_type": "markdown",
   "metadata": {},
   "source": [
    "### Cyfryzuje słownikowo: 'baner_pozycja'\n",
    "NIE TRZEBA CYFRYZOWAĆ"
   ]
  },
  {
   "cell_type": "code",
   "execution_count": 11,
   "metadata": {},
   "outputs": [
    {
     "name": "stdout",
     "output_type": "stream",
     "text": [
      "(7,)\n"
     ]
    }
   ],
   "source": [
    "print(df['baner_pozycja'].value_counts().shape)\n",
    "df['baner_pozycja'].value_counts()\n",
    "df['CYF_baner_pozycja']=df['baner_pozycja']"
   ]
  },
  {
   "cell_type": "code",
   "execution_count": 12,
   "metadata": {},
   "outputs": [
    {
     "data": {
      "text/plain": [
       "id                      int64\n",
       "klik                    int64\n",
       "data_godzina            int64\n",
       "baner_pozycja           int64\n",
       "strona_id              object\n",
       "strona_domena          object\n",
       "strona_kategoria       object\n",
       "aplikacja_id           object\n",
       "aplikacja_domena       object\n",
       "aplikacja_kategoria    object\n",
       "urz_id                 object\n",
       "urz_ip                 object\n",
       "urz_model              object\n",
       "urz_typ                 int64\n",
       "urz_polaczenie          int64\n",
       "kat1                    int64\n",
       "kat2                    int64\n",
       "kat3                    int64\n",
       "kat4                    int64\n",
       "kat5                    int64\n",
       "kat6                    int64\n",
       "kat7                    int64\n",
       "kat8                    int64\n",
       "kat9                    int64\n",
       "CYF_data_godzina        int64\n",
       "CYF_baner_pozycja       int64\n",
       "dtype: object"
      ]
     },
     "execution_count": 12,
     "metadata": {},
     "output_type": "execute_result"
    }
   ],
   "source": [
    "df.dtypes"
   ]
  },
  {
   "cell_type": "markdown",
   "metadata": {},
   "source": [
    "### Cyfryzuje słownikowo:  'strona_id'"
   ]
  },
  {
   "cell_type": "code",
   "execution_count": 13,
   "metadata": {},
   "outputs": [
    {
     "name": "stdout",
     "output_type": "stream",
     "text": [
      "(2674,)\n"
     ]
    },
    {
     "data": {
      "text/plain": [
       "85f751fd    541171\n",
       "1fbe01fe    250953\n",
       "e151e245     83318\n",
       "d9750ee7     41939\n",
       "5b08c53b     29705\n",
       "             ...  \n",
       "3a2f0507         1\n",
       "37a7f08e         1\n",
       "28f6e24a         1\n",
       "569cb34d         1\n",
       "d00d4bf2         1\n",
       "Name: strona_id, Length: 2674, dtype: int64"
      ]
     },
     "execution_count": 13,
     "metadata": {},
     "output_type": "execute_result"
    }
   ],
   "source": [
    "print(df['strona_id'].value_counts().shape)\n",
    "df['strona_id'].value_counts()"
   ]
  },
  {
   "cell_type": "code",
   "execution_count": 14,
   "metadata": {},
   "outputs": [
    {
     "data": {
      "text/html": [
       "<div>\n",
       "<style scoped>\n",
       "    .dataframe tbody tr th:only-of-type {\n",
       "        vertical-align: middle;\n",
       "    }\n",
       "\n",
       "    .dataframe tbody tr th {\n",
       "        vertical-align: top;\n",
       "    }\n",
       "\n",
       "    .dataframe thead th {\n",
       "        text-align: right;\n",
       "    }\n",
       "</style>\n",
       "<table border=\"1\" class=\"dataframe\">\n",
       "  <thead>\n",
       "    <tr style=\"text-align: right;\">\n",
       "      <th></th>\n",
       "      <th>strona_id</th>\n",
       "      <th>C_strona_id</th>\n",
       "    </tr>\n",
       "  </thead>\n",
       "  <tbody>\n",
       "    <tr>\n",
       "      <td>97325</td>\n",
       "      <td>85f751fd</td>\n",
       "      <td>1413</td>\n",
       "    </tr>\n",
       "    <tr>\n",
       "      <td>629154</td>\n",
       "      <td>7443a906</td>\n",
       "      <td>1239</td>\n",
       "    </tr>\n",
       "  </tbody>\n",
       "</table>\n",
       "</div>"
      ],
      "text/plain": [
       "       strona_id  C_strona_id\n",
       "97325   85f751fd         1413\n",
       "629154  7443a906         1239"
      ]
     },
     "execution_count": 14,
     "metadata": {},
     "output_type": "execute_result"
    }
   ],
   "source": [
    "## Cyfryzuje przez mapowanie słownikowe:\n",
    "df['C_strona_id'] = pd.Categorical(df['strona_id']).codes\n",
    "df[['strona_id','C_strona_id']].sample(2)"
   ]
  },
  {
   "cell_type": "code",
   "execution_count": 15,
   "metadata": {},
   "outputs": [
    {
     "data": {
      "text/html": [
       "<div>\n",
       "<style scoped>\n",
       "    .dataframe tbody tr th:only-of-type {\n",
       "        vertical-align: middle;\n",
       "    }\n",
       "\n",
       "    .dataframe tbody tr th {\n",
       "        vertical-align: top;\n",
       "    }\n",
       "\n",
       "    .dataframe thead th {\n",
       "        text-align: right;\n",
       "    }\n",
       "</style>\n",
       "<table border=\"1\" class=\"dataframe\">\n",
       "  <thead>\n",
       "    <tr style=\"text-align: right;\">\n",
       "      <th></th>\n",
       "      <th>CYF_strona_id</th>\n",
       "      <th>strona_id</th>\n",
       "    </tr>\n",
       "  </thead>\n",
       "  <tbody>\n",
       "    <tr>\n",
       "      <td>1116201</td>\n",
       "      <td>981</td>\n",
       "      <td>57fe1b20</td>\n",
       "    </tr>\n",
       "    <tr>\n",
       "      <td>1103708</td>\n",
       "      <td>2257</td>\n",
       "      <td>d8bb8687</td>\n",
       "    </tr>\n",
       "    <tr>\n",
       "      <td>403307</td>\n",
       "      <td>323</td>\n",
       "      <td>1fbe01fe</td>\n",
       "    </tr>\n",
       "    <tr>\n",
       "      <td>1101012</td>\n",
       "      <td>1010</td>\n",
       "      <td>5bcf81a2</td>\n",
       "    </tr>\n",
       "  </tbody>\n",
       "</table>\n",
       "</div>"
      ],
      "text/plain": [
       "         CYF_strona_id strona_id\n",
       "1116201            981  57fe1b20\n",
       "1103708           2257  d8bb8687\n",
       "403307             323  1fbe01fe\n",
       "1101012           1010  5bcf81a2"
      ]
     },
     "execution_count": 15,
     "metadata": {},
     "output_type": "execute_result"
    }
   ],
   "source": [
    "SL_strona_id = df.set_index('strona_id')['C_strona_id'].to_dict()\n",
    "#print(SL_strona_id)\n",
    "df['CYF_strona_id'] = df['strona_id'].map(SL_strona_id)\n",
    "del df['C_strona_id']\n",
    "df[['CYF_strona_id','strona_id']].sample(4)"
   ]
  },
  {
   "cell_type": "code",
   "execution_count": 16,
   "metadata": {},
   "outputs": [
    {
     "name": "stdout",
     "output_type": "stream",
     "text": [
      "(2674,)\n",
      "(2674,)\n"
     ]
    }
   ],
   "source": [
    "## Sprawdzenie:\n",
    "print(df['strona_id'].value_counts().shape)\n",
    "print(df['CYF_strona_id'].value_counts().shape)\n",
    "#print(SL_strona_id)"
   ]
  },
  {
   "cell_type": "markdown",
   "metadata": {},
   "source": [
    "### <span style=\"color:blue\">Cyfryzuje słownikowo: 'strona_domena'</span>"
   ]
  },
  {
   "cell_type": "code",
   "execution_count": 17,
   "metadata": {},
   "outputs": [
    {
     "name": "stdout",
     "output_type": "stream",
     "text": [
      "(2934,)\n"
     ]
    },
    {
     "data": {
      "text/plain": [
       "c4e18dd6    559885\n",
       "f3845767    250953\n",
       "7e091613    102009\n",
       "98572c79     44416\n",
       "7687a86e     40878\n",
       "             ...  \n",
       "df7227d9         1\n",
       "6505b941         1\n",
       "95c6a19c         1\n",
       "377e4789         1\n",
       "43d9c8f2         1\n",
       "Name: strona_domena, Length: 2934, dtype: int64"
      ]
     },
     "execution_count": 17,
     "metadata": {},
     "output_type": "execute_result"
    }
   ],
   "source": [
    "print(df['strona_domena'].value_counts().shape)\n",
    "df['strona_domena'].value_counts()"
   ]
  },
  {
   "cell_type": "code",
   "execution_count": 18,
   "metadata": {},
   "outputs": [
    {
     "data": {
      "text/html": [
       "<div>\n",
       "<style scoped>\n",
       "    .dataframe tbody tr th:only-of-type {\n",
       "        vertical-align: middle;\n",
       "    }\n",
       "\n",
       "    .dataframe tbody tr th {\n",
       "        vertical-align: top;\n",
       "    }\n",
       "\n",
       "    .dataframe thead th {\n",
       "        text-align: right;\n",
       "    }\n",
       "</style>\n",
       "<table border=\"1\" class=\"dataframe\">\n",
       "  <thead>\n",
       "    <tr style=\"text-align: right;\">\n",
       "      <th></th>\n",
       "      <th>strona_domena</th>\n",
       "      <th>C_strona_domena</th>\n",
       "    </tr>\n",
       "  </thead>\n",
       "  <tbody>\n",
       "    <tr>\n",
       "      <td>1474584</td>\n",
       "      <td>f3845767</td>\n",
       "      <td>2785</td>\n",
       "    </tr>\n",
       "    <tr>\n",
       "      <td>101182</td>\n",
       "      <td>c4e18dd6</td>\n",
       "      <td>2255</td>\n",
       "    </tr>\n",
       "  </tbody>\n",
       "</table>\n",
       "</div>"
      ],
      "text/plain": [
       "        strona_domena  C_strona_domena\n",
       "1474584      f3845767             2785\n",
       "101182       c4e18dd6             2255"
      ]
     },
     "execution_count": 18,
     "metadata": {},
     "output_type": "execute_result"
    }
   ],
   "source": [
    "## Cyfryzuje przez mapowanie słownikowe:\n",
    "df['C_strona_domena'] = pd.Categorical(df['strona_domena']).codes\n",
    "df[['strona_domena','C_strona_domena']].sample(2)"
   ]
  },
  {
   "cell_type": "code",
   "execution_count": 19,
   "metadata": {},
   "outputs": [
    {
     "data": {
      "text/html": [
       "<div>\n",
       "<style scoped>\n",
       "    .dataframe tbody tr th:only-of-type {\n",
       "        vertical-align: middle;\n",
       "    }\n",
       "\n",
       "    .dataframe tbody tr th {\n",
       "        vertical-align: top;\n",
       "    }\n",
       "\n",
       "    .dataframe thead th {\n",
       "        text-align: right;\n",
       "    }\n",
       "</style>\n",
       "<table border=\"1\" class=\"dataframe\">\n",
       "  <thead>\n",
       "    <tr style=\"text-align: right;\">\n",
       "      <th></th>\n",
       "      <th>CYF_strona_domena</th>\n",
       "      <th>strona_domena</th>\n",
       "    </tr>\n",
       "  </thead>\n",
       "  <tbody>\n",
       "    <tr>\n",
       "      <td>100497</td>\n",
       "      <td>2255</td>\n",
       "      <td>c4e18dd6</td>\n",
       "    </tr>\n",
       "    <tr>\n",
       "      <td>1017330</td>\n",
       "      <td>2785</td>\n",
       "      <td>f3845767</td>\n",
       "    </tr>\n",
       "    <tr>\n",
       "      <td>422109</td>\n",
       "      <td>2255</td>\n",
       "      <td>c4e18dd6</td>\n",
       "    </tr>\n",
       "    <tr>\n",
       "      <td>809416</td>\n",
       "      <td>1746</td>\n",
       "      <td>98572c79</td>\n",
       "    </tr>\n",
       "  </tbody>\n",
       "</table>\n",
       "</div>"
      ],
      "text/plain": [
       "         CYF_strona_domena strona_domena\n",
       "100497                2255      c4e18dd6\n",
       "1017330               2785      f3845767\n",
       "422109                2255      c4e18dd6\n",
       "809416                1746      98572c79"
      ]
     },
     "execution_count": 19,
     "metadata": {},
     "output_type": "execute_result"
    }
   ],
   "source": [
    "SL_strona_domena = df.set_index('strona_domena')['C_strona_domena'].to_dict()\n",
    "#print(SL_strona_domena)\n",
    "df['CYF_strona_domena'] = df['strona_domena'].map(SL_strona_domena)\n",
    "del df['C_strona_domena']\n",
    "df[['CYF_strona_domena','strona_domena']].sample(4)"
   ]
  },
  {
   "cell_type": "code",
   "execution_count": 20,
   "metadata": {},
   "outputs": [
    {
     "name": "stdout",
     "output_type": "stream",
     "text": [
      "(2934,)\n",
      "(2934,)\n"
     ]
    }
   ],
   "source": [
    "## Sprawdzenie:\n",
    "print(df['strona_domena'].value_counts().shape)\n",
    "print(df['CYF_strona_domena'].value_counts().shape)\n",
    "#print(SL_strona_domena)"
   ]
  },
  {
   "cell_type": "markdown",
   "metadata": {},
   "source": [
    "### <span style=\"color:blue\">Cyfryzuje słownikowo: 'strona_kategoria'</span>"
   ]
  },
  {
   "cell_type": "code",
   "execution_count": 21,
   "metadata": {},
   "outputs": [
    {
     "name": "stdout",
     "output_type": "stream",
     "text": [
      "(21,)\n"
     ]
    },
    {
     "data": {
      "text/plain": [
       "50e219e0    600000\n",
       "f028772b    458162\n",
       "28905ebd    293606\n",
       "3e814130    113611\n",
       "f66779e6     13701\n",
       "335d28a8      5816\n",
       "76b2941d      4928\n",
       "75fa27f6      4614\n",
       "72722551      1569\n",
       "c0dd3be3      1066\n",
       "0569f928      1020\n",
       "70fb0e29       926\n",
       "dedf689d       582\n",
       "a818d37a       180\n",
       "42a36e14        70\n",
       "e787de0e        65\n",
       "bcf865d9        47\n",
       "5378d028        17\n",
       "8fd0aea4        13\n",
       "74073276         4\n",
       "9ccfa2ea         3\n",
       "Name: strona_kategoria, dtype: int64"
      ]
     },
     "execution_count": 21,
     "metadata": {},
     "output_type": "execute_result"
    }
   ],
   "source": [
    "print(df['strona_kategoria'].value_counts().shape)\n",
    "df['strona_kategoria'].value_counts()"
   ]
  },
  {
   "cell_type": "code",
   "execution_count": 22,
   "metadata": {},
   "outputs": [
    {
     "data": {
      "text/html": [
       "<div>\n",
       "<style scoped>\n",
       "    .dataframe tbody tr th:only-of-type {\n",
       "        vertical-align: middle;\n",
       "    }\n",
       "\n",
       "    .dataframe tbody tr th {\n",
       "        vertical-align: top;\n",
       "    }\n",
       "\n",
       "    .dataframe thead th {\n",
       "        text-align: right;\n",
       "    }\n",
       "</style>\n",
       "<table border=\"1\" class=\"dataframe\">\n",
       "  <thead>\n",
       "    <tr style=\"text-align: right;\">\n",
       "      <th></th>\n",
       "      <th>strona_kategoria</th>\n",
       "      <th>C_strona_kategoria</th>\n",
       "    </tr>\n",
       "  </thead>\n",
       "  <tbody>\n",
       "    <tr>\n",
       "      <td>493262</td>\n",
       "      <td>f028772b</td>\n",
       "      <td>19</td>\n",
       "    </tr>\n",
       "    <tr>\n",
       "      <td>164172</td>\n",
       "      <td>28905ebd</td>\n",
       "      <td>1</td>\n",
       "    </tr>\n",
       "  </tbody>\n",
       "</table>\n",
       "</div>"
      ],
      "text/plain": [
       "       strona_kategoria  C_strona_kategoria\n",
       "493262         f028772b                  19\n",
       "164172         28905ebd                   1"
      ]
     },
     "execution_count": 22,
     "metadata": {},
     "output_type": "execute_result"
    }
   ],
   "source": [
    "## Cyfryzuje przez mapowanie słownikowe:\n",
    "df['C_strona_kategoria'] = pd.Categorical(df['strona_kategoria']).codes\n",
    "df[['strona_kategoria','C_strona_kategoria']].sample(2)"
   ]
  },
  {
   "cell_type": "code",
   "execution_count": 23,
   "metadata": {},
   "outputs": [
    {
     "name": "stdout",
     "output_type": "stream",
     "text": [
      "{'50e219e0': 5, '28905ebd': 1, '3e814130': 3, 'f028772b': 19, '72722551': 8, '76b2941d': 11, 'f66779e6': 20, '335d28a8': 2, '0569f928': 0, '75fa27f6': 10, 'c0dd3be3': 16, 'a818d37a': 14, '42a36e14': 4, '70fb0e29': 7, 'bcf865d9': 15, '8fd0aea4': 12, '5378d028': 6, 'e787de0e': 18, 'dedf689d': 17, '74073276': 9, '9ccfa2ea': 13}\n"
     ]
    },
    {
     "data": {
      "text/html": [
       "<div>\n",
       "<style scoped>\n",
       "    .dataframe tbody tr th:only-of-type {\n",
       "        vertical-align: middle;\n",
       "    }\n",
       "\n",
       "    .dataframe tbody tr th {\n",
       "        vertical-align: top;\n",
       "    }\n",
       "\n",
       "    .dataframe thead th {\n",
       "        text-align: right;\n",
       "    }\n",
       "</style>\n",
       "<table border=\"1\" class=\"dataframe\">\n",
       "  <thead>\n",
       "    <tr style=\"text-align: right;\">\n",
       "      <th></th>\n",
       "      <th>CYF_strona_kategoria</th>\n",
       "      <th>strona_kategoria</th>\n",
       "    </tr>\n",
       "  </thead>\n",
       "  <tbody>\n",
       "    <tr>\n",
       "      <td>1074788</td>\n",
       "      <td>19</td>\n",
       "      <td>f028772b</td>\n",
       "    </tr>\n",
       "    <tr>\n",
       "      <td>937422</td>\n",
       "      <td>1</td>\n",
       "      <td>28905ebd</td>\n",
       "    </tr>\n",
       "    <tr>\n",
       "      <td>1336368</td>\n",
       "      <td>5</td>\n",
       "      <td>50e219e0</td>\n",
       "    </tr>\n",
       "    <tr>\n",
       "      <td>996495</td>\n",
       "      <td>19</td>\n",
       "      <td>f028772b</td>\n",
       "    </tr>\n",
       "  </tbody>\n",
       "</table>\n",
       "</div>"
      ],
      "text/plain": [
       "         CYF_strona_kategoria strona_kategoria\n",
       "1074788                    19         f028772b\n",
       "937422                      1         28905ebd\n",
       "1336368                     5         50e219e0\n",
       "996495                     19         f028772b"
      ]
     },
     "execution_count": 23,
     "metadata": {},
     "output_type": "execute_result"
    }
   ],
   "source": [
    "SL_strona_kategoria = df.set_index('strona_kategoria')['C_strona_kategoria'].to_dict()\n",
    "print(SL_strona_kategoria)\n",
    "df['CYF_strona_kategoria'] = df['strona_kategoria'].map(SL_strona_kategoria)\n",
    "del df['C_strona_kategoria']\n",
    "df[['CYF_strona_kategoria','strona_kategoria']].sample(4)"
   ]
  },
  {
   "cell_type": "code",
   "execution_count": 24,
   "metadata": {},
   "outputs": [
    {
     "name": "stdout",
     "output_type": "stream",
     "text": [
      "(21,)\n",
      "(21,)\n",
      "{'50e219e0': 5, '28905ebd': 1, '3e814130': 3, 'f028772b': 19, '72722551': 8, '76b2941d': 11, 'f66779e6': 20, '335d28a8': 2, '0569f928': 0, '75fa27f6': 10, 'c0dd3be3': 16, 'a818d37a': 14, '42a36e14': 4, '70fb0e29': 7, 'bcf865d9': 15, '8fd0aea4': 12, '5378d028': 6, 'e787de0e': 18, 'dedf689d': 17, '74073276': 9, '9ccfa2ea': 13}\n"
     ]
    }
   ],
   "source": [
    "## Sprawdzenie:\n",
    "print(df['strona_kategoria'].value_counts().shape)\n",
    "print(df['CYF_strona_kategoria'].value_counts().shape)\n",
    "print(SL_strona_kategoria)"
   ]
  },
  {
   "cell_type": "markdown",
   "metadata": {},
   "source": [
    "### <span style=\"color:blue\">Cyfryzuje słownikowo: 'aplikacja_id'</span>"
   ]
  },
  {
   "cell_type": "code",
   "execution_count": 25,
   "metadata": {},
   "outputs": [
    {
     "name": "stdout",
     "output_type": "stream",
     "text": [
      "(3443,)\n"
     ]
    },
    {
     "data": {
      "text/plain": [
       "ecad2386    958829\n",
       "7358e05e     42375\n",
       "e2fcccd2     39904\n",
       "febd1138     28105\n",
       "a5184c22     22450\n",
       "             ...  \n",
       "a93114fb         1\n",
       "58d1f275         1\n",
       "f35641ed         1\n",
       "63d0fd0a         1\n",
       "df615936         1\n",
       "Name: aplikacja_id, Length: 3443, dtype: int64"
      ]
     },
     "execution_count": 25,
     "metadata": {},
     "output_type": "execute_result"
    }
   ],
   "source": [
    "print(df[ 'aplikacja_id'].value_counts().shape)\n",
    "df[ 'aplikacja_id'].value_counts()"
   ]
  },
  {
   "cell_type": "code",
   "execution_count": 26,
   "metadata": {},
   "outputs": [
    {
     "data": {
      "text/html": [
       "<div>\n",
       "<style scoped>\n",
       "    .dataframe tbody tr th:only-of-type {\n",
       "        vertical-align: middle;\n",
       "    }\n",
       "\n",
       "    .dataframe tbody tr th {\n",
       "        vertical-align: top;\n",
       "    }\n",
       "\n",
       "    .dataframe thead th {\n",
       "        text-align: right;\n",
       "    }\n",
       "</style>\n",
       "<table border=\"1\" class=\"dataframe\">\n",
       "  <thead>\n",
       "    <tr style=\"text-align: right;\">\n",
       "      <th></th>\n",
       "      <th>aplikacja_id</th>\n",
       "      <th>C_aplikacja_id</th>\n",
       "    </tr>\n",
       "  </thead>\n",
       "  <tbody>\n",
       "    <tr>\n",
       "      <td>380169</td>\n",
       "      <td>617593f1</td>\n",
       "      <td>1354</td>\n",
       "    </tr>\n",
       "    <tr>\n",
       "      <td>1375869</td>\n",
       "      <td>ecad2386</td>\n",
       "      <td>3165</td>\n",
       "    </tr>\n",
       "  </tbody>\n",
       "</table>\n",
       "</div>"
      ],
      "text/plain": [
       "        aplikacja_id  C_aplikacja_id\n",
       "380169      617593f1            1354\n",
       "1375869     ecad2386            3165"
      ]
     },
     "execution_count": 26,
     "metadata": {},
     "output_type": "execute_result"
    }
   ],
   "source": [
    "## Cyfryzuje przez mapowanie słownikowe:\n",
    "df['C_aplikacja_id'] = pd.Categorical(df['aplikacja_id']).codes\n",
    "df[['aplikacja_id','C_aplikacja_id']].sample(2)"
   ]
  },
  {
   "cell_type": "code",
   "execution_count": 27,
   "metadata": {},
   "outputs": [
    {
     "data": {
      "text/html": [
       "<div>\n",
       "<style scoped>\n",
       "    .dataframe tbody tr th:only-of-type {\n",
       "        vertical-align: middle;\n",
       "    }\n",
       "\n",
       "    .dataframe tbody tr th {\n",
       "        vertical-align: top;\n",
       "    }\n",
       "\n",
       "    .dataframe thead th {\n",
       "        text-align: right;\n",
       "    }\n",
       "</style>\n",
       "<table border=\"1\" class=\"dataframe\">\n",
       "  <thead>\n",
       "    <tr style=\"text-align: right;\">\n",
       "      <th></th>\n",
       "      <th>CYF_aplikacja_id</th>\n",
       "      <th>aplikacja_id</th>\n",
       "    </tr>\n",
       "  </thead>\n",
       "  <tbody>\n",
       "    <tr>\n",
       "      <td>75784</td>\n",
       "      <td>43</td>\n",
       "      <td>03528b27</td>\n",
       "    </tr>\n",
       "    <tr>\n",
       "      <td>810926</td>\n",
       "      <td>3165</td>\n",
       "      <td>ecad2386</td>\n",
       "    </tr>\n",
       "    <tr>\n",
       "      <td>819764</td>\n",
       "      <td>3165</td>\n",
       "      <td>ecad2386</td>\n",
       "    </tr>\n",
       "    <tr>\n",
       "      <td>188920</td>\n",
       "      <td>3115</td>\n",
       "      <td>e9739828</td>\n",
       "    </tr>\n",
       "  </tbody>\n",
       "</table>\n",
       "</div>"
      ],
      "text/plain": [
       "        CYF_aplikacja_id aplikacja_id\n",
       "75784                 43     03528b27\n",
       "810926              3165     ecad2386\n",
       "819764              3165     ecad2386\n",
       "188920              3115     e9739828"
      ]
     },
     "execution_count": 27,
     "metadata": {},
     "output_type": "execute_result"
    }
   ],
   "source": [
    "SL_aplikacja_id = df.set_index('aplikacja_id')['C_aplikacja_id'].to_dict()\n",
    "#print(SL_aplikacja_id)\n",
    "df['CYF_aplikacja_id'] = df['aplikacja_id'].map(SL_aplikacja_id)\n",
    "del df['C_aplikacja_id']\n",
    "df[['CYF_aplikacja_id','aplikacja_id']].sample(4)"
   ]
  },
  {
   "cell_type": "code",
   "execution_count": 28,
   "metadata": {},
   "outputs": [
    {
     "name": "stdout",
     "output_type": "stream",
     "text": [
      "(3443,)\n",
      "(3443,)\n"
     ]
    }
   ],
   "source": [
    "## Sprawdzenie:\n",
    "print(df['aplikacja_id'].value_counts().shape)\n",
    "print(df['CYF_aplikacja_id'].value_counts().shape)\n",
    "#print(SL_aplikacja_id)"
   ]
  },
  {
   "cell_type": "markdown",
   "metadata": {},
   "source": [
    "### <span style=\"color:blue\"> Cyfryzuje słownikowo: 'aplikacja_domena'</span>"
   ]
  },
  {
   "cell_type": "code",
   "execution_count": 29,
   "metadata": {},
   "outputs": [
    {
     "name": "stdout",
     "output_type": "stream",
     "text": [
      "(215,)\n"
     ]
    },
    {
     "data": {
      "text/plain": [
       "7801e8d9    1009180\n",
       "2347f47a     191727\n",
       "b9528b13      43281\n",
       "5c5a694b      39909\n",
       "d9b5648e      31102\n",
       "             ...   \n",
       "95f77e10          1\n",
       "b50610ee          1\n",
       "6b062297          1\n",
       "bb2a164d          1\n",
       "800100e0          1\n",
       "Name: aplikacja_domena, Length: 215, dtype: int64"
      ]
     },
     "execution_count": 29,
     "metadata": {},
     "output_type": "execute_result"
    }
   ],
   "source": [
    "print(df['aplikacja_domena'].value_counts().shape)\n",
    "df['aplikacja_domena'].value_counts()"
   ]
  },
  {
   "cell_type": "code",
   "execution_count": 30,
   "metadata": {},
   "outputs": [
    {
     "data": {
      "text/html": [
       "<div>\n",
       "<style scoped>\n",
       "    .dataframe tbody tr th:only-of-type {\n",
       "        vertical-align: middle;\n",
       "    }\n",
       "\n",
       "    .dataframe tbody tr th {\n",
       "        vertical-align: top;\n",
       "    }\n",
       "\n",
       "    .dataframe thead th {\n",
       "        text-align: right;\n",
       "    }\n",
       "</style>\n",
       "<table border=\"1\" class=\"dataframe\">\n",
       "  <thead>\n",
       "    <tr style=\"text-align: right;\">\n",
       "      <th></th>\n",
       "      <th>aplikacja_domena</th>\n",
       "      <th>C_aplikacja_domena</th>\n",
       "    </tr>\n",
       "  </thead>\n",
       "  <tbody>\n",
       "    <tr>\n",
       "      <td>744756</td>\n",
       "      <td>7801e8d9</td>\n",
       "      <td>92</td>\n",
       "    </tr>\n",
       "    <tr>\n",
       "      <td>881670</td>\n",
       "      <td>7801e8d9</td>\n",
       "      <td>92</td>\n",
       "    </tr>\n",
       "  </tbody>\n",
       "</table>\n",
       "</div>"
      ],
      "text/plain": [
       "       aplikacja_domena  C_aplikacja_domena\n",
       "744756         7801e8d9                  92\n",
       "881670         7801e8d9                  92"
      ]
     },
     "execution_count": 30,
     "metadata": {},
     "output_type": "execute_result"
    }
   ],
   "source": [
    "## Cyfryzuje przez mapowanie słownikowe:\n",
    "df['C_aplikacja_domena'] = pd.Categorical(df['aplikacja_domena']).codes\n",
    "df[['aplikacja_domena','C_aplikacja_domena']].sample(2)"
   ]
  },
  {
   "cell_type": "code",
   "execution_count": 31,
   "metadata": {},
   "outputs": [
    {
     "name": "stdout",
     "output_type": "stream",
     "text": [
      "{'82e27996': 101, '7801e8d9': 92, '2347f47a': 31, '828da833': 100, '45a51db4': 54, '33da2e74': 42, 'd9b5648e': 181, 'df32afa9': 188, 'aefc06bd': 139, '813f3323': 99, '885c7f3f': 105, '5c5a694b': 72, 'ae637522': 137, '0654b444': 2, '5b9c592b': 70, 'b8d325c3': 153, 'f2f777fb': 203, 'c6824def': 169, '5c620f04': 73, '3feeed1e': 48, '56eabb45': 64, 'ad63ec9b': 134, 'b9528b13': 156, 'b5f3b24a': 149, 'b2816726': 143, '6f7ca2ba': 85, 'e787a6bc': 194, '15ec7f39': 13, 'f3ad7798': 204, '5ac0b939': 67, '43cf4f06': 50, '2b627705': 39, 'e5d5313f': 193, 'a271c340': 128, '18eb4e75': 16, '15c23f8e': 12, '47464e95': 55, '8d87821d': 109, 'db829551': 185, '9ecca2dd': 126, '700adbf0': 86, '0e8616ad': 8, '9acfe436': 120, 'fd68cbd8': 214, '88293ffa': 104, 'b408d42a': 146, '999f1fac': 118, '7bbb38df': 96, '1ed56ded': 26, 'b6c7e8e1': 150, '0eb1a401': 9, '0d79ee56': 7, 'fd5f0ee2': 213, 'd6feb1a4': 179, 'b51aefa8': 148, '27ee373d': 36, 'cb36afb8': 173, '9ec164d3': 125, 'b12ff13e': 142, 'ef1fc174': 201, '2619a4f7': 34, '3ca588d4': 45, '756ffb85': 90, '2c1c31c6': 40, '298309ba': 37, '64ae80a5': 77, '4fafd4c4': 58, 'd18c63a1': 177, '48aec236': 57, 'afdf1f54': 140, 'e25eea83': 191, 'da1be86e': 183, 'b7af3e0a': 151, 'd9e67b62': 182, 'fceed35e': 211, 'c72257c6': 170, '713c0c91': 87, '99b4c806': 119, '1cb641ec': 21, '63f57be0': 75, 'b88e8096': 152, '6bfb9168': 83, '97efe5c6': 116, '5211766b': 62, '063914ab': 1, 'fc41b20c': 210, 'b50610ee': 147, '7a94af76': 94, '90322ef6': 110, '519a450d': 61, '7a9371fa': 93, 'b299335a': 144, 'b9215c20': 155, '17578ec3': 14, '57cf0548': 65, 'bcef5708': 161, '2022d54e': 28, 'f7f22564': 208, '29cd071c': 38, 'bf2623ab': 165, '6aafed40': 81, 'cda96d46': 175, '1d5e09f4': 23, '86aa8fec': 103, 'dec87c2e': 187, '65b2af4c': 78, 'a5204413': 129, 'fd0f197b': 212, '1c666936': 18, '47db8711': 56, '7d58e760': 97, 'b0920d40': 141, 'bd8c1fdc': 162, 'edc7d7a7': 199, '5b3f66ff': 69, 'c36365e3': 167, '201ad671': 27, 'a5f9dc5b': 130, '448ca2e3': 52, 'ed7f6170': 198, '6b062297': 82, '90706f5d': 111, '438468ad': 49, 'ce2ca36f': 176, '7b833eb9': 95, '734d52b9': 88, 'e9d5949e': 195, 'e24414c4': 189, '51174fb1': 60, '9d65dcb9': 122, 'b97def0d': 157, 'f5a7c834': 206, '73fc6786': 89, '90d75517': 112, '6a0a3a9d': 79, '3df323d8': 46, 'cb96370c': 174, 'f09de4dc': 202, '26378630': 35, 'd3c75c8f': 178, '9e96e8cf': 124, '214e1541': 30, '1c895c8c': 20, '5daf29b2': 74, 'c0940197': 166, 'bb6bcbae': 160, '9830a8fb': 117, '772df91c': 91, '1ea19ec4': 25, 'e5d008b4': 192, '64845f22': 76, '256a5990': 33, 'ca7441a4': 172, '1cbecd39': 22, '1b74784d': 17, '3c992420': 44, 'a09b1cc0': 127, 'aa396318': 133, 'ba275770': 158, '1ddc989f': 24, '5bcedd7d': 71, 'c87b28e6': 171, '9cc1123d': 121, '916026d9': 113, 'a981375c': 132, '084f6382': 4, 'ae36b8ab': 136, 'c5c485e8': 168, '002e4064': 0, 'adacd5cc': 135, '800100e0': 98, 'be452468': 164, '06a7ad59': 3, '95f77e10': 115, '9e4f24c2': 123, 'ead20d3d': 197, 'dcdba109': 186, '23e2c80e': 32, '179fcd69': 15, 'aee494fb': 138, '8bb7dba9': 108, 'bb2a164d': 159, '44324ff4': 51, '5ad474ea': 68, '863f4950': 102, 'f84a2400': 209, 'b398ab59': 145, '449e219f': 53, 'da45f10e': 184, 'b8f3e522': 154, '6a90b0cb': 80, '09abdb18': 5, '6f406d5b': 84, 'a8b0bf20': 131, '1c73b8ac': 19, '547624e0': 63, '36fb59d6': 43, 'ee7d2e2b': 200, 'f435cae0': 205, '3fa331b0': 47, '89896125': 106, '20ab8b07': 29, 'eaaf6d12': 196, 'bdde4c9b': 163, '323f3fe5': 41, '1438d51f': 11, '12aaf71f': 10, '92895b94': 114, '5048f612': 59, '8ab0d4f4': 107, 'd98095bb': 180, 'e25ea824': 190, '59e465f4': 66, 'f75ccedd': 207, '0b7d3d7d': 6}\n"
     ]
    },
    {
     "data": {
      "text/html": [
       "<div>\n",
       "<style scoped>\n",
       "    .dataframe tbody tr th:only-of-type {\n",
       "        vertical-align: middle;\n",
       "    }\n",
       "\n",
       "    .dataframe tbody tr th {\n",
       "        vertical-align: top;\n",
       "    }\n",
       "\n",
       "    .dataframe thead th {\n",
       "        text-align: right;\n",
       "    }\n",
       "</style>\n",
       "<table border=\"1\" class=\"dataframe\">\n",
       "  <thead>\n",
       "    <tr style=\"text-align: right;\">\n",
       "      <th></th>\n",
       "      <th>CYF_aplikacja_domena</th>\n",
       "      <th>aplikacja_domena</th>\n",
       "    </tr>\n",
       "  </thead>\n",
       "  <tbody>\n",
       "    <tr>\n",
       "      <td>1470448</td>\n",
       "      <td>31</td>\n",
       "      <td>2347f47a</td>\n",
       "    </tr>\n",
       "    <tr>\n",
       "      <td>510139</td>\n",
       "      <td>92</td>\n",
       "      <td>7801e8d9</td>\n",
       "    </tr>\n",
       "    <tr>\n",
       "      <td>727487</td>\n",
       "      <td>92</td>\n",
       "      <td>7801e8d9</td>\n",
       "    </tr>\n",
       "    <tr>\n",
       "      <td>837479</td>\n",
       "      <td>92</td>\n",
       "      <td>7801e8d9</td>\n",
       "    </tr>\n",
       "  </tbody>\n",
       "</table>\n",
       "</div>"
      ],
      "text/plain": [
       "         CYF_aplikacja_domena aplikacja_domena\n",
       "1470448                    31         2347f47a\n",
       "510139                     92         7801e8d9\n",
       "727487                     92         7801e8d9\n",
       "837479                     92         7801e8d9"
      ]
     },
     "execution_count": 31,
     "metadata": {},
     "output_type": "execute_result"
    }
   ],
   "source": [
    "SL_aplikacja_domena = df.set_index('aplikacja_domena')['C_aplikacja_domena'].to_dict()\n",
    "print(SL_aplikacja_domena)\n",
    "df['CYF_aplikacja_domena'] = df['aplikacja_domena'].map(SL_aplikacja_domena)\n",
    "del df['C_aplikacja_domena']\n",
    "df[['CYF_aplikacja_domena','aplikacja_domena']].sample(4)"
   ]
  },
  {
   "cell_type": "code",
   "execution_count": 32,
   "metadata": {},
   "outputs": [
    {
     "name": "stdout",
     "output_type": "stream",
     "text": [
      "(215,)\n",
      "(215,)\n",
      "{'82e27996': 101, '7801e8d9': 92, '2347f47a': 31, '828da833': 100, '45a51db4': 54, '33da2e74': 42, 'd9b5648e': 181, 'df32afa9': 188, 'aefc06bd': 139, '813f3323': 99, '885c7f3f': 105, '5c5a694b': 72, 'ae637522': 137, '0654b444': 2, '5b9c592b': 70, 'b8d325c3': 153, 'f2f777fb': 203, 'c6824def': 169, '5c620f04': 73, '3feeed1e': 48, '56eabb45': 64, 'ad63ec9b': 134, 'b9528b13': 156, 'b5f3b24a': 149, 'b2816726': 143, '6f7ca2ba': 85, 'e787a6bc': 194, '15ec7f39': 13, 'f3ad7798': 204, '5ac0b939': 67, '43cf4f06': 50, '2b627705': 39, 'e5d5313f': 193, 'a271c340': 128, '18eb4e75': 16, '15c23f8e': 12, '47464e95': 55, '8d87821d': 109, 'db829551': 185, '9ecca2dd': 126, '700adbf0': 86, '0e8616ad': 8, '9acfe436': 120, 'fd68cbd8': 214, '88293ffa': 104, 'b408d42a': 146, '999f1fac': 118, '7bbb38df': 96, '1ed56ded': 26, 'b6c7e8e1': 150, '0eb1a401': 9, '0d79ee56': 7, 'fd5f0ee2': 213, 'd6feb1a4': 179, 'b51aefa8': 148, '27ee373d': 36, 'cb36afb8': 173, '9ec164d3': 125, 'b12ff13e': 142, 'ef1fc174': 201, '2619a4f7': 34, '3ca588d4': 45, '756ffb85': 90, '2c1c31c6': 40, '298309ba': 37, '64ae80a5': 77, '4fafd4c4': 58, 'd18c63a1': 177, '48aec236': 57, 'afdf1f54': 140, 'e25eea83': 191, 'da1be86e': 183, 'b7af3e0a': 151, 'd9e67b62': 182, 'fceed35e': 211, 'c72257c6': 170, '713c0c91': 87, '99b4c806': 119, '1cb641ec': 21, '63f57be0': 75, 'b88e8096': 152, '6bfb9168': 83, '97efe5c6': 116, '5211766b': 62, '063914ab': 1, 'fc41b20c': 210, 'b50610ee': 147, '7a94af76': 94, '90322ef6': 110, '519a450d': 61, '7a9371fa': 93, 'b299335a': 144, 'b9215c20': 155, '17578ec3': 14, '57cf0548': 65, 'bcef5708': 161, '2022d54e': 28, 'f7f22564': 208, '29cd071c': 38, 'bf2623ab': 165, '6aafed40': 81, 'cda96d46': 175, '1d5e09f4': 23, '86aa8fec': 103, 'dec87c2e': 187, '65b2af4c': 78, 'a5204413': 129, 'fd0f197b': 212, '1c666936': 18, '47db8711': 56, '7d58e760': 97, 'b0920d40': 141, 'bd8c1fdc': 162, 'edc7d7a7': 199, '5b3f66ff': 69, 'c36365e3': 167, '201ad671': 27, 'a5f9dc5b': 130, '448ca2e3': 52, 'ed7f6170': 198, '6b062297': 82, '90706f5d': 111, '438468ad': 49, 'ce2ca36f': 176, '7b833eb9': 95, '734d52b9': 88, 'e9d5949e': 195, 'e24414c4': 189, '51174fb1': 60, '9d65dcb9': 122, 'b97def0d': 157, 'f5a7c834': 206, '73fc6786': 89, '90d75517': 112, '6a0a3a9d': 79, '3df323d8': 46, 'cb96370c': 174, 'f09de4dc': 202, '26378630': 35, 'd3c75c8f': 178, '9e96e8cf': 124, '214e1541': 30, '1c895c8c': 20, '5daf29b2': 74, 'c0940197': 166, 'bb6bcbae': 160, '9830a8fb': 117, '772df91c': 91, '1ea19ec4': 25, 'e5d008b4': 192, '64845f22': 76, '256a5990': 33, 'ca7441a4': 172, '1cbecd39': 22, '1b74784d': 17, '3c992420': 44, 'a09b1cc0': 127, 'aa396318': 133, 'ba275770': 158, '1ddc989f': 24, '5bcedd7d': 71, 'c87b28e6': 171, '9cc1123d': 121, '916026d9': 113, 'a981375c': 132, '084f6382': 4, 'ae36b8ab': 136, 'c5c485e8': 168, '002e4064': 0, 'adacd5cc': 135, '800100e0': 98, 'be452468': 164, '06a7ad59': 3, '95f77e10': 115, '9e4f24c2': 123, 'ead20d3d': 197, 'dcdba109': 186, '23e2c80e': 32, '179fcd69': 15, 'aee494fb': 138, '8bb7dba9': 108, 'bb2a164d': 159, '44324ff4': 51, '5ad474ea': 68, '863f4950': 102, 'f84a2400': 209, 'b398ab59': 145, '449e219f': 53, 'da45f10e': 184, 'b8f3e522': 154, '6a90b0cb': 80, '09abdb18': 5, '6f406d5b': 84, 'a8b0bf20': 131, '1c73b8ac': 19, '547624e0': 63, '36fb59d6': 43, 'ee7d2e2b': 200, 'f435cae0': 205, '3fa331b0': 47, '89896125': 106, '20ab8b07': 29, 'eaaf6d12': 196, 'bdde4c9b': 163, '323f3fe5': 41, '1438d51f': 11, '12aaf71f': 10, '92895b94': 114, '5048f612': 59, '8ab0d4f4': 107, 'd98095bb': 180, 'e25ea824': 190, '59e465f4': 66, 'f75ccedd': 207, '0b7d3d7d': 6}\n"
     ]
    }
   ],
   "source": [
    "## Sprawdzenie:\n",
    "print(df['aplikacja_domena'].value_counts().shape)\n",
    "print(df['CYF_aplikacja_domena'].value_counts().shape)\n",
    "print(SL_aplikacja_domena)"
   ]
  },
  {
   "cell_type": "markdown",
   "metadata": {},
   "source": [
    "### <span style=\"color:blue\"> Cyfryzuje słownikowo:  'aplikacja_kategoria'</span>"
   ]
  },
  {
   "cell_type": "code",
   "execution_count": 33,
   "metadata": {},
   "outputs": [
    {
     "name": "stdout",
     "output_type": "stream",
     "text": [
      "(26,)\n"
     ]
    },
    {
     "data": {
      "text/plain": [
       "07d7df22    971720\n",
       "0f2161f8    347532\n",
       "cef3e649     91017\n",
       "f95efa07     36557\n",
       "8ded1f7a     34818\n",
       "d1327cf5      5900\n",
       "09481d60      4858\n",
       "dc97ec06      1883\n",
       "75d80bbe      1815\n",
       "4ce2e9fc       929\n",
       "879c24eb       865\n",
       "fc6fa53d       819\n",
       "a3c42688       398\n",
       "4681bb9d       280\n",
       "0f9a328c       258\n",
       "a86a3e89       106\n",
       "2281a340        80\n",
       "8df2e842        62\n",
       "0bfbc358        36\n",
       "79f0b860        23\n",
       "a7fd01ec        20\n",
       "7113d72a         9\n",
       "18b1e0be         8\n",
       "2fc4f2aa         3\n",
       "5326cf99         3\n",
       "71af18ce         1\n",
       "Name: aplikacja_kategoria, dtype: int64"
      ]
     },
     "execution_count": 33,
     "metadata": {},
     "output_type": "execute_result"
    }
   ],
   "source": [
    "print(df['aplikacja_kategoria'].value_counts().shape)\n",
    "df['aplikacja_kategoria'].value_counts()"
   ]
  },
  {
   "cell_type": "code",
   "execution_count": 34,
   "metadata": {},
   "outputs": [
    {
     "data": {
      "text/html": [
       "<div>\n",
       "<style scoped>\n",
       "    .dataframe tbody tr th:only-of-type {\n",
       "        vertical-align: middle;\n",
       "    }\n",
       "\n",
       "    .dataframe tbody tr th {\n",
       "        vertical-align: top;\n",
       "    }\n",
       "\n",
       "    .dataframe thead th {\n",
       "        text-align: right;\n",
       "    }\n",
       "</style>\n",
       "<table border=\"1\" class=\"dataframe\">\n",
       "  <thead>\n",
       "    <tr style=\"text-align: right;\">\n",
       "      <th></th>\n",
       "      <th>aplikacja_kategoria</th>\n",
       "      <th>C_aplikacja_kategoria</th>\n",
       "    </tr>\n",
       "  </thead>\n",
       "  <tbody>\n",
       "    <tr>\n",
       "      <td>1398649</td>\n",
       "      <td>07d7df22</td>\n",
       "      <td>0</td>\n",
       "    </tr>\n",
       "    <tr>\n",
       "      <td>385522</td>\n",
       "      <td>07d7df22</td>\n",
       "      <td>0</td>\n",
       "    </tr>\n",
       "  </tbody>\n",
       "</table>\n",
       "</div>"
      ],
      "text/plain": [
       "        aplikacja_kategoria  C_aplikacja_kategoria\n",
       "1398649            07d7df22                      0\n",
       "385522             07d7df22                      0"
      ]
     },
     "execution_count": 34,
     "metadata": {},
     "output_type": "execute_result"
    }
   ],
   "source": [
    "## Cyfryzuje przez mapowanie słownikowe:\n",
    "df['C_aplikacja_kategoria'] = pd.Categorical(df['aplikacja_kategoria']).codes\n",
    "df[['aplikacja_kategoria','C_aplikacja_kategoria']].sample(2)"
   ]
  },
  {
   "cell_type": "code",
   "execution_count": 35,
   "metadata": {},
   "outputs": [
    {
     "name": "stdout",
     "output_type": "stream",
     "text": [
      "{'0f2161f8': 3, '07d7df22': 0, 'cef3e649': 21, 'f95efa07': 24, 'd1327cf5': 22, '8ded1f7a': 16, '4ce2e9fc': 9, '75d80bbe': 13, 'a3c42688': 18, '09481d60': 1, 'dc97ec06': 23, '0f9a328c': 4, '879c24eb': 15, 'fc6fa53d': 25, 'a7fd01ec': 19, 'a86a3e89': 20, '7113d72a': 11, '4681bb9d': 8, '0bfbc358': 2, '2281a340': 6, '79f0b860': 14, '8df2e842': 17, '18b1e0be': 5, '2fc4f2aa': 7, '5326cf99': 10, '71af18ce': 12}\n"
     ]
    },
    {
     "data": {
      "text/html": [
       "<div>\n",
       "<style scoped>\n",
       "    .dataframe tbody tr th:only-of-type {\n",
       "        vertical-align: middle;\n",
       "    }\n",
       "\n",
       "    .dataframe tbody tr th {\n",
       "        vertical-align: top;\n",
       "    }\n",
       "\n",
       "    .dataframe thead th {\n",
       "        text-align: right;\n",
       "    }\n",
       "</style>\n",
       "<table border=\"1\" class=\"dataframe\">\n",
       "  <thead>\n",
       "    <tr style=\"text-align: right;\">\n",
       "      <th></th>\n",
       "      <th>CYF_aplikacja_kategoria</th>\n",
       "      <th>aplikacja_kategoria</th>\n",
       "    </tr>\n",
       "  </thead>\n",
       "  <tbody>\n",
       "    <tr>\n",
       "      <td>1248172</td>\n",
       "      <td>0</td>\n",
       "      <td>07d7df22</td>\n",
       "    </tr>\n",
       "    <tr>\n",
       "      <td>1238732</td>\n",
       "      <td>0</td>\n",
       "      <td>07d7df22</td>\n",
       "    </tr>\n",
       "    <tr>\n",
       "      <td>68402</td>\n",
       "      <td>16</td>\n",
       "      <td>8ded1f7a</td>\n",
       "    </tr>\n",
       "    <tr>\n",
       "      <td>633090</td>\n",
       "      <td>3</td>\n",
       "      <td>0f2161f8</td>\n",
       "    </tr>\n",
       "  </tbody>\n",
       "</table>\n",
       "</div>"
      ],
      "text/plain": [
       "         CYF_aplikacja_kategoria aplikacja_kategoria\n",
       "1248172                        0            07d7df22\n",
       "1238732                        0            07d7df22\n",
       "68402                         16            8ded1f7a\n",
       "633090                         3            0f2161f8"
      ]
     },
     "execution_count": 35,
     "metadata": {},
     "output_type": "execute_result"
    }
   ],
   "source": [
    "SL_aplikacja_kategoria = df.set_index('aplikacja_kategoria')['C_aplikacja_kategoria'].to_dict()\n",
    "print(SL_aplikacja_kategoria)\n",
    "df['CYF_aplikacja_kategoria'] = df['aplikacja_kategoria'].map(SL_aplikacja_kategoria)\n",
    "del df['C_aplikacja_kategoria']\n",
    "df[['CYF_aplikacja_kategoria','aplikacja_kategoria']].sample(4)"
   ]
  },
  {
   "cell_type": "code",
   "execution_count": 36,
   "metadata": {},
   "outputs": [
    {
     "name": "stdout",
     "output_type": "stream",
     "text": [
      "(26,)\n",
      "(26,)\n",
      "{'0f2161f8': 3, '07d7df22': 0, 'cef3e649': 21, 'f95efa07': 24, 'd1327cf5': 22, '8ded1f7a': 16, '4ce2e9fc': 9, '75d80bbe': 13, 'a3c42688': 18, '09481d60': 1, 'dc97ec06': 23, '0f9a328c': 4, '879c24eb': 15, 'fc6fa53d': 25, 'a7fd01ec': 19, 'a86a3e89': 20, '7113d72a': 11, '4681bb9d': 8, '0bfbc358': 2, '2281a340': 6, '79f0b860': 14, '8df2e842': 17, '18b1e0be': 5, '2fc4f2aa': 7, '5326cf99': 10, '71af18ce': 12}\n"
     ]
    }
   ],
   "source": [
    "## Sprawdzenie:\n",
    "print(df['aplikacja_kategoria'].value_counts().shape)\n",
    "print(df['CYF_aplikacja_kategoria'].value_counts().shape)\n",
    "print(SL_aplikacja_kategoria)"
   ]
  },
  {
   "cell_type": "markdown",
   "metadata": {},
   "source": [
    "### <span style=\"color:blue\"> 'urz_id'</span>"
   ]
  },
  {
   "cell_type": "code",
   "execution_count": 37,
   "metadata": {},
   "outputs": [
    {
     "name": "stdout",
     "output_type": "stream",
     "text": [
      "(199796,)\n"
     ]
    },
    {
     "data": {
      "text/plain": [
       "a99f214a    1234185\n",
       "c357dbff       1856\n",
       "936e92fb        699\n",
       "cef4c8cc        192\n",
       "afeffc18        191\n",
       "             ...   \n",
       "13b702c5          1\n",
       "409f5841          1\n",
       "6c3d916b          1\n",
       "b9ac65ca          1\n",
       "cd94c24e          1\n",
       "Name: urz_id, Length: 199796, dtype: int64"
      ]
     },
     "execution_count": 37,
     "metadata": {},
     "output_type": "execute_result"
    }
   ],
   "source": [
    "print(df['urz_id'].value_counts().shape)\n",
    "df['urz_id'].value_counts()"
   ]
  },
  {
   "cell_type": "code",
   "execution_count": 38,
   "metadata": {},
   "outputs": [
    {
     "data": {
      "text/html": [
       "<div>\n",
       "<style scoped>\n",
       "    .dataframe tbody tr th:only-of-type {\n",
       "        vertical-align: middle;\n",
       "    }\n",
       "\n",
       "    .dataframe tbody tr th {\n",
       "        vertical-align: top;\n",
       "    }\n",
       "\n",
       "    .dataframe thead th {\n",
       "        text-align: right;\n",
       "    }\n",
       "</style>\n",
       "<table border=\"1\" class=\"dataframe\">\n",
       "  <thead>\n",
       "    <tr style=\"text-align: right;\">\n",
       "      <th></th>\n",
       "      <th>urz_id</th>\n",
       "      <th>C_urz_id</th>\n",
       "    </tr>\n",
       "  </thead>\n",
       "  <tbody>\n",
       "    <tr>\n",
       "      <td>904298</td>\n",
       "      <td>a99f214a</td>\n",
       "      <td>132302</td>\n",
       "    </tr>\n",
       "    <tr>\n",
       "      <td>67648</td>\n",
       "      <td>a99f214a</td>\n",
       "      <td>132302</td>\n",
       "    </tr>\n",
       "  </tbody>\n",
       "</table>\n",
       "</div>"
      ],
      "text/plain": [
       "          urz_id  C_urz_id\n",
       "904298  a99f214a    132302\n",
       "67648   a99f214a    132302"
      ]
     },
     "execution_count": 38,
     "metadata": {},
     "output_type": "execute_result"
    }
   ],
   "source": [
    "## Cyfryzuje przez mapowanie słownikowe:\n",
    "df['C_urz_id'] = pd.Categorical(df['urz_id']).codes\n",
    "df[['urz_id','C_urz_id']].sample(2)"
   ]
  },
  {
   "cell_type": "code",
   "execution_count": 39,
   "metadata": {},
   "outputs": [
    {
     "data": {
      "text/html": [
       "<div>\n",
       "<style scoped>\n",
       "    .dataframe tbody tr th:only-of-type {\n",
       "        vertical-align: middle;\n",
       "    }\n",
       "\n",
       "    .dataframe tbody tr th {\n",
       "        vertical-align: top;\n",
       "    }\n",
       "\n",
       "    .dataframe thead th {\n",
       "        text-align: right;\n",
       "    }\n",
       "</style>\n",
       "<table border=\"1\" class=\"dataframe\">\n",
       "  <thead>\n",
       "    <tr style=\"text-align: right;\">\n",
       "      <th></th>\n",
       "      <th>CYF_urz_id</th>\n",
       "      <th>urz_id</th>\n",
       "    </tr>\n",
       "  </thead>\n",
       "  <tbody>\n",
       "    <tr>\n",
       "      <td>976517</td>\n",
       "      <td>132302</td>\n",
       "      <td>a99f214a</td>\n",
       "    </tr>\n",
       "    <tr>\n",
       "      <td>388152</td>\n",
       "      <td>132302</td>\n",
       "      <td>a99f214a</td>\n",
       "    </tr>\n",
       "    <tr>\n",
       "      <td>1214973</td>\n",
       "      <td>132302</td>\n",
       "      <td>a99f214a</td>\n",
       "    </tr>\n",
       "    <tr>\n",
       "      <td>1314337</td>\n",
       "      <td>132302</td>\n",
       "      <td>a99f214a</td>\n",
       "    </tr>\n",
       "  </tbody>\n",
       "</table>\n",
       "</div>"
      ],
      "text/plain": [
       "         CYF_urz_id    urz_id\n",
       "976517       132302  a99f214a\n",
       "388152       132302  a99f214a\n",
       "1214973      132302  a99f214a\n",
       "1314337      132302  a99f214a"
      ]
     },
     "execution_count": 39,
     "metadata": {},
     "output_type": "execute_result"
    }
   ],
   "source": [
    "SL_urz_id = df.set_index('urz_id')['C_urz_id'].to_dict()\n",
    "#print(SL_urz_id)\n",
    "df['CYF_urz_id'] = df['urz_id'].map(SL_urz_id)\n",
    "del df['C_urz_id']\n",
    "df[['CYF_urz_id','urz_id']].sample(4)"
   ]
  },
  {
   "cell_type": "code",
   "execution_count": 40,
   "metadata": {},
   "outputs": [
    {
     "name": "stdout",
     "output_type": "stream",
     "text": [
      "(199796,)\n",
      "(199796,)\n"
     ]
    }
   ],
   "source": [
    "## Sprawdzenie:\n",
    "print(df['urz_id'].value_counts().shape)\n",
    "print(df['CYF_urz_id'].value_counts().shape)\n",
    "#print(SL_urz_id)"
   ]
  },
  {
   "cell_type": "markdown",
   "metadata": {},
   "source": [
    "### <span style=\"color:blue\"> Cyfryzuje słownikowo: Cyfryzuje słownikowo: 'urz_ip'</span>"
   ]
  },
  {
   "cell_type": "code",
   "execution_count": 41,
   "metadata": {},
   "outputs": [
    {
     "name": "stdout",
     "output_type": "stream",
     "text": [
      "(679058,)\n"
     ]
    },
    {
     "data": {
      "text/plain": [
       "6b9769f2    7610\n",
       "431b3174    5054\n",
       "ddd2926e    2722\n",
       "1cf29716    2706\n",
       "c6563308    2700\n",
       "            ... \n",
       "9252f209       1\n",
       "df598600       1\n",
       "53ff1472       1\n",
       "e0ca0cb2       1\n",
       "5c2af245       1\n",
       "Name: urz_ip, Length: 679058, dtype: int64"
      ]
     },
     "execution_count": 41,
     "metadata": {},
     "output_type": "execute_result"
    }
   ],
   "source": [
    "print(df['urz_ip'].value_counts().shape)\n",
    "df['urz_ip'].value_counts()"
   ]
  },
  {
   "cell_type": "code",
   "execution_count": 42,
   "metadata": {},
   "outputs": [
    {
     "data": {
      "text/html": [
       "<div>\n",
       "<style scoped>\n",
       "    .dataframe tbody tr th:only-of-type {\n",
       "        vertical-align: middle;\n",
       "    }\n",
       "\n",
       "    .dataframe tbody tr th {\n",
       "        vertical-align: top;\n",
       "    }\n",
       "\n",
       "    .dataframe thead th {\n",
       "        text-align: right;\n",
       "    }\n",
       "</style>\n",
       "<table border=\"1\" class=\"dataframe\">\n",
       "  <thead>\n",
       "    <tr style=\"text-align: right;\">\n",
       "      <th></th>\n",
       "      <th>urz_ip</th>\n",
       "      <th>C_urz_ip</th>\n",
       "    </tr>\n",
       "  </thead>\n",
       "  <tbody>\n",
       "    <tr>\n",
       "      <td>979814</td>\n",
       "      <td>b26d50a4</td>\n",
       "      <td>473517</td>\n",
       "    </tr>\n",
       "    <tr>\n",
       "      <td>1016451</td>\n",
       "      <td>b58a2d6c</td>\n",
       "      <td>481619</td>\n",
       "    </tr>\n",
       "  </tbody>\n",
       "</table>\n",
       "</div>"
      ],
      "text/plain": [
       "           urz_ip  C_urz_ip\n",
       "979814   b26d50a4    473517\n",
       "1016451  b58a2d6c    481619"
      ]
     },
     "execution_count": 42,
     "metadata": {},
     "output_type": "execute_result"
    }
   ],
   "source": [
    "## Cyfryzuje przez mapowanie słownikowe:\n",
    "df['C_urz_ip'] = pd.Categorical(df['urz_ip']).codes\n",
    "df[['urz_ip','C_urz_ip']].sample(2)"
   ]
  },
  {
   "cell_type": "code",
   "execution_count": 43,
   "metadata": {},
   "outputs": [
    {
     "data": {
      "text/html": [
       "<div>\n",
       "<style scoped>\n",
       "    .dataframe tbody tr th:only-of-type {\n",
       "        vertical-align: middle;\n",
       "    }\n",
       "\n",
       "    .dataframe tbody tr th {\n",
       "        vertical-align: top;\n",
       "    }\n",
       "\n",
       "    .dataframe thead th {\n",
       "        text-align: right;\n",
       "    }\n",
       "</style>\n",
       "<table border=\"1\" class=\"dataframe\">\n",
       "  <thead>\n",
       "    <tr style=\"text-align: right;\">\n",
       "      <th></th>\n",
       "      <th>CYF_urz_ip</th>\n",
       "      <th>urz_ip</th>\n",
       "    </tr>\n",
       "  </thead>\n",
       "  <tbody>\n",
       "    <tr>\n",
       "      <td>750796</td>\n",
       "      <td>588229</td>\n",
       "      <td>dda109b9</td>\n",
       "    </tr>\n",
       "    <tr>\n",
       "      <td>1497045</td>\n",
       "      <td>240234</td>\n",
       "      <td>5a973169</td>\n",
       "    </tr>\n",
       "    <tr>\n",
       "      <td>1076970</td>\n",
       "      <td>152127</td>\n",
       "      <td>39686db2</td>\n",
       "    </tr>\n",
       "    <tr>\n",
       "      <td>972905</td>\n",
       "      <td>279653</td>\n",
       "      <td>6964a96f</td>\n",
       "    </tr>\n",
       "  </tbody>\n",
       "</table>\n",
       "</div>"
      ],
      "text/plain": [
       "         CYF_urz_ip    urz_ip\n",
       "750796       588229  dda109b9\n",
       "1497045      240234  5a973169\n",
       "1076970      152127  39686db2\n",
       "972905       279653  6964a96f"
      ]
     },
     "execution_count": 43,
     "metadata": {},
     "output_type": "execute_result"
    }
   ],
   "source": [
    "SL_urz_ip = df.set_index('urz_ip')['C_urz_ip'].to_dict()\n",
    "#print(SL_urz_ip)\n",
    "df['CYF_urz_ip'] = df['urz_ip'].map(SL_urz_ip)\n",
    "del df['C_urz_ip']\n",
    "df[['CYF_urz_ip','urz_ip']].sample(4)"
   ]
  },
  {
   "cell_type": "code",
   "execution_count": 44,
   "metadata": {},
   "outputs": [
    {
     "name": "stdout",
     "output_type": "stream",
     "text": [
      "(679058,)\n",
      "(679058,)\n"
     ]
    }
   ],
   "source": [
    "## Sprawdzenie:\n",
    "print(df['urz_ip'].value_counts().shape)\n",
    "print(df['CYF_urz_ip'].value_counts().shape)\n",
    "#print(SL_urz_ip)"
   ]
  },
  {
   "cell_type": "markdown",
   "metadata": {},
   "source": [
    "### <span style=\"color:blue\">'urz_model'</span>"
   ]
  },
  {
   "cell_type": "code",
   "execution_count": 45,
   "metadata": {},
   "outputs": [
    {
     "name": "stdout",
     "output_type": "stream",
     "text": [
      "(5435,)\n"
     ]
    },
    {
     "data": {
      "text/plain": [
       "8a4875bd    95638\n",
       "1f0bc64f    55339\n",
       "d787e91b    50570\n",
       "76dc4769    27301\n",
       "4ea23a13    26297\n",
       "            ...  \n",
       "00c0a3a2        1\n",
       "29093f50        1\n",
       "eb7d45a5        1\n",
       "5aa3e1c7        1\n",
       "3c34c1ad        1\n",
       "Name: urz_model, Length: 5435, dtype: int64"
      ]
     },
     "execution_count": 45,
     "metadata": {},
     "output_type": "execute_result"
    }
   ],
   "source": [
    "print(df['urz_model'].value_counts().shape)\n",
    "df['urz_model'].value_counts()"
   ]
  },
  {
   "cell_type": "code",
   "execution_count": 46,
   "metadata": {},
   "outputs": [
    {
     "data": {
      "text/html": [
       "<div>\n",
       "<style scoped>\n",
       "    .dataframe tbody tr th:only-of-type {\n",
       "        vertical-align: middle;\n",
       "    }\n",
       "\n",
       "    .dataframe tbody tr th {\n",
       "        vertical-align: top;\n",
       "    }\n",
       "\n",
       "    .dataframe thead th {\n",
       "        text-align: right;\n",
       "    }\n",
       "</style>\n",
       "<table border=\"1\" class=\"dataframe\">\n",
       "  <thead>\n",
       "    <tr style=\"text-align: right;\">\n",
       "      <th></th>\n",
       "      <th>urz_model</th>\n",
       "      <th>C_urz_model</th>\n",
       "    </tr>\n",
       "  </thead>\n",
       "  <tbody>\n",
       "    <tr>\n",
       "      <td>430987</td>\n",
       "      <td>1b13b020</td>\n",
       "      <td>561</td>\n",
       "    </tr>\n",
       "    <tr>\n",
       "      <td>1114375</td>\n",
       "      <td>4c8aeb60</td>\n",
       "      <td>1628</td>\n",
       "    </tr>\n",
       "  </tbody>\n",
       "</table>\n",
       "</div>"
      ],
      "text/plain": [
       "        urz_model  C_urz_model\n",
       "430987   1b13b020          561\n",
       "1114375  4c8aeb60         1628"
      ]
     },
     "execution_count": 46,
     "metadata": {},
     "output_type": "execute_result"
    }
   ],
   "source": [
    "## Cyfryzuje przez mapowanie słownikowe:\n",
    "df['C_urz_model'] = pd.Categorical(df['urz_model']).codes\n",
    "df[['urz_model','C_urz_model']].sample(2)"
   ]
  },
  {
   "cell_type": "code",
   "execution_count": 47,
   "metadata": {},
   "outputs": [
    {
     "data": {
      "text/html": [
       "<div>\n",
       "<style scoped>\n",
       "    .dataframe tbody tr th:only-of-type {\n",
       "        vertical-align: middle;\n",
       "    }\n",
       "\n",
       "    .dataframe tbody tr th {\n",
       "        vertical-align: top;\n",
       "    }\n",
       "\n",
       "    .dataframe thead th {\n",
       "        text-align: right;\n",
       "    }\n",
       "</style>\n",
       "<table border=\"1\" class=\"dataframe\">\n",
       "  <thead>\n",
       "    <tr style=\"text-align: right;\">\n",
       "      <th></th>\n",
       "      <th>CYF_urz_model</th>\n",
       "      <th>urz_model</th>\n",
       "    </tr>\n",
       "  </thead>\n",
       "  <tbody>\n",
       "    <tr>\n",
       "      <td>888341</td>\n",
       "      <td>3080</td>\n",
       "      <td>90f22c00</td>\n",
       "    </tr>\n",
       "    <tr>\n",
       "      <td>309024</td>\n",
       "      <td>3247</td>\n",
       "      <td>99e427c9</td>\n",
       "    </tr>\n",
       "    <tr>\n",
       "      <td>304680</td>\n",
       "      <td>5032</td>\n",
       "      <td>ecb851b2</td>\n",
       "    </tr>\n",
       "    <tr>\n",
       "      <td>1165918</td>\n",
       "      <td>3421</td>\n",
       "      <td>a0f5f879</td>\n",
       "    </tr>\n",
       "  </tbody>\n",
       "</table>\n",
       "</div>"
      ],
      "text/plain": [
       "         CYF_urz_model urz_model\n",
       "888341            3080  90f22c00\n",
       "309024            3247  99e427c9\n",
       "304680            5032  ecb851b2\n",
       "1165918           3421  a0f5f879"
      ]
     },
     "execution_count": 47,
     "metadata": {},
     "output_type": "execute_result"
    }
   ],
   "source": [
    "SL_urz_model = df.set_index('urz_model')['C_urz_model'].to_dict()\n",
    "#print(SL_urz_model)\n",
    "df['CYF_urz_model'] = df['urz_model'].map(SL_urz_model)\n",
    "del df['C_urz_model']\n",
    "df[['CYF_urz_model','urz_model']].sample(4)"
   ]
  },
  {
   "cell_type": "code",
   "execution_count": 48,
   "metadata": {},
   "outputs": [
    {
     "name": "stdout",
     "output_type": "stream",
     "text": [
      "(5435,)\n",
      "(5435,)\n"
     ]
    }
   ],
   "source": [
    "## Sprawdzenie:\n",
    "print(df['urz_model'].value_counts().shape)\n",
    "print(df['CYF_urz_model'].value_counts().shape)\n",
    "#print(SL_urz_model)"
   ]
  },
  {
   "cell_type": "code",
   "execution_count": 49,
   "metadata": {},
   "outputs": [
    {
     "data": {
      "text/plain": [
       "Index(['id', 'klik', 'data_godzina', 'baner_pozycja', 'strona_id',\n",
       "       'strona_domena', 'strona_kategoria', 'aplikacja_id', 'aplikacja_domena',\n",
       "       'aplikacja_kategoria', 'urz_id', 'urz_ip', 'urz_model', 'urz_typ',\n",
       "       'urz_polaczenie', 'kat1', 'kat2', 'kat3', 'kat4', 'kat5', 'kat6',\n",
       "       'kat7', 'kat8', 'kat9', 'CYF_data_godzina', 'CYF_baner_pozycja',\n",
       "       'CYF_strona_id', 'CYF_strona_domena', 'CYF_strona_kategoria',\n",
       "       'CYF_aplikacja_id', 'CYF_aplikacja_domena', 'CYF_aplikacja_kategoria',\n",
       "       'CYF_urz_id', 'CYF_urz_ip', 'CYF_urz_model'],\n",
       "      dtype='object')"
      ]
     },
     "execution_count": 49,
     "metadata": {},
     "output_type": "execute_result"
    }
   ],
   "source": [
    "df.columns"
   ]
  },
  {
   "cell_type": "markdown",
   "metadata": {},
   "source": [
    "### <span style=\"color:blue\"> Cyfryzuje słownikowo: 'urz_typ'</span>\n",
    "NIE TRZEBA CYFRYZOWAĆ"
   ]
  },
  {
   "cell_type": "code",
   "execution_count": 50,
   "metadata": {},
   "outputs": [
    {
     "name": "stdout",
     "output_type": "stream",
     "text": [
      "(4,)\n"
     ]
    },
    {
     "data": {
      "text/plain": [
       "1    1400544\n",
       "0      70104\n",
       "4      25556\n",
       "5       3796\n",
       "Name: urz_typ, dtype: int64"
      ]
     },
     "execution_count": 50,
     "metadata": {},
     "output_type": "execute_result"
    }
   ],
   "source": [
    "print(df['urz_typ'].value_counts().shape)\n",
    "df['urz_typ'].value_counts()"
   ]
  },
  {
   "cell_type": "code",
   "execution_count": 51,
   "metadata": {},
   "outputs": [],
   "source": [
    "df['CYF_urz_typ']=df['urz_typ']"
   ]
  },
  {
   "cell_type": "markdown",
   "metadata": {},
   "source": [
    "### <span style=\"color:blue\"> Cyfryzuje słownikowo: 'urz_polaczenie'</span>\n",
    "NIE TRZEBA CYFRYZOWAĆ"
   ]
  },
  {
   "cell_type": "code",
   "execution_count": 52,
   "metadata": {},
   "outputs": [
    {
     "name": "stdout",
     "output_type": "stream",
     "text": [
      "(4,)\n"
     ]
    },
    {
     "data": {
      "text/plain": [
       "0    1329798\n",
       "2     128312\n",
       "3      40118\n",
       "5       1772\n",
       "Name: urz_polaczenie, dtype: int64"
      ]
     },
     "execution_count": 52,
     "metadata": {},
     "output_type": "execute_result"
    }
   ],
   "source": [
    "print(df['urz_polaczenie'].value_counts().shape)\n",
    "df['urz_polaczenie'].value_counts()"
   ]
  },
  {
   "cell_type": "code",
   "execution_count": 53,
   "metadata": {},
   "outputs": [],
   "source": [
    "df['CYF_urz_polaczenie']=df['urz_polaczenie']"
   ]
  },
  {
   "cell_type": "markdown",
   "metadata": {},
   "source": [
    "### <span style=\"color:blue\"> Cyfryzuje słownikowo: kat1</span>"
   ]
  },
  {
   "cell_type": "code",
   "execution_count": 54,
   "metadata": {},
   "outputs": [
    {
     "name": "stdout",
     "output_type": "stream",
     "text": [
      "(7,)\n"
     ]
    },
    {
     "data": {
      "text/plain": [
       "105    1395813\n",
       "102      70104\n",
       "110      29352\n",
       "112       2219\n",
       "107       1638\n",
       "108        475\n",
       "101        399\n",
       "Name: kat1, dtype: int64"
      ]
     },
     "execution_count": 54,
     "metadata": {},
     "output_type": "execute_result"
    }
   ],
   "source": [
    "print(df['kat1'].value_counts().shape)\n",
    "df['kat1'].value_counts()"
   ]
  },
  {
   "cell_type": "code",
   "execution_count": 55,
   "metadata": {},
   "outputs": [
    {
     "data": {
      "text/html": [
       "<div>\n",
       "<style scoped>\n",
       "    .dataframe tbody tr th:only-of-type {\n",
       "        vertical-align: middle;\n",
       "    }\n",
       "\n",
       "    .dataframe tbody tr th {\n",
       "        vertical-align: top;\n",
       "    }\n",
       "\n",
       "    .dataframe thead th {\n",
       "        text-align: right;\n",
       "    }\n",
       "</style>\n",
       "<table border=\"1\" class=\"dataframe\">\n",
       "  <thead>\n",
       "    <tr style=\"text-align: right;\">\n",
       "      <th></th>\n",
       "      <th>kat1</th>\n",
       "      <th>C_kat1</th>\n",
       "    </tr>\n",
       "  </thead>\n",
       "  <tbody>\n",
       "    <tr>\n",
       "      <td>1171071</td>\n",
       "      <td>105</td>\n",
       "      <td>2</td>\n",
       "    </tr>\n",
       "    <tr>\n",
       "      <td>457439</td>\n",
       "      <td>105</td>\n",
       "      <td>2</td>\n",
       "    </tr>\n",
       "  </tbody>\n",
       "</table>\n",
       "</div>"
      ],
      "text/plain": [
       "         kat1  C_kat1\n",
       "1171071   105       2\n",
       "457439    105       2"
      ]
     },
     "execution_count": 55,
     "metadata": {},
     "output_type": "execute_result"
    }
   ],
   "source": [
    "## Cyfryzuje przez mapowanie słownikowe:\n",
    "df['C_kat1'] = pd.Categorical(df['kat1']).codes\n",
    "df[['kat1','C_kat1']].sample(2)"
   ]
  },
  {
   "cell_type": "code",
   "execution_count": 56,
   "metadata": {},
   "outputs": [
    {
     "data": {
      "text/html": [
       "<div>\n",
       "<style scoped>\n",
       "    .dataframe tbody tr th:only-of-type {\n",
       "        vertical-align: middle;\n",
       "    }\n",
       "\n",
       "    .dataframe tbody tr th {\n",
       "        vertical-align: top;\n",
       "    }\n",
       "\n",
       "    .dataframe thead th {\n",
       "        text-align: right;\n",
       "    }\n",
       "</style>\n",
       "<table border=\"1\" class=\"dataframe\">\n",
       "  <thead>\n",
       "    <tr style=\"text-align: right;\">\n",
       "      <th></th>\n",
       "      <th>CYF_kat1</th>\n",
       "      <th>kat1</th>\n",
       "    </tr>\n",
       "  </thead>\n",
       "  <tbody>\n",
       "    <tr>\n",
       "      <td>430051</td>\n",
       "      <td>2</td>\n",
       "      <td>105</td>\n",
       "    </tr>\n",
       "    <tr>\n",
       "      <td>697477</td>\n",
       "      <td>2</td>\n",
       "      <td>105</td>\n",
       "    </tr>\n",
       "    <tr>\n",
       "      <td>345218</td>\n",
       "      <td>2</td>\n",
       "      <td>105</td>\n",
       "    </tr>\n",
       "    <tr>\n",
       "      <td>541236</td>\n",
       "      <td>2</td>\n",
       "      <td>105</td>\n",
       "    </tr>\n",
       "  </tbody>\n",
       "</table>\n",
       "</div>"
      ],
      "text/plain": [
       "        CYF_kat1  kat1\n",
       "430051         2   105\n",
       "697477         2   105\n",
       "345218         2   105\n",
       "541236         2   105"
      ]
     },
     "execution_count": 56,
     "metadata": {},
     "output_type": "execute_result"
    }
   ],
   "source": [
    "SL_kat1 = df.set_index('kat1')['C_kat1'].to_dict()\n",
    "#print(SL_kat1)\n",
    "df['CYF_kat1'] = df['kat1'].map(SL_kat1)\n",
    "del df['C_kat1']\n",
    "df[['CYF_kat1','kat1']].sample(4)"
   ]
  },
  {
   "cell_type": "code",
   "execution_count": 57,
   "metadata": {},
   "outputs": [
    {
     "name": "stdout",
     "output_type": "stream",
     "text": [
      "(7,)\n",
      "(7,)\n"
     ]
    }
   ],
   "source": [
    "## Sprawdzenie:\n",
    "print(df['kat1'].value_counts().shape)\n",
    "print(df['CYF_kat1'].value_counts().shape)\n",
    "#print(SL_kat1)"
   ]
  },
  {
   "cell_type": "markdown",
   "metadata": {},
   "source": [
    "### <span style=\"color:blue\"> Cyfryzuje słownikowo: kat2</span>"
   ]
  },
  {
   "cell_type": "code",
   "execution_count": 58,
   "metadata": {},
   "outputs": [
    {
     "name": "stdout",
     "output_type": "stream",
     "text": [
      "(1154,)\n"
     ]
    },
    {
     "data": {
      "text/plain": [
       "121767    37576\n",
       "121768    37497\n",
       "121611    37065\n",
       "119251    34228\n",
       "104687    30844\n",
       "          ...  \n",
       "112229        1\n",
       "121188        1\n",
       "122201        1\n",
       "122077        1\n",
       "112203        1\n",
       "Name: kat2, Length: 1154, dtype: int64"
      ]
     },
     "execution_count": 58,
     "metadata": {},
     "output_type": "execute_result"
    }
   ],
   "source": [
    "print(df['kat2'].value_counts().shape)\n",
    "df['kat2'].value_counts()"
   ]
  },
  {
   "cell_type": "code",
   "execution_count": 59,
   "metadata": {},
   "outputs": [
    {
     "data": {
      "text/html": [
       "<div>\n",
       "<style scoped>\n",
       "    .dataframe tbody tr th:only-of-type {\n",
       "        vertical-align: middle;\n",
       "    }\n",
       "\n",
       "    .dataframe tbody tr th {\n",
       "        vertical-align: top;\n",
       "    }\n",
       "\n",
       "    .dataframe thead th {\n",
       "        text-align: right;\n",
       "    }\n",
       "</style>\n",
       "<table border=\"1\" class=\"dataframe\">\n",
       "  <thead>\n",
       "    <tr style=\"text-align: right;\">\n",
       "      <th></th>\n",
       "      <th>kat2</th>\n",
       "      <th>C_kat2</th>\n",
       "    </tr>\n",
       "  </thead>\n",
       "  <tbody>\n",
       "    <tr>\n",
       "      <td>1068825</td>\n",
       "      <td>106563</td>\n",
       "      <td>47</td>\n",
       "    </tr>\n",
       "    <tr>\n",
       "      <td>1354570</td>\n",
       "      <td>122116</td>\n",
       "      <td>1027</td>\n",
       "    </tr>\n",
       "  </tbody>\n",
       "</table>\n",
       "</div>"
      ],
      "text/plain": [
       "           kat2  C_kat2\n",
       "1068825  106563      47\n",
       "1354570  122116    1027"
      ]
     },
     "execution_count": 59,
     "metadata": {},
     "output_type": "execute_result"
    }
   ],
   "source": [
    "## Cyfryzuje przez mapowanie słownikowe:\n",
    "df['C_kat2'] = pd.Categorical(df['kat2']).codes\n",
    "df[['kat2','C_kat2']].sample(2)"
   ]
  },
  {
   "cell_type": "code",
   "execution_count": 60,
   "metadata": {},
   "outputs": [
    {
     "data": {
      "text/html": [
       "<div>\n",
       "<style scoped>\n",
       "    .dataframe tbody tr th:only-of-type {\n",
       "        vertical-align: middle;\n",
       "    }\n",
       "\n",
       "    .dataframe tbody tr th {\n",
       "        vertical-align: top;\n",
       "    }\n",
       "\n",
       "    .dataframe thead th {\n",
       "        text-align: right;\n",
       "    }\n",
       "</style>\n",
       "<table border=\"1\" class=\"dataframe\">\n",
       "  <thead>\n",
       "    <tr style=\"text-align: right;\">\n",
       "      <th></th>\n",
       "      <th>CYF_kat2</th>\n",
       "      <th>kat2</th>\n",
       "    </tr>\n",
       "  </thead>\n",
       "  <tbody>\n",
       "    <tr>\n",
       "      <td>551763</td>\n",
       "      <td>784</td>\n",
       "      <td>121730</td>\n",
       "    </tr>\n",
       "    <tr>\n",
       "      <td>506079</td>\n",
       "      <td>836</td>\n",
       "      <td>121790</td>\n",
       "    </tr>\n",
       "    <tr>\n",
       "      <td>225818</td>\n",
       "      <td>517</td>\n",
       "      <td>120387</td>\n",
       "    </tr>\n",
       "    <tr>\n",
       "      <td>1096998</td>\n",
       "      <td>1042</td>\n",
       "      <td>122141</td>\n",
       "    </tr>\n",
       "  </tbody>\n",
       "</table>\n",
       "</div>"
      ],
      "text/plain": [
       "         CYF_kat2    kat2\n",
       "551763        784  121730\n",
       "506079        836  121790\n",
       "225818        517  120387\n",
       "1096998      1042  122141"
      ]
     },
     "execution_count": 60,
     "metadata": {},
     "output_type": "execute_result"
    }
   ],
   "source": [
    "SL_kat2 = df.set_index('kat2')['C_kat2'].to_dict()\n",
    "#print(SL_kat2)\n",
    "df['CYF_kat2'] = df['kat2'].map(SL_kat2)\n",
    "del df['C_kat2']\n",
    "df[['CYF_kat2','kat2']].sample(4)"
   ]
  },
  {
   "cell_type": "code",
   "execution_count": 61,
   "metadata": {},
   "outputs": [
    {
     "name": "stdout",
     "output_type": "stream",
     "text": [
      "(1154,)\n",
      "(1154,)\n"
     ]
    }
   ],
   "source": [
    "## Sprawdzenie:\n",
    "print(df['kat2'].value_counts().shape)\n",
    "print(df['CYF_kat2'].value_counts().shape)\n",
    "#print(SL_kat2)"
   ]
  },
  {
   "cell_type": "markdown",
   "metadata": {},
   "source": [
    "### <span style=\"color:blue\"> Cyfryzuje słownikowo: kat3</span>"
   ]
  },
  {
   "cell_type": "code",
   "execution_count": 62,
   "metadata": {},
   "outputs": [
    {
     "name": "stdout",
     "output_type": "stream",
     "text": [
      "(8,)\n"
     ]
    },
    {
     "data": {
      "text/plain": [
       "10320    1399940\n",
       "10300      72116\n",
       "10216      25027\n",
       "10728       2719\n",
       "10480        119\n",
       "10768         31\n",
       "11024         28\n",
       "10120         20\n",
       "Name: kat3, dtype: int64"
      ]
     },
     "execution_count": 62,
     "metadata": {},
     "output_type": "execute_result"
    }
   ],
   "source": [
    "print(df['kat3'].value_counts().shape)\n",
    "df['kat3'].value_counts()"
   ]
  },
  {
   "cell_type": "code",
   "execution_count": 63,
   "metadata": {},
   "outputs": [
    {
     "data": {
      "text/html": [
       "<div>\n",
       "<style scoped>\n",
       "    .dataframe tbody tr th:only-of-type {\n",
       "        vertical-align: middle;\n",
       "    }\n",
       "\n",
       "    .dataframe tbody tr th {\n",
       "        vertical-align: top;\n",
       "    }\n",
       "\n",
       "    .dataframe thead th {\n",
       "        text-align: right;\n",
       "    }\n",
       "</style>\n",
       "<table border=\"1\" class=\"dataframe\">\n",
       "  <thead>\n",
       "    <tr style=\"text-align: right;\">\n",
       "      <th></th>\n",
       "      <th>kat3</th>\n",
       "      <th>C_kat3</th>\n",
       "    </tr>\n",
       "  </thead>\n",
       "  <tbody>\n",
       "    <tr>\n",
       "      <td>909598</td>\n",
       "      <td>10320</td>\n",
       "      <td>3</td>\n",
       "    </tr>\n",
       "    <tr>\n",
       "      <td>1051027</td>\n",
       "      <td>10320</td>\n",
       "      <td>3</td>\n",
       "    </tr>\n",
       "  </tbody>\n",
       "</table>\n",
       "</div>"
      ],
      "text/plain": [
       "          kat3  C_kat3\n",
       "909598   10320       3\n",
       "1051027  10320       3"
      ]
     },
     "execution_count": 63,
     "metadata": {},
     "output_type": "execute_result"
    }
   ],
   "source": [
    "## Cyfryzuje przez mapowanie słownikowe:\n",
    "df['C_kat3'] = pd.Categorical(df['kat3']).codes\n",
    "df[['kat3','C_kat3']].sample(2)"
   ]
  },
  {
   "cell_type": "code",
   "execution_count": 64,
   "metadata": {},
   "outputs": [
    {
     "data": {
      "text/html": [
       "<div>\n",
       "<style scoped>\n",
       "    .dataframe tbody tr th:only-of-type {\n",
       "        vertical-align: middle;\n",
       "    }\n",
       "\n",
       "    .dataframe tbody tr th {\n",
       "        vertical-align: top;\n",
       "    }\n",
       "\n",
       "    .dataframe thead th {\n",
       "        text-align: right;\n",
       "    }\n",
       "</style>\n",
       "<table border=\"1\" class=\"dataframe\">\n",
       "  <thead>\n",
       "    <tr style=\"text-align: right;\">\n",
       "      <th></th>\n",
       "      <th>CYF_kat3</th>\n",
       "      <th>kat3</th>\n",
       "    </tr>\n",
       "  </thead>\n",
       "  <tbody>\n",
       "    <tr>\n",
       "      <td>670839</td>\n",
       "      <td>3</td>\n",
       "      <td>10320</td>\n",
       "    </tr>\n",
       "    <tr>\n",
       "      <td>181861</td>\n",
       "      <td>3</td>\n",
       "      <td>10320</td>\n",
       "    </tr>\n",
       "    <tr>\n",
       "      <td>1134294</td>\n",
       "      <td>3</td>\n",
       "      <td>10320</td>\n",
       "    </tr>\n",
       "    <tr>\n",
       "      <td>1140623</td>\n",
       "      <td>3</td>\n",
       "      <td>10320</td>\n",
       "    </tr>\n",
       "  </tbody>\n",
       "</table>\n",
       "</div>"
      ],
      "text/plain": [
       "         CYF_kat3   kat3\n",
       "670839          3  10320\n",
       "181861          3  10320\n",
       "1134294         3  10320\n",
       "1140623         3  10320"
      ]
     },
     "execution_count": 64,
     "metadata": {},
     "output_type": "execute_result"
    }
   ],
   "source": [
    "SL_kat3 = df.set_index('kat3')['C_kat3'].to_dict()\n",
    "#print(SL_kat1)\n",
    "df['CYF_kat3'] = df['kat3'].map(SL_kat3)\n",
    "del df['C_kat3']\n",
    "df[['CYF_kat3','kat3']].sample(4)"
   ]
  },
  {
   "cell_type": "code",
   "execution_count": 65,
   "metadata": {},
   "outputs": [
    {
     "name": "stdout",
     "output_type": "stream",
     "text": [
      "(8,)\n",
      "(8,)\n"
     ]
    }
   ],
   "source": [
    "## Sprawdzenie:\n",
    "print(df['kat3'].value_counts().shape)\n",
    "print(df['CYF_kat3'].value_counts().shape)\n",
    "#print(SL_kat3)"
   ]
  },
  {
   "cell_type": "markdown",
   "metadata": {},
   "source": [
    "### <span style=\"color:blue\"> Cyfryzuje słownikowo: kat4</span>"
   ]
  },
  {
   "cell_type": "code",
   "execution_count": 66,
   "metadata": {},
   "outputs": [
    {
     "name": "stdout",
     "output_type": "stream",
     "text": [
      "(9,)\n"
     ]
    },
    {
     "data": {
      "text/plain": [
       "10050    1407620\n",
       "10250      60036\n",
       "10036      25027\n",
       "10480       4400\n",
       "10090       2719\n",
       "10320        119\n",
       "11024         31\n",
       "10768         28\n",
       "10020         20\n",
       "Name: kat4, dtype: int64"
      ]
     },
     "execution_count": 66,
     "metadata": {},
     "output_type": "execute_result"
    }
   ],
   "source": [
    "print(df['kat4'].value_counts().shape)\n",
    "df['kat4'].value_counts()"
   ]
  },
  {
   "cell_type": "code",
   "execution_count": 67,
   "metadata": {},
   "outputs": [
    {
     "data": {
      "text/html": [
       "<div>\n",
       "<style scoped>\n",
       "    .dataframe tbody tr th:only-of-type {\n",
       "        vertical-align: middle;\n",
       "    }\n",
       "\n",
       "    .dataframe tbody tr th {\n",
       "        vertical-align: top;\n",
       "    }\n",
       "\n",
       "    .dataframe thead th {\n",
       "        text-align: right;\n",
       "    }\n",
       "</style>\n",
       "<table border=\"1\" class=\"dataframe\">\n",
       "  <thead>\n",
       "    <tr style=\"text-align: right;\">\n",
       "      <th></th>\n",
       "      <th>kat4</th>\n",
       "      <th>C_kat4</th>\n",
       "    </tr>\n",
       "  </thead>\n",
       "  <tbody>\n",
       "    <tr>\n",
       "      <td>834817</td>\n",
       "      <td>10050</td>\n",
       "      <td>2</td>\n",
       "    </tr>\n",
       "    <tr>\n",
       "      <td>173207</td>\n",
       "      <td>10050</td>\n",
       "      <td>2</td>\n",
       "    </tr>\n",
       "  </tbody>\n",
       "</table>\n",
       "</div>"
      ],
      "text/plain": [
       "         kat4  C_kat4\n",
       "834817  10050       2\n",
       "173207  10050       2"
      ]
     },
     "execution_count": 67,
     "metadata": {},
     "output_type": "execute_result"
    }
   ],
   "source": [
    "## Cyfryzuje przez mapowanie słownikowe:\n",
    "df['C_kat4'] = pd.Categorical(df['kat4']).codes\n",
    "df[['kat4','C_kat4']].sample(2)"
   ]
  },
  {
   "cell_type": "code",
   "execution_count": 68,
   "metadata": {},
   "outputs": [
    {
     "data": {
      "text/html": [
       "<div>\n",
       "<style scoped>\n",
       "    .dataframe tbody tr th:only-of-type {\n",
       "        vertical-align: middle;\n",
       "    }\n",
       "\n",
       "    .dataframe tbody tr th {\n",
       "        vertical-align: top;\n",
       "    }\n",
       "\n",
       "    .dataframe thead th {\n",
       "        text-align: right;\n",
       "    }\n",
       "</style>\n",
       "<table border=\"1\" class=\"dataframe\">\n",
       "  <thead>\n",
       "    <tr style=\"text-align: right;\">\n",
       "      <th></th>\n",
       "      <th>CYF_kat4</th>\n",
       "      <th>kat4</th>\n",
       "    </tr>\n",
       "  </thead>\n",
       "  <tbody>\n",
       "    <tr>\n",
       "      <td>202268</td>\n",
       "      <td>2</td>\n",
       "      <td>10050</td>\n",
       "    </tr>\n",
       "    <tr>\n",
       "      <td>278001</td>\n",
       "      <td>2</td>\n",
       "      <td>10050</td>\n",
       "    </tr>\n",
       "    <tr>\n",
       "      <td>1385420</td>\n",
       "      <td>2</td>\n",
       "      <td>10050</td>\n",
       "    </tr>\n",
       "    <tr>\n",
       "      <td>43991</td>\n",
       "      <td>2</td>\n",
       "      <td>10050</td>\n",
       "    </tr>\n",
       "  </tbody>\n",
       "</table>\n",
       "</div>"
      ],
      "text/plain": [
       "         CYF_kat4   kat4\n",
       "202268          2  10050\n",
       "278001          2  10050\n",
       "1385420         2  10050\n",
       "43991           2  10050"
      ]
     },
     "execution_count": 68,
     "metadata": {},
     "output_type": "execute_result"
    }
   ],
   "source": [
    "SL_kat4 = df.set_index('kat4')['C_kat4'].to_dict()\n",
    "#print(SL_kat4)\n",
    "df['CYF_kat4'] = df['kat4'].map(SL_kat4)\n",
    "del df['C_kat4']\n",
    "df[['CYF_kat4','kat4']].sample(4)"
   ]
  },
  {
   "cell_type": "code",
   "execution_count": 69,
   "metadata": {},
   "outputs": [
    {
     "name": "stdout",
     "output_type": "stream",
     "text": [
      "(9,)\n",
      "(9,)\n"
     ]
    }
   ],
   "source": [
    "## Sprawdzenie:\n",
    "print(df['kat4'].value_counts().shape)\n",
    "print(df['CYF_kat4'].value_counts().shape)\n",
    "#print(SL_kat4)"
   ]
  },
  {
   "cell_type": "markdown",
   "metadata": {},
   "source": [
    "### <span style=\"color:blue\"> Cyfryzuje słownikowo: kat5</span>"
   ]
  },
  {
   "cell_type": "code",
   "execution_count": 70,
   "metadata": {},
   "outputs": [
    {
     "name": "stdout",
     "output_type": "stream",
     "text": [
      "(255,)\n"
     ]
    },
    {
     "data": {
      "text/plain": [
       "11722    185074\n",
       "12502     85824\n",
       "12506     80412\n",
       "12333     51355\n",
       "12507     44929\n",
       "          ...  \n",
       "12346         3\n",
       "12375         3\n",
       "12573         2\n",
       "12541         1\n",
       "11042         1\n",
       "Name: kat5, Length: 255, dtype: int64"
      ]
     },
     "execution_count": 70,
     "metadata": {},
     "output_type": "execute_result"
    }
   ],
   "source": [
    "print(df['kat5'].value_counts().shape)\n",
    "df['kat5'].value_counts()"
   ]
  },
  {
   "cell_type": "code",
   "execution_count": 71,
   "metadata": {},
   "outputs": [
    {
     "data": {
      "text/html": [
       "<div>\n",
       "<style scoped>\n",
       "    .dataframe tbody tr th:only-of-type {\n",
       "        vertical-align: middle;\n",
       "    }\n",
       "\n",
       "    .dataframe tbody tr th {\n",
       "        vertical-align: top;\n",
       "    }\n",
       "\n",
       "    .dataframe thead th {\n",
       "        text-align: right;\n",
       "    }\n",
       "</style>\n",
       "<table border=\"1\" class=\"dataframe\">\n",
       "  <thead>\n",
       "    <tr style=\"text-align: right;\">\n",
       "      <th></th>\n",
       "      <th>kat5</th>\n",
       "      <th>C_kat5</th>\n",
       "    </tr>\n",
       "  </thead>\n",
       "  <tbody>\n",
       "    <tr>\n",
       "      <td>975805</td>\n",
       "      <td>11722</td>\n",
       "      <td>48</td>\n",
       "    </tr>\n",
       "    <tr>\n",
       "      <td>1230465</td>\n",
       "      <td>11722</td>\n",
       "      <td>48</td>\n",
       "    </tr>\n",
       "  </tbody>\n",
       "</table>\n",
       "</div>"
      ],
      "text/plain": [
       "          kat5  C_kat5\n",
       "975805   11722      48\n",
       "1230465  11722      48"
      ]
     },
     "execution_count": 71,
     "metadata": {},
     "output_type": "execute_result"
    }
   ],
   "source": [
    "## Cyfryzuje przez mapowanie słownikowe:\n",
    "df['C_kat5'] = pd.Categorical(df['kat5']).codes\n",
    "df[['kat5','C_kat5']].sample(2)"
   ]
  },
  {
   "cell_type": "code",
   "execution_count": 72,
   "metadata": {},
   "outputs": [
    {
     "data": {
      "text/html": [
       "<div>\n",
       "<style scoped>\n",
       "    .dataframe tbody tr th:only-of-type {\n",
       "        vertical-align: middle;\n",
       "    }\n",
       "\n",
       "    .dataframe tbody tr th {\n",
       "        vertical-align: top;\n",
       "    }\n",
       "\n",
       "    .dataframe thead th {\n",
       "        text-align: right;\n",
       "    }\n",
       "</style>\n",
       "<table border=\"1\" class=\"dataframe\">\n",
       "  <thead>\n",
       "    <tr style=\"text-align: right;\">\n",
       "      <th></th>\n",
       "      <th>CYF_kat5</th>\n",
       "      <th>kat5</th>\n",
       "    </tr>\n",
       "  </thead>\n",
       "  <tbody>\n",
       "    <tr>\n",
       "      <td>90035</td>\n",
       "      <td>99</td>\n",
       "      <td>12201</td>\n",
       "    </tr>\n",
       "    <tr>\n",
       "      <td>1356242</td>\n",
       "      <td>48</td>\n",
       "      <td>11722</td>\n",
       "    </tr>\n",
       "    <tr>\n",
       "      <td>758120</td>\n",
       "      <td>48</td>\n",
       "      <td>11722</td>\n",
       "    </tr>\n",
       "    <tr>\n",
       "      <td>1186942</td>\n",
       "      <td>133</td>\n",
       "      <td>12333</td>\n",
       "    </tr>\n",
       "  </tbody>\n",
       "</table>\n",
       "</div>"
      ],
      "text/plain": [
       "         CYF_kat5   kat5\n",
       "90035          99  12201\n",
       "1356242        48  11722\n",
       "758120         48  11722\n",
       "1186942       133  12333"
      ]
     },
     "execution_count": 72,
     "metadata": {},
     "output_type": "execute_result"
    }
   ],
   "source": [
    "SL_kat5 = df.set_index('kat5')['C_kat5'].to_dict()\n",
    "#print(SL_kat5)\n",
    "df['CYF_kat5'] = df['kat5'].map(SL_kat5)\n",
    "del df['C_kat5']\n",
    "df[['CYF_kat5','kat5']].sample(4)"
   ]
  },
  {
   "cell_type": "code",
   "execution_count": 73,
   "metadata": {},
   "outputs": [
    {
     "name": "stdout",
     "output_type": "stream",
     "text": [
      "(255,)\n",
      "(255,)\n"
     ]
    }
   ],
   "source": [
    "## Sprawdzenie:\n",
    "print(df['kat5'].value_counts().shape)\n",
    "print(df['CYF_kat5'].value_counts().shape)\n",
    "#print(SL_kat5)"
   ]
  },
  {
   "cell_type": "markdown",
   "metadata": {},
   "source": [
    "### <span style=\"color:blue\"> Cyfryzuje słownikowo: kat6</span>"
   ]
  },
  {
   "cell_type": "code",
   "execution_count": 74,
   "metadata": {},
   "outputs": [
    {
     "name": "stdout",
     "output_type": "stream",
     "text": [
      "(4,)\n"
     ]
    },
    {
     "data": {
      "text/plain": [
       "10    719535\n",
       "13    500697\n",
       "12    233205\n",
       "11     46563\n",
       "Name: kat6, dtype: int64"
      ]
     },
     "execution_count": 74,
     "metadata": {},
     "output_type": "execute_result"
    }
   ],
   "source": [
    "print(df['kat6'].value_counts().shape)\n",
    "df['kat6'].value_counts()"
   ]
  },
  {
   "cell_type": "code",
   "execution_count": 75,
   "metadata": {},
   "outputs": [
    {
     "data": {
      "text/html": [
       "<div>\n",
       "<style scoped>\n",
       "    .dataframe tbody tr th:only-of-type {\n",
       "        vertical-align: middle;\n",
       "    }\n",
       "\n",
       "    .dataframe tbody tr th {\n",
       "        vertical-align: top;\n",
       "    }\n",
       "\n",
       "    .dataframe thead th {\n",
       "        text-align: right;\n",
       "    }\n",
       "</style>\n",
       "<table border=\"1\" class=\"dataframe\">\n",
       "  <thead>\n",
       "    <tr style=\"text-align: right;\">\n",
       "      <th></th>\n",
       "      <th>kat6</th>\n",
       "      <th>C_kat6</th>\n",
       "    </tr>\n",
       "  </thead>\n",
       "  <tbody>\n",
       "    <tr>\n",
       "      <td>211486</td>\n",
       "      <td>13</td>\n",
       "      <td>3</td>\n",
       "    </tr>\n",
       "    <tr>\n",
       "      <td>139608</td>\n",
       "      <td>13</td>\n",
       "      <td>3</td>\n",
       "    </tr>\n",
       "  </tbody>\n",
       "</table>\n",
       "</div>"
      ],
      "text/plain": [
       "        kat6  C_kat6\n",
       "211486    13       3\n",
       "139608    13       3"
      ]
     },
     "execution_count": 75,
     "metadata": {},
     "output_type": "execute_result"
    }
   ],
   "source": [
    "## Cyfryzuje przez mapowanie słownikowe:\n",
    "df['C_kat6'] = pd.Categorical(df['kat6']).codes\n",
    "df[['kat6','C_kat6']].sample(2)"
   ]
  },
  {
   "cell_type": "code",
   "execution_count": 76,
   "metadata": {},
   "outputs": [
    {
     "name": "stdout",
     "output_type": "stream",
     "text": [
      "{13: 3, 10: 0, 12: 2, 11: 1}\n"
     ]
    },
    {
     "data": {
      "text/html": [
       "<div>\n",
       "<style scoped>\n",
       "    .dataframe tbody tr th:only-of-type {\n",
       "        vertical-align: middle;\n",
       "    }\n",
       "\n",
       "    .dataframe tbody tr th {\n",
       "        vertical-align: top;\n",
       "    }\n",
       "\n",
       "    .dataframe thead th {\n",
       "        text-align: right;\n",
       "    }\n",
       "</style>\n",
       "<table border=\"1\" class=\"dataframe\">\n",
       "  <thead>\n",
       "    <tr style=\"text-align: right;\">\n",
       "      <th></th>\n",
       "      <th>CYF_kat6</th>\n",
       "      <th>kat6</th>\n",
       "    </tr>\n",
       "  </thead>\n",
       "  <tbody>\n",
       "    <tr>\n",
       "      <td>1219706</td>\n",
       "      <td>2</td>\n",
       "      <td>12</td>\n",
       "    </tr>\n",
       "    <tr>\n",
       "      <td>526589</td>\n",
       "      <td>3</td>\n",
       "      <td>13</td>\n",
       "    </tr>\n",
       "    <tr>\n",
       "      <td>1487669</td>\n",
       "      <td>0</td>\n",
       "      <td>10</td>\n",
       "    </tr>\n",
       "    <tr>\n",
       "      <td>717985</td>\n",
       "      <td>0</td>\n",
       "      <td>10</td>\n",
       "    </tr>\n",
       "  </tbody>\n",
       "</table>\n",
       "</div>"
      ],
      "text/plain": [
       "         CYF_kat6  kat6\n",
       "1219706         2    12\n",
       "526589          3    13\n",
       "1487669         0    10\n",
       "717985          0    10"
      ]
     },
     "execution_count": 76,
     "metadata": {},
     "output_type": "execute_result"
    }
   ],
   "source": [
    "SL_kat6 = df.set_index('kat6')['C_kat6'].to_dict()\n",
    "print(SL_kat6)\n",
    "df['CYF_kat6'] = df['kat6'].map(SL_kat6)\n",
    "del df['C_kat6']\n",
    "df[['CYF_kat6','kat6']].sample(4)"
   ]
  },
  {
   "cell_type": "code",
   "execution_count": 77,
   "metadata": {},
   "outputs": [
    {
     "name": "stdout",
     "output_type": "stream",
     "text": [
      "(4,)\n",
      "(4,)\n",
      "{13: 3, 10: 0, 12: 2, 11: 1}\n"
     ]
    }
   ],
   "source": [
    "## Sprawdzenie:\n",
    "print(df['kat6'].value_counts().shape)\n",
    "print(df['CYF_kat6'].value_counts().shape)\n",
    "print(SL_kat6)"
   ]
  },
  {
   "cell_type": "markdown",
   "metadata": {},
   "source": [
    "### <span style=\"color:blue\"> Cyfryzuje słownikowo: kat7</span>"
   ]
  },
  {
   "cell_type": "code",
   "execution_count": 78,
   "metadata": {},
   "outputs": [
    {
     "name": "stdout",
     "output_type": "stream",
     "text": [
      "(53,)\n"
     ]
    },
    {
     "data": {
      "text/plain": [
       "10035    614228\n",
       "10039    313082\n",
       "10167     86839\n",
       "11327     43893\n",
       "10047     35977\n",
       "10297     34234\n",
       "10679     34150\n",
       "10687     28886\n",
       "10547     24325\n",
       "10169     23889\n",
       "10161     23404\n",
       "10431     22473\n",
       "11063     21152\n",
       "11319     20073\n",
       "10163     18192\n",
       "10303     16791\n",
       "10171     15352\n",
       "10041     14383\n",
       "11451     12520\n",
       "10175     12143\n",
       "10809      9905\n",
       "10034      8508\n",
       "10427      7670\n",
       "10675      7461\n",
       "10043      6834\n",
       "10299      6796\n",
       "10811      5435\n",
       "11059      5213\n",
       "11711      4351\n",
       "10291      3653\n",
       "10551      2851\n",
       "10813      2484\n",
       "10423      2074\n",
       "11835      1844\n",
       "10681      1370\n",
       "10033      1065\n",
       "11315       955\n",
       "10801       777\n",
       "10937       773\n",
       "10553       760\n",
       "10417       678\n",
       "10943       650\n",
       "10673       621\n",
       "10425       569\n",
       "10559       218\n",
       "10045       188\n",
       "11071       112\n",
       "10555        82\n",
       "10683        66\n",
       "10295        18\n",
       "10545        16\n",
       "11447        15\n",
       "10419         2\n",
       "Name: kat7, dtype: int64"
      ]
     },
     "execution_count": 78,
     "metadata": {},
     "output_type": "execute_result"
    }
   ],
   "source": [
    "print(df['kat7'].value_counts().shape)\n",
    "df['kat7'].value_counts()"
   ]
  },
  {
   "cell_type": "code",
   "execution_count": 79,
   "metadata": {},
   "outputs": [
    {
     "data": {
      "text/html": [
       "<div>\n",
       "<style scoped>\n",
       "    .dataframe tbody tr th:only-of-type {\n",
       "        vertical-align: middle;\n",
       "    }\n",
       "\n",
       "    .dataframe tbody tr th {\n",
       "        vertical-align: top;\n",
       "    }\n",
       "\n",
       "    .dataframe thead th {\n",
       "        text-align: right;\n",
       "    }\n",
       "</style>\n",
       "<table border=\"1\" class=\"dataframe\">\n",
       "  <thead>\n",
       "    <tr style=\"text-align: right;\">\n",
       "      <th></th>\n",
       "      <th>kat7</th>\n",
       "      <th>C_kat7</th>\n",
       "    </tr>\n",
       "  </thead>\n",
       "  <tbody>\n",
       "    <tr>\n",
       "      <td>387828</td>\n",
       "      <td>10291</td>\n",
       "      <td>14</td>\n",
       "    </tr>\n",
       "    <tr>\n",
       "      <td>646604</td>\n",
       "      <td>10163</td>\n",
       "      <td>9</td>\n",
       "    </tr>\n",
       "  </tbody>\n",
       "</table>\n",
       "</div>"
      ],
      "text/plain": [
       "         kat7  C_kat7\n",
       "387828  10291      14\n",
       "646604  10163       9"
      ]
     },
     "execution_count": 79,
     "metadata": {},
     "output_type": "execute_result"
    }
   ],
   "source": [
    "## Cyfryzuje przez mapowanie słownikowe:\n",
    "df['C_kat7'] = pd.Categorical(df['kat7']).codes\n",
    "df[['kat7','C_kat7']].sample(2)"
   ]
  },
  {
   "cell_type": "code",
   "execution_count": 80,
   "metadata": {},
   "outputs": [
    {
     "name": "stdout",
     "output_type": "stream",
     "text": [
      "{10427: 23, 10035: 2, 10039: 3, 10687: 36, 10551: 27, 11711: 51, 11835: 52, 10303: 18, 10163: 9, 10297: 16, 10047: 7, 10167: 10, 10801: 37, 10171: 12, 11063: 44, 10175: 13, 10813: 40, 10431: 24, 10041: 4, 11451: 50, 10043: 5, 10291: 14, 11319: 47, 10673: 31, 10681: 34, 11315: 46, 10161: 8, 10683: 35, 10169: 11, 10679: 33, 10943: 42, 11071: 45, 10559: 30, 11327: 48, 10547: 26, 10423: 21, 10425: 22, 10299: 17, 10033: 0, 10034: 1, 10295: 15, 10553: 28, 11447: 49, 10811: 39, 10555: 29, 10675: 32, 11059: 43, 10809: 38, 10937: 41, 10045: 6, 10417: 19, 10545: 25, 10419: 20}\n"
     ]
    },
    {
     "data": {
      "text/html": [
       "<div>\n",
       "<style scoped>\n",
       "    .dataframe tbody tr th:only-of-type {\n",
       "        vertical-align: middle;\n",
       "    }\n",
       "\n",
       "    .dataframe tbody tr th {\n",
       "        vertical-align: top;\n",
       "    }\n",
       "\n",
       "    .dataframe thead th {\n",
       "        text-align: right;\n",
       "    }\n",
       "</style>\n",
       "<table border=\"1\" class=\"dataframe\">\n",
       "  <thead>\n",
       "    <tr style=\"text-align: right;\">\n",
       "      <th></th>\n",
       "      <th>CYF_kat7</th>\n",
       "      <th>kat7</th>\n",
       "    </tr>\n",
       "  </thead>\n",
       "  <tbody>\n",
       "    <tr>\n",
       "      <td>1072478</td>\n",
       "      <td>13</td>\n",
       "      <td>10175</td>\n",
       "    </tr>\n",
       "    <tr>\n",
       "      <td>1279634</td>\n",
       "      <td>2</td>\n",
       "      <td>10035</td>\n",
       "    </tr>\n",
       "    <tr>\n",
       "      <td>285884</td>\n",
       "      <td>2</td>\n",
       "      <td>10035</td>\n",
       "    </tr>\n",
       "    <tr>\n",
       "      <td>701646</td>\n",
       "      <td>2</td>\n",
       "      <td>10035</td>\n",
       "    </tr>\n",
       "  </tbody>\n",
       "</table>\n",
       "</div>"
      ],
      "text/plain": [
       "         CYF_kat7   kat7\n",
       "1072478        13  10175\n",
       "1279634         2  10035\n",
       "285884          2  10035\n",
       "701646          2  10035"
      ]
     },
     "execution_count": 80,
     "metadata": {},
     "output_type": "execute_result"
    }
   ],
   "source": [
    "SL_kat7 = df.set_index('kat7')['C_kat7'].to_dict()\n",
    "print(SL_kat7)\n",
    "df['CYF_kat7'] = df['kat7'].map(SL_kat7)\n",
    "del df['C_kat7']\n",
    "df[['CYF_kat7','kat7']].sample(4)"
   ]
  },
  {
   "cell_type": "code",
   "execution_count": 81,
   "metadata": {},
   "outputs": [
    {
     "name": "stdout",
     "output_type": "stream",
     "text": [
      "(53,)\n",
      "(53,)\n"
     ]
    }
   ],
   "source": [
    "## Sprawdzenie:\n",
    "print(df['kat7'].value_counts().shape)\n",
    "print(df['CYF_kat7'].value_counts().shape)\n",
    "#print(SL_kat7)"
   ]
  },
  {
   "cell_type": "markdown",
   "metadata": {},
   "source": [
    "### <span style=\"color:blue\"> Cyfryzuje słownikowo: kat8</span>"
   ]
  },
  {
   "cell_type": "code",
   "execution_count": 82,
   "metadata": {},
   "outputs": [
    {
     "name": "stdout",
     "output_type": "stream",
     "text": [
      "(165,)\n"
     ]
    },
    {
     "data": {
      "text/plain": [
       "-1         751710\n",
       " 100084     91087\n",
       " 100111     69056\n",
       " 100148     60905\n",
       " 100077     54414\n",
       "            ...  \n",
       " 100100         1\n",
       " 100157         1\n",
       " 100246         1\n",
       " 100186         1\n",
       " 100209         1\n",
       "Name: kat8, Length: 165, dtype: int64"
      ]
     },
     "execution_count": 82,
     "metadata": {},
     "output_type": "execute_result"
    }
   ],
   "source": [
    "print(df['kat8'].value_counts().shape)\n",
    "df['kat8'].value_counts()"
   ]
  },
  {
   "cell_type": "code",
   "execution_count": 83,
   "metadata": {},
   "outputs": [
    {
     "data": {
      "text/html": [
       "<div>\n",
       "<style scoped>\n",
       "    .dataframe tbody tr th:only-of-type {\n",
       "        vertical-align: middle;\n",
       "    }\n",
       "\n",
       "    .dataframe tbody tr th {\n",
       "        vertical-align: top;\n",
       "    }\n",
       "\n",
       "    .dataframe thead th {\n",
       "        text-align: right;\n",
       "    }\n",
       "</style>\n",
       "<table border=\"1\" class=\"dataframe\">\n",
       "  <thead>\n",
       "    <tr style=\"text-align: right;\">\n",
       "      <th></th>\n",
       "      <th>kat8</th>\n",
       "      <th>C_kat8</th>\n",
       "    </tr>\n",
       "  </thead>\n",
       "  <tbody>\n",
       "    <tr>\n",
       "      <td>173238</td>\n",
       "      <td>100060</td>\n",
       "      <td>43</td>\n",
       "    </tr>\n",
       "    <tr>\n",
       "      <td>49419</td>\n",
       "      <td>100084</td>\n",
       "      <td>62</td>\n",
       "    </tr>\n",
       "  </tbody>\n",
       "</table>\n",
       "</div>"
      ],
      "text/plain": [
       "          kat8  C_kat8\n",
       "173238  100060      43\n",
       "49419   100084      62"
      ]
     },
     "execution_count": 83,
     "metadata": {},
     "output_type": "execute_result"
    }
   ],
   "source": [
    "## Cyfryzuje przez mapowanie słownikowe:\n",
    "df['C_kat8'] = pd.Categorical(df['kat8']).codes\n",
    "df[['kat8','C_kat8']].sample(2)"
   ]
  },
  {
   "cell_type": "code",
   "execution_count": 84,
   "metadata": {},
   "outputs": [
    {
     "data": {
      "text/html": [
       "<div>\n",
       "<style scoped>\n",
       "    .dataframe tbody tr th:only-of-type {\n",
       "        vertical-align: middle;\n",
       "    }\n",
       "\n",
       "    .dataframe tbody tr th {\n",
       "        vertical-align: top;\n",
       "    }\n",
       "\n",
       "    .dataframe thead th {\n",
       "        text-align: right;\n",
       "    }\n",
       "</style>\n",
       "<table border=\"1\" class=\"dataframe\">\n",
       "  <thead>\n",
       "    <tr style=\"text-align: right;\">\n",
       "      <th></th>\n",
       "      <th>CYF_kat8</th>\n",
       "      <th>kat8</th>\n",
       "    </tr>\n",
       "  </thead>\n",
       "  <tbody>\n",
       "    <tr>\n",
       "      <td>423146</td>\n",
       "      <td>0</td>\n",
       "      <td>-1</td>\n",
       "    </tr>\n",
       "    <tr>\n",
       "      <td>842066</td>\n",
       "      <td>59</td>\n",
       "      <td>100081</td>\n",
       "    </tr>\n",
       "    <tr>\n",
       "      <td>985473</td>\n",
       "      <td>83</td>\n",
       "      <td>100111</td>\n",
       "    </tr>\n",
       "    <tr>\n",
       "      <td>1231156</td>\n",
       "      <td>0</td>\n",
       "      <td>-1</td>\n",
       "    </tr>\n",
       "  </tbody>\n",
       "</table>\n",
       "</div>"
      ],
      "text/plain": [
       "         CYF_kat8    kat8\n",
       "423146          0      -1\n",
       "842066         59  100081\n",
       "985473         83  100111\n",
       "1231156         0      -1"
      ]
     },
     "execution_count": 84,
     "metadata": {},
     "output_type": "execute_result"
    }
   ],
   "source": [
    "SL_kat8 = df.set_index('kat8')['C_kat8'].to_dict()\n",
    "#print(SL_kat8)\n",
    "df['CYF_kat8'] = df['kat8'].map(SL_kat8)\n",
    "del df['C_kat8']\n",
    "df[['CYF_kat8','kat8']].sample(4)"
   ]
  },
  {
   "cell_type": "code",
   "execution_count": 85,
   "metadata": {},
   "outputs": [
    {
     "name": "stdout",
     "output_type": "stream",
     "text": [
      "(165,)\n",
      "(165,)\n"
     ]
    }
   ],
   "source": [
    "## Sprawdzenie:\n",
    "print(df['kat8'].value_counts().shape)\n",
    "print(df['CYF_kat8'].value_counts().shape)\n",
    "#print(SL_kat8)"
   ]
  },
  {
   "cell_type": "markdown",
   "metadata": {},
   "source": [
    "### <span style=\"color:blue\"> Cyfryzuje słownikowo: kat9</span>"
   ]
  },
  {
   "cell_type": "code",
   "execution_count": 86,
   "metadata": {},
   "outputs": [
    {
     "name": "stdout",
     "output_type": "stream",
     "text": [
      "(45,)\n"
     ]
    },
    {
     "data": {
      "text/plain": [
       "23     228233\n",
       "79     191767\n",
       "221    184996\n",
       "157    183166\n",
       "61      83266\n",
       "48      74914\n",
       "32      74062\n",
       "15      60896\n",
       "33      44226\n",
       "43      42879\n",
       "117     37377\n",
       "71      34348\n",
       "68      30171\n",
       "52      24476\n",
       "51      24325\n",
       "42      22842\n",
       "13      21540\n",
       "156     18613\n",
       "46      15240\n",
       "111     13981\n",
       "91      12648\n",
       "69      10548\n",
       "90       9631\n",
       "16       9195\n",
       "17       8382\n",
       "110      6838\n",
       "112      6164\n",
       "95       5272\n",
       "35       4667\n",
       "100      3102\n",
       "101      2767\n",
       "82       2197\n",
       "194      1411\n",
       "116      1222\n",
       "20       1107\n",
       "159      1026\n",
       "163       678\n",
       "93        643\n",
       "94        434\n",
       "195       360\n",
       "70        218\n",
       "102        82\n",
       "85         59\n",
       "219        29\n",
       "178         2\n",
       "Name: kat9, dtype: int64"
      ]
     },
     "execution_count": 86,
     "metadata": {},
     "output_type": "execute_result"
    }
   ],
   "source": [
    "print(df['kat9'].value_counts().shape)\n",
    "df['kat9'].value_counts()"
   ]
  },
  {
   "cell_type": "code",
   "execution_count": 87,
   "metadata": {},
   "outputs": [
    {
     "data": {
      "text/html": [
       "<div>\n",
       "<style scoped>\n",
       "    .dataframe tbody tr th:only-of-type {\n",
       "        vertical-align: middle;\n",
       "    }\n",
       "\n",
       "    .dataframe tbody tr th {\n",
       "        vertical-align: top;\n",
       "    }\n",
       "\n",
       "    .dataframe thead th {\n",
       "        text-align: right;\n",
       "    }\n",
       "</style>\n",
       "<table border=\"1\" class=\"dataframe\">\n",
       "  <thead>\n",
       "    <tr style=\"text-align: right;\">\n",
       "      <th></th>\n",
       "      <th>kat9</th>\n",
       "      <th>C_kat9</th>\n",
       "    </tr>\n",
       "  </thead>\n",
       "  <tbody>\n",
       "    <tr>\n",
       "      <td>1331350</td>\n",
       "      <td>23</td>\n",
       "      <td>5</td>\n",
       "    </tr>\n",
       "    <tr>\n",
       "      <td>147070</td>\n",
       "      <td>23</td>\n",
       "      <td>5</td>\n",
       "    </tr>\n",
       "  </tbody>\n",
       "</table>\n",
       "</div>"
      ],
      "text/plain": [
       "         kat9  C_kat9\n",
       "1331350    23       5\n",
       "147070     23       5"
      ]
     },
     "execution_count": 87,
     "metadata": {},
     "output_type": "execute_result"
    }
   ],
   "source": [
    "## Cyfryzuje przez mapowanie słownikowe:\n",
    "df['C_kat9'] = pd.Categorical(df['kat9']).codes\n",
    "df[['kat9','C_kat9']].sample(2)"
   ]
  },
  {
   "cell_type": "code",
   "execution_count": 88,
   "metadata": {},
   "outputs": [
    {
     "data": {
      "text/html": [
       "<div>\n",
       "<style scoped>\n",
       "    .dataframe tbody tr th:only-of-type {\n",
       "        vertical-align: middle;\n",
       "    }\n",
       "\n",
       "    .dataframe tbody tr th {\n",
       "        vertical-align: top;\n",
       "    }\n",
       "\n",
       "    .dataframe thead th {\n",
       "        text-align: right;\n",
       "    }\n",
       "</style>\n",
       "<table border=\"1\" class=\"dataframe\">\n",
       "  <thead>\n",
       "    <tr style=\"text-align: right;\">\n",
       "      <th></th>\n",
       "      <th>CYF_kat9</th>\n",
       "      <th>kat9</th>\n",
       "    </tr>\n",
       "  </thead>\n",
       "  <tbody>\n",
       "    <tr>\n",
       "      <td>235318</td>\n",
       "      <td>0</td>\n",
       "      <td>13</td>\n",
       "    </tr>\n",
       "    <tr>\n",
       "      <td>395354</td>\n",
       "      <td>5</td>\n",
       "      <td>23</td>\n",
       "    </tr>\n",
       "    <tr>\n",
       "      <td>616117</td>\n",
       "      <td>37</td>\n",
       "      <td>157</td>\n",
       "    </tr>\n",
       "    <tr>\n",
       "      <td>438138</td>\n",
       "      <td>44</td>\n",
       "      <td>221</td>\n",
       "    </tr>\n",
       "  </tbody>\n",
       "</table>\n",
       "</div>"
      ],
      "text/plain": [
       "        CYF_kat9  kat9\n",
       "235318         0    13\n",
       "395354         5    23\n",
       "616117        37   157\n",
       "438138        44   221"
      ]
     },
     "execution_count": 88,
     "metadata": {},
     "output_type": "execute_result"
    }
   ],
   "source": [
    "SL_kat9 = df.set_index('kat9')['C_kat9'].to_dict()\n",
    "#print(SL_kat9)\n",
    "df['CYF_kat9'] = df['kat9'].map(SL_kat9)\n",
    "del df['C_kat9']\n",
    "df[['CYF_kat9','kat9']].sample(4)"
   ]
  },
  {
   "cell_type": "code",
   "execution_count": 89,
   "metadata": {},
   "outputs": [
    {
     "name": "stdout",
     "output_type": "stream",
     "text": [
      "(45,)\n",
      "(45,)\n"
     ]
    }
   ],
   "source": [
    "## Sprawdzenie:\n",
    "print(df['kat9'].value_counts().shape)\n",
    "print(df['CYF_kat9'].value_counts().shape)\n",
    "#print(SL_kat9)"
   ]
  },
  {
   "cell_type": "markdown",
   "metadata": {},
   "source": [
    "<span style=\"color:blue\">Wszystkie piowyższe zmienne dyskretne trzeba bðzie przerobić na cyfry. Problem polega na tym, że trzeba to zrobić przez słownik, ponieważ te przyporządkowanie musi pasowac do innego zbioru \"Do zgłoszenia\".\n",
    "Ciekawe co zrobić, jak zmienne dyskretne nie będą te same w zbiorze uczącym i co zmienne  w zbiorze \"do zgłoszenia\"\n",
    "</span>"
   ]
  },
  {
   "cell_type": "code",
   "execution_count": 90,
   "metadata": {},
   "outputs": [
    {
     "data": {
      "text/plain": [
       "id                          int64\n",
       "klik                        int64\n",
       "data_godzina                int64\n",
       "baner_pozycja               int64\n",
       "strona_id                  object\n",
       "strona_domena              object\n",
       "strona_kategoria           object\n",
       "aplikacja_id               object\n",
       "aplikacja_domena           object\n",
       "aplikacja_kategoria        object\n",
       "urz_id                     object\n",
       "urz_ip                     object\n",
       "urz_model                  object\n",
       "urz_typ                     int64\n",
       "urz_polaczenie              int64\n",
       "kat1                        int64\n",
       "kat2                        int64\n",
       "kat3                        int64\n",
       "kat4                        int64\n",
       "kat5                        int64\n",
       "kat6                        int64\n",
       "kat7                        int64\n",
       "kat8                        int64\n",
       "kat9                        int64\n",
       "CYF_data_godzina            int64\n",
       "CYF_baner_pozycja           int64\n",
       "CYF_strona_id               int64\n",
       "CYF_strona_domena           int64\n",
       "CYF_strona_kategoria        int64\n",
       "CYF_aplikacja_id            int64\n",
       "CYF_aplikacja_domena        int64\n",
       "CYF_aplikacja_kategoria     int64\n",
       "CYF_urz_id                  int64\n",
       "CYF_urz_ip                  int64\n",
       "CYF_urz_model               int64\n",
       "CYF_urz_typ                 int64\n",
       "CYF_urz_polaczenie          int64\n",
       "CYF_kat1                    int64\n",
       "CYF_kat2                    int64\n",
       "CYF_kat3                    int64\n",
       "CYF_kat4                    int64\n",
       "CYF_kat5                    int64\n",
       "CYF_kat6                    int64\n",
       "CYF_kat7                    int64\n",
       "CYF_kat8                    int64\n",
       "CYF_kat9                    int64\n",
       "dtype: object"
      ]
     },
     "execution_count": 90,
     "metadata": {},
     "output_type": "execute_result"
    }
   ],
   "source": [
    "df['klik'] = df.klik.astype('int64')\n",
    "df.dtypes"
   ]
  },
  {
   "cell_type": "markdown",
   "metadata": {},
   "source": [
    "### <span style=\"color:blue\">Wybór zmiennych do analizy</span>"
   ]
  },
  {
   "cell_type": "code",
   "execution_count": 91,
   "metadata": {},
   "outputs": [],
   "source": [
    "df2 = df[['klik','CYF_data_godzina', 'CYF_baner_pozycja',\n",
    "       'CYF_strona_id', 'CYF_strona_domena', 'CYF_strona_kategoria',\n",
    "       'CYF_aplikacja_id', 'CYF_aplikacja_domena', 'CYF_aplikacja_kategoria',\n",
    "       'CYF_urz_id', 'CYF_urz_ip', 'CYF_urz_model', 'CYF_urz_typ',\n",
    "       'CYF_urz_polaczenie', 'CYF_kat1', 'CYF_kat2', 'CYF_kat3', 'CYF_kat4',\n",
    "       'CYF_kat5', 'CYF_kat6', 'CYF_kat7', 'CYF_kat8', 'CYF_kat9']]"
   ]
  },
  {
   "cell_type": "raw",
   "metadata": {},
   "source": [
    "df2 = df[['klik','CYF_kat4','CYF_aplikacja_id','CYF_aplikacja_kategoria','CYF_kat2','CYF_kat5','CYF_kat3']]"
   ]
  },
  {
   "cell_type": "code",
   "execution_count": 92,
   "metadata": {},
   "outputs": [
    {
     "data": {
      "text/plain": [
       "id                          int64\n",
       "klik                        int64\n",
       "data_godzina                int64\n",
       "baner_pozycja               int64\n",
       "strona_id                  object\n",
       "strona_domena              object\n",
       "strona_kategoria           object\n",
       "aplikacja_id               object\n",
       "aplikacja_domena           object\n",
       "aplikacja_kategoria        object\n",
       "urz_id                     object\n",
       "urz_ip                     object\n",
       "urz_model                  object\n",
       "urz_typ                     int64\n",
       "urz_polaczenie              int64\n",
       "kat1                        int64\n",
       "kat2                        int64\n",
       "kat3                        int64\n",
       "kat4                        int64\n",
       "kat5                        int64\n",
       "kat6                        int64\n",
       "kat7                        int64\n",
       "kat8                        int64\n",
       "kat9                        int64\n",
       "CYF_data_godzina            int64\n",
       "CYF_baner_pozycja           int64\n",
       "CYF_strona_id               int64\n",
       "CYF_strona_domena           int64\n",
       "CYF_strona_kategoria        int64\n",
       "CYF_aplikacja_id            int64\n",
       "CYF_aplikacja_domena        int64\n",
       "CYF_aplikacja_kategoria     int64\n",
       "CYF_urz_id                  int64\n",
       "CYF_urz_ip                  int64\n",
       "CYF_urz_model               int64\n",
       "CYF_urz_typ                 int64\n",
       "CYF_urz_polaczenie          int64\n",
       "CYF_kat1                    int64\n",
       "CYF_kat2                    int64\n",
       "CYF_kat3                    int64\n",
       "CYF_kat4                    int64\n",
       "CYF_kat5                    int64\n",
       "CYF_kat6                    int64\n",
       "CYF_kat7                    int64\n",
       "CYF_kat8                    int64\n",
       "CYF_kat9                    int64\n",
       "dtype: object"
      ]
     },
     "execution_count": 92,
     "metadata": {},
     "output_type": "execute_result"
    }
   ],
   "source": [
    "df.dtypes"
   ]
  },
  {
   "cell_type": "markdown",
   "metadata": {},
   "source": [
    "### <span style=\"color:blue\">Podział na zbiór testowy i wynikowy</span>"
   ]
  },
  {
   "cell_type": "code",
   "execution_count": 93,
   "metadata": {},
   "outputs": [],
   "source": [
    "y = df2['klik']\n",
    "X = df2.drop('klik', axis=1)"
   ]
  },
  {
   "cell_type": "code",
   "execution_count": 94,
   "metadata": {},
   "outputs": [
    {
     "name": "stdout",
     "output_type": "stream",
     "text": [
      "Zbiór X treningowy:  (1005000, 22)\n",
      "Zbiór X testowy:     (495000, 22)\n",
      "Zbiór y treningowy:  (1005000,)\n",
      "Zbiór y testowy:     (495000,)\n"
     ]
    }
   ],
   "source": [
    "from sklearn.model_selection import train_test_split \n",
    "Xtrain, Xtest, ytrain, ytest = train_test_split(X,y, test_size=0.33, stratify = y, random_state = 148)\n",
    "\n",
    "print ('Zbiór X treningowy: ',Xtrain.shape)\n",
    "print ('Zbiór X testowy:    ', Xtest.shape)\n",
    "print ('Zbiór y treningowy: ', ytrain.shape)\n",
    "print ('Zbiór y testowy:    ', ytest.shape)"
   ]
  },
  {
   "cell_type": "markdown",
   "metadata": {},
   "source": [
    "### <span style=\"color:blue\">OVERSAMPLING</span>"
   ]
  },
  {
   "cell_type": "code",
   "execution_count": 95,
   "metadata": {},
   "outputs": [
    {
     "name": "stdout",
     "output_type": "stream",
     "text": [
      "ytrain = 0:  834052\n",
      "ytrain = 1:  170948\n"
     ]
    }
   ],
   "source": [
    "print(\"ytrain = 0: \", sum(ytrain == 0))\n",
    "print(\"ytrain = 1: \", sum(ytrain == 1))"
   ]
  },
  {
   "cell_type": "code",
   "execution_count": 96,
   "metadata": {},
   "outputs": [
    {
     "name": "stdout",
     "output_type": "stream",
     "text": [
      "Ilość -0 klik na -1 klik:  5\n"
     ]
    }
   ],
   "source": [
    "Proporcja = sum(ytrain == 0) / sum(ytrain == 1) \n",
    "Proporcja = np.round(Proporcja, decimals=0)\n",
    "Proporcja = Proporcja.astype(int)\n",
    "print('Ilość -0 klik na -1 klik: ', Proporcja)"
   ]
  },
  {
   "cell_type": "code",
   "execution_count": 97,
   "metadata": {},
   "outputs": [
    {
     "data": {
      "text/plain": [
       "854740"
      ]
     },
     "execution_count": 97,
     "metadata": {},
     "output_type": "execute_result"
    }
   ],
   "source": [
    "ytrain_OV = pd.concat([ytrain[ytrain==1]] * Proporcja, axis = 0) \n",
    "ytrain_OV.count()"
   ]
  },
  {
   "cell_type": "markdown",
   "metadata": {},
   "source": [
    "Powiękrzyliśmy ilość zmiennych wynikowych 1. Teraz mamy tę samą liczbę wierszy zmiennych wynikowych i zmiennych niezależnych. Teraz wprowadzamy nowe, dodatkowe zmienne 1 do zbioru treningowego."
   ]
  },
  {
   "cell_type": "code",
   "execution_count": 98,
   "metadata": {},
   "outputs": [
    {
     "data": {
      "text/plain": [
       "854740"
      ]
     },
     "execution_count": 98,
     "metadata": {},
     "output_type": "execute_result"
    }
   ],
   "source": [
    "Xtrain_OV = pd.concat([Xtrain.loc[ytrain==1, :]] * Proporcja, axis = 0)\n",
    "ytrain_OV.count()"
   ]
  },
  {
   "cell_type": "code",
   "execution_count": 99,
   "metadata": {},
   "outputs": [
    {
     "name": "stdout",
     "output_type": "stream",
     "text": [
      "ilość elementów w zbiorze Xtrain:      1005000\n",
      "ilość elementów w zbiorze Xtrain_OV:   1859740\n",
      "ilość elementów w zbiorze ytrain:      1005000\n",
      "ilość elementów w zbiorze ytrain_OV:   1859740\n"
     ]
    }
   ],
   "source": [
    "ytrain_OV = pd.concat([ytrain, ytrain_OV], axis = 0).reset_index(drop = True)\n",
    "Xtrain_OV = pd.concat([Xtrain, Xtrain_OV], axis = 0).reset_index(drop = True)\n",
    "\n",
    "print(\"ilość elementów w zbiorze Xtrain:     \", Xtrain.CYF_kat5.count())\n",
    "print(\"ilość elementów w zbiorze Xtrain_OV:  \", Xtrain_OV.CYF_kat5.count())\n",
    "print(\"ilość elementów w zbiorze ytrain:     \", ytrain.count())\n",
    "print(\"ilość elementów w zbiorze ytrain_OV:  \", ytrain_OV.count())"
   ]
  },
  {
   "cell_type": "markdown",
   "metadata": {},
   "source": [
    "Poziom zbilansowania zbioru wynikowego:"
   ]
  },
  {
   "cell_type": "code",
   "execution_count": 100,
   "metadata": {},
   "outputs": [
    {
     "data": {
      "text/plain": [
       "<matplotlib.axes._subplots.AxesSubplot at 0x7fdaacbe8910>"
      ]
     },
     "execution_count": 100,
     "metadata": {},
     "output_type": "execute_result"
    },
    {
     "data": {
      "image/png": "[encoded data removed]",
      "text/plain": [
       "<Figure size 432x288 with 1 Axes>"
      ]
     },
     "metadata": {},
     "output_type": "display_data"
    }
   ],
   "source": [
    "ytrain_OV.value_counts(dropna = False, normalize=True).plot(kind='pie')"
   ]
  },
  {
   "cell_type": "markdown",
   "metadata": {},
   "source": [
    "### Standaryzacja"
   ]
  },
  {
   "cell_type": "raw",
   "metadata": {},
   "source": [
    "from sklearn.preprocessing import MinMaxScaler\n",
    "\n",
    "scaler = MinMaxScaler(feature_range = (0,1))\n",
    "\n",
    "scaler.fit(Xtrain_OV)\n",
    "Xtrain_OV = scaler.transform(Xtrain_OV)\n",
    "Xtest = scaler.transform(Xtest)"
   ]
  },
  {
   "cell_type": "markdown",
   "metadata": {},
   "source": [
    "# <span style=\"color:blue\"> Model regresji RandomForest</span>"
   ]
  },
  {
   "cell_type": "code",
   "execution_count": 101,
   "metadata": {},
   "outputs": [],
   "source": [
    "from sklearn.ensemble import RandomForestClassifier\n",
    "\n",
    "forestVC = RandomForestClassifier (random_state = 1, \n",
    "                                  n_estimators = 350, \n",
    "                                  max_depth = 2, \n",
    "                                  min_samples_split = 2, min_samples_leaf = 3) \n",
    "RFC_S = forestVC.fit(Xtrain_OV, ytrain_OV)\n",
    "y_pred_RFC = RFC_S.predict(Xtest)"
   ]
  },
  {
   "cell_type": "code",
   "execution_count": 102,
   "metadata": {},
   "outputs": [
    {
     "name": "stdout",
     "output_type": "stream",
     "text": [
      "Recall Training data:      0.8784\n",
      "Precision Training data:   0.5867\n",
      "----------------------------------------------------------------------\n",
      "Recall Test data:          0.8783\n",
      "Precision Test data:       0.1912\n",
      "----------------------------------------------------------------------\n",
      "Confusion Matrix Test data\n",
      "[[ 97944 312858]\n",
      " [ 10246  73952]]\n",
      "----------------------------------------------------------------------\n",
      "              precision    recall  f1-score   support\n",
      "\n",
      "           0       0.91      0.24      0.38    410802\n",
      "           1       0.19      0.88      0.31     84198\n",
      "\n",
      "    accuracy                           0.35    495000\n",
      "   macro avg       0.55      0.56      0.35    495000\n",
      "weighted avg       0.78      0.35      0.37    495000\n",
      "\n"
     ]
    },
    {
     "data": {
      "image/png": "[encoded data removed]",
      "text/plain": [
       "<Figure size 432x288 with 1 Axes>"
      ]
     },
     "metadata": {
      "needs_background": "light"
     },
     "output_type": "display_data"
    }
   ],
   "source": [
    "# ocena modelu\n",
    "from sklearn import metrics\n",
    "from sklearn.metrics import classification_report, confusion_matrix\n",
    "from sklearn.metrics import confusion_matrix, log_loss, auc, roc_curve, roc_auc_score, recall_score, precision_recall_curve\n",
    "from sklearn.metrics import make_scorer, precision_score, fbeta_score, f1_score, classification_report\n",
    "\n",
    "print(\"Recall Training data:     \", np.round(recall_score(ytrain_OV, RFC_S.predict(Xtrain_OV)), decimals=4))\n",
    "print(\"Precision Training data:  \", np.round(precision_score(ytrain_OV, RFC_S.predict(Xtrain_OV)), decimals=4))\n",
    "print(\"----------------------------------------------------------------------\")\n",
    "print(\"Recall Test data:         \", np.round(recall_score(ytest, RFC_S.predict(Xtest)), decimals=4)) \n",
    "print(\"Precision Test data:      \", np.round(precision_score(ytest, RFC_S.predict(Xtest)), decimals=4))\n",
    "print(\"----------------------------------------------------------------------\")\n",
    "print(\"Confusion Matrix Test data\")\n",
    "print(confusion_matrix(ytest, RFC_S.predict(Xtest)))\n",
    "print(\"----------------------------------------------------------------------\")\n",
    "print(classification_report(ytest, RFC_S.predict(Xtest)))\n",
    "y_pred_proba = RFC_S.predict_proba(Xtest)[::,1]\n",
    "fpr, tpr, _ = metrics.roc_curve(ytest,  y_pred_RFC)\n",
    "auc = metrics.roc_auc_score(ytest, y_pred_RFC)\n",
    "plt.plot(fpr, tpr, label='Random Forest (auc = %0.2f)' % auc)\n",
    "plt.xlabel('False Positive Rate',color='grey', fontsize = 13)\n",
    "plt.ylabel('True Positive Rate',color='grey', fontsize = 13)\n",
    "plt.title('Receiver operating characteristic')\n",
    "plt.legend(loc=\"lower right\")\n",
    "plt.legend(loc=4)\n",
    "plt.plot([0, 1], [0, 1],'r--')\n",
    "plt.show()"
   ]
  },
  {
   "cell_type": "markdown",
   "metadata": {},
   "source": [
    "auc =0.64"
   ]
  },
  {
   "cell_type": "markdown",
   "metadata": {},
   "source": [
    "https://stackoverflow.com/questions/39163354/evaluating-logistic-regression-with-cross-validation"
   ]
  },
  {
   "cell_type": "markdown",
   "metadata": {},
   "source": [
    "# <span style=\"color:blue\"> Model SVM</span>"
   ]
  },
  {
   "cell_type": "raw",
   "metadata": {},
   "source": [
    "from sklearn.pipeline import Pipeline\n",
    "from sklearn.pipeline import make_pipeline\n",
    "from sklearn.preprocessing import StandardScaler\n",
    "from sklearn.svm import SVC\n",
    "from sklearn.model_selection import train_test_split\n",
    "from sklearn import preprocessing\n",
    "from sklearn.model_selection import GridSearchCV\n",
    "from sklearn.metrics import mean_squared_error, r2_score\n",
    "from sklearn.externals import joblib\n",
    "\n",
    "\n",
    "start_time = time.time() ## pomiar czasu: start pomiaru czasu\n",
    "print(time.ctime())\n",
    "print('Pomiar czasu wykonania tego zadania')\n",
    "\n",
    "ew = [('scaler', StandardScaler()), ('SVM', SVC())]\n",
    "pipeline = Pipeline(ew)\n",
    "\n",
    "parameteres = {'SVM__C':[0.001,0.1,10,100,10e5], 'SVM__gamma':[0.1,0.01]}\n",
    "SVM_12 = GridSearchCV(pipeline, param_grid=parameteres, cv=5)\n",
    "SVM_12.fit(Xtrain_OV, ytrain_OV)\n",
    "y_pred_SVM12 = SVM_12.predict(Xtest)\n",
    "\n",
    "print(time.time() - start_time) ## koniec pomiaru czasu"
   ]
  },
  {
   "cell_type": "raw",
   "metadata": {},
   "source": [
    "import pprint\n",
    "pparam=pprint.PrettyPrinter(indent=2)\n",
    "print(SVM_12.best_params_)"
   ]
  },
  {
   "cell_type": "raw",
   "metadata": {},
   "source": [
    "print(\"Recall Training data:     \", np.round(recall_score(ytrain_OV, SVM_12.predict(Xtrain_OV)), decimals=4))\n",
    "print(\"Precision Training data:  \", np.round(precision_score(ytrain_OV, SVM_12.predict(Xtrain_OV)), decimals=4))\n",
    "print(\"----------------------------------------------------------------------\")\n",
    "print(\"Recall Test data:         \", np.round(recall_score(ytest, SVM_12.predict(Xtest)), decimals=4)) \n",
    "print(\"Precision Test data:      \", np.round(precision_score(ytest, SVM_12.predict(Xtest)), decimals=4))\n",
    "print(\"----------------------------------------------------------------------\")\n",
    "print(\"Confusion Matrix Test data\")\n",
    "print(confusion_matrix(ytest, SVM_12.predict(Xtest)))\n",
    "print(\"----------------------------------------------------------------------\")\n",
    "print(classification_report(ytest, SVM_12.predict(Xtest)))\n"
   ]
  },
  {
   "cell_type": "code",
   "execution_count": 103,
   "metadata": {},
   "outputs": [
    {
     "name": "stdout",
     "output_type": "stream",
     "text": [
      "Pomiar czasu wykonania tego zadania\n",
      "Minut:  11.130807137489318\n"
     ]
    }
   ],
   "source": [
    "print('Pomiar czasu wykonania tego zadania')\n",
    "print('Minut: ',(time.time() - start_time)/60) ## koniec pomiaru czasu"
   ]
  }
 ],
 "metadata": {
  "kernelspec": {
   "display_name": "Python 3",
   "language": "python",
   "name": "python3"
  },
  "language_info": {
   "codemirror_mode": {
    "name": "ipython",
    "version": 3
   },
   "file_extension": ".py",
   "mimetype": "text/x-python",
   "name": "python",
   "nbconvert_exporter": "python",
   "pygments_lexer": "ipython3",
   "version": "3.7.4"
  }
 },
 "nbformat": 4,
 "nbformat_minor": 2
}
