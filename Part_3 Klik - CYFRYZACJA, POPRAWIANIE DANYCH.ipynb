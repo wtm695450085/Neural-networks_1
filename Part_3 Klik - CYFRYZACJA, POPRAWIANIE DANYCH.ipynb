{
 "cells": [
  {
   "cell_type": "markdown",
   "metadata": {},
   "source": [
    "# Part_3 Klik - CYFRYZACJA, POPRAWIANIE DANYCH\n",
    "16:30 - 17:05\n",
    "\n",
    "https://www.researchgate.net/post/What_methods_are_suitable_for_feature_selection_to_improve_classification_accuracy\n",
    "\n",
    "https://www.researchgate.net/post/What_methods_are_suitable_for_feature_selection_to_improve_classification_accuracy\n"
   ]
  },
  {
   "cell_type": "code",
   "execution_count": 1,
   "metadata": {},
   "outputs": [
    {
     "name": "stdout",
     "output_type": "stream",
     "text": [
      "Tue Mar 17 07:50:33 2020\n"
     ]
    }
   ],
   "source": [
    "import time\n",
    "start_time = time.time() ## pomiar czasu: start pomiaru czasu\n",
    "print(time.ctime())"
   ]
  },
  {
   "cell_type": "code",
   "execution_count": 2,
   "metadata": {},
   "outputs": [
    {
     "name": "stdout",
     "output_type": "stream",
     "text": [
      "(3619621, 24)\n",
      "\n",
      "Index(['id', 'klik', 'data_godzina', 'baner_pozycja', 'strona_id',\n",
      "       'strona_domena', 'strona_kategoria', 'aplikacja_id', 'aplikacja_domena',\n",
      "       'aplikacja_kategoria', 'urz_id', 'urz_ip', 'urz_model', 'urz_typ',\n",
      "       'urz_polaczenie', 'kat1', 'kat2', 'kat3', 'kat4', 'kat5', 'kat6',\n",
      "       'kat7', 'kat8', 'kat9'],\n",
      "      dtype='object')\n"
     ]
    },
    {
     "data": {
      "text/html": [
       "<div>\n",
       "<style scoped>\n",
       "    .dataframe tbody tr th:only-of-type {\n",
       "        vertical-align: middle;\n",
       "    }\n",
       "\n",
       "    .dataframe tbody tr th {\n",
       "        vertical-align: top;\n",
       "    }\n",
       "\n",
       "    .dataframe thead th {\n",
       "        text-align: right;\n",
       "    }\n",
       "</style>\n",
       "<table border=\"1\" class=\"dataframe\">\n",
       "  <thead>\n",
       "    <tr style=\"text-align: right;\">\n",
       "      <th></th>\n",
       "      <th>id</th>\n",
       "      <th>klik</th>\n",
       "      <th>data_godzina</th>\n",
       "      <th>baner_pozycja</th>\n",
       "      <th>strona_id</th>\n",
       "      <th>strona_domena</th>\n",
       "      <th>strona_kategoria</th>\n",
       "      <th>aplikacja_id</th>\n",
       "      <th>aplikacja_domena</th>\n",
       "      <th>aplikacja_kategoria</th>\n",
       "      <th>...</th>\n",
       "      <th>urz_polaczenie</th>\n",
       "      <th>kat1</th>\n",
       "      <th>kat2</th>\n",
       "      <th>kat3</th>\n",
       "      <th>kat4</th>\n",
       "      <th>kat5</th>\n",
       "      <th>kat6</th>\n",
       "      <th>kat7</th>\n",
       "      <th>kat8</th>\n",
       "      <th>kat9</th>\n",
       "    </tr>\n",
       "  </thead>\n",
       "  <tbody>\n",
       "    <tr>\n",
       "      <td>0</td>\n",
       "      <td>93718246913880603</td>\n",
       "      <td>0</td>\n",
       "      <td>17030100</td>\n",
       "      <td>0</td>\n",
       "      <td>85f751fd</td>\n",
       "      <td>c4e18dd6</td>\n",
       "      <td>50e219e0</td>\n",
       "      <td>febd1138</td>\n",
       "      <td>82e27996</td>\n",
       "      <td>0f2161f8</td>\n",
       "      <td>...</td>\n",
       "      <td>0</td>\n",
       "      <td>105</td>\n",
       "      <td>119743</td>\n",
       "      <td>10320</td>\n",
       "      <td>10050</td>\n",
       "      <td>12264</td>\n",
       "      <td>13</td>\n",
       "      <td>10427</td>\n",
       "      <td>100000</td>\n",
       "      <td>61</td>\n",
       "    </tr>\n",
       "    <tr>\n",
       "      <td>1</td>\n",
       "      <td>93718246913880604</td>\n",
       "      <td>0</td>\n",
       "      <td>17030100</td>\n",
       "      <td>0</td>\n",
       "      <td>1fbe01fe</td>\n",
       "      <td>f3845767</td>\n",
       "      <td>28905ebd</td>\n",
       "      <td>ecad2386</td>\n",
       "      <td>7801e8d9</td>\n",
       "      <td>07d7df22</td>\n",
       "      <td>...</td>\n",
       "      <td>0</td>\n",
       "      <td>105</td>\n",
       "      <td>115706</td>\n",
       "      <td>10320</td>\n",
       "      <td>10050</td>\n",
       "      <td>11722</td>\n",
       "      <td>10</td>\n",
       "      <td>10035</td>\n",
       "      <td>-1</td>\n",
       "      <td>79</td>\n",
       "    </tr>\n",
       "    <tr>\n",
       "      <td>2</td>\n",
       "      <td>93718246913880605</td>\n",
       "      <td>0</td>\n",
       "      <td>17030100</td>\n",
       "      <td>0</td>\n",
       "      <td>543a539e</td>\n",
       "      <td>c7ca3108</td>\n",
       "      <td>3e814130</td>\n",
       "      <td>ecad2386</td>\n",
       "      <td>7801e8d9</td>\n",
       "      <td>07d7df22</td>\n",
       "      <td>...</td>\n",
       "      <td>0</td>\n",
       "      <td>105</td>\n",
       "      <td>120352</td>\n",
       "      <td>10320</td>\n",
       "      <td>10050</td>\n",
       "      <td>12333</td>\n",
       "      <td>10</td>\n",
       "      <td>10039</td>\n",
       "      <td>-1</td>\n",
       "      <td>157</td>\n",
       "    </tr>\n",
       "    <tr>\n",
       "      <td>3</td>\n",
       "      <td>93718246913880606</td>\n",
       "      <td>0</td>\n",
       "      <td>17030100</td>\n",
       "      <td>1</td>\n",
       "      <td>e151e245</td>\n",
       "      <td>7e091613</td>\n",
       "      <td>f028772b</td>\n",
       "      <td>ecad2386</td>\n",
       "      <td>7801e8d9</td>\n",
       "      <td>07d7df22</td>\n",
       "      <td>...</td>\n",
       "      <td>0</td>\n",
       "      <td>105</td>\n",
       "      <td>117037</td>\n",
       "      <td>10320</td>\n",
       "      <td>10050</td>\n",
       "      <td>11934</td>\n",
       "      <td>12</td>\n",
       "      <td>10039</td>\n",
       "      <td>-1</td>\n",
       "      <td>16</td>\n",
       "    </tr>\n",
       "    <tr>\n",
       "      <td>4</td>\n",
       "      <td>93718246913880607</td>\n",
       "      <td>0</td>\n",
       "      <td>17030100</td>\n",
       "      <td>0</td>\n",
       "      <td>85f751fd</td>\n",
       "      <td>c4e18dd6</td>\n",
       "      <td>50e219e0</td>\n",
       "      <td>39947756</td>\n",
       "      <td>2347f47a</td>\n",
       "      <td>cef3e649</td>\n",
       "      <td>...</td>\n",
       "      <td>2</td>\n",
       "      <td>105</td>\n",
       "      <td>118993</td>\n",
       "      <td>10320</td>\n",
       "      <td>10050</td>\n",
       "      <td>12161</td>\n",
       "      <td>10</td>\n",
       "      <td>10035</td>\n",
       "      <td>100148</td>\n",
       "      <td>157</td>\n",
       "    </tr>\n",
       "  </tbody>\n",
       "</table>\n",
       "<p>5 rows × 24 columns</p>\n",
       "</div>"
      ],
      "text/plain": [
       "                  id  klik  data_godzina  baner_pozycja strona_id  \\\n",
       "0  93718246913880603     0      17030100              0  85f751fd   \n",
       "1  93718246913880604     0      17030100              0  1fbe01fe   \n",
       "2  93718246913880605     0      17030100              0  543a539e   \n",
       "3  93718246913880606     0      17030100              1  e151e245   \n",
       "4  93718246913880607     0      17030100              0  85f751fd   \n",
       "\n",
       "  strona_domena strona_kategoria aplikacja_id aplikacja_domena  \\\n",
       "0      c4e18dd6         50e219e0     febd1138         82e27996   \n",
       "1      f3845767         28905ebd     ecad2386         7801e8d9   \n",
       "2      c7ca3108         3e814130     ecad2386         7801e8d9   \n",
       "3      7e091613         f028772b     ecad2386         7801e8d9   \n",
       "4      c4e18dd6         50e219e0     39947756         2347f47a   \n",
       "\n",
       "  aplikacja_kategoria  ... urz_polaczenie kat1    kat2   kat3   kat4   kat5  \\\n",
       "0            0f2161f8  ...              0  105  119743  10320  10050  12264   \n",
       "1            07d7df22  ...              0  105  115706  10320  10050  11722   \n",
       "2            07d7df22  ...              0  105  120352  10320  10050  12333   \n",
       "3            07d7df22  ...              0  105  117037  10320  10050  11934   \n",
       "4            cef3e649  ...              2  105  118993  10320  10050  12161   \n",
       "\n",
       "   kat6   kat7    kat8  kat9  \n",
       "0    13  10427  100000    61  \n",
       "1    10  10035      -1    79  \n",
       "2    10  10039      -1   157  \n",
       "3    12  10039      -1    16  \n",
       "4    10  10035  100148   157  \n",
       "\n",
       "[5 rows x 24 columns]"
      ]
     },
     "execution_count": 2,
     "metadata": {},
     "output_type": "execute_result"
    }
   ],
   "source": [
    "import pandas as pd\n",
    "import numpy as np\n",
    "import seaborn as sns\n",
    "import matplotlib.pyplot as plt\n",
    "%matplotlib inline\n",
    "\n",
    "df= pd.read_csv('/home/wojciech/Pulpit/4/kliki_uczenie.csv', sep=';')\n",
    "print(df.shape)\n",
    "print()\n",
    "print(df.columns)\n",
    "df.head(5)"
   ]
  },
  {
   "cell_type": "markdown",
   "metadata": {},
   "source": [
    "# <div class=\"alert-danger\"> FILTR!!!\n",
    "    \n",
    "    df['urz_typ']\n",
    "    df['baner_pozycja']\n",
    "    df['urz_polaczenie']\n",
    "    df['kat1']\n",
    "    df['kat3']"
   ]
  },
  {
   "cell_type": "raw",
   "metadata": {},
   "source": [
    "df['data_godzina'].value_counts()"
   ]
  },
  {
   "cell_type": "raw",
   "metadata": {},
   "source": [
    "df['data_godzina'] = df['data_godzina'].astype(str)\n",
    "df['wojtek']=df['data_godzina'].str.slice(5,9,1)\n",
    "df['wojtek'].head(5)"
   ]
  },
  {
   "cell_type": "raw",
   "metadata": {},
   "source": [
    "df['wojtek'].value_counts()"
   ]
  },
  {
   "cell_type": "raw",
   "metadata": {},
   "source": [
    "print(df.shape)\n",
    "df = df[(df['wojtek']>='813') ]\n",
    "print(df.shape)"
   ]
  },
  {
   "cell_type": "markdown",
   "metadata": {},
   "source": []
  },
  {
   "cell_type": "markdown",
   "metadata": {},
   "source": [
    "### Sprawdzam kompletność danych\n",
    "dane są kompletne"
   ]
  },
  {
   "cell_type": "code",
   "execution_count": 3,
   "metadata": {},
   "outputs": [
    {
     "data": {
      "text/plain": [
       "id                     0\n",
       "klik                   0\n",
       "data_godzina           0\n",
       "baner_pozycja          0\n",
       "strona_id              0\n",
       "strona_domena          0\n",
       "strona_kategoria       0\n",
       "aplikacja_id           0\n",
       "aplikacja_domena       0\n",
       "aplikacja_kategoria    0\n",
       "urz_id                 0\n",
       "urz_ip                 0\n",
       "urz_model              0\n",
       "urz_typ                0\n",
       "urz_polaczenie         0\n",
       "kat1                   0\n",
       "kat2                   0\n",
       "kat3                   0\n",
       "kat4                   0\n",
       "kat5                   0\n",
       "kat6                   0\n",
       "kat7                   0\n",
       "kat8                   0\n",
       "kat9                   0\n",
       "dtype: int64"
      ]
     },
     "execution_count": 3,
     "metadata": {},
     "output_type": "execute_result"
    }
   ],
   "source": [
    "df.isnull().sum()"
   ]
  },
  {
   "cell_type": "markdown",
   "metadata": {},
   "source": [
    "### Sprawdzam format danych"
   ]
  },
  {
   "cell_type": "code",
   "execution_count": 4,
   "metadata": {},
   "outputs": [
    {
     "data": {
      "text/plain": [
       "id                      int64\n",
       "klik                    int64\n",
       "data_godzina            int64\n",
       "baner_pozycja           int64\n",
       "strona_id              object\n",
       "strona_domena          object\n",
       "strona_kategoria       object\n",
       "aplikacja_id           object\n",
       "aplikacja_domena       object\n",
       "aplikacja_kategoria    object\n",
       "urz_id                 object\n",
       "urz_ip                 object\n",
       "urz_model              object\n",
       "urz_typ                 int64\n",
       "urz_polaczenie          int64\n",
       "kat1                    int64\n",
       "kat2                    int64\n",
       "kat3                    int64\n",
       "kat4                    int64\n",
       "kat5                    int64\n",
       "kat6                    int64\n",
       "kat7                    int64\n",
       "kat8                    int64\n",
       "kat9                    int64\n",
       "dtype: object"
      ]
     },
     "execution_count": 4,
     "metadata": {},
     "output_type": "execute_result"
    }
   ],
   "source": [
    "df.dtypes"
   ]
  },
  {
   "cell_type": "markdown",
   "metadata": {},
   "source": [
    "### Sprawdzam zbilansowanie zbioru wynikowego\n",
    "<span style=\"color:blue\">ZBIÓR JEST NIEZBILANSOWANY. Trzeba będzie zastosować oversampling</span>"
   ]
  },
  {
   "cell_type": "code",
   "execution_count": 5,
   "metadata": {},
   "outputs": [
    {
     "data": {
      "text/plain": [
       "<matplotlib.axes._subplots.AxesSubplot at 0x7f0369b68410>"
      ]
     },
     "execution_count": 5,
     "metadata": {},
     "output_type": "execute_result"
    },
    {
     "data": {
      "image/png": "[encoded data removed]",
      "text/plain": [
       "<Figure size 432x288 with 1 Axes>"
      ]
     },
     "metadata": {},
     "output_type": "display_data"
    }
   ],
   "source": [
    "df.klik.value_counts(dropna = False, normalize=True).plot(kind='pie')"
   ]
  },
  {
   "cell_type": "markdown",
   "metadata": {},
   "source": [
    "### Cyfryzuje słownikowo: 'date i godzinę'"
   ]
  },
  {
   "cell_type": "code",
   "execution_count": 6,
   "metadata": {},
   "outputs": [
    {
     "data": {
      "text/plain": [
       "(216,)"
      ]
     },
     "execution_count": 6,
     "metadata": {},
     "output_type": "execute_result"
    }
   ],
   "source": [
    "df['data_godzina'].value_counts().shape"
   ]
  },
  {
   "cell_type": "code",
   "execution_count": 7,
   "metadata": {},
   "outputs": [
    {
     "data": {
      "text/plain": [
       "17030209    44832\n",
       "17030210    43726\n",
       "17030813    43283\n",
       "17030212    40676\n",
       "17030211    38932\n",
       "            ...  \n",
       "17030419     3461\n",
       "17030423     2585\n",
       "17030420     2329\n",
       "17030421     2086\n",
       "17030422     1523\n",
       "Name: data_godzina, Length: 216, dtype: int64"
      ]
     },
     "execution_count": 7,
     "metadata": {},
     "output_type": "execute_result"
    }
   ],
   "source": [
    "df['data_godzina'].value_counts()"
   ]
  },
  {
   "cell_type": "markdown",
   "metadata": {},
   "source": [
    "<span style=\"color:blue\">df['data_godzina'] będzie traktowana jak zmienna dyskretna. To nie jest żadna data i godzina, z której można wyciągnąć dzień tygodnia</span>"
   ]
  },
  {
   "cell_type": "markdown",
   "metadata": {},
   "source": [
    "Cyfryzuje przez mapowanie słownikowe"
   ]
  },
  {
   "cell_type": "code",
   "execution_count": 8,
   "metadata": {},
   "outputs": [
    {
     "data": {
      "text/html": [
       "<div>\n",
       "<style scoped>\n",
       "    .dataframe tbody tr th:only-of-type {\n",
       "        vertical-align: middle;\n",
       "    }\n",
       "\n",
       "    .dataframe tbody tr th {\n",
       "        vertical-align: top;\n",
       "    }\n",
       "\n",
       "    .dataframe thead th {\n",
       "        text-align: right;\n",
       "    }\n",
       "</style>\n",
       "<table border=\"1\" class=\"dataframe\">\n",
       "  <thead>\n",
       "    <tr style=\"text-align: right;\">\n",
       "      <th></th>\n",
       "      <th>data_godzina</th>\n",
       "      <th>C_data_godzina</th>\n",
       "    </tr>\n",
       "  </thead>\n",
       "  <tbody>\n",
       "    <tr>\n",
       "      <td>1175666</td>\n",
       "      <td>17030313</td>\n",
       "      <td>61</td>\n",
       "    </tr>\n",
       "    <tr>\n",
       "      <td>2386401</td>\n",
       "      <td>17030700</td>\n",
       "      <td>144</td>\n",
       "    </tr>\n",
       "  </tbody>\n",
       "</table>\n",
       "</div>"
      ],
      "text/plain": [
       "         data_godzina  C_data_godzina\n",
       "1175666      17030313              61\n",
       "2386401      17030700             144"
      ]
     },
     "execution_count": 8,
     "metadata": {},
     "output_type": "execute_result"
    }
   ],
   "source": [
    "df['C_data_godzina'] = pd.Categorical(df['data_godzina']).codes\n",
    "df[['data_godzina','C_data_godzina']].sample(2)"
   ]
  },
  {
   "cell_type": "code",
   "execution_count": 9,
   "metadata": {},
   "outputs": [
    {
     "name": "stdout",
     "output_type": "stream",
     "text": [
      "{17030100: 0, 17030101: 1, 17030102: 2, 17030103: 3, 17030104: 4, 17030105: 5, 17030106: 6, 17030107: 7, 17030108: 8, 17030109: 9, 17030110: 10, 17030111: 11, 17030112: 12, 17030113: 13, 17030114: 14, 17030115: 15, 17030116: 16, 17030117: 17, 17030118: 18, 17030119: 19, 17030120: 20, 17030121: 21, 17030122: 22, 17030123: 23, 17030200: 24, 17030201: 25, 17030202: 26, 17030203: 27, 17030204: 28, 17030205: 29, 17030206: 30, 17030207: 31, 17030208: 32, 17030209: 33, 17030210: 34, 17030211: 35, 17030212: 36, 17030213: 37, 17030214: 38, 17030215: 39, 17030216: 40, 17030217: 41, 17030218: 42, 17030219: 43, 17030220: 44, 17030221: 45, 17030222: 46, 17030223: 47, 17030300: 48, 17030301: 49, 17030302: 50, 17030303: 51, 17030304: 52, 17030305: 53, 17030306: 54, 17030307: 55, 17030308: 56, 17030309: 57, 17030310: 58, 17030311: 59, 17030312: 60, 17030313: 61, 17030314: 62, 17030315: 63, 17030316: 64, 17030317: 65, 17030318: 66, 17030319: 67, 17030320: 68, 17030321: 69, 17030322: 70, 17030323: 71, 17030400: 72, 17030401: 73, 17030402: 74, 17030403: 75, 17030404: 76, 17030405: 77, 17030406: 78, 17030407: 79, 17030408: 80, 17030409: 81, 17030410: 82, 17030411: 83, 17030412: 84, 17030413: 85, 17030414: 86, 17030415: 87, 17030416: 88, 17030417: 89, 17030418: 90, 17030419: 91, 17030420: 92, 17030421: 93, 17030422: 94, 17030423: 95, 17030500: 96, 17030501: 97, 17030502: 98, 17030503: 99, 17030504: 100, 17030505: 101, 17030506: 102, 17030507: 103, 17030508: 104, 17030509: 105, 17030510: 106, 17030511: 107, 17030512: 108, 17030513: 109, 17030514: 110, 17030515: 111, 17030516: 112, 17030517: 113, 17030518: 114, 17030519: 115, 17030520: 116, 17030521: 117, 17030522: 118, 17030523: 119, 17030600: 120, 17030601: 121, 17030602: 122, 17030603: 123, 17030604: 124, 17030605: 125, 17030606: 126, 17030607: 127, 17030608: 128, 17030609: 129, 17030610: 130, 17030611: 131, 17030612: 132, 17030613: 133, 17030614: 134, 17030615: 135, 17030616: 136, 17030617: 137, 17030618: 138, 17030619: 139, 17030620: 140, 17030621: 141, 17030622: 142, 17030623: 143, 17030700: 144, 17030701: 145, 17030702: 146, 17030703: 147, 17030704: 148, 17030705: 149, 17030706: 150, 17030707: 151, 17030708: 152, 17030709: 153, 17030710: 154, 17030711: 155, 17030712: 156, 17030713: 157, 17030714: 158, 17030715: 159, 17030716: 160, 17030717: 161, 17030718: 162, 17030719: 163, 17030720: 164, 17030721: 165, 17030722: 166, 17030723: 167, 17030800: 168, 17030801: 169, 17030802: 170, 17030803: 171, 17030804: 172, 17030805: 173, 17030806: 174, 17030807: 175, 17030808: 176, 17030809: 177, 17030810: 178, 17030811: 179, 17030812: 180, 17030813: 181, 17030814: 182, 17030815: 183, 17030816: 184, 17030817: 185, 17030818: 186, 17030819: 187, 17030820: 188, 17030821: 189, 17030822: 190, 17030823: 191, 17030900: 192, 17030901: 193, 17030902: 194, 17030903: 195, 17030904: 196, 17030905: 197, 17030906: 198, 17030907: 199, 17030908: 200, 17030909: 201, 17030910: 202, 17030911: 203, 17030912: 204, 17030913: 205, 17030914: 206, 17030915: 207, 17030916: 208, 17030917: 209, 17030918: 210, 17030919: 211, 17030920: 212, 17030921: 213, 17030922: 214, 17030923: 215}\n"
     ]
    },
    {
     "data": {
      "text/html": [
       "<div>\n",
       "<style scoped>\n",
       "    .dataframe tbody tr th:only-of-type {\n",
       "        vertical-align: middle;\n",
       "    }\n",
       "\n",
       "    .dataframe tbody tr th {\n",
       "        vertical-align: top;\n",
       "    }\n",
       "\n",
       "    .dataframe thead th {\n",
       "        text-align: right;\n",
       "    }\n",
       "</style>\n",
       "<table border=\"1\" class=\"dataframe\">\n",
       "  <thead>\n",
       "    <tr style=\"text-align: right;\">\n",
       "      <th></th>\n",
       "      <th>CYF_data_godzina</th>\n",
       "      <th>data_godzina</th>\n",
       "    </tr>\n",
       "  </thead>\n",
       "  <tbody>\n",
       "    <tr>\n",
       "      <td>2177884</td>\n",
       "      <td>131</td>\n",
       "      <td>17030611</td>\n",
       "    </tr>\n",
       "    <tr>\n",
       "      <td>583492</td>\n",
       "      <td>32</td>\n",
       "      <td>17030208</td>\n",
       "    </tr>\n",
       "    <tr>\n",
       "      <td>1136153</td>\n",
       "      <td>58</td>\n",
       "      <td>17030310</td>\n",
       "    </tr>\n",
       "    <tr>\n",
       "      <td>252753</td>\n",
       "      <td>12</td>\n",
       "      <td>17030112</td>\n",
       "    </tr>\n",
       "  </tbody>\n",
       "</table>\n",
       "</div>"
      ],
      "text/plain": [
       "         CYF_data_godzina  data_godzina\n",
       "2177884               131      17030611\n",
       "583492                 32      17030208\n",
       "1136153                58      17030310\n",
       "252753                 12      17030112"
      ]
     },
     "execution_count": 9,
     "metadata": {},
     "output_type": "execute_result"
    }
   ],
   "source": [
    "SL_data_godzina = df.set_index('data_godzina')['C_data_godzina'].to_dict()\n",
    "print(SL_data_godzina)\n",
    "df['CYF_data_godzina'] = df['data_godzina'].map(SL_data_godzina)\n",
    "del df['C_data_godzina']\n",
    "df[['CYF_data_godzina','data_godzina']].sample(4)"
   ]
  },
  {
   "cell_type": "code",
   "execution_count": 10,
   "metadata": {},
   "outputs": [
    {
     "name": "stdout",
     "output_type": "stream",
     "text": [
      "(216,)\n",
      "(216,)\n",
      "{17030100: 0, 17030101: 1, 17030102: 2, 17030103: 3, 17030104: 4, 17030105: 5, 17030106: 6, 17030107: 7, 17030108: 8, 17030109: 9, 17030110: 10, 17030111: 11, 17030112: 12, 17030113: 13, 17030114: 14, 17030115: 15, 17030116: 16, 17030117: 17, 17030118: 18, 17030119: 19, 17030120: 20, 17030121: 21, 17030122: 22, 17030123: 23, 17030200: 24, 17030201: 25, 17030202: 26, 17030203: 27, 17030204: 28, 17030205: 29, 17030206: 30, 17030207: 31, 17030208: 32, 17030209: 33, 17030210: 34, 17030211: 35, 17030212: 36, 17030213: 37, 17030214: 38, 17030215: 39, 17030216: 40, 17030217: 41, 17030218: 42, 17030219: 43, 17030220: 44, 17030221: 45, 17030222: 46, 17030223: 47, 17030300: 48, 17030301: 49, 17030302: 50, 17030303: 51, 17030304: 52, 17030305: 53, 17030306: 54, 17030307: 55, 17030308: 56, 17030309: 57, 17030310: 58, 17030311: 59, 17030312: 60, 17030313: 61, 17030314: 62, 17030315: 63, 17030316: 64, 17030317: 65, 17030318: 66, 17030319: 67, 17030320: 68, 17030321: 69, 17030322: 70, 17030323: 71, 17030400: 72, 17030401: 73, 17030402: 74, 17030403: 75, 17030404: 76, 17030405: 77, 17030406: 78, 17030407: 79, 17030408: 80, 17030409: 81, 17030410: 82, 17030411: 83, 17030412: 84, 17030413: 85, 17030414: 86, 17030415: 87, 17030416: 88, 17030417: 89, 17030418: 90, 17030419: 91, 17030420: 92, 17030421: 93, 17030422: 94, 17030423: 95, 17030500: 96, 17030501: 97, 17030502: 98, 17030503: 99, 17030504: 100, 17030505: 101, 17030506: 102, 17030507: 103, 17030508: 104, 17030509: 105, 17030510: 106, 17030511: 107, 17030512: 108, 17030513: 109, 17030514: 110, 17030515: 111, 17030516: 112, 17030517: 113, 17030518: 114, 17030519: 115, 17030520: 116, 17030521: 117, 17030522: 118, 17030523: 119, 17030600: 120, 17030601: 121, 17030602: 122, 17030603: 123, 17030604: 124, 17030605: 125, 17030606: 126, 17030607: 127, 17030608: 128, 17030609: 129, 17030610: 130, 17030611: 131, 17030612: 132, 17030613: 133, 17030614: 134, 17030615: 135, 17030616: 136, 17030617: 137, 17030618: 138, 17030619: 139, 17030620: 140, 17030621: 141, 17030622: 142, 17030623: 143, 17030700: 144, 17030701: 145, 17030702: 146, 17030703: 147, 17030704: 148, 17030705: 149, 17030706: 150, 17030707: 151, 17030708: 152, 17030709: 153, 17030710: 154, 17030711: 155, 17030712: 156, 17030713: 157, 17030714: 158, 17030715: 159, 17030716: 160, 17030717: 161, 17030718: 162, 17030719: 163, 17030720: 164, 17030721: 165, 17030722: 166, 17030723: 167, 17030800: 168, 17030801: 169, 17030802: 170, 17030803: 171, 17030804: 172, 17030805: 173, 17030806: 174, 17030807: 175, 17030808: 176, 17030809: 177, 17030810: 178, 17030811: 179, 17030812: 180, 17030813: 181, 17030814: 182, 17030815: 183, 17030816: 184, 17030817: 185, 17030818: 186, 17030819: 187, 17030820: 188, 17030821: 189, 17030822: 190, 17030823: 191, 17030900: 192, 17030901: 193, 17030902: 194, 17030903: 195, 17030904: 196, 17030905: 197, 17030906: 198, 17030907: 199, 17030908: 200, 17030909: 201, 17030910: 202, 17030911: 203, 17030912: 204, 17030913: 205, 17030914: 206, 17030915: 207, 17030916: 208, 17030917: 209, 17030918: 210, 17030919: 211, 17030920: 212, 17030921: 213, 17030922: 214, 17030923: 215}\n"
     ]
    }
   ],
   "source": [
    "## Sprawdzenie:\n",
    "print(df['data_godzina'].value_counts().shape)\n",
    "print(df['CYF_data_godzina'].value_counts().shape)\n",
    "print(SL_data_godzina)"
   ]
  },
  {
   "cell_type": "markdown",
   "metadata": {},
   "source": [
    "### Cyfryzuje słownikowo: 'baner_pozycja'\n",
    "NIE TRZEBA CYFRYZOWAĆ"
   ]
  },
  {
   "cell_type": "code",
   "execution_count": 11,
   "metadata": {},
   "outputs": [
    {
     "name": "stdout",
     "output_type": "stream",
     "text": [
      "(7,)\n"
     ]
    }
   ],
   "source": [
    "print(df['baner_pozycja'].value_counts().shape)\n",
    "df['baner_pozycja'].value_counts()\n",
    "df['CYF_baner_pozycja']=df['baner_pozycja']"
   ]
  },
  {
   "cell_type": "code",
   "execution_count": 12,
   "metadata": {},
   "outputs": [
    {
     "data": {
      "text/plain": [
       "id                      int64\n",
       "klik                    int64\n",
       "data_godzina            int64\n",
       "baner_pozycja           int64\n",
       "strona_id              object\n",
       "strona_domena          object\n",
       "strona_kategoria       object\n",
       "aplikacja_id           object\n",
       "aplikacja_domena       object\n",
       "aplikacja_kategoria    object\n",
       "urz_id                 object\n",
       "urz_ip                 object\n",
       "urz_model              object\n",
       "urz_typ                 int64\n",
       "urz_polaczenie          int64\n",
       "kat1                    int64\n",
       "kat2                    int64\n",
       "kat3                    int64\n",
       "kat4                    int64\n",
       "kat5                    int64\n",
       "kat6                    int64\n",
       "kat7                    int64\n",
       "kat8                    int64\n",
       "kat9                    int64\n",
       "CYF_data_godzina        int64\n",
       "CYF_baner_pozycja       int64\n",
       "dtype: object"
      ]
     },
     "execution_count": 12,
     "metadata": {},
     "output_type": "execute_result"
    }
   ],
   "source": [
    "df.dtypes"
   ]
  },
  {
   "cell_type": "markdown",
   "metadata": {},
   "source": [
    "### Cyfryzuje słownikowo:  'strona_id'"
   ]
  },
  {
   "cell_type": "code",
   "execution_count": 13,
   "metadata": {},
   "outputs": [
    {
     "name": "stdout",
     "output_type": "stream",
     "text": [
      "(3369,)\n"
     ]
    },
    {
     "data": {
      "text/plain": [
       "85f751fd    1265256\n",
       "1fbe01fe     590538\n",
       "e151e245     235932\n",
       "d9750ee7      89188\n",
       "5b08c53b      81286\n",
       "             ...   \n",
       "18b71f5f          1\n",
       "069ee5fb          1\n",
       "d83295a5          1\n",
       "cc0bfaac          1\n",
       "b3380c23          1\n",
       "Name: strona_id, Length: 3369, dtype: int64"
      ]
     },
     "execution_count": 13,
     "metadata": {},
     "output_type": "execute_result"
    }
   ],
   "source": [
    "print(df['strona_id'].value_counts().shape)\n",
    "df['strona_id'].value_counts()"
   ]
  },
  {
   "cell_type": "code",
   "execution_count": 14,
   "metadata": {},
   "outputs": [
    {
     "data": {
      "text/html": [
       "<div>\n",
       "<style scoped>\n",
       "    .dataframe tbody tr th:only-of-type {\n",
       "        vertical-align: middle;\n",
       "    }\n",
       "\n",
       "    .dataframe tbody tr th {\n",
       "        vertical-align: top;\n",
       "    }\n",
       "\n",
       "    .dataframe thead th {\n",
       "        text-align: right;\n",
       "    }\n",
       "</style>\n",
       "<table border=\"1\" class=\"dataframe\">\n",
       "  <thead>\n",
       "    <tr style=\"text-align: right;\">\n",
       "      <th></th>\n",
       "      <th>strona_id</th>\n",
       "      <th>C_strona_id</th>\n",
       "    </tr>\n",
       "  </thead>\n",
       "  <tbody>\n",
       "    <tr>\n",
       "      <td>1531260</td>\n",
       "      <td>e151e245</td>\n",
       "      <td>2948</td>\n",
       "    </tr>\n",
       "    <tr>\n",
       "      <td>2076813</td>\n",
       "      <td>93eaba74</td>\n",
       "      <td>1950</td>\n",
       "    </tr>\n",
       "  </tbody>\n",
       "</table>\n",
       "</div>"
      ],
      "text/plain": [
       "        strona_id  C_strona_id\n",
       "1531260  e151e245         2948\n",
       "2076813  93eaba74         1950"
      ]
     },
     "execution_count": 14,
     "metadata": {},
     "output_type": "execute_result"
    }
   ],
   "source": [
    "## Cyfryzuje przez mapowanie słownikowe:\n",
    "df['C_strona_id'] = pd.Categorical(df['strona_id']).codes\n",
    "df[['strona_id','C_strona_id']].sample(2)"
   ]
  },
  {
   "cell_type": "code",
   "execution_count": 15,
   "metadata": {},
   "outputs": [
    {
     "data": {
      "text/html": [
       "<div>\n",
       "<style scoped>\n",
       "    .dataframe tbody tr th:only-of-type {\n",
       "        vertical-align: middle;\n",
       "    }\n",
       "\n",
       "    .dataframe tbody tr th {\n",
       "        vertical-align: top;\n",
       "    }\n",
       "\n",
       "    .dataframe thead th {\n",
       "        text-align: right;\n",
       "    }\n",
       "</style>\n",
       "<table border=\"1\" class=\"dataframe\">\n",
       "  <thead>\n",
       "    <tr style=\"text-align: right;\">\n",
       "      <th></th>\n",
       "      <th>CYF_strona_id</th>\n",
       "      <th>strona_id</th>\n",
       "    </tr>\n",
       "  </thead>\n",
       "  <tbody>\n",
       "    <tr>\n",
       "      <td>2022157</td>\n",
       "      <td>406</td>\n",
       "      <td>1fbe01fe</td>\n",
       "    </tr>\n",
       "    <tr>\n",
       "      <td>810580</td>\n",
       "      <td>1773</td>\n",
       "      <td>85f751fd</td>\n",
       "    </tr>\n",
       "    <tr>\n",
       "      <td>230020</td>\n",
       "      <td>406</td>\n",
       "      <td>1fbe01fe</td>\n",
       "    </tr>\n",
       "    <tr>\n",
       "      <td>2197809</td>\n",
       "      <td>2842</td>\n",
       "      <td>d8bb8687</td>\n",
       "    </tr>\n",
       "  </tbody>\n",
       "</table>\n",
       "</div>"
      ],
      "text/plain": [
       "         CYF_strona_id strona_id\n",
       "2022157            406  1fbe01fe\n",
       "810580            1773  85f751fd\n",
       "230020             406  1fbe01fe\n",
       "2197809           2842  d8bb8687"
      ]
     },
     "execution_count": 15,
     "metadata": {},
     "output_type": "execute_result"
    }
   ],
   "source": [
    "SL_strona_id = df.set_index('strona_id')['C_strona_id'].to_dict()\n",
    "#print(SL_strona_id)\n",
    "df['CYF_strona_id'] = df['strona_id'].map(SL_strona_id)\n",
    "del df['C_strona_id']\n",
    "df[['CYF_strona_id','strona_id']].sample(4)"
   ]
  },
  {
   "cell_type": "code",
   "execution_count": 16,
   "metadata": {},
   "outputs": [
    {
     "name": "stdout",
     "output_type": "stream",
     "text": [
      "(3369,)\n",
      "(3369,)\n"
     ]
    }
   ],
   "source": [
    "## Sprawdzenie:\n",
    "print(df['strona_id'].value_counts().shape)\n",
    "print(df['CYF_strona_id'].value_counts().shape)\n",
    "#print(SL_strona_id)"
   ]
  },
  {
   "cell_type": "markdown",
   "metadata": {},
   "source": [
    "### <span style=\"color:blue\">Cyfryzuje słownikowo: 'strona_domena'</span>"
   ]
  },
  {
   "cell_type": "code",
   "execution_count": 17,
   "metadata": {},
   "outputs": [
    {
     "name": "stdout",
     "output_type": "stream",
     "text": [
      "(4152,)\n"
     ]
    },
    {
     "data": {
      "text/plain": [
       "c4e18dd6    1313523\n",
       "f3845767     590538\n",
       "7e091613     302658\n",
       "7687a86e     115167\n",
       "98572c79      92469\n",
       "             ...   \n",
       "3c282374          1\n",
       "8f1332e2          1\n",
       "08e2e023          1\n",
       "39ceb77c          1\n",
       "a931128b          1\n",
       "Name: strona_domena, Length: 4152, dtype: int64"
      ]
     },
     "execution_count": 17,
     "metadata": {},
     "output_type": "execute_result"
    }
   ],
   "source": [
    "print(df['strona_domena'].value_counts().shape)\n",
    "df['strona_domena'].value_counts()"
   ]
  },
  {
   "cell_type": "code",
   "execution_count": 18,
   "metadata": {},
   "outputs": [
    {
     "data": {
      "text/html": [
       "<div>\n",
       "<style scoped>\n",
       "    .dataframe tbody tr th:only-of-type {\n",
       "        vertical-align: middle;\n",
       "    }\n",
       "\n",
       "    .dataframe tbody tr th {\n",
       "        vertical-align: top;\n",
       "    }\n",
       "\n",
       "    .dataframe thead th {\n",
       "        text-align: right;\n",
       "    }\n",
       "</style>\n",
       "<table border=\"1\" class=\"dataframe\">\n",
       "  <thead>\n",
       "    <tr style=\"text-align: right;\">\n",
       "      <th></th>\n",
       "      <th>strona_domena</th>\n",
       "      <th>C_strona_domena</th>\n",
       "    </tr>\n",
       "  </thead>\n",
       "  <tbody>\n",
       "    <tr>\n",
       "      <td>2429178</td>\n",
       "      <td>510bd839</td>\n",
       "      <td>1309</td>\n",
       "    </tr>\n",
       "    <tr>\n",
       "      <td>2788623</td>\n",
       "      <td>c7c13454</td>\n",
       "      <td>3251</td>\n",
       "    </tr>\n",
       "  </tbody>\n",
       "</table>\n",
       "</div>"
      ],
      "text/plain": [
       "        strona_domena  C_strona_domena\n",
       "2429178      510bd839             1309\n",
       "2788623      c7c13454             3251"
      ]
     },
     "execution_count": 18,
     "metadata": {},
     "output_type": "execute_result"
    }
   ],
   "source": [
    "## Cyfryzuje przez mapowanie słownikowe:\n",
    "df['C_strona_domena'] = pd.Categorical(df['strona_domena']).codes\n",
    "df[['strona_domena','C_strona_domena']].sample(2)"
   ]
  },
  {
   "cell_type": "code",
   "execution_count": 19,
   "metadata": {},
   "outputs": [
    {
     "data": {
      "text/html": [
       "<div>\n",
       "<style scoped>\n",
       "    .dataframe tbody tr th:only-of-type {\n",
       "        vertical-align: middle;\n",
       "    }\n",
       "\n",
       "    .dataframe tbody tr th {\n",
       "        vertical-align: top;\n",
       "    }\n",
       "\n",
       "    .dataframe thead th {\n",
       "        text-align: right;\n",
       "    }\n",
       "</style>\n",
       "<table border=\"1\" class=\"dataframe\">\n",
       "  <thead>\n",
       "    <tr style=\"text-align: right;\">\n",
       "      <th></th>\n",
       "      <th>CYF_strona_domena</th>\n",
       "      <th>strona_domena</th>\n",
       "    </tr>\n",
       "  </thead>\n",
       "  <tbody>\n",
       "    <tr>\n",
       "      <td>2266133</td>\n",
       "      <td>3944</td>\n",
       "      <td>f3845767</td>\n",
       "    </tr>\n",
       "    <tr>\n",
       "      <td>3133365</td>\n",
       "      <td>3944</td>\n",
       "      <td>f3845767</td>\n",
       "    </tr>\n",
       "    <tr>\n",
       "      <td>2372100</td>\n",
       "      <td>3205</td>\n",
       "      <td>c4e18dd6</td>\n",
       "    </tr>\n",
       "    <tr>\n",
       "      <td>148178</td>\n",
       "      <td>3205</td>\n",
       "      <td>c4e18dd6</td>\n",
       "    </tr>\n",
       "  </tbody>\n",
       "</table>\n",
       "</div>"
      ],
      "text/plain": [
       "         CYF_strona_domena strona_domena\n",
       "2266133               3944      f3845767\n",
       "3133365               3944      f3845767\n",
       "2372100               3205      c4e18dd6\n",
       "148178                3205      c4e18dd6"
      ]
     },
     "execution_count": 19,
     "metadata": {},
     "output_type": "execute_result"
    }
   ],
   "source": [
    "SL_strona_domena = df.set_index('strona_domena')['C_strona_domena'].to_dict()\n",
    "#print(SL_strona_domena)\n",
    "df['CYF_strona_domena'] = df['strona_domena'].map(SL_strona_domena)\n",
    "del df['C_strona_domena']\n",
    "df[['CYF_strona_domena','strona_domena']].sample(4)"
   ]
  },
  {
   "cell_type": "code",
   "execution_count": 20,
   "metadata": {},
   "outputs": [
    {
     "name": "stdout",
     "output_type": "stream",
     "text": [
      "(4152,)\n",
      "(4152,)\n"
     ]
    }
   ],
   "source": [
    "## Sprawdzenie:\n",
    "print(df['strona_domena'].value_counts().shape)\n",
    "print(df['CYF_strona_domena'].value_counts().shape)\n",
    "#print(SL_strona_domena)"
   ]
  },
  {
   "cell_type": "markdown",
   "metadata": {},
   "source": [
    "### <span style=\"color:blue\">Cyfryzuje słownikowo: 'strona_kategoria'</span>"
   ]
  },
  {
   "cell_type": "code",
   "execution_count": 21,
   "metadata": {},
   "outputs": [
    {
     "name": "stdout",
     "output_type": "stream",
     "text": [
      "(24,)\n"
     ]
    },
    {
     "data": {
      "text/plain": [
       "50e219e0    1441996\n",
       "f028772b    1154376\n",
       "28905ebd     673539\n",
       "3e814130     275787\n",
       "f66779e6      23845\n",
       "75fa27f6      15398\n",
       "335d28a8      12183\n",
       "76b2941d      10087\n",
       "c0dd3be3       3729\n",
       "72722551       2365\n",
       "dedf689d       2209\n",
       "0569f928       1649\n",
       "70fb0e29       1379\n",
       "a818d37a        293\n",
       "8fd0aea4        241\n",
       "42a36e14        239\n",
       "e787de0e        124\n",
       "bcf865d9        109\n",
       "5378d028         47\n",
       "9ccfa2ea         19\n",
       "74073276          4\n",
       "110ab22d          1\n",
       "c706e647          1\n",
       "a72a0145          1\n",
       "Name: strona_kategoria, dtype: int64"
      ]
     },
     "execution_count": 21,
     "metadata": {},
     "output_type": "execute_result"
    }
   ],
   "source": [
    "print(df['strona_kategoria'].value_counts().shape)\n",
    "df['strona_kategoria'].value_counts()"
   ]
  },
  {
   "cell_type": "code",
   "execution_count": 22,
   "metadata": {},
   "outputs": [
    {
     "data": {
      "text/html": [
       "<div>\n",
       "<style scoped>\n",
       "    .dataframe tbody tr th:only-of-type {\n",
       "        vertical-align: middle;\n",
       "    }\n",
       "\n",
       "    .dataframe tbody tr th {\n",
       "        vertical-align: top;\n",
       "    }\n",
       "\n",
       "    .dataframe thead th {\n",
       "        text-align: right;\n",
       "    }\n",
       "</style>\n",
       "<table border=\"1\" class=\"dataframe\">\n",
       "  <thead>\n",
       "    <tr style=\"text-align: right;\">\n",
       "      <th></th>\n",
       "      <th>strona_kategoria</th>\n",
       "      <th>C_strona_kategoria</th>\n",
       "    </tr>\n",
       "  </thead>\n",
       "  <tbody>\n",
       "    <tr>\n",
       "      <td>1591114</td>\n",
       "      <td>28905ebd</td>\n",
       "      <td>2</td>\n",
       "    </tr>\n",
       "    <tr>\n",
       "      <td>2385215</td>\n",
       "      <td>50e219e0</td>\n",
       "      <td>6</td>\n",
       "    </tr>\n",
       "  </tbody>\n",
       "</table>\n",
       "</div>"
      ],
      "text/plain": [
       "        strona_kategoria  C_strona_kategoria\n",
       "1591114         28905ebd                   2\n",
       "2385215         50e219e0                   6"
      ]
     },
     "execution_count": 22,
     "metadata": {},
     "output_type": "execute_result"
    }
   ],
   "source": [
    "## Cyfryzuje przez mapowanie słownikowe:\n",
    "df['C_strona_kategoria'] = pd.Categorical(df['strona_kategoria']).codes\n",
    "df[['strona_kategoria','C_strona_kategoria']].sample(2)"
   ]
  },
  {
   "cell_type": "code",
   "execution_count": 23,
   "metadata": {},
   "outputs": [
    {
     "name": "stdout",
     "output_type": "stream",
     "text": [
      "{'50e219e0': 6, '28905ebd': 2, '3e814130': 4, 'f028772b': 22, '72722551': 9, '76b2941d': 12, 'f66779e6': 23, '335d28a8': 3, '0569f928': 0, '75fa27f6': 11, 'c0dd3be3': 18, 'a818d37a': 16, '42a36e14': 5, '70fb0e29': 8, 'bcf865d9': 17, '8fd0aea4': 13, '5378d028': 7, 'e787de0e': 21, 'dedf689d': 20, '74073276': 10, '9ccfa2ea': 14, '110ab22d': 1, 'c706e647': 19, 'a72a0145': 15}\n"
     ]
    },
    {
     "data": {
      "text/html": [
       "<div>\n",
       "<style scoped>\n",
       "    .dataframe tbody tr th:only-of-type {\n",
       "        vertical-align: middle;\n",
       "    }\n",
       "\n",
       "    .dataframe tbody tr th {\n",
       "        vertical-align: top;\n",
       "    }\n",
       "\n",
       "    .dataframe thead th {\n",
       "        text-align: right;\n",
       "    }\n",
       "</style>\n",
       "<table border=\"1\" class=\"dataframe\">\n",
       "  <thead>\n",
       "    <tr style=\"text-align: right;\">\n",
       "      <th></th>\n",
       "      <th>CYF_strona_kategoria</th>\n",
       "      <th>strona_kategoria</th>\n",
       "    </tr>\n",
       "  </thead>\n",
       "  <tbody>\n",
       "    <tr>\n",
       "      <td>653142</td>\n",
       "      <td>22</td>\n",
       "      <td>f028772b</td>\n",
       "    </tr>\n",
       "    <tr>\n",
       "      <td>297379</td>\n",
       "      <td>2</td>\n",
       "      <td>28905ebd</td>\n",
       "    </tr>\n",
       "    <tr>\n",
       "      <td>90048</td>\n",
       "      <td>22</td>\n",
       "      <td>f028772b</td>\n",
       "    </tr>\n",
       "    <tr>\n",
       "      <td>2786383</td>\n",
       "      <td>2</td>\n",
       "      <td>28905ebd</td>\n",
       "    </tr>\n",
       "  </tbody>\n",
       "</table>\n",
       "</div>"
      ],
      "text/plain": [
       "         CYF_strona_kategoria strona_kategoria\n",
       "653142                     22         f028772b\n",
       "297379                      2         28905ebd\n",
       "90048                      22         f028772b\n",
       "2786383                     2         28905ebd"
      ]
     },
     "execution_count": 23,
     "metadata": {},
     "output_type": "execute_result"
    }
   ],
   "source": [
    "SL_strona_kategoria = df.set_index('strona_kategoria')['C_strona_kategoria'].to_dict()\n",
    "print(SL_strona_kategoria)\n",
    "df['CYF_strona_kategoria'] = df['strona_kategoria'].map(SL_strona_kategoria)\n",
    "del df['C_strona_kategoria']\n",
    "df[['CYF_strona_kategoria','strona_kategoria']].sample(4)"
   ]
  },
  {
   "cell_type": "code",
   "execution_count": 24,
   "metadata": {},
   "outputs": [
    {
     "name": "stdout",
     "output_type": "stream",
     "text": [
      "(24,)\n",
      "(24,)\n",
      "{'50e219e0': 6, '28905ebd': 2, '3e814130': 4, 'f028772b': 22, '72722551': 9, '76b2941d': 12, 'f66779e6': 23, '335d28a8': 3, '0569f928': 0, '75fa27f6': 11, 'c0dd3be3': 18, 'a818d37a': 16, '42a36e14': 5, '70fb0e29': 8, 'bcf865d9': 17, '8fd0aea4': 13, '5378d028': 7, 'e787de0e': 21, 'dedf689d': 20, '74073276': 10, '9ccfa2ea': 14, '110ab22d': 1, 'c706e647': 19, 'a72a0145': 15}\n"
     ]
    }
   ],
   "source": [
    "## Sprawdzenie:\n",
    "print(df['strona_kategoria'].value_counts().shape)\n",
    "print(df['CYF_strona_kategoria'].value_counts().shape)\n",
    "print(SL_strona_kategoria)"
   ]
  },
  {
   "cell_type": "markdown",
   "metadata": {},
   "source": [
    "### <span style=\"color:blue\">Cyfryzuje słownikowo: 'aplikacja_id'</span>"
   ]
  },
  {
   "cell_type": "code",
   "execution_count": 25,
   "metadata": {},
   "outputs": [
    {
     "name": "stdout",
     "output_type": "stream",
     "text": [
      "(4742,)\n"
     ]
    },
    {
     "data": {
      "text/plain": [
       "ecad2386    2354365\n",
       "92f5800b     155253\n",
       "e2fcccd2      99800\n",
       "febd1138      67475\n",
       "7358e05e      57961\n",
       "             ...   \n",
       "67d019eb          1\n",
       "513e0a8f          1\n",
       "9a75a56d          1\n",
       "517c762d          1\n",
       "6ec849f9          1\n",
       "Name: aplikacja_id, Length: 4742, dtype: int64"
      ]
     },
     "execution_count": 25,
     "metadata": {},
     "output_type": "execute_result"
    }
   ],
   "source": [
    "print(df[ 'aplikacja_id'].value_counts().shape)\n",
    "df[ 'aplikacja_id'].value_counts()"
   ]
  },
  {
   "cell_type": "code",
   "execution_count": 26,
   "metadata": {},
   "outputs": [
    {
     "data": {
      "text/html": [
       "<div>\n",
       "<style scoped>\n",
       "    .dataframe tbody tr th:only-of-type {\n",
       "        vertical-align: middle;\n",
       "    }\n",
       "\n",
       "    .dataframe tbody tr th {\n",
       "        vertical-align: top;\n",
       "    }\n",
       "\n",
       "    .dataframe thead th {\n",
       "        text-align: right;\n",
       "    }\n",
       "</style>\n",
       "<table border=\"1\" class=\"dataframe\">\n",
       "  <thead>\n",
       "    <tr style=\"text-align: right;\">\n",
       "      <th></th>\n",
       "      <th>aplikacja_id</th>\n",
       "      <th>C_aplikacja_id</th>\n",
       "    </tr>\n",
       "  </thead>\n",
       "  <tbody>\n",
       "    <tr>\n",
       "      <td>252334</td>\n",
       "      <td>ecad2386</td>\n",
       "      <td>4353</td>\n",
       "    </tr>\n",
       "    <tr>\n",
       "      <td>2845513</td>\n",
       "      <td>92f5800b</td>\n",
       "      <td>2707</td>\n",
       "    </tr>\n",
       "  </tbody>\n",
       "</table>\n",
       "</div>"
      ],
      "text/plain": [
       "        aplikacja_id  C_aplikacja_id\n",
       "252334      ecad2386            4353\n",
       "2845513     92f5800b            2707"
      ]
     },
     "execution_count": 26,
     "metadata": {},
     "output_type": "execute_result"
    }
   ],
   "source": [
    "## Cyfryzuje przez mapowanie słownikowe:\n",
    "df['C_aplikacja_id'] = pd.Categorical(df['aplikacja_id']).codes\n",
    "df[['aplikacja_id','C_aplikacja_id']].sample(2)"
   ]
  },
  {
   "cell_type": "code",
   "execution_count": 27,
   "metadata": {},
   "outputs": [
    {
     "data": {
      "text/html": [
       "<div>\n",
       "<style scoped>\n",
       "    .dataframe tbody tr th:only-of-type {\n",
       "        vertical-align: middle;\n",
       "    }\n",
       "\n",
       "    .dataframe tbody tr th {\n",
       "        vertical-align: top;\n",
       "    }\n",
       "\n",
       "    .dataframe thead th {\n",
       "        text-align: right;\n",
       "    }\n",
       "</style>\n",
       "<table border=\"1\" class=\"dataframe\">\n",
       "  <thead>\n",
       "    <tr style=\"text-align: right;\">\n",
       "      <th></th>\n",
       "      <th>CYF_aplikacja_id</th>\n",
       "      <th>aplikacja_id</th>\n",
       "    </tr>\n",
       "  </thead>\n",
       "  <tbody>\n",
       "    <tr>\n",
       "      <td>1380152</td>\n",
       "      <td>4353</td>\n",
       "      <td>ecad2386</td>\n",
       "    </tr>\n",
       "    <tr>\n",
       "      <td>3249880</td>\n",
       "      <td>4353</td>\n",
       "      <td>ecad2386</td>\n",
       "    </tr>\n",
       "    <tr>\n",
       "      <td>2214513</td>\n",
       "      <td>4353</td>\n",
       "      <td>ecad2386</td>\n",
       "    </tr>\n",
       "    <tr>\n",
       "      <td>941023</td>\n",
       "      <td>4353</td>\n",
       "      <td>ecad2386</td>\n",
       "    </tr>\n",
       "  </tbody>\n",
       "</table>\n",
       "</div>"
      ],
      "text/plain": [
       "         CYF_aplikacja_id aplikacja_id\n",
       "1380152              4353     ecad2386\n",
       "3249880              4353     ecad2386\n",
       "2214513              4353     ecad2386\n",
       "941023               4353     ecad2386"
      ]
     },
     "execution_count": 27,
     "metadata": {},
     "output_type": "execute_result"
    }
   ],
   "source": [
    "SL_aplikacja_id = df.set_index('aplikacja_id')['C_aplikacja_id'].to_dict()\n",
    "#print(SL_aplikacja_id)\n",
    "df['CYF_aplikacja_id'] = df['aplikacja_id'].map(SL_aplikacja_id)\n",
    "del df['C_aplikacja_id']\n",
    "df[['CYF_aplikacja_id','aplikacja_id']].sample(4)"
   ]
  },
  {
   "cell_type": "code",
   "execution_count": 28,
   "metadata": {},
   "outputs": [
    {
     "name": "stdout",
     "output_type": "stream",
     "text": [
      "(4742,)\n",
      "(4742,)\n"
     ]
    }
   ],
   "source": [
    "## Sprawdzenie:\n",
    "print(df['aplikacja_id'].value_counts().shape)\n",
    "print(df['CYF_aplikacja_id'].value_counts().shape)\n",
    "#print(SL_aplikacja_id)"
   ]
  },
  {
   "cell_type": "markdown",
   "metadata": {},
   "source": [
    "### <span style=\"color:blue\"> Cyfryzuje słownikowo: 'aplikacja_domena'</span>"
   ]
  },
  {
   "cell_type": "code",
   "execution_count": 29,
   "metadata": {},
   "outputs": [
    {
     "name": "stdout",
     "output_type": "stream",
     "text": [
      "(284,)\n"
     ]
    },
    {
     "data": {
      "text/plain": [
       "7801e8d9    2487435\n",
       "2347f47a     421105\n",
       "ae637522     185370\n",
       "5c5a694b      99812\n",
       "82e27996      67479\n",
       "             ...   \n",
       "c9373861          1\n",
       "d3934b52          1\n",
       "f7eba725          1\n",
       "800100e0          1\n",
       "fceed35e          1\n",
       "Name: aplikacja_domena, Length: 284, dtype: int64"
      ]
     },
     "execution_count": 29,
     "metadata": {},
     "output_type": "execute_result"
    }
   ],
   "source": [
    "print(df['aplikacja_domena'].value_counts().shape)\n",
    "df['aplikacja_domena'].value_counts()"
   ]
  },
  {
   "cell_type": "code",
   "execution_count": 30,
   "metadata": {},
   "outputs": [
    {
     "data": {
      "text/html": [
       "<div>\n",
       "<style scoped>\n",
       "    .dataframe tbody tr th:only-of-type {\n",
       "        vertical-align: middle;\n",
       "    }\n",
       "\n",
       "    .dataframe tbody tr th {\n",
       "        vertical-align: top;\n",
       "    }\n",
       "\n",
       "    .dataframe thead th {\n",
       "        text-align: right;\n",
       "    }\n",
       "</style>\n",
       "<table border=\"1\" class=\"dataframe\">\n",
       "  <thead>\n",
       "    <tr style=\"text-align: right;\">\n",
       "      <th></th>\n",
       "      <th>aplikacja_domena</th>\n",
       "      <th>C_aplikacja_domena</th>\n",
       "    </tr>\n",
       "  </thead>\n",
       "  <tbody>\n",
       "    <tr>\n",
       "      <td>1940628</td>\n",
       "      <td>7801e8d9</td>\n",
       "      <td>123</td>\n",
       "    </tr>\n",
       "    <tr>\n",
       "      <td>2026138</td>\n",
       "      <td>ae637522</td>\n",
       "      <td>177</td>\n",
       "    </tr>\n",
       "  </tbody>\n",
       "</table>\n",
       "</div>"
      ],
      "text/plain": [
       "        aplikacja_domena  C_aplikacja_domena\n",
       "1940628         7801e8d9                 123\n",
       "2026138         ae637522                 177"
      ]
     },
     "execution_count": 30,
     "metadata": {},
     "output_type": "execute_result"
    }
   ],
   "source": [
    "## Cyfryzuje przez mapowanie słownikowe:\n",
    "df['C_aplikacja_domena'] = pd.Categorical(df['aplikacja_domena']).codes\n",
    "df[['aplikacja_domena','C_aplikacja_domena']].sample(2)"
   ]
  },
  {
   "cell_type": "code",
   "execution_count": 31,
   "metadata": {},
   "outputs": [
    {
     "name": "stdout",
     "output_type": "stream",
     "text": [
      "{'82e27996': 134, '7801e8d9': 123, '2347f47a': 36, '828da833': 133, '45a51db4': 66, '33da2e74': 51, 'd9b5648e': 234, 'df32afa9': 243, 'aefc06bd': 179, '813f3323': 132, '885c7f3f': 139, '5c5a694b': 95, 'ae637522': 177, '0654b444': 2, '5b9c592b': 93, 'b8d325c3': 196, 'f2f777fb': 264, 'c6824def': 214, '5c620f04': 96, '3feeed1e': 59, '56eabb45': 84, 'ad63ec9b': 174, 'b9528b13': 199, 'b5f3b24a': 191, 'b2816726': 183, '6f7ca2ba': 116, 'e787a6bc': 253, '15ec7f39': 14, 'f3ad7798': 266, '5ac0b939': 88, '43cf4f06': 62, '2b627705': 46, 'e5d5313f': 252, 'a271c340': 165, '18eb4e75': 18, '15c23f8e': 13, '47464e95': 67, '8d87821d': 143, 'db829551': 238, '9ecca2dd': 163, '700adbf0': 117, '0e8616ad': 8, '9acfe436': 157, 'fd68cbd8': 280, '88293ffa': 138, 'b408d42a': 187, '999f1fac': 155, '7bbb38df': 127, '1ed56ded': 30, 'b6c7e8e1': 192, '0eb1a401': 9, '0d79ee56': 7, 'fd5f0ee2': 279, 'd6feb1a4': 229, 'b51aefa8': 190, '27ee373d': 43, 'cb36afb8': 220, '9ec164d3': 162, 'b12ff13e': 182, 'ef1fc174': 262, '2619a4f7': 40, '3ca588d4': 55, '756ffb85': 121, '2c1c31c6': 47, '298309ba': 44, '64ae80a5': 106, '4fafd4c4': 73, 'd18c63a1': 225, '48aec236': 69, 'afdf1f54': 180, 'e25eea83': 248, 'da1be86e': 236, 'b7af3e0a': 193, 'd9e67b62': 235, 'fceed35e': 276, 'c72257c6': 215, '713c0c91': 118, '99b4c806': 156, '1cb641ec': 24, '63f57be0': 103, 'b88e8096': 195, '6bfb9168': 114, '97efe5c6': 153, '5211766b': 78, '063914ab': 1, 'fc41b20c': 275, 'b50610ee': 189, '7a94af76': 125, '90322ef6': 144, '519a450d': 76, '7a9371fa': 124, 'b299335a': 184, 'b9215c20': 198, '17578ec3': 15, '57cf0548': 85, 'bcef5708': 205, '2022d54e': 32, 'f7f22564': 272, '29cd071c': 45, 'bf2623ab': 209, '6aafed40': 112, 'cda96d46': 222, '1d5e09f4': 26, '86aa8fec': 137, 'dec87c2e': 242, '65b2af4c': 109, 'a5204413': 166, 'fd0f197b': 277, '1c666936': 21, '47db8711': 68, '7d58e760': 129, 'b0920d40': 181, 'bd8c1fdc': 206, 'edc7d7a7': 259, '5b3f66ff': 91, 'c36365e3': 212, '201ad671': 31, 'a5f9dc5b': 167, '448ca2e3': 64, 'ed7f6170': 258, '6b062297': 113, '90706f5d': 145, '438468ad': 61, 'ce2ca36f': 223, '7b833eb9': 126, '734d52b9': 119, 'e9d5949e': 255, 'e24414c4': 246, '51174fb1': 75, '9d65dcb9': 159, 'b97def0d': 200, 'f5a7c834': 269, '73fc6786': 120, '90d75517': 146, '6a0a3a9d': 110, '3df323d8': 57, 'cb96370c': 221, 'f09de4dc': 263, '26378630': 41, 'd3c75c8f': 227, '9e96e8cf': 161, '214e1541': 35, '1c895c8c': 23, '5daf29b2': 102, 'c0940197': 210, 'bb6bcbae': 204, '9830a8fb': 154, '772df91c': 122, '1ea19ec4': 29, 'e5d008b4': 251, '64845f22': 105, '256a5990': 39, 'ca7441a4': 219, '1cbecd39': 25, '1b74784d': 20, '3c992420': 54, 'a09b1cc0': 164, 'aa396318': 173, 'ba275770': 201, '1ddc989f': 28, '5bcedd7d': 94, 'c87b28e6': 216, '9cc1123d': 158, '916026d9': 147, 'a981375c': 172, '084f6382': 4, 'ae36b8ab': 176, 'c5c485e8': 213, '002e4064': 0, 'adacd5cc': 175, '800100e0': 131, 'be452468': 208, '06a7ad59': 3, '95f77e10': 151, '9e4f24c2': 160, 'ead20d3d': 257, 'dcdba109': 241, '23e2c80e': 37, '179fcd69': 16, 'aee494fb': 178, '8bb7dba9': 142, 'bb2a164d': 203, '44324ff4': 63, '5ad474ea': 89, '863f4950': 136, 'f84a2400': 273, 'b398ab59': 185, '449e219f': 65, 'da45f10e': 237, 'b8f3e522': 197, '6a90b0cb': 111, '09abdb18': 5, '6f406d5b': 115, 'a8b0bf20': 171, '1c73b8ac': 22, '547624e0': 80, '36fb59d6': 52, 'ee7d2e2b': 261, 'f435cae0': 267, '3fa331b0': 58, '89896125': 140, '20ab8b07': 34, 'eaaf6d12': 256, 'bdde4c9b': 207, '323f3fe5': 50, '1438d51f': 12, '12aaf71f': 11, '92895b94': 148, '5048f612': 74, '8ab0d4f4': 141, 'd98095bb': 233, 'e25ea824': 247, '59e465f4': 87, 'f75ccedd': 270, '0b7d3d7d': 6, '5af432e2': 90, 'fd53c2dc': 278, '18e5bfbf': 17, 'f48b6635': 268, 'b3c288b7': 186, 'd8073046': 231, '42ed489e': 60, '6437e20c': 104, '5ced45bd': 98, '5da9e6db': 101, '8441d3ab': 135, '19b11785': 19, '2d332391': 48, '5576cc84': 82, '589f98f6': 86, 'f34077eb': 265, '7eec2ab0': 130, '4e0bb613': 70, '1dc9b529': 27, '51d3e97f': 77, 'e0881fef': 245, '531c5e42': 79, 'd902c9ef': 232, 'a7c33f94': 169, '3cf50bc0': 56, '7cf770da': 128, 'e29fc2b7': 249, 'fdbdd2a9': 281, 'd3934b52': 226, '93f9275a': 149, '4ed652f4': 71, 'c343527e': 211, '5ce5b882': 97, 'f91396ac': 274, '26894d3c': 42, '655e300a': 107, 'c91a8f07': 217, '24f896e0': 38, 'e9616877': 254, 'ee50c840': 260, 'cf9adca5': 224, 'dbf5ab77': 239, 'a841febe': 170, 'f7eba725': 271, 'd3e7c965': 228, '5d4da5b0': 100, 'a7accd5b': 168, 'dcb74110': 240, '9492ae41': 150, '55240cf0': 81, '2ef29720': 49, 'c9373861': 218, '55888256': 83, 'b43ef300': 188, '5b46af43': 92, 'fe369646': 282, '5d1e6171': 99, '203a4d02': 33, 'bb27eb10': 202, 'b7bbc1c1': 194, '6598724a': 108, '97d745c9': 152, 'e4a3128e': 250, 'df741103': 244, 'fea0d84a': 283, '11f791ec': 10, '4f983e50': 72, '391ef1c3': 53, 'd767dc6b': 230}\n"
     ]
    },
    {
     "data": {
      "text/html": [
       "<div>\n",
       "<style scoped>\n",
       "    .dataframe tbody tr th:only-of-type {\n",
       "        vertical-align: middle;\n",
       "    }\n",
       "\n",
       "    .dataframe tbody tr th {\n",
       "        vertical-align: top;\n",
       "    }\n",
       "\n",
       "    .dataframe thead th {\n",
       "        text-align: right;\n",
       "    }\n",
       "</style>\n",
       "<table border=\"1\" class=\"dataframe\">\n",
       "  <thead>\n",
       "    <tr style=\"text-align: right;\">\n",
       "      <th></th>\n",
       "      <th>CYF_aplikacja_domena</th>\n",
       "      <th>aplikacja_domena</th>\n",
       "    </tr>\n",
       "  </thead>\n",
       "  <tbody>\n",
       "    <tr>\n",
       "      <td>1751785</td>\n",
       "      <td>123</td>\n",
       "      <td>7801e8d9</td>\n",
       "    </tr>\n",
       "    <tr>\n",
       "      <td>3031177</td>\n",
       "      <td>123</td>\n",
       "      <td>7801e8d9</td>\n",
       "    </tr>\n",
       "    <tr>\n",
       "      <td>156169</td>\n",
       "      <td>123</td>\n",
       "      <td>7801e8d9</td>\n",
       "    </tr>\n",
       "    <tr>\n",
       "      <td>1498697</td>\n",
       "      <td>234</td>\n",
       "      <td>d9b5648e</td>\n",
       "    </tr>\n",
       "  </tbody>\n",
       "</table>\n",
       "</div>"
      ],
      "text/plain": [
       "         CYF_aplikacja_domena aplikacja_domena\n",
       "1751785                   123         7801e8d9\n",
       "3031177                   123         7801e8d9\n",
       "156169                    123         7801e8d9\n",
       "1498697                   234         d9b5648e"
      ]
     },
     "execution_count": 31,
     "metadata": {},
     "output_type": "execute_result"
    }
   ],
   "source": [
    "SL_aplikacja_domena = df.set_index('aplikacja_domena')['C_aplikacja_domena'].to_dict()\n",
    "print(SL_aplikacja_domena)\n",
    "df['CYF_aplikacja_domena'] = df['aplikacja_domena'].map(SL_aplikacja_domena)\n",
    "del df['C_aplikacja_domena']\n",
    "df[['CYF_aplikacja_domena','aplikacja_domena']].sample(4)"
   ]
  },
  {
   "cell_type": "code",
   "execution_count": 32,
   "metadata": {},
   "outputs": [
    {
     "name": "stdout",
     "output_type": "stream",
     "text": [
      "(284,)\n",
      "(284,)\n",
      "{'82e27996': 134, '7801e8d9': 123, '2347f47a': 36, '828da833': 133, '45a51db4': 66, '33da2e74': 51, 'd9b5648e': 234, 'df32afa9': 243, 'aefc06bd': 179, '813f3323': 132, '885c7f3f': 139, '5c5a694b': 95, 'ae637522': 177, '0654b444': 2, '5b9c592b': 93, 'b8d325c3': 196, 'f2f777fb': 264, 'c6824def': 214, '5c620f04': 96, '3feeed1e': 59, '56eabb45': 84, 'ad63ec9b': 174, 'b9528b13': 199, 'b5f3b24a': 191, 'b2816726': 183, '6f7ca2ba': 116, 'e787a6bc': 253, '15ec7f39': 14, 'f3ad7798': 266, '5ac0b939': 88, '43cf4f06': 62, '2b627705': 46, 'e5d5313f': 252, 'a271c340': 165, '18eb4e75': 18, '15c23f8e': 13, '47464e95': 67, '8d87821d': 143, 'db829551': 238, '9ecca2dd': 163, '700adbf0': 117, '0e8616ad': 8, '9acfe436': 157, 'fd68cbd8': 280, '88293ffa': 138, 'b408d42a': 187, '999f1fac': 155, '7bbb38df': 127, '1ed56ded': 30, 'b6c7e8e1': 192, '0eb1a401': 9, '0d79ee56': 7, 'fd5f0ee2': 279, 'd6feb1a4': 229, 'b51aefa8': 190, '27ee373d': 43, 'cb36afb8': 220, '9ec164d3': 162, 'b12ff13e': 182, 'ef1fc174': 262, '2619a4f7': 40, '3ca588d4': 55, '756ffb85': 121, '2c1c31c6': 47, '298309ba': 44, '64ae80a5': 106, '4fafd4c4': 73, 'd18c63a1': 225, '48aec236': 69, 'afdf1f54': 180, 'e25eea83': 248, 'da1be86e': 236, 'b7af3e0a': 193, 'd9e67b62': 235, 'fceed35e': 276, 'c72257c6': 215, '713c0c91': 118, '99b4c806': 156, '1cb641ec': 24, '63f57be0': 103, 'b88e8096': 195, '6bfb9168': 114, '97efe5c6': 153, '5211766b': 78, '063914ab': 1, 'fc41b20c': 275, 'b50610ee': 189, '7a94af76': 125, '90322ef6': 144, '519a450d': 76, '7a9371fa': 124, 'b299335a': 184, 'b9215c20': 198, '17578ec3': 15, '57cf0548': 85, 'bcef5708': 205, '2022d54e': 32, 'f7f22564': 272, '29cd071c': 45, 'bf2623ab': 209, '6aafed40': 112, 'cda96d46': 222, '1d5e09f4': 26, '86aa8fec': 137, 'dec87c2e': 242, '65b2af4c': 109, 'a5204413': 166, 'fd0f197b': 277, '1c666936': 21, '47db8711': 68, '7d58e760': 129, 'b0920d40': 181, 'bd8c1fdc': 206, 'edc7d7a7': 259, '5b3f66ff': 91, 'c36365e3': 212, '201ad671': 31, 'a5f9dc5b': 167, '448ca2e3': 64, 'ed7f6170': 258, '6b062297': 113, '90706f5d': 145, '438468ad': 61, 'ce2ca36f': 223, '7b833eb9': 126, '734d52b9': 119, 'e9d5949e': 255, 'e24414c4': 246, '51174fb1': 75, '9d65dcb9': 159, 'b97def0d': 200, 'f5a7c834': 269, '73fc6786': 120, '90d75517': 146, '6a0a3a9d': 110, '3df323d8': 57, 'cb96370c': 221, 'f09de4dc': 263, '26378630': 41, 'd3c75c8f': 227, '9e96e8cf': 161, '214e1541': 35, '1c895c8c': 23, '5daf29b2': 102, 'c0940197': 210, 'bb6bcbae': 204, '9830a8fb': 154, '772df91c': 122, '1ea19ec4': 29, 'e5d008b4': 251, '64845f22': 105, '256a5990': 39, 'ca7441a4': 219, '1cbecd39': 25, '1b74784d': 20, '3c992420': 54, 'a09b1cc0': 164, 'aa396318': 173, 'ba275770': 201, '1ddc989f': 28, '5bcedd7d': 94, 'c87b28e6': 216, '9cc1123d': 158, '916026d9': 147, 'a981375c': 172, '084f6382': 4, 'ae36b8ab': 176, 'c5c485e8': 213, '002e4064': 0, 'adacd5cc': 175, '800100e0': 131, 'be452468': 208, '06a7ad59': 3, '95f77e10': 151, '9e4f24c2': 160, 'ead20d3d': 257, 'dcdba109': 241, '23e2c80e': 37, '179fcd69': 16, 'aee494fb': 178, '8bb7dba9': 142, 'bb2a164d': 203, '44324ff4': 63, '5ad474ea': 89, '863f4950': 136, 'f84a2400': 273, 'b398ab59': 185, '449e219f': 65, 'da45f10e': 237, 'b8f3e522': 197, '6a90b0cb': 111, '09abdb18': 5, '6f406d5b': 115, 'a8b0bf20': 171, '1c73b8ac': 22, '547624e0': 80, '36fb59d6': 52, 'ee7d2e2b': 261, 'f435cae0': 267, '3fa331b0': 58, '89896125': 140, '20ab8b07': 34, 'eaaf6d12': 256, 'bdde4c9b': 207, '323f3fe5': 50, '1438d51f': 12, '12aaf71f': 11, '92895b94': 148, '5048f612': 74, '8ab0d4f4': 141, 'd98095bb': 233, 'e25ea824': 247, '59e465f4': 87, 'f75ccedd': 270, '0b7d3d7d': 6, '5af432e2': 90, 'fd53c2dc': 278, '18e5bfbf': 17, 'f48b6635': 268, 'b3c288b7': 186, 'd8073046': 231, '42ed489e': 60, '6437e20c': 104, '5ced45bd': 98, '5da9e6db': 101, '8441d3ab': 135, '19b11785': 19, '2d332391': 48, '5576cc84': 82, '589f98f6': 86, 'f34077eb': 265, '7eec2ab0': 130, '4e0bb613': 70, '1dc9b529': 27, '51d3e97f': 77, 'e0881fef': 245, '531c5e42': 79, 'd902c9ef': 232, 'a7c33f94': 169, '3cf50bc0': 56, '7cf770da': 128, 'e29fc2b7': 249, 'fdbdd2a9': 281, 'd3934b52': 226, '93f9275a': 149, '4ed652f4': 71, 'c343527e': 211, '5ce5b882': 97, 'f91396ac': 274, '26894d3c': 42, '655e300a': 107, 'c91a8f07': 217, '24f896e0': 38, 'e9616877': 254, 'ee50c840': 260, 'cf9adca5': 224, 'dbf5ab77': 239, 'a841febe': 170, 'f7eba725': 271, 'd3e7c965': 228, '5d4da5b0': 100, 'a7accd5b': 168, 'dcb74110': 240, '9492ae41': 150, '55240cf0': 81, '2ef29720': 49, 'c9373861': 218, '55888256': 83, 'b43ef300': 188, '5b46af43': 92, 'fe369646': 282, '5d1e6171': 99, '203a4d02': 33, 'bb27eb10': 202, 'b7bbc1c1': 194, '6598724a': 108, '97d745c9': 152, 'e4a3128e': 250, 'df741103': 244, 'fea0d84a': 283, '11f791ec': 10, '4f983e50': 72, '391ef1c3': 53, 'd767dc6b': 230}\n"
     ]
    }
   ],
   "source": [
    "## Sprawdzenie:\n",
    "print(df['aplikacja_domena'].value_counts().shape)\n",
    "print(df['CYF_aplikacja_domena'].value_counts().shape)\n",
    "print(SL_aplikacja_domena)"
   ]
  },
  {
   "cell_type": "markdown",
   "metadata": {},
   "source": [
    "### <span style=\"color:blue\"> Cyfryzuje słownikowo:  'aplikacja_kategoria'</span>"
   ]
  },
  {
   "cell_type": "code",
   "execution_count": 33,
   "metadata": {},
   "outputs": [
    {
     "name": "stdout",
     "output_type": "stream",
     "text": [
      "(29,)\n"
     ]
    },
    {
     "data": {
      "text/plain": [
       "07d7df22    2386522\n",
       "0f2161f8     847193\n",
       "cef3e649     160771\n",
       "8ded1f7a     115381\n",
       "f95efa07      76057\n",
       "d1327cf5      11540\n",
       "09481d60       5359\n",
       "dc97ec06       5007\n",
       "75d80bbe       3700\n",
       "fc6fa53d       2156\n",
       "4ce2e9fc       1881\n",
       "879c24eb       1224\n",
       "a3c42688        963\n",
       "4681bb9d        579\n",
       "0f9a328c        498\n",
       "2281a340        208\n",
       "a86a3e89        186\n",
       "8df2e842        160\n",
       "79f0b860         64\n",
       "0bfbc358         46\n",
       "a7fd01ec         38\n",
       "7113d72a         24\n",
       "18b1e0be         22\n",
       "2fc4f2aa         19\n",
       "5326cf99         17\n",
       "0d82db25          2\n",
       "4b7ade46          2\n",
       "bf8ac856          1\n",
       "71af18ce          1\n",
       "Name: aplikacja_kategoria, dtype: int64"
      ]
     },
     "execution_count": 33,
     "metadata": {},
     "output_type": "execute_result"
    }
   ],
   "source": [
    "print(df['aplikacja_kategoria'].value_counts().shape)\n",
    "df['aplikacja_kategoria'].value_counts()"
   ]
  },
  {
   "cell_type": "code",
   "execution_count": 34,
   "metadata": {},
   "outputs": [
    {
     "data": {
      "text/html": [
       "<div>\n",
       "<style scoped>\n",
       "    .dataframe tbody tr th:only-of-type {\n",
       "        vertical-align: middle;\n",
       "    }\n",
       "\n",
       "    .dataframe tbody tr th {\n",
       "        vertical-align: top;\n",
       "    }\n",
       "\n",
       "    .dataframe thead th {\n",
       "        text-align: right;\n",
       "    }\n",
       "</style>\n",
       "<table border=\"1\" class=\"dataframe\">\n",
       "  <thead>\n",
       "    <tr style=\"text-align: right;\">\n",
       "      <th></th>\n",
       "      <th>aplikacja_kategoria</th>\n",
       "      <th>C_aplikacja_kategoria</th>\n",
       "    </tr>\n",
       "  </thead>\n",
       "  <tbody>\n",
       "    <tr>\n",
       "      <td>3126948</td>\n",
       "      <td>07d7df22</td>\n",
       "      <td>0</td>\n",
       "    </tr>\n",
       "    <tr>\n",
       "      <td>3076571</td>\n",
       "      <td>07d7df22</td>\n",
       "      <td>0</td>\n",
       "    </tr>\n",
       "  </tbody>\n",
       "</table>\n",
       "</div>"
      ],
      "text/plain": [
       "        aplikacja_kategoria  C_aplikacja_kategoria\n",
       "3126948            07d7df22                      0\n",
       "3076571            07d7df22                      0"
      ]
     },
     "execution_count": 34,
     "metadata": {},
     "output_type": "execute_result"
    }
   ],
   "source": [
    "## Cyfryzuje przez mapowanie słownikowe:\n",
    "df['C_aplikacja_kategoria'] = pd.Categorical(df['aplikacja_kategoria']).codes\n",
    "df[['aplikacja_kategoria','C_aplikacja_kategoria']].sample(2)"
   ]
  },
  {
   "cell_type": "code",
   "execution_count": 35,
   "metadata": {},
   "outputs": [
    {
     "name": "stdout",
     "output_type": "stream",
     "text": [
      "{'0f2161f8': 4, '07d7df22': 0, 'cef3e649': 24, 'f95efa07': 27, 'd1327cf5': 25, '8ded1f7a': 18, '4ce2e9fc': 11, '75d80bbe': 15, 'a3c42688': 20, '09481d60': 1, 'dc97ec06': 26, '0f9a328c': 5, '879c24eb': 17, 'fc6fa53d': 28, 'a7fd01ec': 21, 'a86a3e89': 22, '7113d72a': 13, '4681bb9d': 9, '0bfbc358': 2, '2281a340': 7, '79f0b860': 16, '8df2e842': 19, '18b1e0be': 6, '2fc4f2aa': 8, '5326cf99': 12, '71af18ce': 14, 'bf8ac856': 23, '0d82db25': 3, '4b7ade46': 10}\n"
     ]
    },
    {
     "data": {
      "text/html": [
       "<div>\n",
       "<style scoped>\n",
       "    .dataframe tbody tr th:only-of-type {\n",
       "        vertical-align: middle;\n",
       "    }\n",
       "\n",
       "    .dataframe tbody tr th {\n",
       "        vertical-align: top;\n",
       "    }\n",
       "\n",
       "    .dataframe thead th {\n",
       "        text-align: right;\n",
       "    }\n",
       "</style>\n",
       "<table border=\"1\" class=\"dataframe\">\n",
       "  <thead>\n",
       "    <tr style=\"text-align: right;\">\n",
       "      <th></th>\n",
       "      <th>CYF_aplikacja_kategoria</th>\n",
       "      <th>aplikacja_kategoria</th>\n",
       "    </tr>\n",
       "  </thead>\n",
       "  <tbody>\n",
       "    <tr>\n",
       "      <td>1320657</td>\n",
       "      <td>0</td>\n",
       "      <td>07d7df22</td>\n",
       "    </tr>\n",
       "    <tr>\n",
       "      <td>2695824</td>\n",
       "      <td>0</td>\n",
       "      <td>07d7df22</td>\n",
       "    </tr>\n",
       "    <tr>\n",
       "      <td>2783866</td>\n",
       "      <td>4</td>\n",
       "      <td>0f2161f8</td>\n",
       "    </tr>\n",
       "    <tr>\n",
       "      <td>3131366</td>\n",
       "      <td>0</td>\n",
       "      <td>07d7df22</td>\n",
       "    </tr>\n",
       "  </tbody>\n",
       "</table>\n",
       "</div>"
      ],
      "text/plain": [
       "         CYF_aplikacja_kategoria aplikacja_kategoria\n",
       "1320657                        0            07d7df22\n",
       "2695824                        0            07d7df22\n",
       "2783866                        4            0f2161f8\n",
       "3131366                        0            07d7df22"
      ]
     },
     "execution_count": 35,
     "metadata": {},
     "output_type": "execute_result"
    }
   ],
   "source": [
    "SL_aplikacja_kategoria = df.set_index('aplikacja_kategoria')['C_aplikacja_kategoria'].to_dict()\n",
    "print(SL_aplikacja_kategoria)\n",
    "df['CYF_aplikacja_kategoria'] = df['aplikacja_kategoria'].map(SL_aplikacja_kategoria)\n",
    "del df['C_aplikacja_kategoria']\n",
    "df[['CYF_aplikacja_kategoria','aplikacja_kategoria']].sample(4)"
   ]
  },
  {
   "cell_type": "code",
   "execution_count": 36,
   "metadata": {},
   "outputs": [
    {
     "name": "stdout",
     "output_type": "stream",
     "text": [
      "(29,)\n",
      "(29,)\n",
      "{'0f2161f8': 4, '07d7df22': 0, 'cef3e649': 24, 'f95efa07': 27, 'd1327cf5': 25, '8ded1f7a': 18, '4ce2e9fc': 11, '75d80bbe': 15, 'a3c42688': 20, '09481d60': 1, 'dc97ec06': 26, '0f9a328c': 5, '879c24eb': 17, 'fc6fa53d': 28, 'a7fd01ec': 21, 'a86a3e89': 22, '7113d72a': 13, '4681bb9d': 9, '0bfbc358': 2, '2281a340': 7, '79f0b860': 16, '8df2e842': 19, '18b1e0be': 6, '2fc4f2aa': 8, '5326cf99': 12, '71af18ce': 14, 'bf8ac856': 23, '0d82db25': 3, '4b7ade46': 10}\n"
     ]
    }
   ],
   "source": [
    "## Sprawdzenie:\n",
    "print(df['aplikacja_kategoria'].value_counts().shape)\n",
    "print(df['CYF_aplikacja_kategoria'].value_counts().shape)\n",
    "print(SL_aplikacja_kategoria)"
   ]
  },
  {
   "cell_type": "markdown",
   "metadata": {},
   "source": [
    "### <span style=\"color:blue\"> 'urz_id'</span>"
   ]
  },
  {
   "cell_type": "code",
   "execution_count": 37,
   "metadata": {},
   "outputs": [
    {
     "name": "stdout",
     "output_type": "stream",
     "text": [
      "(464097,)\n"
     ]
    },
    {
     "data": {
      "text/plain": [
       "a99f214a    2976262\n",
       "c357dbff       2064\n",
       "936e92fb       1265\n",
       "0f7c61dc       1161\n",
       "afeffc18        822\n",
       "             ...   \n",
       "c26e95f1          1\n",
       "bfdd1e30          1\n",
       "0405cc3a          1\n",
       "71197f6a          1\n",
       "928727c3          1\n",
       "Name: urz_id, Length: 464097, dtype: int64"
      ]
     },
     "execution_count": 37,
     "metadata": {},
     "output_type": "execute_result"
    }
   ],
   "source": [
    "print(df['urz_id'].value_counts().shape)\n",
    "df['urz_id'].value_counts()"
   ]
  },
  {
   "cell_type": "code",
   "execution_count": 38,
   "metadata": {},
   "outputs": [
    {
     "data": {
      "text/html": [
       "<div>\n",
       "<style scoped>\n",
       "    .dataframe tbody tr th:only-of-type {\n",
       "        vertical-align: middle;\n",
       "    }\n",
       "\n",
       "    .dataframe tbody tr th {\n",
       "        vertical-align: top;\n",
       "    }\n",
       "\n",
       "    .dataframe thead th {\n",
       "        text-align: right;\n",
       "    }\n",
       "</style>\n",
       "<table border=\"1\" class=\"dataframe\">\n",
       "  <thead>\n",
       "    <tr style=\"text-align: right;\">\n",
       "      <th></th>\n",
       "      <th>urz_id</th>\n",
       "      <th>C_urz_id</th>\n",
       "    </tr>\n",
       "  </thead>\n",
       "  <tbody>\n",
       "    <tr>\n",
       "      <td>2376238</td>\n",
       "      <td>a99f214a</td>\n",
       "      <td>307295</td>\n",
       "    </tr>\n",
       "    <tr>\n",
       "      <td>54742</td>\n",
       "      <td>a99f214a</td>\n",
       "      <td>307295</td>\n",
       "    </tr>\n",
       "  </tbody>\n",
       "</table>\n",
       "</div>"
      ],
      "text/plain": [
       "           urz_id  C_urz_id\n",
       "2376238  a99f214a    307295\n",
       "54742    a99f214a    307295"
      ]
     },
     "execution_count": 38,
     "metadata": {},
     "output_type": "execute_result"
    }
   ],
   "source": [
    "## Cyfryzuje przez mapowanie słownikowe:\n",
    "df['C_urz_id'] = pd.Categorical(df['urz_id']).codes\n",
    "df[['urz_id','C_urz_id']].sample(2)"
   ]
  },
  {
   "cell_type": "code",
   "execution_count": 39,
   "metadata": {},
   "outputs": [
    {
     "data": {
      "text/html": [
       "<div>\n",
       "<style scoped>\n",
       "    .dataframe tbody tr th:only-of-type {\n",
       "        vertical-align: middle;\n",
       "    }\n",
       "\n",
       "    .dataframe tbody tr th {\n",
       "        vertical-align: top;\n",
       "    }\n",
       "\n",
       "    .dataframe thead th {\n",
       "        text-align: right;\n",
       "    }\n",
       "</style>\n",
       "<table border=\"1\" class=\"dataframe\">\n",
       "  <thead>\n",
       "    <tr style=\"text-align: right;\">\n",
       "      <th></th>\n",
       "      <th>CYF_urz_id</th>\n",
       "      <th>urz_id</th>\n",
       "    </tr>\n",
       "  </thead>\n",
       "  <tbody>\n",
       "    <tr>\n",
       "      <td>1587299</td>\n",
       "      <td>307295</td>\n",
       "      <td>a99f214a</td>\n",
       "    </tr>\n",
       "    <tr>\n",
       "      <td>3401843</td>\n",
       "      <td>307295</td>\n",
       "      <td>a99f214a</td>\n",
       "    </tr>\n",
       "    <tr>\n",
       "      <td>2735792</td>\n",
       "      <td>307295</td>\n",
       "      <td>a99f214a</td>\n",
       "    </tr>\n",
       "    <tr>\n",
       "      <td>1970878</td>\n",
       "      <td>307295</td>\n",
       "      <td>a99f214a</td>\n",
       "    </tr>\n",
       "  </tbody>\n",
       "</table>\n",
       "</div>"
      ],
      "text/plain": [
       "         CYF_urz_id    urz_id\n",
       "1587299      307295  a99f214a\n",
       "3401843      307295  a99f214a\n",
       "2735792      307295  a99f214a\n",
       "1970878      307295  a99f214a"
      ]
     },
     "execution_count": 39,
     "metadata": {},
     "output_type": "execute_result"
    }
   ],
   "source": [
    "SL_urz_id = df.set_index('urz_id')['C_urz_id'].to_dict()\n",
    "#print(SL_urz_id)\n",
    "df['CYF_urz_id'] = df['urz_id'].map(SL_urz_id)\n",
    "del df['C_urz_id']\n",
    "df[['CYF_urz_id','urz_id']].sample(4)"
   ]
  },
  {
   "cell_type": "code",
   "execution_count": 40,
   "metadata": {},
   "outputs": [
    {
     "name": "stdout",
     "output_type": "stream",
     "text": [
      "(464097,)\n",
      "(464097,)\n"
     ]
    }
   ],
   "source": [
    "## Sprawdzenie:\n",
    "print(df['urz_id'].value_counts().shape)\n",
    "print(df['CYF_urz_id'].value_counts().shape)\n",
    "#print(SL_urz_id)"
   ]
  },
  {
   "cell_type": "markdown",
   "metadata": {},
   "source": [
    "### <span style=\"color:blue\"> Cyfryzuje słownikowo: Cyfryzuje słownikowo: 'urz_ip'</span>"
   ]
  },
  {
   "cell_type": "code",
   "execution_count": 41,
   "metadata": {},
   "outputs": [
    {
     "name": "stdout",
     "output_type": "stream",
     "text": [
      "(1476581,)\n"
     ]
    },
    {
     "data": {
      "text/plain": [
       "6b9769f2    18832\n",
       "431b3174    12305\n",
       "2f323f36     8657\n",
       "af9205f9     8612\n",
       "930ec31d     8529\n",
       "            ...  \n",
       "93d9e6e1        1\n",
       "05bc9f2e        1\n",
       "2dccf319        1\n",
       "1cc9ac3a        1\n",
       "3087ac15        1\n",
       "Name: urz_ip, Length: 1476581, dtype: int64"
      ]
     },
     "execution_count": 41,
     "metadata": {},
     "output_type": "execute_result"
    }
   ],
   "source": [
    "print(df['urz_ip'].value_counts().shape)\n",
    "df['urz_ip'].value_counts()"
   ]
  },
  {
   "cell_type": "code",
   "execution_count": 42,
   "metadata": {},
   "outputs": [
    {
     "data": {
      "text/html": [
       "<div>\n",
       "<style scoped>\n",
       "    .dataframe tbody tr th:only-of-type {\n",
       "        vertical-align: middle;\n",
       "    }\n",
       "\n",
       "    .dataframe tbody tr th {\n",
       "        vertical-align: top;\n",
       "    }\n",
       "\n",
       "    .dataframe thead th {\n",
       "        text-align: right;\n",
       "    }\n",
       "</style>\n",
       "<table border=\"1\" class=\"dataframe\">\n",
       "  <thead>\n",
       "    <tr style=\"text-align: right;\">\n",
       "      <th></th>\n",
       "      <th>urz_ip</th>\n",
       "      <th>C_urz_ip</th>\n",
       "    </tr>\n",
       "  </thead>\n",
       "  <tbody>\n",
       "    <tr>\n",
       "      <td>3489605</td>\n",
       "      <td>f52ad1ed</td>\n",
       "      <td>1414454</td>\n",
       "    </tr>\n",
       "    <tr>\n",
       "      <td>1486282</td>\n",
       "      <td>1f338651</td>\n",
       "      <td>180010</td>\n",
       "    </tr>\n",
       "  </tbody>\n",
       "</table>\n",
       "</div>"
      ],
      "text/plain": [
       "           urz_ip  C_urz_ip\n",
       "3489605  f52ad1ed   1414454\n",
       "1486282  1f338651    180010"
      ]
     },
     "execution_count": 42,
     "metadata": {},
     "output_type": "execute_result"
    }
   ],
   "source": [
    "## Cyfryzuje przez mapowanie słownikowe:\n",
    "df['C_urz_ip'] = pd.Categorical(df['urz_ip']).codes\n",
    "df[['urz_ip','C_urz_ip']].sample(2)"
   ]
  },
  {
   "cell_type": "code",
   "execution_count": 43,
   "metadata": {},
   "outputs": [
    {
     "data": {
      "text/html": [
       "<div>\n",
       "<style scoped>\n",
       "    .dataframe tbody tr th:only-of-type {\n",
       "        vertical-align: middle;\n",
       "    }\n",
       "\n",
       "    .dataframe tbody tr th {\n",
       "        vertical-align: top;\n",
       "    }\n",
       "\n",
       "    .dataframe thead th {\n",
       "        text-align: right;\n",
       "    }\n",
       "</style>\n",
       "<table border=\"1\" class=\"dataframe\">\n",
       "  <thead>\n",
       "    <tr style=\"text-align: right;\">\n",
       "      <th></th>\n",
       "      <th>CYF_urz_ip</th>\n",
       "      <th>urz_ip</th>\n",
       "    </tr>\n",
       "  </thead>\n",
       "  <tbody>\n",
       "    <tr>\n",
       "      <td>2623688</td>\n",
       "      <td>374689</td>\n",
       "      <td>40f9ed06</td>\n",
       "    </tr>\n",
       "    <tr>\n",
       "      <td>1254409</td>\n",
       "      <td>166905</td>\n",
       "      <td>1cf29716</td>\n",
       "    </tr>\n",
       "    <tr>\n",
       "      <td>723459</td>\n",
       "      <td>1310201</td>\n",
       "      <td>e330d9a5</td>\n",
       "    </tr>\n",
       "    <tr>\n",
       "      <td>3113404</td>\n",
       "      <td>255309</td>\n",
       "      <td>2c5171af</td>\n",
       "    </tr>\n",
       "  </tbody>\n",
       "</table>\n",
       "</div>"
      ],
      "text/plain": [
       "         CYF_urz_ip    urz_ip\n",
       "2623688      374689  40f9ed06\n",
       "1254409      166905  1cf29716\n",
       "723459      1310201  e330d9a5\n",
       "3113404      255309  2c5171af"
      ]
     },
     "execution_count": 43,
     "metadata": {},
     "output_type": "execute_result"
    }
   ],
   "source": [
    "SL_urz_ip = df.set_index('urz_ip')['C_urz_ip'].to_dict()\n",
    "#print(SL_urz_ip)\n",
    "df['CYF_urz_ip'] = df['urz_ip'].map(SL_urz_ip)\n",
    "del df['C_urz_ip']\n",
    "df[['CYF_urz_ip','urz_ip']].sample(4)"
   ]
  },
  {
   "cell_type": "code",
   "execution_count": 44,
   "metadata": {},
   "outputs": [
    {
     "name": "stdout",
     "output_type": "stream",
     "text": [
      "(1476581,)\n",
      "(1476581,)\n"
     ]
    }
   ],
   "source": [
    "## Sprawdzenie:\n",
    "print(df['urz_ip'].value_counts().shape)\n",
    "print(df['CYF_urz_ip'].value_counts().shape)\n",
    "#print(SL_urz_ip)"
   ]
  },
  {
   "cell_type": "markdown",
   "metadata": {},
   "source": [
    "### <span style=\"color:blue\">'urz_model'</span>"
   ]
  },
  {
   "cell_type": "code",
   "execution_count": 45,
   "metadata": {},
   "outputs": [
    {
     "name": "stdout",
     "output_type": "stream",
     "text": [
      "(6266,)\n"
     ]
    },
    {
     "data": {
      "text/plain": [
       "8a4875bd    220826\n",
       "1f0bc64f    124843\n",
       "d787e91b    124297\n",
       "76dc4769     68516\n",
       "be6db1d7     64631\n",
       "             ...  \n",
       "474e8845         1\n",
       "6351cf30         1\n",
       "1cc8f569         1\n",
       "2a71cd5a         1\n",
       "b0f729f7         1\n",
       "Name: urz_model, Length: 6266, dtype: int64"
      ]
     },
     "execution_count": 45,
     "metadata": {},
     "output_type": "execute_result"
    }
   ],
   "source": [
    "print(df['urz_model'].value_counts().shape)\n",
    "df['urz_model'].value_counts()"
   ]
  },
  {
   "cell_type": "code",
   "execution_count": 46,
   "metadata": {},
   "outputs": [
    {
     "data": {
      "text/html": [
       "<div>\n",
       "<style scoped>\n",
       "    .dataframe tbody tr th:only-of-type {\n",
       "        vertical-align: middle;\n",
       "    }\n",
       "\n",
       "    .dataframe tbody tr th {\n",
       "        vertical-align: top;\n",
       "    }\n",
       "\n",
       "    .dataframe thead th {\n",
       "        text-align: right;\n",
       "    }\n",
       "</style>\n",
       "<table border=\"1\" class=\"dataframe\">\n",
       "  <thead>\n",
       "    <tr style=\"text-align: right;\">\n",
       "      <th></th>\n",
       "      <th>urz_model</th>\n",
       "      <th>C_urz_model</th>\n",
       "    </tr>\n",
       "  </thead>\n",
       "  <tbody>\n",
       "    <tr>\n",
       "      <td>583203</td>\n",
       "      <td>4ea23a13</td>\n",
       "      <td>1899</td>\n",
       "    </tr>\n",
       "    <tr>\n",
       "      <td>1517297</td>\n",
       "      <td>d787e91b</td>\n",
       "      <td>5273</td>\n",
       "    </tr>\n",
       "  </tbody>\n",
       "</table>\n",
       "</div>"
      ],
      "text/plain": [
       "        urz_model  C_urz_model\n",
       "583203   4ea23a13         1899\n",
       "1517297  d787e91b         5273"
      ]
     },
     "execution_count": 46,
     "metadata": {},
     "output_type": "execute_result"
    }
   ],
   "source": [
    "## Cyfryzuje przez mapowanie słownikowe:\n",
    "df['C_urz_model'] = pd.Categorical(df['urz_model']).codes\n",
    "df[['urz_model','C_urz_model']].sample(2)"
   ]
  },
  {
   "cell_type": "code",
   "execution_count": 47,
   "metadata": {},
   "outputs": [
    {
     "data": {
      "text/html": [
       "<div>\n",
       "<style scoped>\n",
       "    .dataframe tbody tr th:only-of-type {\n",
       "        vertical-align: middle;\n",
       "    }\n",
       "\n",
       "    .dataframe tbody tr th {\n",
       "        vertical-align: top;\n",
       "    }\n",
       "\n",
       "    .dataframe thead th {\n",
       "        text-align: right;\n",
       "    }\n",
       "</style>\n",
       "<table border=\"1\" class=\"dataframe\">\n",
       "  <thead>\n",
       "    <tr style=\"text-align: right;\">\n",
       "      <th></th>\n",
       "      <th>CYF_urz_model</th>\n",
       "      <th>urz_model</th>\n",
       "    </tr>\n",
       "  </thead>\n",
       "  <tbody>\n",
       "    <tr>\n",
       "      <td>2427444</td>\n",
       "      <td>3215</td>\n",
       "      <td>836d2439</td>\n",
       "    </tr>\n",
       "    <tr>\n",
       "      <td>1926095</td>\n",
       "      <td>4970</td>\n",
       "      <td>cbb77256</td>\n",
       "    </tr>\n",
       "    <tr>\n",
       "      <td>2593562</td>\n",
       "      <td>2931</td>\n",
       "      <td>779d90c2</td>\n",
       "    </tr>\n",
       "    <tr>\n",
       "      <td>2903714</td>\n",
       "      <td>286</td>\n",
       "      <td>0bcabeaf</td>\n",
       "    </tr>\n",
       "  </tbody>\n",
       "</table>\n",
       "</div>"
      ],
      "text/plain": [
       "         CYF_urz_model urz_model\n",
       "2427444           3215  836d2439\n",
       "1926095           4970  cbb77256\n",
       "2593562           2931  779d90c2\n",
       "2903714            286  0bcabeaf"
      ]
     },
     "execution_count": 47,
     "metadata": {},
     "output_type": "execute_result"
    }
   ],
   "source": [
    "SL_urz_model = df.set_index('urz_model')['C_urz_model'].to_dict()\n",
    "#print(SL_urz_model)\n",
    "df['CYF_urz_model'] = df['urz_model'].map(SL_urz_model)\n",
    "del df['C_urz_model']\n",
    "df[['CYF_urz_model','urz_model']].sample(4)"
   ]
  },
  {
   "cell_type": "code",
   "execution_count": 48,
   "metadata": {},
   "outputs": [
    {
     "name": "stdout",
     "output_type": "stream",
     "text": [
      "(6266,)\n",
      "(6266,)\n"
     ]
    }
   ],
   "source": [
    "## Sprawdzenie:\n",
    "print(df['urz_model'].value_counts().shape)\n",
    "print(df['CYF_urz_model'].value_counts().shape)\n",
    "#print(SL_urz_model)"
   ]
  },
  {
   "cell_type": "code",
   "execution_count": 49,
   "metadata": {},
   "outputs": [
    {
     "data": {
      "text/plain": [
       "Index(['id', 'klik', 'data_godzina', 'baner_pozycja', 'strona_id',\n",
       "       'strona_domena', 'strona_kategoria', 'aplikacja_id', 'aplikacja_domena',\n",
       "       'aplikacja_kategoria', 'urz_id', 'urz_ip', 'urz_model', 'urz_typ',\n",
       "       'urz_polaczenie', 'kat1', 'kat2', 'kat3', 'kat4', 'kat5', 'kat6',\n",
       "       'kat7', 'kat8', 'kat9', 'CYF_data_godzina', 'CYF_baner_pozycja',\n",
       "       'CYF_strona_id', 'CYF_strona_domena', 'CYF_strona_kategoria',\n",
       "       'CYF_aplikacja_id', 'CYF_aplikacja_domena', 'CYF_aplikacja_kategoria',\n",
       "       'CYF_urz_id', 'CYF_urz_ip', 'CYF_urz_model'],\n",
       "      dtype='object')"
      ]
     },
     "execution_count": 49,
     "metadata": {},
     "output_type": "execute_result"
    }
   ],
   "source": [
    "df.columns"
   ]
  },
  {
   "cell_type": "markdown",
   "metadata": {},
   "source": [
    "### <span style=\"color:blue\"> Cyfryzuje słownikowo: 'urz_typ'</span>\n",
    "NIE TRZEBA CYFRYZOWAĆ"
   ]
  },
  {
   "cell_type": "code",
   "execution_count": 50,
   "metadata": {},
   "outputs": [
    {
     "name": "stdout",
     "output_type": "stream",
     "text": [
      "(5,)\n"
     ]
    },
    {
     "data": {
      "text/plain": [
       "1    3329916\n",
       "0     203753\n",
       "4      73803\n",
       "5      12148\n",
       "2          1\n",
       "Name: urz_typ, dtype: int64"
      ]
     },
     "execution_count": 50,
     "metadata": {},
     "output_type": "execute_result"
    }
   ],
   "source": [
    "print(df['urz_typ'].value_counts().shape)\n",
    "df['urz_typ'].value_counts()"
   ]
  },
  {
   "cell_type": "code",
   "execution_count": 51,
   "metadata": {},
   "outputs": [],
   "source": [
    "df['CYF_urz_typ']=df['urz_typ']"
   ]
  },
  {
   "cell_type": "markdown",
   "metadata": {},
   "source": [
    "### <span style=\"color:blue\"> Cyfryzuje słownikowo: 'urz_polaczenie'</span>\n",
    "NIE TRZEBA CYFRYZOWAĆ"
   ]
  },
  {
   "cell_type": "code",
   "execution_count": 52,
   "metadata": {},
   "outputs": [
    {
     "name": "stdout",
     "output_type": "stream",
     "text": [
      "(4,)\n"
     ]
    },
    {
     "data": {
      "text/plain": [
       "0    3130900\n",
       "2     282436\n",
       "3     202277\n",
       "5       4008\n",
       "Name: urz_polaczenie, dtype: int64"
      ]
     },
     "execution_count": 52,
     "metadata": {},
     "output_type": "execute_result"
    }
   ],
   "source": [
    "print(df['urz_polaczenie'].value_counts().shape)\n",
    "df['urz_polaczenie'].value_counts()"
   ]
  },
  {
   "cell_type": "code",
   "execution_count": 53,
   "metadata": {},
   "outputs": [],
   "source": [
    "df['CYF_urz_polaczenie']=df['urz_polaczenie']"
   ]
  },
  {
   "cell_type": "markdown",
   "metadata": {},
   "source": [
    "### <span style=\"color:blue\"> Cyfryzuje słownikowo: kat1</span>"
   ]
  },
  {
   "cell_type": "code",
   "execution_count": 54,
   "metadata": {},
   "outputs": [
    {
     "name": "stdout",
     "output_type": "stream",
     "text": [
      "(7,)\n"
     ]
    },
    {
     "data": {
      "text/plain": [
       "105    3314886\n",
       "102     203753\n",
       "110      85951\n",
       "112      10320\n",
       "107       3209\n",
       "101        908\n",
       "108        594\n",
       "Name: kat1, dtype: int64"
      ]
     },
     "execution_count": 54,
     "metadata": {},
     "output_type": "execute_result"
    }
   ],
   "source": [
    "print(df['kat1'].value_counts().shape)\n",
    "df['kat1'].value_counts()"
   ]
  },
  {
   "cell_type": "code",
   "execution_count": 55,
   "metadata": {},
   "outputs": [
    {
     "data": {
      "text/html": [
       "<div>\n",
       "<style scoped>\n",
       "    .dataframe tbody tr th:only-of-type {\n",
       "        vertical-align: middle;\n",
       "    }\n",
       "\n",
       "    .dataframe tbody tr th {\n",
       "        vertical-align: top;\n",
       "    }\n",
       "\n",
       "    .dataframe thead th {\n",
       "        text-align: right;\n",
       "    }\n",
       "</style>\n",
       "<table border=\"1\" class=\"dataframe\">\n",
       "  <thead>\n",
       "    <tr style=\"text-align: right;\">\n",
       "      <th></th>\n",
       "      <th>kat1</th>\n",
       "      <th>C_kat1</th>\n",
       "    </tr>\n",
       "  </thead>\n",
       "  <tbody>\n",
       "    <tr>\n",
       "      <td>3213722</td>\n",
       "      <td>105</td>\n",
       "      <td>2</td>\n",
       "    </tr>\n",
       "    <tr>\n",
       "      <td>553645</td>\n",
       "      <td>105</td>\n",
       "      <td>2</td>\n",
       "    </tr>\n",
       "  </tbody>\n",
       "</table>\n",
       "</div>"
      ],
      "text/plain": [
       "         kat1  C_kat1\n",
       "3213722   105       2\n",
       "553645    105       2"
      ]
     },
     "execution_count": 55,
     "metadata": {},
     "output_type": "execute_result"
    }
   ],
   "source": [
    "## Cyfryzuje przez mapowanie słownikowe:\n",
    "df['C_kat1'] = pd.Categorical(df['kat1']).codes\n",
    "df[['kat1','C_kat1']].sample(2)"
   ]
  },
  {
   "cell_type": "code",
   "execution_count": 56,
   "metadata": {},
   "outputs": [
    {
     "name": "stdout",
     "output_type": "stream",
     "text": [
      "{105: 2, 110: 5, 102: 1, 107: 3, 108: 4, 101: 0, 112: 6}\n"
     ]
    },
    {
     "data": {
      "text/html": [
       "<div>\n",
       "<style scoped>\n",
       "    .dataframe tbody tr th:only-of-type {\n",
       "        vertical-align: middle;\n",
       "    }\n",
       "\n",
       "    .dataframe tbody tr th {\n",
       "        vertical-align: top;\n",
       "    }\n",
       "\n",
       "    .dataframe thead th {\n",
       "        text-align: right;\n",
       "    }\n",
       "</style>\n",
       "<table border=\"1\" class=\"dataframe\">\n",
       "  <thead>\n",
       "    <tr style=\"text-align: right;\">\n",
       "      <th></th>\n",
       "      <th>CYF_kat1</th>\n",
       "      <th>kat1</th>\n",
       "    </tr>\n",
       "  </thead>\n",
       "  <tbody>\n",
       "    <tr>\n",
       "      <td>3092379</td>\n",
       "      <td>2</td>\n",
       "      <td>105</td>\n",
       "    </tr>\n",
       "    <tr>\n",
       "      <td>185729</td>\n",
       "      <td>2</td>\n",
       "      <td>105</td>\n",
       "    </tr>\n",
       "    <tr>\n",
       "      <td>1280938</td>\n",
       "      <td>2</td>\n",
       "      <td>105</td>\n",
       "    </tr>\n",
       "    <tr>\n",
       "      <td>1712310</td>\n",
       "      <td>2</td>\n",
       "      <td>105</td>\n",
       "    </tr>\n",
       "  </tbody>\n",
       "</table>\n",
       "</div>"
      ],
      "text/plain": [
       "         CYF_kat1  kat1\n",
       "3092379         2   105\n",
       "185729          2   105\n",
       "1280938         2   105\n",
       "1712310         2   105"
      ]
     },
     "execution_count": 56,
     "metadata": {},
     "output_type": "execute_result"
    }
   ],
   "source": [
    "SL_kat1 = df.set_index('kat1')['C_kat1'].to_dict()\n",
    "print(SL_kat1)\n",
    "df['CYF_kat1'] = df['kat1'].map(SL_kat1)\n",
    "del df['C_kat1']\n",
    "df[['CYF_kat1','kat1']].sample(4)"
   ]
  },
  {
   "cell_type": "code",
   "execution_count": 57,
   "metadata": {},
   "outputs": [
    {
     "name": "stdout",
     "output_type": "stream",
     "text": [
      "(7,)\n",
      "(7,)\n"
     ]
    }
   ],
   "source": [
    "## Sprawdzenie:\n",
    "print(df['kat1'].value_counts().shape)\n",
    "print(df['CYF_kat1'].value_counts().shape)\n",
    "#print(SL_kat1)"
   ]
  },
  {
   "cell_type": "markdown",
   "metadata": {},
   "source": [
    "### <span style=\"color:blue\"> Cyfryzuje słownikowo: kat2</span>"
   ]
  },
  {
   "cell_type": "code",
   "execution_count": 58,
   "metadata": {},
   "outputs": [
    {
     "name": "stdout",
     "output_type": "stream",
     "text": [
      "(2287,)\n"
     ]
    },
    {
     "data": {
      "text/plain": [
       "104687    91080\n",
       "121611    81200\n",
       "121189    76653\n",
       "121191    76205\n",
       "119771    67910\n",
       "          ...  \n",
       "112230        1\n",
       "123338        1\n",
       "112229        1\n",
       "118505        1\n",
       "118555        1\n",
       "Name: kat2, Length: 2287, dtype: int64"
      ]
     },
     "execution_count": 58,
     "metadata": {},
     "output_type": "execute_result"
    }
   ],
   "source": [
    "print(df['kat2'].value_counts().shape)\n",
    "df['kat2'].value_counts()"
   ]
  },
  {
   "cell_type": "code",
   "execution_count": 59,
   "metadata": {},
   "outputs": [
    {
     "data": {
      "text/html": [
       "<div>\n",
       "<style scoped>\n",
       "    .dataframe tbody tr th:only-of-type {\n",
       "        vertical-align: middle;\n",
       "    }\n",
       "\n",
       "    .dataframe tbody tr th {\n",
       "        vertical-align: top;\n",
       "    }\n",
       "\n",
       "    .dataframe thead th {\n",
       "        text-align: right;\n",
       "    }\n",
       "</style>\n",
       "<table border=\"1\" class=\"dataframe\">\n",
       "  <thead>\n",
       "    <tr style=\"text-align: right;\">\n",
       "      <th></th>\n",
       "      <th>kat2</th>\n",
       "      <th>C_kat2</th>\n",
       "    </tr>\n",
       "  </thead>\n",
       "  <tbody>\n",
       "    <tr>\n",
       "      <td>1994451</td>\n",
       "      <td>121189</td>\n",
       "      <td>766</td>\n",
       "    </tr>\n",
       "    <tr>\n",
       "      <td>1845800</td>\n",
       "      <td>116859</td>\n",
       "      <td>317</td>\n",
       "    </tr>\n",
       "  </tbody>\n",
       "</table>\n",
       "</div>"
      ],
      "text/plain": [
       "           kat2  C_kat2\n",
       "1994451  121189     766\n",
       "1845800  116859     317"
      ]
     },
     "execution_count": 59,
     "metadata": {},
     "output_type": "execute_result"
    }
   ],
   "source": [
    "## Cyfryzuje przez mapowanie słownikowe:\n",
    "df['C_kat2'] = pd.Categorical(df['kat2']).codes\n",
    "df[['kat2','C_kat2']].sample(2)"
   ]
  },
  {
   "cell_type": "code",
   "execution_count": 60,
   "metadata": {},
   "outputs": [
    {
     "data": {
      "text/html": [
       "<div>\n",
       "<style scoped>\n",
       "    .dataframe tbody tr th:only-of-type {\n",
       "        vertical-align: middle;\n",
       "    }\n",
       "\n",
       "    .dataframe tbody tr th {\n",
       "        vertical-align: top;\n",
       "    }\n",
       "\n",
       "    .dataframe thead th {\n",
       "        text-align: right;\n",
       "    }\n",
       "</style>\n",
       "<table border=\"1\" class=\"dataframe\">\n",
       "  <thead>\n",
       "    <tr style=\"text-align: right;\">\n",
       "      <th></th>\n",
       "      <th>CYF_kat2</th>\n",
       "      <th>kat2</th>\n",
       "    </tr>\n",
       "  </thead>\n",
       "  <tbody>\n",
       "    <tr>\n",
       "      <td>2308633</td>\n",
       "      <td>593</td>\n",
       "      <td>119771</td>\n",
       "    </tr>\n",
       "    <tr>\n",
       "      <td>3407887</td>\n",
       "      <td>594</td>\n",
       "      <td>119772</td>\n",
       "    </tr>\n",
       "    <tr>\n",
       "      <td>1292667</td>\n",
       "      <td>1260</td>\n",
       "      <td>122155</td>\n",
       "    </tr>\n",
       "    <tr>\n",
       "      <td>2712836</td>\n",
       "      <td>710</td>\n",
       "      <td>120476</td>\n",
       "    </tr>\n",
       "  </tbody>\n",
       "</table>\n",
       "</div>"
      ],
      "text/plain": [
       "         CYF_kat2    kat2\n",
       "2308633       593  119771\n",
       "3407887       594  119772\n",
       "1292667      1260  122155\n",
       "2712836       710  120476"
      ]
     },
     "execution_count": 60,
     "metadata": {},
     "output_type": "execute_result"
    }
   ],
   "source": [
    "SL_kat2 = df.set_index('kat2')['C_kat2'].to_dict()\n",
    "#print(SL_kat2)\n",
    "df['CYF_kat2'] = df['kat2'].map(SL_kat2)\n",
    "del df['C_kat2']\n",
    "df[['CYF_kat2','kat2']].sample(4)"
   ]
  },
  {
   "cell_type": "code",
   "execution_count": 61,
   "metadata": {},
   "outputs": [
    {
     "name": "stdout",
     "output_type": "stream",
     "text": [
      "(2287,)\n",
      "(2287,)\n"
     ]
    }
   ],
   "source": [
    "## Sprawdzenie:\n",
    "print(df['kat2'].value_counts().shape)\n",
    "print(df['CYF_kat2'].value_counts().shape)\n",
    "#print(SL_kat2)"
   ]
  },
  {
   "cell_type": "markdown",
   "metadata": {},
   "source": [
    "### <span style=\"color:blue\"> Cyfryzuje słownikowo: kat3</span>"
   ]
  },
  {
   "cell_type": "code",
   "execution_count": 62,
   "metadata": {},
   "outputs": [
    {
     "name": "stdout",
     "output_type": "stream",
     "text": [
      "(8,)\n"
     ]
    },
    {
     "data": {
      "text/plain": [
       "10320    3374764\n",
       "10300     208299\n",
       "10216      28877\n",
       "10728       6816\n",
       "10120        290\n",
       "11024        219\n",
       "10480        198\n",
       "10768        158\n",
       "Name: kat3, dtype: int64"
      ]
     },
     "execution_count": 62,
     "metadata": {},
     "output_type": "execute_result"
    }
   ],
   "source": [
    "print(df['kat3'].value_counts().shape)\n",
    "df['kat3'].value_counts()"
   ]
  },
  {
   "cell_type": "code",
   "execution_count": 63,
   "metadata": {},
   "outputs": [
    {
     "data": {
      "text/html": [
       "<div>\n",
       "<style scoped>\n",
       "    .dataframe tbody tr th:only-of-type {\n",
       "        vertical-align: middle;\n",
       "    }\n",
       "\n",
       "    .dataframe tbody tr th {\n",
       "        vertical-align: top;\n",
       "    }\n",
       "\n",
       "    .dataframe thead th {\n",
       "        text-align: right;\n",
       "    }\n",
       "</style>\n",
       "<table border=\"1\" class=\"dataframe\">\n",
       "  <thead>\n",
       "    <tr style=\"text-align: right;\">\n",
       "      <th></th>\n",
       "      <th>kat3</th>\n",
       "      <th>C_kat3</th>\n",
       "    </tr>\n",
       "  </thead>\n",
       "  <tbody>\n",
       "    <tr>\n",
       "      <td>176814</td>\n",
       "      <td>10320</td>\n",
       "      <td>3</td>\n",
       "    </tr>\n",
       "    <tr>\n",
       "      <td>1068292</td>\n",
       "      <td>10320</td>\n",
       "      <td>3</td>\n",
       "    </tr>\n",
       "  </tbody>\n",
       "</table>\n",
       "</div>"
      ],
      "text/plain": [
       "          kat3  C_kat3\n",
       "176814   10320       3\n",
       "1068292  10320       3"
      ]
     },
     "execution_count": 63,
     "metadata": {},
     "output_type": "execute_result"
    }
   ],
   "source": [
    "## Cyfryzuje przez mapowanie słownikowe:\n",
    "df['C_kat3'] = pd.Categorical(df['kat3']).codes\n",
    "df[['kat3','C_kat3']].sample(2)"
   ]
  },
  {
   "cell_type": "code",
   "execution_count": 64,
   "metadata": {},
   "outputs": [
    {
     "data": {
      "text/html": [
       "<div>\n",
       "<style scoped>\n",
       "    .dataframe tbody tr th:only-of-type {\n",
       "        vertical-align: middle;\n",
       "    }\n",
       "\n",
       "    .dataframe tbody tr th {\n",
       "        vertical-align: top;\n",
       "    }\n",
       "\n",
       "    .dataframe thead th {\n",
       "        text-align: right;\n",
       "    }\n",
       "</style>\n",
       "<table border=\"1\" class=\"dataframe\">\n",
       "  <thead>\n",
       "    <tr style=\"text-align: right;\">\n",
       "      <th></th>\n",
       "      <th>CYF_kat3</th>\n",
       "      <th>kat3</th>\n",
       "    </tr>\n",
       "  </thead>\n",
       "  <tbody>\n",
       "    <tr>\n",
       "      <td>1697862</td>\n",
       "      <td>3</td>\n",
       "      <td>10320</td>\n",
       "    </tr>\n",
       "    <tr>\n",
       "      <td>2746519</td>\n",
       "      <td>3</td>\n",
       "      <td>10320</td>\n",
       "    </tr>\n",
       "    <tr>\n",
       "      <td>596138</td>\n",
       "      <td>3</td>\n",
       "      <td>10320</td>\n",
       "    </tr>\n",
       "    <tr>\n",
       "      <td>3470147</td>\n",
       "      <td>3</td>\n",
       "      <td>10320</td>\n",
       "    </tr>\n",
       "  </tbody>\n",
       "</table>\n",
       "</div>"
      ],
      "text/plain": [
       "         CYF_kat3   kat3\n",
       "1697862         3  10320\n",
       "2746519         3  10320\n",
       "596138          3  10320\n",
       "3470147         3  10320"
      ]
     },
     "execution_count": 64,
     "metadata": {},
     "output_type": "execute_result"
    }
   ],
   "source": [
    "SL_kat3 = df.set_index('kat3')['C_kat3'].to_dict()\n",
    "#print(SL_kat1)\n",
    "df['CYF_kat3'] = df['kat3'].map(SL_kat3)\n",
    "del df['C_kat3']\n",
    "df[['CYF_kat3','kat3']].sample(4)"
   ]
  },
  {
   "cell_type": "code",
   "execution_count": 65,
   "metadata": {},
   "outputs": [
    {
     "name": "stdout",
     "output_type": "stream",
     "text": [
      "(8,)\n",
      "(8,)\n"
     ]
    }
   ],
   "source": [
    "## Sprawdzenie:\n",
    "print(df['kat3'].value_counts().shape)\n",
    "print(df['CYF_kat3'].value_counts().shape)\n",
    "#print(SL_kat3)"
   ]
  },
  {
   "cell_type": "markdown",
   "metadata": {},
   "source": [
    "### <span style=\"color:blue\"> Cyfryzuje słownikowo: kat4</span>"
   ]
  },
  {
   "cell_type": "code",
   "execution_count": 66,
   "metadata": {},
   "outputs": [
    {
     "name": "stdout",
     "output_type": "stream",
     "text": [
      "(9,)\n"
     ]
    },
    {
     "data": {
      "text/plain": [
       "10050    3411208\n",
       "10250     162097\n",
       "10036      28877\n",
       "10480       9758\n",
       "10090       6816\n",
       "10020        290\n",
       "10768        219\n",
       "10320        198\n",
       "11024        158\n",
       "Name: kat4, dtype: int64"
      ]
     },
     "execution_count": 66,
     "metadata": {},
     "output_type": "execute_result"
    }
   ],
   "source": [
    "print(df['kat4'].value_counts().shape)\n",
    "df['kat4'].value_counts()"
   ]
  },
  {
   "cell_type": "code",
   "execution_count": 67,
   "metadata": {},
   "outputs": [
    {
     "data": {
      "text/html": [
       "<div>\n",
       "<style scoped>\n",
       "    .dataframe tbody tr th:only-of-type {\n",
       "        vertical-align: middle;\n",
       "    }\n",
       "\n",
       "    .dataframe tbody tr th {\n",
       "        vertical-align: top;\n",
       "    }\n",
       "\n",
       "    .dataframe thead th {\n",
       "        text-align: right;\n",
       "    }\n",
       "</style>\n",
       "<table border=\"1\" class=\"dataframe\">\n",
       "  <thead>\n",
       "    <tr style=\"text-align: right;\">\n",
       "      <th></th>\n",
       "      <th>kat4</th>\n",
       "      <th>C_kat4</th>\n",
       "    </tr>\n",
       "  </thead>\n",
       "  <tbody>\n",
       "    <tr>\n",
       "      <td>1414970</td>\n",
       "      <td>10050</td>\n",
       "      <td>2</td>\n",
       "    </tr>\n",
       "    <tr>\n",
       "      <td>2551213</td>\n",
       "      <td>10050</td>\n",
       "      <td>2</td>\n",
       "    </tr>\n",
       "  </tbody>\n",
       "</table>\n",
       "</div>"
      ],
      "text/plain": [
       "          kat4  C_kat4\n",
       "1414970  10050       2\n",
       "2551213  10050       2"
      ]
     },
     "execution_count": 67,
     "metadata": {},
     "output_type": "execute_result"
    }
   ],
   "source": [
    "## Cyfryzuje przez mapowanie słownikowe:\n",
    "df['C_kat4'] = pd.Categorical(df['kat4']).codes\n",
    "df[['kat4','C_kat4']].sample(2)"
   ]
  },
  {
   "cell_type": "code",
   "execution_count": 68,
   "metadata": {},
   "outputs": [
    {
     "data": {
      "text/html": [
       "<div>\n",
       "<style scoped>\n",
       "    .dataframe tbody tr th:only-of-type {\n",
       "        vertical-align: middle;\n",
       "    }\n",
       "\n",
       "    .dataframe tbody tr th {\n",
       "        vertical-align: top;\n",
       "    }\n",
       "\n",
       "    .dataframe thead th {\n",
       "        text-align: right;\n",
       "    }\n",
       "</style>\n",
       "<table border=\"1\" class=\"dataframe\">\n",
       "  <thead>\n",
       "    <tr style=\"text-align: right;\">\n",
       "      <th></th>\n",
       "      <th>CYF_kat4</th>\n",
       "      <th>kat4</th>\n",
       "    </tr>\n",
       "  </thead>\n",
       "  <tbody>\n",
       "    <tr>\n",
       "      <td>1457560</td>\n",
       "      <td>2</td>\n",
       "      <td>10050</td>\n",
       "    </tr>\n",
       "    <tr>\n",
       "      <td>525504</td>\n",
       "      <td>2</td>\n",
       "      <td>10050</td>\n",
       "    </tr>\n",
       "    <tr>\n",
       "      <td>1816475</td>\n",
       "      <td>2</td>\n",
       "      <td>10050</td>\n",
       "    </tr>\n",
       "    <tr>\n",
       "      <td>3190892</td>\n",
       "      <td>2</td>\n",
       "      <td>10050</td>\n",
       "    </tr>\n",
       "  </tbody>\n",
       "</table>\n",
       "</div>"
      ],
      "text/plain": [
       "         CYF_kat4   kat4\n",
       "1457560         2  10050\n",
       "525504          2  10050\n",
       "1816475         2  10050\n",
       "3190892         2  10050"
      ]
     },
     "execution_count": 68,
     "metadata": {},
     "output_type": "execute_result"
    }
   ],
   "source": [
    "SL_kat4 = df.set_index('kat4')['C_kat4'].to_dict()\n",
    "#print(SL_kat4)\n",
    "df['CYF_kat4'] = df['kat4'].map(SL_kat4)\n",
    "del df['C_kat4']\n",
    "df[['CYF_kat4','kat4']].sample(4)"
   ]
  },
  {
   "cell_type": "code",
   "execution_count": 69,
   "metadata": {},
   "outputs": [
    {
     "name": "stdout",
     "output_type": "stream",
     "text": [
      "(9,)\n",
      "(9,)\n"
     ]
    }
   ],
   "source": [
    "## Sprawdzenie:\n",
    "print(df['kat4'].value_counts().shape)\n",
    "print(df['CYF_kat4'].value_counts().shape)\n",
    "#print(SL_kat4)"
   ]
  },
  {
   "cell_type": "markdown",
   "metadata": {},
   "source": [
    "### <span style=\"color:blue\"> Cyfryzuje słownikowo: kat5</span>"
   ]
  },
  {
   "cell_type": "code",
   "execution_count": 70,
   "metadata": {},
   "outputs": [
    {
     "name": "stdout",
     "output_type": "stream",
     "text": [
      "(400,)\n"
     ]
    },
    {
     "data": {
      "text/plain": [
       "11722    433254\n",
       "12424    152861\n",
       "12227    136286\n",
       "11800    114010\n",
       "10423     91080\n",
       "          ...  \n",
       "12346         3\n",
       "12521         3\n",
       "12575         2\n",
       "10644         1\n",
       "12722         1\n",
       "Name: kat5, Length: 400, dtype: int64"
      ]
     },
     "execution_count": 70,
     "metadata": {},
     "output_type": "execute_result"
    }
   ],
   "source": [
    "print(df['kat5'].value_counts().shape)\n",
    "df['kat5'].value_counts()"
   ]
  },
  {
   "cell_type": "code",
   "execution_count": 71,
   "metadata": {},
   "outputs": [
    {
     "data": {
      "text/html": [
       "<div>\n",
       "<style scoped>\n",
       "    .dataframe tbody tr th:only-of-type {\n",
       "        vertical-align: middle;\n",
       "    }\n",
       "\n",
       "    .dataframe tbody tr th {\n",
       "        vertical-align: top;\n",
       "    }\n",
       "\n",
       "    .dataframe thead th {\n",
       "        text-align: right;\n",
       "    }\n",
       "</style>\n",
       "<table border=\"1\" class=\"dataframe\">\n",
       "  <thead>\n",
       "    <tr style=\"text-align: right;\">\n",
       "      <th></th>\n",
       "      <th>kat5</th>\n",
       "      <th>C_kat5</th>\n",
       "    </tr>\n",
       "  </thead>\n",
       "  <tbody>\n",
       "    <tr>\n",
       "      <td>1104619</td>\n",
       "      <td>11722</td>\n",
       "      <td>54</td>\n",
       "    </tr>\n",
       "    <tr>\n",
       "      <td>952567</td>\n",
       "      <td>11872</td>\n",
       "      <td>67</td>\n",
       "    </tr>\n",
       "  </tbody>\n",
       "</table>\n",
       "</div>"
      ],
      "text/plain": [
       "          kat5  C_kat5\n",
       "1104619  11722      54\n",
       "952567   11872      67"
      ]
     },
     "execution_count": 71,
     "metadata": {},
     "output_type": "execute_result"
    }
   ],
   "source": [
    "## Cyfryzuje przez mapowanie słownikowe:\n",
    "df['C_kat5'] = pd.Categorical(df['kat5']).codes\n",
    "df[['kat5','C_kat5']].sample(2)"
   ]
  },
  {
   "cell_type": "code",
   "execution_count": 72,
   "metadata": {},
   "outputs": [
    {
     "data": {
      "text/html": [
       "<div>\n",
       "<style scoped>\n",
       "    .dataframe tbody tr th:only-of-type {\n",
       "        vertical-align: middle;\n",
       "    }\n",
       "\n",
       "    .dataframe tbody tr th {\n",
       "        vertical-align: top;\n",
       "    }\n",
       "\n",
       "    .dataframe thead th {\n",
       "        text-align: right;\n",
       "    }\n",
       "</style>\n",
       "<table border=\"1\" class=\"dataframe\">\n",
       "  <thead>\n",
       "    <tr style=\"text-align: right;\">\n",
       "      <th></th>\n",
       "      <th>CYF_kat5</th>\n",
       "      <th>kat5</th>\n",
       "    </tr>\n",
       "  </thead>\n",
       "  <tbody>\n",
       "    <tr>\n",
       "      <td>3253756</td>\n",
       "      <td>308</td>\n",
       "      <td>12616</td>\n",
       "    </tr>\n",
       "    <tr>\n",
       "      <td>2840250</td>\n",
       "      <td>165</td>\n",
       "      <td>12424</td>\n",
       "    </tr>\n",
       "    <tr>\n",
       "      <td>1058687</td>\n",
       "      <td>3</td>\n",
       "      <td>10178</td>\n",
       "    </tr>\n",
       "    <tr>\n",
       "      <td>1756251</td>\n",
       "      <td>6</td>\n",
       "      <td>10423</td>\n",
       "    </tr>\n",
       "  </tbody>\n",
       "</table>\n",
       "</div>"
      ],
      "text/plain": [
       "         CYF_kat5   kat5\n",
       "3253756       308  12616\n",
       "2840250       165  12424\n",
       "1058687         3  10178\n",
       "1756251         6  10423"
      ]
     },
     "execution_count": 72,
     "metadata": {},
     "output_type": "execute_result"
    }
   ],
   "source": [
    "SL_kat5 = df.set_index('kat5')['C_kat5'].to_dict()\n",
    "#print(SL_kat5)\n",
    "df['CYF_kat5'] = df['kat5'].map(SL_kat5)\n",
    "del df['C_kat5']\n",
    "df[['CYF_kat5','kat5']].sample(4)"
   ]
  },
  {
   "cell_type": "code",
   "execution_count": 73,
   "metadata": {},
   "outputs": [
    {
     "name": "stdout",
     "output_type": "stream",
     "text": [
      "(400,)\n",
      "(400,)\n"
     ]
    }
   ],
   "source": [
    "## Sprawdzenie:\n",
    "print(df['kat5'].value_counts().shape)\n",
    "print(df['CYF_kat5'].value_counts().shape)\n",
    "#print(SL_kat5)"
   ]
  },
  {
   "cell_type": "markdown",
   "metadata": {},
   "source": [
    "### <span style=\"color:blue\"> Cyfryzuje słownikowo: kat6</span>"
   ]
  },
  {
   "cell_type": "code",
   "execution_count": 74,
   "metadata": {},
   "outputs": [
    {
     "name": "stdout",
     "output_type": "stream",
     "text": [
      "(4,)\n"
     ]
    },
    {
     "data": {
      "text/plain": [
       "10    1505333\n",
       "13    1219029\n",
       "12     629766\n",
       "11     265493\n",
       "Name: kat6, dtype: int64"
      ]
     },
     "execution_count": 74,
     "metadata": {},
     "output_type": "execute_result"
    }
   ],
   "source": [
    "print(df['kat6'].value_counts().shape)\n",
    "df['kat6'].value_counts()"
   ]
  },
  {
   "cell_type": "code",
   "execution_count": 75,
   "metadata": {},
   "outputs": [
    {
     "data": {
      "text/html": [
       "<div>\n",
       "<style scoped>\n",
       "    .dataframe tbody tr th:only-of-type {\n",
       "        vertical-align: middle;\n",
       "    }\n",
       "\n",
       "    .dataframe tbody tr th {\n",
       "        vertical-align: top;\n",
       "    }\n",
       "\n",
       "    .dataframe thead th {\n",
       "        text-align: right;\n",
       "    }\n",
       "</style>\n",
       "<table border=\"1\" class=\"dataframe\">\n",
       "  <thead>\n",
       "    <tr style=\"text-align: right;\">\n",
       "      <th></th>\n",
       "      <th>kat6</th>\n",
       "      <th>C_kat6</th>\n",
       "    </tr>\n",
       "  </thead>\n",
       "  <tbody>\n",
       "    <tr>\n",
       "      <td>2161318</td>\n",
       "      <td>13</td>\n",
       "      <td>3</td>\n",
       "    </tr>\n",
       "    <tr>\n",
       "      <td>1869403</td>\n",
       "      <td>13</td>\n",
       "      <td>3</td>\n",
       "    </tr>\n",
       "  </tbody>\n",
       "</table>\n",
       "</div>"
      ],
      "text/plain": [
       "         kat6  C_kat6\n",
       "2161318    13       3\n",
       "1869403    13       3"
      ]
     },
     "execution_count": 75,
     "metadata": {},
     "output_type": "execute_result"
    }
   ],
   "source": [
    "## Cyfryzuje przez mapowanie słownikowe:\n",
    "df['C_kat6'] = pd.Categorical(df['kat6']).codes\n",
    "df[['kat6','C_kat6']].sample(2)"
   ]
  },
  {
   "cell_type": "code",
   "execution_count": 76,
   "metadata": {},
   "outputs": [
    {
     "name": "stdout",
     "output_type": "stream",
     "text": [
      "{13: 3, 10: 0, 12: 2, 11: 1}\n"
     ]
    },
    {
     "data": {
      "text/html": [
       "<div>\n",
       "<style scoped>\n",
       "    .dataframe tbody tr th:only-of-type {\n",
       "        vertical-align: middle;\n",
       "    }\n",
       "\n",
       "    .dataframe tbody tr th {\n",
       "        vertical-align: top;\n",
       "    }\n",
       "\n",
       "    .dataframe thead th {\n",
       "        text-align: right;\n",
       "    }\n",
       "</style>\n",
       "<table border=\"1\" class=\"dataframe\">\n",
       "  <thead>\n",
       "    <tr style=\"text-align: right;\">\n",
       "      <th></th>\n",
       "      <th>CYF_kat6</th>\n",
       "      <th>kat6</th>\n",
       "    </tr>\n",
       "  </thead>\n",
       "  <tbody>\n",
       "    <tr>\n",
       "      <td>2856360</td>\n",
       "      <td>3</td>\n",
       "      <td>13</td>\n",
       "    </tr>\n",
       "    <tr>\n",
       "      <td>1674009</td>\n",
       "      <td>0</td>\n",
       "      <td>10</td>\n",
       "    </tr>\n",
       "    <tr>\n",
       "      <td>1782359</td>\n",
       "      <td>1</td>\n",
       "      <td>11</td>\n",
       "    </tr>\n",
       "    <tr>\n",
       "      <td>912897</td>\n",
       "      <td>0</td>\n",
       "      <td>10</td>\n",
       "    </tr>\n",
       "  </tbody>\n",
       "</table>\n",
       "</div>"
      ],
      "text/plain": [
       "         CYF_kat6  kat6\n",
       "2856360         3    13\n",
       "1674009         0    10\n",
       "1782359         1    11\n",
       "912897          0    10"
      ]
     },
     "execution_count": 76,
     "metadata": {},
     "output_type": "execute_result"
    }
   ],
   "source": [
    "SL_kat6 = df.set_index('kat6')['C_kat6'].to_dict()\n",
    "print(SL_kat6)\n",
    "df['CYF_kat6'] = df['kat6'].map(SL_kat6)\n",
    "del df['C_kat6']\n",
    "df[['CYF_kat6','kat6']].sample(4)"
   ]
  },
  {
   "cell_type": "code",
   "execution_count": 77,
   "metadata": {},
   "outputs": [
    {
     "name": "stdout",
     "output_type": "stream",
     "text": [
      "(4,)\n",
      "(4,)\n",
      "{13: 3, 10: 0, 12: 2, 11: 1}\n"
     ]
    }
   ],
   "source": [
    "## Sprawdzenie:\n",
    "print(df['kat6'].value_counts().shape)\n",
    "print(df['CYF_kat6'].value_counts().shape)\n",
    "print(SL_kat6)"
   ]
  },
  {
   "cell_type": "markdown",
   "metadata": {},
   "source": [
    "### <span style=\"color:blue\"> Cyfryzuje słownikowo: kat7</span>"
   ]
  },
  {
   "cell_type": "code",
   "execution_count": 78,
   "metadata": {},
   "outputs": [
    {
     "name": "stdout",
     "output_type": "stream",
     "text": [
      "(65,)\n"
     ]
    },
    {
     "data": {
      "text/plain": [
       "10035    1128472\n",
       "10039     814975\n",
       "10167     286662\n",
       "10161     156474\n",
       "10047      99947\n",
       "          ...   \n",
       "10683         95\n",
       "11195         17\n",
       "10545         16\n",
       "11447         15\n",
       "10677          2\n",
       "Name: kat7, Length: 65, dtype: int64"
      ]
     },
     "execution_count": 78,
     "metadata": {},
     "output_type": "execute_result"
    }
   ],
   "source": [
    "print(df['kat7'].value_counts().shape)\n",
    "df['kat7'].value_counts()"
   ]
  },
  {
   "cell_type": "code",
   "execution_count": 79,
   "metadata": {},
   "outputs": [
    {
     "data": {
      "text/html": [
       "<div>\n",
       "<style scoped>\n",
       "    .dataframe tbody tr th:only-of-type {\n",
       "        vertical-align: middle;\n",
       "    }\n",
       "\n",
       "    .dataframe tbody tr th {\n",
       "        vertical-align: top;\n",
       "    }\n",
       "\n",
       "    .dataframe thead th {\n",
       "        text-align: right;\n",
       "    }\n",
       "</style>\n",
       "<table border=\"1\" class=\"dataframe\">\n",
       "  <thead>\n",
       "    <tr style=\"text-align: right;\">\n",
       "      <th></th>\n",
       "      <th>kat7</th>\n",
       "      <th>C_kat7</th>\n",
       "    </tr>\n",
       "  </thead>\n",
       "  <tbody>\n",
       "    <tr>\n",
       "      <td>3209037</td>\n",
       "      <td>10038</td>\n",
       "      <td>3</td>\n",
       "    </tr>\n",
       "    <tr>\n",
       "      <td>2449977</td>\n",
       "      <td>10035</td>\n",
       "      <td>2</td>\n",
       "    </tr>\n",
       "  </tbody>\n",
       "</table>\n",
       "</div>"
      ],
      "text/plain": [
       "          kat7  C_kat7\n",
       "3209037  10038       3\n",
       "2449977  10035       2"
      ]
     },
     "execution_count": 79,
     "metadata": {},
     "output_type": "execute_result"
    }
   ],
   "source": [
    "## Cyfryzuje przez mapowanie słownikowe:\n",
    "df['C_kat7'] = pd.Categorical(df['kat7']).codes\n",
    "df[['kat7','C_kat7']].sample(2)"
   ]
  },
  {
   "cell_type": "code",
   "execution_count": 80,
   "metadata": {},
   "outputs": [
    {
     "name": "stdout",
     "output_type": "stream",
     "text": [
      "{10427: 26, 10035: 2, 10039: 4, 10687: 40, 10551: 30, 11711: 61, 11835: 63, 10303: 21, 10163: 10, 10297: 19, 10047: 8, 10167: 11, 10801: 41, 10171: 13, 11063: 51, 10175: 14, 10813: 44, 10431: 27, 10041: 5, 11451: 59, 10043: 6, 10291: 17, 11319: 56, 10673: 34, 10681: 38, 11315: 55, 10161: 9, 10683: 39, 10169: 12, 10679: 37, 10943: 49, 11071: 53, 10559: 33, 11327: 57, 10547: 29, 10423: 24, 10425: 25, 10299: 20, 10033: 0, 10034: 1, 10295: 18, 10553: 31, 11447: 58, 10811: 43, 10555: 32, 10675: 35, 11059: 50, 10809: 42, 10937: 47, 10045: 7, 10417: 22, 10545: 28, 10419: 23, 10677: 36, 11065: 52, 10935: 46, 10815: 45, 11195: 54, 11583: 60, 11839: 64, 10939: 48, 10038: 3, 10290: 16, 11831: 62, 10289: 15}\n"
     ]
    },
    {
     "data": {
      "text/html": [
       "<div>\n",
       "<style scoped>\n",
       "    .dataframe tbody tr th:only-of-type {\n",
       "        vertical-align: middle;\n",
       "    }\n",
       "\n",
       "    .dataframe tbody tr th {\n",
       "        vertical-align: top;\n",
       "    }\n",
       "\n",
       "    .dataframe thead th {\n",
       "        text-align: right;\n",
       "    }\n",
       "</style>\n",
       "<table border=\"1\" class=\"dataframe\">\n",
       "  <thead>\n",
       "    <tr style=\"text-align: right;\">\n",
       "      <th></th>\n",
       "      <th>CYF_kat7</th>\n",
       "      <th>kat7</th>\n",
       "    </tr>\n",
       "  </thead>\n",
       "  <tbody>\n",
       "    <tr>\n",
       "      <td>3148841</td>\n",
       "      <td>46</td>\n",
       "      <td>10935</td>\n",
       "    </tr>\n",
       "    <tr>\n",
       "      <td>2892128</td>\n",
       "      <td>4</td>\n",
       "      <td>10039</td>\n",
       "    </tr>\n",
       "    <tr>\n",
       "      <td>1864812</td>\n",
       "      <td>4</td>\n",
       "      <td>10039</td>\n",
       "    </tr>\n",
       "    <tr>\n",
       "      <td>723</td>\n",
       "      <td>2</td>\n",
       "      <td>10035</td>\n",
       "    </tr>\n",
       "  </tbody>\n",
       "</table>\n",
       "</div>"
      ],
      "text/plain": [
       "         CYF_kat7   kat7\n",
       "3148841        46  10935\n",
       "2892128         4  10039\n",
       "1864812         4  10039\n",
       "723             2  10035"
      ]
     },
     "execution_count": 80,
     "metadata": {},
     "output_type": "execute_result"
    }
   ],
   "source": [
    "SL_kat7 = df.set_index('kat7')['C_kat7'].to_dict()\n",
    "print(SL_kat7)\n",
    "df['CYF_kat7'] = df['kat7'].map(SL_kat7)\n",
    "del df['C_kat7']\n",
    "df[['CYF_kat7','kat7']].sample(4)"
   ]
  },
  {
   "cell_type": "code",
   "execution_count": 81,
   "metadata": {},
   "outputs": [
    {
     "name": "stdout",
     "output_type": "stream",
     "text": [
      "(65,)\n",
      "(65,)\n"
     ]
    }
   ],
   "source": [
    "## Sprawdzenie:\n",
    "print(df['kat7'].value_counts().shape)\n",
    "print(df['CYF_kat7'].value_counts().shape)\n",
    "#print(SL_kat7)"
   ]
  },
  {
   "cell_type": "markdown",
   "metadata": {},
   "source": [
    "### <span style=\"color:blue\"> Cyfryzuje słownikowo: kat8</span>"
   ]
  },
  {
   "cell_type": "code",
   "execution_count": 82,
   "metadata": {},
   "outputs": [
    {
     "name": "stdout",
     "output_type": "stream",
     "text": [
      "(168,)\n"
     ]
    },
    {
     "data": {
      "text/plain": [
       "-1         1681633\n",
       " 100084     223417\n",
       " 100111     160963\n",
       " 100148     157273\n",
       " 100077     143441\n",
       "            ...   \n",
       " 100246          1\n",
       " 100209          1\n",
       " 100008          1\n",
       " 100186          1\n",
       " 100078          1\n",
       "Name: kat8, Length: 168, dtype: int64"
      ]
     },
     "execution_count": 82,
     "metadata": {},
     "output_type": "execute_result"
    }
   ],
   "source": [
    "print(df['kat8'].value_counts().shape)\n",
    "df['kat8'].value_counts()"
   ]
  },
  {
   "cell_type": "code",
   "execution_count": 83,
   "metadata": {},
   "outputs": [
    {
     "data": {
      "text/html": [
       "<div>\n",
       "<style scoped>\n",
       "    .dataframe tbody tr th:only-of-type {\n",
       "        vertical-align: middle;\n",
       "    }\n",
       "\n",
       "    .dataframe tbody tr th {\n",
       "        vertical-align: top;\n",
       "    }\n",
       "\n",
       "    .dataframe thead th {\n",
       "        text-align: right;\n",
       "    }\n",
       "</style>\n",
       "<table border=\"1\" class=\"dataframe\">\n",
       "  <thead>\n",
       "    <tr style=\"text-align: right;\">\n",
       "      <th></th>\n",
       "      <th>kat8</th>\n",
       "      <th>C_kat8</th>\n",
       "    </tr>\n",
       "  </thead>\n",
       "  <tbody>\n",
       "    <tr>\n",
       "      <td>2968530</td>\n",
       "      <td>100189</td>\n",
       "      <td>140</td>\n",
       "    </tr>\n",
       "    <tr>\n",
       "      <td>108456</td>\n",
       "      <td>-1</td>\n",
       "      <td>0</td>\n",
       "    </tr>\n",
       "  </tbody>\n",
       "</table>\n",
       "</div>"
      ],
      "text/plain": [
       "           kat8  C_kat8\n",
       "2968530  100189     140\n",
       "108456       -1       0"
      ]
     },
     "execution_count": 83,
     "metadata": {},
     "output_type": "execute_result"
    }
   ],
   "source": [
    "## Cyfryzuje przez mapowanie słownikowe:\n",
    "df['C_kat8'] = pd.Categorical(df['kat8']).codes\n",
    "df[['kat8','C_kat8']].sample(2)"
   ]
  },
  {
   "cell_type": "code",
   "execution_count": 84,
   "metadata": {},
   "outputs": [
    {
     "data": {
      "text/html": [
       "<div>\n",
       "<style scoped>\n",
       "    .dataframe tbody tr th:only-of-type {\n",
       "        vertical-align: middle;\n",
       "    }\n",
       "\n",
       "    .dataframe tbody tr th {\n",
       "        vertical-align: top;\n",
       "    }\n",
       "\n",
       "    .dataframe thead th {\n",
       "        text-align: right;\n",
       "    }\n",
       "</style>\n",
       "<table border=\"1\" class=\"dataframe\">\n",
       "  <thead>\n",
       "    <tr style=\"text-align: right;\">\n",
       "      <th></th>\n",
       "      <th>CYF_kat8</th>\n",
       "      <th>kat8</th>\n",
       "    </tr>\n",
       "  </thead>\n",
       "  <tbody>\n",
       "    <tr>\n",
       "      <td>2798728</td>\n",
       "      <td>0</td>\n",
       "      <td>-1</td>\n",
       "    </tr>\n",
       "    <tr>\n",
       "      <td>2894148</td>\n",
       "      <td>61</td>\n",
       "      <td>100081</td>\n",
       "    </tr>\n",
       "    <tr>\n",
       "      <td>2677991</td>\n",
       "      <td>108</td>\n",
       "      <td>100148</td>\n",
       "    </tr>\n",
       "    <tr>\n",
       "      <td>1464336</td>\n",
       "      <td>61</td>\n",
       "      <td>100081</td>\n",
       "    </tr>\n",
       "  </tbody>\n",
       "</table>\n",
       "</div>"
      ],
      "text/plain": [
       "         CYF_kat8    kat8\n",
       "2798728         0      -1\n",
       "2894148        61  100081\n",
       "2677991       108  100148\n",
       "1464336        61  100081"
      ]
     },
     "execution_count": 84,
     "metadata": {},
     "output_type": "execute_result"
    }
   ],
   "source": [
    "SL_kat8 = df.set_index('kat8')['C_kat8'].to_dict()\n",
    "#print(SL_kat8)\n",
    "df['CYF_kat8'] = df['kat8'].map(SL_kat8)\n",
    "del df['C_kat8']\n",
    "df[['CYF_kat8','kat8']].sample(4)"
   ]
  },
  {
   "cell_type": "code",
   "execution_count": 85,
   "metadata": {},
   "outputs": [
    {
     "name": "stdout",
     "output_type": "stream",
     "text": [
      "(168,)\n",
      "(168,)\n"
     ]
    }
   ],
   "source": [
    "## Sprawdzenie:\n",
    "print(df['kat8'].value_counts().shape)\n",
    "print(df['CYF_kat8'].value_counts().shape)\n",
    "#print(SL_kat8)"
   ]
  },
  {
   "cell_type": "markdown",
   "metadata": {},
   "source": [
    "### <span style=\"color:blue\"> Cyfryzuje słownikowo: kat9</span>"
   ]
  },
  {
   "cell_type": "code",
   "execution_count": 86,
   "metadata": {},
   "outputs": [
    {
     "name": "stdout",
     "output_type": "stream",
     "text": [
      "(55,)\n"
     ]
    },
    {
     "data": {
      "text/plain": [
       "23     785105\n",
       "79     439947\n",
       "221    429813\n",
       "71     208022\n",
       "48     203163\n",
       "157    185996\n",
       "61     182618\n",
       "32     164131\n",
       "33     134414\n",
       "52     108269\n",
       "42      98440\n",
       "15      76533\n",
       "51      62449\n",
       "212     60917\n",
       "43      58066\n",
       "117     41691\n",
       "13      36878\n",
       "156     33656\n",
       "68      32148\n",
       "16      29440\n",
       "159     29229\n",
       "95      23217\n",
       "46      22566\n",
       "69      17620\n",
       "91      16574\n",
       "111     13981\n",
       "70      12927\n",
       "90      12192\n",
       "110     12048\n",
       "204      9292\n",
       "171      8508\n",
       "17       8382\n",
       "101      7391\n",
       "112      7270\n",
       "82       6453\n",
       "100      5958\n",
       "182      5000\n",
       "178      4962\n",
       "35       4667\n",
       "108      4590\n",
       "253      2891\n",
       "251      1747\n",
       "116      1595\n",
       "194      1418\n",
       "94       1301\n",
       "20       1273\n",
       "93       1237\n",
       "126       777\n",
       "102       735\n",
       "163       678\n",
       "177       559\n",
       "195       360\n",
       "1         305\n",
       "219       163\n",
       "85         59\n",
       "Name: kat9, dtype: int64"
      ]
     },
     "execution_count": 86,
     "metadata": {},
     "output_type": "execute_result"
    }
   ],
   "source": [
    "print(df['kat9'].value_counts().shape)\n",
    "df['kat9'].value_counts()"
   ]
  },
  {
   "cell_type": "code",
   "execution_count": 87,
   "metadata": {},
   "outputs": [
    {
     "data": {
      "text/html": [
       "<div>\n",
       "<style scoped>\n",
       "    .dataframe tbody tr th:only-of-type {\n",
       "        vertical-align: middle;\n",
       "    }\n",
       "\n",
       "    .dataframe tbody tr th {\n",
       "        vertical-align: top;\n",
       "    }\n",
       "\n",
       "    .dataframe thead th {\n",
       "        text-align: right;\n",
       "    }\n",
       "</style>\n",
       "<table border=\"1\" class=\"dataframe\">\n",
       "  <thead>\n",
       "    <tr style=\"text-align: right;\">\n",
       "      <th></th>\n",
       "      <th>kat9</th>\n",
       "      <th>C_kat9</th>\n",
       "    </tr>\n",
       "  </thead>\n",
       "  <tbody>\n",
       "    <tr>\n",
       "      <td>1535825</td>\n",
       "      <td>71</td>\n",
       "      <td>20</td>\n",
       "    </tr>\n",
       "    <tr>\n",
       "      <td>2589797</td>\n",
       "      <td>79</td>\n",
       "      <td>21</td>\n",
       "    </tr>\n",
       "  </tbody>\n",
       "</table>\n",
       "</div>"
      ],
      "text/plain": [
       "         kat9  C_kat9\n",
       "1535825    71      20\n",
       "2589797    79      21"
      ]
     },
     "execution_count": 87,
     "metadata": {},
     "output_type": "execute_result"
    }
   ],
   "source": [
    "## Cyfryzuje przez mapowanie słownikowe:\n",
    "df['C_kat9'] = pd.Categorical(df['kat9']).codes\n",
    "df[['kat9','C_kat9']].sample(2)"
   ]
  },
  {
   "cell_type": "code",
   "execution_count": 88,
   "metadata": {},
   "outputs": [
    {
     "data": {
      "text/html": [
       "<div>\n",
       "<style scoped>\n",
       "    .dataframe tbody tr th:only-of-type {\n",
       "        vertical-align: middle;\n",
       "    }\n",
       "\n",
       "    .dataframe tbody tr th {\n",
       "        vertical-align: top;\n",
       "    }\n",
       "\n",
       "    .dataframe thead th {\n",
       "        text-align: right;\n",
       "    }\n",
       "</style>\n",
       "<table border=\"1\" class=\"dataframe\">\n",
       "  <thead>\n",
       "    <tr style=\"text-align: right;\">\n",
       "      <th></th>\n",
       "      <th>CYF_kat9</th>\n",
       "      <th>kat9</th>\n",
       "    </tr>\n",
       "  </thead>\n",
       "  <tbody>\n",
       "    <tr>\n",
       "      <td>2052224</td>\n",
       "      <td>21</td>\n",
       "      <td>79</td>\n",
       "    </tr>\n",
       "    <tr>\n",
       "      <td>2295732</td>\n",
       "      <td>15</td>\n",
       "      <td>52</td>\n",
       "    </tr>\n",
       "    <tr>\n",
       "      <td>2397517</td>\n",
       "      <td>6</td>\n",
       "      <td>23</td>\n",
       "    </tr>\n",
       "    <tr>\n",
       "      <td>38185</td>\n",
       "      <td>8</td>\n",
       "      <td>33</td>\n",
       "    </tr>\n",
       "  </tbody>\n",
       "</table>\n",
       "</div>"
      ],
      "text/plain": [
       "         CYF_kat9  kat9\n",
       "2052224        21    79\n",
       "2295732        15    52\n",
       "2397517         6    23\n",
       "38185           8    33"
      ]
     },
     "execution_count": 88,
     "metadata": {},
     "output_type": "execute_result"
    }
   ],
   "source": [
    "SL_kat9 = df.set_index('kat9')['C_kat9'].to_dict()\n",
    "#print(SL_kat9)\n",
    "df['CYF_kat9'] = df['kat9'].map(SL_kat9)\n",
    "del df['C_kat9']\n",
    "df[['CYF_kat9','kat9']].sample(4)"
   ]
  },
  {
   "cell_type": "code",
   "execution_count": 89,
   "metadata": {},
   "outputs": [
    {
     "name": "stdout",
     "output_type": "stream",
     "text": [
      "(55,)\n",
      "(55,)\n"
     ]
    }
   ],
   "source": [
    "## Sprawdzenie:\n",
    "print(df['kat9'].value_counts().shape)\n",
    "print(df['CYF_kat9'].value_counts().shape)\n",
    "#print(SL_kat9)"
   ]
  },
  {
   "cell_type": "markdown",
   "metadata": {},
   "source": [
    "<span style=\"color:blue\">Wszystkie piowyższe zmienne dyskretne trzeba bðzie przerobić na cyfry. Problem polega na tym, że trzeba to zrobić przez słownik, ponieważ te przyporządkowanie musi pasowac do innego zbioru \"Do zgłoszenia\".\n",
    "Ciekawe co zrobić, jak zmienne dyskretne nie będą te same w zbiorze uczącym i co zmienne  w zbiorze \"do zgłoszenia\"\n",
    "</span>"
   ]
  },
  {
   "cell_type": "markdown",
   "metadata": {},
   "source": [
    "# <span style=\"color:pink\">Dzielenie małych grup na klasy"
   ]
  },
  {
   "cell_type": "markdown",
   "metadata": {},
   "source": [
    "## 'CYF_KL_strona_id'"
   ]
  },
  {
   "cell_type": "code",
   "execution_count": 90,
   "metadata": {},
   "outputs": [
    {
     "name": "stdout",
     "output_type": "stream",
     "text": [
      "CYF_KL_strona_id -0.11358798298739728\n"
     ]
    }
   ],
   "source": [
    "df['CYF_KL_strona_id']=df['CYF_strona_id'].apply(lambda x: 1 if x >= 1750 and x <= 1780 else 0)\n",
    "\n",
    "\n",
    "df2 = df[['klik', 'CYF_baner_pozycja',\n",
    "       'CYF_strona_id', 'CYF_strona_domena', 'CYF_strona_kategoria',\n",
    "       'CYF_aplikacja_id', 'CYF_aplikacja_domena', 'CYF_aplikacja_kategoria',\n",
    "       'CYF_urz_id', 'CYF_urz_ip', 'CYF_urz_model', 'CYF_urz_typ',\n",
    "       'CYF_urz_polaczenie', 'CYF_kat1', 'CYF_kat2', 'CYF_kat3', 'CYF_kat4',\n",
    "       'CYF_kat5', 'CYF_kat6', 'CYF_kat7', 'CYF_kat8', 'CYF_kat9','CYF_data_godzina',\n",
    "          'CYF_KL_strona_id']]\n",
    "\n",
    "CORREL = df2.corr()\n",
    "print('CYF_KL_strona_id',CORREL['klik'].CYF_KL_strona_id)\n",
    "\n",
    "# x >= 1251 and x <= 1773    -0.11\n",
    "# x == 1773 "
   ]
  },
  {
   "cell_type": "markdown",
   "metadata": {},
   "source": [
    "## CYF_KL_aplikacja_id"
   ]
  },
  {
   "cell_type": "code",
   "execution_count": 91,
   "metadata": {},
   "outputs": [
    {
     "name": "stdout",
     "output_type": "stream",
     "text": [
      "CYF_KL_aplikacja_id 0.10247632135096467\n"
     ]
    }
   ],
   "source": [
    "df['CYF_KL_aplikacja_id']=df['CYF_aplikacja_id'].apply(lambda x: 1 if x == 4353 else 0)\n",
    "\n",
    "\n",
    "df2 = df[['klik', 'CYF_baner_pozycja',\n",
    "       'CYF_strona_id', 'CYF_strona_domena', 'CYF_strona_kategoria',\n",
    "       'CYF_aplikacja_id', 'CYF_aplikacja_domena', 'CYF_aplikacja_kategoria',\n",
    "       'CYF_urz_id', 'CYF_urz_ip', 'CYF_urz_model', 'CYF_urz_typ',\n",
    "       'CYF_urz_polaczenie', 'CYF_kat1', 'CYF_kat2', 'CYF_kat3', 'CYF_kat4',\n",
    "       'CYF_kat5', 'CYF_kat6', 'CYF_kat7', 'CYF_kat8', 'CYF_kat9','CYF_data_godzina',\n",
    "          'CYF_KL_strona_id','CYF_KL_aplikacja_id']]\n",
    "\n",
    "CORREL = df2.corr()\n",
    "print('CYF_KL_aplikacja_id',CORREL['klik'].CYF_KL_aplikacja_id)\n",
    "# 0.102"
   ]
  },
  {
   "cell_type": "markdown",
   "metadata": {},
   "source": [
    "## CYF_KL_aplikacja_domena"
   ]
  },
  {
   "cell_type": "code",
   "execution_count": 92,
   "metadata": {},
   "outputs": [
    {
     "name": "stdout",
     "output_type": "stream",
     "text": [
      "CYF_KL_aplikacja_domena 0.09637079406166198\n"
     ]
    }
   ],
   "source": [
    "df['CYF_KL_aplikacja_domena']=df['CYF_aplikacja_domena'].apply(lambda x: 1 if x == 123 else 0)\n",
    "\n",
    "\n",
    "df2 = df[['klik', 'CYF_baner_pozycja',\n",
    "       'CYF_strona_id', 'CYF_strona_domena', 'CYF_strona_kategoria',\n",
    "       'CYF_aplikacja_id', 'CYF_aplikacja_domena', 'CYF_aplikacja_kategoria',\n",
    "       'CYF_urz_id', 'CYF_urz_ip', 'CYF_urz_model', 'CYF_urz_typ',\n",
    "       'CYF_urz_polaczenie', 'CYF_kat1', 'CYF_kat2', 'CYF_kat3', 'CYF_kat4',\n",
    "       'CYF_kat5', 'CYF_kat6', 'CYF_kat7', 'CYF_kat8', 'CYF_kat9','CYF_data_godzina',\n",
    "          'CYF_KL_strona_id','CYF_KL_aplikacja_id','CYF_KL_aplikacja_domena']]\n",
    "\n",
    "CORREL = df2.corr()\n",
    "print('CYF_KL_aplikacja_domena',CORREL['klik'].CYF_KL_aplikacja_domena)"
   ]
  },
  {
   "cell_type": "markdown",
   "metadata": {},
   "source": [
    "## 'CYF_KL4_aplikacja_kategoria' i 'CYF_KL0_aplikacja_kategoria'"
   ]
  },
  {
   "cell_type": "code",
   "execution_count": 93,
   "metadata": {},
   "outputs": [
    {
     "name": "stdout",
     "output_type": "stream",
     "text": [
      "CYF_KL4_aplikacja_kategoria -0.08865289695183813\n",
      "CYF_KL0_aplikacja_kategoria 0.10673798705331962\n"
     ]
    }
   ],
   "source": [
    "df['CYF_KL4_aplikacja_kategoria']=df['CYF_aplikacja_kategoria'].apply(lambda x: 1 if x == 4 else 0)\n",
    "df['CYF_KL0_aplikacja_kategoria']=df['CYF_aplikacja_kategoria'].apply(lambda x: 1 if x == 0 else 0)\n",
    "\n",
    "df2 = df[['klik', 'CYF_baner_pozycja',\n",
    "       'CYF_strona_id', 'CYF_strona_domena', 'CYF_strona_kategoria',\n",
    "       'CYF_aplikacja_id', 'CYF_aplikacja_domena', 'CYF_aplikacja_kategoria',\n",
    "       'CYF_urz_id', 'CYF_urz_ip', 'CYF_urz_model', 'CYF_urz_typ',\n",
    "       'CYF_urz_polaczenie', 'CYF_kat1', 'CYF_kat2', 'CYF_kat3', 'CYF_kat4',\n",
    "       'CYF_kat5', 'CYF_kat6', 'CYF_kat7', 'CYF_kat8', 'CYF_kat9','CYF_data_godzina',\n",
    "          'CYF_KL_strona_id','CYF_KL_aplikacja_id',\n",
    "          'CYF_KL_aplikacja_domena','CYF_KL4_aplikacja_kategoria','CYF_KL0_aplikacja_kategoria']]\n",
    "\n",
    "CORREL = df2.corr()\n",
    "print('CYF_KL4_aplikacja_kategoria',CORREL['klik'].CYF_KL4_aplikacja_kategoria)\n",
    "print('CYF_KL0_aplikacja_kategoria',CORREL['klik'].CYF_KL0_aplikacja_kategoria)"
   ]
  },
  {
   "cell_type": "code",
   "execution_count": null,
   "metadata": {},
   "outputs": [],
   "source": []
  },
  {
   "cell_type": "code",
   "execution_count": null,
   "metadata": {},
   "outputs": [],
   "source": []
  },
  {
   "cell_type": "markdown",
   "metadata": {},
   "source": [
    "## 'CYF_KL_kat3'"
   ]
  },
  {
   "cell_type": "code",
   "execution_count": 94,
   "metadata": {},
   "outputs": [
    {
     "name": "stdout",
     "output_type": "stream",
     "text": [
      "CYF_KL_kat3 -0.1107129347422017\n"
     ]
    }
   ],
   "source": [
    "df['CYF_KL_kat3']=df['CYF_kat3'].apply(lambda x: 1 if x == 3 else 0)\n",
    "#df['CYF_KL_kat2']=df['CYF_kat2'].apply(lambda x: 1 if x == 1594 else 0)\n",
    "\n",
    "df2 = df[['klik', 'CYF_baner_pozycja',\n",
    "       'CYF_strona_id', 'CYF_strona_domena', 'CYF_strona_kategoria',\n",
    "       'CYF_aplikacja_id', 'CYF_aplikacja_domena', 'CYF_aplikacja_kategoria',\n",
    "       'CYF_urz_id', 'CYF_urz_ip', 'CYF_urz_model', 'CYF_urz_typ',\n",
    "       'CYF_urz_polaczenie', 'CYF_kat1', 'CYF_kat2', 'CYF_kat3', 'CYF_kat4',\n",
    "       'CYF_kat5', 'CYF_kat6', 'CYF_kat7', 'CYF_kat8', 'CYF_kat9','CYF_data_godzina',\n",
    "          'CYF_KL_strona_id','CYF_KL_aplikacja_id',\n",
    "          'CYF_KL_aplikacja_domena','CYF_KL4_aplikacja_kategoria','CYF_KL0_aplikacja_kategoria',\n",
    "          'CYF_KL_kat3']]\n",
    "\n",
    "CORREL = df2.corr()\n",
    "print('CYF_KL_kat3',CORREL['klik'].CYF_KL_kat3)\n"
   ]
  },
  {
   "cell_type": "markdown",
   "metadata": {},
   "source": [
    "## 'CYF_KL_kat4'"
   ]
  },
  {
   "cell_type": "code",
   "execution_count": 95,
   "metadata": {},
   "outputs": [
    {
     "name": "stdout",
     "output_type": "stream",
     "text": [
      "CYF_KL_kat4 -0.12391185060838177\n"
     ]
    }
   ],
   "source": [
    "df['CYF_KL_kat4']=df['CYF_kat4'].apply(lambda x: 1 if x == 2 else 0)\n",
    "#df['CYF_KL_kat4']=df['CYF_kat2'].apply(lambda x: 1 if x == 1594 else 0)\n",
    "\n",
    "df2 = df[['klik', 'CYF_baner_pozycja',\n",
    "       'CYF_strona_id', 'CYF_strona_domena', 'CYF_strona_kategoria',\n",
    "       'CYF_aplikacja_id', 'CYF_aplikacja_domena', 'CYF_aplikacja_kategoria',\n",
    "       'CYF_urz_id', 'CYF_urz_ip', 'CYF_urz_model', 'CYF_urz_typ',\n",
    "       'CYF_urz_polaczenie', 'CYF_kat1', 'CYF_kat2', 'CYF_kat3', 'CYF_kat4',\n",
    "       'CYF_kat5', 'CYF_kat6', 'CYF_kat7', 'CYF_kat8', 'CYF_kat9','CYF_data_godzina',\n",
    "          'CYF_KL_strona_id','CYF_KL_aplikacja_id',\n",
    "          'CYF_KL_aplikacja_domena','CYF_KL4_aplikacja_kategoria','CYF_KL0_aplikacja_kategoria',\n",
    "          'CYF_KL_kat3', 'CYF_KL_kat4']]\n",
    "\n",
    "CORREL = df2.corr()\n",
    "print('CYF_KL_kat4',CORREL['klik'].CYF_KL_kat4)"
   ]
  },
  {
   "cell_type": "markdown",
   "metadata": {},
   "source": [
    "## 'CYF_KL2_kat6' i 'CYF_KL1_kat6'"
   ]
  },
  {
   "cell_type": "code",
   "execution_count": 96,
   "metadata": {},
   "outputs": [
    {
     "name": "stdout",
     "output_type": "stream",
     "text": [
      "CYF_KL1_kat6 -0.10218298193738169\n",
      "CYF_KL2_kat6 0.1534471638575612\n"
     ]
    }
   ],
   "source": [
    "df['CYF_KL1_kat6']=df['CYF_kat6'].apply(lambda x: 1 if x == 1 else 0)\n",
    "df['CYF_KL2_kat6']=df['CYF_kat6'].apply(lambda x: 1 if x == 2 else 0)\n",
    "\n",
    "df2 = df[['klik', 'CYF_baner_pozycja',\n",
    "       'CYF_strona_id', 'CYF_strona_domena', 'CYF_strona_kategoria',\n",
    "       'CYF_aplikacja_id', 'CYF_aplikacja_domena', 'CYF_aplikacja_kategoria',\n",
    "       'CYF_urz_id', 'CYF_urz_ip', 'CYF_urz_model', 'CYF_urz_typ',\n",
    "       'CYF_urz_polaczenie', 'CYF_kat1', 'CYF_kat2', 'CYF_kat3', 'CYF_kat4',\n",
    "       'CYF_kat5', 'CYF_kat6', 'CYF_kat7', 'CYF_kat8', 'CYF_kat9','CYF_data_godzina',\n",
    "          'CYF_KL_strona_id','CYF_KL_aplikacja_id',\n",
    "          'CYF_KL_aplikacja_domena','CYF_KL4_aplikacja_kategoria','CYF_KL0_aplikacja_kategoria',\n",
    "          'CYF_KL_kat3', 'CYF_KL_kat4', 'CYF_KL1_kat6','CYF_KL2_kat6']]\n",
    "\n",
    "CORREL = df2.corr()\n",
    "print('CYF_KL1_kat6',CORREL['klik'].CYF_KL1_kat6)\n",
    "print('CYF_KL2_kat6',CORREL['klik'].CYF_KL2_kat6)"
   ]
  },
  {
   "cell_type": "markdown",
   "metadata": {},
   "source": [
    "## 'CYF_KL1_kat9'  'CYF_KL2_kat9'   'CYF_KL3_kat9'"
   ]
  },
  {
   "cell_type": "code",
   "execution_count": 97,
   "metadata": {},
   "outputs": [
    {
     "name": "stdout",
     "output_type": "stream",
     "text": [
      "CYF_KL1_kat9 -0.12405646631743822\n",
      "CYF_KL2_kat9 -0.07786683141308312\n",
      "CYF_KL3_kat9 0.05921268025317734\n"
     ]
    }
   ],
   "source": [
    "df['CYF_KL1_kat9']=df['CYF_kat9'].apply(lambda x: 1 if x >= 5 and x >= 9  else 0)\n",
    "df['CYF_KL2_kat9']=df['CYF_kat9'].apply(lambda x: 1 if x >= 14 and x >= 18  else 0)\n",
    "df['CYF_KL3_kat9']=df['CYF_kat9'].apply(lambda x: 1 if x == 6   else 0)\n",
    "\n",
    "\n",
    "df2 = df[['klik', 'CYF_baner_pozycja',\n",
    "       'CYF_strona_id', 'CYF_strona_domena', 'CYF_strona_kategoria',\n",
    "       'CYF_aplikacja_id', 'CYF_aplikacja_domena', 'CYF_aplikacja_kategoria',\n",
    "       'CYF_urz_id', 'CYF_urz_ip', 'CYF_urz_model', 'CYF_urz_typ',\n",
    "       'CYF_urz_polaczenie', 'CYF_kat1', 'CYF_kat2', 'CYF_kat3', 'CYF_kat4',\n",
    "       'CYF_kat5', 'CYF_kat6', 'CYF_kat7', 'CYF_kat8', 'CYF_kat9','CYF_data_godzina',\n",
    "          'CYF_KL_strona_id','CYF_KL_aplikacja_id',\n",
    "          'CYF_KL_aplikacja_domena','CYF_KL4_aplikacja_kategoria','CYF_KL0_aplikacja_kategoria',\n",
    "          'CYF_KL_kat3', 'CYF_KL_kat4', 'CYF_KL1_kat6','CYF_KL2_kat6',\n",
    "          'CYF_KL1_kat9','CYF_KL2_kat9', 'CYF_KL3_kat9']]\n",
    "\n",
    "CORREL = df2.corr()\n",
    "print('CYF_KL1_kat9',CORREL['klik'].CYF_KL1_kat9)\n",
    "print('CYF_KL2_kat9',CORREL['klik'].CYF_KL2_kat9)\n",
    "print('CYF_KL3_kat9',CORREL['klik'].CYF_KL3_kat9)\n"
   ]
  },
  {
   "cell_type": "markdown",
   "metadata": {},
   "source": [
    "## 'CYF_KL1_kat7'"
   ]
  },
  {
   "cell_type": "code",
   "execution_count": 98,
   "metadata": {},
   "outputs": [
    {
     "name": "stdout",
     "output_type": "stream",
     "text": [
      "CYF_KL1_kat7 -0.0680951307027209\n"
     ]
    }
   ],
   "source": [
    "df['CYF_KL1_kat7']=df['CYF_kat7'].apply(lambda x: 1 if x >= 8 and x <= 12  else 0)\n",
    "\n",
    "df2 = df[['klik', 'CYF_baner_pozycja',\n",
    "       'CYF_strona_id', 'CYF_strona_domena', 'CYF_strona_kategoria',\n",
    "       'CYF_aplikacja_id', 'CYF_aplikacja_domena', 'CYF_aplikacja_kategoria',\n",
    "       'CYF_urz_id', 'CYF_urz_ip', 'CYF_urz_model', 'CYF_urz_typ',\n",
    "       'CYF_urz_polaczenie', 'CYF_kat1', 'CYF_kat2', 'CYF_kat3', 'CYF_kat4',\n",
    "       'CYF_kat5', 'CYF_kat6', 'CYF_kat7', 'CYF_kat8', 'CYF_kat9','CYF_data_godzina',\n",
    "          'CYF_KL_strona_id','CYF_KL_aplikacja_id',\n",
    "          'CYF_KL_aplikacja_domena','CYF_KL4_aplikacja_kategoria','CYF_KL0_aplikacja_kategoria',\n",
    "          'CYF_KL_kat3', 'CYF_KL_kat4', 'CYF_KL1_kat6','CYF_KL2_kat6','CYF_KL1_kat7']]\n",
    "\n",
    "CORREL = df2.corr()\n",
    "print('CYF_KL1_kat7',CORREL['klik'].CYF_KL1_kat7)\n"
   ]
  },
  {
   "cell_type": "code",
   "execution_count": 99,
   "metadata": {},
   "outputs": [],
   "source": [
    "df2 = df[['klik', 'CYF_baner_pozycja',\n",
    "       'CYF_strona_id', 'CYF_strona_domena', 'CYF_strona_kategoria',\n",
    "       'CYF_aplikacja_id', 'CYF_aplikacja_domena', 'CYF_aplikacja_kategoria',\n",
    "       'CYF_urz_id', 'CYF_urz_ip', 'CYF_urz_model', 'CYF_urz_typ',\n",
    "       'CYF_urz_polaczenie', 'CYF_kat1', 'CYF_kat2', 'CYF_kat3', 'CYF_kat4',\n",
    "       'CYF_kat5', 'CYF_kat6', 'CYF_kat7', 'CYF_kat8', 'CYF_kat9','CYF_data_godzina',\n",
    "          'CYF_KL_strona_id','CYF_KL_aplikacja_id',\n",
    "          'CYF_KL_aplikacja_domena','CYF_KL4_aplikacja_kategoria','CYF_KL0_aplikacja_kategoria',\n",
    "          'CYF_KL_kat3', 'CYF_KL_kat4', 'CYF_KL1_kat6','CYF_KL2_kat6',\n",
    "          'CYF_KL1_kat9','CYF_KL2_kat9', 'CYF_KL3_kat9','CYF_KL1_kat7']]"
   ]
  },
  {
   "cell_type": "code",
   "execution_count": null,
   "metadata": {},
   "outputs": [],
   "source": []
  },
  {
   "cell_type": "code",
   "execution_count": 100,
   "metadata": {},
   "outputs": [
    {
     "data": {
      "text/html": [
       "<div>\n",
       "<style scoped>\n",
       "    .dataframe tbody tr th:only-of-type {\n",
       "        vertical-align: middle;\n",
       "    }\n",
       "\n",
       "    .dataframe tbody tr th {\n",
       "        vertical-align: top;\n",
       "    }\n",
       "\n",
       "    .dataframe thead th {\n",
       "        text-align: right;\n",
       "    }\n",
       "</style>\n",
       "<table border=\"1\" class=\"dataframe\">\n",
       "  <thead>\n",
       "    <tr style=\"text-align: right;\">\n",
       "      <th></th>\n",
       "      <th>klik</th>\n",
       "    </tr>\n",
       "  </thead>\n",
       "  <tbody>\n",
       "    <tr>\n",
       "      <td>CYF_KL1_kat9</td>\n",
       "      <td>-0.124056</td>\n",
       "    </tr>\n",
       "    <tr>\n",
       "      <td>CYF_KL_kat4</td>\n",
       "      <td>-0.123912</td>\n",
       "    </tr>\n",
       "    <tr>\n",
       "      <td>CYF_KL_strona_id</td>\n",
       "      <td>-0.113588</td>\n",
       "    </tr>\n",
       "    <tr>\n",
       "      <td>CYF_KL_kat3</td>\n",
       "      <td>-0.110713</td>\n",
       "    </tr>\n",
       "    <tr>\n",
       "      <td>CYF_KL1_kat6</td>\n",
       "      <td>-0.102183</td>\n",
       "    </tr>\n",
       "    <tr>\n",
       "      <td>CYF_kat3</td>\n",
       "      <td>-0.091988</td>\n",
       "    </tr>\n",
       "    <tr>\n",
       "      <td>CYF_KL4_aplikacja_kategoria</td>\n",
       "      <td>-0.088653</td>\n",
       "    </tr>\n",
       "    <tr>\n",
       "      <td>CYF_urz_polaczenie</td>\n",
       "      <td>-0.083849</td>\n",
       "    </tr>\n",
       "    <tr>\n",
       "      <td>CYF_KL2_kat9</td>\n",
       "      <td>-0.077867</td>\n",
       "    </tr>\n",
       "    <tr>\n",
       "      <td>CYF_kat8</td>\n",
       "      <td>-0.074104</td>\n",
       "    </tr>\n",
       "    <tr>\n",
       "      <td>CYF_kat9</td>\n",
       "      <td>-0.073574</td>\n",
       "    </tr>\n",
       "    <tr>\n",
       "      <td>CYF_kat2</td>\n",
       "      <td>-0.070032</td>\n",
       "    </tr>\n",
       "    <tr>\n",
       "      <td>CYF_KL1_kat7</td>\n",
       "      <td>-0.068095</td>\n",
       "    </tr>\n",
       "    <tr>\n",
       "      <td>CYF_kat5</td>\n",
       "      <td>-0.065577</td>\n",
       "    </tr>\n",
       "    <tr>\n",
       "      <td>CYF_aplikacja_kategoria</td>\n",
       "      <td>-0.059226</td>\n",
       "    </tr>\n",
       "    <tr>\n",
       "      <td>CYF_strona_domena</td>\n",
       "      <td>-0.039422</td>\n",
       "    </tr>\n",
       "    <tr>\n",
       "      <td>CYF_urz_typ</td>\n",
       "      <td>-0.038625</td>\n",
       "    </tr>\n",
       "    <tr>\n",
       "      <td>CYF_kat1</td>\n",
       "      <td>-0.036441</td>\n",
       "    </tr>\n",
       "    <tr>\n",
       "      <td>CYF_aplikacja_domena</td>\n",
       "      <td>-0.009856</td>\n",
       "    </tr>\n",
       "    <tr>\n",
       "      <td>CYF_data_godzina</td>\n",
       "      <td>-0.008728</td>\n",
       "    </tr>\n",
       "    <tr>\n",
       "      <td>CYF_strona_id</td>\n",
       "      <td>-0.008688</td>\n",
       "    </tr>\n",
       "    <tr>\n",
       "      <td>CYF_strona_kategoria</td>\n",
       "      <td>-0.004450</td>\n",
       "    </tr>\n",
       "    <tr>\n",
       "      <td>CYF_kat7</td>\n",
       "      <td>-0.003554</td>\n",
       "    </tr>\n",
       "    <tr>\n",
       "      <td>CYF_urz_model</td>\n",
       "      <td>-0.001227</td>\n",
       "    </tr>\n",
       "    <tr>\n",
       "      <td>CYF_urz_ip</td>\n",
       "      <td>0.000643</td>\n",
       "    </tr>\n",
       "    <tr>\n",
       "      <td>CYF_urz_id</td>\n",
       "      <td>0.011541</td>\n",
       "    </tr>\n",
       "    <tr>\n",
       "      <td>CYF_kat6</td>\n",
       "      <td>0.023867</td>\n",
       "    </tr>\n",
       "    <tr>\n",
       "      <td>CYF_baner_pozycja</td>\n",
       "      <td>0.023893</td>\n",
       "    </tr>\n",
       "    <tr>\n",
       "      <td>CYF_KL3_kat9</td>\n",
       "      <td>0.059213</td>\n",
       "    </tr>\n",
       "    <tr>\n",
       "      <td>CYF_aplikacja_id</td>\n",
       "      <td>0.069334</td>\n",
       "    </tr>\n",
       "    <tr>\n",
       "      <td>CYF_KL_aplikacja_domena</td>\n",
       "      <td>0.096371</td>\n",
       "    </tr>\n",
       "    <tr>\n",
       "      <td>CYF_KL_aplikacja_id</td>\n",
       "      <td>0.102476</td>\n",
       "    </tr>\n",
       "    <tr>\n",
       "      <td>CYF_KL0_aplikacja_kategoria</td>\n",
       "      <td>0.106738</td>\n",
       "    </tr>\n",
       "    <tr>\n",
       "      <td>CYF_kat4</td>\n",
       "      <td>0.130326</td>\n",
       "    </tr>\n",
       "    <tr>\n",
       "      <td>CYF_KL2_kat6</td>\n",
       "      <td>0.153447</td>\n",
       "    </tr>\n",
       "    <tr>\n",
       "      <td>klik</td>\n",
       "      <td>1.000000</td>\n",
       "    </tr>\n",
       "  </tbody>\n",
       "</table>\n",
       "</div>"
      ],
      "text/plain": [
       "                                 klik\n",
       "CYF_KL1_kat9                -0.124056\n",
       "CYF_KL_kat4                 -0.123912\n",
       "CYF_KL_strona_id            -0.113588\n",
       "CYF_KL_kat3                 -0.110713\n",
       "CYF_KL1_kat6                -0.102183\n",
       "CYF_kat3                    -0.091988\n",
       "CYF_KL4_aplikacja_kategoria -0.088653\n",
       "CYF_urz_polaczenie          -0.083849\n",
       "CYF_KL2_kat9                -0.077867\n",
       "CYF_kat8                    -0.074104\n",
       "CYF_kat9                    -0.073574\n",
       "CYF_kat2                    -0.070032\n",
       "CYF_KL1_kat7                -0.068095\n",
       "CYF_kat5                    -0.065577\n",
       "CYF_aplikacja_kategoria     -0.059226\n",
       "CYF_strona_domena           -0.039422\n",
       "CYF_urz_typ                 -0.038625\n",
       "CYF_kat1                    -0.036441\n",
       "CYF_aplikacja_domena        -0.009856\n",
       "CYF_data_godzina            -0.008728\n",
       "CYF_strona_id               -0.008688\n",
       "CYF_strona_kategoria        -0.004450\n",
       "CYF_kat7                    -0.003554\n",
       "CYF_urz_model               -0.001227\n",
       "CYF_urz_ip                   0.000643\n",
       "CYF_urz_id                   0.011541\n",
       "CYF_kat6                     0.023867\n",
       "CYF_baner_pozycja            0.023893\n",
       "CYF_KL3_kat9                 0.059213\n",
       "CYF_aplikacja_id             0.069334\n",
       "CYF_KL_aplikacja_domena      0.096371\n",
       "CYF_KL_aplikacja_id          0.102476\n",
       "CYF_KL0_aplikacja_kategoria  0.106738\n",
       "CYF_kat4                     0.130326\n",
       "CYF_KL2_kat6                 0.153447\n",
       "klik                         1.000000"
      ]
     },
     "execution_count": 100,
     "metadata": {},
     "output_type": "execute_result"
    }
   ],
   "source": [
    "import matplotlib.pyplot as plt\n",
    "\n",
    "CORREL = df2.corr().sort_values('klik')\n",
    "CORREL['klik'].to_frame().sort_values('klik')"
   ]
  },
  {
   "cell_type": "markdown",
   "metadata": {},
   "source": [
    "# <span style=\"color:pink\">Tworze 10 zmiennych syntetycznych"
   ]
  },
  {
   "cell_type": "code",
   "execution_count": 101,
   "metadata": {},
   "outputs": [
    {
     "data": {
      "text/plain": [
       "-0.12833517052334034"
      ]
     },
     "execution_count": 101,
     "metadata": {},
     "output_type": "execute_result"
    }
   ],
   "source": [
    "df['NZS1']= ((df['CYF_kat4']+df['CYF_KL2_kat6'])/df['CYF_kat4'])*-1\n",
    "df2 = df[['klik', 'CYF_baner_pozycja',\n",
    "       'CYF_strona_id', 'CYF_strona_domena', 'CYF_strona_kategoria',\n",
    "       'CYF_aplikacja_id', 'CYF_aplikacja_domena', 'CYF_aplikacja_kategoria',\n",
    "       'CYF_urz_id', 'CYF_urz_ip', 'CYF_urz_model', 'CYF_urz_typ',\n",
    "       'CYF_urz_polaczenie', 'CYF_kat1', 'CYF_kat2', 'CYF_kat3', 'CYF_kat4',\n",
    "       'CYF_kat5', 'CYF_kat6', 'CYF_kat7', 'CYF_kat8', 'CYF_kat9','CYF_data_godzina',\n",
    "          'CYF_KL_strona_id','CYF_KL_aplikacja_id',\n",
    "          'CYF_KL_aplikacja_domena','CYF_KL4_aplikacja_kategoria','CYF_KL0_aplikacja_kategoria',\n",
    "          'CYF_KL_kat3', 'CYF_KL_kat4', 'CYF_KL1_kat6','CYF_KL2_kat6',\n",
    "          'CYF_KL1_kat9','CYF_KL2_kat9', 'CYF_KL3_kat9','CYF_KL1_kat7',\n",
    "          'NZS1']]\n",
    "\n",
    "# Dyskretyzacja zmiennej NZS1\n",
    "df['NZS1'] = pd.Categorical(df['NZS1']).codes\n",
    "\n",
    "CORREL = df2.corr()\n",
    "CORREL['klik'].NZS1"
   ]
  },
  {
   "cell_type": "code",
   "execution_count": 102,
   "metadata": {},
   "outputs": [
    {
     "data": {
      "text/plain": [
       " 7    2989565\n",
       " 1     502667\n",
       " 3     126852\n",
       "-1        290\n",
       " 0        179\n",
       " 5         43\n",
       " 2         16\n",
       " 4          8\n",
       " 6          1\n",
       "Name: NZS1, dtype: int64"
      ]
     },
     "execution_count": 102,
     "metadata": {},
     "output_type": "execute_result"
    }
   ],
   "source": [
    "df['NZS1'].value_counts()"
   ]
  },
  {
   "cell_type": "markdown",
   "metadata": {},
   "source": [
    "#### Dyskretyzacja zmiennej NZS1"
   ]
  },
  {
   "cell_type": "code",
   "execution_count": 103,
   "metadata": {},
   "outputs": [
    {
     "data": {
      "text/plain": [
       "-0.1379717807387786"
      ]
     },
     "execution_count": 103,
     "metadata": {},
     "output_type": "execute_result"
    }
   ],
   "source": [
    "df['NZS2']=(((df['CYF_KL1_kat6']+df['CYF_kat4'])*df['CYF_KL1_kat9']))/df['CYF_KL_strona_id']\n",
    "\n",
    "df2 = df[['klik', 'CYF_baner_pozycja',\n",
    "       'CYF_strona_id', 'CYF_strona_domena', 'CYF_strona_kategoria',\n",
    "       'CYF_aplikacja_id', 'CYF_aplikacja_domena', 'CYF_aplikacja_kategoria',\n",
    "       'CYF_urz_id', 'CYF_urz_ip', 'CYF_urz_model', 'CYF_urz_typ',\n",
    "       'CYF_urz_polaczenie', 'CYF_kat1', 'CYF_kat2', 'CYF_kat3', 'CYF_kat4',\n",
    "       'CYF_kat5', 'CYF_kat6', 'CYF_kat7', 'CYF_kat8', 'CYF_kat9','CYF_data_godzina',\n",
    "          'CYF_KL_strona_id','CYF_KL_aplikacja_id',\n",
    "          'CYF_KL_aplikacja_domena','CYF_KL4_aplikacja_kategoria','CYF_KL0_aplikacja_kategoria',\n",
    "          'CYF_KL_kat3', 'CYF_KL_kat4', 'CYF_KL1_kat6','CYF_KL2_kat6','CYF_KL1_kat7',\n",
    "          'NZS1','NZS2']]\n",
    "\n",
    "# Dyskretyzacja zmiennej NZS2\n",
    "df['NZS2'] = pd.Categorical(df['NZS2']).codes\n",
    "\n",
    "CORREL = df2.corr()\n",
    "CORREL['klik'].NZS2"
   ]
  },
  {
   "cell_type": "code",
   "execution_count": 104,
   "metadata": {},
   "outputs": [
    {
     "data": {
      "text/plain": [
       " 9    1427617\n",
       "-1     848258\n",
       " 2     704339\n",
       " 0     388492\n",
       " 3     233457\n",
       " 6       9511\n",
       " 4       4425\n",
       " 1       2664\n",
       " 7        353\n",
       " 5        347\n",
       " 8        158\n",
       "Name: NZS2, dtype: int64"
      ]
     },
     "execution_count": 104,
     "metadata": {},
     "output_type": "execute_result"
    }
   ],
   "source": [
    "df['NZS2'].value_counts()"
   ]
  },
  {
   "cell_type": "code",
   "execution_count": 105,
   "metadata": {},
   "outputs": [
    {
     "data": {
      "text/plain": [
       "0.15344716386955717"
      ]
     },
     "execution_count": 105,
     "metadata": {},
     "output_type": "execute_result"
    }
   ],
   "source": [
    "df['NZS3']= np.sin(df['CYF_KL2_kat6'])\n",
    "df2 = df[['klik', 'CYF_baner_pozycja',\n",
    "       'CYF_strona_id', 'CYF_strona_domena', 'CYF_strona_kategoria',\n",
    "       'CYF_aplikacja_id', 'CYF_aplikacja_domena', 'CYF_aplikacja_kategoria',\n",
    "       'CYF_urz_id', 'CYF_urz_ip', 'CYF_urz_model', 'CYF_urz_typ',\n",
    "       'CYF_urz_polaczenie', 'CYF_kat1', 'CYF_kat2', 'CYF_kat3', 'CYF_kat4',\n",
    "       'CYF_kat5', 'CYF_kat6', 'CYF_kat7', 'CYF_kat8', 'CYF_kat9','CYF_data_godzina',\n",
    "          'CYF_KL_strona_id','CYF_KL_aplikacja_id',\n",
    "          'CYF_KL_aplikacja_domena','CYF_KL4_aplikacja_kategoria','CYF_KL0_aplikacja_kategoria',\n",
    "          'CYF_KL_kat3', 'CYF_KL_kat4', 'CYF_KL1_kat6','CYF_KL2_kat6','CYF_KL1_kat7',\n",
    "          'NZS1','NZS2','NZS3']]\n",
    "\n",
    "# Dyskretyzacja zmiennej NZS3\n",
    "df['NZS3'] = pd.Categorical(df['NZS3']).codes\n",
    "\n",
    "CORREL = df2.corr()\n",
    "CORREL['klik'].NZS3"
   ]
  },
  {
   "cell_type": "code",
   "execution_count": 106,
   "metadata": {},
   "outputs": [
    {
     "data": {
      "text/plain": [
       "0    2989855\n",
       "1     629766\n",
       "Name: NZS3, dtype: int64"
      ]
     },
     "execution_count": 106,
     "metadata": {},
     "output_type": "execute_result"
    }
   ],
   "source": [
    "df['NZS3'].value_counts()"
   ]
  },
  {
   "cell_type": "code",
   "execution_count": 107,
   "metadata": {},
   "outputs": [
    {
     "data": {
      "text/plain": [
       "-0.17036863936193763"
      ]
     },
     "execution_count": 107,
     "metadata": {},
     "output_type": "execute_result"
    }
   ],
   "source": [
    "df['NZS4']= np.sin(df['CYF_KL_kat4'])/df['CYF_KL2_kat6']\n",
    "\n",
    "df2 = df[['klik', 'CYF_baner_pozycja',\n",
    "       'CYF_strona_id', 'CYF_strona_domena', 'CYF_strona_kategoria',\n",
    "       'CYF_aplikacja_id', 'CYF_aplikacja_domena', 'CYF_aplikacja_kategoria',\n",
    "       'CYF_urz_id', 'CYF_urz_ip', 'CYF_urz_model', 'CYF_urz_typ',\n",
    "       'CYF_urz_polaczenie', 'CYF_kat1', 'CYF_kat2', 'CYF_kat3', 'CYF_kat4',\n",
    "       'CYF_kat5', 'CYF_kat6', 'CYF_kat7', 'CYF_kat8', 'CYF_kat9','CYF_data_godzina',\n",
    "          'CYF_KL_strona_id','CYF_KL_aplikacja_id',\n",
    "          'CYF_KL_aplikacja_domena','CYF_KL4_aplikacja_kategoria','CYF_KL0_aplikacja_kategoria',\n",
    "          'CYF_KL_kat3', 'CYF_KL_kat4', 'CYF_KL1_kat6','CYF_KL2_kat6','CYF_KL1_kat7',\n",
    "          'NZS1','NZS2','NZS3','NZS4']]\n",
    "\n",
    "# Dyskretyzacja zmiennej NZS4\n",
    "df['NZS4'] = pd.Categorical(df['NZS4']).codes\n",
    "\n",
    "CORREL = df2.corr()\n",
    "CORREL['klik'].NZS4"
   ]
  },
  {
   "cell_type": "code",
   "execution_count": 108,
   "metadata": {},
   "outputs": [
    {
     "data": {
      "text/plain": [
       " 2    2908541\n",
       " 1     502667\n",
       " 0     127099\n",
       "-1      81314\n",
       "Name: NZS4, dtype: int64"
      ]
     },
     "execution_count": 108,
     "metadata": {},
     "output_type": "execute_result"
    }
   ],
   "source": [
    "df['NZS4'].value_counts()"
   ]
  },
  {
   "cell_type": "code",
   "execution_count": 109,
   "metadata": {},
   "outputs": [
    {
     "data": {
      "text/plain": [
       "-0.19847848685711444"
      ]
     },
     "execution_count": 109,
     "metadata": {},
     "output_type": "execute_result"
    }
   ],
   "source": [
    "df['NZS5']= np.sin(df['CYF_KL_kat4'])/df['CYF_KL3_kat9']\n",
    "\n",
    "df2 = df[['klik', 'CYF_baner_pozycja',\n",
    "       'CYF_strona_id', 'CYF_strona_domena', 'CYF_strona_kategoria',\n",
    "       'CYF_aplikacja_id', 'CYF_aplikacja_domena', 'CYF_aplikacja_kategoria',\n",
    "       'CYF_urz_id', 'CYF_urz_ip', 'CYF_urz_model', 'CYF_urz_typ',\n",
    "       'CYF_urz_polaczenie', 'CYF_kat1', 'CYF_kat2', 'CYF_kat3', 'CYF_kat4',\n",
    "       'CYF_kat5', 'CYF_kat6', 'CYF_kat7', 'CYF_kat8', 'CYF_kat9','CYF_data_godzina',\n",
    "          'CYF_KL_strona_id','CYF_KL_aplikacja_id',\n",
    "          'CYF_KL_aplikacja_domena','CYF_KL4_aplikacja_kategoria','CYF_KL0_aplikacja_kategoria',\n",
    "          'CYF_KL_kat3', 'CYF_KL_kat4', 'CYF_KL1_kat6','CYF_KL2_kat6',\n",
    "          'CYF_KL1_kat9','CYF_KL2_kat9', 'CYF_KL3_kat9','CYF_KL1_kat7',\n",
    "          'NZS1','NZS2','NZS3','NZS4','NZS5']]\n",
    "\n",
    "# Dyskretyzacja zmiennej NZS5\n",
    "df['NZS5'] = pd.Categorical(df['NZS5']).codes\n",
    "\n",
    "CORREL = df2.corr()\n",
    "CORREL['klik'].NZS5\n"
   ]
  },
  {
   "cell_type": "code",
   "execution_count": 110,
   "metadata": {},
   "outputs": [
    {
     "data": {
      "text/plain": [
       " 2    2684744\n",
       " 1     726464\n",
       "-1     149772\n",
       " 0      58641\n",
       "Name: NZS5, dtype: int64"
      ]
     },
     "execution_count": 110,
     "metadata": {},
     "output_type": "execute_result"
    }
   ],
   "source": [
    "df['NZS5'].value_counts()"
   ]
  },
  {
   "cell_type": "code",
   "execution_count": 111,
   "metadata": {},
   "outputs": [
    {
     "name": "stderr",
     "output_type": "stream",
     "text": [
      "/home/wojciech/anaconda3/lib/python3.7/site-packages/pandas/core/series.py:853: RuntimeWarning: invalid value encountered in cosh\n",
      "  result = getattr(ufunc, method)(*inputs, **kwargs)\n"
     ]
    },
    {
     "data": {
      "text/plain": [
       "0.13366444883938147"
      ]
     },
     "execution_count": 111,
     "metadata": {},
     "output_type": "execute_result"
    }
   ],
   "source": [
    "df['NZS6']= np.cosh(df['CYF_KL0_aplikacja_kategoria']/df['CYF_KL2_kat9'])**2\n",
    "\n",
    "df2 = df[['klik', 'CYF_baner_pozycja',\n",
    "       'CYF_strona_id', 'CYF_strona_domena', 'CYF_strona_kategoria',\n",
    "       'CYF_aplikacja_id', 'CYF_aplikacja_domena', 'CYF_aplikacja_kategoria',\n",
    "       'CYF_urz_id', 'CYF_urz_ip', 'CYF_urz_model', 'CYF_urz_typ',\n",
    "       'CYF_urz_polaczenie', 'CYF_kat1', 'CYF_kat2', 'CYF_kat3', 'CYF_kat4',\n",
    "       'CYF_kat5', 'CYF_kat6', 'CYF_kat7', 'CYF_kat8', 'CYF_kat9','CYF_data_godzina',\n",
    "          'CYF_KL_strona_id','CYF_KL_aplikacja_id',\n",
    "          'CYF_KL_aplikacja_domena','CYF_KL4_aplikacja_kategoria','CYF_KL0_aplikacja_kategoria',\n",
    "          'CYF_KL_kat3', 'CYF_KL_kat4', 'CYF_KL1_kat6','CYF_KL2_kat6',\n",
    "          'CYF_KL1_kat9','CYF_KL2_kat9', 'CYF_KL3_kat9','CYF_KL1_kat7',\n",
    "          'NZS1','NZS2','NZS3','NZS4','NZS5','NZS6']]\n",
    "\n",
    "# Dyskretyzacja zmiennej NZS6\n",
    "df['NZS6'] = pd.Categorical(df['NZS6']).codes\n",
    "\n",
    "CORREL = df2.corr()\n",
    "CORREL['klik'].NZS6"
   ]
  },
  {
   "cell_type": "code",
   "execution_count": 112,
   "metadata": {},
   "outputs": [
    {
     "data": {
      "text/plain": [
       " 2    1364699\n",
       " 1    1021823\n",
       "-1     644148\n",
       " 0     588951\n",
       "Name: NZS6, dtype: int64"
      ]
     },
     "execution_count": 112,
     "metadata": {},
     "output_type": "execute_result"
    }
   ],
   "source": [
    "df['NZS6'].value_counts()"
   ]
  },
  {
   "cell_type": "code",
   "execution_count": 113,
   "metadata": {},
   "outputs": [
    {
     "data": {
      "text/plain": [
       "-0.1847615940205558"
      ]
     },
     "execution_count": 113,
     "metadata": {},
     "output_type": "execute_result"
    }
   ],
   "source": [
    "df['NZS7']= (df['CYF_KL_kat4']+df['CYF_KL1_kat9']+df['CYF_KL_strona_id']+df['CYF_KL_kat3'])  \n",
    "\n",
    "df2 = df[['klik', 'CYF_baner_pozycja',\n",
    "       'CYF_strona_id', 'CYF_strona_domena', 'CYF_strona_kategoria',\n",
    "       'CYF_aplikacja_id', 'CYF_aplikacja_domena', 'CYF_aplikacja_kategoria',\n",
    "       'CYF_urz_id', 'CYF_urz_ip', 'CYF_urz_model', 'CYF_urz_typ',\n",
    "       'CYF_urz_polaczenie', 'CYF_kat1', 'CYF_kat2', 'CYF_kat3', 'CYF_kat4',\n",
    "       'CYF_kat5', 'CYF_kat6', 'CYF_kat7', 'CYF_kat8', 'CYF_kat9','CYF_data_godzina',\n",
    "          'CYF_KL_strona_id','CYF_KL_aplikacja_id',\n",
    "          'CYF_KL_aplikacja_domena','CYF_KL4_aplikacja_kategoria','CYF_KL0_aplikacja_kategoria',\n",
    "          'CYF_KL_kat3', 'CYF_KL_kat4', 'CYF_KL1_kat6','CYF_KL2_kat6',\n",
    "          'CYF_KL1_kat9','CYF_KL2_kat9', 'CYF_KL3_kat9','CYF_KL1_kat7',\n",
    "          'NZS1','NZS2','NZS3','NZS4','NZS5','NZS6','NZS7']]\n",
    "\n",
    "# Dyskretyzacja zmiennej NZS7\n",
    "df['NZS7'] = pd.Categorical(df['NZS7']).codes\n",
    "\n",
    "CORREL = df2.corr()\n",
    "CORREL['klik'].NZS7"
   ]
  },
  {
   "cell_type": "code",
   "execution_count": 114,
   "metadata": {},
   "outputs": [
    {
     "data": {
      "text/plain": [
       "3    1761409\n",
       "4     921179\n",
       "2     738179\n",
       "0     131277\n",
       "1      67577\n",
       "Name: NZS7, dtype: int64"
      ]
     },
     "execution_count": 114,
     "metadata": {},
     "output_type": "execute_result"
    }
   ],
   "source": [
    "df['NZS7'].value_counts()"
   ]
  },
  {
   "cell_type": "code",
   "execution_count": 115,
   "metadata": {},
   "outputs": [
    {
     "data": {
      "text/plain": [
       "-0.16147366409757155"
      ]
     },
     "execution_count": 115,
     "metadata": {},
     "output_type": "execute_result"
    }
   ],
   "source": [
    "df['NZS8']= (df['CYF_KL_kat4']+df['CYF_KL1_kat9']+df['CYF_KL_strona_id']+df['CYF_KL_kat3'])/(df['CYF_KL2_kat6']+df['CYF_kat4']+df['CYF_KL0_aplikacja_kategoria']+df['CYF_KL_aplikacja_id'])\n",
    "\n",
    "df2 = df[['klik', 'CYF_baner_pozycja',\n",
    "       'CYF_strona_id', 'CYF_strona_domena', 'CYF_strona_kategoria',\n",
    "       'CYF_aplikacja_id', 'CYF_aplikacja_domena', 'CYF_aplikacja_kategoria',\n",
    "       'CYF_urz_id', 'CYF_urz_ip', 'CYF_urz_model', 'CYF_urz_typ',\n",
    "       'CYF_urz_polaczenie', 'CYF_kat1', 'CYF_kat2', 'CYF_kat3', 'CYF_kat4',\n",
    "       'CYF_kat5', 'CYF_kat6', 'CYF_kat7', 'CYF_kat8', 'CYF_kat9','CYF_data_godzina',\n",
    "          'CYF_KL_strona_id','CYF_KL_aplikacja_id',\n",
    "          'CYF_KL_aplikacja_domena','CYF_KL4_aplikacja_kategoria','CYF_KL0_aplikacja_kategoria',\n",
    "          'CYF_KL_kat3', 'CYF_KL_kat4', 'CYF_KL1_kat6','CYF_KL2_kat6',\n",
    "          'CYF_KL1_kat9','CYF_KL2_kat9', 'CYF_KL3_kat9','CYF_KL1_kat7',\n",
    "          'NZS1','NZS2','NZS3','NZS4','NZS5','NZS6','NZS7','NZS8']]\n",
    "\n",
    "# Dyskretyzacja zmiennej NZS8\n",
    "df['NZS8'] = df['NZS8'].apply(lambda x: 0 if x == np.inf else x)\n",
    "df['NZS8'] = pd.Categorical(df['NZS8']).codes\n",
    "\n",
    "CORREL = df2.corr()\n",
    "CORREL['klik'].NZS8"
   ]
  },
  {
   "cell_type": "code",
   "execution_count": 116,
   "metadata": {},
   "outputs": [
    {
     "data": {
      "text/plain": [
       "12    1281853\n",
       "17     830461\n",
       "9      472037\n",
       "7      254327\n",
       "16     246496\n",
       "14     165905\n",
       "0      131529\n",
       "10     121596\n",
       "15      38660\n",
       "6       26145\n",
       "2       18395\n",
       "4       15541\n",
       "11       8106\n",
       "3        6579\n",
       "1        1131\n",
       "13        598\n",
       "5         243\n",
       "8          19\n",
       "Name: NZS8, dtype: int64"
      ]
     },
     "execution_count": 116,
     "metadata": {},
     "output_type": "execute_result"
    }
   ],
   "source": [
    "df['NZS8'].value_counts()\n",
    "#df[df['NZS8']==inf]"
   ]
  },
  {
   "cell_type": "code",
   "execution_count": 117,
   "metadata": {},
   "outputs": [
    {
     "data": {
      "text/plain": [
       "0.18135824609786813"
      ]
     },
     "execution_count": 117,
     "metadata": {},
     "output_type": "execute_result"
    }
   ],
   "source": [
    "df['NZS9']= ((df['CYF_KL2_kat6'])+(df['CYF_kat4'])/(df['CYF_KL0_aplikacja_kategoria']+df['CYF_KL_aplikacja_id']))\n",
    "\n",
    "df2 = df[['klik', 'CYF_baner_pozycja',\n",
    "       'CYF_strona_id', 'CYF_strona_domena', 'CYF_strona_kategoria',\n",
    "       'CYF_aplikacja_id', 'CYF_aplikacja_domena', 'CYF_aplikacja_kategoria',\n",
    "       'CYF_urz_id', 'CYF_urz_ip', 'CYF_urz_model', 'CYF_urz_typ',\n",
    "       'CYF_urz_polaczenie', 'CYF_kat1', 'CYF_kat2', 'CYF_kat3', 'CYF_kat4',\n",
    "       'CYF_kat5', 'CYF_kat6', 'CYF_kat7', 'CYF_kat8', 'CYF_kat9','CYF_data_godzina',\n",
    "          'CYF_KL_strona_id','CYF_KL_aplikacja_id',\n",
    "          'CYF_KL_aplikacja_domena','CYF_KL4_aplikacja_kategoria','CYF_KL0_aplikacja_kategoria',\n",
    "          'CYF_KL_kat3', 'CYF_KL_kat4', 'CYF_KL1_kat6','CYF_KL2_kat6',\n",
    "          'CYF_KL1_kat9','CYF_KL2_kat9', 'CYF_KL3_kat9','CYF_KL1_kat7',\n",
    "          'NZS1','NZS2','NZS3','NZS4','NZS5','NZS6','NZS7','NZS8','NZS9']]\n",
    "\n",
    "# Dyskretyzacja zmiennej NZS9\n",
    "df['NZS9'] = df['NZS9'].apply(lambda x: 0 if x == np.inf else x)\n",
    "df['NZS9'] = df['NZS9'].apply(lambda x: 0 if x < 0 else x)\n",
    "df['NZS9'] = pd.Categorical(df['NZS9']).codes\n",
    "CORREL = df2.corr()\n",
    "CORREL['klik'].NZS9"
   ]
  },
  {
   "cell_type": "code",
   "execution_count": 118,
   "metadata": {},
   "outputs": [
    {
     "data": {
      "text/plain": [
       " 2    1798710\n",
       " 0    1232885\n",
       " 4     429667\n",
       " 5     129817\n",
       " 1      26752\n",
       " 3       1354\n",
       "-1        252\n",
       " 6        155\n",
       " 7         28\n",
       " 8          1\n",
       "Name: NZS9, dtype: int64"
      ]
     },
     "execution_count": 118,
     "metadata": {},
     "output_type": "execute_result"
    }
   ],
   "source": [
    "df['NZS9'].value_counts()"
   ]
  },
  {
   "cell_type": "code",
   "execution_count": 119,
   "metadata": {},
   "outputs": [
    {
     "data": {
      "text/plain": [
       "0          0\n",
       "1          2\n",
       "2          2\n",
       "3          4\n",
       "4          0\n",
       "          ..\n",
       "3619616    0\n",
       "3619617    0\n",
       "3619618    4\n",
       "3619619    0\n",
       "3619620    0\n",
       "Name: NZS9, Length: 3619621, dtype: object"
      ]
     },
     "execution_count": 119,
     "metadata": {},
     "output_type": "execute_result"
    }
   ],
   "source": [
    "df['NZS9'].dtypes\n",
    "df['NZS9'].astype(str)\n",
    "#df['NZS9'].astype(int)"
   ]
  },
  {
   "cell_type": "code",
   "execution_count": 120,
   "metadata": {},
   "outputs": [
    {
     "data": {
      "text/html": [
       "<div>\n",
       "<style scoped>\n",
       "    .dataframe tbody tr th:only-of-type {\n",
       "        vertical-align: middle;\n",
       "    }\n",
       "\n",
       "    .dataframe tbody tr th {\n",
       "        vertical-align: top;\n",
       "    }\n",
       "\n",
       "    .dataframe thead th {\n",
       "        text-align: right;\n",
       "    }\n",
       "</style>\n",
       "<table border=\"1\" class=\"dataframe\">\n",
       "  <thead>\n",
       "    <tr style=\"text-align: right;\">\n",
       "      <th></th>\n",
       "      <th>klik</th>\n",
       "    </tr>\n",
       "  </thead>\n",
       "  <tbody>\n",
       "    <tr>\n",
       "      <td>NZS8</td>\n",
       "      <td>-0.185857</td>\n",
       "    </tr>\n",
       "    <tr>\n",
       "      <td>NZS7</td>\n",
       "      <td>-0.184762</td>\n",
       "    </tr>\n",
       "    <tr>\n",
       "      <td>NZS4</td>\n",
       "      <td>-0.145134</td>\n",
       "    </tr>\n",
       "    <tr>\n",
       "      <td>NZS1</td>\n",
       "      <td>-0.137916</td>\n",
       "    </tr>\n",
       "    <tr>\n",
       "      <td>CYF_KL1_kat9</td>\n",
       "      <td>-0.124056</td>\n",
       "    </tr>\n",
       "    <tr>\n",
       "      <td>CYF_KL_kat4</td>\n",
       "      <td>-0.123912</td>\n",
       "    </tr>\n",
       "    <tr>\n",
       "      <td>NZS5</td>\n",
       "      <td>-0.115781</td>\n",
       "    </tr>\n",
       "    <tr>\n",
       "      <td>CYF_KL_strona_id</td>\n",
       "      <td>-0.113588</td>\n",
       "    </tr>\n",
       "    <tr>\n",
       "      <td>CYF_KL_kat3</td>\n",
       "      <td>-0.110713</td>\n",
       "    </tr>\n",
       "    <tr>\n",
       "      <td>CYF_KL1_kat6</td>\n",
       "      <td>-0.102183</td>\n",
       "    </tr>\n",
       "    <tr>\n",
       "      <td>CYF_kat3</td>\n",
       "      <td>-0.091988</td>\n",
       "    </tr>\n",
       "    <tr>\n",
       "      <td>CYF_KL4_aplikacja_kategoria</td>\n",
       "      <td>-0.088653</td>\n",
       "    </tr>\n",
       "    <tr>\n",
       "      <td>CYF_urz_polaczenie</td>\n",
       "      <td>-0.083849</td>\n",
       "    </tr>\n",
       "    <tr>\n",
       "      <td>CYF_KL2_kat9</td>\n",
       "      <td>-0.077867</td>\n",
       "    </tr>\n",
       "    <tr>\n",
       "      <td>CYF_kat8</td>\n",
       "      <td>-0.074104</td>\n",
       "    </tr>\n",
       "    <tr>\n",
       "      <td>CYF_kat9</td>\n",
       "      <td>-0.073574</td>\n",
       "    </tr>\n",
       "    <tr>\n",
       "      <td>CYF_kat2</td>\n",
       "      <td>-0.070032</td>\n",
       "    </tr>\n",
       "    <tr>\n",
       "      <td>CYF_KL1_kat7</td>\n",
       "      <td>-0.068095</td>\n",
       "    </tr>\n",
       "    <tr>\n",
       "      <td>CYF_kat5</td>\n",
       "      <td>-0.065577</td>\n",
       "    </tr>\n",
       "    <tr>\n",
       "      <td>CYF_aplikacja_kategoria</td>\n",
       "      <td>-0.059226</td>\n",
       "    </tr>\n",
       "    <tr>\n",
       "      <td>NZS2</td>\n",
       "      <td>-0.045618</td>\n",
       "    </tr>\n",
       "    <tr>\n",
       "      <td>CYF_strona_domena</td>\n",
       "      <td>-0.039422</td>\n",
       "    </tr>\n",
       "    <tr>\n",
       "      <td>CYF_urz_typ</td>\n",
       "      <td>-0.038625</td>\n",
       "    </tr>\n",
       "    <tr>\n",
       "      <td>CYF_kat1</td>\n",
       "      <td>-0.036441</td>\n",
       "    </tr>\n",
       "    <tr>\n",
       "      <td>CYF_aplikacja_domena</td>\n",
       "      <td>-0.009856</td>\n",
       "    </tr>\n",
       "    <tr>\n",
       "      <td>CYF_data_godzina</td>\n",
       "      <td>-0.008728</td>\n",
       "    </tr>\n",
       "    <tr>\n",
       "      <td>CYF_strona_id</td>\n",
       "      <td>-0.008688</td>\n",
       "    </tr>\n",
       "    <tr>\n",
       "      <td>CYF_strona_kategoria</td>\n",
       "      <td>-0.004450</td>\n",
       "    </tr>\n",
       "    <tr>\n",
       "      <td>CYF_kat7</td>\n",
       "      <td>-0.003554</td>\n",
       "    </tr>\n",
       "    <tr>\n",
       "      <td>CYF_urz_model</td>\n",
       "      <td>-0.001227</td>\n",
       "    </tr>\n",
       "    <tr>\n",
       "      <td>CYF_urz_ip</td>\n",
       "      <td>0.000643</td>\n",
       "    </tr>\n",
       "    <tr>\n",
       "      <td>CYF_urz_id</td>\n",
       "      <td>0.011541</td>\n",
       "    </tr>\n",
       "    <tr>\n",
       "      <td>CYF_kat6</td>\n",
       "      <td>0.023867</td>\n",
       "    </tr>\n",
       "    <tr>\n",
       "      <td>CYF_baner_pozycja</td>\n",
       "      <td>0.023893</td>\n",
       "    </tr>\n",
       "    <tr>\n",
       "      <td>CYF_KL3_kat9</td>\n",
       "      <td>0.059213</td>\n",
       "    </tr>\n",
       "    <tr>\n",
       "      <td>CYF_aplikacja_id</td>\n",
       "      <td>0.069334</td>\n",
       "    </tr>\n",
       "    <tr>\n",
       "      <td>CYF_KL_aplikacja_domena</td>\n",
       "      <td>0.096371</td>\n",
       "    </tr>\n",
       "    <tr>\n",
       "      <td>NZS6</td>\n",
       "      <td>0.098824</td>\n",
       "    </tr>\n",
       "    <tr>\n",
       "      <td>CYF_KL_aplikacja_id</td>\n",
       "      <td>0.102476</td>\n",
       "    </tr>\n",
       "    <tr>\n",
       "      <td>CYF_KL0_aplikacja_kategoria</td>\n",
       "      <td>0.106738</td>\n",
       "    </tr>\n",
       "    <tr>\n",
       "      <td>CYF_kat4</td>\n",
       "      <td>0.130326</td>\n",
       "    </tr>\n",
       "    <tr>\n",
       "      <td>CYF_KL2_kat6</td>\n",
       "      <td>0.153447</td>\n",
       "    </tr>\n",
       "    <tr>\n",
       "      <td>NZS3</td>\n",
       "      <td>0.153447</td>\n",
       "    </tr>\n",
       "    <tr>\n",
       "      <td>NZS9</td>\n",
       "      <td>0.181358</td>\n",
       "    </tr>\n",
       "    <tr>\n",
       "      <td>klik</td>\n",
       "      <td>1.000000</td>\n",
       "    </tr>\n",
       "  </tbody>\n",
       "</table>\n",
       "</div>"
      ],
      "text/plain": [
       "                                 klik\n",
       "NZS8                        -0.185857\n",
       "NZS7                        -0.184762\n",
       "NZS4                        -0.145134\n",
       "NZS1                        -0.137916\n",
       "CYF_KL1_kat9                -0.124056\n",
       "CYF_KL_kat4                 -0.123912\n",
       "NZS5                        -0.115781\n",
       "CYF_KL_strona_id            -0.113588\n",
       "CYF_KL_kat3                 -0.110713\n",
       "CYF_KL1_kat6                -0.102183\n",
       "CYF_kat3                    -0.091988\n",
       "CYF_KL4_aplikacja_kategoria -0.088653\n",
       "CYF_urz_polaczenie          -0.083849\n",
       "CYF_KL2_kat9                -0.077867\n",
       "CYF_kat8                    -0.074104\n",
       "CYF_kat9                    -0.073574\n",
       "CYF_kat2                    -0.070032\n",
       "CYF_KL1_kat7                -0.068095\n",
       "CYF_kat5                    -0.065577\n",
       "CYF_aplikacja_kategoria     -0.059226\n",
       "NZS2                        -0.045618\n",
       "CYF_strona_domena           -0.039422\n",
       "CYF_urz_typ                 -0.038625\n",
       "CYF_kat1                    -0.036441\n",
       "CYF_aplikacja_domena        -0.009856\n",
       "CYF_data_godzina            -0.008728\n",
       "CYF_strona_id               -0.008688\n",
       "CYF_strona_kategoria        -0.004450\n",
       "CYF_kat7                    -0.003554\n",
       "CYF_urz_model               -0.001227\n",
       "CYF_urz_ip                   0.000643\n",
       "CYF_urz_id                   0.011541\n",
       "CYF_kat6                     0.023867\n",
       "CYF_baner_pozycja            0.023893\n",
       "CYF_KL3_kat9                 0.059213\n",
       "CYF_aplikacja_id             0.069334\n",
       "CYF_KL_aplikacja_domena      0.096371\n",
       "NZS6                         0.098824\n",
       "CYF_KL_aplikacja_id          0.102476\n",
       "CYF_KL0_aplikacja_kategoria  0.106738\n",
       "CYF_kat4                     0.130326\n",
       "CYF_KL2_kat6                 0.153447\n",
       "NZS3                         0.153447\n",
       "NZS9                         0.181358\n",
       "klik                         1.000000"
      ]
     },
     "execution_count": 120,
     "metadata": {},
     "output_type": "execute_result"
    }
   ],
   "source": [
    "import matplotlib.pyplot as plt\n",
    "\n",
    "CORREL = df2.corr().sort_values('klik')\n",
    "CORREL['klik'].to_frame().sort_values('klik')"
   ]
  },
  {
   "cell_type": "code",
   "execution_count": 121,
   "metadata": {},
   "outputs": [
    {
     "data": {
      "text/plain": [
       "Index(['klik', 'CYF_baner_pozycja', 'CYF_strona_id', 'CYF_strona_domena',\n",
       "       'CYF_strona_kategoria', 'CYF_aplikacja_id', 'CYF_aplikacja_domena',\n",
       "       'CYF_aplikacja_kategoria', 'CYF_urz_id', 'CYF_urz_ip', 'CYF_urz_model',\n",
       "       'CYF_urz_typ', 'CYF_urz_polaczenie', 'CYF_kat1', 'CYF_kat2', 'CYF_kat3',\n",
       "       'CYF_kat4', 'CYF_kat5', 'CYF_kat6', 'CYF_kat7', 'CYF_kat8', 'CYF_kat9',\n",
       "       'CYF_data_godzina', 'CYF_KL_strona_id', 'CYF_KL_aplikacja_id',\n",
       "       'CYF_KL_aplikacja_domena', 'CYF_KL4_aplikacja_kategoria',\n",
       "       'CYF_KL0_aplikacja_kategoria', 'CYF_KL_kat3', 'CYF_KL_kat4',\n",
       "       'CYF_KL1_kat6', 'CYF_KL2_kat6', 'CYF_KL1_kat9', 'CYF_KL2_kat9',\n",
       "       'CYF_KL3_kat9', 'CYF_KL1_kat7', 'NZS1', 'NZS2', 'NZS3', 'NZS4', 'NZS5',\n",
       "       'NZS6', 'NZS7', 'NZS8', 'NZS9'],\n",
       "      dtype='object')"
      ]
     },
     "execution_count": 121,
     "metadata": {},
     "output_type": "execute_result"
    }
   ],
   "source": [
    "df2.columns"
   ]
  },
  {
   "cell_type": "code",
   "execution_count": 122,
   "metadata": {},
   "outputs": [
    {
     "data": {
      "text/plain": [
       "klik                             int64\n",
       "CYF_baner_pozycja                int64\n",
       "CYF_strona_id                    int64\n",
       "CYF_strona_domena                int64\n",
       "CYF_strona_kategoria             int64\n",
       "CYF_aplikacja_id                 int64\n",
       "CYF_aplikacja_domena             int64\n",
       "CYF_aplikacja_kategoria          int64\n",
       "CYF_urz_id                       int64\n",
       "CYF_urz_ip                       int64\n",
       "CYF_urz_model                    int64\n",
       "CYF_urz_typ                      int64\n",
       "CYF_urz_polaczenie               int64\n",
       "CYF_kat1                         int64\n",
       "CYF_kat2                         int64\n",
       "CYF_kat3                         int64\n",
       "CYF_kat4                         int64\n",
       "CYF_kat5                         int64\n",
       "CYF_kat6                         int64\n",
       "CYF_kat7                         int64\n",
       "CYF_kat8                         int64\n",
       "CYF_kat9                         int64\n",
       "CYF_data_godzina                 int64\n",
       "CYF_KL_strona_id                 int64\n",
       "CYF_KL_aplikacja_id              int64\n",
       "CYF_KL_aplikacja_domena          int64\n",
       "CYF_KL4_aplikacja_kategoria      int64\n",
       "CYF_KL0_aplikacja_kategoria      int64\n",
       "CYF_KL_kat3                      int64\n",
       "CYF_KL_kat4                      int64\n",
       "CYF_KL1_kat6                     int64\n",
       "CYF_KL2_kat6                     int64\n",
       "CYF_KL1_kat9                     int64\n",
       "CYF_KL2_kat9                     int64\n",
       "CYF_KL3_kat9                     int64\n",
       "CYF_KL1_kat7                     int64\n",
       "NZS1                              int8\n",
       "NZS2                              int8\n",
       "NZS3                              int8\n",
       "NZS4                              int8\n",
       "NZS5                              int8\n",
       "NZS6                              int8\n",
       "NZS7                              int8\n",
       "NZS8                              int8\n",
       "NZS9                           float64\n",
       "dtype: object"
      ]
     },
     "execution_count": 122,
     "metadata": {},
     "output_type": "execute_result"
    }
   ],
   "source": [
    "df2.dtypes"
   ]
  },
  {
   "cell_type": "markdown",
   "metadata": {},
   "source": [
    "# <div class=\"alert-danger\">Przegub</div>"
   ]
  },
  {
   "cell_type": "code",
   "execution_count": 123,
   "metadata": {},
   "outputs": [],
   "source": [
    "df2.to_csv('/home/wojciech/Pulpit/4/kliki_uczenie2.csv')"
   ]
  },
  {
   "cell_type": "code",
   "execution_count": 124,
   "metadata": {},
   "outputs": [
    {
     "data": {
      "text/plain": [
       "Index(['klik', 'CYF_kat4', 'CYF_kat5', 'CYF_kat6', 'CYF_kat7', 'CYF_kat8',\n",
       "       'CYF_kat9'],\n",
       "      dtype='object')"
      ]
     },
     "execution_count": 124,
     "metadata": {},
     "output_type": "execute_result"
    }
   ],
   "source": [
    "df3 = pd.read_csv('/home/wojciech/Pulpit/4/kliki_uczenie2.csv', usecols = ('klik','CYF_kat4', 'CYF_kat5', 'CYF_kat6', 'CYF_kat7', 'CYF_kat8', 'CYF_kat9'))\n",
    "df3.columns"
   ]
  },
  {
   "cell_type": "markdown",
   "metadata": {},
   "source": [
    "### <span style=\"color:pink\">Dołączam do zbioru"
   ]
  },
  {
   "cell_type": "markdown",
   "metadata": {},
   "source": [
    "### <span style=\"color:blue\">Wybór zmiennych do analizy</span>"
   ]
  },
  {
   "cell_type": "raw",
   "metadata": {},
   "source": [
    "df3 = df[['klik', 'CYF_kat4','CYF_aplikacja_id','CYF_kat3','CYF_urz_polaczenie',\n",
    "          'CYF_KL_strona_id','CYF_KL_aplikacja_id',\n",
    "          'CYF_KL_aplikacja_domena','CYF_KL4_aplikacja_kategoria','CYF_KL0_aplikacja_kategoria',\n",
    "          'CYF_KL_kat3', 'CYF_KL_kat4', 'CYF_KL1_kat6','CYF_KL2_kat6',\n",
    "          'CYF_KL1_kat9','CYF_KL2_kat9', 'CYF_KL3_kat9','CYF_KL1_kat7',\n",
    "          'NZS1','NZS2','NZS3','NZS4','NZS5','NZS6','NZS7','NZS8']]\n"
   ]
  },
  {
   "cell_type": "code",
   "execution_count": 125,
   "metadata": {},
   "outputs": [],
   "source": [
    "df3 = df[['klik', 'CYF_baner_pozycja', 'CYF_strona_id', 'CYF_strona_domena',\n",
    "       'CYF_strona_kategoria', 'CYF_aplikacja_id', 'CYF_aplikacja_domena',\n",
    "       'CYF_aplikacja_kategoria', 'CYF_urz_id', 'CYF_urz_ip', 'CYF_urz_model',\n",
    "       'CYF_urz_typ', 'CYF_urz_polaczenie', 'CYF_kat1', 'CYF_kat2', 'CYF_kat3',\n",
    "       'CYF_kat4', 'CYF_kat5', 'CYF_kat6', 'CYF_kat7', 'CYF_kat8', 'CYF_kat9',\n",
    "       'CYF_data_godzina', 'CYF_KL_strona_id', 'CYF_KL_aplikacja_id',\n",
    "       'CYF_KL_aplikacja_domena', 'CYF_KL4_aplikacja_kategoria',\n",
    "       'CYF_KL0_aplikacja_kategoria', 'CYF_KL_kat3', 'CYF_KL_kat4',\n",
    "       'CYF_KL1_kat6', 'CYF_KL2_kat6', 'CYF_KL1_kat9', 'CYF_KL2_kat9',\n",
    "       'CYF_KL3_kat9', 'CYF_KL1_kat7','NZS1','NZS2','NZS3','NZS4','NZS5','NZS6','NZS7','NZS8'\n",
    "          ]]\n"
   ]
  },
  {
   "cell_type": "raw",
   "metadata": {},
   "source": [
    "df3 = df[['klik', 'CYF_baner_pozycja', 'CYF_strona_id', 'CYF_strona_domena',\n",
    "       'CYF_strona_kategoria', 'CYF_aplikacja_id', 'CYF_aplikacja_domena',\n",
    "       'CYF_aplikacja_kategoria', 'CYF_urz_id', 'CYF_urz_ip', 'CYF_urz_model',\n",
    "       'CYF_urz_typ', 'CYF_urz_polaczenie', 'CYF_kat1', 'CYF_kat2', 'CYF_kat3',\n",
    "       'CYF_kat4', 'CYF_kat5', 'CYF_kat6', 'CYF_kat7', 'CYF_kat8', 'CYF_kat9',\n",
    "       'CYF_data_godzina', 'CYF_KL_strona_id', 'CYF_KL_aplikacja_id',\n",
    "       'CYF_KL_aplikacja_domena', 'CYF_KL4_aplikacja_kategoria',\n",
    "       'CYF_KL0_aplikacja_kategoria', 'CYF_KL_kat3', 'CYF_KL_kat4',\n",
    "       'CYF_KL1_kat6', 'CYF_KL2_kat6', 'CYF_KL1_kat9', 'CYF_KL2_kat9',\n",
    "       'CYF_KL3_kat9', 'CYF_KL1_kat7','NZS2','NZS7','NZS1','NZS3'\n",
    "          ]]\n"
   ]
  },
  {
   "cell_type": "raw",
   "metadata": {},
   "source": [
    "df3 = df[['klik','NZS1','NZS2','NZS3','NZS4','NZS5','NZS6','NZS7','NZS8']]\n",
    "# NZS4, 'NZS5',,'NZS6', 'NZS8,'NZS9'"
   ]
  },
  {
   "cell_type": "markdown",
   "metadata": {},
   "source": [
    "### Usuwanie wartości NaN"
   ]
  },
  {
   "cell_type": "code",
   "execution_count": 126,
   "metadata": {},
   "outputs": [
    {
     "name": "stdout",
     "output_type": "stream",
     "text": [
      "1:  (3619621, 44)\n",
      "klik                           0\n",
      "CYF_baner_pozycja              0\n",
      "CYF_strona_id                  0\n",
      "CYF_strona_domena              0\n",
      "CYF_strona_kategoria           0\n",
      "CYF_aplikacja_id               0\n",
      "CYF_aplikacja_domena           0\n",
      "CYF_aplikacja_kategoria        0\n",
      "CYF_urz_id                     0\n",
      "CYF_urz_ip                     0\n",
      "CYF_urz_model                  0\n",
      "CYF_urz_typ                    0\n",
      "CYF_urz_polaczenie             0\n",
      "CYF_kat1                       0\n",
      "CYF_kat2                       0\n",
      "CYF_kat3                       0\n",
      "CYF_kat4                       0\n",
      "CYF_kat5                       0\n",
      "CYF_kat6                       0\n",
      "CYF_kat7                       0\n",
      "CYF_kat8                       0\n",
      "CYF_kat9                       0\n",
      "CYF_data_godzina               0\n",
      "CYF_KL_strona_id               0\n",
      "CYF_KL_aplikacja_id            0\n",
      "CYF_KL_aplikacja_domena        0\n",
      "CYF_KL4_aplikacja_kategoria    0\n",
      "CYF_KL0_aplikacja_kategoria    0\n",
      "CYF_KL_kat3                    0\n",
      "CYF_KL_kat4                    0\n",
      "CYF_KL1_kat6                   0\n",
      "CYF_KL2_kat6                   0\n",
      "CYF_KL1_kat9                   0\n",
      "CYF_KL2_kat9                   0\n",
      "CYF_KL3_kat9                   0\n",
      "CYF_KL1_kat7                   0\n",
      "NZS1                           0\n",
      "NZS2                           0\n",
      "NZS3                           0\n",
      "NZS4                           0\n",
      "NZS5                           0\n",
      "NZS6                           0\n",
      "NZS7                           0\n",
      "NZS8                           0\n",
      "dtype: int64\n",
      "2:  (3619621, 44)\n"
     ]
    }
   ],
   "source": [
    "print(\"1: \",df3.shape)\n",
    "df3 = df3.dropna(how='any')\n",
    "print(df3.isnull().sum())\n",
    "print(\"2: \",df3.shape)"
   ]
  },
  {
   "cell_type": "raw",
   "metadata": {},
   "source": [
    "#df3['NZS1'] = np.round(df3['NZS1'], decimals=2)\n",
    "#df3['NZS1'] = df3['NZS1'].astype(float)\n",
    "\n",
    "df3['NZS2'] = np.round(df3['NZS2'], decimals=2)\n",
    "df3['NZS2'] = df3['NZS2'].astype(float)\n",
    "\n",
    "df3['NZS3'] = np.round(df3['NZS3'], decimals=2)\n",
    "df3['NZS3'] = df3['NZS3'].astype(float)\n",
    "\n",
    "#df3['NZS4'] = np.round(df3['NZS4'], decimals=2)\n",
    "#df3['NZS4'] = df3['NZS4'].astype(float)\n",
    "\n",
    "#df3['NZS5'] = np.round(df3['NZS5'], decimals=2)\n",
    "#df3['NZS5'] = df3['NZS5'].astype(float)\n",
    "\n",
    "#df3['NZS6'] = np.round(df3['NZS6'], decimals=2)\n",
    "#df3['NZS6'] = df3['NZS6'].astype(float)\n",
    "\n",
    "#df3['NZS7'] = np.round(df3['NZS7'], decimals=2)\n",
    "#df3['NZS7'] = df3['NZS7'].astype(float)\n",
    "\n",
    "#df3['NZS8'] = np.round(df3['NZS8'], decimals=2)\n",
    "#df3['NZS8'] = df3['NZS8'].astype(float)"
   ]
  },
  {
   "cell_type": "code",
   "execution_count": 127,
   "metadata": {},
   "outputs": [
    {
     "data": {
      "text/plain": [
       "klik                           int64\n",
       "CYF_baner_pozycja              int64\n",
       "CYF_strona_id                  int64\n",
       "CYF_strona_domena              int64\n",
       "CYF_strona_kategoria           int64\n",
       "CYF_aplikacja_id               int64\n",
       "CYF_aplikacja_domena           int64\n",
       "CYF_aplikacja_kategoria        int64\n",
       "CYF_urz_id                     int64\n",
       "CYF_urz_ip                     int64\n",
       "CYF_urz_model                  int64\n",
       "CYF_urz_typ                    int64\n",
       "CYF_urz_polaczenie             int64\n",
       "CYF_kat1                       int64\n",
       "CYF_kat2                       int64\n",
       "CYF_kat3                       int64\n",
       "CYF_kat4                       int64\n",
       "CYF_kat5                       int64\n",
       "CYF_kat6                       int64\n",
       "CYF_kat7                       int64\n",
       "CYF_kat8                       int64\n",
       "CYF_kat9                       int64\n",
       "CYF_data_godzina               int64\n",
       "CYF_KL_strona_id               int64\n",
       "CYF_KL_aplikacja_id            int64\n",
       "CYF_KL_aplikacja_domena        int64\n",
       "CYF_KL4_aplikacja_kategoria    int64\n",
       "CYF_KL0_aplikacja_kategoria    int64\n",
       "CYF_KL_kat3                    int64\n",
       "CYF_KL_kat4                    int64\n",
       "CYF_KL1_kat6                   int64\n",
       "CYF_KL2_kat6                   int64\n",
       "CYF_KL1_kat9                   int64\n",
       "CYF_KL2_kat9                   int64\n",
       "CYF_KL3_kat9                   int64\n",
       "CYF_KL1_kat7                   int64\n",
       "NZS1                            int8\n",
       "NZS2                            int8\n",
       "NZS3                            int8\n",
       "NZS4                            int8\n",
       "NZS5                            int8\n",
       "NZS6                            int8\n",
       "NZS7                            int8\n",
       "NZS8                            int8\n",
       "dtype: object"
      ]
     },
     "execution_count": 127,
     "metadata": {},
     "output_type": "execute_result"
    }
   ],
   "source": [
    "df3.dtypes"
   ]
  },
  {
   "cell_type": "markdown",
   "metadata": {},
   "source": [
    "# <span style=\"color:green\"> Filtrowanie"
   ]
  },
  {
   "cell_type": "raw",
   "metadata": {},
   "source": [
    "df['CYF_urz_typ'].value_counts()"
   ]
  },
  {
   "cell_type": "raw",
   "metadata": {},
   "source": [
    "print('Przed: ',df3.shape)\n",
    "df3 = df3[df3['CYF_urz_typ']==1]\n",
    "print('Po: ',df3.shape)\n",
    "df3.head()"
   ]
  },
  {
   "cell_type": "markdown",
   "metadata": {},
   "source": [
    "### <span style=\"color:blue\">Podział na zbiór testowy i wynikowy</span>"
   ]
  },
  {
   "cell_type": "code",
   "execution_count": 128,
   "metadata": {},
   "outputs": [],
   "source": [
    "y = df3['klik']\n",
    "X = df3.drop('klik', axis=1)"
   ]
  },
  {
   "cell_type": "code",
   "execution_count": 129,
   "metadata": {},
   "outputs": [
    {
     "name": "stdout",
     "output_type": "stream",
     "text": [
      "Zbiór X treningowy:  (2425146, 43)\n",
      "Zbiór X testowy:     (1194475, 43)\n",
      "Zbiór y treningowy:  (2425146,)\n",
      "Zbiór y testowy:     (1194475,)\n"
     ]
    }
   ],
   "source": [
    "from sklearn.model_selection import train_test_split \n",
    "Xtrain, Xtest, ytrain, ytest = train_test_split(X,y, test_size=0.33, stratify = y, random_state = 148)\n",
    "\n",
    "print ('Zbiór X treningowy: ',Xtrain.shape)\n",
    "print ('Zbiór X testowy:    ', Xtest.shape)\n",
    "print ('Zbiór y treningowy: ', ytrain.shape)\n",
    "print ('Zbiór y testowy:    ', ytest.shape)"
   ]
  },
  {
   "cell_type": "markdown",
   "metadata": {},
   "source": [
    "### <span style=\"color:blue\">OVERSAMPLING</span>"
   ]
  },
  {
   "cell_type": "code",
   "execution_count": 130,
   "metadata": {},
   "outputs": [
    {
     "name": "stdout",
     "output_type": "stream",
     "text": [
      "ytrain = 0:  2013743\n",
      "ytrain = 1:  411403\n"
     ]
    }
   ],
   "source": [
    "print(\"ytrain = 0: \", sum(ytrain == 0))\n",
    "print(\"ytrain = 1: \", sum(ytrain == 1))"
   ]
  },
  {
   "cell_type": "code",
   "execution_count": 131,
   "metadata": {},
   "outputs": [
    {
     "name": "stdout",
     "output_type": "stream",
     "text": [
      "Ilość -0 klik na -1 klik:  5\n"
     ]
    }
   ],
   "source": [
    "Proporcja = sum(ytrain == 0) / sum(ytrain == 1) \n",
    "Proporcja = np.round(Proporcja, decimals=0)\n",
    "Proporcja = Proporcja.astype(int)\n",
    "print('Ilość -0 klik na -1 klik: ', Proporcja)"
   ]
  },
  {
   "cell_type": "code",
   "execution_count": 132,
   "metadata": {},
   "outputs": [
    {
     "data": {
      "text/plain": [
       "2057015"
      ]
     },
     "execution_count": 132,
     "metadata": {},
     "output_type": "execute_result"
    }
   ],
   "source": [
    "ytrain_OV = pd.concat([ytrain[ytrain==1]] * Proporcja, axis = 0) \n",
    "ytrain_OV.count()"
   ]
  },
  {
   "cell_type": "markdown",
   "metadata": {},
   "source": [
    "Powiękrzyliśmy ilość zmiennych wynikowych 1. Teraz mamy tę samą liczbę wierszy zmiennych wynikowych i zmiennych niezależnych. Teraz wprowadzamy nowe, dodatkowe zmienne 1 do zbioru treningowego."
   ]
  },
  {
   "cell_type": "code",
   "execution_count": 133,
   "metadata": {},
   "outputs": [
    {
     "data": {
      "text/plain": [
       "2057015"
      ]
     },
     "execution_count": 133,
     "metadata": {},
     "output_type": "execute_result"
    }
   ],
   "source": [
    "Xtrain_OV = pd.concat([Xtrain.loc[ytrain==1, :]] * Proporcja, axis = 0)\n",
    "ytrain_OV.count()"
   ]
  },
  {
   "cell_type": "code",
   "execution_count": 134,
   "metadata": {},
   "outputs": [
    {
     "name": "stdout",
     "output_type": "stream",
     "text": [
      "ilość elementów w zbiorze Xtrain:      2425146\n",
      "ilość elementów w zbiorze Xtrain_OV:   4482161\n",
      "ilość elementów w zbiorze ytrain:      2425146\n",
      "ilość elementów w zbiorze ytrain_OV:   4482161\n"
     ]
    }
   ],
   "source": [
    "ytrain_OV = pd.concat([ytrain, ytrain_OV], axis = 0).reset_index(drop = True)\n",
    "Xtrain_OV = pd.concat([Xtrain, Xtrain_OV], axis = 0).reset_index(drop = True)\n",
    "\n",
    "print(\"ilość elementów w zbiorze Xtrain:     \", Xtrain.NZS5.count())\n",
    "print(\"ilość elementów w zbiorze Xtrain_OV:  \", Xtrain_OV.NZS5.count())\n",
    "print(\"ilość elementów w zbiorze ytrain:     \", ytrain.count())\n",
    "print(\"ilość elementów w zbiorze ytrain_OV:  \", ytrain_OV.count())"
   ]
  },
  {
   "cell_type": "markdown",
   "metadata": {},
   "source": [
    "Poziom zbilansowania zbioru wynikowego:"
   ]
  },
  {
   "cell_type": "code",
   "execution_count": 135,
   "metadata": {},
   "outputs": [
    {
     "data": {
      "text/plain": [
       "<matplotlib.axes._subplots.AxesSubplot at 0x7f033cf5b510>"
      ]
     },
     "execution_count": 135,
     "metadata": {},
     "output_type": "execute_result"
    },
    {
     "data": {
      "image/png": "[encoded data removed]",
      "text/plain": [
       "<Figure size 432x288 with 1 Axes>"
      ]
     },
     "metadata": {},
     "output_type": "display_data"
    }
   ],
   "source": [
    "ytrain_OV.value_counts(dropna = False, normalize=True).plot(kind='pie')"
   ]
  },
  {
   "cell_type": "code",
   "execution_count": 136,
   "metadata": {},
   "outputs": [
    {
     "data": {
      "text/plain": [
       "CYF_baner_pozycja              0\n",
       "CYF_strona_id                  0\n",
       "CYF_strona_domena              0\n",
       "CYF_strona_kategoria           0\n",
       "CYF_aplikacja_id               0\n",
       "CYF_aplikacja_domena           0\n",
       "CYF_aplikacja_kategoria        0\n",
       "CYF_urz_id                     0\n",
       "CYF_urz_ip                     0\n",
       "CYF_urz_model                  0\n",
       "CYF_urz_typ                    0\n",
       "CYF_urz_polaczenie             0\n",
       "CYF_kat1                       0\n",
       "CYF_kat2                       0\n",
       "CYF_kat3                       0\n",
       "CYF_kat4                       0\n",
       "CYF_kat5                       0\n",
       "CYF_kat6                       0\n",
       "CYF_kat7                       0\n",
       "CYF_kat8                       0\n",
       "CYF_kat9                       0\n",
       "CYF_data_godzina               0\n",
       "CYF_KL_strona_id               0\n",
       "CYF_KL_aplikacja_id            0\n",
       "CYF_KL_aplikacja_domena        0\n",
       "CYF_KL4_aplikacja_kategoria    0\n",
       "CYF_KL0_aplikacja_kategoria    0\n",
       "CYF_KL_kat3                    0\n",
       "CYF_KL_kat4                    0\n",
       "CYF_KL1_kat6                   0\n",
       "CYF_KL2_kat6                   0\n",
       "CYF_KL1_kat9                   0\n",
       "CYF_KL2_kat9                   0\n",
       "CYF_KL3_kat9                   0\n",
       "CYF_KL1_kat7                   0\n",
       "NZS1                           0\n",
       "NZS2                           0\n",
       "NZS3                           0\n",
       "NZS4                           0\n",
       "NZS5                           0\n",
       "NZS6                           0\n",
       "NZS7                           0\n",
       "NZS8                           0\n",
       "dtype: int64"
      ]
     },
     "execution_count": 136,
     "metadata": {},
     "output_type": "execute_result"
    }
   ],
   "source": [
    "Xtest.isnull().sum()"
   ]
  },
  {
   "cell_type": "markdown",
   "metadata": {},
   "source": [
    "## Współczynnik korelacji"
   ]
  },
  {
   "cell_type": "code",
   "execution_count": 137,
   "metadata": {},
   "outputs": [
    {
     "data": {
      "text/plain": [
       "NZS8                          -0.185857\n",
       "NZS7                          -0.184762\n",
       "NZS4                          -0.145134\n",
       "NZS1                          -0.137916\n",
       "CYF_KL1_kat9                  -0.124056\n",
       "CYF_KL_kat4                   -0.123912\n",
       "NZS5                          -0.115781\n",
       "CYF_KL_strona_id              -0.113588\n",
       "CYF_KL_kat3                   -0.110713\n",
       "CYF_KL1_kat6                  -0.102183\n",
       "CYF_kat3                      -0.091988\n",
       "CYF_KL4_aplikacja_kategoria   -0.088653\n",
       "CYF_urz_polaczenie            -0.083849\n",
       "CYF_KL2_kat9                  -0.077867\n",
       "CYF_kat8                      -0.074104\n",
       "CYF_kat9                      -0.073574\n",
       "CYF_kat2                      -0.070032\n",
       "CYF_KL1_kat7                  -0.068095\n",
       "CYF_kat5                      -0.065577\n",
       "CYF_aplikacja_kategoria       -0.059226\n",
       "NZS2                          -0.045618\n",
       "CYF_strona_domena             -0.039422\n",
       "CYF_urz_typ                   -0.038625\n",
       "CYF_kat1                      -0.036441\n",
       "CYF_aplikacja_domena          -0.009856\n",
       "CYF_data_godzina              -0.008728\n",
       "CYF_strona_id                 -0.008688\n",
       "CYF_strona_kategoria          -0.004450\n",
       "CYF_kat7                      -0.003554\n",
       "CYF_urz_model                 -0.001227\n",
       "CYF_urz_ip                     0.000643\n",
       "CYF_urz_id                     0.011541\n",
       "CYF_kat6                       0.023867\n",
       "CYF_baner_pozycja              0.023893\n",
       "CYF_KL3_kat9                   0.059213\n",
       "CYF_aplikacja_id               0.069334\n",
       "CYF_KL_aplikacja_domena        0.096371\n",
       "NZS6                           0.098824\n",
       "CYF_KL_aplikacja_id            0.102476\n",
       "CYF_KL0_aplikacja_kategoria    0.106738\n",
       "CYF_kat4                       0.130326\n",
       "CYF_KL2_kat6                   0.153447\n",
       "NZS3                           0.153447\n",
       "klik                           1.000000\n",
       "Name: klik, dtype: float64"
      ]
     },
     "execution_count": 137,
     "metadata": {},
     "output_type": "execute_result"
    }
   ],
   "source": [
    "CORREL = df3.corr().sort_values('klik')\n",
    "CORREL['klik']"
   ]
  },
  {
   "cell_type": "raw",
   "metadata": {},
   "source": [
    "plt.figure(figsize=(10,6))\n",
    "CORREL =df3.corr()\n",
    "sns.heatmap(CORREL, annot=True, cbar=False, cmap=\"coolwarm\")\n",
    "plt.title('Macierz korelacji ze zmienną wynikową: Stroke', fontsize=20)"
   ]
  },
  {
   "cell_type": "code",
   "execution_count": 138,
   "metadata": {},
   "outputs": [
    {
     "data": {
      "text/plain": [
       "Text(0, 0.5, 'Zmienne nezależne ciągłe')"
      ]
     },
     "execution_count": 138,
     "metadata": {},
     "output_type": "execute_result"
    },
    {
     "data": {
      "image/png": "[encoded data removed]",
      "text/plain": [
       "<Figure size 720x432 with 1 Axes>"
      ]
     },
     "metadata": {
      "needs_background": "light"
     },
     "output_type": "display_data"
    }
   ],
   "source": [
    "CORREL = df3.corr().sort_values('klik')\n",
    "\n",
    "plt.figure(figsize=(10,6))\n",
    "CORREL['klik'].plot(kind='barh', color='red')\n",
    "plt.title('Korelacja ze zmienną wynikową', fontsize=20)\n",
    "plt.xlabel('Poziom korelacji')\n",
    "plt.ylabel('Zmienne nezależne ciągłe')"
   ]
  },
  {
   "cell_type": "markdown",
   "metadata": {},
   "source": [
    "## Standaryzacja"
   ]
  },
  {
   "cell_type": "code",
   "execution_count": 139,
   "metadata": {},
   "outputs": [],
   "source": [
    "from sklearn.preprocessing import MinMaxScaler\n",
    "\n",
    "scaler = MinMaxScaler(feature_range = (0,1))\n",
    "\n",
    "scaler.fit(Xtrain_OV)\n",
    "Xtrain_OV = scaler.transform(Xtrain_OV)\n",
    "Xtest = scaler.transform(Xtest)"
   ]
  },
  {
   "cell_type": "markdown",
   "metadata": {},
   "source": [
    "# Analiza ważności zmiennych niezależnych PCA"
   ]
  },
  {
   "cell_type": "code",
   "execution_count": 140,
   "metadata": {},
   "outputs": [],
   "source": [
    "from sklearn.decomposition import PCA\n",
    "\n",
    "pca = PCA()\n",
    "Xtrain = pca.fit_transform(Xtrain)\n",
    "Xtest = pca.transform(Xtest)"
   ]
  },
  {
   "cell_type": "markdown",
   "metadata": {},
   "source": [
    "Nie podaliśmy liczby komponentów w konstruktorze. Dlatego wszystkie 9 zmienne z zestawu zostaną zwrócone zarówno dla zestawu szkoleniowego, jak i testowego.\n",
    "\n",
    "Klasa PCA zawiera, explained_variance_ratio_która zwraca wariancję wywołaną przez każdą zmienną. "
   ]
  },
  {
   "cell_type": "code",
   "execution_count": 141,
   "metadata": {},
   "outputs": [],
   "source": [
    "explained_variance = pca.explained_variance_ratio_"
   ]
  },
  {
   "cell_type": "code",
   "execution_count": 142,
   "metadata": {},
   "outputs": [
    {
     "data": {
      "text/plain": [
       "array([0.98, 0.02, 0.  , 0.  , 0.  , 0.  , 0.  , 0.  , 0.  , 0.  , 0.  ,\n",
       "       0.  , 0.  , 0.  , 0.  , 0.  , 0.  , 0.  , 0.  , 0.  , 0.  , 0.  ,\n",
       "       0.  , 0.  , 0.  , 0.  , 0.  , 0.  , 0.  , 0.  , 0.  , 0.  , 0.  ,\n",
       "       0.  , 0.  , 0.  , 0.  , 0.  , 0.  , 0.  , 0.  , 0.  , 0.  ])"
      ]
     },
     "execution_count": 142,
     "metadata": {},
     "output_type": "execute_result"
    }
   ],
   "source": [
    "SOK = np.round(explained_variance, decimals=2)\n",
    "SOK"
   ]
  },
  {
   "cell_type": "code",
   "execution_count": 143,
   "metadata": {},
   "outputs": [
    {
     "data": {
      "text/plain": [
       "[('CYF_baner_pozycja', 0.98),\n",
       " ('CYF_strona_id', 0.02),\n",
       " ('CYF_strona_domena', 0.0),\n",
       " ('CYF_strona_kategoria', 0.0),\n",
       " ('CYF_aplikacja_id', 0.0),\n",
       " ('CYF_aplikacja_domena', 0.0),\n",
       " ('CYF_aplikacja_kategoria', 0.0),\n",
       " ('CYF_urz_id', 0.0),\n",
       " ('CYF_urz_ip', 0.0),\n",
       " ('CYF_urz_model', 0.0),\n",
       " ('CYF_urz_typ', 0.0),\n",
       " ('CYF_urz_polaczenie', 0.0),\n",
       " ('CYF_kat1', 0.0),\n",
       " ('CYF_kat2', 0.0),\n",
       " ('CYF_kat3', 0.0),\n",
       " ('CYF_kat4', 0.0),\n",
       " ('CYF_kat5', 0.0),\n",
       " ('CYF_kat6', 0.0),\n",
       " ('CYF_kat7', 0.0),\n",
       " ('CYF_kat8', 0.0),\n",
       " ('CYF_kat9', 0.0),\n",
       " ('CYF_data_godzina', 0.0),\n",
       " ('CYF_KL_strona_id', 0.0),\n",
       " ('CYF_KL_aplikacja_id', 0.0),\n",
       " ('CYF_KL_aplikacja_domena', 0.0),\n",
       " ('CYF_KL4_aplikacja_kategoria', 0.0),\n",
       " ('CYF_KL0_aplikacja_kategoria', 0.0),\n",
       " ('CYF_KL_kat3', 0.0),\n",
       " ('CYF_KL_kat4', 0.0),\n",
       " ('CYF_KL1_kat6', 0.0),\n",
       " ('CYF_KL2_kat6', 0.0),\n",
       " ('CYF_KL1_kat9', 0.0),\n",
       " ('CYF_KL2_kat9', 0.0),\n",
       " ('CYF_KL3_kat9', 0.0),\n",
       " ('CYF_KL1_kat7', 0.0),\n",
       " ('NZS1', 0.0),\n",
       " ('NZS2', 0.0),\n",
       " ('NZS3', 0.0),\n",
       " ('NZS4', 0.0),\n",
       " ('NZS5', 0.0),\n",
       " ('NZS6', 0.0),\n",
       " ('NZS7', 0.0),\n",
       " ('NZS8', 0.0)]"
      ]
     },
     "execution_count": 143,
     "metadata": {},
     "output_type": "execute_result"
    }
   ],
   "source": [
    "list(zip(X, SOK))"
   ]
  },
  {
   "cell_type": "markdown",
   "metadata": {},
   "source": [
    "# Analiza ważności zmiennych niezależnych RF"
   ]
  },
  {
   "cell_type": "code",
   "execution_count": 144,
   "metadata": {},
   "outputs": [
    {
     "name": "stderr",
     "output_type": "stream",
     "text": [
      "/home/wojciech/anaconda3/lib/python3.7/site-packages/sklearn/ensemble/forest.py:245: FutureWarning: The default value of n_estimators will change from 10 in version 0.20 to 100 in 0.22.\n",
      "  \"10 in version 0.20 to 100 in 0.22.\", FutureWarning)\n"
     ]
    },
    {
     "data": {
      "text/plain": [
       "RandomForestClassifier(bootstrap=True, class_weight=None, criterion='gini',\n",
       "                       max_depth=None, max_features='auto', max_leaf_nodes=None,\n",
       "                       min_impurity_decrease=0.0, min_impurity_split=None,\n",
       "                       min_samples_leaf=1, min_samples_split=2,\n",
       "                       min_weight_fraction_leaf=0.0, n_estimators=10,\n",
       "                       n_jobs=None, oob_score=False, random_state=None,\n",
       "                       verbose=0, warm_start=False)"
      ]
     },
     "execution_count": 144,
     "metadata": {},
     "output_type": "execute_result"
    }
   ],
   "source": [
    "from sklearn.ensemble import RandomForestClassifier\n",
    "\n",
    "rfc = RandomForestClassifier()\n",
    "rfc.fit(X, y)"
   ]
  },
  {
   "cell_type": "code",
   "execution_count": 145,
   "metadata": {},
   "outputs": [
    {
     "data": {
      "text/plain": [
       "array([3.23103119e-03, 2.25524702e-02, 2.15868466e-02, 5.26322181e-03,\n",
       "       1.09320568e-02, 3.43869120e-03, 3.18648331e-03, 3.70598898e-02,\n",
       "       3.51648254e-01, 1.76106413e-01, 1.00393926e-03, 4.84618056e-03,\n",
       "       1.52029233e-03, 4.69330397e-02, 9.81824270e-04, 6.43674926e-03,\n",
       "       9.49969507e-03, 8.50058643e-04, 5.73657042e-03, 2.92837126e-02,\n",
       "       3.57010729e-03, 2.07761511e-01, 9.07097066e-04, 7.45441609e-05,\n",
       "       8.77565760e-04, 1.02258206e-03, 1.70831083e-04, 9.40215673e-04,\n",
       "       8.20628361e-04, 1.11034687e-03, 1.23169554e-02, 6.37719370e-04,\n",
       "       8.56630176e-04, 6.92216677e-04, 1.40964000e-03, 5.53157213e-03,\n",
       "       3.18116932e-03, 2.30249070e-04, 1.60032298e-03, 1.08488782e-03,\n",
       "       1.93896816e-03, 6.64937281e-03, 4.51744701e-03])"
      ]
     },
     "execution_count": 145,
     "metadata": {},
     "output_type": "execute_result"
    }
   ],
   "source": [
    "rfc.feature_importances_"
   ]
  },
  {
   "cell_type": "code",
   "execution_count": 146,
   "metadata": {},
   "outputs": [
    {
     "data": {
      "text/plain": [
       "[('CYF_baner_pozycja', 0.0032310311938850617),\n",
       " ('CYF_strona_id', 0.022552470183941655),\n",
       " ('CYF_strona_domena', 0.021586846595247063),\n",
       " ('CYF_strona_kategoria', 0.00526322180529274),\n",
       " ('CYF_aplikacja_id', 0.010932056799080332),\n",
       " ('CYF_aplikacja_domena', 0.0034386911981486522),\n",
       " ('CYF_aplikacja_kategoria', 0.0031864833051059313),\n",
       " ('CYF_urz_id', 0.037059889756395015),\n",
       " ('CYF_urz_ip', 0.3516482536539721),\n",
       " ('CYF_urz_model', 0.17610641286675083),\n",
       " ('CYF_urz_typ', 0.0010039392550756118),\n",
       " ('CYF_urz_polaczenie', 0.004846180558510685),\n",
       " ('CYF_kat1', 0.0015202923332811084),\n",
       " ('CYF_kat2', 0.04693303967084117),\n",
       " ('CYF_kat3', 0.0009818242697471446),\n",
       " ('CYF_kat4', 0.006436749258946335),\n",
       " ('CYF_kat5', 0.009499695074869594),\n",
       " ('CYF_kat6', 0.0008500586434899563),\n",
       " ('CYF_kat7', 0.005736570420330344),\n",
       " ('CYF_kat8', 0.029283712564898624),\n",
       " ('CYF_kat9', 0.0035701072897715213),\n",
       " ('CYF_data_godzina', 0.207761511299771),\n",
       " ('CYF_KL_strona_id', 0.0009070970664930686),\n",
       " ('CYF_KL_aplikacja_id', 7.454416086059731e-05),\n",
       " ('CYF_KL_aplikacja_domena', 0.0008775657602171999),\n",
       " ('CYF_KL4_aplikacja_kategoria', 0.0010225820561302272),\n",
       " ('CYF_KL0_aplikacja_kategoria', 0.00017083108316886432),\n",
       " ('CYF_KL_kat3', 0.0009402156734167957),\n",
       " ('CYF_KL_kat4', 0.0008206283612161936),\n",
       " ('CYF_KL1_kat6', 0.0011103468740422296),\n",
       " ('CYF_KL2_kat6', 0.012316955443335905),\n",
       " ('CYF_KL1_kat9', 0.0006377193695081362),\n",
       " ('CYF_KL2_kat9', 0.0008566301759630522),\n",
       " ('CYF_KL3_kat9', 0.0006922166765052519),\n",
       " ('CYF_KL1_kat7', 0.0014096399965961904),\n",
       " ('NZS1', 0.0055315721320618825),\n",
       " ('NZS2', 0.0031811693240794406),\n",
       " ('NZS3', 0.000230249069785025),\n",
       " ('NZS4', 0.0016003229817804026),\n",
       " ('NZS5', 0.0010848878152276606),\n",
       " ('NZS6', 0.0019389681583763425),\n",
       " ('NZS7', 0.006649372809672526),\n",
       " ('NZS8', 0.004517447014210507)]"
      ]
     },
     "execution_count": 146,
     "metadata": {},
     "output_type": "execute_result"
    }
   ],
   "source": [
    "list(zip(X, rfc.feature_importances_))"
   ]
  },
  {
   "cell_type": "code",
   "execution_count": null,
   "metadata": {},
   "outputs": [],
   "source": []
  },
  {
   "cell_type": "code",
   "execution_count": null,
   "metadata": {},
   "outputs": [],
   "source": []
  },
  {
   "cell_type": "markdown",
   "metadata": {},
   "source": [
    "# # <span style=\"color:blue\"> Model regresji logistycznej ze słabą siatką GRID</span>"
   ]
  },
  {
   "cell_type": "raw",
   "metadata": {},
   "source": [
    "from sklearn import model_selection\n",
    "from sklearn.pipeline import make_pipeline\n",
    "from sklearn.linear_model import LogisticRegression\n",
    "from sklearn.model_selection import GridSearchCV\n",
    "\n",
    "Parameteres = {'C': np.power(10.0, np.arange(-3, 3))}\n",
    "LR = LogisticRegression(warm_start = True)\n",
    "LR_Grid = GridSearchCV(LR, param_grid = Parameteres, scoring = 'roc_auc', n_jobs = -1, cv=2)\n",
    "\n",
    "LR_Grid.fit(Xtrain_OV, ytrain_OV) \n",
    "y_pred_LRC = LR_Grid.predict(Xtest)"
   ]
  },
  {
   "cell_type": "raw",
   "metadata": {},
   "source": [
    "# ocena modelu\n",
    "from sklearn import metrics\n",
    "from sklearn.metrics import classification_report, confusion_matrix\n",
    "from sklearn.metrics import confusion_matrix, log_loss, auc, roc_curve, roc_auc_score, recall_score, precision_recall_curve\n",
    "from sklearn.metrics import make_scorer, precision_score, fbeta_score, f1_score, classification_report\n",
    "\n",
    "print(\"Recall Training data:     \", np.round(recall_score(ytrain_OV, LR_Grid.predict(Xtrain_OV)), decimals=4))\n",
    "print(\"Precision Training data:  \", np.round(precision_score(ytrain_OV, LR_Grid.predict(Xtrain_OV)), decimals=4))\n",
    "print(\"----------------------------------------------------------------------\")\n",
    "print(\"Recall Test data:         \", np.round(recall_score(ytest, LR_Grid.predict(Xtest)), decimals=4)) \n",
    "print(\"Precision Test data:      \", np.round(precision_score(ytest, LR_Grid.predict(Xtest)), decimals=4))\n",
    "print(\"----------------------------------------------------------------------\")\n",
    "print(\"Confusion Matrix Test data\")\n",
    "print(confusion_matrix(ytest, LR_Grid.predict(Xtest)))\n",
    "print(\"----------------------------------------------------------------------\")\n",
    "print(classification_report(ytest, LR_Grid.predict(Xtest)))\n",
    "y_pred_proba = LR_Grid.predict_proba(Xtest)[::,1]\n",
    "fpr, tpr, _ = metrics.roc_curve(ytest,  y_pred_LRC)\n",
    "auc = metrics.roc_auc_score(ytest, y_pred_LRC)\n",
    "plt.plot(fpr, tpr, label='Logistic Regression (auc = %0.2f)' % auc)\n",
    "plt.xlabel('False Positive Rate',color='grey', fontsize = 13)\n",
    "plt.ylabel('True Positive Rate',color='grey', fontsize = 13)\n",
    "plt.title('Receiver operating characteristic')\n",
    "plt.legend(loc=\"lower right\")\n",
    "plt.legend(loc=4)\n",
    "plt.plot([0, 1], [0, 1],'r--')\n",
    "plt.show()"
   ]
  },
  {
   "cell_type": "markdown",
   "metadata": {},
   "source": [
    "https://stackoverflow.com/questions/39163354/evaluating-logistic-regression-with-cross-validation"
   ]
  },
  {
   "cell_type": "markdown",
   "metadata": {},
   "source": [
    "# <span style=\"color:blue\"> Model regresji RandomForest</span>"
   ]
  },
  {
   "cell_type": "raw",
   "metadata": {},
   "source": [
    "from sklearn.ensemble import RandomForestClassifier\n",
    "\n",
    "forestVC = RandomForestClassifier (random_state = 1, \n",
    "                                  n_estimators = 750, \n",
    "                                  max_depth = 2, \n",
    "                                  min_samples_split = 2, min_samples_leaf = 3) \n",
    "RFC_S = forestVC.fit(Xtrain_OV, ytrain_OV)\n",
    "y_pred_RFC = RFC_S.predict(Xtest)"
   ]
  },
  {
   "cell_type": "raw",
   "metadata": {},
   "source": [
    "# ocena modelu\n",
    "from sklearn import metrics\n",
    "from sklearn.metrics import classification_report, confusion_matrix\n",
    "from sklearn.metrics import confusion_matrix, log_loss, auc, roc_curve, roc_auc_score, recall_score, precision_recall_curve\n",
    "from sklearn.metrics import make_scorer, precision_score, fbeta_score, f1_score, classification_report\n",
    "\n",
    "print(\"Recall Training data:     \", np.round(recall_score(ytrain_OV, RFC_S.predict(Xtrain_OV)), decimals=4))\n",
    "print(\"Precision Training data:  \", np.round(precision_score(ytrain_OV, RFC_S.predict(Xtrain_OV)), decimals=4))\n",
    "print(\"----------------------------------------------------------------------\")\n",
    "print(\"Recall Test data:         \", np.round(recall_score(ytest, RFC_S.predict(Xtest)), decimals=4)) \n",
    "print(\"Precision Test data:      \", np.round(precision_score(ytest, RFC_S.predict(Xtest)), decimals=4))\n",
    "print(\"----------------------------------------------------------------------\")\n",
    "print(\"Confusion Matrix Test data\")\n",
    "print(confusion_matrix(ytest, RFC_S.predict(Xtest)))\n",
    "print(\"----------------------------------------------------------------------\")\n",
    "print(classification_report(ytest, RFC_S.predict(Xtest)))\n",
    "y_pred_proba = RFC_S.predict_proba(Xtest)[::,1]\n",
    "fpr, tpr, _ = metrics.roc_curve(ytest,  y_pred_RFC)\n",
    "auc = metrics.roc_auc_score(ytest, y_pred_RFC)\n",
    "plt.plot(fpr, tpr, label='Random Forest (auc = %0.2f)' % auc)\n",
    "plt.xlabel('False Positive Rate',color='grey', fontsize = 13)\n",
    "plt.ylabel('True Positive Rate',color='grey', fontsize = 13)\n",
    "plt.title('Receiver operating characteristic')\n",
    "plt.legend(loc=\"lower right\")\n",
    "plt.legend(loc=4)\n",
    "plt.plot([0, 1], [0, 1],'r--')\n",
    "plt.show()"
   ]
  },
  {
   "cell_type": "code",
   "execution_count": null,
   "metadata": {},
   "outputs": [],
   "source": []
  },
  {
   "cell_type": "code",
   "execution_count": null,
   "metadata": {},
   "outputs": [],
   "source": []
  },
  {
   "cell_type": "code",
   "execution_count": null,
   "metadata": {},
   "outputs": [],
   "source": []
  },
  {
   "cell_type": "code",
   "execution_count": 147,
   "metadata": {},
   "outputs": [
    {
     "name": "stdout",
     "output_type": "stream",
     "text": [
      "Pomiar czasu wykonania tego zadania\n",
      "Minut:  13.285562113920848\n"
     ]
    }
   ],
   "source": [
    "print('Pomiar czasu wykonania tego zadania')\n",
    "print('Minut: ',(time.time() - start_time)/60) ## koniec pomiaru czasu"
   ]
  }
 ],
 "metadata": {
  "kernelspec": {
   "display_name": "Python 3",
   "language": "python",
   "name": "python3"
  },
  "language_info": {
   "codemirror_mode": {
    "name": "ipython",
    "version": 3
   },
   "file_extension": ".py",
   "mimetype": "text/x-python",
   "name": "python",
   "nbconvert_exporter": "python",
   "pygments_lexer": "ipython3",
   "version": "3.7.4"
  }
 },
 "nbformat": 4,
 "nbformat_minor": 2
}
