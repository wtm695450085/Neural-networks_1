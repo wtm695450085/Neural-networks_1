{
 "cells": [
  {
   "cell_type": "markdown",
   "metadata": {},
   "source": [
    "# 5 klik: Feature Engineering PCA"
   ]
  },
  {
   "cell_type": "code",
   "execution_count": 1,
   "metadata": {},
   "outputs": [
    {
     "name": "stdout",
     "output_type": "stream",
     "text": [
      "(10000, 44)\n",
      "\n",
      "Index(['klik', 'CYF_baner_pozycja', 'CYF_strona_id', 'CYF_strona_domena',\n",
      "       'CYF_strona_kategoria', 'CYF_aplikacja_id', 'CYF_aplikacja_domena',\n",
      "       'CYF_aplikacja_kategoria', 'CYF_urz_id', 'CYF_urz_ip', 'CYF_urz_model',\n",
      "       'CYF_urz_typ', 'CYF_urz_polaczenie', 'CYF_kat1', 'CYF_kat2', 'CYF_kat3',\n",
      "       'CYF_kat4', 'CYF_kat5', 'CYF_kat6', 'CYF_kat7', 'CYF_kat8', 'CYF_kat9',\n",
      "       'CYF_data_godzina', 'CYF_KL_strona_id', 'CYF_KL_aplikacja_id',\n",
      "       'CYF_KL_aplikacja_domena', 'CYF_KL4_aplikacja_kategoria',\n",
      "       'CYF_KL0_aplikacja_kategoria', 'CYF_KL_kat3', 'CYF_KL_kat4',\n",
      "       'CYF_KL1_kat6', 'CYF_KL2_kat6', 'CYF_KL1_kat9', 'CYF_KL2_kat9',\n",
      "       'CYF_KL3_kat9', 'CYF_KL1_kat7', 'NZS1', 'NZS2', 'NZS3', 'NZS4', 'NZS5',\n",
      "       'NZS6', 'NZS7', 'NZS8'],\n",
      "      dtype='object')\n"
     ]
    },
    {
     "data": {
      "text/html": [
       "<div>\n",
       "<style scoped>\n",
       "    .dataframe tbody tr th:only-of-type {\n",
       "        vertical-align: middle;\n",
       "    }\n",
       "\n",
       "    .dataframe tbody tr th {\n",
       "        vertical-align: top;\n",
       "    }\n",
       "\n",
       "    .dataframe thead th {\n",
       "        text-align: right;\n",
       "    }\n",
       "</style>\n",
       "<table border=\"1\" class=\"dataframe\">\n",
       "  <thead>\n",
       "    <tr style=\"text-align: right;\">\n",
       "      <th></th>\n",
       "      <th>klik</th>\n",
       "      <th>CYF_baner_pozycja</th>\n",
       "      <th>CYF_strona_id</th>\n",
       "      <th>CYF_strona_domena</th>\n",
       "      <th>CYF_strona_kategoria</th>\n",
       "      <th>CYF_aplikacja_id</th>\n",
       "      <th>CYF_aplikacja_domena</th>\n",
       "      <th>CYF_aplikacja_kategoria</th>\n",
       "      <th>CYF_urz_id</th>\n",
       "      <th>CYF_urz_ip</th>\n",
       "      <th>...</th>\n",
       "      <th>CYF_KL3_kat9</th>\n",
       "      <th>CYF_KL1_kat7</th>\n",
       "      <th>NZS1</th>\n",
       "      <th>NZS2</th>\n",
       "      <th>NZS3</th>\n",
       "      <th>NZS4</th>\n",
       "      <th>NZS5</th>\n",
       "      <th>NZS6</th>\n",
       "      <th>NZS7</th>\n",
       "      <th>NZS8</th>\n",
       "    </tr>\n",
       "  </thead>\n",
       "  <tbody>\n",
       "    <tr>\n",
       "      <td>0</td>\n",
       "      <td>0</td>\n",
       "      <td>0</td>\n",
       "      <td>1773</td>\n",
       "      <td>3205</td>\n",
       "      <td>6</td>\n",
       "      <td>4718</td>\n",
       "      <td>134</td>\n",
       "      <td>4</td>\n",
       "      <td>307295</td>\n",
       "      <td>882768</td>\n",
       "      <td>...</td>\n",
       "      <td>0</td>\n",
       "      <td>0</td>\n",
       "      <td>7</td>\n",
       "      <td>2</td>\n",
       "      <td>0</td>\n",
       "      <td>2</td>\n",
       "      <td>2</td>\n",
       "      <td>-1</td>\n",
       "      <td>4</td>\n",
       "      <td>17</td>\n",
       "    </tr>\n",
       "    <tr>\n",
       "      <td>1</td>\n",
       "      <td>0</td>\n",
       "      <td>0</td>\n",
       "      <td>406</td>\n",
       "      <td>3944</td>\n",
       "      <td>2</td>\n",
       "      <td>4353</td>\n",
       "      <td>123</td>\n",
       "      <td>0</td>\n",
       "      <td>307295</td>\n",
       "      <td>665652</td>\n",
       "      <td>...</td>\n",
       "      <td>0</td>\n",
       "      <td>0</td>\n",
       "      <td>7</td>\n",
       "      <td>9</td>\n",
       "      <td>0</td>\n",
       "      <td>2</td>\n",
       "      <td>2</td>\n",
       "      <td>1</td>\n",
       "      <td>3</td>\n",
       "      <td>12</td>\n",
       "    </tr>\n",
       "    <tr>\n",
       "      <td>2</td>\n",
       "      <td>0</td>\n",
       "      <td>0</td>\n",
       "      <td>1156</td>\n",
       "      <td>3252</td>\n",
       "      <td>4</td>\n",
       "      <td>4353</td>\n",
       "      <td>123</td>\n",
       "      <td>0</td>\n",
       "      <td>307295</td>\n",
       "      <td>793161</td>\n",
       "      <td>...</td>\n",
       "      <td>0</td>\n",
       "      <td>0</td>\n",
       "      <td>7</td>\n",
       "      <td>9</td>\n",
       "      <td>0</td>\n",
       "      <td>2</td>\n",
       "      <td>2</td>\n",
       "      <td>1</td>\n",
       "      <td>3</td>\n",
       "      <td>12</td>\n",
       "    </tr>\n",
       "    <tr>\n",
       "      <td>3</td>\n",
       "      <td>0</td>\n",
       "      <td>1</td>\n",
       "      <td>2948</td>\n",
       "      <td>2050</td>\n",
       "      <td>22</td>\n",
       "      <td>4353</td>\n",
       "      <td>123</td>\n",
       "      <td>0</td>\n",
       "      <td>307295</td>\n",
       "      <td>873350</td>\n",
       "      <td>...</td>\n",
       "      <td>0</td>\n",
       "      <td>0</td>\n",
       "      <td>1</td>\n",
       "      <td>-1</td>\n",
       "      <td>1</td>\n",
       "      <td>1</td>\n",
       "      <td>2</td>\n",
       "      <td>2</td>\n",
       "      <td>2</td>\n",
       "      <td>7</td>\n",
       "    </tr>\n",
       "    <tr>\n",
       "      <td>4</td>\n",
       "      <td>0</td>\n",
       "      <td>0</td>\n",
       "      <td>1773</td>\n",
       "      <td>3205</td>\n",
       "      <td>6</td>\n",
       "      <td>1066</td>\n",
       "      <td>36</td>\n",
       "      <td>24</td>\n",
       "      <td>117056</td>\n",
       "      <td>1442509</td>\n",
       "      <td>...</td>\n",
       "      <td>0</td>\n",
       "      <td>0</td>\n",
       "      <td>7</td>\n",
       "      <td>2</td>\n",
       "      <td>0</td>\n",
       "      <td>2</td>\n",
       "      <td>2</td>\n",
       "      <td>0</td>\n",
       "      <td>4</td>\n",
       "      <td>17</td>\n",
       "    </tr>\n",
       "  </tbody>\n",
       "</table>\n",
       "<p>5 rows × 44 columns</p>\n",
       "</div>"
      ],
      "text/plain": [
       "   klik  CYF_baner_pozycja  CYF_strona_id  CYF_strona_domena  \\\n",
       "0     0                  0           1773               3205   \n",
       "1     0                  0            406               3944   \n",
       "2     0                  0           1156               3252   \n",
       "3     0                  1           2948               2050   \n",
       "4     0                  0           1773               3205   \n",
       "\n",
       "   CYF_strona_kategoria  CYF_aplikacja_id  CYF_aplikacja_domena  \\\n",
       "0                     6              4718                   134   \n",
       "1                     2              4353                   123   \n",
       "2                     4              4353                   123   \n",
       "3                    22              4353                   123   \n",
       "4                     6              1066                    36   \n",
       "\n",
       "   CYF_aplikacja_kategoria  CYF_urz_id  CYF_urz_ip  ...  CYF_KL3_kat9  \\\n",
       "0                        4      307295      882768  ...             0   \n",
       "1                        0      307295      665652  ...             0   \n",
       "2                        0      307295      793161  ...             0   \n",
       "3                        0      307295      873350  ...             0   \n",
       "4                       24      117056     1442509  ...             0   \n",
       "\n",
       "   CYF_KL1_kat7  NZS1  NZS2  NZS3  NZS4  NZS5  NZS6  NZS7  NZS8  \n",
       "0             0     7     2     0     2     2    -1     4    17  \n",
       "1             0     7     9     0     2     2     1     3    12  \n",
       "2             0     7     9     0     2     2     1     3    12  \n",
       "3             0     1    -1     1     1     2     2     2     7  \n",
       "4             0     7     2     0     2     2     0     4    17  \n",
       "\n",
       "[5 rows x 44 columns]"
      ]
     },
     "execution_count": 1,
     "metadata": {},
     "output_type": "execute_result"
    }
   ],
   "source": [
    "import pandas as pd\n",
    "import numpy as np\n",
    "import seaborn as sns\n",
    "import matplotlib.pyplot as plt\n",
    "%matplotlib inline\n",
    "\n",
    "df= pd.read_csv('/home/wojciech/Pulpit/4/kliki_uczenie2.csv',usecols=['klik', 'CYF_baner_pozycja', 'CYF_strona_id',\n",
    "       'CYF_strona_domena', 'CYF_strona_kategoria', 'CYF_aplikacja_id',\n",
    "       'CYF_aplikacja_domena', 'CYF_aplikacja_kategoria', 'CYF_urz_id',\n",
    "       'CYF_urz_ip', 'CYF_urz_model', 'CYF_urz_typ', 'CYF_urz_polaczenie',\n",
    "       'CYF_kat1', 'CYF_kat2', 'CYF_kat3', 'CYF_kat4', 'CYF_kat5', 'CYF_kat6',\n",
    "       'CYF_kat7', 'CYF_kat8', 'CYF_kat9', 'CYF_data_godzina',\n",
    "       'CYF_KL_strona_id', 'CYF_KL_aplikacja_id', 'CYF_KL_aplikacja_domena',\n",
    "       'CYF_KL4_aplikacja_kategoria', 'CYF_KL0_aplikacja_kategoria',\n",
    "       'CYF_KL_kat3', 'CYF_KL_kat4', 'CYF_KL1_kat6', 'CYF_KL2_kat6',\n",
    "       'CYF_KL1_kat9', 'CYF_KL2_kat9', 'CYF_KL3_kat9', 'CYF_KL1_kat7', 'NZS1',\n",
    "       'NZS2', 'NZS3', 'NZS4', 'NZS5', 'NZS6', 'NZS7', 'NZS8'],nrows=10000)\n",
    "print(df.shape)\n",
    "print()\n",
    "print(df.columns)\n",
    "df.head(5)"
   ]
  },
  {
   "cell_type": "code",
   "execution_count": 2,
   "metadata": {},
   "outputs": [
    {
     "data": {
      "text/plain": [
       "klik                           int64\n",
       "CYF_baner_pozycja              int64\n",
       "CYF_strona_id                  int64\n",
       "CYF_strona_domena              int64\n",
       "CYF_strona_kategoria           int64\n",
       "CYF_aplikacja_id               int64\n",
       "CYF_aplikacja_domena           int64\n",
       "CYF_aplikacja_kategoria        int64\n",
       "CYF_urz_id                     int64\n",
       "CYF_urz_ip                     int64\n",
       "CYF_urz_model                  int64\n",
       "CYF_urz_typ                    int64\n",
       "CYF_urz_polaczenie             int64\n",
       "CYF_kat1                       int64\n",
       "CYF_kat2                       int64\n",
       "CYF_kat3                       int64\n",
       "CYF_kat4                       int64\n",
       "CYF_kat5                       int64\n",
       "CYF_kat6                       int64\n",
       "CYF_kat7                       int64\n",
       "CYF_kat8                       int64\n",
       "CYF_kat9                       int64\n",
       "CYF_data_godzina               int64\n",
       "CYF_KL_strona_id               int64\n",
       "CYF_KL_aplikacja_id            int64\n",
       "CYF_KL_aplikacja_domena        int64\n",
       "CYF_KL4_aplikacja_kategoria    int64\n",
       "CYF_KL0_aplikacja_kategoria    int64\n",
       "CYF_KL_kat3                    int64\n",
       "CYF_KL_kat4                    int64\n",
       "CYF_KL1_kat6                   int64\n",
       "CYF_KL2_kat6                   int64\n",
       "CYF_KL1_kat9                   int64\n",
       "CYF_KL2_kat9                   int64\n",
       "CYF_KL3_kat9                   int64\n",
       "CYF_KL1_kat7                   int64\n",
       "NZS1                           int64\n",
       "NZS2                           int64\n",
       "NZS3                           int64\n",
       "NZS4                           int64\n",
       "NZS5                           int64\n",
       "NZS6                           int64\n",
       "NZS7                           int64\n",
       "NZS8                           int64\n",
       "dtype: object"
      ]
     },
     "execution_count": 2,
     "metadata": {},
     "output_type": "execute_result"
    }
   ],
   "source": [
    "df.dtypes"
   ]
  },
  {
   "cell_type": "markdown",
   "metadata": {},
   "source": [
    "### <span style=\"color:blue\">Podział na zbiór testowy i wynikowy</span>"
   ]
  },
  {
   "cell_type": "code",
   "execution_count": 3,
   "metadata": {},
   "outputs": [],
   "source": [
    "y = df['klik']\n",
    "X = df.drop('klik', axis=1)"
   ]
  },
  {
   "cell_type": "code",
   "execution_count": 4,
   "metadata": {},
   "outputs": [
    {
     "name": "stdout",
     "output_type": "stream",
     "text": [
      "Zbiór X treningowy:  (6700, 43)\n",
      "Zbiór X testowy:     (3300, 43)\n",
      "Zbiór y treningowy:  (6700,)\n",
      "Zbiór y testowy:     (3300,)\n"
     ]
    }
   ],
   "source": [
    "from sklearn.model_selection import train_test_split \n",
    "Xtrain, Xtest, ytrain, ytest = train_test_split(X,y, test_size=0.33, stratify = y, random_state = 148)\n",
    "\n",
    "print ('Zbiór X treningowy: ',Xtrain.shape)\n",
    "print ('Zbiór X testowy:    ', Xtest.shape)\n",
    "print ('Zbiór y treningowy: ', ytrain.shape)\n",
    "print ('Zbiór y testowy:    ', ytest.shape)"
   ]
  },
  {
   "cell_type": "markdown",
   "metadata": {},
   "source": [
    "### <span style=\"color:blue\">OVERSAMPLING</span>"
   ]
  },
  {
   "cell_type": "code",
   "execution_count": 5,
   "metadata": {},
   "outputs": [
    {
     "name": "stdout",
     "output_type": "stream",
     "text": [
      "ytrain = 0:  5548\n",
      "ytrain = 1:  1152\n"
     ]
    }
   ],
   "source": [
    "print(\"ytrain = 0: \", sum(ytrain == 0))\n",
    "print(\"ytrain = 1: \", sum(ytrain == 1))"
   ]
  },
  {
   "cell_type": "code",
   "execution_count": 6,
   "metadata": {},
   "outputs": [
    {
     "name": "stdout",
     "output_type": "stream",
     "text": [
      "Ilość -0 klik na -1 klik:  5\n"
     ]
    }
   ],
   "source": [
    "Proporcja = sum(ytrain == 0) / sum(ytrain == 1) \n",
    "Proporcja = np.round(Proporcja, decimals=0)\n",
    "Proporcja = Proporcja.astype(int)\n",
    "print('Ilość -0 klik na -1 klik: ', Proporcja)"
   ]
  },
  {
   "cell_type": "code",
   "execution_count": 7,
   "metadata": {},
   "outputs": [
    {
     "data": {
      "text/plain": [
       "5760"
      ]
     },
     "execution_count": 7,
     "metadata": {},
     "output_type": "execute_result"
    }
   ],
   "source": [
    "ytrain_OV = pd.concat([ytrain[ytrain==1]] * Proporcja, axis = 0) \n",
    "ytrain_OV.count()"
   ]
  },
  {
   "cell_type": "markdown",
   "metadata": {},
   "source": [
    "Powiękrzyliśmy ilość zmiennych wynikowych 1. Teraz mamy tę samą liczbę wierszy zmiennych wynikowych i zmiennych niezależnych. Teraz wprowadzamy nowe, dodatkowe zmienne 1 do zbioru treningowego."
   ]
  },
  {
   "cell_type": "code",
   "execution_count": 8,
   "metadata": {},
   "outputs": [
    {
     "data": {
      "text/plain": [
       "5760"
      ]
     },
     "execution_count": 8,
     "metadata": {},
     "output_type": "execute_result"
    }
   ],
   "source": [
    "Xtrain_OV = pd.concat([Xtrain.loc[ytrain==1, :]] * Proporcja, axis = 0)\n",
    "ytrain_OV.count()"
   ]
  },
  {
   "cell_type": "code",
   "execution_count": 9,
   "metadata": {},
   "outputs": [
    {
     "name": "stdout",
     "output_type": "stream",
     "text": [
      "ilość elementów w zbiorze ytrain:      6700\n",
      "ilość elementów w zbiorze ytrain_OV:   12460\n"
     ]
    }
   ],
   "source": [
    "ytrain_OV = pd.concat([ytrain, ytrain_OV], axis = 0).reset_index(drop = True)\n",
    "Xtrain_OV = pd.concat([Xtrain, Xtrain_OV], axis = 0).reset_index(drop = True)\n",
    "\n",
    "#print(\"ilość elementów w zbiorze Xtrain:     \", Xtrain.CYF_data_godzina.count())\n",
    "#print(\"ilość elementów w zbiorze Xtrain_OV:  \", Xtrain_OV.CYF_data_godzina.count())\n",
    "print(\"ilość elementów w zbiorze ytrain:     \", ytrain.count())\n",
    "print(\"ilość elementów w zbiorze ytrain_OV:  \", ytrain_OV.count())"
   ]
  },
  {
   "cell_type": "markdown",
   "metadata": {},
   "source": [
    "Poziom zbilansowania zbioru wynikowego:"
   ]
  },
  {
   "cell_type": "code",
   "execution_count": 10,
   "metadata": {},
   "outputs": [
    {
     "data": {
      "text/plain": [
       "<matplotlib.axes._subplots.AxesSubplot at 0x7f7940290810>"
      ]
     },
     "execution_count": 10,
     "metadata": {},
     "output_type": "execute_result"
    },
    {
     "data": {
      "image/png": "[encoded data removed]",
      "text/plain": [
       "<Figure size 432x288 with 1 Axes>"
      ]
     },
     "metadata": {},
     "output_type": "display_data"
    }
   ],
   "source": [
    "ytrain_OV.value_counts(dropna = False, normalize=True).plot(kind='pie')"
   ]
  },
  {
   "cell_type": "code",
   "execution_count": 11,
   "metadata": {},
   "outputs": [
    {
     "data": {
      "text/plain": [
       "CYF_baner_pozycja              0\n",
       "CYF_strona_id                  0\n",
       "CYF_strona_domena              0\n",
       "CYF_strona_kategoria           0\n",
       "CYF_aplikacja_id               0\n",
       "CYF_aplikacja_domena           0\n",
       "CYF_aplikacja_kategoria        0\n",
       "CYF_urz_id                     0\n",
       "CYF_urz_ip                     0\n",
       "CYF_urz_model                  0\n",
       "CYF_urz_typ                    0\n",
       "CYF_urz_polaczenie             0\n",
       "CYF_kat1                       0\n",
       "CYF_kat2                       0\n",
       "CYF_kat3                       0\n",
       "CYF_kat4                       0\n",
       "CYF_kat5                       0\n",
       "CYF_kat6                       0\n",
       "CYF_kat7                       0\n",
       "CYF_kat8                       0\n",
       "CYF_kat9                       0\n",
       "CYF_data_godzina               0\n",
       "CYF_KL_strona_id               0\n",
       "CYF_KL_aplikacja_id            0\n",
       "CYF_KL_aplikacja_domena        0\n",
       "CYF_KL4_aplikacja_kategoria    0\n",
       "CYF_KL0_aplikacja_kategoria    0\n",
       "CYF_KL_kat3                    0\n",
       "CYF_KL_kat4                    0\n",
       "CYF_KL1_kat6                   0\n",
       "CYF_KL2_kat6                   0\n",
       "CYF_KL1_kat9                   0\n",
       "CYF_KL2_kat9                   0\n",
       "CYF_KL3_kat9                   0\n",
       "CYF_KL1_kat7                   0\n",
       "NZS1                           0\n",
       "NZS2                           0\n",
       "NZS3                           0\n",
       "NZS4                           0\n",
       "NZS5                           0\n",
       "NZS6                           0\n",
       "NZS7                           0\n",
       "NZS8                           0\n",
       "dtype: int64"
      ]
     },
     "execution_count": 11,
     "metadata": {},
     "output_type": "execute_result"
    }
   ],
   "source": [
    "Xtest.isnull().sum()"
   ]
  },
  {
   "cell_type": "markdown",
   "metadata": {},
   "source": [
    "### Normalizacja danych (standaryzacja)\n",
    "\n",
    "PCA działa najlepiej ze znormalizowanym zestawem funkcji. Przeprowadzimy standardową normalizację skalarną, aby znormalizować nasz zestaw funkcji. "
   ]
  },
  {
   "cell_type": "code",
   "execution_count": 12,
   "metadata": {},
   "outputs": [],
   "source": [
    "from sklearn.preprocessing import StandardScaler\n",
    "\n",
    "sc = StandardScaler()\n",
    "Xtrain = sc.fit_transform(Xtrain)\n",
    "Xtest = sc.transform(Xtest)"
   ]
  },
  {
   "cell_type": "markdown",
   "metadata": {},
   "source": [
    "### BoostCat"
   ]
  },
  {
   "cell_type": "code",
   "execution_count": 14,
   "metadata": {},
   "outputs": [
    {
     "name": "stdout",
     "output_type": "stream",
     "text": [
      "0:\tlearn: 0.6287043\ttotal: 33ms\tremaining: 2.21s\n",
      "1:\tlearn: 0.5832906\ttotal: 71.4ms\tremaining: 2.36s\n",
      "2:\tlearn: 0.5551828\ttotal: 109ms\tremaining: 2.36s\n",
      "3:\tlearn: 0.5360305\ttotal: 143ms\tremaining: 2.29s\n",
      "4:\tlearn: 0.5292613\ttotal: 175ms\tremaining: 2.21s\n",
      "5:\tlearn: 0.5163919\ttotal: 212ms\tremaining: 2.19s\n",
      "6:\tlearn: 0.5076527\ttotal: 250ms\tremaining: 2.17s\n",
      "7:\tlearn: 0.4988518\ttotal: 295ms\tremaining: 2.21s\n",
      "8:\tlearn: 0.4900057\ttotal: 335ms\tremaining: 2.2s\n",
      "9:\tlearn: 0.4739896\ttotal: 373ms\tremaining: 2.16s\n",
      "10:\tlearn: 0.4641634\ttotal: 409ms\tremaining: 2.12s\n",
      "11:\tlearn: 0.4576264\ttotal: 444ms\tremaining: 2.07s\n",
      "12:\tlearn: 0.4490268\ttotal: 491ms\tremaining: 2.08s\n",
      "13:\tlearn: 0.4409827\ttotal: 534ms\tremaining: 2.06s\n",
      "14:\tlearn: 0.4296439\ttotal: 574ms\tremaining: 2.03s\n",
      "15:\tlearn: 0.4148181\ttotal: 610ms\tremaining: 1.98s\n",
      "16:\tlearn: 0.4038509\ttotal: 646ms\tremaining: 1.94s\n",
      "17:\tlearn: 0.3952697\ttotal: 681ms\tremaining: 1.89s\n",
      "18:\tlearn: 0.3843595\ttotal: 727ms\tremaining: 1.87s\n",
      "19:\tlearn: 0.3754215\ttotal: 774ms\tremaining: 1.86s\n",
      "20:\tlearn: 0.3655996\ttotal: 811ms\tremaining: 1.81s\n",
      "21:\tlearn: 0.3573602\ttotal: 847ms\tremaining: 1.77s\n",
      "22:\tlearn: 0.3499277\ttotal: 883ms\tremaining: 1.73s\n",
      "23:\tlearn: 0.3423409\ttotal: 916ms\tremaining: 1.68s\n",
      "24:\tlearn: 0.3376430\ttotal: 952ms\tremaining: 1.64s\n",
      "25:\tlearn: 0.3307291\ttotal: 1s\tremaining: 1.62s\n",
      "26:\tlearn: 0.3233174\ttotal: 1.05s\tremaining: 1.59s\n",
      "27:\tlearn: 0.3147625\ttotal: 1.08s\tremaining: 1.55s\n",
      "28:\tlearn: 0.3083210\ttotal: 1.12s\tremaining: 1.5s\n",
      "29:\tlearn: 0.3019817\ttotal: 1.16s\tremaining: 1.46s\n",
      "30:\tlearn: 0.2977533\ttotal: 1.2s\tremaining: 1.44s\n",
      "31:\tlearn: 0.2936950\ttotal: 1.24s\tremaining: 1.4s\n",
      "32:\tlearn: 0.2889915\ttotal: 1.28s\tremaining: 1.36s\n",
      "33:\tlearn: 0.2835417\ttotal: 1.32s\tremaining: 1.32s\n",
      "34:\tlearn: 0.2791088\ttotal: 1.35s\tremaining: 1.27s\n",
      "35:\tlearn: 0.2742398\ttotal: 1.4s\tremaining: 1.24s\n",
      "36:\tlearn: 0.2704385\ttotal: 1.44s\tremaining: 1.21s\n",
      "37:\tlearn: 0.2651392\ttotal: 1.47s\tremaining: 1.16s\n",
      "38:\tlearn: 0.2601021\ttotal: 1.51s\tremaining: 1.12s\n",
      "39:\tlearn: 0.2563453\ttotal: 1.54s\tremaining: 1.08s\n",
      "40:\tlearn: 0.2533906\ttotal: 1.58s\tremaining: 1.04s\n",
      "41:\tlearn: 0.2500625\ttotal: 1.61s\tremaining: 999ms\n",
      "42:\tlearn: 0.2449367\ttotal: 1.67s\tremaining: 971ms\n",
      "43:\tlearn: 0.2414439\ttotal: 1.7s\tremaining: 930ms\n",
      "44:\tlearn: 0.2375520\ttotal: 1.74s\tremaining: 890ms\n",
      "45:\tlearn: 0.2337140\ttotal: 1.78s\tremaining: 854ms\n",
      "46:\tlearn: 0.2300659\ttotal: 1.82s\tremaining: 814ms\n",
      "47:\tlearn: 0.2281158\ttotal: 1.87s\tremaining: 779ms\n",
      "48:\tlearn: 0.2248704\ttotal: 1.9s\tremaining: 737ms\n",
      "49:\tlearn: 0.2219884\ttotal: 1.94s\tremaining: 697ms\n",
      "50:\tlearn: 0.2178883\ttotal: 1.97s\tremaining: 657ms\n",
      "51:\tlearn: 0.2142423\ttotal: 2.01s\tremaining: 618ms\n",
      "52:\tlearn: 0.2102710\ttotal: 2.05s\tremaining: 581ms\n",
      "53:\tlearn: 0.2057857\ttotal: 2.1s\tremaining: 546ms\n",
      "54:\tlearn: 0.2000547\ttotal: 2.14s\tremaining: 506ms\n",
      "55:\tlearn: 0.1978093\ttotal: 2.17s\tremaining: 466ms\n",
      "56:\tlearn: 0.1945921\ttotal: 2.21s\tremaining: 427ms\n",
      "57:\tlearn: 0.1929579\ttotal: 2.25s\tremaining: 387ms\n",
      "58:\tlearn: 0.1893103\ttotal: 2.29s\tremaining: 349ms\n",
      "59:\tlearn: 0.1862319\ttotal: 2.34s\tremaining: 312ms\n",
      "60:\tlearn: 0.1844186\ttotal: 2.37s\tremaining: 272ms\n",
      "61:\tlearn: 0.1832101\ttotal: 2.4s\tremaining: 232ms\n",
      "62:\tlearn: 0.1793858\ttotal: 2.44s\tremaining: 194ms\n",
      "63:\tlearn: 0.1770444\ttotal: 2.48s\tremaining: 155ms\n",
      "64:\tlearn: 0.1735298\ttotal: 2.52s\tremaining: 116ms\n",
      "65:\tlearn: 0.1702964\ttotal: 2.57s\tremaining: 77.8ms\n",
      "66:\tlearn: 0.1669113\ttotal: 2.61s\tremaining: 39ms\n",
      "67:\tlearn: 0.1644129\ttotal: 2.65s\tremaining: 0us\n",
      "\n",
      "========================================================\n",
      " Results from Random Search \n",
      "========================================================\n",
      "\n",
      " The best estimator across ALL searched params:\n",
      " <catboost.core.CatBoostClassifier object at 0x7f793fea8b90>\n",
      "\n",
      " The best score across ALL searched params:\n",
      " 0.8666131621187801\n",
      "\n",
      " The best parameters across ALL searched params:\n",
      " {'depth': 9, 'iterations': 68, 'learning_rate': 0.7609471587518951}\n",
      "\n",
      " ========================================================\n"
     ]
    }
   ],
   "source": [
    "import warnings\n",
    "warnings.filterwarnings(\"ignore\")\n",
    "\n",
    "    # load libraries\n",
    "from sklearn import datasets\n",
    "from sklearn.model_selection import train_test_split\n",
    "from sklearn.model_selection import RandomizedSearchCV\n",
    "from scipy.stats import uniform as sp_randFloat\n",
    "from scipy.stats import randint as sp_randInt\n",
    "from catboost import CatBoostClassifier\n",
    "\n",
    "\n",
    "\n",
    "model = CatBoostClassifier()\n",
    "parameters = {'depth'         : sp_randInt(4, 10),\n",
    "                  'learning_rate' : sp_randFloat(),\n",
    "                  'iterations'    : sp_randInt(10, 100)\n",
    "                 }\n",
    "\n",
    "randm = RandomizedSearchCV(estimator=model, param_distributions = parameters,\n",
    "                               cv = 2, n_iter = 10, n_jobs=-1)\n",
    "randm.fit(Xtrain_OV, ytrain_OV)\n",
    "\n",
    "    # Results from Random Search\n",
    "print(\"\\n========================================================\")\n",
    "print(\" Results from Random Search \" )\n",
    "print(\"========================================================\")\n",
    "print(\"\\n The best estimator across ALL searched params:\\n\",\n",
    "          randm.best_estimator_)\n",
    "print(\"\\n The best score across ALL searched params:\\n\",\n",
    "          randm.best_score_)\n",
    "print(\"\\n The best parameters across ALL searched params:\\n\",\n",
    "          randm.best_params_)\n",
    "print(\"\\n ========================================================\")"
   ]
  },
  {
   "cell_type": "code",
   "execution_count": null,
   "metadata": {},
   "outputs": [],
   "source": []
  },
  {
   "cell_type": "code",
   "execution_count": null,
   "metadata": {},
   "outputs": [],
   "source": []
  },
  {
   "cell_type": "code",
   "execution_count": null,
   "metadata": {},
   "outputs": [],
   "source": []
  },
  {
   "cell_type": "code",
   "execution_count": null,
   "metadata": {},
   "outputs": [],
   "source": []
  },
  {
   "cell_type": "code",
   "execution_count": null,
   "metadata": {},
   "outputs": [],
   "source": []
  },
  {
   "cell_type": "code",
   "execution_count": null,
   "metadata": {},
   "outputs": [],
   "source": []
  },
  {
   "cell_type": "code",
   "execution_count": null,
   "metadata": {},
   "outputs": [],
   "source": []
  },
  {
   "cell_type": "code",
   "execution_count": null,
   "metadata": {},
   "outputs": [],
   "source": []
  },
  {
   "cell_type": "code",
   "execution_count": null,
   "metadata": {},
   "outputs": [],
   "source": []
  },
  {
   "cell_type": "code",
   "execution_count": null,
   "metadata": {},
   "outputs": [],
   "source": []
  },
  {
   "cell_type": "code",
   "execution_count": null,
   "metadata": {},
   "outputs": [],
   "source": []
  },
  {
   "cell_type": "code",
   "execution_count": null,
   "metadata": {},
   "outputs": [],
   "source": []
  },
  {
   "cell_type": "code",
   "execution_count": null,
   "metadata": {},
   "outputs": [],
   "source": []
  },
  {
   "cell_type": "code",
   "execution_count": null,
   "metadata": {},
   "outputs": [],
   "source": []
  },
  {
   "cell_type": "code",
   "execution_count": null,
   "metadata": {},
   "outputs": [],
   "source": []
  },
  {
   "cell_type": "code",
   "execution_count": null,
   "metadata": {},
   "outputs": [],
   "source": []
  },
  {
   "cell_type": "code",
   "execution_count": null,
   "metadata": {},
   "outputs": [],
   "source": []
  },
  {
   "cell_type": "code",
   "execution_count": null,
   "metadata": {},
   "outputs": [],
   "source": []
  },
  {
   "cell_type": "code",
   "execution_count": null,
   "metadata": {},
   "outputs": [],
   "source": []
  },
  {
   "cell_type": "code",
   "execution_count": null,
   "metadata": {},
   "outputs": [],
   "source": []
  },
  {
   "cell_type": "code",
   "execution_count": null,
   "metadata": {},
   "outputs": [],
   "source": []
  },
  {
   "cell_type": "code",
   "execution_count": null,
   "metadata": {},
   "outputs": [],
   "source": []
  },
  {
   "cell_type": "code",
   "execution_count": null,
   "metadata": {},
   "outputs": [],
   "source": []
  },
  {
   "cell_type": "code",
   "execution_count": null,
   "metadata": {},
   "outputs": [],
   "source": []
  },
  {
   "cell_type": "code",
   "execution_count": null,
   "metadata": {},
   "outputs": [],
   "source": []
  },
  {
   "cell_type": "code",
   "execution_count": null,
   "metadata": {},
   "outputs": [],
   "source": []
  },
  {
   "cell_type": "code",
   "execution_count": null,
   "metadata": {},
   "outputs": [],
   "source": []
  },
  {
   "cell_type": "code",
   "execution_count": null,
   "metadata": {},
   "outputs": [],
   "source": []
  },
  {
   "cell_type": "code",
   "execution_count": null,
   "metadata": {},
   "outputs": [],
   "source": []
  },
  {
   "cell_type": "code",
   "execution_count": null,
   "metadata": {},
   "outputs": [],
   "source": []
  },
  {
   "cell_type": "code",
   "execution_count": null,
   "metadata": {},
   "outputs": [],
   "source": []
  },
  {
   "cell_type": "code",
   "execution_count": null,
   "metadata": {},
   "outputs": [],
   "source": []
  },
  {
   "cell_type": "code",
   "execution_count": null,
   "metadata": {},
   "outputs": [],
   "source": []
  },
  {
   "cell_type": "code",
   "execution_count": null,
   "metadata": {},
   "outputs": [],
   "source": []
  },
  {
   "cell_type": "code",
   "execution_count": null,
   "metadata": {},
   "outputs": [],
   "source": []
  },
  {
   "cell_type": "code",
   "execution_count": null,
   "metadata": {},
   "outputs": [],
   "source": []
  },
  {
   "cell_type": "code",
   "execution_count": null,
   "metadata": {},
   "outputs": [],
   "source": []
  }
 ],
 "metadata": {
  "kernelspec": {
   "display_name": "Python 3",
   "language": "python",
   "name": "python3"
  },
  "language_info": {
   "codemirror_mode": {
    "name": "ipython",
    "version": 3
   },
   "file_extension": ".py",
   "mimetype": "text/x-python",
   "name": "python",
   "nbconvert_exporter": "python",
   "pygments_lexer": "ipython3",
   "version": "3.7.4"
  }
 },
 "nbformat": 4,
 "nbformat_minor": 2
}
